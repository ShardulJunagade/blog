{
 "cells": [
  {
   "cell_type": "markdown",
   "id": "316420ea",
   "metadata": {},
   "source": [
    "---\n",
    "title: \"ML Publication Trends\"\n",
    "author: \"Devansh Lodha\"\n",
    "date: \"2025-04-13\"\n",
    "description: \"Analysis of Publication Trends in Top AI Conferences (2006-2024)\"\n",
    "categories: [ml publications, data analysis, data science]\n",
    "image: \"ai_publications.png\"\n",
    "jupyter: python3\n",
    "format:\n",
    "  html:\n",
    "    code-fold: true\n",
    "    code-tools: true\n",
    "---"
   ]
  },
  {
   "cell_type": "markdown",
   "id": "da8e3624",
   "metadata": {},
   "source": [
    "**CS 328 Writing Assignment - 2025**\n",
    "\n",
    "**Group Members:** Devansh Lodha (23110091), Tejas Lohia (23110335), Mohit (23110207), Tanishq Chaudhari (23110329), Shardul Junagade (23110297)\n",
    "\n",
    "## 1. Introduction\n",
    "\n",
    "The field of Artificial Intelligence (AI) has experienced exponential growth over the past two decades. Tracking publications at top-tier Machine Learning (ML) conferences like NeurIPS, ICML, and ICLR provides a valuable lens through which to observe this growth, identify leading institutions and countries, and understand shifting trends, such as the increasing role of industry research.\n",
    "\n",
    "This report analyzes a dataset compiling paper titles, authors, and affiliations from NeurIPS (2006-2024), ICML (2017-2024), and ICLR (2018-2024, excluding 2020). The primary challenge lies in the unstructured nature of the original affiliation data. To address this, a Large Language Model (LLM) approach was employed to extract and standardize institution names, countries, and affiliation types (Academia/Industry).\n",
    "\n",
    "The analysis follows the structure outlined in the assignment:\n",
    "1.  Summarize the prepared data and provide an overview using visualizations.\n",
    "2.  Posit hypotheses regarding growth, geographic shifts, industry involvement, and research concentration.\n",
    "3.  Quantify and analyze the data to settle these hypotheses.\n",
    "4.  Discuss the findings, limitations, and conclusions.\n",
    "\n",
    "All analyses and visualizations were performed using Python with pandas for data manipulation and Plotly for interactive plotting."
   ]
  },
  {
   "cell_type": "code",
   "execution_count": null,
   "id": "639636d5",
   "metadata": {},
   "outputs": [],
   "source": [
    "import pandas as pd\n",
    "import plotly.io as pio\n",
    "import plotly.express as px\n",
    "from sklearn.cluster import KMeans \n",
    "from sklearn.preprocessing import StandardScaler \n",
    "from sklearn.decomposition import PCA\n",
    "\n",
    "# Plotly setup for notebook display\n",
    "pio.renderers.default = \"plotly_mimetype+notebook_connected\"\n",
    "pio.templates.default = \"plotly_white\""
   ]
  },
  {
   "cell_type": "markdown",
   "id": "33bf8441",
   "metadata": {},
   "source": [
    "## 2. Data Loading and Affiliation Processing\n",
    "\n",
    "The analysis begins with the raw dataset containing publication metadata. A critical challenge is the `Affiliation` column, which contains unstructured, highly variable text strings. Examples include:\n",
    "\n",
    "*   `\"Dept. of Computer Science, Stanford University, CA, USA and Google Research\"`\n",
    "*   `\"MIT\"`\n",
    "*   `\"Institute for Neuroinformatics, University of Zurich and ETH Zurich\"`\n",
    "*   `\"Tsinghua University\"`\n",
    "\n",
    "Direct analysis based on this raw text is infeasible due to inconsistency, ambiguity (e.g., \"MIT\"), and the presence of multiple institutions within single strings. To enable meaningful analysis of institutional and geographic trends, we need to extract structured information:\n",
    "\n",
    "1.  **Standardized Institution Name:** Map variations to a common name (e.g., \"MIT\" -> \"Massachusetts Institute of Technology\", \"Google Brain\" -> \"Google\").\n",
    "2.  **Country:** Identify or infer the country for each institution.\n",
    "3.  **Type:** Classify the institution as \"Academia\" or \"Industry\".\n",
    "\n",
    "Given the scale (12,887 unique affiliations) and complexity, a Large Language Model (LLM) approach was chosen for this extraction task."
   ]
  },
  {
   "cell_type": "code",
   "execution_count": null,
   "id": "98478d89",
   "metadata": {},
   "outputs": [],
   "source": [
    "# Load the RAW dataset\n",
    "df_raw = pd.read_csv('papers.csv')\n",
    "\n",
    "print(\"Raw DataFrame shape:\", df_raw.shape)\n",
    "print(\"Number of unique affiliations:\", df_raw['Affiliation'].nunique())\n",
    "df_raw.head()"
   ]
  },
  {
   "cell_type": "markdown",
   "id": "6963832e",
   "metadata": {},
   "source": [
    "### 2.1 LLM-Based Information Extraction Methodology\n",
    "\n",
    "We utilize the `mistralai/Mistral-Small-24B-Instruct-2501` model via the vLLM inference engine for efficient batch processing. The core idea is to provide each unique affiliation string to the LLM within a carefully crafted prompt, instructing it to return a structured JSON list containing the desired information for all institutions mentioned.\n",
    "\n",
    "**Steps We Followed:**\n",
    "\n",
    "1.  **Identify Unique Affiliations:** Extract the unique non-null affiliation strings from the raw data.\n",
    "2.  **Prompt Engineering:** Develop a detailed prompt template that:\n",
    "    *   Clearly defines the task (extract institution, country, type).\n",
    "    *   Instructs the model to handle multiple institutions per string.\n",
    "    *   Provides examples of desired normalization (e.g., MIT, Google variations).\n",
    "    *   Specifies the output format as a JSON list of objects (`[{ \"institution\": ..., \"country\": ..., \"type\": ... }, ...]`).\n",
    "    *   Requests country inference where possible, using `null` if uncertain.\n",
    "    *   Uses `TEMPERATURE=0.0` for deterministic output suitable for extraction.\n",
    "    *   *(The final prompt template is shown within the code cell below).*\n",
    "3.  **Batch Inference (vLLM):** Generate responses for all unique affiliations in batches using vLLM for performance. *(Note: Running the next code cell required significant GPU resources (like an A100 40GB used via Ola Krutim credits offerred to IIT Gandhinagar) and the vLLM library).*\n",
    "4.  **Parsing and Validation:** Parse the LLM's text output as JSON. Validate that the output is a list of dictionaries, with each dictionary containing the required keys. Store the parsed list, the raw model output, and a parse status for each affiliation.\n",
    "5.  **Mapping and Exploding:** Map the structured results back to the original DataFrame and then use the pandas `explode` function to create one row per author-institution pair."
   ]
  },
  {
   "cell_type": "code",
   "execution_count": null,
   "id": "c5fd426e",
   "metadata": {},
   "outputs": [],
   "source": [
    "# Import necessary libraries for this block assuming seperate execution\n",
    "import pandas as pd\n",
    "import json\n",
    "from vllm import LLM, SamplingParams\n",
    "\n",
    "# Configuration\n",
    "MODEL_NAME = \"mistralai/Mistral-Small-24B-Instruct-2501\" # Your specified model\n",
    "TENSOR_PARALLEL_SIZE = 1\n",
    "MAX_NEW_TOKENS = 800 # Increased for potentially long JSON lists\n",
    "TEMPERATURE = 0.0\n",
    "GPU_MEMORY_UTILIZATION = 0.9 # Adjust if needed\n",
    "\n",
    "# Get Unique Affiliations\n",
    "unique_affiliations = df_raw['Affiliation'].dropna().unique().tolist()\n",
    "\n",
    "# Define Prompt Template\n",
    "# Using f-strings requires escaping the literal braces in the JSON examples with double braces {{ }}\n",
    "PROMPT_TEMPLATE = \"\"\"Your task is to analyze the affiliation string provided and extract detailed information about all mentioned institutions.\n",
    "\n",
    "Follow these instructions carefully:\n",
    "1.  Identify all distinct institutions mentioned in the affiliation string.\n",
    "2.  For each institution, determine its full standardized name, its country, and its type (\"Academia\" or \"Industry\").\n",
    "3.  **Normalization:** Standardize common institution names. For example:\n",
    "    *   \"MIT\", \"M.I.T.\" should become \"Massachusetts Institute of Technology\".\n",
    "    *   \"Google Research\", \"Google Brain\", \"DeepMind\" should become \"Google\".\n",
    "    *   \"UC Berkeley\" should become \"University of California, Berkeley\".\n",
    "    *   Use the full official name where possible.\n",
    "4.  **Country Inference:** If the country is not explicitly mentioned, try to infer it from the institution name, city, or state. If the country cannot be determined reliably, use `null`.\n",
    "5.  **Output Format:** Return the information as a **JSON list**. Each element in the list should be a JSON object containing the keys \"institution\", \"country\", and \"type\" for one identified institution.\n",
    "6.  **Output ONLY the JSON list**, nothing else before or after.\n",
    "\n",
    "Example 1:\n",
    "Affiliation: \"Dept. of Computer Science, Stanford University, CA, USA and Google Research\"\n",
    "JSON Output:\n",
    "[\n",
    "  {{\"institution\": \"Stanford University\", \"country\": \"USA\", \"type\": \"Academia\"}},\n",
    "  {{\"institution\": \"Google\", \"country\": \"USA\", \"type\": \"Industry\"}}\n",
    "]\n",
    "\n",
    "Example 2:\n",
    "Affiliation: \"Université de Montréal, Mila - Quebec AI Institute\"\n",
    "JSON Output:\n",
    "[\n",
    "  {{\"institution\": \"Université de Montréal\", \"country\": \"Canada\", \"type\": \"Academia\"}},\n",
    "  {{\"institution\": \"Mila - Quebec AI Institute\", \"country\": \"Canada\", \"type\": \"Academia\"}}\n",
    "]\n",
    "\n",
    "Example 3:\n",
    "Affiliation: \"Vrije Universiteit Brussel\"\n",
    "JSON Output:\n",
    "[\n",
    "  {{\"institution\": \"Vrije Universiteit Brussel\", \"country\": \"Belgium\", \"type\": \"Academia\"}}\n",
    "]\n",
    "\n",
    "Now, analyze the following affiliation:\n",
    "\n",
    "Affiliation: \"{affiliation}\"\n",
    "\n",
    "JSON Output:\n",
    "\"\"\"\n",
    "\n",
    "# Prepare Prompts\n",
    "prompts = [PROMPT_TEMPLATE.format(affiliation=aff) for aff in unique_affiliations]\n",
    "\n",
    "# Initialize vLLM\n",
    "\n",
    "llm = LLM(\n",
    "    model=MODEL_NAME,\n",
    "    tokenizer_mode=\"mistral\",\n",
    "    tensor_parallel_size=TENSOR_PARALLEL_SIZE,\n",
    "    gpu_memory_utilization=GPU_MEMORY_UTILIZATION,\n",
    "    trust_remote_code=True\n",
    ")\n",
    "\n",
    "results_map = {} # Initialize results map\n",
    "\n",
    "\n",
    "# Define Sampling Parameters\n",
    "sampling_params = SamplingParams(\n",
    "    max_tokens=MAX_NEW_TOKENS,\n",
    "    temperature=TEMPERATURE,\n",
    ")\n",
    "\n",
    "# Run Batch Inference\n",
    "outputs = llm.generate(prompts, sampling_params)\n",
    "\n",
    "# Process Outputs\n",
    "parse_errors = 0\n",
    "for i, output in enumerate(outputs):\n",
    "    original_affiliation = unique_affiliations[i]\n",
    "    generated_text = output.outputs[0].text.strip()\n",
    "\n",
    "    result_entry = {\n",
    "        'StructuredOutput': None,\n",
    "        'ModelOutput': generated_text,\n",
    "        'ParseStatus': 'Error: Unknown'\n",
    "    }\n",
    "\n",
    "    cleaned_text = generated_text\n",
    "    if cleaned_text.startswith(\"```json\"):\n",
    "        cleaned_text = cleaned_text[len(\"```json\"):].strip()\n",
    "    if cleaned_text.endswith(\"```\"):\n",
    "        cleaned_text = cleaned_text[:-len(\"```\")].strip()\n",
    "    if not cleaned_text:\n",
    "            raise ValueError(\"Cleaned text is empty\")\n",
    "\n",
    "    extracted_data = json.loads(cleaned_text)\n",
    "\n",
    "    if isinstance(extracted_data, list) and all(isinstance(item, dict) for item in extracted_data):\n",
    "        all_items_valid = True\n",
    "        for item in extracted_data:\n",
    "            if not isinstance(item.get(\"institution\"), str) or \\\n",
    "                not isinstance(item.get(\"type\"), str) or \\\n",
    "                not (isinstance(item.get(\"country\"), str) or item.get(\"country\") is None):\n",
    "                    all_items_valid = False\n",
    "                    print(f\"Warning: Item in list lacks expected keys/types for affiliation '{original_affiliation}'. Item: {item}\")\n",
    "                    break\n",
    "        if all_items_valid:\n",
    "            result_entry['StructuredOutput'] = extracted_data\n",
    "            result_entry['ParseStatus'] = 'Success'\n",
    "        else:\n",
    "            result_entry['ParseStatus'] = 'Error: Invalid Item Structure'\n",
    "            parse_errors += 1\n",
    "\n",
    "    results_map[original_affiliation] = result_entry\n",
    "\n",
    "# Clean up GPU memory\n",
    "del llm\n",
    "if 'torch' in locals() or 'torch' in globals():\n",
    "    import torch\n",
    "    torch.cuda.empty_cache()\n",
    "print(\"GPU cache cleared.\")"
   ]
  },
  {
   "cell_type": "markdown",
   "id": "985be7d3",
   "metadata": {},
   "source": [
    "### 2.2 Processing LLM Results & Data Structuring\n",
    "\n",
    "The raw text outputs from the LLM containing JSON lists are parsed and validated. Key challenges during this phase include handling malformed JSON, ensuring the output is correctly structured as a list of dictionaries, and managing cases where the model failed to extract information or adhere to the format.\n",
    "\n",
    "The `results_map` dictionary now holds the processing status and structured output (or errors) for each unique affiliation. We map this back to the original DataFrame and then \"explode\" the rows associated with multiple institutions to create the final analysis-ready DataFrame (`df`), where each row corresponds to a single author-institution link. \n",
    "*   **Author (5 NaNs):** A very small number of entries had missing author names. Given the large dataset size and the focus on aggregate trends, these rows were removed.\n",
    "*   **Affiliation (3999 NaNs):** This is the original raw string and not used directly in most analyses. Missing values here are expected.\n",
    "*   **Institution (4028 NaNs):** These represent instances where the LLM could not determine a standardized institution (including original affiliation NaNs and parsing issues). For institution-specific analyses, these will be treated as 'Unknown'.\n",
    "*   **Country (8264 NaNs):** Includes original NaNs and cases where country couldn't be reliably inferred. This is expected due to variability in affiliation strings. These will be treated as 'Unknown' for geographic analysis.\n",
    "*   **Type (68 NaNs):** A small number. We ensure consistency: if `Institution` is 'Unknown', `Type` should also be 'Unknown'. Remaining NaNs are marked as 'Unknown'.\n",
    "Missing or invalid extracted data is represented by `NaN` or specific 'Unknown' placeholders."
   ]
  },
  {
   "cell_type": "code",
   "execution_count": null,
   "id": "4dad2496",
   "metadata": {},
   "outputs": [],
   "source": [
    "# Map results back to the raw DataFrame\n",
    "def get_result_data(affiliation, key, default=None):\n",
    "    # Handle potential NaN affiliations during mapping\n",
    "    if pd.isna(affiliation):\n",
    "        return default\n",
    "    result = results_map.get(affiliation)\n",
    "    if isinstance(result, dict):\n",
    "        return result.get(key, default)\n",
    "    return default\n",
    "\n",
    "df_raw['StructuredOutput'] = df_raw['Affiliation'].apply(lambda aff: get_result_data(aff, 'StructuredOutput'))\n",
    "df_raw['ModelOutput_LLM'] = df_raw['Affiliation'].apply(lambda aff: get_result_data(aff, 'ModelOutput')) # Use different name\n",
    "df_raw['ParseStatus'] = df_raw['Affiliation'].apply(lambda aff: get_result_data(aff, 'ParseStatus', 'Error: Mapping Failed'))\n",
    "\n",
    "# Clean up and Prepare for Exploding\n",
    "def clean_structured_output(row):\n",
    "    # Handle NaN in Affiliation column itself\n",
    "    if pd.isna(row['Affiliation']):\n",
    "        return [] # Treat NaN affiliation as having no structured output\n",
    "\n",
    "    if row['ParseStatus'] != 'Success' and row['StructuredOutput'] is None:\n",
    "        return []\n",
    "    elif row['StructuredOutput'] is None:\n",
    "            if row['ParseStatus'] == 'Error: Mapping Failed':\n",
    "                # Affiliation was NaN or somehow missed in unique list -> no output expected\n",
    "                return []\n",
    "            else: # ParseStatus indicates error, but output is None -> Treat as empty\n",
    "                return []\n",
    "    elif isinstance(row['StructuredOutput'], list):\n",
    "        # Filter out any potential non-dict items within the list, although the parser should prevent this\n",
    "        return [item for item in row['StructuredOutput'] if isinstance(item, dict)]\n",
    "    else: # Should not happen if parser worked, but fallback\n",
    "        return []\n",
    "\n",
    "df_raw['StructuredOutput'] = df_raw.apply(clean_structured_output, axis=1)\n",
    "\n",
    "# Add placeholder for empty lists to keep rows during explode\n",
    "df_raw['StructuredOutput_Explode'] = df_raw['StructuredOutput'].apply(lambda x: [None] if not x else x)\n",
    "\n",
    "# Explode\n",
    "df_exploded = df_raw.explode('StructuredOutput_Explode', ignore_index=True)\n",
    "\n",
    "# Extract Final Columns\n",
    "def safe_get(data, key):\n",
    "    if isinstance(data, dict):\n",
    "        return data.get(key)\n",
    "    return None # Handles the None placeholder\n",
    "\n",
    "df_exploded['Institution'] = df_exploded['StructuredOutput_Explode'].apply(lambda x: safe_get(x, 'institution'))\n",
    "df_exploded['Country'] = df_exploded['StructuredOutput_Explode'].apply(lambda x: safe_get(x, 'country'))\n",
    "df_exploded['Type'] = df_exploded['StructuredOutput_Explode'].apply(lambda x: safe_get(x, 'type'))\n",
    "\n",
    "# Final DataFrame Assembly\n",
    "# Select and rename columns\n",
    "df_final = df_exploded[['Conference', 'Year', 'Title', 'Author', 'Affiliation', # Original cols\n",
    "                        'Institution', 'Country', 'Type', # New extracted cols\n",
    "                        'ModelOutput_LLM', 'ParseStatus']].copy() # Metadata cols\n",
    "\n",
    "# Handle NaNs created during processing\n",
    "df_final.dropna(subset=['Author'], inplace=True) # Should already be done if df_raw was used\n",
    "df_final['Institution'] = df_final['Institution'].fillna(\"Unknown Institution\")\n",
    "df_final['Country'] = df_final['Country'].fillna(\"Unknown Country\")\n",
    "# Ensure Type consistency (important AFTER extraction)\n",
    "df_final.loc[df_final['Institution'] == \"Unknown Institution\", 'Type'] = \"Unknown Type\"\n",
    "df_final['Type'] = df_final['Type'].fillna(\"Unknown Type\") # Catch any remaining NaNs\n",
    "\n",
    "# Ensure Year is numeric\n",
    "df_final['Year'] = pd.to_numeric(df_final['Year'])\n",
    "\n",
    "# Rename df_final to df to match subsequent code cells\n",
    "df = df_final.copy()"
   ]
  },
  {
   "cell_type": "markdown",
   "id": "0e9bf842",
   "metadata": {},
   "source": [
    "You can download the processed dataframe used further in this analysis here:\n",
    "[Download Dataset CSV](papers_processed_cleaned.csv)"
   ]
  },
  {
   "cell_type": "markdown",
   "id": "3eb7eed6",
   "metadata": {},
   "source": [
    "## 3. Data Summary and Overview\n",
    "\n",
    "We begin by summarizing the key characteristics of the prepared dataset and visualizing the overall trends."
   ]
  },
  {
   "cell_type": "code",
   "execution_count": null,
   "id": "e02a242d",
   "metadata": {},
   "outputs": [
    {
     "name": "stdout",
     "output_type": "stream",
     "text": [
      "\n",
      "Plot 1: Unique Papers per Year\n"
     ]
    },
    {
     "data": {
      "application/vnd.plotly.v1+json": {
       "config": {
        "plotlyServerURL": "https://plot.ly"
       },
       "data": [
        {
         "hovertemplate": "Year=%{x}<br>Number of Unique Papers=%{y}<extra></extra>",
         "legendgroup": "",
         "line": {
          "color": "#636efa",
          "dash": "solid"
         },
         "marker": {
          "symbol": "circle"
         },
         "mode": "lines+markers",
         "name": "",
         "orientation": "v",
         "showlegend": false,
         "type": "scatter",
         "x": {
          "bdata": "1gfXB9gH2QfaB9sH3AfdB94H3wfgB+EH4gfjB+QH5QfmB+cH6Ac=",
          "dtype": "i2"
         },
         "xaxis": "x",
         "y": {
          "bdata": "zADZAPoABgEkATIBcAFoAZsBkwE4AlkErgeNCqYLGRFtFHkb/CQ=",
          "dtype": "i2"
         },
         "yaxis": "y"
        }
       ],
       "layout": {
        "hovermode": "x unified",
        "legend": {
         "tracegroupgap": 0
        },
        "template": {
         "data": {
          "bar": [
           {
            "error_x": {
             "color": "#2a3f5f"
            },
            "error_y": {
             "color": "#2a3f5f"
            },
            "marker": {
             "line": {
              "color": "white",
              "width": 0.5
             },
             "pattern": {
              "fillmode": "overlay",
              "size": 10,
              "solidity": 0.2
             }
            },
            "type": "bar"
           }
          ],
          "barpolar": [
           {
            "marker": {
             "line": {
              "color": "white",
              "width": 0.5
             },
             "pattern": {
              "fillmode": "overlay",
              "size": 10,
              "solidity": 0.2
             }
            },
            "type": "barpolar"
           }
          ],
          "carpet": [
           {
            "aaxis": {
             "endlinecolor": "#2a3f5f",
             "gridcolor": "#C8D4E3",
             "linecolor": "#C8D4E3",
             "minorgridcolor": "#C8D4E3",
             "startlinecolor": "#2a3f5f"
            },
            "baxis": {
             "endlinecolor": "#2a3f5f",
             "gridcolor": "#C8D4E3",
             "linecolor": "#C8D4E3",
             "minorgridcolor": "#C8D4E3",
             "startlinecolor": "#2a3f5f"
            },
            "type": "carpet"
           }
          ],
          "choropleth": [
           {
            "colorbar": {
             "outlinewidth": 0,
             "ticks": ""
            },
            "type": "choropleth"
           }
          ],
          "contour": [
           {
            "colorbar": {
             "outlinewidth": 0,
             "ticks": ""
            },
            "colorscale": [
             [
              0,
              "#0d0887"
             ],
             [
              0.1111111111111111,
              "#46039f"
             ],
             [
              0.2222222222222222,
              "#7201a8"
             ],
             [
              0.3333333333333333,
              "#9c179e"
             ],
             [
              0.4444444444444444,
              "#bd3786"
             ],
             [
              0.5555555555555556,
              "#d8576b"
             ],
             [
              0.6666666666666666,
              "#ed7953"
             ],
             [
              0.7777777777777778,
              "#fb9f3a"
             ],
             [
              0.8888888888888888,
              "#fdca26"
             ],
             [
              1,
              "#f0f921"
             ]
            ],
            "type": "contour"
           }
          ],
          "contourcarpet": [
           {
            "colorbar": {
             "outlinewidth": 0,
             "ticks": ""
            },
            "type": "contourcarpet"
           }
          ],
          "heatmap": [
           {
            "colorbar": {
             "outlinewidth": 0,
             "ticks": ""
            },
            "colorscale": [
             [
              0,
              "#0d0887"
             ],
             [
              0.1111111111111111,
              "#46039f"
             ],
             [
              0.2222222222222222,
              "#7201a8"
             ],
             [
              0.3333333333333333,
              "#9c179e"
             ],
             [
              0.4444444444444444,
              "#bd3786"
             ],
             [
              0.5555555555555556,
              "#d8576b"
             ],
             [
              0.6666666666666666,
              "#ed7953"
             ],
             [
              0.7777777777777778,
              "#fb9f3a"
             ],
             [
              0.8888888888888888,
              "#fdca26"
             ],
             [
              1,
              "#f0f921"
             ]
            ],
            "type": "heatmap"
           }
          ],
          "histogram": [
           {
            "marker": {
             "pattern": {
              "fillmode": "overlay",
              "size": 10,
              "solidity": 0.2
             }
            },
            "type": "histogram"
           }
          ],
          "histogram2d": [
           {
            "colorbar": {
             "outlinewidth": 0,
             "ticks": ""
            },
            "colorscale": [
             [
              0,
              "#0d0887"
             ],
             [
              0.1111111111111111,
              "#46039f"
             ],
             [
              0.2222222222222222,
              "#7201a8"
             ],
             [
              0.3333333333333333,
              "#9c179e"
             ],
             [
              0.4444444444444444,
              "#bd3786"
             ],
             [
              0.5555555555555556,
              "#d8576b"
             ],
             [
              0.6666666666666666,
              "#ed7953"
             ],
             [
              0.7777777777777778,
              "#fb9f3a"
             ],
             [
              0.8888888888888888,
              "#fdca26"
             ],
             [
              1,
              "#f0f921"
             ]
            ],
            "type": "histogram2d"
           }
          ],
          "histogram2dcontour": [
           {
            "colorbar": {
             "outlinewidth": 0,
             "ticks": ""
            },
            "colorscale": [
             [
              0,
              "#0d0887"
             ],
             [
              0.1111111111111111,
              "#46039f"
             ],
             [
              0.2222222222222222,
              "#7201a8"
             ],
             [
              0.3333333333333333,
              "#9c179e"
             ],
             [
              0.4444444444444444,
              "#bd3786"
             ],
             [
              0.5555555555555556,
              "#d8576b"
             ],
             [
              0.6666666666666666,
              "#ed7953"
             ],
             [
              0.7777777777777778,
              "#fb9f3a"
             ],
             [
              0.8888888888888888,
              "#fdca26"
             ],
             [
              1,
              "#f0f921"
             ]
            ],
            "type": "histogram2dcontour"
           }
          ],
          "mesh3d": [
           {
            "colorbar": {
             "outlinewidth": 0,
             "ticks": ""
            },
            "type": "mesh3d"
           }
          ],
          "parcoords": [
           {
            "line": {
             "colorbar": {
              "outlinewidth": 0,
              "ticks": ""
             }
            },
            "type": "parcoords"
           }
          ],
          "pie": [
           {
            "automargin": true,
            "type": "pie"
           }
          ],
          "scatter": [
           {
            "fillpattern": {
             "fillmode": "overlay",
             "size": 10,
             "solidity": 0.2
            },
            "type": "scatter"
           }
          ],
          "scatter3d": [
           {
            "line": {
             "colorbar": {
              "outlinewidth": 0,
              "ticks": ""
             }
            },
            "marker": {
             "colorbar": {
              "outlinewidth": 0,
              "ticks": ""
             }
            },
            "type": "scatter3d"
           }
          ],
          "scattercarpet": [
           {
            "marker": {
             "colorbar": {
              "outlinewidth": 0,
              "ticks": ""
             }
            },
            "type": "scattercarpet"
           }
          ],
          "scattergeo": [
           {
            "marker": {
             "colorbar": {
              "outlinewidth": 0,
              "ticks": ""
             }
            },
            "type": "scattergeo"
           }
          ],
          "scattergl": [
           {
            "marker": {
             "colorbar": {
              "outlinewidth": 0,
              "ticks": ""
             }
            },
            "type": "scattergl"
           }
          ],
          "scattermap": [
           {
            "marker": {
             "colorbar": {
              "outlinewidth": 0,
              "ticks": ""
             }
            },
            "type": "scattermap"
           }
          ],
          "scattermapbox": [
           {
            "marker": {
             "colorbar": {
              "outlinewidth": 0,
              "ticks": ""
             }
            },
            "type": "scattermapbox"
           }
          ],
          "scatterpolar": [
           {
            "marker": {
             "colorbar": {
              "outlinewidth": 0,
              "ticks": ""
             }
            },
            "type": "scatterpolar"
           }
          ],
          "scatterpolargl": [
           {
            "marker": {
             "colorbar": {
              "outlinewidth": 0,
              "ticks": ""
             }
            },
            "type": "scatterpolargl"
           }
          ],
          "scatterternary": [
           {
            "marker": {
             "colorbar": {
              "outlinewidth": 0,
              "ticks": ""
             }
            },
            "type": "scatterternary"
           }
          ],
          "surface": [
           {
            "colorbar": {
             "outlinewidth": 0,
             "ticks": ""
            },
            "colorscale": [
             [
              0,
              "#0d0887"
             ],
             [
              0.1111111111111111,
              "#46039f"
             ],
             [
              0.2222222222222222,
              "#7201a8"
             ],
             [
              0.3333333333333333,
              "#9c179e"
             ],
             [
              0.4444444444444444,
              "#bd3786"
             ],
             [
              0.5555555555555556,
              "#d8576b"
             ],
             [
              0.6666666666666666,
              "#ed7953"
             ],
             [
              0.7777777777777778,
              "#fb9f3a"
             ],
             [
              0.8888888888888888,
              "#fdca26"
             ],
             [
              1,
              "#f0f921"
             ]
            ],
            "type": "surface"
           }
          ],
          "table": [
           {
            "cells": {
             "fill": {
              "color": "#EBF0F8"
             },
             "line": {
              "color": "white"
             }
            },
            "header": {
             "fill": {
              "color": "#C8D4E3"
             },
             "line": {
              "color": "white"
             }
            },
            "type": "table"
           }
          ]
         },
         "layout": {
          "annotationdefaults": {
           "arrowcolor": "#2a3f5f",
           "arrowhead": 0,
           "arrowwidth": 1
          },
          "autotypenumbers": "strict",
          "coloraxis": {
           "colorbar": {
            "outlinewidth": 0,
            "ticks": ""
           }
          },
          "colorscale": {
           "diverging": [
            [
             0,
             "#8e0152"
            ],
            [
             0.1,
             "#c51b7d"
            ],
            [
             0.2,
             "#de77ae"
            ],
            [
             0.3,
             "#f1b6da"
            ],
            [
             0.4,
             "#fde0ef"
            ],
            [
             0.5,
             "#f7f7f7"
            ],
            [
             0.6,
             "#e6f5d0"
            ],
            [
             0.7,
             "#b8e186"
            ],
            [
             0.8,
             "#7fbc41"
            ],
            [
             0.9,
             "#4d9221"
            ],
            [
             1,
             "#276419"
            ]
           ],
           "sequential": [
            [
             0,
             "#0d0887"
            ],
            [
             0.1111111111111111,
             "#46039f"
            ],
            [
             0.2222222222222222,
             "#7201a8"
            ],
            [
             0.3333333333333333,
             "#9c179e"
            ],
            [
             0.4444444444444444,
             "#bd3786"
            ],
            [
             0.5555555555555556,
             "#d8576b"
            ],
            [
             0.6666666666666666,
             "#ed7953"
            ],
            [
             0.7777777777777778,
             "#fb9f3a"
            ],
            [
             0.8888888888888888,
             "#fdca26"
            ],
            [
             1,
             "#f0f921"
            ]
           ],
           "sequentialminus": [
            [
             0,
             "#0d0887"
            ],
            [
             0.1111111111111111,
             "#46039f"
            ],
            [
             0.2222222222222222,
             "#7201a8"
            ],
            [
             0.3333333333333333,
             "#9c179e"
            ],
            [
             0.4444444444444444,
             "#bd3786"
            ],
            [
             0.5555555555555556,
             "#d8576b"
            ],
            [
             0.6666666666666666,
             "#ed7953"
            ],
            [
             0.7777777777777778,
             "#fb9f3a"
            ],
            [
             0.8888888888888888,
             "#fdca26"
            ],
            [
             1,
             "#f0f921"
            ]
           ]
          },
          "colorway": [
           "#636efa",
           "#EF553B",
           "#00cc96",
           "#ab63fa",
           "#FFA15A",
           "#19d3f3",
           "#FF6692",
           "#B6E880",
           "#FF97FF",
           "#FECB52"
          ],
          "font": {
           "color": "#2a3f5f"
          },
          "geo": {
           "bgcolor": "white",
           "lakecolor": "white",
           "landcolor": "white",
           "showlakes": true,
           "showland": true,
           "subunitcolor": "#C8D4E3"
          },
          "hoverlabel": {
           "align": "left"
          },
          "hovermode": "closest",
          "mapbox": {
           "style": "light"
          },
          "paper_bgcolor": "white",
          "plot_bgcolor": "white",
          "polar": {
           "angularaxis": {
            "gridcolor": "#EBF0F8",
            "linecolor": "#EBF0F8",
            "ticks": ""
           },
           "bgcolor": "white",
           "radialaxis": {
            "gridcolor": "#EBF0F8",
            "linecolor": "#EBF0F8",
            "ticks": ""
           }
          },
          "scene": {
           "xaxis": {
            "backgroundcolor": "white",
            "gridcolor": "#DFE8F3",
            "gridwidth": 2,
            "linecolor": "#EBF0F8",
            "showbackground": true,
            "ticks": "",
            "zerolinecolor": "#EBF0F8"
           },
           "yaxis": {
            "backgroundcolor": "white",
            "gridcolor": "#DFE8F3",
            "gridwidth": 2,
            "linecolor": "#EBF0F8",
            "showbackground": true,
            "ticks": "",
            "zerolinecolor": "#EBF0F8"
           },
           "zaxis": {
            "backgroundcolor": "white",
            "gridcolor": "#DFE8F3",
            "gridwidth": 2,
            "linecolor": "#EBF0F8",
            "showbackground": true,
            "ticks": "",
            "zerolinecolor": "#EBF0F8"
           }
          },
          "shapedefaults": {
           "line": {
            "color": "#2a3f5f"
           }
          },
          "ternary": {
           "aaxis": {
            "gridcolor": "#DFE8F3",
            "linecolor": "#A2B1C6",
            "ticks": ""
           },
           "baxis": {
            "gridcolor": "#DFE8F3",
            "linecolor": "#A2B1C6",
            "ticks": ""
           },
           "bgcolor": "white",
           "caxis": {
            "gridcolor": "#DFE8F3",
            "linecolor": "#A2B1C6",
            "ticks": ""
           }
          },
          "title": {
           "x": 0.05
          },
          "xaxis": {
           "automargin": true,
           "gridcolor": "#EBF0F8",
           "linecolor": "#EBF0F8",
           "ticks": "",
           "title": {
            "standoff": 15
           },
           "zerolinecolor": "#EBF0F8",
           "zerolinewidth": 2
          },
          "yaxis": {
           "automargin": true,
           "gridcolor": "#EBF0F8",
           "linecolor": "#EBF0F8",
           "ticks": "",
           "title": {
            "standoff": 15
           },
           "zerolinecolor": "#EBF0F8",
           "zerolinewidth": 2
          }
         }
        },
        "title": {
         "text": "Total Unique Papers per Year (Across All Conferences)"
        },
        "xaxis": {
         "anchor": "y",
         "domain": [
          0,
          1
         ],
         "title": {
          "text": "Year"
         }
        },
        "yaxis": {
         "anchor": "x",
         "domain": [
          0,
          1
         ],
         "title": {
          "text": "Number of Unique Papers"
         }
        }
       }
      },
      "text/html": [
       "<div>            <script src=\"https://cdnjs.cloudflare.com/ajax/libs/mathjax/2.7.5/MathJax.js?config=TeX-AMS-MML_SVG\"></script><script type=\"text/javascript\">if (window.MathJax && window.MathJax.Hub && window.MathJax.Hub.Config) {window.MathJax.Hub.Config({SVG: {font: \"STIX-Web\"}});}</script>                <script type=\"text/javascript\">window.PlotlyConfig = {MathJaxConfig: 'local'};</script>\n",
       "        <script charset=\"utf-8\" src=\"https://cdn.plot.ly/plotly-3.0.1.min.js\"></script>                <div id=\"6ba287b4-db4c-4bdb-87ca-a6330100f484\" class=\"plotly-graph-div\" style=\"height:525px; width:100%;\"></div>            <script type=\"text/javascript\">                window.PLOTLYENV=window.PLOTLYENV || {};                                if (document.getElementById(\"6ba287b4-db4c-4bdb-87ca-a6330100f484\")) {                    Plotly.newPlot(                        \"6ba287b4-db4c-4bdb-87ca-a6330100f484\",                        [{\"hovertemplate\":\"Year=%{x}\\u003cbr\\u003eNumber of Unique Papers=%{y}\\u003cextra\\u003e\\u003c\\u002fextra\\u003e\",\"legendgroup\":\"\",\"line\":{\"color\":\"#636efa\",\"dash\":\"solid\"},\"marker\":{\"symbol\":\"circle\"},\"mode\":\"lines+markers\",\"name\":\"\",\"orientation\":\"v\",\"showlegend\":false,\"x\":{\"dtype\":\"i2\",\"bdata\":\"1gfXB9gH2QfaB9sH3AfdB94H3wfgB+EH4gfjB+QH5QfmB+cH6Ac=\"},\"xaxis\":\"x\",\"y\":{\"dtype\":\"i2\",\"bdata\":\"zADZAPoABgEkATIBcAFoAZsBkwE4AlkErgeNCqYLGRFtFHkb\\u002fCQ=\"},\"yaxis\":\"y\",\"type\":\"scatter\"}],                        {\"template\":{\"data\":{\"histogram2dcontour\":[{\"type\":\"histogram2dcontour\",\"colorbar\":{\"outlinewidth\":0,\"ticks\":\"\"},\"colorscale\":[[0.0,\"#0d0887\"],[0.1111111111111111,\"#46039f\"],[0.2222222222222222,\"#7201a8\"],[0.3333333333333333,\"#9c179e\"],[0.4444444444444444,\"#bd3786\"],[0.5555555555555556,\"#d8576b\"],[0.6666666666666666,\"#ed7953\"],[0.7777777777777778,\"#fb9f3a\"],[0.8888888888888888,\"#fdca26\"],[1.0,\"#f0f921\"]]}],\"choropleth\":[{\"type\":\"choropleth\",\"colorbar\":{\"outlinewidth\":0,\"ticks\":\"\"}}],\"histogram2d\":[{\"type\":\"histogram2d\",\"colorbar\":{\"outlinewidth\":0,\"ticks\":\"\"},\"colorscale\":[[0.0,\"#0d0887\"],[0.1111111111111111,\"#46039f\"],[0.2222222222222222,\"#7201a8\"],[0.3333333333333333,\"#9c179e\"],[0.4444444444444444,\"#bd3786\"],[0.5555555555555556,\"#d8576b\"],[0.6666666666666666,\"#ed7953\"],[0.7777777777777778,\"#fb9f3a\"],[0.8888888888888888,\"#fdca26\"],[1.0,\"#f0f921\"]]}],\"heatmap\":[{\"type\":\"heatmap\",\"colorbar\":{\"outlinewidth\":0,\"ticks\":\"\"},\"colorscale\":[[0.0,\"#0d0887\"],[0.1111111111111111,\"#46039f\"],[0.2222222222222222,\"#7201a8\"],[0.3333333333333333,\"#9c179e\"],[0.4444444444444444,\"#bd3786\"],[0.5555555555555556,\"#d8576b\"],[0.6666666666666666,\"#ed7953\"],[0.7777777777777778,\"#fb9f3a\"],[0.8888888888888888,\"#fdca26\"],[1.0,\"#f0f921\"]]}],\"contourcarpet\":[{\"type\":\"contourcarpet\",\"colorbar\":{\"outlinewidth\":0,\"ticks\":\"\"}}],\"contour\":[{\"type\":\"contour\",\"colorbar\":{\"outlinewidth\":0,\"ticks\":\"\"},\"colorscale\":[[0.0,\"#0d0887\"],[0.1111111111111111,\"#46039f\"],[0.2222222222222222,\"#7201a8\"],[0.3333333333333333,\"#9c179e\"],[0.4444444444444444,\"#bd3786\"],[0.5555555555555556,\"#d8576b\"],[0.6666666666666666,\"#ed7953\"],[0.7777777777777778,\"#fb9f3a\"],[0.8888888888888888,\"#fdca26\"],[1.0,\"#f0f921\"]]}],\"surface\":[{\"type\":\"surface\",\"colorbar\":{\"outlinewidth\":0,\"ticks\":\"\"},\"colorscale\":[[0.0,\"#0d0887\"],[0.1111111111111111,\"#46039f\"],[0.2222222222222222,\"#7201a8\"],[0.3333333333333333,\"#9c179e\"],[0.4444444444444444,\"#bd3786\"],[0.5555555555555556,\"#d8576b\"],[0.6666666666666666,\"#ed7953\"],[0.7777777777777778,\"#fb9f3a\"],[0.8888888888888888,\"#fdca26\"],[1.0,\"#f0f921\"]]}],\"mesh3d\":[{\"type\":\"mesh3d\",\"colorbar\":{\"outlinewidth\":0,\"ticks\":\"\"}}],\"scatter\":[{\"fillpattern\":{\"fillmode\":\"overlay\",\"size\":10,\"solidity\":0.2},\"type\":\"scatter\"}],\"parcoords\":[{\"type\":\"parcoords\",\"line\":{\"colorbar\":{\"outlinewidth\":0,\"ticks\":\"\"}}}],\"scatterpolargl\":[{\"type\":\"scatterpolargl\",\"marker\":{\"colorbar\":{\"outlinewidth\":0,\"ticks\":\"\"}}}],\"bar\":[{\"error_x\":{\"color\":\"#2a3f5f\"},\"error_y\":{\"color\":\"#2a3f5f\"},\"marker\":{\"line\":{\"color\":\"white\",\"width\":0.5},\"pattern\":{\"fillmode\":\"overlay\",\"size\":10,\"solidity\":0.2}},\"type\":\"bar\"}],\"scattergeo\":[{\"type\":\"scattergeo\",\"marker\":{\"colorbar\":{\"outlinewidth\":0,\"ticks\":\"\"}}}],\"scatterpolar\":[{\"type\":\"scatterpolar\",\"marker\":{\"colorbar\":{\"outlinewidth\":0,\"ticks\":\"\"}}}],\"histogram\":[{\"marker\":{\"pattern\":{\"fillmode\":\"overlay\",\"size\":10,\"solidity\":0.2}},\"type\":\"histogram\"}],\"scattergl\":[{\"type\":\"scattergl\",\"marker\":{\"colorbar\":{\"outlinewidth\":0,\"ticks\":\"\"}}}],\"scatter3d\":[{\"type\":\"scatter3d\",\"line\":{\"colorbar\":{\"outlinewidth\":0,\"ticks\":\"\"}},\"marker\":{\"colorbar\":{\"outlinewidth\":0,\"ticks\":\"\"}}}],\"scattermap\":[{\"type\":\"scattermap\",\"marker\":{\"colorbar\":{\"outlinewidth\":0,\"ticks\":\"\"}}}],\"scattermapbox\":[{\"type\":\"scattermapbox\",\"marker\":{\"colorbar\":{\"outlinewidth\":0,\"ticks\":\"\"}}}],\"scatterternary\":[{\"type\":\"scatterternary\",\"marker\":{\"colorbar\":{\"outlinewidth\":0,\"ticks\":\"\"}}}],\"scattercarpet\":[{\"type\":\"scattercarpet\",\"marker\":{\"colorbar\":{\"outlinewidth\":0,\"ticks\":\"\"}}}],\"carpet\":[{\"aaxis\":{\"endlinecolor\":\"#2a3f5f\",\"gridcolor\":\"#C8D4E3\",\"linecolor\":\"#C8D4E3\",\"minorgridcolor\":\"#C8D4E3\",\"startlinecolor\":\"#2a3f5f\"},\"baxis\":{\"endlinecolor\":\"#2a3f5f\",\"gridcolor\":\"#C8D4E3\",\"linecolor\":\"#C8D4E3\",\"minorgridcolor\":\"#C8D4E3\",\"startlinecolor\":\"#2a3f5f\"},\"type\":\"carpet\"}],\"table\":[{\"cells\":{\"fill\":{\"color\":\"#EBF0F8\"},\"line\":{\"color\":\"white\"}},\"header\":{\"fill\":{\"color\":\"#C8D4E3\"},\"line\":{\"color\":\"white\"}},\"type\":\"table\"}],\"barpolar\":[{\"marker\":{\"line\":{\"color\":\"white\",\"width\":0.5},\"pattern\":{\"fillmode\":\"overlay\",\"size\":10,\"solidity\":0.2}},\"type\":\"barpolar\"}],\"pie\":[{\"automargin\":true,\"type\":\"pie\"}]},\"layout\":{\"autotypenumbers\":\"strict\",\"colorway\":[\"#636efa\",\"#EF553B\",\"#00cc96\",\"#ab63fa\",\"#FFA15A\",\"#19d3f3\",\"#FF6692\",\"#B6E880\",\"#FF97FF\",\"#FECB52\"],\"font\":{\"color\":\"#2a3f5f\"},\"hovermode\":\"closest\",\"hoverlabel\":{\"align\":\"left\"},\"paper_bgcolor\":\"white\",\"plot_bgcolor\":\"white\",\"polar\":{\"bgcolor\":\"white\",\"angularaxis\":{\"gridcolor\":\"#EBF0F8\",\"linecolor\":\"#EBF0F8\",\"ticks\":\"\"},\"radialaxis\":{\"gridcolor\":\"#EBF0F8\",\"linecolor\":\"#EBF0F8\",\"ticks\":\"\"}},\"ternary\":{\"bgcolor\":\"white\",\"aaxis\":{\"gridcolor\":\"#DFE8F3\",\"linecolor\":\"#A2B1C6\",\"ticks\":\"\"},\"baxis\":{\"gridcolor\":\"#DFE8F3\",\"linecolor\":\"#A2B1C6\",\"ticks\":\"\"},\"caxis\":{\"gridcolor\":\"#DFE8F3\",\"linecolor\":\"#A2B1C6\",\"ticks\":\"\"}},\"coloraxis\":{\"colorbar\":{\"outlinewidth\":0,\"ticks\":\"\"}},\"colorscale\":{\"sequential\":[[0.0,\"#0d0887\"],[0.1111111111111111,\"#46039f\"],[0.2222222222222222,\"#7201a8\"],[0.3333333333333333,\"#9c179e\"],[0.4444444444444444,\"#bd3786\"],[0.5555555555555556,\"#d8576b\"],[0.6666666666666666,\"#ed7953\"],[0.7777777777777778,\"#fb9f3a\"],[0.8888888888888888,\"#fdca26\"],[1.0,\"#f0f921\"]],\"sequentialminus\":[[0.0,\"#0d0887\"],[0.1111111111111111,\"#46039f\"],[0.2222222222222222,\"#7201a8\"],[0.3333333333333333,\"#9c179e\"],[0.4444444444444444,\"#bd3786\"],[0.5555555555555556,\"#d8576b\"],[0.6666666666666666,\"#ed7953\"],[0.7777777777777778,\"#fb9f3a\"],[0.8888888888888888,\"#fdca26\"],[1.0,\"#f0f921\"]],\"diverging\":[[0,\"#8e0152\"],[0.1,\"#c51b7d\"],[0.2,\"#de77ae\"],[0.3,\"#f1b6da\"],[0.4,\"#fde0ef\"],[0.5,\"#f7f7f7\"],[0.6,\"#e6f5d0\"],[0.7,\"#b8e186\"],[0.8,\"#7fbc41\"],[0.9,\"#4d9221\"],[1,\"#276419\"]]},\"xaxis\":{\"gridcolor\":\"#EBF0F8\",\"linecolor\":\"#EBF0F8\",\"ticks\":\"\",\"title\":{\"standoff\":15},\"zerolinecolor\":\"#EBF0F8\",\"automargin\":true,\"zerolinewidth\":2},\"yaxis\":{\"gridcolor\":\"#EBF0F8\",\"linecolor\":\"#EBF0F8\",\"ticks\":\"\",\"title\":{\"standoff\":15},\"zerolinecolor\":\"#EBF0F8\",\"automargin\":true,\"zerolinewidth\":2},\"scene\":{\"xaxis\":{\"backgroundcolor\":\"white\",\"gridcolor\":\"#DFE8F3\",\"linecolor\":\"#EBF0F8\",\"showbackground\":true,\"ticks\":\"\",\"zerolinecolor\":\"#EBF0F8\",\"gridwidth\":2},\"yaxis\":{\"backgroundcolor\":\"white\",\"gridcolor\":\"#DFE8F3\",\"linecolor\":\"#EBF0F8\",\"showbackground\":true,\"ticks\":\"\",\"zerolinecolor\":\"#EBF0F8\",\"gridwidth\":2},\"zaxis\":{\"backgroundcolor\":\"white\",\"gridcolor\":\"#DFE8F3\",\"linecolor\":\"#EBF0F8\",\"showbackground\":true,\"ticks\":\"\",\"zerolinecolor\":\"#EBF0F8\",\"gridwidth\":2}},\"shapedefaults\":{\"line\":{\"color\":\"#2a3f5f\"}},\"annotationdefaults\":{\"arrowcolor\":\"#2a3f5f\",\"arrowhead\":0,\"arrowwidth\":1},\"geo\":{\"bgcolor\":\"white\",\"landcolor\":\"white\",\"subunitcolor\":\"#C8D4E3\",\"showland\":true,\"showlakes\":true,\"lakecolor\":\"white\"},\"title\":{\"x\":0.05},\"mapbox\":{\"style\":\"light\"}}},\"xaxis\":{\"anchor\":\"y\",\"domain\":[0.0,1.0],\"title\":{\"text\":\"Year\"}},\"yaxis\":{\"anchor\":\"x\",\"domain\":[0.0,1.0],\"title\":{\"text\":\"Number of Unique Papers\"}},\"legend\":{\"tracegroupgap\":0},\"title\":{\"text\":\"Total Unique Papers per Year (Across All Conferences)\"},\"hovermode\":\"x unified\"},                        {\"responsive\": true}                    ).then(function(){\n",
       "                            \n",
       "var gd = document.getElementById('6ba287b4-db4c-4bdb-87ca-a6330100f484');\n",
       "var x = new MutationObserver(function (mutations, observer) {{\n",
       "        var display = window.getComputedStyle(gd).display;\n",
       "        if (!display || display === 'none') {{\n",
       "            console.log([gd, 'removed!']);\n",
       "            Plotly.purge(gd);\n",
       "            observer.disconnect();\n",
       "        }}\n",
       "}});\n",
       "\n",
       "// Listen for the removal of the full notebook cells\n",
       "var notebookContainer = gd.closest('#notebook-container');\n",
       "if (notebookContainer) {{\n",
       "    x.observe(notebookContainer, {childList: true});\n",
       "}}\n",
       "\n",
       "// Listen for the clearing of the current output cell\n",
       "var outputEl = gd.closest('.output');\n",
       "if (outputEl) {{\n",
       "    x.observe(outputEl, {childList: true});\n",
       "}}\n",
       "\n",
       "                        })                };            </script>        </div>"
      ]
     },
     "metadata": {},
     "output_type": "display_data"
    },
    {
     "name": "stdout",
     "output_type": "stream",
     "text": [
      "Plot 2: Authorship Instances per Year\n"
     ]
    },
    {
     "data": {
      "application/vnd.plotly.v1+json": {
       "config": {
        "plotlyServerURL": "https://plot.ly"
       },
       "data": [
        {
         "hovertemplate": "Year=%{x}<br>Number of Authorship Instances=%{y}<extra></extra>",
         "legendgroup": "",
         "line": {
          "color": "#636efa",
          "dash": "solid"
         },
         "marker": {
          "symbol": "circle"
         },
         "mode": "lines+markers",
         "name": "",
         "orientation": "v",
         "showlegend": false,
         "type": "scatter",
         "x": {
          "bdata": "1gfXB9gH2QfaB9sH3AfdB94H3wfgB+EH4gfjB+QH5QfmB+cH6Ac=",
          "dtype": "i2"
         },
         "xaxis": "x",
         "y": {
          "bdata": "YwIAALUCAAAvAwAAYQMAAK8DAAC0AwAAxAQAAIsEAAB3BQAAWAUAABcIAAAfEQAAxh8AANssAABTMgAAlE0AAFBjAAD6iwAAcNAAAA==",
          "dtype": "i4"
         },
         "yaxis": "y"
        }
       ],
       "layout": {
        "hovermode": "x unified",
        "legend": {
         "tracegroupgap": 0
        },
        "template": {
         "data": {
          "bar": [
           {
            "error_x": {
             "color": "#2a3f5f"
            },
            "error_y": {
             "color": "#2a3f5f"
            },
            "marker": {
             "line": {
              "color": "white",
              "width": 0.5
             },
             "pattern": {
              "fillmode": "overlay",
              "size": 10,
              "solidity": 0.2
             }
            },
            "type": "bar"
           }
          ],
          "barpolar": [
           {
            "marker": {
             "line": {
              "color": "white",
              "width": 0.5
             },
             "pattern": {
              "fillmode": "overlay",
              "size": 10,
              "solidity": 0.2
             }
            },
            "type": "barpolar"
           }
          ],
          "carpet": [
           {
            "aaxis": {
             "endlinecolor": "#2a3f5f",
             "gridcolor": "#C8D4E3",
             "linecolor": "#C8D4E3",
             "minorgridcolor": "#C8D4E3",
             "startlinecolor": "#2a3f5f"
            },
            "baxis": {
             "endlinecolor": "#2a3f5f",
             "gridcolor": "#C8D4E3",
             "linecolor": "#C8D4E3",
             "minorgridcolor": "#C8D4E3",
             "startlinecolor": "#2a3f5f"
            },
            "type": "carpet"
           }
          ],
          "choropleth": [
           {
            "colorbar": {
             "outlinewidth": 0,
             "ticks": ""
            },
            "type": "choropleth"
           }
          ],
          "contour": [
           {
            "colorbar": {
             "outlinewidth": 0,
             "ticks": ""
            },
            "colorscale": [
             [
              0,
              "#0d0887"
             ],
             [
              0.1111111111111111,
              "#46039f"
             ],
             [
              0.2222222222222222,
              "#7201a8"
             ],
             [
              0.3333333333333333,
              "#9c179e"
             ],
             [
              0.4444444444444444,
              "#bd3786"
             ],
             [
              0.5555555555555556,
              "#d8576b"
             ],
             [
              0.6666666666666666,
              "#ed7953"
             ],
             [
              0.7777777777777778,
              "#fb9f3a"
             ],
             [
              0.8888888888888888,
              "#fdca26"
             ],
             [
              1,
              "#f0f921"
             ]
            ],
            "type": "contour"
           }
          ],
          "contourcarpet": [
           {
            "colorbar": {
             "outlinewidth": 0,
             "ticks": ""
            },
            "type": "contourcarpet"
           }
          ],
          "heatmap": [
           {
            "colorbar": {
             "outlinewidth": 0,
             "ticks": ""
            },
            "colorscale": [
             [
              0,
              "#0d0887"
             ],
             [
              0.1111111111111111,
              "#46039f"
             ],
             [
              0.2222222222222222,
              "#7201a8"
             ],
             [
              0.3333333333333333,
              "#9c179e"
             ],
             [
              0.4444444444444444,
              "#bd3786"
             ],
             [
              0.5555555555555556,
              "#d8576b"
             ],
             [
              0.6666666666666666,
              "#ed7953"
             ],
             [
              0.7777777777777778,
              "#fb9f3a"
             ],
             [
              0.8888888888888888,
              "#fdca26"
             ],
             [
              1,
              "#f0f921"
             ]
            ],
            "type": "heatmap"
           }
          ],
          "histogram": [
           {
            "marker": {
             "pattern": {
              "fillmode": "overlay",
              "size": 10,
              "solidity": 0.2
             }
            },
            "type": "histogram"
           }
          ],
          "histogram2d": [
           {
            "colorbar": {
             "outlinewidth": 0,
             "ticks": ""
            },
            "colorscale": [
             [
              0,
              "#0d0887"
             ],
             [
              0.1111111111111111,
              "#46039f"
             ],
             [
              0.2222222222222222,
              "#7201a8"
             ],
             [
              0.3333333333333333,
              "#9c179e"
             ],
             [
              0.4444444444444444,
              "#bd3786"
             ],
             [
              0.5555555555555556,
              "#d8576b"
             ],
             [
              0.6666666666666666,
              "#ed7953"
             ],
             [
              0.7777777777777778,
              "#fb9f3a"
             ],
             [
              0.8888888888888888,
              "#fdca26"
             ],
             [
              1,
              "#f0f921"
             ]
            ],
            "type": "histogram2d"
           }
          ],
          "histogram2dcontour": [
           {
            "colorbar": {
             "outlinewidth": 0,
             "ticks": ""
            },
            "colorscale": [
             [
              0,
              "#0d0887"
             ],
             [
              0.1111111111111111,
              "#46039f"
             ],
             [
              0.2222222222222222,
              "#7201a8"
             ],
             [
              0.3333333333333333,
              "#9c179e"
             ],
             [
              0.4444444444444444,
              "#bd3786"
             ],
             [
              0.5555555555555556,
              "#d8576b"
             ],
             [
              0.6666666666666666,
              "#ed7953"
             ],
             [
              0.7777777777777778,
              "#fb9f3a"
             ],
             [
              0.8888888888888888,
              "#fdca26"
             ],
             [
              1,
              "#f0f921"
             ]
            ],
            "type": "histogram2dcontour"
           }
          ],
          "mesh3d": [
           {
            "colorbar": {
             "outlinewidth": 0,
             "ticks": ""
            },
            "type": "mesh3d"
           }
          ],
          "parcoords": [
           {
            "line": {
             "colorbar": {
              "outlinewidth": 0,
              "ticks": ""
             }
            },
            "type": "parcoords"
           }
          ],
          "pie": [
           {
            "automargin": true,
            "type": "pie"
           }
          ],
          "scatter": [
           {
            "fillpattern": {
             "fillmode": "overlay",
             "size": 10,
             "solidity": 0.2
            },
            "type": "scatter"
           }
          ],
          "scatter3d": [
           {
            "line": {
             "colorbar": {
              "outlinewidth": 0,
              "ticks": ""
             }
            },
            "marker": {
             "colorbar": {
              "outlinewidth": 0,
              "ticks": ""
             }
            },
            "type": "scatter3d"
           }
          ],
          "scattercarpet": [
           {
            "marker": {
             "colorbar": {
              "outlinewidth": 0,
              "ticks": ""
             }
            },
            "type": "scattercarpet"
           }
          ],
          "scattergeo": [
           {
            "marker": {
             "colorbar": {
              "outlinewidth": 0,
              "ticks": ""
             }
            },
            "type": "scattergeo"
           }
          ],
          "scattergl": [
           {
            "marker": {
             "colorbar": {
              "outlinewidth": 0,
              "ticks": ""
             }
            },
            "type": "scattergl"
           }
          ],
          "scattermap": [
           {
            "marker": {
             "colorbar": {
              "outlinewidth": 0,
              "ticks": ""
             }
            },
            "type": "scattermap"
           }
          ],
          "scattermapbox": [
           {
            "marker": {
             "colorbar": {
              "outlinewidth": 0,
              "ticks": ""
             }
            },
            "type": "scattermapbox"
           }
          ],
          "scatterpolar": [
           {
            "marker": {
             "colorbar": {
              "outlinewidth": 0,
              "ticks": ""
             }
            },
            "type": "scatterpolar"
           }
          ],
          "scatterpolargl": [
           {
            "marker": {
             "colorbar": {
              "outlinewidth": 0,
              "ticks": ""
             }
            },
            "type": "scatterpolargl"
           }
          ],
          "scatterternary": [
           {
            "marker": {
             "colorbar": {
              "outlinewidth": 0,
              "ticks": ""
             }
            },
            "type": "scatterternary"
           }
          ],
          "surface": [
           {
            "colorbar": {
             "outlinewidth": 0,
             "ticks": ""
            },
            "colorscale": [
             [
              0,
              "#0d0887"
             ],
             [
              0.1111111111111111,
              "#46039f"
             ],
             [
              0.2222222222222222,
              "#7201a8"
             ],
             [
              0.3333333333333333,
              "#9c179e"
             ],
             [
              0.4444444444444444,
              "#bd3786"
             ],
             [
              0.5555555555555556,
              "#d8576b"
             ],
             [
              0.6666666666666666,
              "#ed7953"
             ],
             [
              0.7777777777777778,
              "#fb9f3a"
             ],
             [
              0.8888888888888888,
              "#fdca26"
             ],
             [
              1,
              "#f0f921"
             ]
            ],
            "type": "surface"
           }
          ],
          "table": [
           {
            "cells": {
             "fill": {
              "color": "#EBF0F8"
             },
             "line": {
              "color": "white"
             }
            },
            "header": {
             "fill": {
              "color": "#C8D4E3"
             },
             "line": {
              "color": "white"
             }
            },
            "type": "table"
           }
          ]
         },
         "layout": {
          "annotationdefaults": {
           "arrowcolor": "#2a3f5f",
           "arrowhead": 0,
           "arrowwidth": 1
          },
          "autotypenumbers": "strict",
          "coloraxis": {
           "colorbar": {
            "outlinewidth": 0,
            "ticks": ""
           }
          },
          "colorscale": {
           "diverging": [
            [
             0,
             "#8e0152"
            ],
            [
             0.1,
             "#c51b7d"
            ],
            [
             0.2,
             "#de77ae"
            ],
            [
             0.3,
             "#f1b6da"
            ],
            [
             0.4,
             "#fde0ef"
            ],
            [
             0.5,
             "#f7f7f7"
            ],
            [
             0.6,
             "#e6f5d0"
            ],
            [
             0.7,
             "#b8e186"
            ],
            [
             0.8,
             "#7fbc41"
            ],
            [
             0.9,
             "#4d9221"
            ],
            [
             1,
             "#276419"
            ]
           ],
           "sequential": [
            [
             0,
             "#0d0887"
            ],
            [
             0.1111111111111111,
             "#46039f"
            ],
            [
             0.2222222222222222,
             "#7201a8"
            ],
            [
             0.3333333333333333,
             "#9c179e"
            ],
            [
             0.4444444444444444,
             "#bd3786"
            ],
            [
             0.5555555555555556,
             "#d8576b"
            ],
            [
             0.6666666666666666,
             "#ed7953"
            ],
            [
             0.7777777777777778,
             "#fb9f3a"
            ],
            [
             0.8888888888888888,
             "#fdca26"
            ],
            [
             1,
             "#f0f921"
            ]
           ],
           "sequentialminus": [
            [
             0,
             "#0d0887"
            ],
            [
             0.1111111111111111,
             "#46039f"
            ],
            [
             0.2222222222222222,
             "#7201a8"
            ],
            [
             0.3333333333333333,
             "#9c179e"
            ],
            [
             0.4444444444444444,
             "#bd3786"
            ],
            [
             0.5555555555555556,
             "#d8576b"
            ],
            [
             0.6666666666666666,
             "#ed7953"
            ],
            [
             0.7777777777777778,
             "#fb9f3a"
            ],
            [
             0.8888888888888888,
             "#fdca26"
            ],
            [
             1,
             "#f0f921"
            ]
           ]
          },
          "colorway": [
           "#636efa",
           "#EF553B",
           "#00cc96",
           "#ab63fa",
           "#FFA15A",
           "#19d3f3",
           "#FF6692",
           "#B6E880",
           "#FF97FF",
           "#FECB52"
          ],
          "font": {
           "color": "#2a3f5f"
          },
          "geo": {
           "bgcolor": "white",
           "lakecolor": "white",
           "landcolor": "white",
           "showlakes": true,
           "showland": true,
           "subunitcolor": "#C8D4E3"
          },
          "hoverlabel": {
           "align": "left"
          },
          "hovermode": "closest",
          "mapbox": {
           "style": "light"
          },
          "paper_bgcolor": "white",
          "plot_bgcolor": "white",
          "polar": {
           "angularaxis": {
            "gridcolor": "#EBF0F8",
            "linecolor": "#EBF0F8",
            "ticks": ""
           },
           "bgcolor": "white",
           "radialaxis": {
            "gridcolor": "#EBF0F8",
            "linecolor": "#EBF0F8",
            "ticks": ""
           }
          },
          "scene": {
           "xaxis": {
            "backgroundcolor": "white",
            "gridcolor": "#DFE8F3",
            "gridwidth": 2,
            "linecolor": "#EBF0F8",
            "showbackground": true,
            "ticks": "",
            "zerolinecolor": "#EBF0F8"
           },
           "yaxis": {
            "backgroundcolor": "white",
            "gridcolor": "#DFE8F3",
            "gridwidth": 2,
            "linecolor": "#EBF0F8",
            "showbackground": true,
            "ticks": "",
            "zerolinecolor": "#EBF0F8"
           },
           "zaxis": {
            "backgroundcolor": "white",
            "gridcolor": "#DFE8F3",
            "gridwidth": 2,
            "linecolor": "#EBF0F8",
            "showbackground": true,
            "ticks": "",
            "zerolinecolor": "#EBF0F8"
           }
          },
          "shapedefaults": {
           "line": {
            "color": "#2a3f5f"
           }
          },
          "ternary": {
           "aaxis": {
            "gridcolor": "#DFE8F3",
            "linecolor": "#A2B1C6",
            "ticks": ""
           },
           "baxis": {
            "gridcolor": "#DFE8F3",
            "linecolor": "#A2B1C6",
            "ticks": ""
           },
           "bgcolor": "white",
           "caxis": {
            "gridcolor": "#DFE8F3",
            "linecolor": "#A2B1C6",
            "ticks": ""
           }
          },
          "title": {
           "x": 0.05
          },
          "xaxis": {
           "automargin": true,
           "gridcolor": "#EBF0F8",
           "linecolor": "#EBF0F8",
           "ticks": "",
           "title": {
            "standoff": 15
           },
           "zerolinecolor": "#EBF0F8",
           "zerolinewidth": 2
          },
          "yaxis": {
           "automargin": true,
           "gridcolor": "#EBF0F8",
           "linecolor": "#EBF0F8",
           "ticks": "",
           "title": {
            "standoff": 15
           },
           "zerolinecolor": "#EBF0F8",
           "zerolinewidth": 2
          }
         }
        },
        "title": {
         "text": "Total Authorship Instances per Year (Across All Conferences)"
        },
        "xaxis": {
         "anchor": "y",
         "domain": [
          0,
          1
         ],
         "title": {
          "text": "Year"
         }
        },
        "yaxis": {
         "anchor": "x",
         "domain": [
          0,
          1
         ],
         "title": {
          "text": "Number of Authorship Instances"
         }
        }
       }
      },
      "text/html": [
       "<div>            <script src=\"https://cdnjs.cloudflare.com/ajax/libs/mathjax/2.7.5/MathJax.js?config=TeX-AMS-MML_SVG\"></script><script type=\"text/javascript\">if (window.MathJax && window.MathJax.Hub && window.MathJax.Hub.Config) {window.MathJax.Hub.Config({SVG: {font: \"STIX-Web\"}});}</script>                <script type=\"text/javascript\">window.PlotlyConfig = {MathJaxConfig: 'local'};</script>\n",
       "        <script charset=\"utf-8\" src=\"https://cdn.plot.ly/plotly-3.0.1.min.js\"></script>                <div id=\"58cb1a67-a7df-40f5-b275-e7b85347e400\" class=\"plotly-graph-div\" style=\"height:525px; width:100%;\"></div>            <script type=\"text/javascript\">                window.PLOTLYENV=window.PLOTLYENV || {};                                if (document.getElementById(\"58cb1a67-a7df-40f5-b275-e7b85347e400\")) {                    Plotly.newPlot(                        \"58cb1a67-a7df-40f5-b275-e7b85347e400\",                        [{\"hovertemplate\":\"Year=%{x}\\u003cbr\\u003eNumber of Authorship Instances=%{y}\\u003cextra\\u003e\\u003c\\u002fextra\\u003e\",\"legendgroup\":\"\",\"line\":{\"color\":\"#636efa\",\"dash\":\"solid\"},\"marker\":{\"symbol\":\"circle\"},\"mode\":\"lines+markers\",\"name\":\"\",\"orientation\":\"v\",\"showlegend\":false,\"x\":{\"dtype\":\"i2\",\"bdata\":\"1gfXB9gH2QfaB9sH3AfdB94H3wfgB+EH4gfjB+QH5QfmB+cH6Ac=\"},\"xaxis\":\"x\",\"y\":{\"dtype\":\"i4\",\"bdata\":\"YwIAALUCAAAvAwAAYQMAAK8DAAC0AwAAxAQAAIsEAAB3BQAAWAUAABcIAAAfEQAAxh8AANssAABTMgAAlE0AAFBjAAD6iwAAcNAAAA==\"},\"yaxis\":\"y\",\"type\":\"scatter\"}],                        {\"template\":{\"data\":{\"histogram2dcontour\":[{\"type\":\"histogram2dcontour\",\"colorbar\":{\"outlinewidth\":0,\"ticks\":\"\"},\"colorscale\":[[0.0,\"#0d0887\"],[0.1111111111111111,\"#46039f\"],[0.2222222222222222,\"#7201a8\"],[0.3333333333333333,\"#9c179e\"],[0.4444444444444444,\"#bd3786\"],[0.5555555555555556,\"#d8576b\"],[0.6666666666666666,\"#ed7953\"],[0.7777777777777778,\"#fb9f3a\"],[0.8888888888888888,\"#fdca26\"],[1.0,\"#f0f921\"]]}],\"choropleth\":[{\"type\":\"choropleth\",\"colorbar\":{\"outlinewidth\":0,\"ticks\":\"\"}}],\"histogram2d\":[{\"type\":\"histogram2d\",\"colorbar\":{\"outlinewidth\":0,\"ticks\":\"\"},\"colorscale\":[[0.0,\"#0d0887\"],[0.1111111111111111,\"#46039f\"],[0.2222222222222222,\"#7201a8\"],[0.3333333333333333,\"#9c179e\"],[0.4444444444444444,\"#bd3786\"],[0.5555555555555556,\"#d8576b\"],[0.6666666666666666,\"#ed7953\"],[0.7777777777777778,\"#fb9f3a\"],[0.8888888888888888,\"#fdca26\"],[1.0,\"#f0f921\"]]}],\"heatmap\":[{\"type\":\"heatmap\",\"colorbar\":{\"outlinewidth\":0,\"ticks\":\"\"},\"colorscale\":[[0.0,\"#0d0887\"],[0.1111111111111111,\"#46039f\"],[0.2222222222222222,\"#7201a8\"],[0.3333333333333333,\"#9c179e\"],[0.4444444444444444,\"#bd3786\"],[0.5555555555555556,\"#d8576b\"],[0.6666666666666666,\"#ed7953\"],[0.7777777777777778,\"#fb9f3a\"],[0.8888888888888888,\"#fdca26\"],[1.0,\"#f0f921\"]]}],\"contourcarpet\":[{\"type\":\"contourcarpet\",\"colorbar\":{\"outlinewidth\":0,\"ticks\":\"\"}}],\"contour\":[{\"type\":\"contour\",\"colorbar\":{\"outlinewidth\":0,\"ticks\":\"\"},\"colorscale\":[[0.0,\"#0d0887\"],[0.1111111111111111,\"#46039f\"],[0.2222222222222222,\"#7201a8\"],[0.3333333333333333,\"#9c179e\"],[0.4444444444444444,\"#bd3786\"],[0.5555555555555556,\"#d8576b\"],[0.6666666666666666,\"#ed7953\"],[0.7777777777777778,\"#fb9f3a\"],[0.8888888888888888,\"#fdca26\"],[1.0,\"#f0f921\"]]}],\"surface\":[{\"type\":\"surface\",\"colorbar\":{\"outlinewidth\":0,\"ticks\":\"\"},\"colorscale\":[[0.0,\"#0d0887\"],[0.1111111111111111,\"#46039f\"],[0.2222222222222222,\"#7201a8\"],[0.3333333333333333,\"#9c179e\"],[0.4444444444444444,\"#bd3786\"],[0.5555555555555556,\"#d8576b\"],[0.6666666666666666,\"#ed7953\"],[0.7777777777777778,\"#fb9f3a\"],[0.8888888888888888,\"#fdca26\"],[1.0,\"#f0f921\"]]}],\"mesh3d\":[{\"type\":\"mesh3d\",\"colorbar\":{\"outlinewidth\":0,\"ticks\":\"\"}}],\"scatter\":[{\"fillpattern\":{\"fillmode\":\"overlay\",\"size\":10,\"solidity\":0.2},\"type\":\"scatter\"}],\"parcoords\":[{\"type\":\"parcoords\",\"line\":{\"colorbar\":{\"outlinewidth\":0,\"ticks\":\"\"}}}],\"scatterpolargl\":[{\"type\":\"scatterpolargl\",\"marker\":{\"colorbar\":{\"outlinewidth\":0,\"ticks\":\"\"}}}],\"bar\":[{\"error_x\":{\"color\":\"#2a3f5f\"},\"error_y\":{\"color\":\"#2a3f5f\"},\"marker\":{\"line\":{\"color\":\"white\",\"width\":0.5},\"pattern\":{\"fillmode\":\"overlay\",\"size\":10,\"solidity\":0.2}},\"type\":\"bar\"}],\"scattergeo\":[{\"type\":\"scattergeo\",\"marker\":{\"colorbar\":{\"outlinewidth\":0,\"ticks\":\"\"}}}],\"scatterpolar\":[{\"type\":\"scatterpolar\",\"marker\":{\"colorbar\":{\"outlinewidth\":0,\"ticks\":\"\"}}}],\"histogram\":[{\"marker\":{\"pattern\":{\"fillmode\":\"overlay\",\"size\":10,\"solidity\":0.2}},\"type\":\"histogram\"}],\"scattergl\":[{\"type\":\"scattergl\",\"marker\":{\"colorbar\":{\"outlinewidth\":0,\"ticks\":\"\"}}}],\"scatter3d\":[{\"type\":\"scatter3d\",\"line\":{\"colorbar\":{\"outlinewidth\":0,\"ticks\":\"\"}},\"marker\":{\"colorbar\":{\"outlinewidth\":0,\"ticks\":\"\"}}}],\"scattermap\":[{\"type\":\"scattermap\",\"marker\":{\"colorbar\":{\"outlinewidth\":0,\"ticks\":\"\"}}}],\"scattermapbox\":[{\"type\":\"scattermapbox\",\"marker\":{\"colorbar\":{\"outlinewidth\":0,\"ticks\":\"\"}}}],\"scatterternary\":[{\"type\":\"scatterternary\",\"marker\":{\"colorbar\":{\"outlinewidth\":0,\"ticks\":\"\"}}}],\"scattercarpet\":[{\"type\":\"scattercarpet\",\"marker\":{\"colorbar\":{\"outlinewidth\":0,\"ticks\":\"\"}}}],\"carpet\":[{\"aaxis\":{\"endlinecolor\":\"#2a3f5f\",\"gridcolor\":\"#C8D4E3\",\"linecolor\":\"#C8D4E3\",\"minorgridcolor\":\"#C8D4E3\",\"startlinecolor\":\"#2a3f5f\"},\"baxis\":{\"endlinecolor\":\"#2a3f5f\",\"gridcolor\":\"#C8D4E3\",\"linecolor\":\"#C8D4E3\",\"minorgridcolor\":\"#C8D4E3\",\"startlinecolor\":\"#2a3f5f\"},\"type\":\"carpet\"}],\"table\":[{\"cells\":{\"fill\":{\"color\":\"#EBF0F8\"},\"line\":{\"color\":\"white\"}},\"header\":{\"fill\":{\"color\":\"#C8D4E3\"},\"line\":{\"color\":\"white\"}},\"type\":\"table\"}],\"barpolar\":[{\"marker\":{\"line\":{\"color\":\"white\",\"width\":0.5},\"pattern\":{\"fillmode\":\"overlay\",\"size\":10,\"solidity\":0.2}},\"type\":\"barpolar\"}],\"pie\":[{\"automargin\":true,\"type\":\"pie\"}]},\"layout\":{\"autotypenumbers\":\"strict\",\"colorway\":[\"#636efa\",\"#EF553B\",\"#00cc96\",\"#ab63fa\",\"#FFA15A\",\"#19d3f3\",\"#FF6692\",\"#B6E880\",\"#FF97FF\",\"#FECB52\"],\"font\":{\"color\":\"#2a3f5f\"},\"hovermode\":\"closest\",\"hoverlabel\":{\"align\":\"left\"},\"paper_bgcolor\":\"white\",\"plot_bgcolor\":\"white\",\"polar\":{\"bgcolor\":\"white\",\"angularaxis\":{\"gridcolor\":\"#EBF0F8\",\"linecolor\":\"#EBF0F8\",\"ticks\":\"\"},\"radialaxis\":{\"gridcolor\":\"#EBF0F8\",\"linecolor\":\"#EBF0F8\",\"ticks\":\"\"}},\"ternary\":{\"bgcolor\":\"white\",\"aaxis\":{\"gridcolor\":\"#DFE8F3\",\"linecolor\":\"#A2B1C6\",\"ticks\":\"\"},\"baxis\":{\"gridcolor\":\"#DFE8F3\",\"linecolor\":\"#A2B1C6\",\"ticks\":\"\"},\"caxis\":{\"gridcolor\":\"#DFE8F3\",\"linecolor\":\"#A2B1C6\",\"ticks\":\"\"}},\"coloraxis\":{\"colorbar\":{\"outlinewidth\":0,\"ticks\":\"\"}},\"colorscale\":{\"sequential\":[[0.0,\"#0d0887\"],[0.1111111111111111,\"#46039f\"],[0.2222222222222222,\"#7201a8\"],[0.3333333333333333,\"#9c179e\"],[0.4444444444444444,\"#bd3786\"],[0.5555555555555556,\"#d8576b\"],[0.6666666666666666,\"#ed7953\"],[0.7777777777777778,\"#fb9f3a\"],[0.8888888888888888,\"#fdca26\"],[1.0,\"#f0f921\"]],\"sequentialminus\":[[0.0,\"#0d0887\"],[0.1111111111111111,\"#46039f\"],[0.2222222222222222,\"#7201a8\"],[0.3333333333333333,\"#9c179e\"],[0.4444444444444444,\"#bd3786\"],[0.5555555555555556,\"#d8576b\"],[0.6666666666666666,\"#ed7953\"],[0.7777777777777778,\"#fb9f3a\"],[0.8888888888888888,\"#fdca26\"],[1.0,\"#f0f921\"]],\"diverging\":[[0,\"#8e0152\"],[0.1,\"#c51b7d\"],[0.2,\"#de77ae\"],[0.3,\"#f1b6da\"],[0.4,\"#fde0ef\"],[0.5,\"#f7f7f7\"],[0.6,\"#e6f5d0\"],[0.7,\"#b8e186\"],[0.8,\"#7fbc41\"],[0.9,\"#4d9221\"],[1,\"#276419\"]]},\"xaxis\":{\"gridcolor\":\"#EBF0F8\",\"linecolor\":\"#EBF0F8\",\"ticks\":\"\",\"title\":{\"standoff\":15},\"zerolinecolor\":\"#EBF0F8\",\"automargin\":true,\"zerolinewidth\":2},\"yaxis\":{\"gridcolor\":\"#EBF0F8\",\"linecolor\":\"#EBF0F8\",\"ticks\":\"\",\"title\":{\"standoff\":15},\"zerolinecolor\":\"#EBF0F8\",\"automargin\":true,\"zerolinewidth\":2},\"scene\":{\"xaxis\":{\"backgroundcolor\":\"white\",\"gridcolor\":\"#DFE8F3\",\"linecolor\":\"#EBF0F8\",\"showbackground\":true,\"ticks\":\"\",\"zerolinecolor\":\"#EBF0F8\",\"gridwidth\":2},\"yaxis\":{\"backgroundcolor\":\"white\",\"gridcolor\":\"#DFE8F3\",\"linecolor\":\"#EBF0F8\",\"showbackground\":true,\"ticks\":\"\",\"zerolinecolor\":\"#EBF0F8\",\"gridwidth\":2},\"zaxis\":{\"backgroundcolor\":\"white\",\"gridcolor\":\"#DFE8F3\",\"linecolor\":\"#EBF0F8\",\"showbackground\":true,\"ticks\":\"\",\"zerolinecolor\":\"#EBF0F8\",\"gridwidth\":2}},\"shapedefaults\":{\"line\":{\"color\":\"#2a3f5f\"}},\"annotationdefaults\":{\"arrowcolor\":\"#2a3f5f\",\"arrowhead\":0,\"arrowwidth\":1},\"geo\":{\"bgcolor\":\"white\",\"landcolor\":\"white\",\"subunitcolor\":\"#C8D4E3\",\"showland\":true,\"showlakes\":true,\"lakecolor\":\"white\"},\"title\":{\"x\":0.05},\"mapbox\":{\"style\":\"light\"}}},\"xaxis\":{\"anchor\":\"y\",\"domain\":[0.0,1.0],\"title\":{\"text\":\"Year\"}},\"yaxis\":{\"anchor\":\"x\",\"domain\":[0.0,1.0],\"title\":{\"text\":\"Number of Authorship Instances\"}},\"legend\":{\"tracegroupgap\":0},\"title\":{\"text\":\"Total Authorship Instances per Year (Across All Conferences)\"},\"hovermode\":\"x unified\"},                        {\"responsive\": true}                    ).then(function(){\n",
       "                            \n",
       "var gd = document.getElementById('58cb1a67-a7df-40f5-b275-e7b85347e400');\n",
       "var x = new MutationObserver(function (mutations, observer) {{\n",
       "        var display = window.getComputedStyle(gd).display;\n",
       "        if (!display || display === 'none') {{\n",
       "            console.log([gd, 'removed!']);\n",
       "            Plotly.purge(gd);\n",
       "            observer.disconnect();\n",
       "        }}\n",
       "}});\n",
       "\n",
       "// Listen for the removal of the full notebook cells\n",
       "var notebookContainer = gd.closest('#notebook-container');\n",
       "if (notebookContainer) {{\n",
       "    x.observe(notebookContainer, {childList: true});\n",
       "}}\n",
       "\n",
       "// Listen for the clearing of the current output cell\n",
       "var outputEl = gd.closest('.output');\n",
       "if (outputEl) {{\n",
       "    x.observe(outputEl, {childList: true});\n",
       "}}\n",
       "\n",
       "                        })                };            </script>        </div>"
      ]
     },
     "metadata": {},
     "output_type": "display_data"
    },
    {
     "name": "stdout",
     "output_type": "stream",
     "text": [
      "Plot 3: Total Authorship Instances per Conference\n"
     ]
    },
    {
     "data": {
      "application/vnd.plotly.v1+json": {
       "config": {
        "plotlyServerURL": "https://plot.ly"
       },
       "data": [
        {
         "hovertemplate": "Conference=%{x}<br>Number of Authorship Instances=%{y}<extra></extra>",
         "legendgroup": "NeurIPS",
         "marker": {
          "color": "#636efa",
          "pattern": {
           "shape": ""
          }
         },
         "name": "NeurIPS",
         "orientation": "v",
         "showlegend": true,
         "textposition": "auto",
         "texttemplate": "%{y}",
         "type": "bar",
         "x": [
          "NeurIPS"
         ],
         "xaxis": "x",
         "y": {
          "bdata": "oZQBAA==",
          "dtype": "i4"
         },
         "yaxis": "y"
        },
        {
         "hovertemplate": "Conference=%{x}<br>Number of Authorship Instances=%{y}<extra></extra>",
         "legendgroup": "ICML",
         "marker": {
          "color": "#EF553B",
          "pattern": {
           "shape": ""
          }
         },
         "name": "ICML",
         "orientation": "v",
         "showlegend": true,
         "textposition": "auto",
         "texttemplate": "%{y}",
         "type": "bar",
         "x": [
          "ICML"
         ],
         "xaxis": "x",
         "y": {
          "bdata": "DLIAAA==",
          "dtype": "i4"
         },
         "yaxis": "y"
        },
        {
         "hovertemplate": "Conference=%{x}<br>Number of Authorship Instances=%{y}<extra></extra>",
         "legendgroup": "ICLR",
         "marker": {
          "color": "#00cc96",
          "pattern": {
           "shape": ""
          }
         },
         "name": "ICLR",
         "orientation": "v",
         "showlegend": true,
         "textposition": "auto",
         "texttemplate": "%{y}",
         "type": "bar",
         "x": [
          "ICLR"
         ],
         "xaxis": "x",
         "y": {
          "bdata": "9IUAAA==",
          "dtype": "i4"
         },
         "yaxis": "y"
        }
       ],
       "layout": {
        "barmode": "relative",
        "legend": {
         "title": {
          "text": "Conference"
         },
         "tracegroupgap": 0
        },
        "showlegend": false,
        "template": {
         "data": {
          "bar": [
           {
            "error_x": {
             "color": "#2a3f5f"
            },
            "error_y": {
             "color": "#2a3f5f"
            },
            "marker": {
             "line": {
              "color": "white",
              "width": 0.5
             },
             "pattern": {
              "fillmode": "overlay",
              "size": 10,
              "solidity": 0.2
             }
            },
            "type": "bar"
           }
          ],
          "barpolar": [
           {
            "marker": {
             "line": {
              "color": "white",
              "width": 0.5
             },
             "pattern": {
              "fillmode": "overlay",
              "size": 10,
              "solidity": 0.2
             }
            },
            "type": "barpolar"
           }
          ],
          "carpet": [
           {
            "aaxis": {
             "endlinecolor": "#2a3f5f",
             "gridcolor": "#C8D4E3",
             "linecolor": "#C8D4E3",
             "minorgridcolor": "#C8D4E3",
             "startlinecolor": "#2a3f5f"
            },
            "baxis": {
             "endlinecolor": "#2a3f5f",
             "gridcolor": "#C8D4E3",
             "linecolor": "#C8D4E3",
             "minorgridcolor": "#C8D4E3",
             "startlinecolor": "#2a3f5f"
            },
            "type": "carpet"
           }
          ],
          "choropleth": [
           {
            "colorbar": {
             "outlinewidth": 0,
             "ticks": ""
            },
            "type": "choropleth"
           }
          ],
          "contour": [
           {
            "colorbar": {
             "outlinewidth": 0,
             "ticks": ""
            },
            "colorscale": [
             [
              0,
              "#0d0887"
             ],
             [
              0.1111111111111111,
              "#46039f"
             ],
             [
              0.2222222222222222,
              "#7201a8"
             ],
             [
              0.3333333333333333,
              "#9c179e"
             ],
             [
              0.4444444444444444,
              "#bd3786"
             ],
             [
              0.5555555555555556,
              "#d8576b"
             ],
             [
              0.6666666666666666,
              "#ed7953"
             ],
             [
              0.7777777777777778,
              "#fb9f3a"
             ],
             [
              0.8888888888888888,
              "#fdca26"
             ],
             [
              1,
              "#f0f921"
             ]
            ],
            "type": "contour"
           }
          ],
          "contourcarpet": [
           {
            "colorbar": {
             "outlinewidth": 0,
             "ticks": ""
            },
            "type": "contourcarpet"
           }
          ],
          "heatmap": [
           {
            "colorbar": {
             "outlinewidth": 0,
             "ticks": ""
            },
            "colorscale": [
             [
              0,
              "#0d0887"
             ],
             [
              0.1111111111111111,
              "#46039f"
             ],
             [
              0.2222222222222222,
              "#7201a8"
             ],
             [
              0.3333333333333333,
              "#9c179e"
             ],
             [
              0.4444444444444444,
              "#bd3786"
             ],
             [
              0.5555555555555556,
              "#d8576b"
             ],
             [
              0.6666666666666666,
              "#ed7953"
             ],
             [
              0.7777777777777778,
              "#fb9f3a"
             ],
             [
              0.8888888888888888,
              "#fdca26"
             ],
             [
              1,
              "#f0f921"
             ]
            ],
            "type": "heatmap"
           }
          ],
          "histogram": [
           {
            "marker": {
             "pattern": {
              "fillmode": "overlay",
              "size": 10,
              "solidity": 0.2
             }
            },
            "type": "histogram"
           }
          ],
          "histogram2d": [
           {
            "colorbar": {
             "outlinewidth": 0,
             "ticks": ""
            },
            "colorscale": [
             [
              0,
              "#0d0887"
             ],
             [
              0.1111111111111111,
              "#46039f"
             ],
             [
              0.2222222222222222,
              "#7201a8"
             ],
             [
              0.3333333333333333,
              "#9c179e"
             ],
             [
              0.4444444444444444,
              "#bd3786"
             ],
             [
              0.5555555555555556,
              "#d8576b"
             ],
             [
              0.6666666666666666,
              "#ed7953"
             ],
             [
              0.7777777777777778,
              "#fb9f3a"
             ],
             [
              0.8888888888888888,
              "#fdca26"
             ],
             [
              1,
              "#f0f921"
             ]
            ],
            "type": "histogram2d"
           }
          ],
          "histogram2dcontour": [
           {
            "colorbar": {
             "outlinewidth": 0,
             "ticks": ""
            },
            "colorscale": [
             [
              0,
              "#0d0887"
             ],
             [
              0.1111111111111111,
              "#46039f"
             ],
             [
              0.2222222222222222,
              "#7201a8"
             ],
             [
              0.3333333333333333,
              "#9c179e"
             ],
             [
              0.4444444444444444,
              "#bd3786"
             ],
             [
              0.5555555555555556,
              "#d8576b"
             ],
             [
              0.6666666666666666,
              "#ed7953"
             ],
             [
              0.7777777777777778,
              "#fb9f3a"
             ],
             [
              0.8888888888888888,
              "#fdca26"
             ],
             [
              1,
              "#f0f921"
             ]
            ],
            "type": "histogram2dcontour"
           }
          ],
          "mesh3d": [
           {
            "colorbar": {
             "outlinewidth": 0,
             "ticks": ""
            },
            "type": "mesh3d"
           }
          ],
          "parcoords": [
           {
            "line": {
             "colorbar": {
              "outlinewidth": 0,
              "ticks": ""
             }
            },
            "type": "parcoords"
           }
          ],
          "pie": [
           {
            "automargin": true,
            "type": "pie"
           }
          ],
          "scatter": [
           {
            "fillpattern": {
             "fillmode": "overlay",
             "size": 10,
             "solidity": 0.2
            },
            "type": "scatter"
           }
          ],
          "scatter3d": [
           {
            "line": {
             "colorbar": {
              "outlinewidth": 0,
              "ticks": ""
             }
            },
            "marker": {
             "colorbar": {
              "outlinewidth": 0,
              "ticks": ""
             }
            },
            "type": "scatter3d"
           }
          ],
          "scattercarpet": [
           {
            "marker": {
             "colorbar": {
              "outlinewidth": 0,
              "ticks": ""
             }
            },
            "type": "scattercarpet"
           }
          ],
          "scattergeo": [
           {
            "marker": {
             "colorbar": {
              "outlinewidth": 0,
              "ticks": ""
             }
            },
            "type": "scattergeo"
           }
          ],
          "scattergl": [
           {
            "marker": {
             "colorbar": {
              "outlinewidth": 0,
              "ticks": ""
             }
            },
            "type": "scattergl"
           }
          ],
          "scattermap": [
           {
            "marker": {
             "colorbar": {
              "outlinewidth": 0,
              "ticks": ""
             }
            },
            "type": "scattermap"
           }
          ],
          "scattermapbox": [
           {
            "marker": {
             "colorbar": {
              "outlinewidth": 0,
              "ticks": ""
             }
            },
            "type": "scattermapbox"
           }
          ],
          "scatterpolar": [
           {
            "marker": {
             "colorbar": {
              "outlinewidth": 0,
              "ticks": ""
             }
            },
            "type": "scatterpolar"
           }
          ],
          "scatterpolargl": [
           {
            "marker": {
             "colorbar": {
              "outlinewidth": 0,
              "ticks": ""
             }
            },
            "type": "scatterpolargl"
           }
          ],
          "scatterternary": [
           {
            "marker": {
             "colorbar": {
              "outlinewidth": 0,
              "ticks": ""
             }
            },
            "type": "scatterternary"
           }
          ],
          "surface": [
           {
            "colorbar": {
             "outlinewidth": 0,
             "ticks": ""
            },
            "colorscale": [
             [
              0,
              "#0d0887"
             ],
             [
              0.1111111111111111,
              "#46039f"
             ],
             [
              0.2222222222222222,
              "#7201a8"
             ],
             [
              0.3333333333333333,
              "#9c179e"
             ],
             [
              0.4444444444444444,
              "#bd3786"
             ],
             [
              0.5555555555555556,
              "#d8576b"
             ],
             [
              0.6666666666666666,
              "#ed7953"
             ],
             [
              0.7777777777777778,
              "#fb9f3a"
             ],
             [
              0.8888888888888888,
              "#fdca26"
             ],
             [
              1,
              "#f0f921"
             ]
            ],
            "type": "surface"
           }
          ],
          "table": [
           {
            "cells": {
             "fill": {
              "color": "#EBF0F8"
             },
             "line": {
              "color": "white"
             }
            },
            "header": {
             "fill": {
              "color": "#C8D4E3"
             },
             "line": {
              "color": "white"
             }
            },
            "type": "table"
           }
          ]
         },
         "layout": {
          "annotationdefaults": {
           "arrowcolor": "#2a3f5f",
           "arrowhead": 0,
           "arrowwidth": 1
          },
          "autotypenumbers": "strict",
          "coloraxis": {
           "colorbar": {
            "outlinewidth": 0,
            "ticks": ""
           }
          },
          "colorscale": {
           "diverging": [
            [
             0,
             "#8e0152"
            ],
            [
             0.1,
             "#c51b7d"
            ],
            [
             0.2,
             "#de77ae"
            ],
            [
             0.3,
             "#f1b6da"
            ],
            [
             0.4,
             "#fde0ef"
            ],
            [
             0.5,
             "#f7f7f7"
            ],
            [
             0.6,
             "#e6f5d0"
            ],
            [
             0.7,
             "#b8e186"
            ],
            [
             0.8,
             "#7fbc41"
            ],
            [
             0.9,
             "#4d9221"
            ],
            [
             1,
             "#276419"
            ]
           ],
           "sequential": [
            [
             0,
             "#0d0887"
            ],
            [
             0.1111111111111111,
             "#46039f"
            ],
            [
             0.2222222222222222,
             "#7201a8"
            ],
            [
             0.3333333333333333,
             "#9c179e"
            ],
            [
             0.4444444444444444,
             "#bd3786"
            ],
            [
             0.5555555555555556,
             "#d8576b"
            ],
            [
             0.6666666666666666,
             "#ed7953"
            ],
            [
             0.7777777777777778,
             "#fb9f3a"
            ],
            [
             0.8888888888888888,
             "#fdca26"
            ],
            [
             1,
             "#f0f921"
            ]
           ],
           "sequentialminus": [
            [
             0,
             "#0d0887"
            ],
            [
             0.1111111111111111,
             "#46039f"
            ],
            [
             0.2222222222222222,
             "#7201a8"
            ],
            [
             0.3333333333333333,
             "#9c179e"
            ],
            [
             0.4444444444444444,
             "#bd3786"
            ],
            [
             0.5555555555555556,
             "#d8576b"
            ],
            [
             0.6666666666666666,
             "#ed7953"
            ],
            [
             0.7777777777777778,
             "#fb9f3a"
            ],
            [
             0.8888888888888888,
             "#fdca26"
            ],
            [
             1,
             "#f0f921"
            ]
           ]
          },
          "colorway": [
           "#636efa",
           "#EF553B",
           "#00cc96",
           "#ab63fa",
           "#FFA15A",
           "#19d3f3",
           "#FF6692",
           "#B6E880",
           "#FF97FF",
           "#FECB52"
          ],
          "font": {
           "color": "#2a3f5f"
          },
          "geo": {
           "bgcolor": "white",
           "lakecolor": "white",
           "landcolor": "white",
           "showlakes": true,
           "showland": true,
           "subunitcolor": "#C8D4E3"
          },
          "hoverlabel": {
           "align": "left"
          },
          "hovermode": "closest",
          "mapbox": {
           "style": "light"
          },
          "paper_bgcolor": "white",
          "plot_bgcolor": "white",
          "polar": {
           "angularaxis": {
            "gridcolor": "#EBF0F8",
            "linecolor": "#EBF0F8",
            "ticks": ""
           },
           "bgcolor": "white",
           "radialaxis": {
            "gridcolor": "#EBF0F8",
            "linecolor": "#EBF0F8",
            "ticks": ""
           }
          },
          "scene": {
           "xaxis": {
            "backgroundcolor": "white",
            "gridcolor": "#DFE8F3",
            "gridwidth": 2,
            "linecolor": "#EBF0F8",
            "showbackground": true,
            "ticks": "",
            "zerolinecolor": "#EBF0F8"
           },
           "yaxis": {
            "backgroundcolor": "white",
            "gridcolor": "#DFE8F3",
            "gridwidth": 2,
            "linecolor": "#EBF0F8",
            "showbackground": true,
            "ticks": "",
            "zerolinecolor": "#EBF0F8"
           },
           "zaxis": {
            "backgroundcolor": "white",
            "gridcolor": "#DFE8F3",
            "gridwidth": 2,
            "linecolor": "#EBF0F8",
            "showbackground": true,
            "ticks": "",
            "zerolinecolor": "#EBF0F8"
           }
          },
          "shapedefaults": {
           "line": {
            "color": "#2a3f5f"
           }
          },
          "ternary": {
           "aaxis": {
            "gridcolor": "#DFE8F3",
            "linecolor": "#A2B1C6",
            "ticks": ""
           },
           "baxis": {
            "gridcolor": "#DFE8F3",
            "linecolor": "#A2B1C6",
            "ticks": ""
           },
           "bgcolor": "white",
           "caxis": {
            "gridcolor": "#DFE8F3",
            "linecolor": "#A2B1C6",
            "ticks": ""
           }
          },
          "title": {
           "x": 0.05
          },
          "xaxis": {
           "automargin": true,
           "gridcolor": "#EBF0F8",
           "linecolor": "#EBF0F8",
           "ticks": "",
           "title": {
            "standoff": 15
           },
           "zerolinecolor": "#EBF0F8",
           "zerolinewidth": 2
          },
          "yaxis": {
           "automargin": true,
           "gridcolor": "#EBF0F8",
           "linecolor": "#EBF0F8",
           "ticks": "",
           "title": {
            "standoff": 15
           },
           "zerolinecolor": "#EBF0F8",
           "zerolinewidth": 2
          }
         }
        },
        "title": {
         "text": "Total Authorship Instances per Conference (Overall)"
        },
        "xaxis": {
         "anchor": "y",
         "categoryarray": [
          "NeurIPS",
          "ICML",
          "ICLR"
         ],
         "categoryorder": "array",
         "domain": [
          0,
          1
         ],
         "title": {
          "text": "Conference"
         }
        },
        "yaxis": {
         "anchor": "x",
         "domain": [
          0,
          1
         ],
         "title": {
          "text": "Number of Authorship Instances"
         }
        }
       }
      },
      "text/html": [
       "<div>            <script src=\"https://cdnjs.cloudflare.com/ajax/libs/mathjax/2.7.5/MathJax.js?config=TeX-AMS-MML_SVG\"></script><script type=\"text/javascript\">if (window.MathJax && window.MathJax.Hub && window.MathJax.Hub.Config) {window.MathJax.Hub.Config({SVG: {font: \"STIX-Web\"}});}</script>                <script type=\"text/javascript\">window.PlotlyConfig = {MathJaxConfig: 'local'};</script>\n",
       "        <script charset=\"utf-8\" src=\"https://cdn.plot.ly/plotly-3.0.1.min.js\"></script>                <div id=\"784ef54a-8a10-48fc-ae66-69d4fa525a44\" class=\"plotly-graph-div\" style=\"height:525px; width:100%;\"></div>            <script type=\"text/javascript\">                window.PLOTLYENV=window.PLOTLYENV || {};                                if (document.getElementById(\"784ef54a-8a10-48fc-ae66-69d4fa525a44\")) {                    Plotly.newPlot(                        \"784ef54a-8a10-48fc-ae66-69d4fa525a44\",                        [{\"hovertemplate\":\"Conference=%{x}\\u003cbr\\u003eNumber of Authorship Instances=%{y}\\u003cextra\\u003e\\u003c\\u002fextra\\u003e\",\"legendgroup\":\"NeurIPS\",\"marker\":{\"color\":\"#636efa\",\"pattern\":{\"shape\":\"\"}},\"name\":\"NeurIPS\",\"orientation\":\"v\",\"showlegend\":true,\"textposition\":\"auto\",\"texttemplate\":\"%{y}\",\"x\":[\"NeurIPS\"],\"xaxis\":\"x\",\"y\":{\"dtype\":\"i4\",\"bdata\":\"oZQBAA==\"},\"yaxis\":\"y\",\"type\":\"bar\"},{\"hovertemplate\":\"Conference=%{x}\\u003cbr\\u003eNumber of Authorship Instances=%{y}\\u003cextra\\u003e\\u003c\\u002fextra\\u003e\",\"legendgroup\":\"ICML\",\"marker\":{\"color\":\"#EF553B\",\"pattern\":{\"shape\":\"\"}},\"name\":\"ICML\",\"orientation\":\"v\",\"showlegend\":true,\"textposition\":\"auto\",\"texttemplate\":\"%{y}\",\"x\":[\"ICML\"],\"xaxis\":\"x\",\"y\":{\"dtype\":\"i4\",\"bdata\":\"DLIAAA==\"},\"yaxis\":\"y\",\"type\":\"bar\"},{\"hovertemplate\":\"Conference=%{x}\\u003cbr\\u003eNumber of Authorship Instances=%{y}\\u003cextra\\u003e\\u003c\\u002fextra\\u003e\",\"legendgroup\":\"ICLR\",\"marker\":{\"color\":\"#00cc96\",\"pattern\":{\"shape\":\"\"}},\"name\":\"ICLR\",\"orientation\":\"v\",\"showlegend\":true,\"textposition\":\"auto\",\"texttemplate\":\"%{y}\",\"x\":[\"ICLR\"],\"xaxis\":\"x\",\"y\":{\"dtype\":\"i4\",\"bdata\":\"9IUAAA==\"},\"yaxis\":\"y\",\"type\":\"bar\"}],                        {\"template\":{\"data\":{\"histogram2dcontour\":[{\"type\":\"histogram2dcontour\",\"colorbar\":{\"outlinewidth\":0,\"ticks\":\"\"},\"colorscale\":[[0.0,\"#0d0887\"],[0.1111111111111111,\"#46039f\"],[0.2222222222222222,\"#7201a8\"],[0.3333333333333333,\"#9c179e\"],[0.4444444444444444,\"#bd3786\"],[0.5555555555555556,\"#d8576b\"],[0.6666666666666666,\"#ed7953\"],[0.7777777777777778,\"#fb9f3a\"],[0.8888888888888888,\"#fdca26\"],[1.0,\"#f0f921\"]]}],\"choropleth\":[{\"type\":\"choropleth\",\"colorbar\":{\"outlinewidth\":0,\"ticks\":\"\"}}],\"histogram2d\":[{\"type\":\"histogram2d\",\"colorbar\":{\"outlinewidth\":0,\"ticks\":\"\"},\"colorscale\":[[0.0,\"#0d0887\"],[0.1111111111111111,\"#46039f\"],[0.2222222222222222,\"#7201a8\"],[0.3333333333333333,\"#9c179e\"],[0.4444444444444444,\"#bd3786\"],[0.5555555555555556,\"#d8576b\"],[0.6666666666666666,\"#ed7953\"],[0.7777777777777778,\"#fb9f3a\"],[0.8888888888888888,\"#fdca26\"],[1.0,\"#f0f921\"]]}],\"heatmap\":[{\"type\":\"heatmap\",\"colorbar\":{\"outlinewidth\":0,\"ticks\":\"\"},\"colorscale\":[[0.0,\"#0d0887\"],[0.1111111111111111,\"#46039f\"],[0.2222222222222222,\"#7201a8\"],[0.3333333333333333,\"#9c179e\"],[0.4444444444444444,\"#bd3786\"],[0.5555555555555556,\"#d8576b\"],[0.6666666666666666,\"#ed7953\"],[0.7777777777777778,\"#fb9f3a\"],[0.8888888888888888,\"#fdca26\"],[1.0,\"#f0f921\"]]}],\"contourcarpet\":[{\"type\":\"contourcarpet\",\"colorbar\":{\"outlinewidth\":0,\"ticks\":\"\"}}],\"contour\":[{\"type\":\"contour\",\"colorbar\":{\"outlinewidth\":0,\"ticks\":\"\"},\"colorscale\":[[0.0,\"#0d0887\"],[0.1111111111111111,\"#46039f\"],[0.2222222222222222,\"#7201a8\"],[0.3333333333333333,\"#9c179e\"],[0.4444444444444444,\"#bd3786\"],[0.5555555555555556,\"#d8576b\"],[0.6666666666666666,\"#ed7953\"],[0.7777777777777778,\"#fb9f3a\"],[0.8888888888888888,\"#fdca26\"],[1.0,\"#f0f921\"]]}],\"surface\":[{\"type\":\"surface\",\"colorbar\":{\"outlinewidth\":0,\"ticks\":\"\"},\"colorscale\":[[0.0,\"#0d0887\"],[0.1111111111111111,\"#46039f\"],[0.2222222222222222,\"#7201a8\"],[0.3333333333333333,\"#9c179e\"],[0.4444444444444444,\"#bd3786\"],[0.5555555555555556,\"#d8576b\"],[0.6666666666666666,\"#ed7953\"],[0.7777777777777778,\"#fb9f3a\"],[0.8888888888888888,\"#fdca26\"],[1.0,\"#f0f921\"]]}],\"mesh3d\":[{\"type\":\"mesh3d\",\"colorbar\":{\"outlinewidth\":0,\"ticks\":\"\"}}],\"scatter\":[{\"fillpattern\":{\"fillmode\":\"overlay\",\"size\":10,\"solidity\":0.2},\"type\":\"scatter\"}],\"parcoords\":[{\"type\":\"parcoords\",\"line\":{\"colorbar\":{\"outlinewidth\":0,\"ticks\":\"\"}}}],\"scatterpolargl\":[{\"type\":\"scatterpolargl\",\"marker\":{\"colorbar\":{\"outlinewidth\":0,\"ticks\":\"\"}}}],\"bar\":[{\"error_x\":{\"color\":\"#2a3f5f\"},\"error_y\":{\"color\":\"#2a3f5f\"},\"marker\":{\"line\":{\"color\":\"white\",\"width\":0.5},\"pattern\":{\"fillmode\":\"overlay\",\"size\":10,\"solidity\":0.2}},\"type\":\"bar\"}],\"scattergeo\":[{\"type\":\"scattergeo\",\"marker\":{\"colorbar\":{\"outlinewidth\":0,\"ticks\":\"\"}}}],\"scatterpolar\":[{\"type\":\"scatterpolar\",\"marker\":{\"colorbar\":{\"outlinewidth\":0,\"ticks\":\"\"}}}],\"histogram\":[{\"marker\":{\"pattern\":{\"fillmode\":\"overlay\",\"size\":10,\"solidity\":0.2}},\"type\":\"histogram\"}],\"scattergl\":[{\"type\":\"scattergl\",\"marker\":{\"colorbar\":{\"outlinewidth\":0,\"ticks\":\"\"}}}],\"scatter3d\":[{\"type\":\"scatter3d\",\"line\":{\"colorbar\":{\"outlinewidth\":0,\"ticks\":\"\"}},\"marker\":{\"colorbar\":{\"outlinewidth\":0,\"ticks\":\"\"}}}],\"scattermap\":[{\"type\":\"scattermap\",\"marker\":{\"colorbar\":{\"outlinewidth\":0,\"ticks\":\"\"}}}],\"scattermapbox\":[{\"type\":\"scattermapbox\",\"marker\":{\"colorbar\":{\"outlinewidth\":0,\"ticks\":\"\"}}}],\"scatterternary\":[{\"type\":\"scatterternary\",\"marker\":{\"colorbar\":{\"outlinewidth\":0,\"ticks\":\"\"}}}],\"scattercarpet\":[{\"type\":\"scattercarpet\",\"marker\":{\"colorbar\":{\"outlinewidth\":0,\"ticks\":\"\"}}}],\"carpet\":[{\"aaxis\":{\"endlinecolor\":\"#2a3f5f\",\"gridcolor\":\"#C8D4E3\",\"linecolor\":\"#C8D4E3\",\"minorgridcolor\":\"#C8D4E3\",\"startlinecolor\":\"#2a3f5f\"},\"baxis\":{\"endlinecolor\":\"#2a3f5f\",\"gridcolor\":\"#C8D4E3\",\"linecolor\":\"#C8D4E3\",\"minorgridcolor\":\"#C8D4E3\",\"startlinecolor\":\"#2a3f5f\"},\"type\":\"carpet\"}],\"table\":[{\"cells\":{\"fill\":{\"color\":\"#EBF0F8\"},\"line\":{\"color\":\"white\"}},\"header\":{\"fill\":{\"color\":\"#C8D4E3\"},\"line\":{\"color\":\"white\"}},\"type\":\"table\"}],\"barpolar\":[{\"marker\":{\"line\":{\"color\":\"white\",\"width\":0.5},\"pattern\":{\"fillmode\":\"overlay\",\"size\":10,\"solidity\":0.2}},\"type\":\"barpolar\"}],\"pie\":[{\"automargin\":true,\"type\":\"pie\"}]},\"layout\":{\"autotypenumbers\":\"strict\",\"colorway\":[\"#636efa\",\"#EF553B\",\"#00cc96\",\"#ab63fa\",\"#FFA15A\",\"#19d3f3\",\"#FF6692\",\"#B6E880\",\"#FF97FF\",\"#FECB52\"],\"font\":{\"color\":\"#2a3f5f\"},\"hovermode\":\"closest\",\"hoverlabel\":{\"align\":\"left\"},\"paper_bgcolor\":\"white\",\"plot_bgcolor\":\"white\",\"polar\":{\"bgcolor\":\"white\",\"angularaxis\":{\"gridcolor\":\"#EBF0F8\",\"linecolor\":\"#EBF0F8\",\"ticks\":\"\"},\"radialaxis\":{\"gridcolor\":\"#EBF0F8\",\"linecolor\":\"#EBF0F8\",\"ticks\":\"\"}},\"ternary\":{\"bgcolor\":\"white\",\"aaxis\":{\"gridcolor\":\"#DFE8F3\",\"linecolor\":\"#A2B1C6\",\"ticks\":\"\"},\"baxis\":{\"gridcolor\":\"#DFE8F3\",\"linecolor\":\"#A2B1C6\",\"ticks\":\"\"},\"caxis\":{\"gridcolor\":\"#DFE8F3\",\"linecolor\":\"#A2B1C6\",\"ticks\":\"\"}},\"coloraxis\":{\"colorbar\":{\"outlinewidth\":0,\"ticks\":\"\"}},\"colorscale\":{\"sequential\":[[0.0,\"#0d0887\"],[0.1111111111111111,\"#46039f\"],[0.2222222222222222,\"#7201a8\"],[0.3333333333333333,\"#9c179e\"],[0.4444444444444444,\"#bd3786\"],[0.5555555555555556,\"#d8576b\"],[0.6666666666666666,\"#ed7953\"],[0.7777777777777778,\"#fb9f3a\"],[0.8888888888888888,\"#fdca26\"],[1.0,\"#f0f921\"]],\"sequentialminus\":[[0.0,\"#0d0887\"],[0.1111111111111111,\"#46039f\"],[0.2222222222222222,\"#7201a8\"],[0.3333333333333333,\"#9c179e\"],[0.4444444444444444,\"#bd3786\"],[0.5555555555555556,\"#d8576b\"],[0.6666666666666666,\"#ed7953\"],[0.7777777777777778,\"#fb9f3a\"],[0.8888888888888888,\"#fdca26\"],[1.0,\"#f0f921\"]],\"diverging\":[[0,\"#8e0152\"],[0.1,\"#c51b7d\"],[0.2,\"#de77ae\"],[0.3,\"#f1b6da\"],[0.4,\"#fde0ef\"],[0.5,\"#f7f7f7\"],[0.6,\"#e6f5d0\"],[0.7,\"#b8e186\"],[0.8,\"#7fbc41\"],[0.9,\"#4d9221\"],[1,\"#276419\"]]},\"xaxis\":{\"gridcolor\":\"#EBF0F8\",\"linecolor\":\"#EBF0F8\",\"ticks\":\"\",\"title\":{\"standoff\":15},\"zerolinecolor\":\"#EBF0F8\",\"automargin\":true,\"zerolinewidth\":2},\"yaxis\":{\"gridcolor\":\"#EBF0F8\",\"linecolor\":\"#EBF0F8\",\"ticks\":\"\",\"title\":{\"standoff\":15},\"zerolinecolor\":\"#EBF0F8\",\"automargin\":true,\"zerolinewidth\":2},\"scene\":{\"xaxis\":{\"backgroundcolor\":\"white\",\"gridcolor\":\"#DFE8F3\",\"linecolor\":\"#EBF0F8\",\"showbackground\":true,\"ticks\":\"\",\"zerolinecolor\":\"#EBF0F8\",\"gridwidth\":2},\"yaxis\":{\"backgroundcolor\":\"white\",\"gridcolor\":\"#DFE8F3\",\"linecolor\":\"#EBF0F8\",\"showbackground\":true,\"ticks\":\"\",\"zerolinecolor\":\"#EBF0F8\",\"gridwidth\":2},\"zaxis\":{\"backgroundcolor\":\"white\",\"gridcolor\":\"#DFE8F3\",\"linecolor\":\"#EBF0F8\",\"showbackground\":true,\"ticks\":\"\",\"zerolinecolor\":\"#EBF0F8\",\"gridwidth\":2}},\"shapedefaults\":{\"line\":{\"color\":\"#2a3f5f\"}},\"annotationdefaults\":{\"arrowcolor\":\"#2a3f5f\",\"arrowhead\":0,\"arrowwidth\":1},\"geo\":{\"bgcolor\":\"white\",\"landcolor\":\"white\",\"subunitcolor\":\"#C8D4E3\",\"showland\":true,\"showlakes\":true,\"lakecolor\":\"white\"},\"title\":{\"x\":0.05},\"mapbox\":{\"style\":\"light\"}}},\"xaxis\":{\"anchor\":\"y\",\"domain\":[0.0,1.0],\"title\":{\"text\":\"Conference\"},\"categoryorder\":\"array\",\"categoryarray\":[\"NeurIPS\",\"ICML\",\"ICLR\"]},\"yaxis\":{\"anchor\":\"x\",\"domain\":[0.0,1.0],\"title\":{\"text\":\"Number of Authorship Instances\"}},\"legend\":{\"title\":{\"text\":\"Conference\"},\"tracegroupgap\":0},\"title\":{\"text\":\"Total Authorship Instances per Conference (Overall)\"},\"barmode\":\"relative\",\"showlegend\":false},                        {\"responsive\": true}                    ).then(function(){\n",
       "                            \n",
       "var gd = document.getElementById('784ef54a-8a10-48fc-ae66-69d4fa525a44');\n",
       "var x = new MutationObserver(function (mutations, observer) {{\n",
       "        var display = window.getComputedStyle(gd).display;\n",
       "        if (!display || display === 'none') {{\n",
       "            console.log([gd, 'removed!']);\n",
       "            Plotly.purge(gd);\n",
       "            observer.disconnect();\n",
       "        }}\n",
       "}});\n",
       "\n",
       "// Listen for the removal of the full notebook cells\n",
       "var notebookContainer = gd.closest('#notebook-container');\n",
       "if (notebookContainer) {{\n",
       "    x.observe(notebookContainer, {childList: true});\n",
       "}}\n",
       "\n",
       "// Listen for the clearing of the current output cell\n",
       "var outputEl = gd.closest('.output');\n",
       "if (outputEl) {{\n",
       "    x.observe(outputEl, {childList: true});\n",
       "}}\n",
       "\n",
       "                        })                };            </script>        </div>"
      ]
     },
     "metadata": {},
     "output_type": "display_data"
    },
    {
     "name": "stdout",
     "output_type": "stream",
     "text": [
      "Plot 4: Top 15 Countries\n"
     ]
    },
    {
     "data": {
      "application/vnd.plotly.v1+json": {
       "config": {
        "plotlyServerURL": "https://plot.ly"
       },
       "data": [
        {
         "hovertemplate": "Number of Authorship Instances=%{text}<br>Country=%{y}<extra></extra>",
         "legendgroup": "",
         "marker": {
          "color": "#636efa",
          "pattern": {
           "shape": ""
          }
         },
         "name": "",
         "orientation": "h",
         "showlegend": false,
         "text": {
          "bdata": "AAAAAADIkkAAAAAAACyVQAAAAAAA4KJAAAAAAAA4pEAAAAAAAJinQAAAAAAA8qdAAAAAAAD6qUAAAAAAAL2wQAAAAAAAPrJAAAAAAADYs0AAAAAAAHq4QAAAAAAA3L1AAAAAAAClv0AAAAAAQEbdQAAAAACwk/RA",
          "dtype": "f8"
         },
         "textposition": "outside",
         "type": "bar",
         "x": {
          "bdata": "sgQAAEsFAABwCQAAHAoAAMwLAAD5CwAA/QwAAL0QAAA+EgAA2BMAAHoYAADcHQAApR8AABl1AAA7SQEA",
          "dtype": "i4"
         },
         "xaxis": "x",
         "y": [
          "Italy",
          "Netherlands",
          "Israel",
          "Australia",
          "Japan",
          "Singapore",
          "Hong Kong",
          "Switzerland",
          "South Korea",
          "France",
          "Germany",
          "Canada",
          "UK",
          "China",
          "USA"
         ],
         "yaxis": "y"
        }
       ],
       "layout": {
        "barmode": "relative",
        "legend": {
         "tracegroupgap": 0
        },
        "template": {
         "data": {
          "bar": [
           {
            "error_x": {
             "color": "#2a3f5f"
            },
            "error_y": {
             "color": "#2a3f5f"
            },
            "marker": {
             "line": {
              "color": "white",
              "width": 0.5
             },
             "pattern": {
              "fillmode": "overlay",
              "size": 10,
              "solidity": 0.2
             }
            },
            "type": "bar"
           }
          ],
          "barpolar": [
           {
            "marker": {
             "line": {
              "color": "white",
              "width": 0.5
             },
             "pattern": {
              "fillmode": "overlay",
              "size": 10,
              "solidity": 0.2
             }
            },
            "type": "barpolar"
           }
          ],
          "carpet": [
           {
            "aaxis": {
             "endlinecolor": "#2a3f5f",
             "gridcolor": "#C8D4E3",
             "linecolor": "#C8D4E3",
             "minorgridcolor": "#C8D4E3",
             "startlinecolor": "#2a3f5f"
            },
            "baxis": {
             "endlinecolor": "#2a3f5f",
             "gridcolor": "#C8D4E3",
             "linecolor": "#C8D4E3",
             "minorgridcolor": "#C8D4E3",
             "startlinecolor": "#2a3f5f"
            },
            "type": "carpet"
           }
          ],
          "choropleth": [
           {
            "colorbar": {
             "outlinewidth": 0,
             "ticks": ""
            },
            "type": "choropleth"
           }
          ],
          "contour": [
           {
            "colorbar": {
             "outlinewidth": 0,
             "ticks": ""
            },
            "colorscale": [
             [
              0,
              "#0d0887"
             ],
             [
              0.1111111111111111,
              "#46039f"
             ],
             [
              0.2222222222222222,
              "#7201a8"
             ],
             [
              0.3333333333333333,
              "#9c179e"
             ],
             [
              0.4444444444444444,
              "#bd3786"
             ],
             [
              0.5555555555555556,
              "#d8576b"
             ],
             [
              0.6666666666666666,
              "#ed7953"
             ],
             [
              0.7777777777777778,
              "#fb9f3a"
             ],
             [
              0.8888888888888888,
              "#fdca26"
             ],
             [
              1,
              "#f0f921"
             ]
            ],
            "type": "contour"
           }
          ],
          "contourcarpet": [
           {
            "colorbar": {
             "outlinewidth": 0,
             "ticks": ""
            },
            "type": "contourcarpet"
           }
          ],
          "heatmap": [
           {
            "colorbar": {
             "outlinewidth": 0,
             "ticks": ""
            },
            "colorscale": [
             [
              0,
              "#0d0887"
             ],
             [
              0.1111111111111111,
              "#46039f"
             ],
             [
              0.2222222222222222,
              "#7201a8"
             ],
             [
              0.3333333333333333,
              "#9c179e"
             ],
             [
              0.4444444444444444,
              "#bd3786"
             ],
             [
              0.5555555555555556,
              "#d8576b"
             ],
             [
              0.6666666666666666,
              "#ed7953"
             ],
             [
              0.7777777777777778,
              "#fb9f3a"
             ],
             [
              0.8888888888888888,
              "#fdca26"
             ],
             [
              1,
              "#f0f921"
             ]
            ],
            "type": "heatmap"
           }
          ],
          "histogram": [
           {
            "marker": {
             "pattern": {
              "fillmode": "overlay",
              "size": 10,
              "solidity": 0.2
             }
            },
            "type": "histogram"
           }
          ],
          "histogram2d": [
           {
            "colorbar": {
             "outlinewidth": 0,
             "ticks": ""
            },
            "colorscale": [
             [
              0,
              "#0d0887"
             ],
             [
              0.1111111111111111,
              "#46039f"
             ],
             [
              0.2222222222222222,
              "#7201a8"
             ],
             [
              0.3333333333333333,
              "#9c179e"
             ],
             [
              0.4444444444444444,
              "#bd3786"
             ],
             [
              0.5555555555555556,
              "#d8576b"
             ],
             [
              0.6666666666666666,
              "#ed7953"
             ],
             [
              0.7777777777777778,
              "#fb9f3a"
             ],
             [
              0.8888888888888888,
              "#fdca26"
             ],
             [
              1,
              "#f0f921"
             ]
            ],
            "type": "histogram2d"
           }
          ],
          "histogram2dcontour": [
           {
            "colorbar": {
             "outlinewidth": 0,
             "ticks": ""
            },
            "colorscale": [
             [
              0,
              "#0d0887"
             ],
             [
              0.1111111111111111,
              "#46039f"
             ],
             [
              0.2222222222222222,
              "#7201a8"
             ],
             [
              0.3333333333333333,
              "#9c179e"
             ],
             [
              0.4444444444444444,
              "#bd3786"
             ],
             [
              0.5555555555555556,
              "#d8576b"
             ],
             [
              0.6666666666666666,
              "#ed7953"
             ],
             [
              0.7777777777777778,
              "#fb9f3a"
             ],
             [
              0.8888888888888888,
              "#fdca26"
             ],
             [
              1,
              "#f0f921"
             ]
            ],
            "type": "histogram2dcontour"
           }
          ],
          "mesh3d": [
           {
            "colorbar": {
             "outlinewidth": 0,
             "ticks": ""
            },
            "type": "mesh3d"
           }
          ],
          "parcoords": [
           {
            "line": {
             "colorbar": {
              "outlinewidth": 0,
              "ticks": ""
             }
            },
            "type": "parcoords"
           }
          ],
          "pie": [
           {
            "automargin": true,
            "type": "pie"
           }
          ],
          "scatter": [
           {
            "fillpattern": {
             "fillmode": "overlay",
             "size": 10,
             "solidity": 0.2
            },
            "type": "scatter"
           }
          ],
          "scatter3d": [
           {
            "line": {
             "colorbar": {
              "outlinewidth": 0,
              "ticks": ""
             }
            },
            "marker": {
             "colorbar": {
              "outlinewidth": 0,
              "ticks": ""
             }
            },
            "type": "scatter3d"
           }
          ],
          "scattercarpet": [
           {
            "marker": {
             "colorbar": {
              "outlinewidth": 0,
              "ticks": ""
             }
            },
            "type": "scattercarpet"
           }
          ],
          "scattergeo": [
           {
            "marker": {
             "colorbar": {
              "outlinewidth": 0,
              "ticks": ""
             }
            },
            "type": "scattergeo"
           }
          ],
          "scattergl": [
           {
            "marker": {
             "colorbar": {
              "outlinewidth": 0,
              "ticks": ""
             }
            },
            "type": "scattergl"
           }
          ],
          "scattermap": [
           {
            "marker": {
             "colorbar": {
              "outlinewidth": 0,
              "ticks": ""
             }
            },
            "type": "scattermap"
           }
          ],
          "scattermapbox": [
           {
            "marker": {
             "colorbar": {
              "outlinewidth": 0,
              "ticks": ""
             }
            },
            "type": "scattermapbox"
           }
          ],
          "scatterpolar": [
           {
            "marker": {
             "colorbar": {
              "outlinewidth": 0,
              "ticks": ""
             }
            },
            "type": "scatterpolar"
           }
          ],
          "scatterpolargl": [
           {
            "marker": {
             "colorbar": {
              "outlinewidth": 0,
              "ticks": ""
             }
            },
            "type": "scatterpolargl"
           }
          ],
          "scatterternary": [
           {
            "marker": {
             "colorbar": {
              "outlinewidth": 0,
              "ticks": ""
             }
            },
            "type": "scatterternary"
           }
          ],
          "surface": [
           {
            "colorbar": {
             "outlinewidth": 0,
             "ticks": ""
            },
            "colorscale": [
             [
              0,
              "#0d0887"
             ],
             [
              0.1111111111111111,
              "#46039f"
             ],
             [
              0.2222222222222222,
              "#7201a8"
             ],
             [
              0.3333333333333333,
              "#9c179e"
             ],
             [
              0.4444444444444444,
              "#bd3786"
             ],
             [
              0.5555555555555556,
              "#d8576b"
             ],
             [
              0.6666666666666666,
              "#ed7953"
             ],
             [
              0.7777777777777778,
              "#fb9f3a"
             ],
             [
              0.8888888888888888,
              "#fdca26"
             ],
             [
              1,
              "#f0f921"
             ]
            ],
            "type": "surface"
           }
          ],
          "table": [
           {
            "cells": {
             "fill": {
              "color": "#EBF0F8"
             },
             "line": {
              "color": "white"
             }
            },
            "header": {
             "fill": {
              "color": "#C8D4E3"
             },
             "line": {
              "color": "white"
             }
            },
            "type": "table"
           }
          ]
         },
         "layout": {
          "annotationdefaults": {
           "arrowcolor": "#2a3f5f",
           "arrowhead": 0,
           "arrowwidth": 1
          },
          "autotypenumbers": "strict",
          "coloraxis": {
           "colorbar": {
            "outlinewidth": 0,
            "ticks": ""
           }
          },
          "colorscale": {
           "diverging": [
            [
             0,
             "#8e0152"
            ],
            [
             0.1,
             "#c51b7d"
            ],
            [
             0.2,
             "#de77ae"
            ],
            [
             0.3,
             "#f1b6da"
            ],
            [
             0.4,
             "#fde0ef"
            ],
            [
             0.5,
             "#f7f7f7"
            ],
            [
             0.6,
             "#e6f5d0"
            ],
            [
             0.7,
             "#b8e186"
            ],
            [
             0.8,
             "#7fbc41"
            ],
            [
             0.9,
             "#4d9221"
            ],
            [
             1,
             "#276419"
            ]
           ],
           "sequential": [
            [
             0,
             "#0d0887"
            ],
            [
             0.1111111111111111,
             "#46039f"
            ],
            [
             0.2222222222222222,
             "#7201a8"
            ],
            [
             0.3333333333333333,
             "#9c179e"
            ],
            [
             0.4444444444444444,
             "#bd3786"
            ],
            [
             0.5555555555555556,
             "#d8576b"
            ],
            [
             0.6666666666666666,
             "#ed7953"
            ],
            [
             0.7777777777777778,
             "#fb9f3a"
            ],
            [
             0.8888888888888888,
             "#fdca26"
            ],
            [
             1,
             "#f0f921"
            ]
           ],
           "sequentialminus": [
            [
             0,
             "#0d0887"
            ],
            [
             0.1111111111111111,
             "#46039f"
            ],
            [
             0.2222222222222222,
             "#7201a8"
            ],
            [
             0.3333333333333333,
             "#9c179e"
            ],
            [
             0.4444444444444444,
             "#bd3786"
            ],
            [
             0.5555555555555556,
             "#d8576b"
            ],
            [
             0.6666666666666666,
             "#ed7953"
            ],
            [
             0.7777777777777778,
             "#fb9f3a"
            ],
            [
             0.8888888888888888,
             "#fdca26"
            ],
            [
             1,
             "#f0f921"
            ]
           ]
          },
          "colorway": [
           "#636efa",
           "#EF553B",
           "#00cc96",
           "#ab63fa",
           "#FFA15A",
           "#19d3f3",
           "#FF6692",
           "#B6E880",
           "#FF97FF",
           "#FECB52"
          ],
          "font": {
           "color": "#2a3f5f"
          },
          "geo": {
           "bgcolor": "white",
           "lakecolor": "white",
           "landcolor": "white",
           "showlakes": true,
           "showland": true,
           "subunitcolor": "#C8D4E3"
          },
          "hoverlabel": {
           "align": "left"
          },
          "hovermode": "closest",
          "mapbox": {
           "style": "light"
          },
          "paper_bgcolor": "white",
          "plot_bgcolor": "white",
          "polar": {
           "angularaxis": {
            "gridcolor": "#EBF0F8",
            "linecolor": "#EBF0F8",
            "ticks": ""
           },
           "bgcolor": "white",
           "radialaxis": {
            "gridcolor": "#EBF0F8",
            "linecolor": "#EBF0F8",
            "ticks": ""
           }
          },
          "scene": {
           "xaxis": {
            "backgroundcolor": "white",
            "gridcolor": "#DFE8F3",
            "gridwidth": 2,
            "linecolor": "#EBF0F8",
            "showbackground": true,
            "ticks": "",
            "zerolinecolor": "#EBF0F8"
           },
           "yaxis": {
            "backgroundcolor": "white",
            "gridcolor": "#DFE8F3",
            "gridwidth": 2,
            "linecolor": "#EBF0F8",
            "showbackground": true,
            "ticks": "",
            "zerolinecolor": "#EBF0F8"
           },
           "zaxis": {
            "backgroundcolor": "white",
            "gridcolor": "#DFE8F3",
            "gridwidth": 2,
            "linecolor": "#EBF0F8",
            "showbackground": true,
            "ticks": "",
            "zerolinecolor": "#EBF0F8"
           }
          },
          "shapedefaults": {
           "line": {
            "color": "#2a3f5f"
           }
          },
          "ternary": {
           "aaxis": {
            "gridcolor": "#DFE8F3",
            "linecolor": "#A2B1C6",
            "ticks": ""
           },
           "baxis": {
            "gridcolor": "#DFE8F3",
            "linecolor": "#A2B1C6",
            "ticks": ""
           },
           "bgcolor": "white",
           "caxis": {
            "gridcolor": "#DFE8F3",
            "linecolor": "#A2B1C6",
            "ticks": ""
           }
          },
          "title": {
           "x": 0.05
          },
          "xaxis": {
           "automargin": true,
           "gridcolor": "#EBF0F8",
           "linecolor": "#EBF0F8",
           "ticks": "",
           "title": {
            "standoff": 15
           },
           "zerolinecolor": "#EBF0F8",
           "zerolinewidth": 2
          },
          "yaxis": {
           "automargin": true,
           "gridcolor": "#EBF0F8",
           "linecolor": "#EBF0F8",
           "ticks": "",
           "title": {
            "standoff": 15
           },
           "zerolinecolor": "#EBF0F8",
           "zerolinewidth": 2
          }
         }
        },
        "title": {
         "text": "Top 15 Countries by Total Authorship Instances (Overall)"
        },
        "xaxis": {
         "anchor": "y",
         "domain": [
          0,
          1
         ],
         "title": {
          "text": "Number of Authorship Instances"
         }
        },
        "yaxis": {
         "anchor": "x",
         "categoryorder": "total ascending",
         "domain": [
          0,
          1
         ],
         "title": {
          "text": "Country"
         }
        }
       }
      },
      "text/html": [
       "<div>            <script src=\"https://cdnjs.cloudflare.com/ajax/libs/mathjax/2.7.5/MathJax.js?config=TeX-AMS-MML_SVG\"></script><script type=\"text/javascript\">if (window.MathJax && window.MathJax.Hub && window.MathJax.Hub.Config) {window.MathJax.Hub.Config({SVG: {font: \"STIX-Web\"}});}</script>                <script type=\"text/javascript\">window.PlotlyConfig = {MathJaxConfig: 'local'};</script>\n",
       "        <script charset=\"utf-8\" src=\"https://cdn.plot.ly/plotly-3.0.1.min.js\"></script>                <div id=\"dc8b86c6-f986-419d-8b0d-910ea7747a98\" class=\"plotly-graph-div\" style=\"height:525px; width:100%;\"></div>            <script type=\"text/javascript\">                window.PLOTLYENV=window.PLOTLYENV || {};                                if (document.getElementById(\"dc8b86c6-f986-419d-8b0d-910ea7747a98\")) {                    Plotly.newPlot(                        \"dc8b86c6-f986-419d-8b0d-910ea7747a98\",                        [{\"hovertemplate\":\"Number of Authorship Instances=%{text}\\u003cbr\\u003eCountry=%{y}\\u003cextra\\u003e\\u003c\\u002fextra\\u003e\",\"legendgroup\":\"\",\"marker\":{\"color\":\"#636efa\",\"pattern\":{\"shape\":\"\"}},\"name\":\"\",\"orientation\":\"h\",\"showlegend\":false,\"text\":{\"dtype\":\"f8\",\"bdata\":\"AAAAAADIkkAAAAAAACyVQAAAAAAA4KJAAAAAAAA4pEAAAAAAAJinQAAAAAAA8qdAAAAAAAD6qUAAAAAAAL2wQAAAAAAAPrJAAAAAAADYs0AAAAAAAHq4QAAAAAAA3L1AAAAAAAClv0AAAAAAQEbdQAAAAACwk\\u002fRA\"},\"textposition\":\"outside\",\"x\":{\"dtype\":\"i4\",\"bdata\":\"sgQAAEsFAABwCQAAHAoAAMwLAAD5CwAA\\u002fQwAAL0QAAA+EgAA2BMAAHoYAADcHQAApR8AABl1AAA7SQEA\"},\"xaxis\":\"x\",\"y\":[\"Italy\",\"Netherlands\",\"Israel\",\"Australia\",\"Japan\",\"Singapore\",\"Hong Kong\",\"Switzerland\",\"South Korea\",\"France\",\"Germany\",\"Canada\",\"UK\",\"China\",\"USA\"],\"yaxis\":\"y\",\"type\":\"bar\"}],                        {\"template\":{\"data\":{\"histogram2dcontour\":[{\"type\":\"histogram2dcontour\",\"colorbar\":{\"outlinewidth\":0,\"ticks\":\"\"},\"colorscale\":[[0.0,\"#0d0887\"],[0.1111111111111111,\"#46039f\"],[0.2222222222222222,\"#7201a8\"],[0.3333333333333333,\"#9c179e\"],[0.4444444444444444,\"#bd3786\"],[0.5555555555555556,\"#d8576b\"],[0.6666666666666666,\"#ed7953\"],[0.7777777777777778,\"#fb9f3a\"],[0.8888888888888888,\"#fdca26\"],[1.0,\"#f0f921\"]]}],\"choropleth\":[{\"type\":\"choropleth\",\"colorbar\":{\"outlinewidth\":0,\"ticks\":\"\"}}],\"histogram2d\":[{\"type\":\"histogram2d\",\"colorbar\":{\"outlinewidth\":0,\"ticks\":\"\"},\"colorscale\":[[0.0,\"#0d0887\"],[0.1111111111111111,\"#46039f\"],[0.2222222222222222,\"#7201a8\"],[0.3333333333333333,\"#9c179e\"],[0.4444444444444444,\"#bd3786\"],[0.5555555555555556,\"#d8576b\"],[0.6666666666666666,\"#ed7953\"],[0.7777777777777778,\"#fb9f3a\"],[0.8888888888888888,\"#fdca26\"],[1.0,\"#f0f921\"]]}],\"heatmap\":[{\"type\":\"heatmap\",\"colorbar\":{\"outlinewidth\":0,\"ticks\":\"\"},\"colorscale\":[[0.0,\"#0d0887\"],[0.1111111111111111,\"#46039f\"],[0.2222222222222222,\"#7201a8\"],[0.3333333333333333,\"#9c179e\"],[0.4444444444444444,\"#bd3786\"],[0.5555555555555556,\"#d8576b\"],[0.6666666666666666,\"#ed7953\"],[0.7777777777777778,\"#fb9f3a\"],[0.8888888888888888,\"#fdca26\"],[1.0,\"#f0f921\"]]}],\"contourcarpet\":[{\"type\":\"contourcarpet\",\"colorbar\":{\"outlinewidth\":0,\"ticks\":\"\"}}],\"contour\":[{\"type\":\"contour\",\"colorbar\":{\"outlinewidth\":0,\"ticks\":\"\"},\"colorscale\":[[0.0,\"#0d0887\"],[0.1111111111111111,\"#46039f\"],[0.2222222222222222,\"#7201a8\"],[0.3333333333333333,\"#9c179e\"],[0.4444444444444444,\"#bd3786\"],[0.5555555555555556,\"#d8576b\"],[0.6666666666666666,\"#ed7953\"],[0.7777777777777778,\"#fb9f3a\"],[0.8888888888888888,\"#fdca26\"],[1.0,\"#f0f921\"]]}],\"surface\":[{\"type\":\"surface\",\"colorbar\":{\"outlinewidth\":0,\"ticks\":\"\"},\"colorscale\":[[0.0,\"#0d0887\"],[0.1111111111111111,\"#46039f\"],[0.2222222222222222,\"#7201a8\"],[0.3333333333333333,\"#9c179e\"],[0.4444444444444444,\"#bd3786\"],[0.5555555555555556,\"#d8576b\"],[0.6666666666666666,\"#ed7953\"],[0.7777777777777778,\"#fb9f3a\"],[0.8888888888888888,\"#fdca26\"],[1.0,\"#f0f921\"]]}],\"mesh3d\":[{\"type\":\"mesh3d\",\"colorbar\":{\"outlinewidth\":0,\"ticks\":\"\"}}],\"scatter\":[{\"fillpattern\":{\"fillmode\":\"overlay\",\"size\":10,\"solidity\":0.2},\"type\":\"scatter\"}],\"parcoords\":[{\"type\":\"parcoords\",\"line\":{\"colorbar\":{\"outlinewidth\":0,\"ticks\":\"\"}}}],\"scatterpolargl\":[{\"type\":\"scatterpolargl\",\"marker\":{\"colorbar\":{\"outlinewidth\":0,\"ticks\":\"\"}}}],\"bar\":[{\"error_x\":{\"color\":\"#2a3f5f\"},\"error_y\":{\"color\":\"#2a3f5f\"},\"marker\":{\"line\":{\"color\":\"white\",\"width\":0.5},\"pattern\":{\"fillmode\":\"overlay\",\"size\":10,\"solidity\":0.2}},\"type\":\"bar\"}],\"scattergeo\":[{\"type\":\"scattergeo\",\"marker\":{\"colorbar\":{\"outlinewidth\":0,\"ticks\":\"\"}}}],\"scatterpolar\":[{\"type\":\"scatterpolar\",\"marker\":{\"colorbar\":{\"outlinewidth\":0,\"ticks\":\"\"}}}],\"histogram\":[{\"marker\":{\"pattern\":{\"fillmode\":\"overlay\",\"size\":10,\"solidity\":0.2}},\"type\":\"histogram\"}],\"scattergl\":[{\"type\":\"scattergl\",\"marker\":{\"colorbar\":{\"outlinewidth\":0,\"ticks\":\"\"}}}],\"scatter3d\":[{\"type\":\"scatter3d\",\"line\":{\"colorbar\":{\"outlinewidth\":0,\"ticks\":\"\"}},\"marker\":{\"colorbar\":{\"outlinewidth\":0,\"ticks\":\"\"}}}],\"scattermap\":[{\"type\":\"scattermap\",\"marker\":{\"colorbar\":{\"outlinewidth\":0,\"ticks\":\"\"}}}],\"scattermapbox\":[{\"type\":\"scattermapbox\",\"marker\":{\"colorbar\":{\"outlinewidth\":0,\"ticks\":\"\"}}}],\"scatterternary\":[{\"type\":\"scatterternary\",\"marker\":{\"colorbar\":{\"outlinewidth\":0,\"ticks\":\"\"}}}],\"scattercarpet\":[{\"type\":\"scattercarpet\",\"marker\":{\"colorbar\":{\"outlinewidth\":0,\"ticks\":\"\"}}}],\"carpet\":[{\"aaxis\":{\"endlinecolor\":\"#2a3f5f\",\"gridcolor\":\"#C8D4E3\",\"linecolor\":\"#C8D4E3\",\"minorgridcolor\":\"#C8D4E3\",\"startlinecolor\":\"#2a3f5f\"},\"baxis\":{\"endlinecolor\":\"#2a3f5f\",\"gridcolor\":\"#C8D4E3\",\"linecolor\":\"#C8D4E3\",\"minorgridcolor\":\"#C8D4E3\",\"startlinecolor\":\"#2a3f5f\"},\"type\":\"carpet\"}],\"table\":[{\"cells\":{\"fill\":{\"color\":\"#EBF0F8\"},\"line\":{\"color\":\"white\"}},\"header\":{\"fill\":{\"color\":\"#C8D4E3\"},\"line\":{\"color\":\"white\"}},\"type\":\"table\"}],\"barpolar\":[{\"marker\":{\"line\":{\"color\":\"white\",\"width\":0.5},\"pattern\":{\"fillmode\":\"overlay\",\"size\":10,\"solidity\":0.2}},\"type\":\"barpolar\"}],\"pie\":[{\"automargin\":true,\"type\":\"pie\"}]},\"layout\":{\"autotypenumbers\":\"strict\",\"colorway\":[\"#636efa\",\"#EF553B\",\"#00cc96\",\"#ab63fa\",\"#FFA15A\",\"#19d3f3\",\"#FF6692\",\"#B6E880\",\"#FF97FF\",\"#FECB52\"],\"font\":{\"color\":\"#2a3f5f\"},\"hovermode\":\"closest\",\"hoverlabel\":{\"align\":\"left\"},\"paper_bgcolor\":\"white\",\"plot_bgcolor\":\"white\",\"polar\":{\"bgcolor\":\"white\",\"angularaxis\":{\"gridcolor\":\"#EBF0F8\",\"linecolor\":\"#EBF0F8\",\"ticks\":\"\"},\"radialaxis\":{\"gridcolor\":\"#EBF0F8\",\"linecolor\":\"#EBF0F8\",\"ticks\":\"\"}},\"ternary\":{\"bgcolor\":\"white\",\"aaxis\":{\"gridcolor\":\"#DFE8F3\",\"linecolor\":\"#A2B1C6\",\"ticks\":\"\"},\"baxis\":{\"gridcolor\":\"#DFE8F3\",\"linecolor\":\"#A2B1C6\",\"ticks\":\"\"},\"caxis\":{\"gridcolor\":\"#DFE8F3\",\"linecolor\":\"#A2B1C6\",\"ticks\":\"\"}},\"coloraxis\":{\"colorbar\":{\"outlinewidth\":0,\"ticks\":\"\"}},\"colorscale\":{\"sequential\":[[0.0,\"#0d0887\"],[0.1111111111111111,\"#46039f\"],[0.2222222222222222,\"#7201a8\"],[0.3333333333333333,\"#9c179e\"],[0.4444444444444444,\"#bd3786\"],[0.5555555555555556,\"#d8576b\"],[0.6666666666666666,\"#ed7953\"],[0.7777777777777778,\"#fb9f3a\"],[0.8888888888888888,\"#fdca26\"],[1.0,\"#f0f921\"]],\"sequentialminus\":[[0.0,\"#0d0887\"],[0.1111111111111111,\"#46039f\"],[0.2222222222222222,\"#7201a8\"],[0.3333333333333333,\"#9c179e\"],[0.4444444444444444,\"#bd3786\"],[0.5555555555555556,\"#d8576b\"],[0.6666666666666666,\"#ed7953\"],[0.7777777777777778,\"#fb9f3a\"],[0.8888888888888888,\"#fdca26\"],[1.0,\"#f0f921\"]],\"diverging\":[[0,\"#8e0152\"],[0.1,\"#c51b7d\"],[0.2,\"#de77ae\"],[0.3,\"#f1b6da\"],[0.4,\"#fde0ef\"],[0.5,\"#f7f7f7\"],[0.6,\"#e6f5d0\"],[0.7,\"#b8e186\"],[0.8,\"#7fbc41\"],[0.9,\"#4d9221\"],[1,\"#276419\"]]},\"xaxis\":{\"gridcolor\":\"#EBF0F8\",\"linecolor\":\"#EBF0F8\",\"ticks\":\"\",\"title\":{\"standoff\":15},\"zerolinecolor\":\"#EBF0F8\",\"automargin\":true,\"zerolinewidth\":2},\"yaxis\":{\"gridcolor\":\"#EBF0F8\",\"linecolor\":\"#EBF0F8\",\"ticks\":\"\",\"title\":{\"standoff\":15},\"zerolinecolor\":\"#EBF0F8\",\"automargin\":true,\"zerolinewidth\":2},\"scene\":{\"xaxis\":{\"backgroundcolor\":\"white\",\"gridcolor\":\"#DFE8F3\",\"linecolor\":\"#EBF0F8\",\"showbackground\":true,\"ticks\":\"\",\"zerolinecolor\":\"#EBF0F8\",\"gridwidth\":2},\"yaxis\":{\"backgroundcolor\":\"white\",\"gridcolor\":\"#DFE8F3\",\"linecolor\":\"#EBF0F8\",\"showbackground\":true,\"ticks\":\"\",\"zerolinecolor\":\"#EBF0F8\",\"gridwidth\":2},\"zaxis\":{\"backgroundcolor\":\"white\",\"gridcolor\":\"#DFE8F3\",\"linecolor\":\"#EBF0F8\",\"showbackground\":true,\"ticks\":\"\",\"zerolinecolor\":\"#EBF0F8\",\"gridwidth\":2}},\"shapedefaults\":{\"line\":{\"color\":\"#2a3f5f\"}},\"annotationdefaults\":{\"arrowcolor\":\"#2a3f5f\",\"arrowhead\":0,\"arrowwidth\":1},\"geo\":{\"bgcolor\":\"white\",\"landcolor\":\"white\",\"subunitcolor\":\"#C8D4E3\",\"showland\":true,\"showlakes\":true,\"lakecolor\":\"white\"},\"title\":{\"x\":0.05},\"mapbox\":{\"style\":\"light\"}}},\"xaxis\":{\"anchor\":\"y\",\"domain\":[0.0,1.0],\"title\":{\"text\":\"Number of Authorship Instances\"}},\"yaxis\":{\"anchor\":\"x\",\"domain\":[0.0,1.0],\"title\":{\"text\":\"Country\"},\"categoryorder\":\"total ascending\"},\"legend\":{\"tracegroupgap\":0},\"title\":{\"text\":\"Top 15 Countries by Total Authorship Instances (Overall)\"},\"barmode\":\"relative\"},                        {\"responsive\": true}                    ).then(function(){\n",
       "                            \n",
       "var gd = document.getElementById('dc8b86c6-f986-419d-8b0d-910ea7747a98');\n",
       "var x = new MutationObserver(function (mutations, observer) {{\n",
       "        var display = window.getComputedStyle(gd).display;\n",
       "        if (!display || display === 'none') {{\n",
       "            console.log([gd, 'removed!']);\n",
       "            Plotly.purge(gd);\n",
       "            observer.disconnect();\n",
       "        }}\n",
       "}});\n",
       "\n",
       "// Listen for the removal of the full notebook cells\n",
       "var notebookContainer = gd.closest('#notebook-container');\n",
       "if (notebookContainer) {{\n",
       "    x.observe(notebookContainer, {childList: true});\n",
       "}}\n",
       "\n",
       "// Listen for the clearing of the current output cell\n",
       "var outputEl = gd.closest('.output');\n",
       "if (outputEl) {{\n",
       "    x.observe(outputEl, {childList: true});\n",
       "}}\n",
       "\n",
       "                        })                };            </script>        </div>"
      ]
     },
     "metadata": {},
     "output_type": "display_data"
    },
    {
     "name": "stdout",
     "output_type": "stream",
     "text": [
      "Plot 5: Top 15 Institutions\n"
     ]
    },
    {
     "data": {
      "application/vnd.plotly.v1+json": {
       "config": {
        "plotlyServerURL": "https://plot.ly"
       },
       "data": [
        {
         "hovertemplate": "Number of Authorship Instances=%{text}<br>Institution=%{y}<extra></extra>",
         "legendgroup": "",
         "marker": {
          "color": "#636efa",
          "pattern": {
           "shape": ""
          }
         },
         "name": "",
         "orientation": "h",
         "showlegend": false,
         "text": {
          "bdata": "AAAAAACkmUAAAAAAACSaQAAAAAAAaJpAAAAAAADMmkAAAAAAAOSaQAAAAAAAoJ1AAAAAAAAooUAAAAAAAP6iQAAAAAAAhqxAAAAAAAD0rEAAAAAAAEywQAAAAAAAqbBAAAAAAAAPskAAAAAAAEKyQAAAAAAAiMZA",
          "dtype": "f8"
         },
         "textposition": "outside",
         "type": "bar",
         "x": {
          "bdata": "aQaJBpoGswa5BmgHlAh/CUMOeg5MEKkQDxJCEhAt",
          "dtype": "i2"
         },
         "xaxis": "x",
         "y": [
          "Zhejiang University",
          "University of California, Los Angeles",
          "Facebook",
          "Princeton University",
          "Shanghai Jiao Tong University",
          "University of Texas at Austin",
          "University of Oxford",
          "Peking University",
          "University of California, Berkeley",
          "Microsoft",
          "Carnegie Mellon University",
          "Tsinghua University",
          "Massachusetts Institute of Technology",
          "Stanford University",
          "Google"
         ],
         "yaxis": "y"
        }
       ],
       "layout": {
        "barmode": "relative",
        "legend": {
         "tracegroupgap": 0
        },
        "template": {
         "data": {
          "bar": [
           {
            "error_x": {
             "color": "#2a3f5f"
            },
            "error_y": {
             "color": "#2a3f5f"
            },
            "marker": {
             "line": {
              "color": "white",
              "width": 0.5
             },
             "pattern": {
              "fillmode": "overlay",
              "size": 10,
              "solidity": 0.2
             }
            },
            "type": "bar"
           }
          ],
          "barpolar": [
           {
            "marker": {
             "line": {
              "color": "white",
              "width": 0.5
             },
             "pattern": {
              "fillmode": "overlay",
              "size": 10,
              "solidity": 0.2
             }
            },
            "type": "barpolar"
           }
          ],
          "carpet": [
           {
            "aaxis": {
             "endlinecolor": "#2a3f5f",
             "gridcolor": "#C8D4E3",
             "linecolor": "#C8D4E3",
             "minorgridcolor": "#C8D4E3",
             "startlinecolor": "#2a3f5f"
            },
            "baxis": {
             "endlinecolor": "#2a3f5f",
             "gridcolor": "#C8D4E3",
             "linecolor": "#C8D4E3",
             "minorgridcolor": "#C8D4E3",
             "startlinecolor": "#2a3f5f"
            },
            "type": "carpet"
           }
          ],
          "choropleth": [
           {
            "colorbar": {
             "outlinewidth": 0,
             "ticks": ""
            },
            "type": "choropleth"
           }
          ],
          "contour": [
           {
            "colorbar": {
             "outlinewidth": 0,
             "ticks": ""
            },
            "colorscale": [
             [
              0,
              "#0d0887"
             ],
             [
              0.1111111111111111,
              "#46039f"
             ],
             [
              0.2222222222222222,
              "#7201a8"
             ],
             [
              0.3333333333333333,
              "#9c179e"
             ],
             [
              0.4444444444444444,
              "#bd3786"
             ],
             [
              0.5555555555555556,
              "#d8576b"
             ],
             [
              0.6666666666666666,
              "#ed7953"
             ],
             [
              0.7777777777777778,
              "#fb9f3a"
             ],
             [
              0.8888888888888888,
              "#fdca26"
             ],
             [
              1,
              "#f0f921"
             ]
            ],
            "type": "contour"
           }
          ],
          "contourcarpet": [
           {
            "colorbar": {
             "outlinewidth": 0,
             "ticks": ""
            },
            "type": "contourcarpet"
           }
          ],
          "heatmap": [
           {
            "colorbar": {
             "outlinewidth": 0,
             "ticks": ""
            },
            "colorscale": [
             [
              0,
              "#0d0887"
             ],
             [
              0.1111111111111111,
              "#46039f"
             ],
             [
              0.2222222222222222,
              "#7201a8"
             ],
             [
              0.3333333333333333,
              "#9c179e"
             ],
             [
              0.4444444444444444,
              "#bd3786"
             ],
             [
              0.5555555555555556,
              "#d8576b"
             ],
             [
              0.6666666666666666,
              "#ed7953"
             ],
             [
              0.7777777777777778,
              "#fb9f3a"
             ],
             [
              0.8888888888888888,
              "#fdca26"
             ],
             [
              1,
              "#f0f921"
             ]
            ],
            "type": "heatmap"
           }
          ],
          "histogram": [
           {
            "marker": {
             "pattern": {
              "fillmode": "overlay",
              "size": 10,
              "solidity": 0.2
             }
            },
            "type": "histogram"
           }
          ],
          "histogram2d": [
           {
            "colorbar": {
             "outlinewidth": 0,
             "ticks": ""
            },
            "colorscale": [
             [
              0,
              "#0d0887"
             ],
             [
              0.1111111111111111,
              "#46039f"
             ],
             [
              0.2222222222222222,
              "#7201a8"
             ],
             [
              0.3333333333333333,
              "#9c179e"
             ],
             [
              0.4444444444444444,
              "#bd3786"
             ],
             [
              0.5555555555555556,
              "#d8576b"
             ],
             [
              0.6666666666666666,
              "#ed7953"
             ],
             [
              0.7777777777777778,
              "#fb9f3a"
             ],
             [
              0.8888888888888888,
              "#fdca26"
             ],
             [
              1,
              "#f0f921"
             ]
            ],
            "type": "histogram2d"
           }
          ],
          "histogram2dcontour": [
           {
            "colorbar": {
             "outlinewidth": 0,
             "ticks": ""
            },
            "colorscale": [
             [
              0,
              "#0d0887"
             ],
             [
              0.1111111111111111,
              "#46039f"
             ],
             [
              0.2222222222222222,
              "#7201a8"
             ],
             [
              0.3333333333333333,
              "#9c179e"
             ],
             [
              0.4444444444444444,
              "#bd3786"
             ],
             [
              0.5555555555555556,
              "#d8576b"
             ],
             [
              0.6666666666666666,
              "#ed7953"
             ],
             [
              0.7777777777777778,
              "#fb9f3a"
             ],
             [
              0.8888888888888888,
              "#fdca26"
             ],
             [
              1,
              "#f0f921"
             ]
            ],
            "type": "histogram2dcontour"
           }
          ],
          "mesh3d": [
           {
            "colorbar": {
             "outlinewidth": 0,
             "ticks": ""
            },
            "type": "mesh3d"
           }
          ],
          "parcoords": [
           {
            "line": {
             "colorbar": {
              "outlinewidth": 0,
              "ticks": ""
             }
            },
            "type": "parcoords"
           }
          ],
          "pie": [
           {
            "automargin": true,
            "type": "pie"
           }
          ],
          "scatter": [
           {
            "fillpattern": {
             "fillmode": "overlay",
             "size": 10,
             "solidity": 0.2
            },
            "type": "scatter"
           }
          ],
          "scatter3d": [
           {
            "line": {
             "colorbar": {
              "outlinewidth": 0,
              "ticks": ""
             }
            },
            "marker": {
             "colorbar": {
              "outlinewidth": 0,
              "ticks": ""
             }
            },
            "type": "scatter3d"
           }
          ],
          "scattercarpet": [
           {
            "marker": {
             "colorbar": {
              "outlinewidth": 0,
              "ticks": ""
             }
            },
            "type": "scattercarpet"
           }
          ],
          "scattergeo": [
           {
            "marker": {
             "colorbar": {
              "outlinewidth": 0,
              "ticks": ""
             }
            },
            "type": "scattergeo"
           }
          ],
          "scattergl": [
           {
            "marker": {
             "colorbar": {
              "outlinewidth": 0,
              "ticks": ""
             }
            },
            "type": "scattergl"
           }
          ],
          "scattermap": [
           {
            "marker": {
             "colorbar": {
              "outlinewidth": 0,
              "ticks": ""
             }
            },
            "type": "scattermap"
           }
          ],
          "scattermapbox": [
           {
            "marker": {
             "colorbar": {
              "outlinewidth": 0,
              "ticks": ""
             }
            },
            "type": "scattermapbox"
           }
          ],
          "scatterpolar": [
           {
            "marker": {
             "colorbar": {
              "outlinewidth": 0,
              "ticks": ""
             }
            },
            "type": "scatterpolar"
           }
          ],
          "scatterpolargl": [
           {
            "marker": {
             "colorbar": {
              "outlinewidth": 0,
              "ticks": ""
             }
            },
            "type": "scatterpolargl"
           }
          ],
          "scatterternary": [
           {
            "marker": {
             "colorbar": {
              "outlinewidth": 0,
              "ticks": ""
             }
            },
            "type": "scatterternary"
           }
          ],
          "surface": [
           {
            "colorbar": {
             "outlinewidth": 0,
             "ticks": ""
            },
            "colorscale": [
             [
              0,
              "#0d0887"
             ],
             [
              0.1111111111111111,
              "#46039f"
             ],
             [
              0.2222222222222222,
              "#7201a8"
             ],
             [
              0.3333333333333333,
              "#9c179e"
             ],
             [
              0.4444444444444444,
              "#bd3786"
             ],
             [
              0.5555555555555556,
              "#d8576b"
             ],
             [
              0.6666666666666666,
              "#ed7953"
             ],
             [
              0.7777777777777778,
              "#fb9f3a"
             ],
             [
              0.8888888888888888,
              "#fdca26"
             ],
             [
              1,
              "#f0f921"
             ]
            ],
            "type": "surface"
           }
          ],
          "table": [
           {
            "cells": {
             "fill": {
              "color": "#EBF0F8"
             },
             "line": {
              "color": "white"
             }
            },
            "header": {
             "fill": {
              "color": "#C8D4E3"
             },
             "line": {
              "color": "white"
             }
            },
            "type": "table"
           }
          ]
         },
         "layout": {
          "annotationdefaults": {
           "arrowcolor": "#2a3f5f",
           "arrowhead": 0,
           "arrowwidth": 1
          },
          "autotypenumbers": "strict",
          "coloraxis": {
           "colorbar": {
            "outlinewidth": 0,
            "ticks": ""
           }
          },
          "colorscale": {
           "diverging": [
            [
             0,
             "#8e0152"
            ],
            [
             0.1,
             "#c51b7d"
            ],
            [
             0.2,
             "#de77ae"
            ],
            [
             0.3,
             "#f1b6da"
            ],
            [
             0.4,
             "#fde0ef"
            ],
            [
             0.5,
             "#f7f7f7"
            ],
            [
             0.6,
             "#e6f5d0"
            ],
            [
             0.7,
             "#b8e186"
            ],
            [
             0.8,
             "#7fbc41"
            ],
            [
             0.9,
             "#4d9221"
            ],
            [
             1,
             "#276419"
            ]
           ],
           "sequential": [
            [
             0,
             "#0d0887"
            ],
            [
             0.1111111111111111,
             "#46039f"
            ],
            [
             0.2222222222222222,
             "#7201a8"
            ],
            [
             0.3333333333333333,
             "#9c179e"
            ],
            [
             0.4444444444444444,
             "#bd3786"
            ],
            [
             0.5555555555555556,
             "#d8576b"
            ],
            [
             0.6666666666666666,
             "#ed7953"
            ],
            [
             0.7777777777777778,
             "#fb9f3a"
            ],
            [
             0.8888888888888888,
             "#fdca26"
            ],
            [
             1,
             "#f0f921"
            ]
           ],
           "sequentialminus": [
            [
             0,
             "#0d0887"
            ],
            [
             0.1111111111111111,
             "#46039f"
            ],
            [
             0.2222222222222222,
             "#7201a8"
            ],
            [
             0.3333333333333333,
             "#9c179e"
            ],
            [
             0.4444444444444444,
             "#bd3786"
            ],
            [
             0.5555555555555556,
             "#d8576b"
            ],
            [
             0.6666666666666666,
             "#ed7953"
            ],
            [
             0.7777777777777778,
             "#fb9f3a"
            ],
            [
             0.8888888888888888,
             "#fdca26"
            ],
            [
             1,
             "#f0f921"
            ]
           ]
          },
          "colorway": [
           "#636efa",
           "#EF553B",
           "#00cc96",
           "#ab63fa",
           "#FFA15A",
           "#19d3f3",
           "#FF6692",
           "#B6E880",
           "#FF97FF",
           "#FECB52"
          ],
          "font": {
           "color": "#2a3f5f"
          },
          "geo": {
           "bgcolor": "white",
           "lakecolor": "white",
           "landcolor": "white",
           "showlakes": true,
           "showland": true,
           "subunitcolor": "#C8D4E3"
          },
          "hoverlabel": {
           "align": "left"
          },
          "hovermode": "closest",
          "mapbox": {
           "style": "light"
          },
          "paper_bgcolor": "white",
          "plot_bgcolor": "white",
          "polar": {
           "angularaxis": {
            "gridcolor": "#EBF0F8",
            "linecolor": "#EBF0F8",
            "ticks": ""
           },
           "bgcolor": "white",
           "radialaxis": {
            "gridcolor": "#EBF0F8",
            "linecolor": "#EBF0F8",
            "ticks": ""
           }
          },
          "scene": {
           "xaxis": {
            "backgroundcolor": "white",
            "gridcolor": "#DFE8F3",
            "gridwidth": 2,
            "linecolor": "#EBF0F8",
            "showbackground": true,
            "ticks": "",
            "zerolinecolor": "#EBF0F8"
           },
           "yaxis": {
            "backgroundcolor": "white",
            "gridcolor": "#DFE8F3",
            "gridwidth": 2,
            "linecolor": "#EBF0F8",
            "showbackground": true,
            "ticks": "",
            "zerolinecolor": "#EBF0F8"
           },
           "zaxis": {
            "backgroundcolor": "white",
            "gridcolor": "#DFE8F3",
            "gridwidth": 2,
            "linecolor": "#EBF0F8",
            "showbackground": true,
            "ticks": "",
            "zerolinecolor": "#EBF0F8"
           }
          },
          "shapedefaults": {
           "line": {
            "color": "#2a3f5f"
           }
          },
          "ternary": {
           "aaxis": {
            "gridcolor": "#DFE8F3",
            "linecolor": "#A2B1C6",
            "ticks": ""
           },
           "baxis": {
            "gridcolor": "#DFE8F3",
            "linecolor": "#A2B1C6",
            "ticks": ""
           },
           "bgcolor": "white",
           "caxis": {
            "gridcolor": "#DFE8F3",
            "linecolor": "#A2B1C6",
            "ticks": ""
           }
          },
          "title": {
           "x": 0.05
          },
          "xaxis": {
           "automargin": true,
           "gridcolor": "#EBF0F8",
           "linecolor": "#EBF0F8",
           "ticks": "",
           "title": {
            "standoff": 15
           },
           "zerolinecolor": "#EBF0F8",
           "zerolinewidth": 2
          },
          "yaxis": {
           "automargin": true,
           "gridcolor": "#EBF0F8",
           "linecolor": "#EBF0F8",
           "ticks": "",
           "title": {
            "standoff": 15
           },
           "zerolinecolor": "#EBF0F8",
           "zerolinewidth": 2
          }
         }
        },
        "title": {
         "text": "Top 15 Institutions by Total Authorship Instances (Overall)"
        },
        "xaxis": {
         "anchor": "y",
         "domain": [
          0,
          1
         ],
         "title": {
          "text": "Number of Authorship Instances"
         }
        },
        "yaxis": {
         "anchor": "x",
         "categoryorder": "total ascending",
         "domain": [
          0,
          1
         ],
         "title": {
          "text": "Institution"
         }
        }
       }
      },
      "text/html": [
       "<div>            <script src=\"https://cdnjs.cloudflare.com/ajax/libs/mathjax/2.7.5/MathJax.js?config=TeX-AMS-MML_SVG\"></script><script type=\"text/javascript\">if (window.MathJax && window.MathJax.Hub && window.MathJax.Hub.Config) {window.MathJax.Hub.Config({SVG: {font: \"STIX-Web\"}});}</script>                <script type=\"text/javascript\">window.PlotlyConfig = {MathJaxConfig: 'local'};</script>\n",
       "        <script charset=\"utf-8\" src=\"https://cdn.plot.ly/plotly-3.0.1.min.js\"></script>                <div id=\"95ebfec1-70b3-4a3a-842a-debd420f5479\" class=\"plotly-graph-div\" style=\"height:525px; width:100%;\"></div>            <script type=\"text/javascript\">                window.PLOTLYENV=window.PLOTLYENV || {};                                if (document.getElementById(\"95ebfec1-70b3-4a3a-842a-debd420f5479\")) {                    Plotly.newPlot(                        \"95ebfec1-70b3-4a3a-842a-debd420f5479\",                        [{\"hovertemplate\":\"Number of Authorship Instances=%{text}\\u003cbr\\u003eInstitution=%{y}\\u003cextra\\u003e\\u003c\\u002fextra\\u003e\",\"legendgroup\":\"\",\"marker\":{\"color\":\"#636efa\",\"pattern\":{\"shape\":\"\"}},\"name\":\"\",\"orientation\":\"h\",\"showlegend\":false,\"text\":{\"dtype\":\"f8\",\"bdata\":\"AAAAAACkmUAAAAAAACSaQAAAAAAAaJpAAAAAAADMmkAAAAAAAOSaQAAAAAAAoJ1AAAAAAAAooUAAAAAAAP6iQAAAAAAAhqxAAAAAAAD0rEAAAAAAAEywQAAAAAAAqbBAAAAAAAAPskAAAAAAAEKyQAAAAAAAiMZA\"},\"textposition\":\"outside\",\"x\":{\"dtype\":\"i2\",\"bdata\":\"aQaJBpoGswa5BmgHlAh\\u002fCUMOeg5MEKkQDxJCEhAt\"},\"xaxis\":\"x\",\"y\":[\"Zhejiang University\",\"University of California, Los Angeles\",\"Facebook\",\"Princeton University\",\"Shanghai Jiao Tong University\",\"University of Texas at Austin\",\"University of Oxford\",\"Peking University\",\"University of California, Berkeley\",\"Microsoft\",\"Carnegie Mellon University\",\"Tsinghua University\",\"Massachusetts Institute of Technology\",\"Stanford University\",\"Google\"],\"yaxis\":\"y\",\"type\":\"bar\"}],                        {\"template\":{\"data\":{\"histogram2dcontour\":[{\"type\":\"histogram2dcontour\",\"colorbar\":{\"outlinewidth\":0,\"ticks\":\"\"},\"colorscale\":[[0.0,\"#0d0887\"],[0.1111111111111111,\"#46039f\"],[0.2222222222222222,\"#7201a8\"],[0.3333333333333333,\"#9c179e\"],[0.4444444444444444,\"#bd3786\"],[0.5555555555555556,\"#d8576b\"],[0.6666666666666666,\"#ed7953\"],[0.7777777777777778,\"#fb9f3a\"],[0.8888888888888888,\"#fdca26\"],[1.0,\"#f0f921\"]]}],\"choropleth\":[{\"type\":\"choropleth\",\"colorbar\":{\"outlinewidth\":0,\"ticks\":\"\"}}],\"histogram2d\":[{\"type\":\"histogram2d\",\"colorbar\":{\"outlinewidth\":0,\"ticks\":\"\"},\"colorscale\":[[0.0,\"#0d0887\"],[0.1111111111111111,\"#46039f\"],[0.2222222222222222,\"#7201a8\"],[0.3333333333333333,\"#9c179e\"],[0.4444444444444444,\"#bd3786\"],[0.5555555555555556,\"#d8576b\"],[0.6666666666666666,\"#ed7953\"],[0.7777777777777778,\"#fb9f3a\"],[0.8888888888888888,\"#fdca26\"],[1.0,\"#f0f921\"]]}],\"heatmap\":[{\"type\":\"heatmap\",\"colorbar\":{\"outlinewidth\":0,\"ticks\":\"\"},\"colorscale\":[[0.0,\"#0d0887\"],[0.1111111111111111,\"#46039f\"],[0.2222222222222222,\"#7201a8\"],[0.3333333333333333,\"#9c179e\"],[0.4444444444444444,\"#bd3786\"],[0.5555555555555556,\"#d8576b\"],[0.6666666666666666,\"#ed7953\"],[0.7777777777777778,\"#fb9f3a\"],[0.8888888888888888,\"#fdca26\"],[1.0,\"#f0f921\"]]}],\"contourcarpet\":[{\"type\":\"contourcarpet\",\"colorbar\":{\"outlinewidth\":0,\"ticks\":\"\"}}],\"contour\":[{\"type\":\"contour\",\"colorbar\":{\"outlinewidth\":0,\"ticks\":\"\"},\"colorscale\":[[0.0,\"#0d0887\"],[0.1111111111111111,\"#46039f\"],[0.2222222222222222,\"#7201a8\"],[0.3333333333333333,\"#9c179e\"],[0.4444444444444444,\"#bd3786\"],[0.5555555555555556,\"#d8576b\"],[0.6666666666666666,\"#ed7953\"],[0.7777777777777778,\"#fb9f3a\"],[0.8888888888888888,\"#fdca26\"],[1.0,\"#f0f921\"]]}],\"surface\":[{\"type\":\"surface\",\"colorbar\":{\"outlinewidth\":0,\"ticks\":\"\"},\"colorscale\":[[0.0,\"#0d0887\"],[0.1111111111111111,\"#46039f\"],[0.2222222222222222,\"#7201a8\"],[0.3333333333333333,\"#9c179e\"],[0.4444444444444444,\"#bd3786\"],[0.5555555555555556,\"#d8576b\"],[0.6666666666666666,\"#ed7953\"],[0.7777777777777778,\"#fb9f3a\"],[0.8888888888888888,\"#fdca26\"],[1.0,\"#f0f921\"]]}],\"mesh3d\":[{\"type\":\"mesh3d\",\"colorbar\":{\"outlinewidth\":0,\"ticks\":\"\"}}],\"scatter\":[{\"fillpattern\":{\"fillmode\":\"overlay\",\"size\":10,\"solidity\":0.2},\"type\":\"scatter\"}],\"parcoords\":[{\"type\":\"parcoords\",\"line\":{\"colorbar\":{\"outlinewidth\":0,\"ticks\":\"\"}}}],\"scatterpolargl\":[{\"type\":\"scatterpolargl\",\"marker\":{\"colorbar\":{\"outlinewidth\":0,\"ticks\":\"\"}}}],\"bar\":[{\"error_x\":{\"color\":\"#2a3f5f\"},\"error_y\":{\"color\":\"#2a3f5f\"},\"marker\":{\"line\":{\"color\":\"white\",\"width\":0.5},\"pattern\":{\"fillmode\":\"overlay\",\"size\":10,\"solidity\":0.2}},\"type\":\"bar\"}],\"scattergeo\":[{\"type\":\"scattergeo\",\"marker\":{\"colorbar\":{\"outlinewidth\":0,\"ticks\":\"\"}}}],\"scatterpolar\":[{\"type\":\"scatterpolar\",\"marker\":{\"colorbar\":{\"outlinewidth\":0,\"ticks\":\"\"}}}],\"histogram\":[{\"marker\":{\"pattern\":{\"fillmode\":\"overlay\",\"size\":10,\"solidity\":0.2}},\"type\":\"histogram\"}],\"scattergl\":[{\"type\":\"scattergl\",\"marker\":{\"colorbar\":{\"outlinewidth\":0,\"ticks\":\"\"}}}],\"scatter3d\":[{\"type\":\"scatter3d\",\"line\":{\"colorbar\":{\"outlinewidth\":0,\"ticks\":\"\"}},\"marker\":{\"colorbar\":{\"outlinewidth\":0,\"ticks\":\"\"}}}],\"scattermap\":[{\"type\":\"scattermap\",\"marker\":{\"colorbar\":{\"outlinewidth\":0,\"ticks\":\"\"}}}],\"scattermapbox\":[{\"type\":\"scattermapbox\",\"marker\":{\"colorbar\":{\"outlinewidth\":0,\"ticks\":\"\"}}}],\"scatterternary\":[{\"type\":\"scatterternary\",\"marker\":{\"colorbar\":{\"outlinewidth\":0,\"ticks\":\"\"}}}],\"scattercarpet\":[{\"type\":\"scattercarpet\",\"marker\":{\"colorbar\":{\"outlinewidth\":0,\"ticks\":\"\"}}}],\"carpet\":[{\"aaxis\":{\"endlinecolor\":\"#2a3f5f\",\"gridcolor\":\"#C8D4E3\",\"linecolor\":\"#C8D4E3\",\"minorgridcolor\":\"#C8D4E3\",\"startlinecolor\":\"#2a3f5f\"},\"baxis\":{\"endlinecolor\":\"#2a3f5f\",\"gridcolor\":\"#C8D4E3\",\"linecolor\":\"#C8D4E3\",\"minorgridcolor\":\"#C8D4E3\",\"startlinecolor\":\"#2a3f5f\"},\"type\":\"carpet\"}],\"table\":[{\"cells\":{\"fill\":{\"color\":\"#EBF0F8\"},\"line\":{\"color\":\"white\"}},\"header\":{\"fill\":{\"color\":\"#C8D4E3\"},\"line\":{\"color\":\"white\"}},\"type\":\"table\"}],\"barpolar\":[{\"marker\":{\"line\":{\"color\":\"white\",\"width\":0.5},\"pattern\":{\"fillmode\":\"overlay\",\"size\":10,\"solidity\":0.2}},\"type\":\"barpolar\"}],\"pie\":[{\"automargin\":true,\"type\":\"pie\"}]},\"layout\":{\"autotypenumbers\":\"strict\",\"colorway\":[\"#636efa\",\"#EF553B\",\"#00cc96\",\"#ab63fa\",\"#FFA15A\",\"#19d3f3\",\"#FF6692\",\"#B6E880\",\"#FF97FF\",\"#FECB52\"],\"font\":{\"color\":\"#2a3f5f\"},\"hovermode\":\"closest\",\"hoverlabel\":{\"align\":\"left\"},\"paper_bgcolor\":\"white\",\"plot_bgcolor\":\"white\",\"polar\":{\"bgcolor\":\"white\",\"angularaxis\":{\"gridcolor\":\"#EBF0F8\",\"linecolor\":\"#EBF0F8\",\"ticks\":\"\"},\"radialaxis\":{\"gridcolor\":\"#EBF0F8\",\"linecolor\":\"#EBF0F8\",\"ticks\":\"\"}},\"ternary\":{\"bgcolor\":\"white\",\"aaxis\":{\"gridcolor\":\"#DFE8F3\",\"linecolor\":\"#A2B1C6\",\"ticks\":\"\"},\"baxis\":{\"gridcolor\":\"#DFE8F3\",\"linecolor\":\"#A2B1C6\",\"ticks\":\"\"},\"caxis\":{\"gridcolor\":\"#DFE8F3\",\"linecolor\":\"#A2B1C6\",\"ticks\":\"\"}},\"coloraxis\":{\"colorbar\":{\"outlinewidth\":0,\"ticks\":\"\"}},\"colorscale\":{\"sequential\":[[0.0,\"#0d0887\"],[0.1111111111111111,\"#46039f\"],[0.2222222222222222,\"#7201a8\"],[0.3333333333333333,\"#9c179e\"],[0.4444444444444444,\"#bd3786\"],[0.5555555555555556,\"#d8576b\"],[0.6666666666666666,\"#ed7953\"],[0.7777777777777778,\"#fb9f3a\"],[0.8888888888888888,\"#fdca26\"],[1.0,\"#f0f921\"]],\"sequentialminus\":[[0.0,\"#0d0887\"],[0.1111111111111111,\"#46039f\"],[0.2222222222222222,\"#7201a8\"],[0.3333333333333333,\"#9c179e\"],[0.4444444444444444,\"#bd3786\"],[0.5555555555555556,\"#d8576b\"],[0.6666666666666666,\"#ed7953\"],[0.7777777777777778,\"#fb9f3a\"],[0.8888888888888888,\"#fdca26\"],[1.0,\"#f0f921\"]],\"diverging\":[[0,\"#8e0152\"],[0.1,\"#c51b7d\"],[0.2,\"#de77ae\"],[0.3,\"#f1b6da\"],[0.4,\"#fde0ef\"],[0.5,\"#f7f7f7\"],[0.6,\"#e6f5d0\"],[0.7,\"#b8e186\"],[0.8,\"#7fbc41\"],[0.9,\"#4d9221\"],[1,\"#276419\"]]},\"xaxis\":{\"gridcolor\":\"#EBF0F8\",\"linecolor\":\"#EBF0F8\",\"ticks\":\"\",\"title\":{\"standoff\":15},\"zerolinecolor\":\"#EBF0F8\",\"automargin\":true,\"zerolinewidth\":2},\"yaxis\":{\"gridcolor\":\"#EBF0F8\",\"linecolor\":\"#EBF0F8\",\"ticks\":\"\",\"title\":{\"standoff\":15},\"zerolinecolor\":\"#EBF0F8\",\"automargin\":true,\"zerolinewidth\":2},\"scene\":{\"xaxis\":{\"backgroundcolor\":\"white\",\"gridcolor\":\"#DFE8F3\",\"linecolor\":\"#EBF0F8\",\"showbackground\":true,\"ticks\":\"\",\"zerolinecolor\":\"#EBF0F8\",\"gridwidth\":2},\"yaxis\":{\"backgroundcolor\":\"white\",\"gridcolor\":\"#DFE8F3\",\"linecolor\":\"#EBF0F8\",\"showbackground\":true,\"ticks\":\"\",\"zerolinecolor\":\"#EBF0F8\",\"gridwidth\":2},\"zaxis\":{\"backgroundcolor\":\"white\",\"gridcolor\":\"#DFE8F3\",\"linecolor\":\"#EBF0F8\",\"showbackground\":true,\"ticks\":\"\",\"zerolinecolor\":\"#EBF0F8\",\"gridwidth\":2}},\"shapedefaults\":{\"line\":{\"color\":\"#2a3f5f\"}},\"annotationdefaults\":{\"arrowcolor\":\"#2a3f5f\",\"arrowhead\":0,\"arrowwidth\":1},\"geo\":{\"bgcolor\":\"white\",\"landcolor\":\"white\",\"subunitcolor\":\"#C8D4E3\",\"showland\":true,\"showlakes\":true,\"lakecolor\":\"white\"},\"title\":{\"x\":0.05},\"mapbox\":{\"style\":\"light\"}}},\"xaxis\":{\"anchor\":\"y\",\"domain\":[0.0,1.0],\"title\":{\"text\":\"Number of Authorship Instances\"}},\"yaxis\":{\"anchor\":\"x\",\"domain\":[0.0,1.0],\"title\":{\"text\":\"Institution\"},\"categoryorder\":\"total ascending\"},\"legend\":{\"tracegroupgap\":0},\"title\":{\"text\":\"Top 15 Institutions by Total Authorship Instances (Overall)\"},\"barmode\":\"relative\"},                        {\"responsive\": true}                    ).then(function(){\n",
       "                            \n",
       "var gd = document.getElementById('95ebfec1-70b3-4a3a-842a-debd420f5479');\n",
       "var x = new MutationObserver(function (mutations, observer) {{\n",
       "        var display = window.getComputedStyle(gd).display;\n",
       "        if (!display || display === 'none') {{\n",
       "            console.log([gd, 'removed!']);\n",
       "            Plotly.purge(gd);\n",
       "            observer.disconnect();\n",
       "        }}\n",
       "}});\n",
       "\n",
       "// Listen for the removal of the full notebook cells\n",
       "var notebookContainer = gd.closest('#notebook-container');\n",
       "if (notebookContainer) {{\n",
       "    x.observe(notebookContainer, {childList: true});\n",
       "}}\n",
       "\n",
       "// Listen for the clearing of the current output cell\n",
       "var outputEl = gd.closest('.output');\n",
       "if (outputEl) {{\n",
       "    x.observe(outputEl, {childList: true});\n",
       "}}\n",
       "\n",
       "                        })                };            </script>        </div>"
      ]
     },
     "metadata": {},
     "output_type": "display_data"
    },
    {
     "name": "stdout",
     "output_type": "stream",
     "text": [
      "Plot 6: Distribution by Type\n"
     ]
    },
    {
     "data": {
      "application/vnd.plotly.v1+json": {
       "config": {
        "plotlyServerURL": "https://plot.ly"
       },
       "data": [
        {
         "domain": {
          "x": [
           0,
           1
          ],
          "y": [
           0,
           1
          ]
         },
         "hole": 0.3,
         "hovertemplate": "Type=%{label}<br>Count=%{value}<extra></extra>",
         "labels": [
          "Academia",
          "Industry"
         ],
         "legendgroup": "",
         "name": "",
         "pull": [
          0.05,
          0.05
         ],
         "showlegend": true,
         "textinfo": "percent+label",
         "type": "pie",
         "values": {
          "bdata": "gB4CAEOeAAA=",
          "dtype": "i4"
         }
        }
       ],
       "layout": {
        "legend": {
         "tracegroupgap": 0
        },
        "template": {
         "data": {
          "bar": [
           {
            "error_x": {
             "color": "#2a3f5f"
            },
            "error_y": {
             "color": "#2a3f5f"
            },
            "marker": {
             "line": {
              "color": "white",
              "width": 0.5
             },
             "pattern": {
              "fillmode": "overlay",
              "size": 10,
              "solidity": 0.2
             }
            },
            "type": "bar"
           }
          ],
          "barpolar": [
           {
            "marker": {
             "line": {
              "color": "white",
              "width": 0.5
             },
             "pattern": {
              "fillmode": "overlay",
              "size": 10,
              "solidity": 0.2
             }
            },
            "type": "barpolar"
           }
          ],
          "carpet": [
           {
            "aaxis": {
             "endlinecolor": "#2a3f5f",
             "gridcolor": "#C8D4E3",
             "linecolor": "#C8D4E3",
             "minorgridcolor": "#C8D4E3",
             "startlinecolor": "#2a3f5f"
            },
            "baxis": {
             "endlinecolor": "#2a3f5f",
             "gridcolor": "#C8D4E3",
             "linecolor": "#C8D4E3",
             "minorgridcolor": "#C8D4E3",
             "startlinecolor": "#2a3f5f"
            },
            "type": "carpet"
           }
          ],
          "choropleth": [
           {
            "colorbar": {
             "outlinewidth": 0,
             "ticks": ""
            },
            "type": "choropleth"
           }
          ],
          "contour": [
           {
            "colorbar": {
             "outlinewidth": 0,
             "ticks": ""
            },
            "colorscale": [
             [
              0,
              "#0d0887"
             ],
             [
              0.1111111111111111,
              "#46039f"
             ],
             [
              0.2222222222222222,
              "#7201a8"
             ],
             [
              0.3333333333333333,
              "#9c179e"
             ],
             [
              0.4444444444444444,
              "#bd3786"
             ],
             [
              0.5555555555555556,
              "#d8576b"
             ],
             [
              0.6666666666666666,
              "#ed7953"
             ],
             [
              0.7777777777777778,
              "#fb9f3a"
             ],
             [
              0.8888888888888888,
              "#fdca26"
             ],
             [
              1,
              "#f0f921"
             ]
            ],
            "type": "contour"
           }
          ],
          "contourcarpet": [
           {
            "colorbar": {
             "outlinewidth": 0,
             "ticks": ""
            },
            "type": "contourcarpet"
           }
          ],
          "heatmap": [
           {
            "colorbar": {
             "outlinewidth": 0,
             "ticks": ""
            },
            "colorscale": [
             [
              0,
              "#0d0887"
             ],
             [
              0.1111111111111111,
              "#46039f"
             ],
             [
              0.2222222222222222,
              "#7201a8"
             ],
             [
              0.3333333333333333,
              "#9c179e"
             ],
             [
              0.4444444444444444,
              "#bd3786"
             ],
             [
              0.5555555555555556,
              "#d8576b"
             ],
             [
              0.6666666666666666,
              "#ed7953"
             ],
             [
              0.7777777777777778,
              "#fb9f3a"
             ],
             [
              0.8888888888888888,
              "#fdca26"
             ],
             [
              1,
              "#f0f921"
             ]
            ],
            "type": "heatmap"
           }
          ],
          "histogram": [
           {
            "marker": {
             "pattern": {
              "fillmode": "overlay",
              "size": 10,
              "solidity": 0.2
             }
            },
            "type": "histogram"
           }
          ],
          "histogram2d": [
           {
            "colorbar": {
             "outlinewidth": 0,
             "ticks": ""
            },
            "colorscale": [
             [
              0,
              "#0d0887"
             ],
             [
              0.1111111111111111,
              "#46039f"
             ],
             [
              0.2222222222222222,
              "#7201a8"
             ],
             [
              0.3333333333333333,
              "#9c179e"
             ],
             [
              0.4444444444444444,
              "#bd3786"
             ],
             [
              0.5555555555555556,
              "#d8576b"
             ],
             [
              0.6666666666666666,
              "#ed7953"
             ],
             [
              0.7777777777777778,
              "#fb9f3a"
             ],
             [
              0.8888888888888888,
              "#fdca26"
             ],
             [
              1,
              "#f0f921"
             ]
            ],
            "type": "histogram2d"
           }
          ],
          "histogram2dcontour": [
           {
            "colorbar": {
             "outlinewidth": 0,
             "ticks": ""
            },
            "colorscale": [
             [
              0,
              "#0d0887"
             ],
             [
              0.1111111111111111,
              "#46039f"
             ],
             [
              0.2222222222222222,
              "#7201a8"
             ],
             [
              0.3333333333333333,
              "#9c179e"
             ],
             [
              0.4444444444444444,
              "#bd3786"
             ],
             [
              0.5555555555555556,
              "#d8576b"
             ],
             [
              0.6666666666666666,
              "#ed7953"
             ],
             [
              0.7777777777777778,
              "#fb9f3a"
             ],
             [
              0.8888888888888888,
              "#fdca26"
             ],
             [
              1,
              "#f0f921"
             ]
            ],
            "type": "histogram2dcontour"
           }
          ],
          "mesh3d": [
           {
            "colorbar": {
             "outlinewidth": 0,
             "ticks": ""
            },
            "type": "mesh3d"
           }
          ],
          "parcoords": [
           {
            "line": {
             "colorbar": {
              "outlinewidth": 0,
              "ticks": ""
             }
            },
            "type": "parcoords"
           }
          ],
          "pie": [
           {
            "automargin": true,
            "type": "pie"
           }
          ],
          "scatter": [
           {
            "fillpattern": {
             "fillmode": "overlay",
             "size": 10,
             "solidity": 0.2
            },
            "type": "scatter"
           }
          ],
          "scatter3d": [
           {
            "line": {
             "colorbar": {
              "outlinewidth": 0,
              "ticks": ""
             }
            },
            "marker": {
             "colorbar": {
              "outlinewidth": 0,
              "ticks": ""
             }
            },
            "type": "scatter3d"
           }
          ],
          "scattercarpet": [
           {
            "marker": {
             "colorbar": {
              "outlinewidth": 0,
              "ticks": ""
             }
            },
            "type": "scattercarpet"
           }
          ],
          "scattergeo": [
           {
            "marker": {
             "colorbar": {
              "outlinewidth": 0,
              "ticks": ""
             }
            },
            "type": "scattergeo"
           }
          ],
          "scattergl": [
           {
            "marker": {
             "colorbar": {
              "outlinewidth": 0,
              "ticks": ""
             }
            },
            "type": "scattergl"
           }
          ],
          "scattermap": [
           {
            "marker": {
             "colorbar": {
              "outlinewidth": 0,
              "ticks": ""
             }
            },
            "type": "scattermap"
           }
          ],
          "scattermapbox": [
           {
            "marker": {
             "colorbar": {
              "outlinewidth": 0,
              "ticks": ""
             }
            },
            "type": "scattermapbox"
           }
          ],
          "scatterpolar": [
           {
            "marker": {
             "colorbar": {
              "outlinewidth": 0,
              "ticks": ""
             }
            },
            "type": "scatterpolar"
           }
          ],
          "scatterpolargl": [
           {
            "marker": {
             "colorbar": {
              "outlinewidth": 0,
              "ticks": ""
             }
            },
            "type": "scatterpolargl"
           }
          ],
          "scatterternary": [
           {
            "marker": {
             "colorbar": {
              "outlinewidth": 0,
              "ticks": ""
             }
            },
            "type": "scatterternary"
           }
          ],
          "surface": [
           {
            "colorbar": {
             "outlinewidth": 0,
             "ticks": ""
            },
            "colorscale": [
             [
              0,
              "#0d0887"
             ],
             [
              0.1111111111111111,
              "#46039f"
             ],
             [
              0.2222222222222222,
              "#7201a8"
             ],
             [
              0.3333333333333333,
              "#9c179e"
             ],
             [
              0.4444444444444444,
              "#bd3786"
             ],
             [
              0.5555555555555556,
              "#d8576b"
             ],
             [
              0.6666666666666666,
              "#ed7953"
             ],
             [
              0.7777777777777778,
              "#fb9f3a"
             ],
             [
              0.8888888888888888,
              "#fdca26"
             ],
             [
              1,
              "#f0f921"
             ]
            ],
            "type": "surface"
           }
          ],
          "table": [
           {
            "cells": {
             "fill": {
              "color": "#EBF0F8"
             },
             "line": {
              "color": "white"
             }
            },
            "header": {
             "fill": {
              "color": "#C8D4E3"
             },
             "line": {
              "color": "white"
             }
            },
            "type": "table"
           }
          ]
         },
         "layout": {
          "annotationdefaults": {
           "arrowcolor": "#2a3f5f",
           "arrowhead": 0,
           "arrowwidth": 1
          },
          "autotypenumbers": "strict",
          "coloraxis": {
           "colorbar": {
            "outlinewidth": 0,
            "ticks": ""
           }
          },
          "colorscale": {
           "diverging": [
            [
             0,
             "#8e0152"
            ],
            [
             0.1,
             "#c51b7d"
            ],
            [
             0.2,
             "#de77ae"
            ],
            [
             0.3,
             "#f1b6da"
            ],
            [
             0.4,
             "#fde0ef"
            ],
            [
             0.5,
             "#f7f7f7"
            ],
            [
             0.6,
             "#e6f5d0"
            ],
            [
             0.7,
             "#b8e186"
            ],
            [
             0.8,
             "#7fbc41"
            ],
            [
             0.9,
             "#4d9221"
            ],
            [
             1,
             "#276419"
            ]
           ],
           "sequential": [
            [
             0,
             "#0d0887"
            ],
            [
             0.1111111111111111,
             "#46039f"
            ],
            [
             0.2222222222222222,
             "#7201a8"
            ],
            [
             0.3333333333333333,
             "#9c179e"
            ],
            [
             0.4444444444444444,
             "#bd3786"
            ],
            [
             0.5555555555555556,
             "#d8576b"
            ],
            [
             0.6666666666666666,
             "#ed7953"
            ],
            [
             0.7777777777777778,
             "#fb9f3a"
            ],
            [
             0.8888888888888888,
             "#fdca26"
            ],
            [
             1,
             "#f0f921"
            ]
           ],
           "sequentialminus": [
            [
             0,
             "#0d0887"
            ],
            [
             0.1111111111111111,
             "#46039f"
            ],
            [
             0.2222222222222222,
             "#7201a8"
            ],
            [
             0.3333333333333333,
             "#9c179e"
            ],
            [
             0.4444444444444444,
             "#bd3786"
            ],
            [
             0.5555555555555556,
             "#d8576b"
            ],
            [
             0.6666666666666666,
             "#ed7953"
            ],
            [
             0.7777777777777778,
             "#fb9f3a"
            ],
            [
             0.8888888888888888,
             "#fdca26"
            ],
            [
             1,
             "#f0f921"
            ]
           ]
          },
          "colorway": [
           "#636efa",
           "#EF553B",
           "#00cc96",
           "#ab63fa",
           "#FFA15A",
           "#19d3f3",
           "#FF6692",
           "#B6E880",
           "#FF97FF",
           "#FECB52"
          ],
          "font": {
           "color": "#2a3f5f"
          },
          "geo": {
           "bgcolor": "white",
           "lakecolor": "white",
           "landcolor": "white",
           "showlakes": true,
           "showland": true,
           "subunitcolor": "#C8D4E3"
          },
          "hoverlabel": {
           "align": "left"
          },
          "hovermode": "closest",
          "mapbox": {
           "style": "light"
          },
          "paper_bgcolor": "white",
          "plot_bgcolor": "white",
          "polar": {
           "angularaxis": {
            "gridcolor": "#EBF0F8",
            "linecolor": "#EBF0F8",
            "ticks": ""
           },
           "bgcolor": "white",
           "radialaxis": {
            "gridcolor": "#EBF0F8",
            "linecolor": "#EBF0F8",
            "ticks": ""
           }
          },
          "scene": {
           "xaxis": {
            "backgroundcolor": "white",
            "gridcolor": "#DFE8F3",
            "gridwidth": 2,
            "linecolor": "#EBF0F8",
            "showbackground": true,
            "ticks": "",
            "zerolinecolor": "#EBF0F8"
           },
           "yaxis": {
            "backgroundcolor": "white",
            "gridcolor": "#DFE8F3",
            "gridwidth": 2,
            "linecolor": "#EBF0F8",
            "showbackground": true,
            "ticks": "",
            "zerolinecolor": "#EBF0F8"
           },
           "zaxis": {
            "backgroundcolor": "white",
            "gridcolor": "#DFE8F3",
            "gridwidth": 2,
            "linecolor": "#EBF0F8",
            "showbackground": true,
            "ticks": "",
            "zerolinecolor": "#EBF0F8"
           }
          },
          "shapedefaults": {
           "line": {
            "color": "#2a3f5f"
           }
          },
          "ternary": {
           "aaxis": {
            "gridcolor": "#DFE8F3",
            "linecolor": "#A2B1C6",
            "ticks": ""
           },
           "baxis": {
            "gridcolor": "#DFE8F3",
            "linecolor": "#A2B1C6",
            "ticks": ""
           },
           "bgcolor": "white",
           "caxis": {
            "gridcolor": "#DFE8F3",
            "linecolor": "#A2B1C6",
            "ticks": ""
           }
          },
          "title": {
           "x": 0.05
          },
          "xaxis": {
           "automargin": true,
           "gridcolor": "#EBF0F8",
           "linecolor": "#EBF0F8",
           "ticks": "",
           "title": {
            "standoff": 15
           },
           "zerolinecolor": "#EBF0F8",
           "zerolinewidth": 2
          },
          "yaxis": {
           "automargin": true,
           "gridcolor": "#EBF0F8",
           "linecolor": "#EBF0F8",
           "ticks": "",
           "title": {
            "standoff": 15
           },
           "zerolinecolor": "#EBF0F8",
           "zerolinewidth": 2
          }
         }
        },
        "title": {
         "text": "Overall Distribution of Authorship Instances by Type"
        }
       }
      },
      "text/html": [
       "<div>            <script src=\"https://cdnjs.cloudflare.com/ajax/libs/mathjax/2.7.5/MathJax.js?config=TeX-AMS-MML_SVG\"></script><script type=\"text/javascript\">if (window.MathJax && window.MathJax.Hub && window.MathJax.Hub.Config) {window.MathJax.Hub.Config({SVG: {font: \"STIX-Web\"}});}</script>                <script type=\"text/javascript\">window.PlotlyConfig = {MathJaxConfig: 'local'};</script>\n",
       "        <script charset=\"utf-8\" src=\"https://cdn.plot.ly/plotly-3.0.1.min.js\"></script>                <div id=\"a58560f6-9560-4e8a-b330-206a97c1ca00\" class=\"plotly-graph-div\" style=\"height:525px; width:100%;\"></div>            <script type=\"text/javascript\">                window.PLOTLYENV=window.PLOTLYENV || {};                                if (document.getElementById(\"a58560f6-9560-4e8a-b330-206a97c1ca00\")) {                    Plotly.newPlot(                        \"a58560f6-9560-4e8a-b330-206a97c1ca00\",                        [{\"domain\":{\"x\":[0.0,1.0],\"y\":[0.0,1.0]},\"hole\":0.3,\"hovertemplate\":\"Type=%{label}\\u003cbr\\u003eCount=%{value}\\u003cextra\\u003e\\u003c\\u002fextra\\u003e\",\"labels\":[\"Academia\",\"Industry\"],\"legendgroup\":\"\",\"name\":\"\",\"showlegend\":true,\"values\":{\"dtype\":\"i4\",\"bdata\":\"gB4CAEOeAAA=\"},\"type\":\"pie\",\"pull\":[0.05,0.05],\"textinfo\":\"percent+label\"}],                        {\"template\":{\"data\":{\"histogram2dcontour\":[{\"type\":\"histogram2dcontour\",\"colorbar\":{\"outlinewidth\":0,\"ticks\":\"\"},\"colorscale\":[[0.0,\"#0d0887\"],[0.1111111111111111,\"#46039f\"],[0.2222222222222222,\"#7201a8\"],[0.3333333333333333,\"#9c179e\"],[0.4444444444444444,\"#bd3786\"],[0.5555555555555556,\"#d8576b\"],[0.6666666666666666,\"#ed7953\"],[0.7777777777777778,\"#fb9f3a\"],[0.8888888888888888,\"#fdca26\"],[1.0,\"#f0f921\"]]}],\"choropleth\":[{\"type\":\"choropleth\",\"colorbar\":{\"outlinewidth\":0,\"ticks\":\"\"}}],\"histogram2d\":[{\"type\":\"histogram2d\",\"colorbar\":{\"outlinewidth\":0,\"ticks\":\"\"},\"colorscale\":[[0.0,\"#0d0887\"],[0.1111111111111111,\"#46039f\"],[0.2222222222222222,\"#7201a8\"],[0.3333333333333333,\"#9c179e\"],[0.4444444444444444,\"#bd3786\"],[0.5555555555555556,\"#d8576b\"],[0.6666666666666666,\"#ed7953\"],[0.7777777777777778,\"#fb9f3a\"],[0.8888888888888888,\"#fdca26\"],[1.0,\"#f0f921\"]]}],\"heatmap\":[{\"type\":\"heatmap\",\"colorbar\":{\"outlinewidth\":0,\"ticks\":\"\"},\"colorscale\":[[0.0,\"#0d0887\"],[0.1111111111111111,\"#46039f\"],[0.2222222222222222,\"#7201a8\"],[0.3333333333333333,\"#9c179e\"],[0.4444444444444444,\"#bd3786\"],[0.5555555555555556,\"#d8576b\"],[0.6666666666666666,\"#ed7953\"],[0.7777777777777778,\"#fb9f3a\"],[0.8888888888888888,\"#fdca26\"],[1.0,\"#f0f921\"]]}],\"contourcarpet\":[{\"type\":\"contourcarpet\",\"colorbar\":{\"outlinewidth\":0,\"ticks\":\"\"}}],\"contour\":[{\"type\":\"contour\",\"colorbar\":{\"outlinewidth\":0,\"ticks\":\"\"},\"colorscale\":[[0.0,\"#0d0887\"],[0.1111111111111111,\"#46039f\"],[0.2222222222222222,\"#7201a8\"],[0.3333333333333333,\"#9c179e\"],[0.4444444444444444,\"#bd3786\"],[0.5555555555555556,\"#d8576b\"],[0.6666666666666666,\"#ed7953\"],[0.7777777777777778,\"#fb9f3a\"],[0.8888888888888888,\"#fdca26\"],[1.0,\"#f0f921\"]]}],\"surface\":[{\"type\":\"surface\",\"colorbar\":{\"outlinewidth\":0,\"ticks\":\"\"},\"colorscale\":[[0.0,\"#0d0887\"],[0.1111111111111111,\"#46039f\"],[0.2222222222222222,\"#7201a8\"],[0.3333333333333333,\"#9c179e\"],[0.4444444444444444,\"#bd3786\"],[0.5555555555555556,\"#d8576b\"],[0.6666666666666666,\"#ed7953\"],[0.7777777777777778,\"#fb9f3a\"],[0.8888888888888888,\"#fdca26\"],[1.0,\"#f0f921\"]]}],\"mesh3d\":[{\"type\":\"mesh3d\",\"colorbar\":{\"outlinewidth\":0,\"ticks\":\"\"}}],\"scatter\":[{\"fillpattern\":{\"fillmode\":\"overlay\",\"size\":10,\"solidity\":0.2},\"type\":\"scatter\"}],\"parcoords\":[{\"type\":\"parcoords\",\"line\":{\"colorbar\":{\"outlinewidth\":0,\"ticks\":\"\"}}}],\"scatterpolargl\":[{\"type\":\"scatterpolargl\",\"marker\":{\"colorbar\":{\"outlinewidth\":0,\"ticks\":\"\"}}}],\"bar\":[{\"error_x\":{\"color\":\"#2a3f5f\"},\"error_y\":{\"color\":\"#2a3f5f\"},\"marker\":{\"line\":{\"color\":\"white\",\"width\":0.5},\"pattern\":{\"fillmode\":\"overlay\",\"size\":10,\"solidity\":0.2}},\"type\":\"bar\"}],\"scattergeo\":[{\"type\":\"scattergeo\",\"marker\":{\"colorbar\":{\"outlinewidth\":0,\"ticks\":\"\"}}}],\"scatterpolar\":[{\"type\":\"scatterpolar\",\"marker\":{\"colorbar\":{\"outlinewidth\":0,\"ticks\":\"\"}}}],\"histogram\":[{\"marker\":{\"pattern\":{\"fillmode\":\"overlay\",\"size\":10,\"solidity\":0.2}},\"type\":\"histogram\"}],\"scattergl\":[{\"type\":\"scattergl\",\"marker\":{\"colorbar\":{\"outlinewidth\":0,\"ticks\":\"\"}}}],\"scatter3d\":[{\"type\":\"scatter3d\",\"line\":{\"colorbar\":{\"outlinewidth\":0,\"ticks\":\"\"}},\"marker\":{\"colorbar\":{\"outlinewidth\":0,\"ticks\":\"\"}}}],\"scattermap\":[{\"type\":\"scattermap\",\"marker\":{\"colorbar\":{\"outlinewidth\":0,\"ticks\":\"\"}}}],\"scattermapbox\":[{\"type\":\"scattermapbox\",\"marker\":{\"colorbar\":{\"outlinewidth\":0,\"ticks\":\"\"}}}],\"scatterternary\":[{\"type\":\"scatterternary\",\"marker\":{\"colorbar\":{\"outlinewidth\":0,\"ticks\":\"\"}}}],\"scattercarpet\":[{\"type\":\"scattercarpet\",\"marker\":{\"colorbar\":{\"outlinewidth\":0,\"ticks\":\"\"}}}],\"carpet\":[{\"aaxis\":{\"endlinecolor\":\"#2a3f5f\",\"gridcolor\":\"#C8D4E3\",\"linecolor\":\"#C8D4E3\",\"minorgridcolor\":\"#C8D4E3\",\"startlinecolor\":\"#2a3f5f\"},\"baxis\":{\"endlinecolor\":\"#2a3f5f\",\"gridcolor\":\"#C8D4E3\",\"linecolor\":\"#C8D4E3\",\"minorgridcolor\":\"#C8D4E3\",\"startlinecolor\":\"#2a3f5f\"},\"type\":\"carpet\"}],\"table\":[{\"cells\":{\"fill\":{\"color\":\"#EBF0F8\"},\"line\":{\"color\":\"white\"}},\"header\":{\"fill\":{\"color\":\"#C8D4E3\"},\"line\":{\"color\":\"white\"}},\"type\":\"table\"}],\"barpolar\":[{\"marker\":{\"line\":{\"color\":\"white\",\"width\":0.5},\"pattern\":{\"fillmode\":\"overlay\",\"size\":10,\"solidity\":0.2}},\"type\":\"barpolar\"}],\"pie\":[{\"automargin\":true,\"type\":\"pie\"}]},\"layout\":{\"autotypenumbers\":\"strict\",\"colorway\":[\"#636efa\",\"#EF553B\",\"#00cc96\",\"#ab63fa\",\"#FFA15A\",\"#19d3f3\",\"#FF6692\",\"#B6E880\",\"#FF97FF\",\"#FECB52\"],\"font\":{\"color\":\"#2a3f5f\"},\"hovermode\":\"closest\",\"hoverlabel\":{\"align\":\"left\"},\"paper_bgcolor\":\"white\",\"plot_bgcolor\":\"white\",\"polar\":{\"bgcolor\":\"white\",\"angularaxis\":{\"gridcolor\":\"#EBF0F8\",\"linecolor\":\"#EBF0F8\",\"ticks\":\"\"},\"radialaxis\":{\"gridcolor\":\"#EBF0F8\",\"linecolor\":\"#EBF0F8\",\"ticks\":\"\"}},\"ternary\":{\"bgcolor\":\"white\",\"aaxis\":{\"gridcolor\":\"#DFE8F3\",\"linecolor\":\"#A2B1C6\",\"ticks\":\"\"},\"baxis\":{\"gridcolor\":\"#DFE8F3\",\"linecolor\":\"#A2B1C6\",\"ticks\":\"\"},\"caxis\":{\"gridcolor\":\"#DFE8F3\",\"linecolor\":\"#A2B1C6\",\"ticks\":\"\"}},\"coloraxis\":{\"colorbar\":{\"outlinewidth\":0,\"ticks\":\"\"}},\"colorscale\":{\"sequential\":[[0.0,\"#0d0887\"],[0.1111111111111111,\"#46039f\"],[0.2222222222222222,\"#7201a8\"],[0.3333333333333333,\"#9c179e\"],[0.4444444444444444,\"#bd3786\"],[0.5555555555555556,\"#d8576b\"],[0.6666666666666666,\"#ed7953\"],[0.7777777777777778,\"#fb9f3a\"],[0.8888888888888888,\"#fdca26\"],[1.0,\"#f0f921\"]],\"sequentialminus\":[[0.0,\"#0d0887\"],[0.1111111111111111,\"#46039f\"],[0.2222222222222222,\"#7201a8\"],[0.3333333333333333,\"#9c179e\"],[0.4444444444444444,\"#bd3786\"],[0.5555555555555556,\"#d8576b\"],[0.6666666666666666,\"#ed7953\"],[0.7777777777777778,\"#fb9f3a\"],[0.8888888888888888,\"#fdca26\"],[1.0,\"#f0f921\"]],\"diverging\":[[0,\"#8e0152\"],[0.1,\"#c51b7d\"],[0.2,\"#de77ae\"],[0.3,\"#f1b6da\"],[0.4,\"#fde0ef\"],[0.5,\"#f7f7f7\"],[0.6,\"#e6f5d0\"],[0.7,\"#b8e186\"],[0.8,\"#7fbc41\"],[0.9,\"#4d9221\"],[1,\"#276419\"]]},\"xaxis\":{\"gridcolor\":\"#EBF0F8\",\"linecolor\":\"#EBF0F8\",\"ticks\":\"\",\"title\":{\"standoff\":15},\"zerolinecolor\":\"#EBF0F8\",\"automargin\":true,\"zerolinewidth\":2},\"yaxis\":{\"gridcolor\":\"#EBF0F8\",\"linecolor\":\"#EBF0F8\",\"ticks\":\"\",\"title\":{\"standoff\":15},\"zerolinecolor\":\"#EBF0F8\",\"automargin\":true,\"zerolinewidth\":2},\"scene\":{\"xaxis\":{\"backgroundcolor\":\"white\",\"gridcolor\":\"#DFE8F3\",\"linecolor\":\"#EBF0F8\",\"showbackground\":true,\"ticks\":\"\",\"zerolinecolor\":\"#EBF0F8\",\"gridwidth\":2},\"yaxis\":{\"backgroundcolor\":\"white\",\"gridcolor\":\"#DFE8F3\",\"linecolor\":\"#EBF0F8\",\"showbackground\":true,\"ticks\":\"\",\"zerolinecolor\":\"#EBF0F8\",\"gridwidth\":2},\"zaxis\":{\"backgroundcolor\":\"white\",\"gridcolor\":\"#DFE8F3\",\"linecolor\":\"#EBF0F8\",\"showbackground\":true,\"ticks\":\"\",\"zerolinecolor\":\"#EBF0F8\",\"gridwidth\":2}},\"shapedefaults\":{\"line\":{\"color\":\"#2a3f5f\"}},\"annotationdefaults\":{\"arrowcolor\":\"#2a3f5f\",\"arrowhead\":0,\"arrowwidth\":1},\"geo\":{\"bgcolor\":\"white\",\"landcolor\":\"white\",\"subunitcolor\":\"#C8D4E3\",\"showland\":true,\"showlakes\":true,\"lakecolor\":\"white\"},\"title\":{\"x\":0.05},\"mapbox\":{\"style\":\"light\"}}},\"legend\":{\"tracegroupgap\":0},\"title\":{\"text\":\"Overall Distribution of Authorship Instances by Type\"}},                        {\"responsive\": true}                    ).then(function(){\n",
       "                            \n",
       "var gd = document.getElementById('a58560f6-9560-4e8a-b330-206a97c1ca00');\n",
       "var x = new MutationObserver(function (mutations, observer) {{\n",
       "        var display = window.getComputedStyle(gd).display;\n",
       "        if (!display || display === 'none') {{\n",
       "            console.log([gd, 'removed!']);\n",
       "            Plotly.purge(gd);\n",
       "            observer.disconnect();\n",
       "        }}\n",
       "}});\n",
       "\n",
       "// Listen for the removal of the full notebook cells\n",
       "var notebookContainer = gd.closest('#notebook-container');\n",
       "if (notebookContainer) {{\n",
       "    x.observe(notebookContainer, {childList: true});\n",
       "}}\n",
       "\n",
       "// Listen for the clearing of the current output cell\n",
       "var outputEl = gd.closest('.output');\n",
       "if (outputEl) {{\n",
       "    x.observe(outputEl, {childList: true});\n",
       "}}\n",
       "\n",
       "                        })                };            </script>        </div>"
      ]
     },
     "metadata": {},
     "output_type": "display_data"
    }
   ],
   "source": [
    "# Calculations for Summary\n",
    "unique_papers_df = df[['Conference', 'Year', 'Title']].drop_duplicates()\n",
    "total_unique_papers = len(unique_papers_df)\n",
    "total_authorship_instances = len(df)\n",
    "time_frames = df.groupby('Conference')['Year'].agg(['min', 'max'])\n",
    "overall_min_year = df['Year'].min()\n",
    "overall_max_year = df['Year'].max()\n",
    "unknown_institutions_count = (df['Institution'] == 'Unknown Institution').sum()\n",
    "unknown_countries_count = (df['Country'] == 'Unknown Country').sum()\n",
    "unknown_types_count = (df['Type'] == 'Unknown Type').sum()\n",
    "perc_unknown_inst = (unknown_institutions_count / total_authorship_instances) * 100\n",
    "perc_unknown_country = (unknown_countries_count / total_authorship_instances) * 100\n",
    "perc_unknown_type = (unknown_types_count / total_authorship_instances) * 100\n",
    "\n",
    "# Store stats for Markdown\n",
    "summary_stats = {\n",
    "    \"Total Unique Papers\": total_unique_papers,\n",
    "    \"Total Authorship Instances\": total_authorship_instances,\n",
    "    \"Overall Years\": f\"{overall_min_year}-{overall_max_year}\",\n",
    "    \"% Unknown Institutions\": f\"{perc_unknown_inst:.2f}%\",\n",
    "    \"% Unknown Countries\": f\"{perc_unknown_country:.2f}%\",\n",
    "    \"% Unknown Types\": f\"{perc_unknown_type:.2f}%\"\n",
    "}\n",
    "\n",
    "# Plot 1: Unique Papers per Year\n",
    "print(\"\\nPlot 1: Unique Papers per Year\")\n",
    "papers_per_year = unique_papers_df.groupby('Year').size().reset_index(name='UniquePaperCount')\n",
    "fig1 = px.line(papers_per_year,\n",
    "              x='Year',\n",
    "              y='UniquePaperCount',\n",
    "              markers=True,\n",
    "              title='Total Unique Papers per Year (Across All Conferences)',\n",
    "              labels={'UniquePaperCount': 'Number of Unique Papers', 'Year': 'Year'})\n",
    "fig1.update_layout(hovermode=\"x unified\")\n",
    "fig1.show()\n",
    "\n",
    "# Plot 2: Authorship Instances per Year\n",
    "print(\"Plot 2: Authorship Instances per Year\")\n",
    "instances_per_year = df.groupby('Year').size().reset_index(name='AuthorshipInstanceCount')\n",
    "fig2 = px.line(instances_per_year,\n",
    "              x='Year',\n",
    "              y='AuthorshipInstanceCount',\n",
    "              markers=True,\n",
    "              title='Total Authorship Instances per Year (Across All Conferences)',\n",
    "              labels={'AuthorshipInstanceCount': 'Number of Authorship Instances', 'Year': 'Year'})\n",
    "fig2.update_layout(hovermode=\"x unified\")\n",
    "fig2.show()\n",
    "\n",
    "# Plot 3: Total Authorship Instances per Conference\n",
    "print(\"Plot 3: Total Authorship Instances per Conference\")\n",
    "conf_counts = df['Conference'].value_counts().reset_index()\n",
    "conf_counts.columns = ['Conference', 'Count'] # Rename columns for clarity\n",
    "fig3 = px.bar(conf_counts,\n",
    "             x='Conference',\n",
    "             y='Count',\n",
    "             color='Conference',\n",
    "             title='Total Authorship Instances per Conference (Overall)',\n",
    "             labels={'Count': 'Number of Authorship Instances', 'Conference': 'Conference'},\n",
    "             text_auto=True)\n",
    "fig3.update_layout(showlegend=False)\n",
    "fig3.show()\n",
    "\n",
    "# Plot 4: Top 15 Countries by Total Authorship Instances\n",
    "print(\"Plot 4: Top 15 Countries\")\n",
    "country_df_filtered = df[df['Country'] != 'Unknown Country']\n",
    "country_counts = country_df_filtered['Country'].value_counts().head(15).reset_index()\n",
    "country_counts.columns = ['Country', 'Count']\n",
    "country_counts = country_counts.sort_values(by='Count', ascending=True) # Sort for horizontal bar\n",
    "\n",
    "fig4 = px.bar(country_counts,\n",
    "             x='Count',\n",
    "             y='Country',\n",
    "             orientation='h',\n",
    "             title='Top 15 Countries by Total Authorship Instances (Overall)',\n",
    "             labels={'Count': 'Number of Authorship Instances', 'Country': 'Country'},\n",
    "             text='Count')\n",
    "fig4.update_layout(yaxis={'categoryorder':'total ascending'})\n",
    "fig4.update_traces(textposition='outside')\n",
    "fig4.show()\n",
    "\n",
    "# Plot 5: Top 15 Institutions by Total Authorship Instances\n",
    "print(\"Plot 5: Top 15 Institutions\")\n",
    "inst_df_filtered = df[df['Institution'] != 'Unknown Institution']\n",
    "inst_counts = inst_df_filtered['Institution'].value_counts().head(15).reset_index()\n",
    "inst_counts.columns = ['Institution', 'Count']\n",
    "inst_counts = inst_counts.sort_values(by='Count', ascending=True) # Sort for horizontal bar\n",
    "\n",
    "fig5 = px.bar(inst_counts,\n",
    "             x='Count',\n",
    "             y='Institution',\n",
    "             orientation='h',\n",
    "             title='Top 15 Institutions by Total Authorship Instances (Overall)',\n",
    "             labels={'Count': 'Number of Authorship Instances', 'Institution': 'Institution'},\n",
    "             text='Count')\n",
    "fig5.update_layout(yaxis={'categoryorder':'total ascending'})\n",
    "fig5.update_traces(textposition='outside')\n",
    "fig5.show()\n",
    "\n",
    "# Plot 6: Overall Distribution by Type (Academia/Industry)\n",
    "print(\"Plot 6: Distribution by Type\")\n",
    "type_df_filtered = df[df['Type'].isin(['Academia', 'Industry'])] # Filter only known types\n",
    "type_counts = type_df_filtered['Type'].value_counts().reset_index()\n",
    "type_counts.columns = ['Type', 'Count']\n",
    "\n",
    "if not type_counts.empty:\n",
    "    fig6 = px.pie(type_counts,\n",
    "                 names='Type',\n",
    "                 values='Count',\n",
    "                 title='Overall Distribution of Authorship Instances by Type',\n",
    "                 hole=0.3)\n",
    "    fig6.update_traces(textinfo='percent+label', pull=[0.05, 0.05])\n",
    "    fig6.show()\n",
    "else:\n",
    "    print(\"No known types ('Academia'/'Industry') found to generate distribution plot.\")"
   ]
  },
  {
   "cell_type": "markdown",
   "id": "d23474f4",
   "metadata": {},
   "source": [
    "### 3.1 Summary of Dataset Characteristics\n",
    "\n",
    "The prepared dataset covers the period **2006-2024** across NeurIPS, ICML, and ICLR (excluding 2020). It contains **38510 unique papers** and **18345 authorship instances** (representing individual author-institution links).\n",
    "\n",
    "*   **Data Completeness:** After processing, the remaining percentages of unmapped entries are:\n",
    "    *   Institutions: **2.19%**\n",
    "    *   Countries: **4.50%**\n",
    "    *   Types: **2.21%**\n",
    "*   **Overview Trends (from plots above):**\n",
    "    *   Both unique paper counts and total authorship instances show a strong **upward trend** over the years, confirming significant growth in research output at these venues.\n",
    "    *   **NeurIPS** has the highest overall volume of authorship instances, followed by ICML and ICLR.\n",
    "    *   Geographically, the **USA** and **China** are the dominant contributors, with the UK, Canada, and Germany also having significant presence.\n",
    "    *   Institutionally, **Google**, **Stanford**, **MIT**, **Tsinghua**, and **CMU** lead in overall contributions.\n",
    "    *   Affiliation types are predominantly **Academia** (around 70-80%), but Industry forms a substantial minority."
   ]
  },
  {
   "cell_type": "markdown",
   "id": "5836bd49",
   "metadata": {},
   "source": [
    "## 4. Hypotheses, Analysis and Findings\n",
    "\n",
    "Based on the dataset and initial overview, we formulate hypotheses to investigate specific trends.\n",
    "\n",
    "### H1: Overall Growth\n",
    "\n",
    "**Hypothesis:** The volume of AI research published at these top conferences (measured by unique papers and authorship instances) has increased significantly over the period covered by the dataset.\n",
    "\n",
    "**Quantification:** Plotting unique papers per year and total authorship instances per year (Plots 1 & 2 generated in Section 3).\n",
    "\n",
    "**Findings:** Plots 1 and 2 clearly show a strong, near-exponential increase in both the number of unique papers and the total volume of authorship instances over the years, particularly accelerating after ~2015.\n",
    "\n",
    "**Conclusion:** **H1 is strongly supported.** The data confirms significant growth in publication volume at these top AI conferences."
   ]
  },
  {
   "cell_type": "markdown",
   "id": "ce7b219b",
   "metadata": {},
   "source": [
    "### H2: Geographic Shifts\n",
    "\n",
    "**Hypothesis:** While North America (USA/Canada) has historically dominated, contributions from East Asia (particularly China) have shown the most rapid growth in recent years, significantly increasing their share of publications.\n",
    "\n",
    "**Quantification:** Calculate the percentage share of total yearly authorship instances for key countries over time. Filter out \"Unknown Country\" instances before calculating percentages."
   ]
  },
  {
   "cell_type": "code",
   "execution_count": 6,
   "id": "89ec0a7c",
   "metadata": {},
   "outputs": [
    {
     "data": {
      "application/vnd.plotly.v1+json": {
       "config": {
        "plotlyServerURL": "https://plot.ly"
       },
       "data": [
        {
         "customdata": {
          "bdata": "JQArADIAKQApACkARgA9ADMAPwBMAIkAqAFwAlwCzQMsBHgFMAc=",
          "dtype": "i2",
          "shape": "19, 1"
         },
         "hovertemplate": "Country=Canada<br>Year=%{x}<br>% of Total Yearly Instances=%{y:.2f%}<br>Count=%{customdata[0]}<extra></extra>",
         "legendgroup": "Canada",
         "line": {
          "color": "#636efa",
          "dash": "solid"
         },
         "marker": {
          "symbol": "circle"
         },
         "mode": "lines+markers",
         "name": "Canada",
         "orientation": "v",
         "showlegend": true,
         "type": "scatter",
         "x": {
          "bdata": "1gfXB9gH2QfaB9sH3AfdB94H3wfgB+EH4gfjB+QH5QfmB+cH6Ac=",
          "dtype": "i2"
         },
         "xaxis": "x",
         "y": {
          "bdata": "eE7wzzxaHEAGhJI7RQsbQFYWZ7R72BpA3jE1sHdMFUAvuuiiiy4SQJHn20SUyRFANZqkPEywF0DC6pYFX08VQChZRmpb+g1AiygBiygBE0Cu7HNITTAOQDQrYVLsKQpA4cBGdmr8FUDTtRU4Zp0WQFVjtNeuGRNAR0QFpBhtFEAZ/gqkaKMRQC+s8FB2bRBANf0Iq4EFDUA=",
          "dtype": "f8"
         },
         "yaxis": "y"
        },
        {
         "customdata": {
          "bdata": "CAAKABYAHwAdABEALAAhADMAJwBSAN8AQQJTA90EBgnmEHIZ/TQ=",
          "dtype": "i2",
          "shape": "19, 1"
         },
         "hovertemplate": "Country=China<br>Year=%{x}<br>% of Total Yearly Instances=%{y:.2f%}<br>Count=%{customdata[0]}<extra></extra>",
         "legendgroup": "China",
         "line": {
          "color": "#EF553B",
          "dash": "solid"
         },
         "marker": {
          "symbol": "circle"
         },
         "mode": "lines+markers",
         "name": "China",
         "orientation": "v",
         "showlegend": true,
         "type": "scatter",
         "x": {
          "bdata": "1gfXB9gH2QfaB9sH3AfdB94H3wfgB+EH4gfjB+QH5QfmB+cH6Ac=",
          "dtype": "i2"
         },
         "xaxis": "x",
         "y": {
          "bdata": "pavdBmWF+D88RQtnQCj5P0yEJwXJnwdAZGpg75gaEEC4qYebergJQHPwixRHgP0/mqQ8TLDHDUDGI2BiiA4HQChZRmpb+g1Ah4eHh4eHB0DXbnQqN0kQQJMro7o6SxVAMnn+pmzrHUAFWoOVetceQNvHZSNzryNAO+a4WTM/KECdrvJMfNwxQG/ClYraGzNAFcNlfo2+OkA=",
          "dtype": "f8"
         },
         "yaxis": "y"
        },
        {
         "customdata": {
          "bdata": "CQATACYAIwA3ACIARwA3AEQATABjAI0A/QDVAfQBsAL8AhEDmQM=",
          "dtype": "i2",
          "shape": "19, 1"
         },
         "hovertemplate": "Country=France<br>Year=%{x}<br>% of Total Yearly Instances=%{y:.2f%}<br>Count=%{customdata[0]}<extra></extra>",
         "legendgroup": "France",
         "line": {
          "color": "#00cc96",
          "dash": "solid"
         },
         "marker": {
          "symbol": "circle"
         },
         "mode": "lines+markers",
         "name": "France",
         "orientation": "v",
         "showlegend": true,
         "type": "scatter",
         "x": {
          "bdata": "1gfXB9gH2QfaB9sH3AfdB94H3wfgB+EH4gfjB+QH5QfmB+cH6Ac=",
          "dtype": "i2"
         },
         "xaxis": "x",
         "y": {
          "bdata": "GmG5pxGW+z9fG7EuPeYHQEHy51UWZxRAL7rooosuEkBkcD4G52MYQHPwixRHgA1A5WGCPe4GGEAlc6X8xjYTQHA7hPE8/BNAdxTtdhTtFkBCxMSmkKkTQNvfZaF77QpADDFNJe48CkA5f2/NU/8QQPCFNmqAnw9AvuHJEebiDEA2cy1rPzwJQFnemBwgbAJAhBFRApUN/T8=",
          "dtype": "f8"
         },
         "yaxis": "y"
        },
        {
         "customdata": {
          "bdata": "KgApAD0AMQAyAD0ANgA/AC4AMwA4AHIAzABbAV4B3AJRA9kEPwc=",
          "dtype": "i2",
          "shape": "19, 1"
         },
         "hovertemplate": "Country=Germany<br>Year=%{x}<br>% of Total Yearly Instances=%{y:.2f%}<br>Count=%{customdata[0]}<extra></extra>",
         "legendgroup": "Germany",
         "line": {
          "color": "#ab63fa",
          "dash": "solid"
         },
         "marker": {
          "symbol": "circle"
         },
         "mode": "lines+markers",
         "name": "Germany",
         "orientation": "v",
         "showlegend": true,
         "type": "scatter",
         "x": {
          "bdata": "1gfXB9gH2QfaB9sH3AfdB94H3wfgB+EH4gfjB+QH5QfmB+cH6Ac=",
          "dtype": "i2"
         },
         "xaxis": "x",
         "y": {
          "bdata": "pXiBTIoXIEAqWjgDQskZQLR72Po2YCBAdNFFF110GUAtZsRiRiwWQB0B9lnWdhpAMB/ILixGEkD3Z+ddPAIWQOPIlBn4CQtAT+zETuzEDkBXyZjJiT4GQHocBkx0xQVA2UA/1wUoBUC2tR7k2SYJQFz38uPZIgZAmvr+CdS7DkAk1vEY/goMQGncygOvHw1AiJWluRJCDUA=",
          "dtype": "f8"
         },
         "yaxis": "y"
        },
        {
         "customdata": {
          "bdata": "AwAIAAIABQALAAEABQAEABUADgANABgALQA/AFYAgACyAKYA1wA=",
          "dtype": "i2",
          "shape": "19, 1"
         },
         "hovertemplate": "Country=India<br>Year=%{x}<br>% of Total Yearly Instances=%{y:.2f%}<br>Count=%{customdata[0]}<extra></extra>",
         "legendgroup": "India",
         "line": {
          "color": "#FFA15A",
          "dash": "solid"
         },
         "marker": {
          "symbol": "circle"
         },
         "mode": "lines+markers",
         "name": "India",
         "orientation": "v",
         "showlegend": true,
         "type": "scatter",
         "x": {
          "bdata": "1gfXB9gH2QfaB9sH3AfdB94H3wfgB+EH4gfjB+QH5QfmB+cH6Ac=",
          "dtype": "i2"
         },
         "xaxis": "x",
         "y": {
          "bdata": "vEAmxQtk4j/KnaKFMyD0PzdgqKZjLtE/7B1TA3vH5D+D8zE4H4PzP4se7akGxLs/GGdORaAS2z+Rpg8Kq1vWPxLvOQwPsPg/0ZXk0JXk8D+tKKAWyafkP5DvcGhvVeI/v8Ao+teq4j8r/3OjDUTiP9ska4K0weU/Un71MC5/5T93/WOFi4TnP3bEN85cKt8/nDokNvkg2z8=",
          "dtype": "f8"
         },
         "yaxis": "y"
        },
        {
         "customdata": {
          "bdata": "DwAUABMAGAAYACoAJQAVABcAFgAjAHsApgDnAPwAWQGEAQgCyQI=",
          "dtype": "i2",
          "shape": "19, 1"
         },
         "hovertemplate": "Country=Japan<br>Year=%{x}<br>% of Total Yearly Instances=%{y:.2f%}<br>Count=%{customdata[0]}<extra></extra>",
         "legendgroup": "Japan",
         "line": {
          "color": "#19d3f3",
          "dash": "solid"
         },
         "marker": {
          "symbol": "circle"
         },
         "mode": "lines+markers",
         "name": "Japan",
         "orientation": "v",
         "showlegend": true,
         "type": "scatter",
         "x": {
          "bdata": "1gfXB9gH2QfaB9sH3AfdB94H3wfgB+EH4gfjB+QH5QfmB+cH6Ac=",
          "dtype": "i2"
         },
         "xaxis": "x",
         "y": {
          "bdata": "69Bvtg79BkA8RQtnQCgJQEHy51UWZwRAgr1jamDvCEBJlZNUOUkFQAucg1+kOBJA9rgbQNQKCUCeijR9UFj9P+PIlBn4Cfs/28aL2saL+j+t+/47LM77P/Cy0L12fQdAsKDb4yc3AUA8/9TVYb4AQEYSkQBE4P8/PNf6P2X4/D92yeWzt6H5P9h0kX8daPg/CZHAF9599j8=",
          "dtype": "f8"
         },
         "yaxis": "y"
        },
        {
         "customdata": {
          "bdata": "EAAVABEACgAUABoAHAAgACUALABJAIkA4QAaAVoB9AFYAhwDMwQ=",
          "dtype": "i2",
          "shape": "19, 1"
         },
         "hovertemplate": "Country=Switzerland<br>Year=%{x}<br>% of Total Yearly Instances=%{y:.2f%}<br>Count=%{customdata[0]}<extra></extra>",
         "legendgroup": "Switzerland",
         "line": {
          "color": "#FF6692",
          "dash": "solid"
         },
         "marker": {
          "symbol": "circle"
         },
         "mode": "lines+markers",
         "name": "Switzerland",
         "orientation": "v",
         "showlegend": true,
         "type": "scatter",
         "x": {
          "bdata": "1gfXB9gH2QfaB9sH3AfdB94H3wfgB+EH4gfjB+QH5QfmB+cH6Ac=",
          "dtype": "i2"
         },
         "xaxis": "x",
         "y": {
          "bdata": "pavdBmWFCEAYb2WfQ2oKQDrmEuFJQQJA7B1TA3vH9D+9UdAbBb0BQNCoEGpFjwZAka6DMHDzAkCRpg8Kq1sGQM1eiLurvwVA28aL2saLCkAudDnCPP8MQDQrYVLsKQpA7/Cy+I1VB0B+2sTtuXAEQAZrmE0W4gVAXL3PGzP+BEB42AA0ftEDQLnG0hU2rgJAoaTWwZv0AEA=",
          "dtype": "f8"
         },
         "yaxis": "y"
        },
        {
         "customdata": {
          "bdata": "JgA9AEEAKwAmADYAQQA/AEUAQgBNAMsAxAFhAqgC/wMyBIwF0Qc=",
          "dtype": "i2",
          "shape": "19, 1"
         },
         "hovertemplate": "Country=UK<br>Year=%{x}<br>% of Total Yearly Instances=%{y:.2f%}<br>Count=%{customdata[0]}<extra></extra>",
         "legendgroup": "UK",
         "line": {
          "color": "#B6E880",
          "dash": "solid"
         },
         "marker": {
          "symbol": "circle"
         },
         "mode": "lines+markers",
         "name": "UK",
         "orientation": "v",
         "showlegend": true,
         "type": "scatter",
         "x": {
          "bdata": "1gfXB9gH2QfaB9sH3AfdB94H3wfgB+EH4gfjB+QH5QfmB+cH6Ac=",
          "dtype": "i2"
         },
         "xaxis": "x",
         "y": {
          "bdata": "1Tsn+GceHUBk/l4bsS4jQLgBQzUdcyFAxFn5CXFWFkDagJ8N+NkQQMURYJ9lbRdAxLNPOCL/FUD3Z+ddPAIWQKuWLxN6RxRAJNXoI9XoE0DYFDJ1/ZUOQPRnF3VUYhNA8OCTjBpwF0D9foElOxIWQIWYEOzwgBVA8kBpZc55FUCpEzm2xrwRQJ05yEqKqRBAKmAznZaPD0A=",
          "dtype": "f8"
         },
         "yaxis": "y"
        },
        {
         "customdata": {
          "bdata": "FwFcAYkBwAEUAg4CogKpAksDJwMPBS4KphHNGCUb3SURLK89Lk8=",
          "dtype": "i2",
          "shape": "19, 1"
         },
         "hovertemplate": "Country=USA<br>Year=%{x}<br>% of Total Yearly Instances=%{y:.2f%}<br>Count=%{customdata[0]}<extra></extra>",
         "legendgroup": "USA",
         "line": {
          "color": "#FF97FF",
          "dash": "solid"
         },
         "marker": {
          "symbol": "circle"
         },
         "mode": "lines+markers",
         "name": "USA",
         "orientation": "v",
         "showlegend": true,
         "type": "scatter",
         "x": {
          "bdata": "1gfXB9gH2QfaB9sH3AfdB94H3wfgB+EH4gfjB+QH5QfmB+cH6Ac=",
          "dtype": "i2"
         },
         "xaxis": "x",
         "y": {
          "bdata": "EZZ7GmG5SkB9DqkJxltLQLR72Po2YEpAF1100UUXTUB+IdcXcn1NQGCakthihkxAxff8yNCCTEAM0eH+7LxNQA2t6LtJ+E5AlQtulQtuTkCAaa+SMRNQQMebh1nzGk9ALLs8nc9ITUCvbgwIKcNMQF6NH4H0d0tAf/mdv4NvSUCaa1n74UlHQC17PoBTKUdAH8FpR1v7Q0A=",
          "dtype": "f8"
         },
         "yaxis": "y"
        },
        {
         "customdata": {
          "bdata": "AQADAAIABQALAAIABQALABMANwB4AMIAGgENAucCiQT7BQ==",
          "dtype": "i2",
          "shape": "17, 1"
         },
         "hovertemplate": "Country=South Korea<br>Year=%{x}<br>% of Total Yearly Instances=%{y:.2f%}<br>Count=%{customdata[0]}<extra></extra>",
         "legendgroup": "South Korea",
         "line": {
          "color": "#FECB52",
          "dash": "solid"
         },
         "marker": {
          "symbol": "circle"
         },
         "mode": "lines+markers",
         "name": "South Korea",
         "orientation": "v",
         "showlegend": true,
         "type": "scatter",
         "x": {
          "bdata": "2AfZB9oH2wfcB90H3gffB+AH4QfiB+MH5AflB+YH5wfoBw==",
          "dtype": "i2"
         },
         "xaxis": "x",
         "y": {
          "bdata": "N2CopmMuwT+CvWNqYO/YP2IcGsahYcw/FzM0KoRa4T+apDxMsMftP5GmDwqrW8Y/KoKMhRqD1z/bxovaxovqP67sc0hNMO4/1WcB/eQB9T//AOGiyuP4P9xHnjijH/w/p6Xv59zVAUAHujPd6AoGQEbc6uusighA93AONQ8/C0BQuwh+1SUIQA==",
          "dtype": "f8"
         },
         "yaxis": "y"
        }
       ],
       "layout": {
        "hovermode": "x unified",
        "legend": {
         "title": {
          "text": "Country"
         },
         "tracegroupgap": 0
        },
        "template": {
         "data": {
          "bar": [
           {
            "error_x": {
             "color": "#2a3f5f"
            },
            "error_y": {
             "color": "#2a3f5f"
            },
            "marker": {
             "line": {
              "color": "white",
              "width": 0.5
             },
             "pattern": {
              "fillmode": "overlay",
              "size": 10,
              "solidity": 0.2
             }
            },
            "type": "bar"
           }
          ],
          "barpolar": [
           {
            "marker": {
             "line": {
              "color": "white",
              "width": 0.5
             },
             "pattern": {
              "fillmode": "overlay",
              "size": 10,
              "solidity": 0.2
             }
            },
            "type": "barpolar"
           }
          ],
          "carpet": [
           {
            "aaxis": {
             "endlinecolor": "#2a3f5f",
             "gridcolor": "#C8D4E3",
             "linecolor": "#C8D4E3",
             "minorgridcolor": "#C8D4E3",
             "startlinecolor": "#2a3f5f"
            },
            "baxis": {
             "endlinecolor": "#2a3f5f",
             "gridcolor": "#C8D4E3",
             "linecolor": "#C8D4E3",
             "minorgridcolor": "#C8D4E3",
             "startlinecolor": "#2a3f5f"
            },
            "type": "carpet"
           }
          ],
          "choropleth": [
           {
            "colorbar": {
             "outlinewidth": 0,
             "ticks": ""
            },
            "type": "choropleth"
           }
          ],
          "contour": [
           {
            "colorbar": {
             "outlinewidth": 0,
             "ticks": ""
            },
            "colorscale": [
             [
              0,
              "#0d0887"
             ],
             [
              0.1111111111111111,
              "#46039f"
             ],
             [
              0.2222222222222222,
              "#7201a8"
             ],
             [
              0.3333333333333333,
              "#9c179e"
             ],
             [
              0.4444444444444444,
              "#bd3786"
             ],
             [
              0.5555555555555556,
              "#d8576b"
             ],
             [
              0.6666666666666666,
              "#ed7953"
             ],
             [
              0.7777777777777778,
              "#fb9f3a"
             ],
             [
              0.8888888888888888,
              "#fdca26"
             ],
             [
              1,
              "#f0f921"
             ]
            ],
            "type": "contour"
           }
          ],
          "contourcarpet": [
           {
            "colorbar": {
             "outlinewidth": 0,
             "ticks": ""
            },
            "type": "contourcarpet"
           }
          ],
          "heatmap": [
           {
            "colorbar": {
             "outlinewidth": 0,
             "ticks": ""
            },
            "colorscale": [
             [
              0,
              "#0d0887"
             ],
             [
              0.1111111111111111,
              "#46039f"
             ],
             [
              0.2222222222222222,
              "#7201a8"
             ],
             [
              0.3333333333333333,
              "#9c179e"
             ],
             [
              0.4444444444444444,
              "#bd3786"
             ],
             [
              0.5555555555555556,
              "#d8576b"
             ],
             [
              0.6666666666666666,
              "#ed7953"
             ],
             [
              0.7777777777777778,
              "#fb9f3a"
             ],
             [
              0.8888888888888888,
              "#fdca26"
             ],
             [
              1,
              "#f0f921"
             ]
            ],
            "type": "heatmap"
           }
          ],
          "histogram": [
           {
            "marker": {
             "pattern": {
              "fillmode": "overlay",
              "size": 10,
              "solidity": 0.2
             }
            },
            "type": "histogram"
           }
          ],
          "histogram2d": [
           {
            "colorbar": {
             "outlinewidth": 0,
             "ticks": ""
            },
            "colorscale": [
             [
              0,
              "#0d0887"
             ],
             [
              0.1111111111111111,
              "#46039f"
             ],
             [
              0.2222222222222222,
              "#7201a8"
             ],
             [
              0.3333333333333333,
              "#9c179e"
             ],
             [
              0.4444444444444444,
              "#bd3786"
             ],
             [
              0.5555555555555556,
              "#d8576b"
             ],
             [
              0.6666666666666666,
              "#ed7953"
             ],
             [
              0.7777777777777778,
              "#fb9f3a"
             ],
             [
              0.8888888888888888,
              "#fdca26"
             ],
             [
              1,
              "#f0f921"
             ]
            ],
            "type": "histogram2d"
           }
          ],
          "histogram2dcontour": [
           {
            "colorbar": {
             "outlinewidth": 0,
             "ticks": ""
            },
            "colorscale": [
             [
              0,
              "#0d0887"
             ],
             [
              0.1111111111111111,
              "#46039f"
             ],
             [
              0.2222222222222222,
              "#7201a8"
             ],
             [
              0.3333333333333333,
              "#9c179e"
             ],
             [
              0.4444444444444444,
              "#bd3786"
             ],
             [
              0.5555555555555556,
              "#d8576b"
             ],
             [
              0.6666666666666666,
              "#ed7953"
             ],
             [
              0.7777777777777778,
              "#fb9f3a"
             ],
             [
              0.8888888888888888,
              "#fdca26"
             ],
             [
              1,
              "#f0f921"
             ]
            ],
            "type": "histogram2dcontour"
           }
          ],
          "mesh3d": [
           {
            "colorbar": {
             "outlinewidth": 0,
             "ticks": ""
            },
            "type": "mesh3d"
           }
          ],
          "parcoords": [
           {
            "line": {
             "colorbar": {
              "outlinewidth": 0,
              "ticks": ""
             }
            },
            "type": "parcoords"
           }
          ],
          "pie": [
           {
            "automargin": true,
            "type": "pie"
           }
          ],
          "scatter": [
           {
            "fillpattern": {
             "fillmode": "overlay",
             "size": 10,
             "solidity": 0.2
            },
            "type": "scatter"
           }
          ],
          "scatter3d": [
           {
            "line": {
             "colorbar": {
              "outlinewidth": 0,
              "ticks": ""
             }
            },
            "marker": {
             "colorbar": {
              "outlinewidth": 0,
              "ticks": ""
             }
            },
            "type": "scatter3d"
           }
          ],
          "scattercarpet": [
           {
            "marker": {
             "colorbar": {
              "outlinewidth": 0,
              "ticks": ""
             }
            },
            "type": "scattercarpet"
           }
          ],
          "scattergeo": [
           {
            "marker": {
             "colorbar": {
              "outlinewidth": 0,
              "ticks": ""
             }
            },
            "type": "scattergeo"
           }
          ],
          "scattergl": [
           {
            "marker": {
             "colorbar": {
              "outlinewidth": 0,
              "ticks": ""
             }
            },
            "type": "scattergl"
           }
          ],
          "scattermap": [
           {
            "marker": {
             "colorbar": {
              "outlinewidth": 0,
              "ticks": ""
             }
            },
            "type": "scattermap"
           }
          ],
          "scattermapbox": [
           {
            "marker": {
             "colorbar": {
              "outlinewidth": 0,
              "ticks": ""
             }
            },
            "type": "scattermapbox"
           }
          ],
          "scatterpolar": [
           {
            "marker": {
             "colorbar": {
              "outlinewidth": 0,
              "ticks": ""
             }
            },
            "type": "scatterpolar"
           }
          ],
          "scatterpolargl": [
           {
            "marker": {
             "colorbar": {
              "outlinewidth": 0,
              "ticks": ""
             }
            },
            "type": "scatterpolargl"
           }
          ],
          "scatterternary": [
           {
            "marker": {
             "colorbar": {
              "outlinewidth": 0,
              "ticks": ""
             }
            },
            "type": "scatterternary"
           }
          ],
          "surface": [
           {
            "colorbar": {
             "outlinewidth": 0,
             "ticks": ""
            },
            "colorscale": [
             [
              0,
              "#0d0887"
             ],
             [
              0.1111111111111111,
              "#46039f"
             ],
             [
              0.2222222222222222,
              "#7201a8"
             ],
             [
              0.3333333333333333,
              "#9c179e"
             ],
             [
              0.4444444444444444,
              "#bd3786"
             ],
             [
              0.5555555555555556,
              "#d8576b"
             ],
             [
              0.6666666666666666,
              "#ed7953"
             ],
             [
              0.7777777777777778,
              "#fb9f3a"
             ],
             [
              0.8888888888888888,
              "#fdca26"
             ],
             [
              1,
              "#f0f921"
             ]
            ],
            "type": "surface"
           }
          ],
          "table": [
           {
            "cells": {
             "fill": {
              "color": "#EBF0F8"
             },
             "line": {
              "color": "white"
             }
            },
            "header": {
             "fill": {
              "color": "#C8D4E3"
             },
             "line": {
              "color": "white"
             }
            },
            "type": "table"
           }
          ]
         },
         "layout": {
          "annotationdefaults": {
           "arrowcolor": "#2a3f5f",
           "arrowhead": 0,
           "arrowwidth": 1
          },
          "autotypenumbers": "strict",
          "coloraxis": {
           "colorbar": {
            "outlinewidth": 0,
            "ticks": ""
           }
          },
          "colorscale": {
           "diverging": [
            [
             0,
             "#8e0152"
            ],
            [
             0.1,
             "#c51b7d"
            ],
            [
             0.2,
             "#de77ae"
            ],
            [
             0.3,
             "#f1b6da"
            ],
            [
             0.4,
             "#fde0ef"
            ],
            [
             0.5,
             "#f7f7f7"
            ],
            [
             0.6,
             "#e6f5d0"
            ],
            [
             0.7,
             "#b8e186"
            ],
            [
             0.8,
             "#7fbc41"
            ],
            [
             0.9,
             "#4d9221"
            ],
            [
             1,
             "#276419"
            ]
           ],
           "sequential": [
            [
             0,
             "#0d0887"
            ],
            [
             0.1111111111111111,
             "#46039f"
            ],
            [
             0.2222222222222222,
             "#7201a8"
            ],
            [
             0.3333333333333333,
             "#9c179e"
            ],
            [
             0.4444444444444444,
             "#bd3786"
            ],
            [
             0.5555555555555556,
             "#d8576b"
            ],
            [
             0.6666666666666666,
             "#ed7953"
            ],
            [
             0.7777777777777778,
             "#fb9f3a"
            ],
            [
             0.8888888888888888,
             "#fdca26"
            ],
            [
             1,
             "#f0f921"
            ]
           ],
           "sequentialminus": [
            [
             0,
             "#0d0887"
            ],
            [
             0.1111111111111111,
             "#46039f"
            ],
            [
             0.2222222222222222,
             "#7201a8"
            ],
            [
             0.3333333333333333,
             "#9c179e"
            ],
            [
             0.4444444444444444,
             "#bd3786"
            ],
            [
             0.5555555555555556,
             "#d8576b"
            ],
            [
             0.6666666666666666,
             "#ed7953"
            ],
            [
             0.7777777777777778,
             "#fb9f3a"
            ],
            [
             0.8888888888888888,
             "#fdca26"
            ],
            [
             1,
             "#f0f921"
            ]
           ]
          },
          "colorway": [
           "#636efa",
           "#EF553B",
           "#00cc96",
           "#ab63fa",
           "#FFA15A",
           "#19d3f3",
           "#FF6692",
           "#B6E880",
           "#FF97FF",
           "#FECB52"
          ],
          "font": {
           "color": "#2a3f5f"
          },
          "geo": {
           "bgcolor": "white",
           "lakecolor": "white",
           "landcolor": "white",
           "showlakes": true,
           "showland": true,
           "subunitcolor": "#C8D4E3"
          },
          "hoverlabel": {
           "align": "left"
          },
          "hovermode": "closest",
          "mapbox": {
           "style": "light"
          },
          "paper_bgcolor": "white",
          "plot_bgcolor": "white",
          "polar": {
           "angularaxis": {
            "gridcolor": "#EBF0F8",
            "linecolor": "#EBF0F8",
            "ticks": ""
           },
           "bgcolor": "white",
           "radialaxis": {
            "gridcolor": "#EBF0F8",
            "linecolor": "#EBF0F8",
            "ticks": ""
           }
          },
          "scene": {
           "xaxis": {
            "backgroundcolor": "white",
            "gridcolor": "#DFE8F3",
            "gridwidth": 2,
            "linecolor": "#EBF0F8",
            "showbackground": true,
            "ticks": "",
            "zerolinecolor": "#EBF0F8"
           },
           "yaxis": {
            "backgroundcolor": "white",
            "gridcolor": "#DFE8F3",
            "gridwidth": 2,
            "linecolor": "#EBF0F8",
            "showbackground": true,
            "ticks": "",
            "zerolinecolor": "#EBF0F8"
           },
           "zaxis": {
            "backgroundcolor": "white",
            "gridcolor": "#DFE8F3",
            "gridwidth": 2,
            "linecolor": "#EBF0F8",
            "showbackground": true,
            "ticks": "",
            "zerolinecolor": "#EBF0F8"
           }
          },
          "shapedefaults": {
           "line": {
            "color": "#2a3f5f"
           }
          },
          "ternary": {
           "aaxis": {
            "gridcolor": "#DFE8F3",
            "linecolor": "#A2B1C6",
            "ticks": ""
           },
           "baxis": {
            "gridcolor": "#DFE8F3",
            "linecolor": "#A2B1C6",
            "ticks": ""
           },
           "bgcolor": "white",
           "caxis": {
            "gridcolor": "#DFE8F3",
            "linecolor": "#A2B1C6",
            "ticks": ""
           }
          },
          "title": {
           "x": 0.05
          },
          "xaxis": {
           "automargin": true,
           "gridcolor": "#EBF0F8",
           "linecolor": "#EBF0F8",
           "ticks": "",
           "title": {
            "standoff": 15
           },
           "zerolinecolor": "#EBF0F8",
           "zerolinewidth": 2
          },
          "yaxis": {
           "automargin": true,
           "gridcolor": "#EBF0F8",
           "linecolor": "#EBF0F8",
           "ticks": "",
           "title": {
            "standoff": 15
           },
           "zerolinecolor": "#EBF0F8",
           "zerolinewidth": 2
          }
         }
        },
        "title": {
         "text": "Percentage Share of Authorship Instances by Key Countries Over Time"
        },
        "xaxis": {
         "anchor": "y",
         "domain": [
          0,
          1
         ],
         "title": {
          "text": "Year"
         }
        },
        "yaxis": {
         "anchor": "x",
         "domain": [
          0,
          1
         ],
         "title": {
          "text": "% of Total Yearly Instances"
         }
        }
       }
      },
      "text/html": [
       "<div>            <script src=\"https://cdnjs.cloudflare.com/ajax/libs/mathjax/2.7.5/MathJax.js?config=TeX-AMS-MML_SVG\"></script><script type=\"text/javascript\">if (window.MathJax && window.MathJax.Hub && window.MathJax.Hub.Config) {window.MathJax.Hub.Config({SVG: {font: \"STIX-Web\"}});}</script>                <script type=\"text/javascript\">window.PlotlyConfig = {MathJaxConfig: 'local'};</script>\n",
       "        <script charset=\"utf-8\" src=\"https://cdn.plot.ly/plotly-3.0.1.min.js\"></script>                <div id=\"0e899af3-f1cd-4fc6-9ae9-08898b04353e\" class=\"plotly-graph-div\" style=\"height:525px; width:100%;\"></div>            <script type=\"text/javascript\">                window.PLOTLYENV=window.PLOTLYENV || {};                                if (document.getElementById(\"0e899af3-f1cd-4fc6-9ae9-08898b04353e\")) {                    Plotly.newPlot(                        \"0e899af3-f1cd-4fc6-9ae9-08898b04353e\",                        [{\"customdata\":{\"dtype\":\"i2\",\"bdata\":\"JQArADIAKQApACkARgA9ADMAPwBMAIkAqAFwAlwCzQMsBHgFMAc=\",\"shape\":\"19, 1\"},\"hovertemplate\":\"Country=Canada\\u003cbr\\u003eYear=%{x}\\u003cbr\\u003e% of Total Yearly Instances=%{y:.2f%}\\u003cbr\\u003eCount=%{customdata[0]}\\u003cextra\\u003e\\u003c\\u002fextra\\u003e\",\"legendgroup\":\"Canada\",\"line\":{\"color\":\"#636efa\",\"dash\":\"solid\"},\"marker\":{\"symbol\":\"circle\"},\"mode\":\"lines+markers\",\"name\":\"Canada\",\"orientation\":\"v\",\"showlegend\":true,\"x\":{\"dtype\":\"i2\",\"bdata\":\"1gfXB9gH2QfaB9sH3AfdB94H3wfgB+EH4gfjB+QH5QfmB+cH6Ac=\"},\"xaxis\":\"x\",\"y\":{\"dtype\":\"f8\",\"bdata\":\"eE7wzzxaHEAGhJI7RQsbQFYWZ7R72BpA3jE1sHdMFUAvuuiiiy4SQJHn20SUyRFANZqkPEywF0DC6pYFX08VQChZRmpb+g1AiygBiygBE0Cu7HNITTAOQDQrYVLsKQpA4cBGdmr8FUDTtRU4Zp0WQFVjtNeuGRNAR0QFpBhtFEAZ\\u002fgqkaKMRQC+s8FB2bRBANf0Iq4EFDUA=\"},\"yaxis\":\"y\",\"type\":\"scatter\"},{\"customdata\":{\"dtype\":\"i2\",\"bdata\":\"CAAKABYAHwAdABEALAAhADMAJwBSAN8AQQJTA90EBgnmEHIZ\\u002fTQ=\",\"shape\":\"19, 1\"},\"hovertemplate\":\"Country=China\\u003cbr\\u003eYear=%{x}\\u003cbr\\u003e% of Total Yearly Instances=%{y:.2f%}\\u003cbr\\u003eCount=%{customdata[0]}\\u003cextra\\u003e\\u003c\\u002fextra\\u003e\",\"legendgroup\":\"China\",\"line\":{\"color\":\"#EF553B\",\"dash\":\"solid\"},\"marker\":{\"symbol\":\"circle\"},\"mode\":\"lines+markers\",\"name\":\"China\",\"orientation\":\"v\",\"showlegend\":true,\"x\":{\"dtype\":\"i2\",\"bdata\":\"1gfXB9gH2QfaB9sH3AfdB94H3wfgB+EH4gfjB+QH5QfmB+cH6Ac=\"},\"xaxis\":\"x\",\"y\":{\"dtype\":\"f8\",\"bdata\":\"pavdBmWF+D88RQtnQCj5P0yEJwXJnwdAZGpg75gaEEC4qYebergJQHPwixRHgP0\\u002fmqQ8TLDHDUDGI2BiiA4HQChZRmpb+g1Ah4eHh4eHB0DXbnQqN0kQQJMro7o6SxVAMnn+pmzrHUAFWoOVetceQNvHZSNzryNAO+a4WTM\\u002fKECdrvJMfNwxQG\\u002fClYraGzNAFcNlfo2+OkA=\"},\"yaxis\":\"y\",\"type\":\"scatter\"},{\"customdata\":{\"dtype\":\"i2\",\"bdata\":\"CQATACYAIwA3ACIARwA3AEQATABjAI0A\\u002fQDVAfQBsAL8AhEDmQM=\",\"shape\":\"19, 1\"},\"hovertemplate\":\"Country=France\\u003cbr\\u003eYear=%{x}\\u003cbr\\u003e% of Total Yearly Instances=%{y:.2f%}\\u003cbr\\u003eCount=%{customdata[0]}\\u003cextra\\u003e\\u003c\\u002fextra\\u003e\",\"legendgroup\":\"France\",\"line\":{\"color\":\"#00cc96\",\"dash\":\"solid\"},\"marker\":{\"symbol\":\"circle\"},\"mode\":\"lines+markers\",\"name\":\"France\",\"orientation\":\"v\",\"showlegend\":true,\"x\":{\"dtype\":\"i2\",\"bdata\":\"1gfXB9gH2QfaB9sH3AfdB94H3wfgB+EH4gfjB+QH5QfmB+cH6Ac=\"},\"xaxis\":\"x\",\"y\":{\"dtype\":\"f8\",\"bdata\":\"GmG5pxGW+z9fG7EuPeYHQEHy51UWZxRAL7rooosuEkBkcD4G52MYQHPwixRHgA1A5WGCPe4GGEAlc6X8xjYTQHA7hPE8\\u002fBNAdxTtdhTtFkBCxMSmkKkTQNvfZaF77QpADDFNJe48CkA5f2\\u002fNU\\u002f8QQPCFNmqAnw9AvuHJEebiDEA2cy1rPzwJQFnemBwgbAJAhBFRApUN\\u002fT8=\"},\"yaxis\":\"y\",\"type\":\"scatter\"},{\"customdata\":{\"dtype\":\"i2\",\"bdata\":\"KgApAD0AMQAyAD0ANgA\\u002fAC4AMwA4AHIAzABbAV4B3AJRA9kEPwc=\",\"shape\":\"19, 1\"},\"hovertemplate\":\"Country=Germany\\u003cbr\\u003eYear=%{x}\\u003cbr\\u003e% of Total Yearly Instances=%{y:.2f%}\\u003cbr\\u003eCount=%{customdata[0]}\\u003cextra\\u003e\\u003c\\u002fextra\\u003e\",\"legendgroup\":\"Germany\",\"line\":{\"color\":\"#ab63fa\",\"dash\":\"solid\"},\"marker\":{\"symbol\":\"circle\"},\"mode\":\"lines+markers\",\"name\":\"Germany\",\"orientation\":\"v\",\"showlegend\":true,\"x\":{\"dtype\":\"i2\",\"bdata\":\"1gfXB9gH2QfaB9sH3AfdB94H3wfgB+EH4gfjB+QH5QfmB+cH6Ac=\"},\"xaxis\":\"x\",\"y\":{\"dtype\":\"f8\",\"bdata\":\"pXiBTIoXIEAqWjgDQskZQLR72Po2YCBAdNFFF110GUAtZsRiRiwWQB0B9lnWdhpAMB\\u002fILixGEkD3Z+ddPAIWQOPIlBn4CQtAT+zETuzEDkBXyZjJiT4GQHocBkx0xQVA2UA\\u002f1wUoBUC2tR7k2SYJQFz38uPZIgZAmvr+CdS7DkAk1vEY\\u002fgoMQGncygOvHw1AiJWluRJCDUA=\"},\"yaxis\":\"y\",\"type\":\"scatter\"},{\"customdata\":{\"dtype\":\"i2\",\"bdata\":\"AwAIAAIABQALAAEABQAEABUADgANABgALQA\\u002fAFYAgACyAKYA1wA=\",\"shape\":\"19, 1\"},\"hovertemplate\":\"Country=India\\u003cbr\\u003eYear=%{x}\\u003cbr\\u003e% of Total Yearly Instances=%{y:.2f%}\\u003cbr\\u003eCount=%{customdata[0]}\\u003cextra\\u003e\\u003c\\u002fextra\\u003e\",\"legendgroup\":\"India\",\"line\":{\"color\":\"#FFA15A\",\"dash\":\"solid\"},\"marker\":{\"symbol\":\"circle\"},\"mode\":\"lines+markers\",\"name\":\"India\",\"orientation\":\"v\",\"showlegend\":true,\"x\":{\"dtype\":\"i2\",\"bdata\":\"1gfXB9gH2QfaB9sH3AfdB94H3wfgB+EH4gfjB+QH5QfmB+cH6Ac=\"},\"xaxis\":\"x\",\"y\":{\"dtype\":\"f8\",\"bdata\":\"vEAmxQtk4j\\u002fKnaKFMyD0PzdgqKZjLtE\\u002f7B1TA3vH5D+D8zE4H4PzP4se7akGxLs\\u002fGGdORaAS2z+Rpg8Kq1vWPxLvOQwPsPg\\u002f0ZXk0JXk8D+tKKAWyafkP5DvcGhvVeI\\u002fv8Ao+teq4j8r\\u002f3OjDUTiP9ska4K0weU\\u002fUn71MC5\\u002f5T93\\u002fWOFi4TnP3bEN85cKt8\\u002fnDokNvkg2z8=\"},\"yaxis\":\"y\",\"type\":\"scatter\"},{\"customdata\":{\"dtype\":\"i2\",\"bdata\":\"DwAUABMAGAAYACoAJQAVABcAFgAjAHsApgDnAPwAWQGEAQgCyQI=\",\"shape\":\"19, 1\"},\"hovertemplate\":\"Country=Japan\\u003cbr\\u003eYear=%{x}\\u003cbr\\u003e% of Total Yearly Instances=%{y:.2f%}\\u003cbr\\u003eCount=%{customdata[0]}\\u003cextra\\u003e\\u003c\\u002fextra\\u003e\",\"legendgroup\":\"Japan\",\"line\":{\"color\":\"#19d3f3\",\"dash\":\"solid\"},\"marker\":{\"symbol\":\"circle\"},\"mode\":\"lines+markers\",\"name\":\"Japan\",\"orientation\":\"v\",\"showlegend\":true,\"x\":{\"dtype\":\"i2\",\"bdata\":\"1gfXB9gH2QfaB9sH3AfdB94H3wfgB+EH4gfjB+QH5QfmB+cH6Ac=\"},\"xaxis\":\"x\",\"y\":{\"dtype\":\"f8\",\"bdata\":\"69Bvtg79BkA8RQtnQCgJQEHy51UWZwRAgr1jamDvCEBJlZNUOUkFQAucg1+kOBJA9rgbQNQKCUCeijR9UFj9P+PIlBn4Cfs\\u002f28aL2saL+j+t+\\u002f47LM77P\\u002fCy0L12fQdAsKDb4yc3AUA8\\u002f9TVYb4AQEYSkQBE4P8\\u002fPNf6P2X4\\u002fD92yeWzt6H5P9h0kX8daPg\\u002fCZHAF9599j8=\"},\"yaxis\":\"y\",\"type\":\"scatter\"},{\"customdata\":{\"dtype\":\"i2\",\"bdata\":\"EAAVABEACgAUABoAHAAgACUALABJAIkA4QAaAVoB9AFYAhwDMwQ=\",\"shape\":\"19, 1\"},\"hovertemplate\":\"Country=Switzerland\\u003cbr\\u003eYear=%{x}\\u003cbr\\u003e% of Total Yearly Instances=%{y:.2f%}\\u003cbr\\u003eCount=%{customdata[0]}\\u003cextra\\u003e\\u003c\\u002fextra\\u003e\",\"legendgroup\":\"Switzerland\",\"line\":{\"color\":\"#FF6692\",\"dash\":\"solid\"},\"marker\":{\"symbol\":\"circle\"},\"mode\":\"lines+markers\",\"name\":\"Switzerland\",\"orientation\":\"v\",\"showlegend\":true,\"x\":{\"dtype\":\"i2\",\"bdata\":\"1gfXB9gH2QfaB9sH3AfdB94H3wfgB+EH4gfjB+QH5QfmB+cH6Ac=\"},\"xaxis\":\"x\",\"y\":{\"dtype\":\"f8\",\"bdata\":\"pavdBmWFCEAYb2WfQ2oKQDrmEuFJQQJA7B1TA3vH9D+9UdAbBb0BQNCoEGpFjwZAka6DMHDzAkCRpg8Kq1sGQM1eiLurvwVA28aL2saLCkAudDnCPP8MQDQrYVLsKQpA7\\u002fCy+I1VB0B+2sTtuXAEQAZrmE0W4gVAXL3PGzP+BEB42AA0ftEDQLnG0hU2rgJAoaTWwZv0AEA=\"},\"yaxis\":\"y\",\"type\":\"scatter\"},{\"customdata\":{\"dtype\":\"i2\",\"bdata\":\"JgA9AEEAKwAmADYAQQA\\u002fAEUAQgBNAMsAxAFhAqgC\\u002fwMyBIwF0Qc=\",\"shape\":\"19, 1\"},\"hovertemplate\":\"Country=UK\\u003cbr\\u003eYear=%{x}\\u003cbr\\u003e% of Total Yearly Instances=%{y:.2f%}\\u003cbr\\u003eCount=%{customdata[0]}\\u003cextra\\u003e\\u003c\\u002fextra\\u003e\",\"legendgroup\":\"UK\",\"line\":{\"color\":\"#B6E880\",\"dash\":\"solid\"},\"marker\":{\"symbol\":\"circle\"},\"mode\":\"lines+markers\",\"name\":\"UK\",\"orientation\":\"v\",\"showlegend\":true,\"x\":{\"dtype\":\"i2\",\"bdata\":\"1gfXB9gH2QfaB9sH3AfdB94H3wfgB+EH4gfjB+QH5QfmB+cH6Ac=\"},\"xaxis\":\"x\",\"y\":{\"dtype\":\"f8\",\"bdata\":\"1Tsn+GceHUBk\\u002fl4bsS4jQLgBQzUdcyFAxFn5CXFWFkDagJ8N+NkQQMURYJ9lbRdAxLNPOCL\\u002fFUD3Z+ddPAIWQKuWLxN6RxRAJNXoI9XoE0DYFDJ1\\u002fZUOQPRnF3VUYhNA8OCTjBpwF0D9foElOxIWQIWYEOzwgBVA8kBpZc55FUCpEzm2xrwRQJ05yEqKqRBAKmAznZaPD0A=\"},\"yaxis\":\"y\",\"type\":\"scatter\"},{\"customdata\":{\"dtype\":\"i2\",\"bdata\":\"FwFcAYkBwAEUAg4CogKpAksDJwMPBS4KphHNGCUb3SURLK89Lk8=\",\"shape\":\"19, 1\"},\"hovertemplate\":\"Country=USA\\u003cbr\\u003eYear=%{x}\\u003cbr\\u003e% of Total Yearly Instances=%{y:.2f%}\\u003cbr\\u003eCount=%{customdata[0]}\\u003cextra\\u003e\\u003c\\u002fextra\\u003e\",\"legendgroup\":\"USA\",\"line\":{\"color\":\"#FF97FF\",\"dash\":\"solid\"},\"marker\":{\"symbol\":\"circle\"},\"mode\":\"lines+markers\",\"name\":\"USA\",\"orientation\":\"v\",\"showlegend\":true,\"x\":{\"dtype\":\"i2\",\"bdata\":\"1gfXB9gH2QfaB9sH3AfdB94H3wfgB+EH4gfjB+QH5QfmB+cH6Ac=\"},\"xaxis\":\"x\",\"y\":{\"dtype\":\"f8\",\"bdata\":\"EZZ7GmG5SkB9DqkJxltLQLR72Po2YEpAF1100UUXTUB+IdcXcn1NQGCakthihkxAxff8yNCCTEAM0eH+7LxNQA2t6LtJ+E5AlQtulQtuTkCAaa+SMRNQQMebh1nzGk9ALLs8nc9ITUCvbgwIKcNMQF6NH4H0d0tAf\\u002fmdv4NvSUCaa1n74UlHQC17PoBTKUdAH8FpR1v7Q0A=\"},\"yaxis\":\"y\",\"type\":\"scatter\"},{\"customdata\":{\"dtype\":\"i2\",\"bdata\":\"AQADAAIABQALAAIABQALABMANwB4AMIAGgENAucCiQT7BQ==\",\"shape\":\"17, 1\"},\"hovertemplate\":\"Country=South Korea\\u003cbr\\u003eYear=%{x}\\u003cbr\\u003e% of Total Yearly Instances=%{y:.2f%}\\u003cbr\\u003eCount=%{customdata[0]}\\u003cextra\\u003e\\u003c\\u002fextra\\u003e\",\"legendgroup\":\"South Korea\",\"line\":{\"color\":\"#FECB52\",\"dash\":\"solid\"},\"marker\":{\"symbol\":\"circle\"},\"mode\":\"lines+markers\",\"name\":\"South Korea\",\"orientation\":\"v\",\"showlegend\":true,\"x\":{\"dtype\":\"i2\",\"bdata\":\"2AfZB9oH2wfcB90H3gffB+AH4QfiB+MH5AflB+YH5wfoBw==\"},\"xaxis\":\"x\",\"y\":{\"dtype\":\"f8\",\"bdata\":\"N2CopmMuwT+CvWNqYO\\u002fYP2IcGsahYcw\\u002fFzM0KoRa4T+apDxMsMftP5GmDwqrW8Y\\u002fKoKMhRqD1z\\u002fbxovaxovqP67sc0hNMO4\\u002f1WcB\\u002feQB9T\\u002f\\u002fAOGiyuP4P9xHnjijH\\u002fw\\u002fp6Xv59zVAUAHujPd6AoGQEbc6uusighA93AONQ8\\u002fC0BQuwh+1SUIQA==\"},\"yaxis\":\"y\",\"type\":\"scatter\"}],                        {\"template\":{\"data\":{\"histogram2dcontour\":[{\"type\":\"histogram2dcontour\",\"colorbar\":{\"outlinewidth\":0,\"ticks\":\"\"},\"colorscale\":[[0.0,\"#0d0887\"],[0.1111111111111111,\"#46039f\"],[0.2222222222222222,\"#7201a8\"],[0.3333333333333333,\"#9c179e\"],[0.4444444444444444,\"#bd3786\"],[0.5555555555555556,\"#d8576b\"],[0.6666666666666666,\"#ed7953\"],[0.7777777777777778,\"#fb9f3a\"],[0.8888888888888888,\"#fdca26\"],[1.0,\"#f0f921\"]]}],\"choropleth\":[{\"type\":\"choropleth\",\"colorbar\":{\"outlinewidth\":0,\"ticks\":\"\"}}],\"histogram2d\":[{\"type\":\"histogram2d\",\"colorbar\":{\"outlinewidth\":0,\"ticks\":\"\"},\"colorscale\":[[0.0,\"#0d0887\"],[0.1111111111111111,\"#46039f\"],[0.2222222222222222,\"#7201a8\"],[0.3333333333333333,\"#9c179e\"],[0.4444444444444444,\"#bd3786\"],[0.5555555555555556,\"#d8576b\"],[0.6666666666666666,\"#ed7953\"],[0.7777777777777778,\"#fb9f3a\"],[0.8888888888888888,\"#fdca26\"],[1.0,\"#f0f921\"]]}],\"heatmap\":[{\"type\":\"heatmap\",\"colorbar\":{\"outlinewidth\":0,\"ticks\":\"\"},\"colorscale\":[[0.0,\"#0d0887\"],[0.1111111111111111,\"#46039f\"],[0.2222222222222222,\"#7201a8\"],[0.3333333333333333,\"#9c179e\"],[0.4444444444444444,\"#bd3786\"],[0.5555555555555556,\"#d8576b\"],[0.6666666666666666,\"#ed7953\"],[0.7777777777777778,\"#fb9f3a\"],[0.8888888888888888,\"#fdca26\"],[1.0,\"#f0f921\"]]}],\"contourcarpet\":[{\"type\":\"contourcarpet\",\"colorbar\":{\"outlinewidth\":0,\"ticks\":\"\"}}],\"contour\":[{\"type\":\"contour\",\"colorbar\":{\"outlinewidth\":0,\"ticks\":\"\"},\"colorscale\":[[0.0,\"#0d0887\"],[0.1111111111111111,\"#46039f\"],[0.2222222222222222,\"#7201a8\"],[0.3333333333333333,\"#9c179e\"],[0.4444444444444444,\"#bd3786\"],[0.5555555555555556,\"#d8576b\"],[0.6666666666666666,\"#ed7953\"],[0.7777777777777778,\"#fb9f3a\"],[0.8888888888888888,\"#fdca26\"],[1.0,\"#f0f921\"]]}],\"surface\":[{\"type\":\"surface\",\"colorbar\":{\"outlinewidth\":0,\"ticks\":\"\"},\"colorscale\":[[0.0,\"#0d0887\"],[0.1111111111111111,\"#46039f\"],[0.2222222222222222,\"#7201a8\"],[0.3333333333333333,\"#9c179e\"],[0.4444444444444444,\"#bd3786\"],[0.5555555555555556,\"#d8576b\"],[0.6666666666666666,\"#ed7953\"],[0.7777777777777778,\"#fb9f3a\"],[0.8888888888888888,\"#fdca26\"],[1.0,\"#f0f921\"]]}],\"mesh3d\":[{\"type\":\"mesh3d\",\"colorbar\":{\"outlinewidth\":0,\"ticks\":\"\"}}],\"scatter\":[{\"fillpattern\":{\"fillmode\":\"overlay\",\"size\":10,\"solidity\":0.2},\"type\":\"scatter\"}],\"parcoords\":[{\"type\":\"parcoords\",\"line\":{\"colorbar\":{\"outlinewidth\":0,\"ticks\":\"\"}}}],\"scatterpolargl\":[{\"type\":\"scatterpolargl\",\"marker\":{\"colorbar\":{\"outlinewidth\":0,\"ticks\":\"\"}}}],\"bar\":[{\"error_x\":{\"color\":\"#2a3f5f\"},\"error_y\":{\"color\":\"#2a3f5f\"},\"marker\":{\"line\":{\"color\":\"white\",\"width\":0.5},\"pattern\":{\"fillmode\":\"overlay\",\"size\":10,\"solidity\":0.2}},\"type\":\"bar\"}],\"scattergeo\":[{\"type\":\"scattergeo\",\"marker\":{\"colorbar\":{\"outlinewidth\":0,\"ticks\":\"\"}}}],\"scatterpolar\":[{\"type\":\"scatterpolar\",\"marker\":{\"colorbar\":{\"outlinewidth\":0,\"ticks\":\"\"}}}],\"histogram\":[{\"marker\":{\"pattern\":{\"fillmode\":\"overlay\",\"size\":10,\"solidity\":0.2}},\"type\":\"histogram\"}],\"scattergl\":[{\"type\":\"scattergl\",\"marker\":{\"colorbar\":{\"outlinewidth\":0,\"ticks\":\"\"}}}],\"scatter3d\":[{\"type\":\"scatter3d\",\"line\":{\"colorbar\":{\"outlinewidth\":0,\"ticks\":\"\"}},\"marker\":{\"colorbar\":{\"outlinewidth\":0,\"ticks\":\"\"}}}],\"scattermap\":[{\"type\":\"scattermap\",\"marker\":{\"colorbar\":{\"outlinewidth\":0,\"ticks\":\"\"}}}],\"scattermapbox\":[{\"type\":\"scattermapbox\",\"marker\":{\"colorbar\":{\"outlinewidth\":0,\"ticks\":\"\"}}}],\"scatterternary\":[{\"type\":\"scatterternary\",\"marker\":{\"colorbar\":{\"outlinewidth\":0,\"ticks\":\"\"}}}],\"scattercarpet\":[{\"type\":\"scattercarpet\",\"marker\":{\"colorbar\":{\"outlinewidth\":0,\"ticks\":\"\"}}}],\"carpet\":[{\"aaxis\":{\"endlinecolor\":\"#2a3f5f\",\"gridcolor\":\"#C8D4E3\",\"linecolor\":\"#C8D4E3\",\"minorgridcolor\":\"#C8D4E3\",\"startlinecolor\":\"#2a3f5f\"},\"baxis\":{\"endlinecolor\":\"#2a3f5f\",\"gridcolor\":\"#C8D4E3\",\"linecolor\":\"#C8D4E3\",\"minorgridcolor\":\"#C8D4E3\",\"startlinecolor\":\"#2a3f5f\"},\"type\":\"carpet\"}],\"table\":[{\"cells\":{\"fill\":{\"color\":\"#EBF0F8\"},\"line\":{\"color\":\"white\"}},\"header\":{\"fill\":{\"color\":\"#C8D4E3\"},\"line\":{\"color\":\"white\"}},\"type\":\"table\"}],\"barpolar\":[{\"marker\":{\"line\":{\"color\":\"white\",\"width\":0.5},\"pattern\":{\"fillmode\":\"overlay\",\"size\":10,\"solidity\":0.2}},\"type\":\"barpolar\"}],\"pie\":[{\"automargin\":true,\"type\":\"pie\"}]},\"layout\":{\"autotypenumbers\":\"strict\",\"colorway\":[\"#636efa\",\"#EF553B\",\"#00cc96\",\"#ab63fa\",\"#FFA15A\",\"#19d3f3\",\"#FF6692\",\"#B6E880\",\"#FF97FF\",\"#FECB52\"],\"font\":{\"color\":\"#2a3f5f\"},\"hovermode\":\"closest\",\"hoverlabel\":{\"align\":\"left\"},\"paper_bgcolor\":\"white\",\"plot_bgcolor\":\"white\",\"polar\":{\"bgcolor\":\"white\",\"angularaxis\":{\"gridcolor\":\"#EBF0F8\",\"linecolor\":\"#EBF0F8\",\"ticks\":\"\"},\"radialaxis\":{\"gridcolor\":\"#EBF0F8\",\"linecolor\":\"#EBF0F8\",\"ticks\":\"\"}},\"ternary\":{\"bgcolor\":\"white\",\"aaxis\":{\"gridcolor\":\"#DFE8F3\",\"linecolor\":\"#A2B1C6\",\"ticks\":\"\"},\"baxis\":{\"gridcolor\":\"#DFE8F3\",\"linecolor\":\"#A2B1C6\",\"ticks\":\"\"},\"caxis\":{\"gridcolor\":\"#DFE8F3\",\"linecolor\":\"#A2B1C6\",\"ticks\":\"\"}},\"coloraxis\":{\"colorbar\":{\"outlinewidth\":0,\"ticks\":\"\"}},\"colorscale\":{\"sequential\":[[0.0,\"#0d0887\"],[0.1111111111111111,\"#46039f\"],[0.2222222222222222,\"#7201a8\"],[0.3333333333333333,\"#9c179e\"],[0.4444444444444444,\"#bd3786\"],[0.5555555555555556,\"#d8576b\"],[0.6666666666666666,\"#ed7953\"],[0.7777777777777778,\"#fb9f3a\"],[0.8888888888888888,\"#fdca26\"],[1.0,\"#f0f921\"]],\"sequentialminus\":[[0.0,\"#0d0887\"],[0.1111111111111111,\"#46039f\"],[0.2222222222222222,\"#7201a8\"],[0.3333333333333333,\"#9c179e\"],[0.4444444444444444,\"#bd3786\"],[0.5555555555555556,\"#d8576b\"],[0.6666666666666666,\"#ed7953\"],[0.7777777777777778,\"#fb9f3a\"],[0.8888888888888888,\"#fdca26\"],[1.0,\"#f0f921\"]],\"diverging\":[[0,\"#8e0152\"],[0.1,\"#c51b7d\"],[0.2,\"#de77ae\"],[0.3,\"#f1b6da\"],[0.4,\"#fde0ef\"],[0.5,\"#f7f7f7\"],[0.6,\"#e6f5d0\"],[0.7,\"#b8e186\"],[0.8,\"#7fbc41\"],[0.9,\"#4d9221\"],[1,\"#276419\"]]},\"xaxis\":{\"gridcolor\":\"#EBF0F8\",\"linecolor\":\"#EBF0F8\",\"ticks\":\"\",\"title\":{\"standoff\":15},\"zerolinecolor\":\"#EBF0F8\",\"automargin\":true,\"zerolinewidth\":2},\"yaxis\":{\"gridcolor\":\"#EBF0F8\",\"linecolor\":\"#EBF0F8\",\"ticks\":\"\",\"title\":{\"standoff\":15},\"zerolinecolor\":\"#EBF0F8\",\"automargin\":true,\"zerolinewidth\":2},\"scene\":{\"xaxis\":{\"backgroundcolor\":\"white\",\"gridcolor\":\"#DFE8F3\",\"linecolor\":\"#EBF0F8\",\"showbackground\":true,\"ticks\":\"\",\"zerolinecolor\":\"#EBF0F8\",\"gridwidth\":2},\"yaxis\":{\"backgroundcolor\":\"white\",\"gridcolor\":\"#DFE8F3\",\"linecolor\":\"#EBF0F8\",\"showbackground\":true,\"ticks\":\"\",\"zerolinecolor\":\"#EBF0F8\",\"gridwidth\":2},\"zaxis\":{\"backgroundcolor\":\"white\",\"gridcolor\":\"#DFE8F3\",\"linecolor\":\"#EBF0F8\",\"showbackground\":true,\"ticks\":\"\",\"zerolinecolor\":\"#EBF0F8\",\"gridwidth\":2}},\"shapedefaults\":{\"line\":{\"color\":\"#2a3f5f\"}},\"annotationdefaults\":{\"arrowcolor\":\"#2a3f5f\",\"arrowhead\":0,\"arrowwidth\":1},\"geo\":{\"bgcolor\":\"white\",\"landcolor\":\"white\",\"subunitcolor\":\"#C8D4E3\",\"showland\":true,\"showlakes\":true,\"lakecolor\":\"white\"},\"title\":{\"x\":0.05},\"mapbox\":{\"style\":\"light\"}}},\"xaxis\":{\"anchor\":\"y\",\"domain\":[0.0,1.0],\"title\":{\"text\":\"Year\"}},\"yaxis\":{\"anchor\":\"x\",\"domain\":[0.0,1.0],\"title\":{\"text\":\"% of Total Yearly Instances\"}},\"legend\":{\"title\":{\"text\":\"Country\"},\"tracegroupgap\":0},\"title\":{\"text\":\"Percentage Share of Authorship Instances by Key Countries Over Time\"},\"hovermode\":\"x unified\"},                        {\"responsive\": true}                    ).then(function(){\n",
       "                            \n",
       "var gd = document.getElementById('0e899af3-f1cd-4fc6-9ae9-08898b04353e');\n",
       "var x = new MutationObserver(function (mutations, observer) {{\n",
       "        var display = window.getComputedStyle(gd).display;\n",
       "        if (!display || display === 'none') {{\n",
       "            console.log([gd, 'removed!']);\n",
       "            Plotly.purge(gd);\n",
       "            observer.disconnect();\n",
       "        }}\n",
       "}});\n",
       "\n",
       "// Listen for the removal of the full notebook cells\n",
       "var notebookContainer = gd.closest('#notebook-container');\n",
       "if (notebookContainer) {{\n",
       "    x.observe(notebookContainer, {childList: true});\n",
       "}}\n",
       "\n",
       "// Listen for the clearing of the current output cell\n",
       "var outputEl = gd.closest('.output');\n",
       "if (outputEl) {{\n",
       "    x.observe(outputEl, {childList: true});\n",
       "}}\n",
       "\n",
       "                        })                };            </script>        </div>"
      ]
     },
     "metadata": {},
     "output_type": "display_data"
    }
   ],
   "source": [
    "# Filter out unknown countries\n",
    "geo_df = df[df['Country'] != 'Unknown Country'].copy()\n",
    "\n",
    "# Calculate counts per year and country\n",
    "country_yearly_counts = geo_df.groupby(['Year', 'Country']).size().reset_index(name='Count')\n",
    "\n",
    "# Calculate total counts per year (only considering known countries)\n",
    "total_yearly_counts = country_yearly_counts.groupby('Year')['Count'].sum().reset_index(name='TotalYearlyCount')\n",
    "\n",
    "# Merge totals back to calculate percentages\n",
    "country_yearly_perc = pd.merge(country_yearly_counts, total_yearly_counts, on='Year')\n",
    "country_yearly_perc['Percentage'] = (country_yearly_perc['Count'] / country_yearly_perc['TotalYearlyCount']) * 100\n",
    "\n",
    "# Select key countries/regions to plot\n",
    "key_countries = ['USA', 'China', 'Canada', 'UK', 'Germany', 'France', 'India', 'Japan', 'South Korea', 'Switzerland']\n",
    "\n",
    "# Filter data for plotting\n",
    "plot_data_h2 = country_yearly_perc[country_yearly_perc['Country'].isin(key_countries)]\n",
    "\n",
    "# Create the interactive line plot\n",
    "fig_h2 = px.line(plot_data_h2,\n",
    "                 x='Year',\n",
    "                 y='Percentage',\n",
    "                 color='Country',\n",
    "                 markers=True,\n",
    "                 title='Percentage Share of Authorship Instances by Key Countries Over Time',\n",
    "                 labels={'Percentage': '% of Total Yearly Instances', 'Year': 'Year'},\n",
    "                 hover_data={'Count': True, 'Percentage': ':.2f%'})\n",
    "\n",
    "fig_h2.update_layout(hovermode=\"x unified\")\n",
    "fig_h2.show()"
   ]
  },
  {
   "cell_type": "markdown",
   "id": "11d1e577",
   "metadata": {},
   "source": [
    "**Findings:** The plot reveals dynamic shifts in geographic contributions:\n",
    "*   The **USA's** share, while consistently high, has declined from over 60% in the early years to around 35-40% more recently.\n",
    "*   **China's** share shows dramatic growth, rising from less than 5% before 2014 to become the second-largest contributor, exceeding 25% in recent years, challenging the USA's dominance.\n",
    "*   **Canada** and the **UK** maintain significant shares, often fluctuating but generally ranking 3rd/4th or 4th/5th.\n",
    "*   **Germany**, **France**, and **Switzerland** show relatively stable contributions within the top 10.\n",
    "*   **South Korea** and **India** demonstrate noticeable growth in their percentage share, particularly in the later years.\n",
    "\n",
    "**Conclusion:** **H2 is strongly supported.** While North America (primarily USA, with Canada stable) remains a major force, East Asia (driven overwhelmingly by China's rapid ascent) has significantly increased its share, confirming the geographic shift."
   ]
  },
  {
   "cell_type": "markdown",
   "id": "b39abc05",
   "metadata": {},
   "source": [
    "### H3: Rise of Industry\n",
    "\n",
    "**Hypothesis:** The proportion of research contributions from industry-affiliated authors has steadily increased over time compared to academic institutions.\n",
    "\n",
    "**Quantification:** Calculate the percentage share of total yearly authorship instances attributed to 'Industry' over time. Filter out \"Unknown Type\" instances."
   ]
  },
  {
   "cell_type": "code",
   "execution_count": 7,
   "id": "9b92c38e",
   "metadata": {},
   "outputs": [
    {
     "data": {
      "application/vnd.plotly.v1+json": {
       "config": {
        "plotlyServerURL": "https://plot.ly"
       },
       "data": [
        {
         "hovertemplate": "Year=%{x}<br>% of Total Yearly Instances from Industry=%{y}<extra></extra>",
         "legendgroup": "",
         "line": {
          "color": "#636efa",
          "dash": "solid"
         },
         "marker": {
          "symbol": "circle"
         },
         "mode": "lines+markers",
         "name": "",
         "orientation": "v",
         "showlegend": false,
         "type": "scatter",
         "x": {
          "bdata": "1gfXB9gH2QfaB9sH3AfdB94H3wfgB+EH4gfjB+QH5QfmB+cH6Ac=",
          "dtype": "i2"
         },
         "xaxis": "x",
         "y": {
          "bdata": "FJILeL2NOkA0nNR9eWw5QH2lsRtV5jVAjc/llyiuOEBGmj4orG4zQMDsAbMHzDJAYqrww1ThNUBt0KrMx2U0QLacw1BC/zVAD1TObuFXMECt8TQxo441QBO9YtuRsjlAMLvcLn2MOkDoXTqb76I6QFIvtSlj8TlAXRLMx3K7N0DjyJth2942QOWu8YrM/DVAdUwSONgtNEA=",
          "dtype": "f8"
         },
         "yaxis": "y"
        }
       ],
       "layout": {
        "hovermode": "x unified",
        "legend": {
         "tracegroupgap": 0
        },
        "template": {
         "data": {
          "bar": [
           {
            "error_x": {
             "color": "#2a3f5f"
            },
            "error_y": {
             "color": "#2a3f5f"
            },
            "marker": {
             "line": {
              "color": "white",
              "width": 0.5
             },
             "pattern": {
              "fillmode": "overlay",
              "size": 10,
              "solidity": 0.2
             }
            },
            "type": "bar"
           }
          ],
          "barpolar": [
           {
            "marker": {
             "line": {
              "color": "white",
              "width": 0.5
             },
             "pattern": {
              "fillmode": "overlay",
              "size": 10,
              "solidity": 0.2
             }
            },
            "type": "barpolar"
           }
          ],
          "carpet": [
           {
            "aaxis": {
             "endlinecolor": "#2a3f5f",
             "gridcolor": "#C8D4E3",
             "linecolor": "#C8D4E3",
             "minorgridcolor": "#C8D4E3",
             "startlinecolor": "#2a3f5f"
            },
            "baxis": {
             "endlinecolor": "#2a3f5f",
             "gridcolor": "#C8D4E3",
             "linecolor": "#C8D4E3",
             "minorgridcolor": "#C8D4E3",
             "startlinecolor": "#2a3f5f"
            },
            "type": "carpet"
           }
          ],
          "choropleth": [
           {
            "colorbar": {
             "outlinewidth": 0,
             "ticks": ""
            },
            "type": "choropleth"
           }
          ],
          "contour": [
           {
            "colorbar": {
             "outlinewidth": 0,
             "ticks": ""
            },
            "colorscale": [
             [
              0,
              "#0d0887"
             ],
             [
              0.1111111111111111,
              "#46039f"
             ],
             [
              0.2222222222222222,
              "#7201a8"
             ],
             [
              0.3333333333333333,
              "#9c179e"
             ],
             [
              0.4444444444444444,
              "#bd3786"
             ],
             [
              0.5555555555555556,
              "#d8576b"
             ],
             [
              0.6666666666666666,
              "#ed7953"
             ],
             [
              0.7777777777777778,
              "#fb9f3a"
             ],
             [
              0.8888888888888888,
              "#fdca26"
             ],
             [
              1,
              "#f0f921"
             ]
            ],
            "type": "contour"
           }
          ],
          "contourcarpet": [
           {
            "colorbar": {
             "outlinewidth": 0,
             "ticks": ""
            },
            "type": "contourcarpet"
           }
          ],
          "heatmap": [
           {
            "colorbar": {
             "outlinewidth": 0,
             "ticks": ""
            },
            "colorscale": [
             [
              0,
              "#0d0887"
             ],
             [
              0.1111111111111111,
              "#46039f"
             ],
             [
              0.2222222222222222,
              "#7201a8"
             ],
             [
              0.3333333333333333,
              "#9c179e"
             ],
             [
              0.4444444444444444,
              "#bd3786"
             ],
             [
              0.5555555555555556,
              "#d8576b"
             ],
             [
              0.6666666666666666,
              "#ed7953"
             ],
             [
              0.7777777777777778,
              "#fb9f3a"
             ],
             [
              0.8888888888888888,
              "#fdca26"
             ],
             [
              1,
              "#f0f921"
             ]
            ],
            "type": "heatmap"
           }
          ],
          "histogram": [
           {
            "marker": {
             "pattern": {
              "fillmode": "overlay",
              "size": 10,
              "solidity": 0.2
             }
            },
            "type": "histogram"
           }
          ],
          "histogram2d": [
           {
            "colorbar": {
             "outlinewidth": 0,
             "ticks": ""
            },
            "colorscale": [
             [
              0,
              "#0d0887"
             ],
             [
              0.1111111111111111,
              "#46039f"
             ],
             [
              0.2222222222222222,
              "#7201a8"
             ],
             [
              0.3333333333333333,
              "#9c179e"
             ],
             [
              0.4444444444444444,
              "#bd3786"
             ],
             [
              0.5555555555555556,
              "#d8576b"
             ],
             [
              0.6666666666666666,
              "#ed7953"
             ],
             [
              0.7777777777777778,
              "#fb9f3a"
             ],
             [
              0.8888888888888888,
              "#fdca26"
             ],
             [
              1,
              "#f0f921"
             ]
            ],
            "type": "histogram2d"
           }
          ],
          "histogram2dcontour": [
           {
            "colorbar": {
             "outlinewidth": 0,
             "ticks": ""
            },
            "colorscale": [
             [
              0,
              "#0d0887"
             ],
             [
              0.1111111111111111,
              "#46039f"
             ],
             [
              0.2222222222222222,
              "#7201a8"
             ],
             [
              0.3333333333333333,
              "#9c179e"
             ],
             [
              0.4444444444444444,
              "#bd3786"
             ],
             [
              0.5555555555555556,
              "#d8576b"
             ],
             [
              0.6666666666666666,
              "#ed7953"
             ],
             [
              0.7777777777777778,
              "#fb9f3a"
             ],
             [
              0.8888888888888888,
              "#fdca26"
             ],
             [
              1,
              "#f0f921"
             ]
            ],
            "type": "histogram2dcontour"
           }
          ],
          "mesh3d": [
           {
            "colorbar": {
             "outlinewidth": 0,
             "ticks": ""
            },
            "type": "mesh3d"
           }
          ],
          "parcoords": [
           {
            "line": {
             "colorbar": {
              "outlinewidth": 0,
              "ticks": ""
             }
            },
            "type": "parcoords"
           }
          ],
          "pie": [
           {
            "automargin": true,
            "type": "pie"
           }
          ],
          "scatter": [
           {
            "fillpattern": {
             "fillmode": "overlay",
             "size": 10,
             "solidity": 0.2
            },
            "type": "scatter"
           }
          ],
          "scatter3d": [
           {
            "line": {
             "colorbar": {
              "outlinewidth": 0,
              "ticks": ""
             }
            },
            "marker": {
             "colorbar": {
              "outlinewidth": 0,
              "ticks": ""
             }
            },
            "type": "scatter3d"
           }
          ],
          "scattercarpet": [
           {
            "marker": {
             "colorbar": {
              "outlinewidth": 0,
              "ticks": ""
             }
            },
            "type": "scattercarpet"
           }
          ],
          "scattergeo": [
           {
            "marker": {
             "colorbar": {
              "outlinewidth": 0,
              "ticks": ""
             }
            },
            "type": "scattergeo"
           }
          ],
          "scattergl": [
           {
            "marker": {
             "colorbar": {
              "outlinewidth": 0,
              "ticks": ""
             }
            },
            "type": "scattergl"
           }
          ],
          "scattermap": [
           {
            "marker": {
             "colorbar": {
              "outlinewidth": 0,
              "ticks": ""
             }
            },
            "type": "scattermap"
           }
          ],
          "scattermapbox": [
           {
            "marker": {
             "colorbar": {
              "outlinewidth": 0,
              "ticks": ""
             }
            },
            "type": "scattermapbox"
           }
          ],
          "scatterpolar": [
           {
            "marker": {
             "colorbar": {
              "outlinewidth": 0,
              "ticks": ""
             }
            },
            "type": "scatterpolar"
           }
          ],
          "scatterpolargl": [
           {
            "marker": {
             "colorbar": {
              "outlinewidth": 0,
              "ticks": ""
             }
            },
            "type": "scatterpolargl"
           }
          ],
          "scatterternary": [
           {
            "marker": {
             "colorbar": {
              "outlinewidth": 0,
              "ticks": ""
             }
            },
            "type": "scatterternary"
           }
          ],
          "surface": [
           {
            "colorbar": {
             "outlinewidth": 0,
             "ticks": ""
            },
            "colorscale": [
             [
              0,
              "#0d0887"
             ],
             [
              0.1111111111111111,
              "#46039f"
             ],
             [
              0.2222222222222222,
              "#7201a8"
             ],
             [
              0.3333333333333333,
              "#9c179e"
             ],
             [
              0.4444444444444444,
              "#bd3786"
             ],
             [
              0.5555555555555556,
              "#d8576b"
             ],
             [
              0.6666666666666666,
              "#ed7953"
             ],
             [
              0.7777777777777778,
              "#fb9f3a"
             ],
             [
              0.8888888888888888,
              "#fdca26"
             ],
             [
              1,
              "#f0f921"
             ]
            ],
            "type": "surface"
           }
          ],
          "table": [
           {
            "cells": {
             "fill": {
              "color": "#EBF0F8"
             },
             "line": {
              "color": "white"
             }
            },
            "header": {
             "fill": {
              "color": "#C8D4E3"
             },
             "line": {
              "color": "white"
             }
            },
            "type": "table"
           }
          ]
         },
         "layout": {
          "annotationdefaults": {
           "arrowcolor": "#2a3f5f",
           "arrowhead": 0,
           "arrowwidth": 1
          },
          "autotypenumbers": "strict",
          "coloraxis": {
           "colorbar": {
            "outlinewidth": 0,
            "ticks": ""
           }
          },
          "colorscale": {
           "diverging": [
            [
             0,
             "#8e0152"
            ],
            [
             0.1,
             "#c51b7d"
            ],
            [
             0.2,
             "#de77ae"
            ],
            [
             0.3,
             "#f1b6da"
            ],
            [
             0.4,
             "#fde0ef"
            ],
            [
             0.5,
             "#f7f7f7"
            ],
            [
             0.6,
             "#e6f5d0"
            ],
            [
             0.7,
             "#b8e186"
            ],
            [
             0.8,
             "#7fbc41"
            ],
            [
             0.9,
             "#4d9221"
            ],
            [
             1,
             "#276419"
            ]
           ],
           "sequential": [
            [
             0,
             "#0d0887"
            ],
            [
             0.1111111111111111,
             "#46039f"
            ],
            [
             0.2222222222222222,
             "#7201a8"
            ],
            [
             0.3333333333333333,
             "#9c179e"
            ],
            [
             0.4444444444444444,
             "#bd3786"
            ],
            [
             0.5555555555555556,
             "#d8576b"
            ],
            [
             0.6666666666666666,
             "#ed7953"
            ],
            [
             0.7777777777777778,
             "#fb9f3a"
            ],
            [
             0.8888888888888888,
             "#fdca26"
            ],
            [
             1,
             "#f0f921"
            ]
           ],
           "sequentialminus": [
            [
             0,
             "#0d0887"
            ],
            [
             0.1111111111111111,
             "#46039f"
            ],
            [
             0.2222222222222222,
             "#7201a8"
            ],
            [
             0.3333333333333333,
             "#9c179e"
            ],
            [
             0.4444444444444444,
             "#bd3786"
            ],
            [
             0.5555555555555556,
             "#d8576b"
            ],
            [
             0.6666666666666666,
             "#ed7953"
            ],
            [
             0.7777777777777778,
             "#fb9f3a"
            ],
            [
             0.8888888888888888,
             "#fdca26"
            ],
            [
             1,
             "#f0f921"
            ]
           ]
          },
          "colorway": [
           "#636efa",
           "#EF553B",
           "#00cc96",
           "#ab63fa",
           "#FFA15A",
           "#19d3f3",
           "#FF6692",
           "#B6E880",
           "#FF97FF",
           "#FECB52"
          ],
          "font": {
           "color": "#2a3f5f"
          },
          "geo": {
           "bgcolor": "white",
           "lakecolor": "white",
           "landcolor": "white",
           "showlakes": true,
           "showland": true,
           "subunitcolor": "#C8D4E3"
          },
          "hoverlabel": {
           "align": "left"
          },
          "hovermode": "closest",
          "mapbox": {
           "style": "light"
          },
          "paper_bgcolor": "white",
          "plot_bgcolor": "white",
          "polar": {
           "angularaxis": {
            "gridcolor": "#EBF0F8",
            "linecolor": "#EBF0F8",
            "ticks": ""
           },
           "bgcolor": "white",
           "radialaxis": {
            "gridcolor": "#EBF0F8",
            "linecolor": "#EBF0F8",
            "ticks": ""
           }
          },
          "scene": {
           "xaxis": {
            "backgroundcolor": "white",
            "gridcolor": "#DFE8F3",
            "gridwidth": 2,
            "linecolor": "#EBF0F8",
            "showbackground": true,
            "ticks": "",
            "zerolinecolor": "#EBF0F8"
           },
           "yaxis": {
            "backgroundcolor": "white",
            "gridcolor": "#DFE8F3",
            "gridwidth": 2,
            "linecolor": "#EBF0F8",
            "showbackground": true,
            "ticks": "",
            "zerolinecolor": "#EBF0F8"
           },
           "zaxis": {
            "backgroundcolor": "white",
            "gridcolor": "#DFE8F3",
            "gridwidth": 2,
            "linecolor": "#EBF0F8",
            "showbackground": true,
            "ticks": "",
            "zerolinecolor": "#EBF0F8"
           }
          },
          "shapedefaults": {
           "line": {
            "color": "#2a3f5f"
           }
          },
          "ternary": {
           "aaxis": {
            "gridcolor": "#DFE8F3",
            "linecolor": "#A2B1C6",
            "ticks": ""
           },
           "baxis": {
            "gridcolor": "#DFE8F3",
            "linecolor": "#A2B1C6",
            "ticks": ""
           },
           "bgcolor": "white",
           "caxis": {
            "gridcolor": "#DFE8F3",
            "linecolor": "#A2B1C6",
            "ticks": ""
           }
          },
          "title": {
           "x": 0.05
          },
          "xaxis": {
           "automargin": true,
           "gridcolor": "#EBF0F8",
           "linecolor": "#EBF0F8",
           "ticks": "",
           "title": {
            "standoff": 15
           },
           "zerolinecolor": "#EBF0F8",
           "zerolinewidth": 2
          },
          "yaxis": {
           "automargin": true,
           "gridcolor": "#EBF0F8",
           "linecolor": "#EBF0F8",
           "ticks": "",
           "title": {
            "standoff": 15
           },
           "zerolinecolor": "#EBF0F8",
           "zerolinewidth": 2
          }
         }
        },
        "title": {
         "text": "Percentage Share of Authorship Instances from Industry Over Time"
        },
        "xaxis": {
         "anchor": "y",
         "domain": [
          0,
          1
         ],
         "title": {
          "text": "Year"
         }
        },
        "yaxis": {
         "anchor": "x",
         "domain": [
          0,
          1
         ],
         "title": {
          "text": "% of Total Yearly Instances from Industry"
         }
        }
       }
      },
      "text/html": [
       "<div>            <script src=\"https://cdnjs.cloudflare.com/ajax/libs/mathjax/2.7.5/MathJax.js?config=TeX-AMS-MML_SVG\"></script><script type=\"text/javascript\">if (window.MathJax && window.MathJax.Hub && window.MathJax.Hub.Config) {window.MathJax.Hub.Config({SVG: {font: \"STIX-Web\"}});}</script>                <script type=\"text/javascript\">window.PlotlyConfig = {MathJaxConfig: 'local'};</script>\n",
       "        <script charset=\"utf-8\" src=\"https://cdn.plot.ly/plotly-3.0.1.min.js\"></script>                <div id=\"b9f85c2d-89e2-48a2-8184-d96adc409e57\" class=\"plotly-graph-div\" style=\"height:525px; width:100%;\"></div>            <script type=\"text/javascript\">                window.PLOTLYENV=window.PLOTLYENV || {};                                if (document.getElementById(\"b9f85c2d-89e2-48a2-8184-d96adc409e57\")) {                    Plotly.newPlot(                        \"b9f85c2d-89e2-48a2-8184-d96adc409e57\",                        [{\"hovertemplate\":\"Year=%{x}\\u003cbr\\u003e% of Total Yearly Instances from Industry=%{y}\\u003cextra\\u003e\\u003c\\u002fextra\\u003e\",\"legendgroup\":\"\",\"line\":{\"color\":\"#636efa\",\"dash\":\"solid\"},\"marker\":{\"symbol\":\"circle\"},\"mode\":\"lines+markers\",\"name\":\"\",\"orientation\":\"v\",\"showlegend\":false,\"x\":{\"dtype\":\"i2\",\"bdata\":\"1gfXB9gH2QfaB9sH3AfdB94H3wfgB+EH4gfjB+QH5QfmB+cH6Ac=\"},\"xaxis\":\"x\",\"y\":{\"dtype\":\"f8\",\"bdata\":\"FJILeL2NOkA0nNR9eWw5QH2lsRtV5jVAjc\\u002fllyiuOEBGmj4orG4zQMDsAbMHzDJAYqrww1ThNUBt0KrMx2U0QLacw1BC\\u002fzVAD1TObuFXMECt8TQxo441QBO9YtuRsjlAMLvcLn2MOkDoXTqb76I6QFIvtSlj8TlAXRLMx3K7N0DjyJth2942QOWu8YrM\\u002fDVAdUwSONgtNEA=\"},\"yaxis\":\"y\",\"type\":\"scatter\"}],                        {\"template\":{\"data\":{\"histogram2dcontour\":[{\"type\":\"histogram2dcontour\",\"colorbar\":{\"outlinewidth\":0,\"ticks\":\"\"},\"colorscale\":[[0.0,\"#0d0887\"],[0.1111111111111111,\"#46039f\"],[0.2222222222222222,\"#7201a8\"],[0.3333333333333333,\"#9c179e\"],[0.4444444444444444,\"#bd3786\"],[0.5555555555555556,\"#d8576b\"],[0.6666666666666666,\"#ed7953\"],[0.7777777777777778,\"#fb9f3a\"],[0.8888888888888888,\"#fdca26\"],[1.0,\"#f0f921\"]]}],\"choropleth\":[{\"type\":\"choropleth\",\"colorbar\":{\"outlinewidth\":0,\"ticks\":\"\"}}],\"histogram2d\":[{\"type\":\"histogram2d\",\"colorbar\":{\"outlinewidth\":0,\"ticks\":\"\"},\"colorscale\":[[0.0,\"#0d0887\"],[0.1111111111111111,\"#46039f\"],[0.2222222222222222,\"#7201a8\"],[0.3333333333333333,\"#9c179e\"],[0.4444444444444444,\"#bd3786\"],[0.5555555555555556,\"#d8576b\"],[0.6666666666666666,\"#ed7953\"],[0.7777777777777778,\"#fb9f3a\"],[0.8888888888888888,\"#fdca26\"],[1.0,\"#f0f921\"]]}],\"heatmap\":[{\"type\":\"heatmap\",\"colorbar\":{\"outlinewidth\":0,\"ticks\":\"\"},\"colorscale\":[[0.0,\"#0d0887\"],[0.1111111111111111,\"#46039f\"],[0.2222222222222222,\"#7201a8\"],[0.3333333333333333,\"#9c179e\"],[0.4444444444444444,\"#bd3786\"],[0.5555555555555556,\"#d8576b\"],[0.6666666666666666,\"#ed7953\"],[0.7777777777777778,\"#fb9f3a\"],[0.8888888888888888,\"#fdca26\"],[1.0,\"#f0f921\"]]}],\"contourcarpet\":[{\"type\":\"contourcarpet\",\"colorbar\":{\"outlinewidth\":0,\"ticks\":\"\"}}],\"contour\":[{\"type\":\"contour\",\"colorbar\":{\"outlinewidth\":0,\"ticks\":\"\"},\"colorscale\":[[0.0,\"#0d0887\"],[0.1111111111111111,\"#46039f\"],[0.2222222222222222,\"#7201a8\"],[0.3333333333333333,\"#9c179e\"],[0.4444444444444444,\"#bd3786\"],[0.5555555555555556,\"#d8576b\"],[0.6666666666666666,\"#ed7953\"],[0.7777777777777778,\"#fb9f3a\"],[0.8888888888888888,\"#fdca26\"],[1.0,\"#f0f921\"]]}],\"surface\":[{\"type\":\"surface\",\"colorbar\":{\"outlinewidth\":0,\"ticks\":\"\"},\"colorscale\":[[0.0,\"#0d0887\"],[0.1111111111111111,\"#46039f\"],[0.2222222222222222,\"#7201a8\"],[0.3333333333333333,\"#9c179e\"],[0.4444444444444444,\"#bd3786\"],[0.5555555555555556,\"#d8576b\"],[0.6666666666666666,\"#ed7953\"],[0.7777777777777778,\"#fb9f3a\"],[0.8888888888888888,\"#fdca26\"],[1.0,\"#f0f921\"]]}],\"mesh3d\":[{\"type\":\"mesh3d\",\"colorbar\":{\"outlinewidth\":0,\"ticks\":\"\"}}],\"scatter\":[{\"fillpattern\":{\"fillmode\":\"overlay\",\"size\":10,\"solidity\":0.2},\"type\":\"scatter\"}],\"parcoords\":[{\"type\":\"parcoords\",\"line\":{\"colorbar\":{\"outlinewidth\":0,\"ticks\":\"\"}}}],\"scatterpolargl\":[{\"type\":\"scatterpolargl\",\"marker\":{\"colorbar\":{\"outlinewidth\":0,\"ticks\":\"\"}}}],\"bar\":[{\"error_x\":{\"color\":\"#2a3f5f\"},\"error_y\":{\"color\":\"#2a3f5f\"},\"marker\":{\"line\":{\"color\":\"white\",\"width\":0.5},\"pattern\":{\"fillmode\":\"overlay\",\"size\":10,\"solidity\":0.2}},\"type\":\"bar\"}],\"scattergeo\":[{\"type\":\"scattergeo\",\"marker\":{\"colorbar\":{\"outlinewidth\":0,\"ticks\":\"\"}}}],\"scatterpolar\":[{\"type\":\"scatterpolar\",\"marker\":{\"colorbar\":{\"outlinewidth\":0,\"ticks\":\"\"}}}],\"histogram\":[{\"marker\":{\"pattern\":{\"fillmode\":\"overlay\",\"size\":10,\"solidity\":0.2}},\"type\":\"histogram\"}],\"scattergl\":[{\"type\":\"scattergl\",\"marker\":{\"colorbar\":{\"outlinewidth\":0,\"ticks\":\"\"}}}],\"scatter3d\":[{\"type\":\"scatter3d\",\"line\":{\"colorbar\":{\"outlinewidth\":0,\"ticks\":\"\"}},\"marker\":{\"colorbar\":{\"outlinewidth\":0,\"ticks\":\"\"}}}],\"scattermap\":[{\"type\":\"scattermap\",\"marker\":{\"colorbar\":{\"outlinewidth\":0,\"ticks\":\"\"}}}],\"scattermapbox\":[{\"type\":\"scattermapbox\",\"marker\":{\"colorbar\":{\"outlinewidth\":0,\"ticks\":\"\"}}}],\"scatterternary\":[{\"type\":\"scatterternary\",\"marker\":{\"colorbar\":{\"outlinewidth\":0,\"ticks\":\"\"}}}],\"scattercarpet\":[{\"type\":\"scattercarpet\",\"marker\":{\"colorbar\":{\"outlinewidth\":0,\"ticks\":\"\"}}}],\"carpet\":[{\"aaxis\":{\"endlinecolor\":\"#2a3f5f\",\"gridcolor\":\"#C8D4E3\",\"linecolor\":\"#C8D4E3\",\"minorgridcolor\":\"#C8D4E3\",\"startlinecolor\":\"#2a3f5f\"},\"baxis\":{\"endlinecolor\":\"#2a3f5f\",\"gridcolor\":\"#C8D4E3\",\"linecolor\":\"#C8D4E3\",\"minorgridcolor\":\"#C8D4E3\",\"startlinecolor\":\"#2a3f5f\"},\"type\":\"carpet\"}],\"table\":[{\"cells\":{\"fill\":{\"color\":\"#EBF0F8\"},\"line\":{\"color\":\"white\"}},\"header\":{\"fill\":{\"color\":\"#C8D4E3\"},\"line\":{\"color\":\"white\"}},\"type\":\"table\"}],\"barpolar\":[{\"marker\":{\"line\":{\"color\":\"white\",\"width\":0.5},\"pattern\":{\"fillmode\":\"overlay\",\"size\":10,\"solidity\":0.2}},\"type\":\"barpolar\"}],\"pie\":[{\"automargin\":true,\"type\":\"pie\"}]},\"layout\":{\"autotypenumbers\":\"strict\",\"colorway\":[\"#636efa\",\"#EF553B\",\"#00cc96\",\"#ab63fa\",\"#FFA15A\",\"#19d3f3\",\"#FF6692\",\"#B6E880\",\"#FF97FF\",\"#FECB52\"],\"font\":{\"color\":\"#2a3f5f\"},\"hovermode\":\"closest\",\"hoverlabel\":{\"align\":\"left\"},\"paper_bgcolor\":\"white\",\"plot_bgcolor\":\"white\",\"polar\":{\"bgcolor\":\"white\",\"angularaxis\":{\"gridcolor\":\"#EBF0F8\",\"linecolor\":\"#EBF0F8\",\"ticks\":\"\"},\"radialaxis\":{\"gridcolor\":\"#EBF0F8\",\"linecolor\":\"#EBF0F8\",\"ticks\":\"\"}},\"ternary\":{\"bgcolor\":\"white\",\"aaxis\":{\"gridcolor\":\"#DFE8F3\",\"linecolor\":\"#A2B1C6\",\"ticks\":\"\"},\"baxis\":{\"gridcolor\":\"#DFE8F3\",\"linecolor\":\"#A2B1C6\",\"ticks\":\"\"},\"caxis\":{\"gridcolor\":\"#DFE8F3\",\"linecolor\":\"#A2B1C6\",\"ticks\":\"\"}},\"coloraxis\":{\"colorbar\":{\"outlinewidth\":0,\"ticks\":\"\"}},\"colorscale\":{\"sequential\":[[0.0,\"#0d0887\"],[0.1111111111111111,\"#46039f\"],[0.2222222222222222,\"#7201a8\"],[0.3333333333333333,\"#9c179e\"],[0.4444444444444444,\"#bd3786\"],[0.5555555555555556,\"#d8576b\"],[0.6666666666666666,\"#ed7953\"],[0.7777777777777778,\"#fb9f3a\"],[0.8888888888888888,\"#fdca26\"],[1.0,\"#f0f921\"]],\"sequentialminus\":[[0.0,\"#0d0887\"],[0.1111111111111111,\"#46039f\"],[0.2222222222222222,\"#7201a8\"],[0.3333333333333333,\"#9c179e\"],[0.4444444444444444,\"#bd3786\"],[0.5555555555555556,\"#d8576b\"],[0.6666666666666666,\"#ed7953\"],[0.7777777777777778,\"#fb9f3a\"],[0.8888888888888888,\"#fdca26\"],[1.0,\"#f0f921\"]],\"diverging\":[[0,\"#8e0152\"],[0.1,\"#c51b7d\"],[0.2,\"#de77ae\"],[0.3,\"#f1b6da\"],[0.4,\"#fde0ef\"],[0.5,\"#f7f7f7\"],[0.6,\"#e6f5d0\"],[0.7,\"#b8e186\"],[0.8,\"#7fbc41\"],[0.9,\"#4d9221\"],[1,\"#276419\"]]},\"xaxis\":{\"gridcolor\":\"#EBF0F8\",\"linecolor\":\"#EBF0F8\",\"ticks\":\"\",\"title\":{\"standoff\":15},\"zerolinecolor\":\"#EBF0F8\",\"automargin\":true,\"zerolinewidth\":2},\"yaxis\":{\"gridcolor\":\"#EBF0F8\",\"linecolor\":\"#EBF0F8\",\"ticks\":\"\",\"title\":{\"standoff\":15},\"zerolinecolor\":\"#EBF0F8\",\"automargin\":true,\"zerolinewidth\":2},\"scene\":{\"xaxis\":{\"backgroundcolor\":\"white\",\"gridcolor\":\"#DFE8F3\",\"linecolor\":\"#EBF0F8\",\"showbackground\":true,\"ticks\":\"\",\"zerolinecolor\":\"#EBF0F8\",\"gridwidth\":2},\"yaxis\":{\"backgroundcolor\":\"white\",\"gridcolor\":\"#DFE8F3\",\"linecolor\":\"#EBF0F8\",\"showbackground\":true,\"ticks\":\"\",\"zerolinecolor\":\"#EBF0F8\",\"gridwidth\":2},\"zaxis\":{\"backgroundcolor\":\"white\",\"gridcolor\":\"#DFE8F3\",\"linecolor\":\"#EBF0F8\",\"showbackground\":true,\"ticks\":\"\",\"zerolinecolor\":\"#EBF0F8\",\"gridwidth\":2}},\"shapedefaults\":{\"line\":{\"color\":\"#2a3f5f\"}},\"annotationdefaults\":{\"arrowcolor\":\"#2a3f5f\",\"arrowhead\":0,\"arrowwidth\":1},\"geo\":{\"bgcolor\":\"white\",\"landcolor\":\"white\",\"subunitcolor\":\"#C8D4E3\",\"showland\":true,\"showlakes\":true,\"lakecolor\":\"white\"},\"title\":{\"x\":0.05},\"mapbox\":{\"style\":\"light\"}}},\"xaxis\":{\"anchor\":\"y\",\"domain\":[0.0,1.0],\"title\":{\"text\":\"Year\"}},\"yaxis\":{\"anchor\":\"x\",\"domain\":[0.0,1.0],\"title\":{\"text\":\"% of Total Yearly Instances from Industry\"}},\"legend\":{\"tracegroupgap\":0},\"title\":{\"text\":\"Percentage Share of Authorship Instances from Industry Over Time\"},\"hovermode\":\"x unified\"},                        {\"responsive\": true}                    ).then(function(){\n",
       "                            \n",
       "var gd = document.getElementById('b9f85c2d-89e2-48a2-8184-d96adc409e57');\n",
       "var x = new MutationObserver(function (mutations, observer) {{\n",
       "        var display = window.getComputedStyle(gd).display;\n",
       "        if (!display || display === 'none') {{\n",
       "            console.log([gd, 'removed!']);\n",
       "            Plotly.purge(gd);\n",
       "            observer.disconnect();\n",
       "        }}\n",
       "}});\n",
       "\n",
       "// Listen for the removal of the full notebook cells\n",
       "var notebookContainer = gd.closest('#notebook-container');\n",
       "if (notebookContainer) {{\n",
       "    x.observe(notebookContainer, {childList: true});\n",
       "}}\n",
       "\n",
       "// Listen for the clearing of the current output cell\n",
       "var outputEl = gd.closest('.output');\n",
       "if (outputEl) {{\n",
       "    x.observe(outputEl, {childList: true});\n",
       "}}\n",
       "\n",
       "                        })                };            </script>        </div>"
      ]
     },
     "metadata": {},
     "output_type": "display_data"
    }
   ],
   "source": [
    "# Filter out unknown types\n",
    "type_df = df[df['Type'].isin(['Academia', 'Industry'])].copy() # Use isin for clarity\n",
    "\n",
    "# Calculate counts per year and type\n",
    "type_yearly_counts = type_df.groupby(['Year', 'Type']).size().reset_index(name='Count')\n",
    "\n",
    "# Calculate total counts per year (known types only)\n",
    "total_yearly_type_counts = type_yearly_counts.groupby('Year')['Count'].sum().reset_index(name='TotalYearlyCount')\n",
    "\n",
    "# Merge totals back to calculate percentages\n",
    "type_yearly_perc = pd.merge(type_yearly_counts, total_yearly_type_counts, on='Year')\n",
    "type_yearly_perc['Percentage'] = (type_yearly_perc['Count'] / type_yearly_perc['TotalYearlyCount']) * 100\n",
    "\n",
    "# Filter for Industry type\n",
    "plot_data_h3 = type_yearly_perc[type_yearly_perc['Type'] == 'Industry']\n",
    "\n",
    "# Create the interactive line plot\n",
    "fig_h3 = px.line(plot_data_h3,\n",
    "                 x='Year',\n",
    "                 y='Percentage',\n",
    "                 markers=True,\n",
    "                 title='Percentage Share of Authorship Instances from Industry Over Time',\n",
    "                 labels={'Percentage': '% of Total Yearly Instances from Industry', 'Year': 'Year'})\n",
    "\n",
    "fig_h3.update_layout(hovermode=\"x unified\")\n",
    "fig_h3.show()"
   ]
  },
  {
   "cell_type": "markdown",
   "id": "d02bb3aa",
   "metadata": {},
   "source": [
    "**Findings:** The plot demonstrates a clear and substantial upward trend in the percentage of authorship instances affiliated with Industry. Accelerating after 2015 and reaching approximately 30-35% in the most recent years.\n",
    "\n",
    "**Conclusion:** **H3 is strongly supported.** Industry participation in research publications at these top AI conferences has significantly increased over time."
   ]
  },
  {
   "cell_type": "markdown",
   "id": "451221fc",
   "metadata": {},
   "source": [
    "### H4: Institutional Concentration\n",
    "\n",
    "**Hypothesis:** A relatively small number of 'elite' institutions (both academic and industrial) consistently account for a large percentage of the total publications, indicating a concentration of top AI research.\n",
    "\n",
    "**Quantification:** Identify the Top $N=20$ institutions based on overall authorship instances. Calculate the combined percentage share of total yearly authorship instances held by these Top $N$ institutions over time. Filter out \"Unknown Institution\"."
   ]
  },
  {
   "cell_type": "code",
   "execution_count": 8,
   "id": "0a937c74",
   "metadata": {},
   "outputs": [
    {
     "name": "stdout",
     "output_type": "stream",
     "text": [
      "Top 20 Institutions (Overall):\n",
      "['Google', 'Stanford University', 'Massachusetts Institute of Technology', 'Tsinghua University', 'Carnegie Mellon University', 'Microsoft', 'University of California, Berkeley', 'Peking University', 'University of Oxford', 'University of Texas at Austin', 'Shanghai Jiao Tong University', 'Princeton University', 'Facebook', 'University of California, Los Angeles', 'Zhejiang University', 'University of Washington', 'Georgia Institute of Technology', 'ETH Zurich', 'National University of Singapore', 'University of Cambridge']\n"
     ]
    },
    {
     "data": {
      "application/vnd.plotly.v1+json": {
       "config": {
        "plotlyServerURL": "https://plot.ly"
       },
       "data": [
        {
         "hovertemplate": "Year=%{x}<br>% Share Held by Top 20=%{y}<extra></extra>",
         "legendgroup": "",
         "line": {
          "color": "#636efa",
          "dash": "solid"
         },
         "marker": {
          "symbol": "circle"
         },
         "mode": "lines+markers",
         "name": "",
         "orientation": "v",
         "showlegend": false,
         "type": "scatter",
         "x": {
          "bdata": "1gfXB9gH2QfaB9sH3AfdB94H3wfgB+EH4gfjB+QH5QfmB+cH6Ac=",
          "dtype": "i2"
         },
         "xaxis": "x",
         "y": {
          "bdata": "ukqnZ1PBPUB/TjGrXpBAQNAo8TNK/DxA98pmRTrhQEDDNHfBX8U9QAstv4Kh5TtAuixvc1nePEAjx0yhu/BAQLk/XF3sdkNAivRA5eyWQ0BtEdSYlCZEQGSA7M6VvURAVePCoe/0Q0CCm66Ah9JDQAJfdw9Do0JATmlfETVnQkAKKRgKKXhAQLK4wMqHWj9AcoBM6/KePEA=",
          "dtype": "f8"
         },
         "yaxis": "y"
        }
       ],
       "layout": {
        "hovermode": "x unified",
        "legend": {
         "tracegroupgap": 0
        },
        "template": {
         "data": {
          "bar": [
           {
            "error_x": {
             "color": "#2a3f5f"
            },
            "error_y": {
             "color": "#2a3f5f"
            },
            "marker": {
             "line": {
              "color": "white",
              "width": 0.5
             },
             "pattern": {
              "fillmode": "overlay",
              "size": 10,
              "solidity": 0.2
             }
            },
            "type": "bar"
           }
          ],
          "barpolar": [
           {
            "marker": {
             "line": {
              "color": "white",
              "width": 0.5
             },
             "pattern": {
              "fillmode": "overlay",
              "size": 10,
              "solidity": 0.2
             }
            },
            "type": "barpolar"
           }
          ],
          "carpet": [
           {
            "aaxis": {
             "endlinecolor": "#2a3f5f",
             "gridcolor": "#C8D4E3",
             "linecolor": "#C8D4E3",
             "minorgridcolor": "#C8D4E3",
             "startlinecolor": "#2a3f5f"
            },
            "baxis": {
             "endlinecolor": "#2a3f5f",
             "gridcolor": "#C8D4E3",
             "linecolor": "#C8D4E3",
             "minorgridcolor": "#C8D4E3",
             "startlinecolor": "#2a3f5f"
            },
            "type": "carpet"
           }
          ],
          "choropleth": [
           {
            "colorbar": {
             "outlinewidth": 0,
             "ticks": ""
            },
            "type": "choropleth"
           }
          ],
          "contour": [
           {
            "colorbar": {
             "outlinewidth": 0,
             "ticks": ""
            },
            "colorscale": [
             [
              0,
              "#0d0887"
             ],
             [
              0.1111111111111111,
              "#46039f"
             ],
             [
              0.2222222222222222,
              "#7201a8"
             ],
             [
              0.3333333333333333,
              "#9c179e"
             ],
             [
              0.4444444444444444,
              "#bd3786"
             ],
             [
              0.5555555555555556,
              "#d8576b"
             ],
             [
              0.6666666666666666,
              "#ed7953"
             ],
             [
              0.7777777777777778,
              "#fb9f3a"
             ],
             [
              0.8888888888888888,
              "#fdca26"
             ],
             [
              1,
              "#f0f921"
             ]
            ],
            "type": "contour"
           }
          ],
          "contourcarpet": [
           {
            "colorbar": {
             "outlinewidth": 0,
             "ticks": ""
            },
            "type": "contourcarpet"
           }
          ],
          "heatmap": [
           {
            "colorbar": {
             "outlinewidth": 0,
             "ticks": ""
            },
            "colorscale": [
             [
              0,
              "#0d0887"
             ],
             [
              0.1111111111111111,
              "#46039f"
             ],
             [
              0.2222222222222222,
              "#7201a8"
             ],
             [
              0.3333333333333333,
              "#9c179e"
             ],
             [
              0.4444444444444444,
              "#bd3786"
             ],
             [
              0.5555555555555556,
              "#d8576b"
             ],
             [
              0.6666666666666666,
              "#ed7953"
             ],
             [
              0.7777777777777778,
              "#fb9f3a"
             ],
             [
              0.8888888888888888,
              "#fdca26"
             ],
             [
              1,
              "#f0f921"
             ]
            ],
            "type": "heatmap"
           }
          ],
          "histogram": [
           {
            "marker": {
             "pattern": {
              "fillmode": "overlay",
              "size": 10,
              "solidity": 0.2
             }
            },
            "type": "histogram"
           }
          ],
          "histogram2d": [
           {
            "colorbar": {
             "outlinewidth": 0,
             "ticks": ""
            },
            "colorscale": [
             [
              0,
              "#0d0887"
             ],
             [
              0.1111111111111111,
              "#46039f"
             ],
             [
              0.2222222222222222,
              "#7201a8"
             ],
             [
              0.3333333333333333,
              "#9c179e"
             ],
             [
              0.4444444444444444,
              "#bd3786"
             ],
             [
              0.5555555555555556,
              "#d8576b"
             ],
             [
              0.6666666666666666,
              "#ed7953"
             ],
             [
              0.7777777777777778,
              "#fb9f3a"
             ],
             [
              0.8888888888888888,
              "#fdca26"
             ],
             [
              1,
              "#f0f921"
             ]
            ],
            "type": "histogram2d"
           }
          ],
          "histogram2dcontour": [
           {
            "colorbar": {
             "outlinewidth": 0,
             "ticks": ""
            },
            "colorscale": [
             [
              0,
              "#0d0887"
             ],
             [
              0.1111111111111111,
              "#46039f"
             ],
             [
              0.2222222222222222,
              "#7201a8"
             ],
             [
              0.3333333333333333,
              "#9c179e"
             ],
             [
              0.4444444444444444,
              "#bd3786"
             ],
             [
              0.5555555555555556,
              "#d8576b"
             ],
             [
              0.6666666666666666,
              "#ed7953"
             ],
             [
              0.7777777777777778,
              "#fb9f3a"
             ],
             [
              0.8888888888888888,
              "#fdca26"
             ],
             [
              1,
              "#f0f921"
             ]
            ],
            "type": "histogram2dcontour"
           }
          ],
          "mesh3d": [
           {
            "colorbar": {
             "outlinewidth": 0,
             "ticks": ""
            },
            "type": "mesh3d"
           }
          ],
          "parcoords": [
           {
            "line": {
             "colorbar": {
              "outlinewidth": 0,
              "ticks": ""
             }
            },
            "type": "parcoords"
           }
          ],
          "pie": [
           {
            "automargin": true,
            "type": "pie"
           }
          ],
          "scatter": [
           {
            "fillpattern": {
             "fillmode": "overlay",
             "size": 10,
             "solidity": 0.2
            },
            "type": "scatter"
           }
          ],
          "scatter3d": [
           {
            "line": {
             "colorbar": {
              "outlinewidth": 0,
              "ticks": ""
             }
            },
            "marker": {
             "colorbar": {
              "outlinewidth": 0,
              "ticks": ""
             }
            },
            "type": "scatter3d"
           }
          ],
          "scattercarpet": [
           {
            "marker": {
             "colorbar": {
              "outlinewidth": 0,
              "ticks": ""
             }
            },
            "type": "scattercarpet"
           }
          ],
          "scattergeo": [
           {
            "marker": {
             "colorbar": {
              "outlinewidth": 0,
              "ticks": ""
             }
            },
            "type": "scattergeo"
           }
          ],
          "scattergl": [
           {
            "marker": {
             "colorbar": {
              "outlinewidth": 0,
              "ticks": ""
             }
            },
            "type": "scattergl"
           }
          ],
          "scattermap": [
           {
            "marker": {
             "colorbar": {
              "outlinewidth": 0,
              "ticks": ""
             }
            },
            "type": "scattermap"
           }
          ],
          "scattermapbox": [
           {
            "marker": {
             "colorbar": {
              "outlinewidth": 0,
              "ticks": ""
             }
            },
            "type": "scattermapbox"
           }
          ],
          "scatterpolar": [
           {
            "marker": {
             "colorbar": {
              "outlinewidth": 0,
              "ticks": ""
             }
            },
            "type": "scatterpolar"
           }
          ],
          "scatterpolargl": [
           {
            "marker": {
             "colorbar": {
              "outlinewidth": 0,
              "ticks": ""
             }
            },
            "type": "scatterpolargl"
           }
          ],
          "scatterternary": [
           {
            "marker": {
             "colorbar": {
              "outlinewidth": 0,
              "ticks": ""
             }
            },
            "type": "scatterternary"
           }
          ],
          "surface": [
           {
            "colorbar": {
             "outlinewidth": 0,
             "ticks": ""
            },
            "colorscale": [
             [
              0,
              "#0d0887"
             ],
             [
              0.1111111111111111,
              "#46039f"
             ],
             [
              0.2222222222222222,
              "#7201a8"
             ],
             [
              0.3333333333333333,
              "#9c179e"
             ],
             [
              0.4444444444444444,
              "#bd3786"
             ],
             [
              0.5555555555555556,
              "#d8576b"
             ],
             [
              0.6666666666666666,
              "#ed7953"
             ],
             [
              0.7777777777777778,
              "#fb9f3a"
             ],
             [
              0.8888888888888888,
              "#fdca26"
             ],
             [
              1,
              "#f0f921"
             ]
            ],
            "type": "surface"
           }
          ],
          "table": [
           {
            "cells": {
             "fill": {
              "color": "#EBF0F8"
             },
             "line": {
              "color": "white"
             }
            },
            "header": {
             "fill": {
              "color": "#C8D4E3"
             },
             "line": {
              "color": "white"
             }
            },
            "type": "table"
           }
          ]
         },
         "layout": {
          "annotationdefaults": {
           "arrowcolor": "#2a3f5f",
           "arrowhead": 0,
           "arrowwidth": 1
          },
          "autotypenumbers": "strict",
          "coloraxis": {
           "colorbar": {
            "outlinewidth": 0,
            "ticks": ""
           }
          },
          "colorscale": {
           "diverging": [
            [
             0,
             "#8e0152"
            ],
            [
             0.1,
             "#c51b7d"
            ],
            [
             0.2,
             "#de77ae"
            ],
            [
             0.3,
             "#f1b6da"
            ],
            [
             0.4,
             "#fde0ef"
            ],
            [
             0.5,
             "#f7f7f7"
            ],
            [
             0.6,
             "#e6f5d0"
            ],
            [
             0.7,
             "#b8e186"
            ],
            [
             0.8,
             "#7fbc41"
            ],
            [
             0.9,
             "#4d9221"
            ],
            [
             1,
             "#276419"
            ]
           ],
           "sequential": [
            [
             0,
             "#0d0887"
            ],
            [
             0.1111111111111111,
             "#46039f"
            ],
            [
             0.2222222222222222,
             "#7201a8"
            ],
            [
             0.3333333333333333,
             "#9c179e"
            ],
            [
             0.4444444444444444,
             "#bd3786"
            ],
            [
             0.5555555555555556,
             "#d8576b"
            ],
            [
             0.6666666666666666,
             "#ed7953"
            ],
            [
             0.7777777777777778,
             "#fb9f3a"
            ],
            [
             0.8888888888888888,
             "#fdca26"
            ],
            [
             1,
             "#f0f921"
            ]
           ],
           "sequentialminus": [
            [
             0,
             "#0d0887"
            ],
            [
             0.1111111111111111,
             "#46039f"
            ],
            [
             0.2222222222222222,
             "#7201a8"
            ],
            [
             0.3333333333333333,
             "#9c179e"
            ],
            [
             0.4444444444444444,
             "#bd3786"
            ],
            [
             0.5555555555555556,
             "#d8576b"
            ],
            [
             0.6666666666666666,
             "#ed7953"
            ],
            [
             0.7777777777777778,
             "#fb9f3a"
            ],
            [
             0.8888888888888888,
             "#fdca26"
            ],
            [
             1,
             "#f0f921"
            ]
           ]
          },
          "colorway": [
           "#636efa",
           "#EF553B",
           "#00cc96",
           "#ab63fa",
           "#FFA15A",
           "#19d3f3",
           "#FF6692",
           "#B6E880",
           "#FF97FF",
           "#FECB52"
          ],
          "font": {
           "color": "#2a3f5f"
          },
          "geo": {
           "bgcolor": "white",
           "lakecolor": "white",
           "landcolor": "white",
           "showlakes": true,
           "showland": true,
           "subunitcolor": "#C8D4E3"
          },
          "hoverlabel": {
           "align": "left"
          },
          "hovermode": "closest",
          "mapbox": {
           "style": "light"
          },
          "paper_bgcolor": "white",
          "plot_bgcolor": "white",
          "polar": {
           "angularaxis": {
            "gridcolor": "#EBF0F8",
            "linecolor": "#EBF0F8",
            "ticks": ""
           },
           "bgcolor": "white",
           "radialaxis": {
            "gridcolor": "#EBF0F8",
            "linecolor": "#EBF0F8",
            "ticks": ""
           }
          },
          "scene": {
           "xaxis": {
            "backgroundcolor": "white",
            "gridcolor": "#DFE8F3",
            "gridwidth": 2,
            "linecolor": "#EBF0F8",
            "showbackground": true,
            "ticks": "",
            "zerolinecolor": "#EBF0F8"
           },
           "yaxis": {
            "backgroundcolor": "white",
            "gridcolor": "#DFE8F3",
            "gridwidth": 2,
            "linecolor": "#EBF0F8",
            "showbackground": true,
            "ticks": "",
            "zerolinecolor": "#EBF0F8"
           },
           "zaxis": {
            "backgroundcolor": "white",
            "gridcolor": "#DFE8F3",
            "gridwidth": 2,
            "linecolor": "#EBF0F8",
            "showbackground": true,
            "ticks": "",
            "zerolinecolor": "#EBF0F8"
           }
          },
          "shapedefaults": {
           "line": {
            "color": "#2a3f5f"
           }
          },
          "ternary": {
           "aaxis": {
            "gridcolor": "#DFE8F3",
            "linecolor": "#A2B1C6",
            "ticks": ""
           },
           "baxis": {
            "gridcolor": "#DFE8F3",
            "linecolor": "#A2B1C6",
            "ticks": ""
           },
           "bgcolor": "white",
           "caxis": {
            "gridcolor": "#DFE8F3",
            "linecolor": "#A2B1C6",
            "ticks": ""
           }
          },
          "title": {
           "x": 0.05
          },
          "xaxis": {
           "automargin": true,
           "gridcolor": "#EBF0F8",
           "linecolor": "#EBF0F8",
           "ticks": "",
           "title": {
            "standoff": 15
           },
           "zerolinecolor": "#EBF0F8",
           "zerolinewidth": 2
          },
          "yaxis": {
           "automargin": true,
           "gridcolor": "#EBF0F8",
           "linecolor": "#EBF0F8",
           "ticks": "",
           "title": {
            "standoff": 15
           },
           "zerolinecolor": "#EBF0F8",
           "zerolinewidth": 2
          }
         }
        },
        "title": {
         "text": "Percentage Share of Authorship Instances by Top 20 Institutions Over Time"
        },
        "xaxis": {
         "anchor": "y",
         "domain": [
          0,
          1
         ],
         "title": {
          "text": "Year"
         }
        },
        "yaxis": {
         "anchor": "x",
         "domain": [
          0,
          1
         ],
         "title": {
          "text": "% Share Held by Top 20"
         }
        }
       }
      },
      "text/html": [
       "<div>            <script src=\"https://cdnjs.cloudflare.com/ajax/libs/mathjax/2.7.5/MathJax.js?config=TeX-AMS-MML_SVG\"></script><script type=\"text/javascript\">if (window.MathJax && window.MathJax.Hub && window.MathJax.Hub.Config) {window.MathJax.Hub.Config({SVG: {font: \"STIX-Web\"}});}</script>                <script type=\"text/javascript\">window.PlotlyConfig = {MathJaxConfig: 'local'};</script>\n",
       "        <script charset=\"utf-8\" src=\"https://cdn.plot.ly/plotly-3.0.1.min.js\"></script>                <div id=\"54bcbb94-7bc6-4064-80f5-990ec7aee6a7\" class=\"plotly-graph-div\" style=\"height:525px; width:100%;\"></div>            <script type=\"text/javascript\">                window.PLOTLYENV=window.PLOTLYENV || {};                                if (document.getElementById(\"54bcbb94-7bc6-4064-80f5-990ec7aee6a7\")) {                    Plotly.newPlot(                        \"54bcbb94-7bc6-4064-80f5-990ec7aee6a7\",                        [{\"hovertemplate\":\"Year=%{x}\\u003cbr\\u003e% Share Held by Top 20=%{y}\\u003cextra\\u003e\\u003c\\u002fextra\\u003e\",\"legendgroup\":\"\",\"line\":{\"color\":\"#636efa\",\"dash\":\"solid\"},\"marker\":{\"symbol\":\"circle\"},\"mode\":\"lines+markers\",\"name\":\"\",\"orientation\":\"v\",\"showlegend\":false,\"x\":{\"dtype\":\"i2\",\"bdata\":\"1gfXB9gH2QfaB9sH3AfdB94H3wfgB+EH4gfjB+QH5QfmB+cH6Ac=\"},\"xaxis\":\"x\",\"y\":{\"dtype\":\"f8\",\"bdata\":\"ukqnZ1PBPUB\\u002fTjGrXpBAQNAo8TNK\\u002fDxA98pmRTrhQEDDNHfBX8U9QAstv4Kh5TtAuixvc1nePEAjx0yhu\\u002fBAQLk\\u002fXF3sdkNAivRA5eyWQ0BtEdSYlCZEQGSA7M6VvURAVePCoe\\u002f0Q0CCm66Ah9JDQAJfdw9Do0JATmlfETVnQkAKKRgKKXhAQLK4wMqHWj9AcoBM6\\u002fKePEA=\"},\"yaxis\":\"y\",\"type\":\"scatter\"}],                        {\"template\":{\"data\":{\"histogram2dcontour\":[{\"type\":\"histogram2dcontour\",\"colorbar\":{\"outlinewidth\":0,\"ticks\":\"\"},\"colorscale\":[[0.0,\"#0d0887\"],[0.1111111111111111,\"#46039f\"],[0.2222222222222222,\"#7201a8\"],[0.3333333333333333,\"#9c179e\"],[0.4444444444444444,\"#bd3786\"],[0.5555555555555556,\"#d8576b\"],[0.6666666666666666,\"#ed7953\"],[0.7777777777777778,\"#fb9f3a\"],[0.8888888888888888,\"#fdca26\"],[1.0,\"#f0f921\"]]}],\"choropleth\":[{\"type\":\"choropleth\",\"colorbar\":{\"outlinewidth\":0,\"ticks\":\"\"}}],\"histogram2d\":[{\"type\":\"histogram2d\",\"colorbar\":{\"outlinewidth\":0,\"ticks\":\"\"},\"colorscale\":[[0.0,\"#0d0887\"],[0.1111111111111111,\"#46039f\"],[0.2222222222222222,\"#7201a8\"],[0.3333333333333333,\"#9c179e\"],[0.4444444444444444,\"#bd3786\"],[0.5555555555555556,\"#d8576b\"],[0.6666666666666666,\"#ed7953\"],[0.7777777777777778,\"#fb9f3a\"],[0.8888888888888888,\"#fdca26\"],[1.0,\"#f0f921\"]]}],\"heatmap\":[{\"type\":\"heatmap\",\"colorbar\":{\"outlinewidth\":0,\"ticks\":\"\"},\"colorscale\":[[0.0,\"#0d0887\"],[0.1111111111111111,\"#46039f\"],[0.2222222222222222,\"#7201a8\"],[0.3333333333333333,\"#9c179e\"],[0.4444444444444444,\"#bd3786\"],[0.5555555555555556,\"#d8576b\"],[0.6666666666666666,\"#ed7953\"],[0.7777777777777778,\"#fb9f3a\"],[0.8888888888888888,\"#fdca26\"],[1.0,\"#f0f921\"]]}],\"contourcarpet\":[{\"type\":\"contourcarpet\",\"colorbar\":{\"outlinewidth\":0,\"ticks\":\"\"}}],\"contour\":[{\"type\":\"contour\",\"colorbar\":{\"outlinewidth\":0,\"ticks\":\"\"},\"colorscale\":[[0.0,\"#0d0887\"],[0.1111111111111111,\"#46039f\"],[0.2222222222222222,\"#7201a8\"],[0.3333333333333333,\"#9c179e\"],[0.4444444444444444,\"#bd3786\"],[0.5555555555555556,\"#d8576b\"],[0.6666666666666666,\"#ed7953\"],[0.7777777777777778,\"#fb9f3a\"],[0.8888888888888888,\"#fdca26\"],[1.0,\"#f0f921\"]]}],\"surface\":[{\"type\":\"surface\",\"colorbar\":{\"outlinewidth\":0,\"ticks\":\"\"},\"colorscale\":[[0.0,\"#0d0887\"],[0.1111111111111111,\"#46039f\"],[0.2222222222222222,\"#7201a8\"],[0.3333333333333333,\"#9c179e\"],[0.4444444444444444,\"#bd3786\"],[0.5555555555555556,\"#d8576b\"],[0.6666666666666666,\"#ed7953\"],[0.7777777777777778,\"#fb9f3a\"],[0.8888888888888888,\"#fdca26\"],[1.0,\"#f0f921\"]]}],\"mesh3d\":[{\"type\":\"mesh3d\",\"colorbar\":{\"outlinewidth\":0,\"ticks\":\"\"}}],\"scatter\":[{\"fillpattern\":{\"fillmode\":\"overlay\",\"size\":10,\"solidity\":0.2},\"type\":\"scatter\"}],\"parcoords\":[{\"type\":\"parcoords\",\"line\":{\"colorbar\":{\"outlinewidth\":0,\"ticks\":\"\"}}}],\"scatterpolargl\":[{\"type\":\"scatterpolargl\",\"marker\":{\"colorbar\":{\"outlinewidth\":0,\"ticks\":\"\"}}}],\"bar\":[{\"error_x\":{\"color\":\"#2a3f5f\"},\"error_y\":{\"color\":\"#2a3f5f\"},\"marker\":{\"line\":{\"color\":\"white\",\"width\":0.5},\"pattern\":{\"fillmode\":\"overlay\",\"size\":10,\"solidity\":0.2}},\"type\":\"bar\"}],\"scattergeo\":[{\"type\":\"scattergeo\",\"marker\":{\"colorbar\":{\"outlinewidth\":0,\"ticks\":\"\"}}}],\"scatterpolar\":[{\"type\":\"scatterpolar\",\"marker\":{\"colorbar\":{\"outlinewidth\":0,\"ticks\":\"\"}}}],\"histogram\":[{\"marker\":{\"pattern\":{\"fillmode\":\"overlay\",\"size\":10,\"solidity\":0.2}},\"type\":\"histogram\"}],\"scattergl\":[{\"type\":\"scattergl\",\"marker\":{\"colorbar\":{\"outlinewidth\":0,\"ticks\":\"\"}}}],\"scatter3d\":[{\"type\":\"scatter3d\",\"line\":{\"colorbar\":{\"outlinewidth\":0,\"ticks\":\"\"}},\"marker\":{\"colorbar\":{\"outlinewidth\":0,\"ticks\":\"\"}}}],\"scattermap\":[{\"type\":\"scattermap\",\"marker\":{\"colorbar\":{\"outlinewidth\":0,\"ticks\":\"\"}}}],\"scattermapbox\":[{\"type\":\"scattermapbox\",\"marker\":{\"colorbar\":{\"outlinewidth\":0,\"ticks\":\"\"}}}],\"scatterternary\":[{\"type\":\"scatterternary\",\"marker\":{\"colorbar\":{\"outlinewidth\":0,\"ticks\":\"\"}}}],\"scattercarpet\":[{\"type\":\"scattercarpet\",\"marker\":{\"colorbar\":{\"outlinewidth\":0,\"ticks\":\"\"}}}],\"carpet\":[{\"aaxis\":{\"endlinecolor\":\"#2a3f5f\",\"gridcolor\":\"#C8D4E3\",\"linecolor\":\"#C8D4E3\",\"minorgridcolor\":\"#C8D4E3\",\"startlinecolor\":\"#2a3f5f\"},\"baxis\":{\"endlinecolor\":\"#2a3f5f\",\"gridcolor\":\"#C8D4E3\",\"linecolor\":\"#C8D4E3\",\"minorgridcolor\":\"#C8D4E3\",\"startlinecolor\":\"#2a3f5f\"},\"type\":\"carpet\"}],\"table\":[{\"cells\":{\"fill\":{\"color\":\"#EBF0F8\"},\"line\":{\"color\":\"white\"}},\"header\":{\"fill\":{\"color\":\"#C8D4E3\"},\"line\":{\"color\":\"white\"}},\"type\":\"table\"}],\"barpolar\":[{\"marker\":{\"line\":{\"color\":\"white\",\"width\":0.5},\"pattern\":{\"fillmode\":\"overlay\",\"size\":10,\"solidity\":0.2}},\"type\":\"barpolar\"}],\"pie\":[{\"automargin\":true,\"type\":\"pie\"}]},\"layout\":{\"autotypenumbers\":\"strict\",\"colorway\":[\"#636efa\",\"#EF553B\",\"#00cc96\",\"#ab63fa\",\"#FFA15A\",\"#19d3f3\",\"#FF6692\",\"#B6E880\",\"#FF97FF\",\"#FECB52\"],\"font\":{\"color\":\"#2a3f5f\"},\"hovermode\":\"closest\",\"hoverlabel\":{\"align\":\"left\"},\"paper_bgcolor\":\"white\",\"plot_bgcolor\":\"white\",\"polar\":{\"bgcolor\":\"white\",\"angularaxis\":{\"gridcolor\":\"#EBF0F8\",\"linecolor\":\"#EBF0F8\",\"ticks\":\"\"},\"radialaxis\":{\"gridcolor\":\"#EBF0F8\",\"linecolor\":\"#EBF0F8\",\"ticks\":\"\"}},\"ternary\":{\"bgcolor\":\"white\",\"aaxis\":{\"gridcolor\":\"#DFE8F3\",\"linecolor\":\"#A2B1C6\",\"ticks\":\"\"},\"baxis\":{\"gridcolor\":\"#DFE8F3\",\"linecolor\":\"#A2B1C6\",\"ticks\":\"\"},\"caxis\":{\"gridcolor\":\"#DFE8F3\",\"linecolor\":\"#A2B1C6\",\"ticks\":\"\"}},\"coloraxis\":{\"colorbar\":{\"outlinewidth\":0,\"ticks\":\"\"}},\"colorscale\":{\"sequential\":[[0.0,\"#0d0887\"],[0.1111111111111111,\"#46039f\"],[0.2222222222222222,\"#7201a8\"],[0.3333333333333333,\"#9c179e\"],[0.4444444444444444,\"#bd3786\"],[0.5555555555555556,\"#d8576b\"],[0.6666666666666666,\"#ed7953\"],[0.7777777777777778,\"#fb9f3a\"],[0.8888888888888888,\"#fdca26\"],[1.0,\"#f0f921\"]],\"sequentialminus\":[[0.0,\"#0d0887\"],[0.1111111111111111,\"#46039f\"],[0.2222222222222222,\"#7201a8\"],[0.3333333333333333,\"#9c179e\"],[0.4444444444444444,\"#bd3786\"],[0.5555555555555556,\"#d8576b\"],[0.6666666666666666,\"#ed7953\"],[0.7777777777777778,\"#fb9f3a\"],[0.8888888888888888,\"#fdca26\"],[1.0,\"#f0f921\"]],\"diverging\":[[0,\"#8e0152\"],[0.1,\"#c51b7d\"],[0.2,\"#de77ae\"],[0.3,\"#f1b6da\"],[0.4,\"#fde0ef\"],[0.5,\"#f7f7f7\"],[0.6,\"#e6f5d0\"],[0.7,\"#b8e186\"],[0.8,\"#7fbc41\"],[0.9,\"#4d9221\"],[1,\"#276419\"]]},\"xaxis\":{\"gridcolor\":\"#EBF0F8\",\"linecolor\":\"#EBF0F8\",\"ticks\":\"\",\"title\":{\"standoff\":15},\"zerolinecolor\":\"#EBF0F8\",\"automargin\":true,\"zerolinewidth\":2},\"yaxis\":{\"gridcolor\":\"#EBF0F8\",\"linecolor\":\"#EBF0F8\",\"ticks\":\"\",\"title\":{\"standoff\":15},\"zerolinecolor\":\"#EBF0F8\",\"automargin\":true,\"zerolinewidth\":2},\"scene\":{\"xaxis\":{\"backgroundcolor\":\"white\",\"gridcolor\":\"#DFE8F3\",\"linecolor\":\"#EBF0F8\",\"showbackground\":true,\"ticks\":\"\",\"zerolinecolor\":\"#EBF0F8\",\"gridwidth\":2},\"yaxis\":{\"backgroundcolor\":\"white\",\"gridcolor\":\"#DFE8F3\",\"linecolor\":\"#EBF0F8\",\"showbackground\":true,\"ticks\":\"\",\"zerolinecolor\":\"#EBF0F8\",\"gridwidth\":2},\"zaxis\":{\"backgroundcolor\":\"white\",\"gridcolor\":\"#DFE8F3\",\"linecolor\":\"#EBF0F8\",\"showbackground\":true,\"ticks\":\"\",\"zerolinecolor\":\"#EBF0F8\",\"gridwidth\":2}},\"shapedefaults\":{\"line\":{\"color\":\"#2a3f5f\"}},\"annotationdefaults\":{\"arrowcolor\":\"#2a3f5f\",\"arrowhead\":0,\"arrowwidth\":1},\"geo\":{\"bgcolor\":\"white\",\"landcolor\":\"white\",\"subunitcolor\":\"#C8D4E3\",\"showland\":true,\"showlakes\":true,\"lakecolor\":\"white\"},\"title\":{\"x\":0.05},\"mapbox\":{\"style\":\"light\"}}},\"xaxis\":{\"anchor\":\"y\",\"domain\":[0.0,1.0],\"title\":{\"text\":\"Year\"}},\"yaxis\":{\"anchor\":\"x\",\"domain\":[0.0,1.0],\"title\":{\"text\":\"% Share Held by Top 20\"}},\"legend\":{\"tracegroupgap\":0},\"title\":{\"text\":\"Percentage Share of Authorship Instances by Top 20 Institutions Over Time\"},\"hovermode\":\"x unified\"},                        {\"responsive\": true}                    ).then(function(){\n",
       "                            \n",
       "var gd = document.getElementById('54bcbb94-7bc6-4064-80f5-990ec7aee6a7');\n",
       "var x = new MutationObserver(function (mutations, observer) {{\n",
       "        var display = window.getComputedStyle(gd).display;\n",
       "        if (!display || display === 'none') {{\n",
       "            console.log([gd, 'removed!']);\n",
       "            Plotly.purge(gd);\n",
       "            observer.disconnect();\n",
       "        }}\n",
       "}});\n",
       "\n",
       "// Listen for the removal of the full notebook cells\n",
       "var notebookContainer = gd.closest('#notebook-container');\n",
       "if (notebookContainer) {{\n",
       "    x.observe(notebookContainer, {childList: true});\n",
       "}}\n",
       "\n",
       "// Listen for the clearing of the current output cell\n",
       "var outputEl = gd.closest('.output');\n",
       "if (outputEl) {{\n",
       "    x.observe(outputEl, {childList: true});\n",
       "}}\n",
       "\n",
       "                        })                };            </script>        </div>"
      ]
     },
     "metadata": {},
     "output_type": "display_data"
    }
   ],
   "source": [
    "# Filter out unknown institutions\n",
    "inst_df = df[df['Institution'] != 'Unknown Institution'].copy()\n",
    "\n",
    "# Part 1: Identify Top N Institutions Overall\n",
    "N = 20\n",
    "top_n_institutions = inst_df['Institution'].value_counts().head(N).index.tolist()\n",
    "print(f\"Top {N} Institutions (Overall):\")\n",
    "print(top_n_institutions)\n",
    "\n",
    "# Part 2: Calculate Yearly Concentration Percentage\n",
    "inst_yearly_counts = inst_df.groupby(['Year', 'Institution']).size().reset_index(name='Count')\n",
    "total_yearly_inst_counts = inst_yearly_counts.groupby('Year')['Count'].sum().reset_index(name='TotalYearlyCount')\n",
    "top_n_yearly_counts = inst_yearly_counts[inst_yearly_counts['Institution'].isin(top_n_institutions)]\n",
    "top_n_yearly_sum = top_n_yearly_counts.groupby('Year')['Count'].sum().reset_index(name=f'Top{N}_Count')\n",
    "concentration_df = pd.merge(total_yearly_inst_counts, top_n_yearly_sum, on='Year', how='left').fillna(0) # Use how='left' and fillna(0)\n",
    "concentration_df[f'Top{N}_Percentage'] = (concentration_df[f'Top{N}_Count'] / concentration_df['TotalYearlyCount']) * 100\n",
    "\n",
    "# Visualization: Concentration Trend\n",
    "fig_h4_conc = px.line(concentration_df,\n",
    "                      x='Year',\n",
    "                      y=f'Top{N}_Percentage',\n",
    "                      markers=True,\n",
    "                      title=f'Percentage Share of Authorship Instances by Top {N} Institutions Over Time',\n",
    "                      labels={f'Top{N}_Percentage': f'% Share Held by Top {N}', 'Year': 'Year'})\n",
    "\n",
    "fig_h4_conc.update_layout(hovermode=\"x unified\")\n",
    "fig_h4_conc.show()"
   ]
  },
  {
   "cell_type": "markdown",
   "id": "61f31f87",
   "metadata": {},
   "source": [
    "**Findings:** The list reveals the dominant institutions overall (Google, Stanford, MIT, Tsinghua, CMU, Microsoft, Berkeley, etc.). The concentration plot shows that the Top 20 institutions consistently account for a significant portion (roughly 35% to over 50%) of the total authorship instances. While there are fluctuations, the share held by the top institutions appears to have generally increased, especially peaking around 2016-2020, before maybe slightly decreasing in the last couple of years shown.\n",
    "\n",
    "**Conclusion:** **H4 is supported.** A relatively small number of elite institutions contribute a disproportionately large share of publications, indicating significant concentration. The level of concentration seems to have increased over time, although it might have plateaued or slightly decreased very recently."
   ]
  },
  {
   "cell_type": "markdown",
   "id": "6ad13f11",
   "metadata": {},
   "source": [
    "### H5: Conference Profile Differences\n",
    "\n",
    "**Hypothesis:** The dominant contributing countries and the balance between Academia and Industry differ significantly across the three conferences (NeurIPS, ICML, ICLR).\n",
    "\n",
    "**Quantification:** Calculate percentage share by country and type *per conference*. Visualize using faceted and grouped bar charts."
   ]
  },
  {
   "cell_type": "code",
   "execution_count": 12,
   "id": "b419a173",
   "metadata": {},
   "outputs": [
    {
     "name": "stdout",
     "output_type": "stream",
     "text": [
      "\n",
      "Geographic Distribution per Conference (Top 10)\n"
     ]
    },
    {
     "data": {
      "application/vnd.plotly.v1+json": {
       "config": {
        "plotlyServerURL": "https://plot.ly"
       },
       "data": [
        {
         "hovertemplate": "Conference=NeurIPS<br>Country=%{x}<br>% of Conference Instances=%{text}<extra></extra>",
         "legendgroup": "NeurIPS",
         "marker": {
          "color": "#636efa",
          "pattern": {
           "shape": ""
          }
         },
         "name": "NeurIPS",
         "orientation": "v",
         "showlegend": true,
         "text": {
          "bdata": "ZtWeGJekR0CEk9KdrOgxQPEFgPG27hJAomNxir1jEECZvAYen/ULQJU5KWgrFQhADr8F3nYsBEAiPbmNEbkCQHbHhI8FUv8/94BOcdqk/T8=",
          "dtype": "f8"
         },
         "textposition": "outside",
         "texttemplate": "%{text:.1f}%",
         "type": "bar",
         "x": [
          "USA",
          "China",
          "UK",
          "Canada",
          "Germany",
          "France",
          "Switzerland",
          "South Korea",
          "Hong Kong",
          "Singapore"
         ],
         "xaxis": "x",
         "y": {
          "bdata": "ZtWeGJekR0CEk9KdrOgxQPEFgPG27hJAomNxir1jEECZvAYen/ULQJU5KWgrFQhADr8F3nYsBEAiPbmNEbkCQHbHhI8FUv8/94BOcdqk/T8=",
          "dtype": "f8"
         },
         "yaxis": "y"
        },
        {
         "hovertemplate": "Conference=ICML<br>Country=%{x}<br>% of Conference Instances=%{text}<extra></extra>",
         "legendgroup": "ICML",
         "marker": {
          "color": "#EF553B",
          "pattern": {
           "shape": ""
          }
         },
         "name": "ICML",
         "orientation": "v",
         "showlegend": true,
         "text": {
          "bdata": "+jTnI0HfSECH9tQvwycuQEcgnC3iuhJAVVJAwk8uEEDw7O5ZuzYMQKWAhJ9ciApABoYep9f8BkCSb95ak2QEQPuWCebVBwFAuThH26H4+j8=",
          "dtype": "f8"
         },
         "textposition": "outside",
         "texttemplate": "%{text:.1f}%",
         "type": "bar",
         "x": [
          "USA",
          "China",
          "UK",
          "Canada",
          "Germany",
          "France",
          "South Korea",
          "Switzerland",
          "Japan",
          "Israel"
         ],
         "xaxis": "x2",
         "y": {
          "bdata": "+jTnI0HfSECH9tQvwycuQEcgnC3iuhJAVVJAwk8uEEDw7O5ZuzYMQKWAhJ9ciApABoYep9f8BkCSb95ak2QEQPuWCebVBwFAuThH26H4+j8=",
          "dtype": "f8"
         },
         "yaxis": "y2"
        },
        {
         "hovertemplate": "Conference=ICLR<br>Country=%{x}<br>% of Conference Instances=%{text}<extra></extra>",
         "legendgroup": "ICLR",
         "marker": {
          "color": "#00cc96",
          "pattern": {
           "shape": ""
          }
         },
         "name": "ICLR",
         "orientation": "v",
         "showlegend": true,
         "text": {
          "bdata": "fjUm0gM1SEAlSx0htmkxQMZEeqBydhZA+NWYSA/UEEBZ6gixTSsPQIn0QOXsFgtAqqqqqqqqAEBnt/CrMZEAQGEUcGg+1/8/hl+NifRA/T8=",
          "dtype": "f8"
         },
         "textposition": "outside",
         "texttemplate": "%{text:.1f}%",
         "type": "bar",
         "x": [
          "USA",
          "China",
          "Canada",
          "UK",
          "Germany",
          "South Korea",
          "Hong Kong",
          "Switzerland",
          "France",
          "Singapore"
         ],
         "xaxis": "x3",
         "y": {
          "bdata": "fjUm0gM1SEAlSx0htmkxQMZEeqBydhZA+NWYSA/UEEBZ6gixTSsPQIn0QOXsFgtAqqqqqqqqAEBnt/CrMZEAQGEUcGg+1/8/hl+NifRA/T8=",
          "dtype": "f8"
         },
         "yaxis": "y3"
        }
       ],
       "layout": {
        "annotations": [
         {
          "showarrow": false,
          "text": "Conference=NeurIPS",
          "x": 0.15999999999999998,
          "xanchor": "center",
          "xref": "paper",
          "y": 1,
          "yanchor": "bottom",
          "yref": "paper"
         },
         {
          "showarrow": false,
          "text": "Conference=ICML",
          "x": 0.49999999999999994,
          "xanchor": "center",
          "xref": "paper",
          "y": 1,
          "yanchor": "bottom",
          "yref": "paper"
         },
         {
          "showarrow": false,
          "text": "Conference=ICLR",
          "x": 0.8399999999999999,
          "xanchor": "center",
          "xref": "paper",
          "y": 1,
          "yanchor": "bottom",
          "yref": "paper"
         },
         {
          "font": {
           "size": 12
          },
          "showarrow": false,
          "text": "Country",
          "x": 0.5,
          "xref": "paper",
          "y": -0.3,
          "yref": "paper"
         }
        ],
        "barmode": "relative",
        "legend": {
         "title": {
          "text": "Conference"
         },
         "tracegroupgap": 0
        },
        "showlegend": true,
        "template": {
         "data": {
          "bar": [
           {
            "error_x": {
             "color": "#2a3f5f"
            },
            "error_y": {
             "color": "#2a3f5f"
            },
            "marker": {
             "line": {
              "color": "white",
              "width": 0.5
             },
             "pattern": {
              "fillmode": "overlay",
              "size": 10,
              "solidity": 0.2
             }
            },
            "type": "bar"
           }
          ],
          "barpolar": [
           {
            "marker": {
             "line": {
              "color": "white",
              "width": 0.5
             },
             "pattern": {
              "fillmode": "overlay",
              "size": 10,
              "solidity": 0.2
             }
            },
            "type": "barpolar"
           }
          ],
          "carpet": [
           {
            "aaxis": {
             "endlinecolor": "#2a3f5f",
             "gridcolor": "#C8D4E3",
             "linecolor": "#C8D4E3",
             "minorgridcolor": "#C8D4E3",
             "startlinecolor": "#2a3f5f"
            },
            "baxis": {
             "endlinecolor": "#2a3f5f",
             "gridcolor": "#C8D4E3",
             "linecolor": "#C8D4E3",
             "minorgridcolor": "#C8D4E3",
             "startlinecolor": "#2a3f5f"
            },
            "type": "carpet"
           }
          ],
          "choropleth": [
           {
            "colorbar": {
             "outlinewidth": 0,
             "ticks": ""
            },
            "type": "choropleth"
           }
          ],
          "contour": [
           {
            "colorbar": {
             "outlinewidth": 0,
             "ticks": ""
            },
            "colorscale": [
             [
              0,
              "#0d0887"
             ],
             [
              0.1111111111111111,
              "#46039f"
             ],
             [
              0.2222222222222222,
              "#7201a8"
             ],
             [
              0.3333333333333333,
              "#9c179e"
             ],
             [
              0.4444444444444444,
              "#bd3786"
             ],
             [
              0.5555555555555556,
              "#d8576b"
             ],
             [
              0.6666666666666666,
              "#ed7953"
             ],
             [
              0.7777777777777778,
              "#fb9f3a"
             ],
             [
              0.8888888888888888,
              "#fdca26"
             ],
             [
              1,
              "#f0f921"
             ]
            ],
            "type": "contour"
           }
          ],
          "contourcarpet": [
           {
            "colorbar": {
             "outlinewidth": 0,
             "ticks": ""
            },
            "type": "contourcarpet"
           }
          ],
          "heatmap": [
           {
            "colorbar": {
             "outlinewidth": 0,
             "ticks": ""
            },
            "colorscale": [
             [
              0,
              "#0d0887"
             ],
             [
              0.1111111111111111,
              "#46039f"
             ],
             [
              0.2222222222222222,
              "#7201a8"
             ],
             [
              0.3333333333333333,
              "#9c179e"
             ],
             [
              0.4444444444444444,
              "#bd3786"
             ],
             [
              0.5555555555555556,
              "#d8576b"
             ],
             [
              0.6666666666666666,
              "#ed7953"
             ],
             [
              0.7777777777777778,
              "#fb9f3a"
             ],
             [
              0.8888888888888888,
              "#fdca26"
             ],
             [
              1,
              "#f0f921"
             ]
            ],
            "type": "heatmap"
           }
          ],
          "histogram": [
           {
            "marker": {
             "pattern": {
              "fillmode": "overlay",
              "size": 10,
              "solidity": 0.2
             }
            },
            "type": "histogram"
           }
          ],
          "histogram2d": [
           {
            "colorbar": {
             "outlinewidth": 0,
             "ticks": ""
            },
            "colorscale": [
             [
              0,
              "#0d0887"
             ],
             [
              0.1111111111111111,
              "#46039f"
             ],
             [
              0.2222222222222222,
              "#7201a8"
             ],
             [
              0.3333333333333333,
              "#9c179e"
             ],
             [
              0.4444444444444444,
              "#bd3786"
             ],
             [
              0.5555555555555556,
              "#d8576b"
             ],
             [
              0.6666666666666666,
              "#ed7953"
             ],
             [
              0.7777777777777778,
              "#fb9f3a"
             ],
             [
              0.8888888888888888,
              "#fdca26"
             ],
             [
              1,
              "#f0f921"
             ]
            ],
            "type": "histogram2d"
           }
          ],
          "histogram2dcontour": [
           {
            "colorbar": {
             "outlinewidth": 0,
             "ticks": ""
            },
            "colorscale": [
             [
              0,
              "#0d0887"
             ],
             [
              0.1111111111111111,
              "#46039f"
             ],
             [
              0.2222222222222222,
              "#7201a8"
             ],
             [
              0.3333333333333333,
              "#9c179e"
             ],
             [
              0.4444444444444444,
              "#bd3786"
             ],
             [
              0.5555555555555556,
              "#d8576b"
             ],
             [
              0.6666666666666666,
              "#ed7953"
             ],
             [
              0.7777777777777778,
              "#fb9f3a"
             ],
             [
              0.8888888888888888,
              "#fdca26"
             ],
             [
              1,
              "#f0f921"
             ]
            ],
            "type": "histogram2dcontour"
           }
          ],
          "mesh3d": [
           {
            "colorbar": {
             "outlinewidth": 0,
             "ticks": ""
            },
            "type": "mesh3d"
           }
          ],
          "parcoords": [
           {
            "line": {
             "colorbar": {
              "outlinewidth": 0,
              "ticks": ""
             }
            },
            "type": "parcoords"
           }
          ],
          "pie": [
           {
            "automargin": true,
            "type": "pie"
           }
          ],
          "scatter": [
           {
            "fillpattern": {
             "fillmode": "overlay",
             "size": 10,
             "solidity": 0.2
            },
            "type": "scatter"
           }
          ],
          "scatter3d": [
           {
            "line": {
             "colorbar": {
              "outlinewidth": 0,
              "ticks": ""
             }
            },
            "marker": {
             "colorbar": {
              "outlinewidth": 0,
              "ticks": ""
             }
            },
            "type": "scatter3d"
           }
          ],
          "scattercarpet": [
           {
            "marker": {
             "colorbar": {
              "outlinewidth": 0,
              "ticks": ""
             }
            },
            "type": "scattercarpet"
           }
          ],
          "scattergeo": [
           {
            "marker": {
             "colorbar": {
              "outlinewidth": 0,
              "ticks": ""
             }
            },
            "type": "scattergeo"
           }
          ],
          "scattergl": [
           {
            "marker": {
             "colorbar": {
              "outlinewidth": 0,
              "ticks": ""
             }
            },
            "type": "scattergl"
           }
          ],
          "scattermap": [
           {
            "marker": {
             "colorbar": {
              "outlinewidth": 0,
              "ticks": ""
             }
            },
            "type": "scattermap"
           }
          ],
          "scattermapbox": [
           {
            "marker": {
             "colorbar": {
              "outlinewidth": 0,
              "ticks": ""
             }
            },
            "type": "scattermapbox"
           }
          ],
          "scatterpolar": [
           {
            "marker": {
             "colorbar": {
              "outlinewidth": 0,
              "ticks": ""
             }
            },
            "type": "scatterpolar"
           }
          ],
          "scatterpolargl": [
           {
            "marker": {
             "colorbar": {
              "outlinewidth": 0,
              "ticks": ""
             }
            },
            "type": "scatterpolargl"
           }
          ],
          "scatterternary": [
           {
            "marker": {
             "colorbar": {
              "outlinewidth": 0,
              "ticks": ""
             }
            },
            "type": "scatterternary"
           }
          ],
          "surface": [
           {
            "colorbar": {
             "outlinewidth": 0,
             "ticks": ""
            },
            "colorscale": [
             [
              0,
              "#0d0887"
             ],
             [
              0.1111111111111111,
              "#46039f"
             ],
             [
              0.2222222222222222,
              "#7201a8"
             ],
             [
              0.3333333333333333,
              "#9c179e"
             ],
             [
              0.4444444444444444,
              "#bd3786"
             ],
             [
              0.5555555555555556,
              "#d8576b"
             ],
             [
              0.6666666666666666,
              "#ed7953"
             ],
             [
              0.7777777777777778,
              "#fb9f3a"
             ],
             [
              0.8888888888888888,
              "#fdca26"
             ],
             [
              1,
              "#f0f921"
             ]
            ],
            "type": "surface"
           }
          ],
          "table": [
           {
            "cells": {
             "fill": {
              "color": "#EBF0F8"
             },
             "line": {
              "color": "white"
             }
            },
            "header": {
             "fill": {
              "color": "#C8D4E3"
             },
             "line": {
              "color": "white"
             }
            },
            "type": "table"
           }
          ]
         },
         "layout": {
          "annotationdefaults": {
           "arrowcolor": "#2a3f5f",
           "arrowhead": 0,
           "arrowwidth": 1
          },
          "autotypenumbers": "strict",
          "coloraxis": {
           "colorbar": {
            "outlinewidth": 0,
            "ticks": ""
           }
          },
          "colorscale": {
           "diverging": [
            [
             0,
             "#8e0152"
            ],
            [
             0.1,
             "#c51b7d"
            ],
            [
             0.2,
             "#de77ae"
            ],
            [
             0.3,
             "#f1b6da"
            ],
            [
             0.4,
             "#fde0ef"
            ],
            [
             0.5,
             "#f7f7f7"
            ],
            [
             0.6,
             "#e6f5d0"
            ],
            [
             0.7,
             "#b8e186"
            ],
            [
             0.8,
             "#7fbc41"
            ],
            [
             0.9,
             "#4d9221"
            ],
            [
             1,
             "#276419"
            ]
           ],
           "sequential": [
            [
             0,
             "#0d0887"
            ],
            [
             0.1111111111111111,
             "#46039f"
            ],
            [
             0.2222222222222222,
             "#7201a8"
            ],
            [
             0.3333333333333333,
             "#9c179e"
            ],
            [
             0.4444444444444444,
             "#bd3786"
            ],
            [
             0.5555555555555556,
             "#d8576b"
            ],
            [
             0.6666666666666666,
             "#ed7953"
            ],
            [
             0.7777777777777778,
             "#fb9f3a"
            ],
            [
             0.8888888888888888,
             "#fdca26"
            ],
            [
             1,
             "#f0f921"
            ]
           ],
           "sequentialminus": [
            [
             0,
             "#0d0887"
            ],
            [
             0.1111111111111111,
             "#46039f"
            ],
            [
             0.2222222222222222,
             "#7201a8"
            ],
            [
             0.3333333333333333,
             "#9c179e"
            ],
            [
             0.4444444444444444,
             "#bd3786"
            ],
            [
             0.5555555555555556,
             "#d8576b"
            ],
            [
             0.6666666666666666,
             "#ed7953"
            ],
            [
             0.7777777777777778,
             "#fb9f3a"
            ],
            [
             0.8888888888888888,
             "#fdca26"
            ],
            [
             1,
             "#f0f921"
            ]
           ]
          },
          "colorway": [
           "#636efa",
           "#EF553B",
           "#00cc96",
           "#ab63fa",
           "#FFA15A",
           "#19d3f3",
           "#FF6692",
           "#B6E880",
           "#FF97FF",
           "#FECB52"
          ],
          "font": {
           "color": "#2a3f5f"
          },
          "geo": {
           "bgcolor": "white",
           "lakecolor": "white",
           "landcolor": "white",
           "showlakes": true,
           "showland": true,
           "subunitcolor": "#C8D4E3"
          },
          "hoverlabel": {
           "align": "left"
          },
          "hovermode": "closest",
          "mapbox": {
           "style": "light"
          },
          "paper_bgcolor": "white",
          "plot_bgcolor": "white",
          "polar": {
           "angularaxis": {
            "gridcolor": "#EBF0F8",
            "linecolor": "#EBF0F8",
            "ticks": ""
           },
           "bgcolor": "white",
           "radialaxis": {
            "gridcolor": "#EBF0F8",
            "linecolor": "#EBF0F8",
            "ticks": ""
           }
          },
          "scene": {
           "xaxis": {
            "backgroundcolor": "white",
            "gridcolor": "#DFE8F3",
            "gridwidth": 2,
            "linecolor": "#EBF0F8",
            "showbackground": true,
            "ticks": "",
            "zerolinecolor": "#EBF0F8"
           },
           "yaxis": {
            "backgroundcolor": "white",
            "gridcolor": "#DFE8F3",
            "gridwidth": 2,
            "linecolor": "#EBF0F8",
            "showbackground": true,
            "ticks": "",
            "zerolinecolor": "#EBF0F8"
           },
           "zaxis": {
            "backgroundcolor": "white",
            "gridcolor": "#DFE8F3",
            "gridwidth": 2,
            "linecolor": "#EBF0F8",
            "showbackground": true,
            "ticks": "",
            "zerolinecolor": "#EBF0F8"
           }
          },
          "shapedefaults": {
           "line": {
            "color": "#2a3f5f"
           }
          },
          "ternary": {
           "aaxis": {
            "gridcolor": "#DFE8F3",
            "linecolor": "#A2B1C6",
            "ticks": ""
           },
           "baxis": {
            "gridcolor": "#DFE8F3",
            "linecolor": "#A2B1C6",
            "ticks": ""
           },
           "bgcolor": "white",
           "caxis": {
            "gridcolor": "#DFE8F3",
            "linecolor": "#A2B1C6",
            "ticks": ""
           }
          },
          "title": {
           "x": 0.05
          },
          "xaxis": {
           "automargin": true,
           "gridcolor": "#EBF0F8",
           "linecolor": "#EBF0F8",
           "ticks": "",
           "title": {
            "standoff": 15
           },
           "zerolinecolor": "#EBF0F8",
           "zerolinewidth": 2
          },
          "yaxis": {
           "automargin": true,
           "gridcolor": "#EBF0F8",
           "linecolor": "#EBF0F8",
           "ticks": "",
           "title": {
            "standoff": 15
           },
           "zerolinecolor": "#EBF0F8",
           "zerolinewidth": 2
          }
         }
        },
        "title": {
         "text": "Top 10 Contributing Countries by Conference (% of Total Instances per Conference)"
        },
        "xaxis": {
         "anchor": "y",
         "domain": [
          0,
          0.31999999999999995
         ],
         "showticklabels": true,
         "title": {
          "text": ""
         }
        },
        "xaxis2": {
         "anchor": "y2",
         "domain": [
          0.33999999999999997,
          0.6599999999999999
         ],
         "showticklabels": true,
         "title": {
          "text": ""
         }
        },
        "xaxis3": {
         "anchor": "y3",
         "domain": [
          0.6799999999999999,
          0.9999999999999999
         ],
         "showticklabels": true,
         "title": {
          "text": ""
         }
        },
        "yaxis": {
         "anchor": "x",
         "domain": [
          0,
          1
         ],
         "title": {
          "text": "% of Conference Instances"
         }
        },
        "yaxis2": {
         "anchor": "x2",
         "domain": [
          0,
          1
         ],
         "matches": "y",
         "showticklabels": false
        },
        "yaxis3": {
         "anchor": "x3",
         "domain": [
          0,
          1
         ],
         "matches": "y",
         "showticklabels": false
        }
       }
      },
      "text/html": [
       "<div>            <script src=\"https://cdnjs.cloudflare.com/ajax/libs/mathjax/2.7.5/MathJax.js?config=TeX-AMS-MML_SVG\"></script><script type=\"text/javascript\">if (window.MathJax && window.MathJax.Hub && window.MathJax.Hub.Config) {window.MathJax.Hub.Config({SVG: {font: \"STIX-Web\"}});}</script>                <script type=\"text/javascript\">window.PlotlyConfig = {MathJaxConfig: 'local'};</script>\n",
       "        <script charset=\"utf-8\" src=\"https://cdn.plot.ly/plotly-3.0.1.min.js\"></script>                <div id=\"0232c0b1-819b-4bb5-8ac8-4c1399caea2b\" class=\"plotly-graph-div\" style=\"height:525px; width:100%;\"></div>            <script type=\"text/javascript\">                window.PLOTLYENV=window.PLOTLYENV || {};                                if (document.getElementById(\"0232c0b1-819b-4bb5-8ac8-4c1399caea2b\")) {                    Plotly.newPlot(                        \"0232c0b1-819b-4bb5-8ac8-4c1399caea2b\",                        [{\"hovertemplate\":\"Conference=NeurIPS\\u003cbr\\u003eCountry=%{x}\\u003cbr\\u003e% of Conference Instances=%{text}\\u003cextra\\u003e\\u003c\\u002fextra\\u003e\",\"legendgroup\":\"NeurIPS\",\"marker\":{\"color\":\"#636efa\",\"pattern\":{\"shape\":\"\"}},\"name\":\"NeurIPS\",\"orientation\":\"v\",\"showlegend\":true,\"text\":{\"dtype\":\"f8\",\"bdata\":\"ZtWeGJekR0CEk9KdrOgxQPEFgPG27hJAomNxir1jEECZvAYen\\u002fULQJU5KWgrFQhADr8F3nYsBEAiPbmNEbkCQHbHhI8FUv8\\u002f94BOcdqk\\u002fT8=\"},\"textposition\":\"outside\",\"x\":[\"USA\",\"China\",\"UK\",\"Canada\",\"Germany\",\"France\",\"Switzerland\",\"South Korea\",\"Hong Kong\",\"Singapore\"],\"xaxis\":\"x\",\"y\":{\"dtype\":\"f8\",\"bdata\":\"ZtWeGJekR0CEk9KdrOgxQPEFgPG27hJAomNxir1jEECZvAYen\\u002fULQJU5KWgrFQhADr8F3nYsBEAiPbmNEbkCQHbHhI8FUv8\\u002f94BOcdqk\\u002fT8=\"},\"yaxis\":\"y\",\"type\":\"bar\",\"texttemplate\":\"%{text:.1f}%\"},{\"hovertemplate\":\"Conference=ICML\\u003cbr\\u003eCountry=%{x}\\u003cbr\\u003e% of Conference Instances=%{text}\\u003cextra\\u003e\\u003c\\u002fextra\\u003e\",\"legendgroup\":\"ICML\",\"marker\":{\"color\":\"#EF553B\",\"pattern\":{\"shape\":\"\"}},\"name\":\"ICML\",\"orientation\":\"v\",\"showlegend\":true,\"text\":{\"dtype\":\"f8\",\"bdata\":\"+jTnI0HfSECH9tQvwycuQEcgnC3iuhJAVVJAwk8uEEDw7O5ZuzYMQKWAhJ9ciApABoYep9f8BkCSb95ak2QEQPuWCebVBwFAuThH26H4+j8=\"},\"textposition\":\"outside\",\"x\":[\"USA\",\"China\",\"UK\",\"Canada\",\"Germany\",\"France\",\"South Korea\",\"Switzerland\",\"Japan\",\"Israel\"],\"xaxis\":\"x2\",\"y\":{\"dtype\":\"f8\",\"bdata\":\"+jTnI0HfSECH9tQvwycuQEcgnC3iuhJAVVJAwk8uEEDw7O5ZuzYMQKWAhJ9ciApABoYep9f8BkCSb95ak2QEQPuWCebVBwFAuThH26H4+j8=\"},\"yaxis\":\"y2\",\"type\":\"bar\",\"texttemplate\":\"%{text:.1f}%\"},{\"hovertemplate\":\"Conference=ICLR\\u003cbr\\u003eCountry=%{x}\\u003cbr\\u003e% of Conference Instances=%{text}\\u003cextra\\u003e\\u003c\\u002fextra\\u003e\",\"legendgroup\":\"ICLR\",\"marker\":{\"color\":\"#00cc96\",\"pattern\":{\"shape\":\"\"}},\"name\":\"ICLR\",\"orientation\":\"v\",\"showlegend\":true,\"text\":{\"dtype\":\"f8\",\"bdata\":\"fjUm0gM1SEAlSx0htmkxQMZEeqBydhZA+NWYSA\\u002fUEEBZ6gixTSsPQIn0QOXsFgtAqqqqqqqqAEBnt\\u002fCrMZEAQGEUcGg+1\\u002f8\\u002fhl+NifRA\\u002fT8=\"},\"textposition\":\"outside\",\"x\":[\"USA\",\"China\",\"Canada\",\"UK\",\"Germany\",\"South Korea\",\"Hong Kong\",\"Switzerland\",\"France\",\"Singapore\"],\"xaxis\":\"x3\",\"y\":{\"dtype\":\"f8\",\"bdata\":\"fjUm0gM1SEAlSx0htmkxQMZEeqBydhZA+NWYSA\\u002fUEEBZ6gixTSsPQIn0QOXsFgtAqqqqqqqqAEBnt\\u002fCrMZEAQGEUcGg+1\\u002f8\\u002fhl+NifRA\\u002fT8=\"},\"yaxis\":\"y3\",\"type\":\"bar\",\"texttemplate\":\"%{text:.1f}%\"}],                        {\"template\":{\"data\":{\"histogram2dcontour\":[{\"type\":\"histogram2dcontour\",\"colorbar\":{\"outlinewidth\":0,\"ticks\":\"\"},\"colorscale\":[[0.0,\"#0d0887\"],[0.1111111111111111,\"#46039f\"],[0.2222222222222222,\"#7201a8\"],[0.3333333333333333,\"#9c179e\"],[0.4444444444444444,\"#bd3786\"],[0.5555555555555556,\"#d8576b\"],[0.6666666666666666,\"#ed7953\"],[0.7777777777777778,\"#fb9f3a\"],[0.8888888888888888,\"#fdca26\"],[1.0,\"#f0f921\"]]}],\"choropleth\":[{\"type\":\"choropleth\",\"colorbar\":{\"outlinewidth\":0,\"ticks\":\"\"}}],\"histogram2d\":[{\"type\":\"histogram2d\",\"colorbar\":{\"outlinewidth\":0,\"ticks\":\"\"},\"colorscale\":[[0.0,\"#0d0887\"],[0.1111111111111111,\"#46039f\"],[0.2222222222222222,\"#7201a8\"],[0.3333333333333333,\"#9c179e\"],[0.4444444444444444,\"#bd3786\"],[0.5555555555555556,\"#d8576b\"],[0.6666666666666666,\"#ed7953\"],[0.7777777777777778,\"#fb9f3a\"],[0.8888888888888888,\"#fdca26\"],[1.0,\"#f0f921\"]]}],\"heatmap\":[{\"type\":\"heatmap\",\"colorbar\":{\"outlinewidth\":0,\"ticks\":\"\"},\"colorscale\":[[0.0,\"#0d0887\"],[0.1111111111111111,\"#46039f\"],[0.2222222222222222,\"#7201a8\"],[0.3333333333333333,\"#9c179e\"],[0.4444444444444444,\"#bd3786\"],[0.5555555555555556,\"#d8576b\"],[0.6666666666666666,\"#ed7953\"],[0.7777777777777778,\"#fb9f3a\"],[0.8888888888888888,\"#fdca26\"],[1.0,\"#f0f921\"]]}],\"contourcarpet\":[{\"type\":\"contourcarpet\",\"colorbar\":{\"outlinewidth\":0,\"ticks\":\"\"}}],\"contour\":[{\"type\":\"contour\",\"colorbar\":{\"outlinewidth\":0,\"ticks\":\"\"},\"colorscale\":[[0.0,\"#0d0887\"],[0.1111111111111111,\"#46039f\"],[0.2222222222222222,\"#7201a8\"],[0.3333333333333333,\"#9c179e\"],[0.4444444444444444,\"#bd3786\"],[0.5555555555555556,\"#d8576b\"],[0.6666666666666666,\"#ed7953\"],[0.7777777777777778,\"#fb9f3a\"],[0.8888888888888888,\"#fdca26\"],[1.0,\"#f0f921\"]]}],\"surface\":[{\"type\":\"surface\",\"colorbar\":{\"outlinewidth\":0,\"ticks\":\"\"},\"colorscale\":[[0.0,\"#0d0887\"],[0.1111111111111111,\"#46039f\"],[0.2222222222222222,\"#7201a8\"],[0.3333333333333333,\"#9c179e\"],[0.4444444444444444,\"#bd3786\"],[0.5555555555555556,\"#d8576b\"],[0.6666666666666666,\"#ed7953\"],[0.7777777777777778,\"#fb9f3a\"],[0.8888888888888888,\"#fdca26\"],[1.0,\"#f0f921\"]]}],\"mesh3d\":[{\"type\":\"mesh3d\",\"colorbar\":{\"outlinewidth\":0,\"ticks\":\"\"}}],\"scatter\":[{\"fillpattern\":{\"fillmode\":\"overlay\",\"size\":10,\"solidity\":0.2},\"type\":\"scatter\"}],\"parcoords\":[{\"type\":\"parcoords\",\"line\":{\"colorbar\":{\"outlinewidth\":0,\"ticks\":\"\"}}}],\"scatterpolargl\":[{\"type\":\"scatterpolargl\",\"marker\":{\"colorbar\":{\"outlinewidth\":0,\"ticks\":\"\"}}}],\"bar\":[{\"error_x\":{\"color\":\"#2a3f5f\"},\"error_y\":{\"color\":\"#2a3f5f\"},\"marker\":{\"line\":{\"color\":\"white\",\"width\":0.5},\"pattern\":{\"fillmode\":\"overlay\",\"size\":10,\"solidity\":0.2}},\"type\":\"bar\"}],\"scattergeo\":[{\"type\":\"scattergeo\",\"marker\":{\"colorbar\":{\"outlinewidth\":0,\"ticks\":\"\"}}}],\"scatterpolar\":[{\"type\":\"scatterpolar\",\"marker\":{\"colorbar\":{\"outlinewidth\":0,\"ticks\":\"\"}}}],\"histogram\":[{\"marker\":{\"pattern\":{\"fillmode\":\"overlay\",\"size\":10,\"solidity\":0.2}},\"type\":\"histogram\"}],\"scattergl\":[{\"type\":\"scattergl\",\"marker\":{\"colorbar\":{\"outlinewidth\":0,\"ticks\":\"\"}}}],\"scatter3d\":[{\"type\":\"scatter3d\",\"line\":{\"colorbar\":{\"outlinewidth\":0,\"ticks\":\"\"}},\"marker\":{\"colorbar\":{\"outlinewidth\":0,\"ticks\":\"\"}}}],\"scattermap\":[{\"type\":\"scattermap\",\"marker\":{\"colorbar\":{\"outlinewidth\":0,\"ticks\":\"\"}}}],\"scattermapbox\":[{\"type\":\"scattermapbox\",\"marker\":{\"colorbar\":{\"outlinewidth\":0,\"ticks\":\"\"}}}],\"scatterternary\":[{\"type\":\"scatterternary\",\"marker\":{\"colorbar\":{\"outlinewidth\":0,\"ticks\":\"\"}}}],\"scattercarpet\":[{\"type\":\"scattercarpet\",\"marker\":{\"colorbar\":{\"outlinewidth\":0,\"ticks\":\"\"}}}],\"carpet\":[{\"aaxis\":{\"endlinecolor\":\"#2a3f5f\",\"gridcolor\":\"#C8D4E3\",\"linecolor\":\"#C8D4E3\",\"minorgridcolor\":\"#C8D4E3\",\"startlinecolor\":\"#2a3f5f\"},\"baxis\":{\"endlinecolor\":\"#2a3f5f\",\"gridcolor\":\"#C8D4E3\",\"linecolor\":\"#C8D4E3\",\"minorgridcolor\":\"#C8D4E3\",\"startlinecolor\":\"#2a3f5f\"},\"type\":\"carpet\"}],\"table\":[{\"cells\":{\"fill\":{\"color\":\"#EBF0F8\"},\"line\":{\"color\":\"white\"}},\"header\":{\"fill\":{\"color\":\"#C8D4E3\"},\"line\":{\"color\":\"white\"}},\"type\":\"table\"}],\"barpolar\":[{\"marker\":{\"line\":{\"color\":\"white\",\"width\":0.5},\"pattern\":{\"fillmode\":\"overlay\",\"size\":10,\"solidity\":0.2}},\"type\":\"barpolar\"}],\"pie\":[{\"automargin\":true,\"type\":\"pie\"}]},\"layout\":{\"autotypenumbers\":\"strict\",\"colorway\":[\"#636efa\",\"#EF553B\",\"#00cc96\",\"#ab63fa\",\"#FFA15A\",\"#19d3f3\",\"#FF6692\",\"#B6E880\",\"#FF97FF\",\"#FECB52\"],\"font\":{\"color\":\"#2a3f5f\"},\"hovermode\":\"closest\",\"hoverlabel\":{\"align\":\"left\"},\"paper_bgcolor\":\"white\",\"plot_bgcolor\":\"white\",\"polar\":{\"bgcolor\":\"white\",\"angularaxis\":{\"gridcolor\":\"#EBF0F8\",\"linecolor\":\"#EBF0F8\",\"ticks\":\"\"},\"radialaxis\":{\"gridcolor\":\"#EBF0F8\",\"linecolor\":\"#EBF0F8\",\"ticks\":\"\"}},\"ternary\":{\"bgcolor\":\"white\",\"aaxis\":{\"gridcolor\":\"#DFE8F3\",\"linecolor\":\"#A2B1C6\",\"ticks\":\"\"},\"baxis\":{\"gridcolor\":\"#DFE8F3\",\"linecolor\":\"#A2B1C6\",\"ticks\":\"\"},\"caxis\":{\"gridcolor\":\"#DFE8F3\",\"linecolor\":\"#A2B1C6\",\"ticks\":\"\"}},\"coloraxis\":{\"colorbar\":{\"outlinewidth\":0,\"ticks\":\"\"}},\"colorscale\":{\"sequential\":[[0.0,\"#0d0887\"],[0.1111111111111111,\"#46039f\"],[0.2222222222222222,\"#7201a8\"],[0.3333333333333333,\"#9c179e\"],[0.4444444444444444,\"#bd3786\"],[0.5555555555555556,\"#d8576b\"],[0.6666666666666666,\"#ed7953\"],[0.7777777777777778,\"#fb9f3a\"],[0.8888888888888888,\"#fdca26\"],[1.0,\"#f0f921\"]],\"sequentialminus\":[[0.0,\"#0d0887\"],[0.1111111111111111,\"#46039f\"],[0.2222222222222222,\"#7201a8\"],[0.3333333333333333,\"#9c179e\"],[0.4444444444444444,\"#bd3786\"],[0.5555555555555556,\"#d8576b\"],[0.6666666666666666,\"#ed7953\"],[0.7777777777777778,\"#fb9f3a\"],[0.8888888888888888,\"#fdca26\"],[1.0,\"#f0f921\"]],\"diverging\":[[0,\"#8e0152\"],[0.1,\"#c51b7d\"],[0.2,\"#de77ae\"],[0.3,\"#f1b6da\"],[0.4,\"#fde0ef\"],[0.5,\"#f7f7f7\"],[0.6,\"#e6f5d0\"],[0.7,\"#b8e186\"],[0.8,\"#7fbc41\"],[0.9,\"#4d9221\"],[1,\"#276419\"]]},\"xaxis\":{\"gridcolor\":\"#EBF0F8\",\"linecolor\":\"#EBF0F8\",\"ticks\":\"\",\"title\":{\"standoff\":15},\"zerolinecolor\":\"#EBF0F8\",\"automargin\":true,\"zerolinewidth\":2},\"yaxis\":{\"gridcolor\":\"#EBF0F8\",\"linecolor\":\"#EBF0F8\",\"ticks\":\"\",\"title\":{\"standoff\":15},\"zerolinecolor\":\"#EBF0F8\",\"automargin\":true,\"zerolinewidth\":2},\"scene\":{\"xaxis\":{\"backgroundcolor\":\"white\",\"gridcolor\":\"#DFE8F3\",\"linecolor\":\"#EBF0F8\",\"showbackground\":true,\"ticks\":\"\",\"zerolinecolor\":\"#EBF0F8\",\"gridwidth\":2},\"yaxis\":{\"backgroundcolor\":\"white\",\"gridcolor\":\"#DFE8F3\",\"linecolor\":\"#EBF0F8\",\"showbackground\":true,\"ticks\":\"\",\"zerolinecolor\":\"#EBF0F8\",\"gridwidth\":2},\"zaxis\":{\"backgroundcolor\":\"white\",\"gridcolor\":\"#DFE8F3\",\"linecolor\":\"#EBF0F8\",\"showbackground\":true,\"ticks\":\"\",\"zerolinecolor\":\"#EBF0F8\",\"gridwidth\":2}},\"shapedefaults\":{\"line\":{\"color\":\"#2a3f5f\"}},\"annotationdefaults\":{\"arrowcolor\":\"#2a3f5f\",\"arrowhead\":0,\"arrowwidth\":1},\"geo\":{\"bgcolor\":\"white\",\"landcolor\":\"white\",\"subunitcolor\":\"#C8D4E3\",\"showland\":true,\"showlakes\":true,\"lakecolor\":\"white\"},\"title\":{\"x\":0.05},\"mapbox\":{\"style\":\"light\"}}},\"xaxis\":{\"anchor\":\"y\",\"domain\":[0.0,0.31999999999999995],\"title\":{\"text\":\"\"},\"showticklabels\":true},\"yaxis\":{\"anchor\":\"x\",\"domain\":[0.0,1.0],\"title\":{\"text\":\"% of Conference Instances\"}},\"xaxis2\":{\"anchor\":\"y2\",\"domain\":[0.33999999999999997,0.6599999999999999],\"title\":{\"text\":\"\"},\"showticklabels\":true},\"yaxis2\":{\"anchor\":\"x2\",\"domain\":[0.0,1.0],\"matches\":\"y\",\"showticklabels\":false},\"xaxis3\":{\"anchor\":\"y3\",\"domain\":[0.6799999999999999,0.9999999999999999],\"title\":{\"text\":\"\"},\"showticklabels\":true},\"yaxis3\":{\"anchor\":\"x3\",\"domain\":[0.0,1.0],\"matches\":\"y\",\"showticklabels\":false},\"annotations\":[{\"showarrow\":false,\"text\":\"Conference=NeurIPS\",\"x\":0.15999999999999998,\"xanchor\":\"center\",\"xref\":\"paper\",\"y\":1.0,\"yanchor\":\"bottom\",\"yref\":\"paper\"},{\"showarrow\":false,\"text\":\"Conference=ICML\",\"x\":0.49999999999999994,\"xanchor\":\"center\",\"xref\":\"paper\",\"y\":1.0,\"yanchor\":\"bottom\",\"yref\":\"paper\"},{\"showarrow\":false,\"text\":\"Conference=ICLR\",\"x\":0.8399999999999999,\"xanchor\":\"center\",\"xref\":\"paper\",\"y\":1.0,\"yanchor\":\"bottom\",\"yref\":\"paper\"},{\"font\":{\"size\":12},\"showarrow\":false,\"text\":\"Country\",\"x\":0.5,\"xref\":\"paper\",\"y\":-0.3,\"yref\":\"paper\"}],\"legend\":{\"title\":{\"text\":\"Conference\"},\"tracegroupgap\":0},\"title\":{\"text\":\"Top 10 Contributing Countries by Conference (% of Total Instances per Conference)\"},\"barmode\":\"relative\",\"showlegend\":true},                        {\"responsive\": true}                    ).then(function(){\n",
       "                            \n",
       "var gd = document.getElementById('0232c0b1-819b-4bb5-8ac8-4c1399caea2b');\n",
       "var x = new MutationObserver(function (mutations, observer) {{\n",
       "        var display = window.getComputedStyle(gd).display;\n",
       "        if (!display || display === 'none') {{\n",
       "            console.log([gd, 'removed!']);\n",
       "            Plotly.purge(gd);\n",
       "            observer.disconnect();\n",
       "        }}\n",
       "}});\n",
       "\n",
       "// Listen for the removal of the full notebook cells\n",
       "var notebookContainer = gd.closest('#notebook-container');\n",
       "if (notebookContainer) {{\n",
       "    x.observe(notebookContainer, {childList: true});\n",
       "}}\n",
       "\n",
       "// Listen for the clearing of the current output cell\n",
       "var outputEl = gd.closest('.output');\n",
       "if (outputEl) {{\n",
       "    x.observe(outputEl, {childList: true});\n",
       "}}\n",
       "\n",
       "                        })                };            </script>        </div>"
      ]
     },
     "metadata": {},
     "output_type": "display_data"
    },
    {
     "name": "stdout",
     "output_type": "stream",
     "text": [
      "\n",
      "Academia vs. Industry Distribution per Conference\n"
     ]
    },
    {
     "data": {
      "application/vnd.plotly.v1+json": {
       "config": {
        "plotlyServerURL": "https://plot.ly"
       },
       "data": [
        {
         "alignmentgroup": "True",
         "hovertemplate": "Institution Type=Academia<br>Conference=%{x}<br>% of Conference Instances=%{text}<extra></extra>",
         "legendgroup": "Academia",
         "marker": {
          "color": "#636efa",
          "pattern": {
           "shape": ""
          }
         },
         "name": "Academia",
         "offsetgroup": "Academia",
         "orientation": "v",
         "showlegend": true,
         "text": {
          "bdata": "N+DE/XKrUkAg4xFu9CFTQBqvVdM7rFNA",
          "dtype": "f8"
         },
         "textposition": "outside",
         "texttemplate": "%{text:.1f}%",
         "type": "bar",
         "x": [
          "ICLR",
          "ICML",
          "NeurIPS"
         ],
         "xaxis": "x",
         "y": {
          "bdata": "N+DE/XKrUkAg4xFu9CFTQBqvVdM7rFNA",
          "dtype": "f8"
         },
         "yaxis": "y"
        },
        {
         "alignmentgroup": "True",
         "hovertemplate": "Institution Type=Industry<br>Conference=%{x}<br>% of Conference Instances=%{text}<extra></extra>",
         "legendgroup": "Industry",
         "marker": {
          "color": "#EF553B",
          "pattern": {
           "shape": ""
          }
         },
         "name": "Industry",
         "offsetgroup": "Industry",
         "orientation": "v",
         "showlegend": true,
         "text": {
          "bdata": "JX/sCDRSOUB/c7hHLng3QJlDqbIQTzVA",
          "dtype": "f8"
         },
         "textposition": "outside",
         "texttemplate": "%{text:.1f}%",
         "type": "bar",
         "x": [
          "ICLR",
          "ICML",
          "NeurIPS"
         ],
         "xaxis": "x",
         "y": {
          "bdata": "JX/sCDRSOUB/c7hHLng3QJlDqbIQTzVA",
          "dtype": "f8"
         },
         "yaxis": "y"
        }
       ],
       "layout": {
        "barmode": "group",
        "legend": {
         "title": {
          "text": "Institution Type"
         },
         "tracegroupgap": 0
        },
        "template": {
         "data": {
          "bar": [
           {
            "error_x": {
             "color": "#2a3f5f"
            },
            "error_y": {
             "color": "#2a3f5f"
            },
            "marker": {
             "line": {
              "color": "white",
              "width": 0.5
             },
             "pattern": {
              "fillmode": "overlay",
              "size": 10,
              "solidity": 0.2
             }
            },
            "type": "bar"
           }
          ],
          "barpolar": [
           {
            "marker": {
             "line": {
              "color": "white",
              "width": 0.5
             },
             "pattern": {
              "fillmode": "overlay",
              "size": 10,
              "solidity": 0.2
             }
            },
            "type": "barpolar"
           }
          ],
          "carpet": [
           {
            "aaxis": {
             "endlinecolor": "#2a3f5f",
             "gridcolor": "#C8D4E3",
             "linecolor": "#C8D4E3",
             "minorgridcolor": "#C8D4E3",
             "startlinecolor": "#2a3f5f"
            },
            "baxis": {
             "endlinecolor": "#2a3f5f",
             "gridcolor": "#C8D4E3",
             "linecolor": "#C8D4E3",
             "minorgridcolor": "#C8D4E3",
             "startlinecolor": "#2a3f5f"
            },
            "type": "carpet"
           }
          ],
          "choropleth": [
           {
            "colorbar": {
             "outlinewidth": 0,
             "ticks": ""
            },
            "type": "choropleth"
           }
          ],
          "contour": [
           {
            "colorbar": {
             "outlinewidth": 0,
             "ticks": ""
            },
            "colorscale": [
             [
              0,
              "#0d0887"
             ],
             [
              0.1111111111111111,
              "#46039f"
             ],
             [
              0.2222222222222222,
              "#7201a8"
             ],
             [
              0.3333333333333333,
              "#9c179e"
             ],
             [
              0.4444444444444444,
              "#bd3786"
             ],
             [
              0.5555555555555556,
              "#d8576b"
             ],
             [
              0.6666666666666666,
              "#ed7953"
             ],
             [
              0.7777777777777778,
              "#fb9f3a"
             ],
             [
              0.8888888888888888,
              "#fdca26"
             ],
             [
              1,
              "#f0f921"
             ]
            ],
            "type": "contour"
           }
          ],
          "contourcarpet": [
           {
            "colorbar": {
             "outlinewidth": 0,
             "ticks": ""
            },
            "type": "contourcarpet"
           }
          ],
          "heatmap": [
           {
            "colorbar": {
             "outlinewidth": 0,
             "ticks": ""
            },
            "colorscale": [
             [
              0,
              "#0d0887"
             ],
             [
              0.1111111111111111,
              "#46039f"
             ],
             [
              0.2222222222222222,
              "#7201a8"
             ],
             [
              0.3333333333333333,
              "#9c179e"
             ],
             [
              0.4444444444444444,
              "#bd3786"
             ],
             [
              0.5555555555555556,
              "#d8576b"
             ],
             [
              0.6666666666666666,
              "#ed7953"
             ],
             [
              0.7777777777777778,
              "#fb9f3a"
             ],
             [
              0.8888888888888888,
              "#fdca26"
             ],
             [
              1,
              "#f0f921"
             ]
            ],
            "type": "heatmap"
           }
          ],
          "histogram": [
           {
            "marker": {
             "pattern": {
              "fillmode": "overlay",
              "size": 10,
              "solidity": 0.2
             }
            },
            "type": "histogram"
           }
          ],
          "histogram2d": [
           {
            "colorbar": {
             "outlinewidth": 0,
             "ticks": ""
            },
            "colorscale": [
             [
              0,
              "#0d0887"
             ],
             [
              0.1111111111111111,
              "#46039f"
             ],
             [
              0.2222222222222222,
              "#7201a8"
             ],
             [
              0.3333333333333333,
              "#9c179e"
             ],
             [
              0.4444444444444444,
              "#bd3786"
             ],
             [
              0.5555555555555556,
              "#d8576b"
             ],
             [
              0.6666666666666666,
              "#ed7953"
             ],
             [
              0.7777777777777778,
              "#fb9f3a"
             ],
             [
              0.8888888888888888,
              "#fdca26"
             ],
             [
              1,
              "#f0f921"
             ]
            ],
            "type": "histogram2d"
           }
          ],
          "histogram2dcontour": [
           {
            "colorbar": {
             "outlinewidth": 0,
             "ticks": ""
            },
            "colorscale": [
             [
              0,
              "#0d0887"
             ],
             [
              0.1111111111111111,
              "#46039f"
             ],
             [
              0.2222222222222222,
              "#7201a8"
             ],
             [
              0.3333333333333333,
              "#9c179e"
             ],
             [
              0.4444444444444444,
              "#bd3786"
             ],
             [
              0.5555555555555556,
              "#d8576b"
             ],
             [
              0.6666666666666666,
              "#ed7953"
             ],
             [
              0.7777777777777778,
              "#fb9f3a"
             ],
             [
              0.8888888888888888,
              "#fdca26"
             ],
             [
              1,
              "#f0f921"
             ]
            ],
            "type": "histogram2dcontour"
           }
          ],
          "mesh3d": [
           {
            "colorbar": {
             "outlinewidth": 0,
             "ticks": ""
            },
            "type": "mesh3d"
           }
          ],
          "parcoords": [
           {
            "line": {
             "colorbar": {
              "outlinewidth": 0,
              "ticks": ""
             }
            },
            "type": "parcoords"
           }
          ],
          "pie": [
           {
            "automargin": true,
            "type": "pie"
           }
          ],
          "scatter": [
           {
            "fillpattern": {
             "fillmode": "overlay",
             "size": 10,
             "solidity": 0.2
            },
            "type": "scatter"
           }
          ],
          "scatter3d": [
           {
            "line": {
             "colorbar": {
              "outlinewidth": 0,
              "ticks": ""
             }
            },
            "marker": {
             "colorbar": {
              "outlinewidth": 0,
              "ticks": ""
             }
            },
            "type": "scatter3d"
           }
          ],
          "scattercarpet": [
           {
            "marker": {
             "colorbar": {
              "outlinewidth": 0,
              "ticks": ""
             }
            },
            "type": "scattercarpet"
           }
          ],
          "scattergeo": [
           {
            "marker": {
             "colorbar": {
              "outlinewidth": 0,
              "ticks": ""
             }
            },
            "type": "scattergeo"
           }
          ],
          "scattergl": [
           {
            "marker": {
             "colorbar": {
              "outlinewidth": 0,
              "ticks": ""
             }
            },
            "type": "scattergl"
           }
          ],
          "scattermap": [
           {
            "marker": {
             "colorbar": {
              "outlinewidth": 0,
              "ticks": ""
             }
            },
            "type": "scattermap"
           }
          ],
          "scattermapbox": [
           {
            "marker": {
             "colorbar": {
              "outlinewidth": 0,
              "ticks": ""
             }
            },
            "type": "scattermapbox"
           }
          ],
          "scatterpolar": [
           {
            "marker": {
             "colorbar": {
              "outlinewidth": 0,
              "ticks": ""
             }
            },
            "type": "scatterpolar"
           }
          ],
          "scatterpolargl": [
           {
            "marker": {
             "colorbar": {
              "outlinewidth": 0,
              "ticks": ""
             }
            },
            "type": "scatterpolargl"
           }
          ],
          "scatterternary": [
           {
            "marker": {
             "colorbar": {
              "outlinewidth": 0,
              "ticks": ""
             }
            },
            "type": "scatterternary"
           }
          ],
          "surface": [
           {
            "colorbar": {
             "outlinewidth": 0,
             "ticks": ""
            },
            "colorscale": [
             [
              0,
              "#0d0887"
             ],
             [
              0.1111111111111111,
              "#46039f"
             ],
             [
              0.2222222222222222,
              "#7201a8"
             ],
             [
              0.3333333333333333,
              "#9c179e"
             ],
             [
              0.4444444444444444,
              "#bd3786"
             ],
             [
              0.5555555555555556,
              "#d8576b"
             ],
             [
              0.6666666666666666,
              "#ed7953"
             ],
             [
              0.7777777777777778,
              "#fb9f3a"
             ],
             [
              0.8888888888888888,
              "#fdca26"
             ],
             [
              1,
              "#f0f921"
             ]
            ],
            "type": "surface"
           }
          ],
          "table": [
           {
            "cells": {
             "fill": {
              "color": "#EBF0F8"
             },
             "line": {
              "color": "white"
             }
            },
            "header": {
             "fill": {
              "color": "#C8D4E3"
             },
             "line": {
              "color": "white"
             }
            },
            "type": "table"
           }
          ]
         },
         "layout": {
          "annotationdefaults": {
           "arrowcolor": "#2a3f5f",
           "arrowhead": 0,
           "arrowwidth": 1
          },
          "autotypenumbers": "strict",
          "coloraxis": {
           "colorbar": {
            "outlinewidth": 0,
            "ticks": ""
           }
          },
          "colorscale": {
           "diverging": [
            [
             0,
             "#8e0152"
            ],
            [
             0.1,
             "#c51b7d"
            ],
            [
             0.2,
             "#de77ae"
            ],
            [
             0.3,
             "#f1b6da"
            ],
            [
             0.4,
             "#fde0ef"
            ],
            [
             0.5,
             "#f7f7f7"
            ],
            [
             0.6,
             "#e6f5d0"
            ],
            [
             0.7,
             "#b8e186"
            ],
            [
             0.8,
             "#7fbc41"
            ],
            [
             0.9,
             "#4d9221"
            ],
            [
             1,
             "#276419"
            ]
           ],
           "sequential": [
            [
             0,
             "#0d0887"
            ],
            [
             0.1111111111111111,
             "#46039f"
            ],
            [
             0.2222222222222222,
             "#7201a8"
            ],
            [
             0.3333333333333333,
             "#9c179e"
            ],
            [
             0.4444444444444444,
             "#bd3786"
            ],
            [
             0.5555555555555556,
             "#d8576b"
            ],
            [
             0.6666666666666666,
             "#ed7953"
            ],
            [
             0.7777777777777778,
             "#fb9f3a"
            ],
            [
             0.8888888888888888,
             "#fdca26"
            ],
            [
             1,
             "#f0f921"
            ]
           ],
           "sequentialminus": [
            [
             0,
             "#0d0887"
            ],
            [
             0.1111111111111111,
             "#46039f"
            ],
            [
             0.2222222222222222,
             "#7201a8"
            ],
            [
             0.3333333333333333,
             "#9c179e"
            ],
            [
             0.4444444444444444,
             "#bd3786"
            ],
            [
             0.5555555555555556,
             "#d8576b"
            ],
            [
             0.6666666666666666,
             "#ed7953"
            ],
            [
             0.7777777777777778,
             "#fb9f3a"
            ],
            [
             0.8888888888888888,
             "#fdca26"
            ],
            [
             1,
             "#f0f921"
            ]
           ]
          },
          "colorway": [
           "#636efa",
           "#EF553B",
           "#00cc96",
           "#ab63fa",
           "#FFA15A",
           "#19d3f3",
           "#FF6692",
           "#B6E880",
           "#FF97FF",
           "#FECB52"
          ],
          "font": {
           "color": "#2a3f5f"
          },
          "geo": {
           "bgcolor": "white",
           "lakecolor": "white",
           "landcolor": "white",
           "showlakes": true,
           "showland": true,
           "subunitcolor": "#C8D4E3"
          },
          "hoverlabel": {
           "align": "left"
          },
          "hovermode": "closest",
          "mapbox": {
           "style": "light"
          },
          "paper_bgcolor": "white",
          "plot_bgcolor": "white",
          "polar": {
           "angularaxis": {
            "gridcolor": "#EBF0F8",
            "linecolor": "#EBF0F8",
            "ticks": ""
           },
           "bgcolor": "white",
           "radialaxis": {
            "gridcolor": "#EBF0F8",
            "linecolor": "#EBF0F8",
            "ticks": ""
           }
          },
          "scene": {
           "xaxis": {
            "backgroundcolor": "white",
            "gridcolor": "#DFE8F3",
            "gridwidth": 2,
            "linecolor": "#EBF0F8",
            "showbackground": true,
            "ticks": "",
            "zerolinecolor": "#EBF0F8"
           },
           "yaxis": {
            "backgroundcolor": "white",
            "gridcolor": "#DFE8F3",
            "gridwidth": 2,
            "linecolor": "#EBF0F8",
            "showbackground": true,
            "ticks": "",
            "zerolinecolor": "#EBF0F8"
           },
           "zaxis": {
            "backgroundcolor": "white",
            "gridcolor": "#DFE8F3",
            "gridwidth": 2,
            "linecolor": "#EBF0F8",
            "showbackground": true,
            "ticks": "",
            "zerolinecolor": "#EBF0F8"
           }
          },
          "shapedefaults": {
           "line": {
            "color": "#2a3f5f"
           }
          },
          "ternary": {
           "aaxis": {
            "gridcolor": "#DFE8F3",
            "linecolor": "#A2B1C6",
            "ticks": ""
           },
           "baxis": {
            "gridcolor": "#DFE8F3",
            "linecolor": "#A2B1C6",
            "ticks": ""
           },
           "bgcolor": "white",
           "caxis": {
            "gridcolor": "#DFE8F3",
            "linecolor": "#A2B1C6",
            "ticks": ""
           }
          },
          "title": {
           "x": 0.05
          },
          "xaxis": {
           "automargin": true,
           "gridcolor": "#EBF0F8",
           "linecolor": "#EBF0F8",
           "ticks": "",
           "title": {
            "standoff": 15
           },
           "zerolinecolor": "#EBF0F8",
           "zerolinewidth": 2
          },
          "yaxis": {
           "automargin": true,
           "gridcolor": "#EBF0F8",
           "linecolor": "#EBF0F8",
           "ticks": "",
           "title": {
            "standoff": 15
           },
           "zerolinecolor": "#EBF0F8",
           "zerolinewidth": 2
          }
         }
        },
        "title": {
         "text": "Academia vs. Industry Distribution by Conference"
        },
        "xaxis": {
         "anchor": "y",
         "categoryarray": [
          "NeurIPS",
          "ICML",
          "ICLR"
         ],
         "categoryorder": "array",
         "domain": [
          0,
          1
         ],
         "title": {
          "text": "Conference"
         }
        },
        "yaxis": {
         "anchor": "x",
         "domain": [
          0,
          1
         ],
         "title": {
          "text": "% of Conference Instances"
         }
        }
       }
      },
      "text/html": [
       "<div>            <script src=\"https://cdnjs.cloudflare.com/ajax/libs/mathjax/2.7.5/MathJax.js?config=TeX-AMS-MML_SVG\"></script><script type=\"text/javascript\">if (window.MathJax && window.MathJax.Hub && window.MathJax.Hub.Config) {window.MathJax.Hub.Config({SVG: {font: \"STIX-Web\"}});}</script>                <script type=\"text/javascript\">window.PlotlyConfig = {MathJaxConfig: 'local'};</script>\n",
       "        <script charset=\"utf-8\" src=\"https://cdn.plot.ly/plotly-3.0.1.min.js\"></script>                <div id=\"5632c439-acda-46e8-a2f0-60a9dc5eda28\" class=\"plotly-graph-div\" style=\"height:525px; width:100%;\"></div>            <script type=\"text/javascript\">                window.PLOTLYENV=window.PLOTLYENV || {};                                if (document.getElementById(\"5632c439-acda-46e8-a2f0-60a9dc5eda28\")) {                    Plotly.newPlot(                        \"5632c439-acda-46e8-a2f0-60a9dc5eda28\",                        [{\"alignmentgroup\":\"True\",\"hovertemplate\":\"Institution Type=Academia\\u003cbr\\u003eConference=%{x}\\u003cbr\\u003e% of Conference Instances=%{text}\\u003cextra\\u003e\\u003c\\u002fextra\\u003e\",\"legendgroup\":\"Academia\",\"marker\":{\"color\":\"#636efa\",\"pattern\":{\"shape\":\"\"}},\"name\":\"Academia\",\"offsetgroup\":\"Academia\",\"orientation\":\"v\",\"showlegend\":true,\"text\":{\"dtype\":\"f8\",\"bdata\":\"N+DE\\u002fXKrUkAg4xFu9CFTQBqvVdM7rFNA\"},\"textposition\":\"outside\",\"x\":[\"ICLR\",\"ICML\",\"NeurIPS\"],\"xaxis\":\"x\",\"y\":{\"dtype\":\"f8\",\"bdata\":\"N+DE\\u002fXKrUkAg4xFu9CFTQBqvVdM7rFNA\"},\"yaxis\":\"y\",\"type\":\"bar\",\"texttemplate\":\"%{text:.1f}%\"},{\"alignmentgroup\":\"True\",\"hovertemplate\":\"Institution Type=Industry\\u003cbr\\u003eConference=%{x}\\u003cbr\\u003e% of Conference Instances=%{text}\\u003cextra\\u003e\\u003c\\u002fextra\\u003e\",\"legendgroup\":\"Industry\",\"marker\":{\"color\":\"#EF553B\",\"pattern\":{\"shape\":\"\"}},\"name\":\"Industry\",\"offsetgroup\":\"Industry\",\"orientation\":\"v\",\"showlegend\":true,\"text\":{\"dtype\":\"f8\",\"bdata\":\"JX\\u002fsCDRSOUB\\u002fc7hHLng3QJlDqbIQTzVA\"},\"textposition\":\"outside\",\"x\":[\"ICLR\",\"ICML\",\"NeurIPS\"],\"xaxis\":\"x\",\"y\":{\"dtype\":\"f8\",\"bdata\":\"JX\\u002fsCDRSOUB\\u002fc7hHLng3QJlDqbIQTzVA\"},\"yaxis\":\"y\",\"type\":\"bar\",\"texttemplate\":\"%{text:.1f}%\"}],                        {\"template\":{\"data\":{\"histogram2dcontour\":[{\"type\":\"histogram2dcontour\",\"colorbar\":{\"outlinewidth\":0,\"ticks\":\"\"},\"colorscale\":[[0.0,\"#0d0887\"],[0.1111111111111111,\"#46039f\"],[0.2222222222222222,\"#7201a8\"],[0.3333333333333333,\"#9c179e\"],[0.4444444444444444,\"#bd3786\"],[0.5555555555555556,\"#d8576b\"],[0.6666666666666666,\"#ed7953\"],[0.7777777777777778,\"#fb9f3a\"],[0.8888888888888888,\"#fdca26\"],[1.0,\"#f0f921\"]]}],\"choropleth\":[{\"type\":\"choropleth\",\"colorbar\":{\"outlinewidth\":0,\"ticks\":\"\"}}],\"histogram2d\":[{\"type\":\"histogram2d\",\"colorbar\":{\"outlinewidth\":0,\"ticks\":\"\"},\"colorscale\":[[0.0,\"#0d0887\"],[0.1111111111111111,\"#46039f\"],[0.2222222222222222,\"#7201a8\"],[0.3333333333333333,\"#9c179e\"],[0.4444444444444444,\"#bd3786\"],[0.5555555555555556,\"#d8576b\"],[0.6666666666666666,\"#ed7953\"],[0.7777777777777778,\"#fb9f3a\"],[0.8888888888888888,\"#fdca26\"],[1.0,\"#f0f921\"]]}],\"heatmap\":[{\"type\":\"heatmap\",\"colorbar\":{\"outlinewidth\":0,\"ticks\":\"\"},\"colorscale\":[[0.0,\"#0d0887\"],[0.1111111111111111,\"#46039f\"],[0.2222222222222222,\"#7201a8\"],[0.3333333333333333,\"#9c179e\"],[0.4444444444444444,\"#bd3786\"],[0.5555555555555556,\"#d8576b\"],[0.6666666666666666,\"#ed7953\"],[0.7777777777777778,\"#fb9f3a\"],[0.8888888888888888,\"#fdca26\"],[1.0,\"#f0f921\"]]}],\"contourcarpet\":[{\"type\":\"contourcarpet\",\"colorbar\":{\"outlinewidth\":0,\"ticks\":\"\"}}],\"contour\":[{\"type\":\"contour\",\"colorbar\":{\"outlinewidth\":0,\"ticks\":\"\"},\"colorscale\":[[0.0,\"#0d0887\"],[0.1111111111111111,\"#46039f\"],[0.2222222222222222,\"#7201a8\"],[0.3333333333333333,\"#9c179e\"],[0.4444444444444444,\"#bd3786\"],[0.5555555555555556,\"#d8576b\"],[0.6666666666666666,\"#ed7953\"],[0.7777777777777778,\"#fb9f3a\"],[0.8888888888888888,\"#fdca26\"],[1.0,\"#f0f921\"]]}],\"surface\":[{\"type\":\"surface\",\"colorbar\":{\"outlinewidth\":0,\"ticks\":\"\"},\"colorscale\":[[0.0,\"#0d0887\"],[0.1111111111111111,\"#46039f\"],[0.2222222222222222,\"#7201a8\"],[0.3333333333333333,\"#9c179e\"],[0.4444444444444444,\"#bd3786\"],[0.5555555555555556,\"#d8576b\"],[0.6666666666666666,\"#ed7953\"],[0.7777777777777778,\"#fb9f3a\"],[0.8888888888888888,\"#fdca26\"],[1.0,\"#f0f921\"]]}],\"mesh3d\":[{\"type\":\"mesh3d\",\"colorbar\":{\"outlinewidth\":0,\"ticks\":\"\"}}],\"scatter\":[{\"fillpattern\":{\"fillmode\":\"overlay\",\"size\":10,\"solidity\":0.2},\"type\":\"scatter\"}],\"parcoords\":[{\"type\":\"parcoords\",\"line\":{\"colorbar\":{\"outlinewidth\":0,\"ticks\":\"\"}}}],\"scatterpolargl\":[{\"type\":\"scatterpolargl\",\"marker\":{\"colorbar\":{\"outlinewidth\":0,\"ticks\":\"\"}}}],\"bar\":[{\"error_x\":{\"color\":\"#2a3f5f\"},\"error_y\":{\"color\":\"#2a3f5f\"},\"marker\":{\"line\":{\"color\":\"white\",\"width\":0.5},\"pattern\":{\"fillmode\":\"overlay\",\"size\":10,\"solidity\":0.2}},\"type\":\"bar\"}],\"scattergeo\":[{\"type\":\"scattergeo\",\"marker\":{\"colorbar\":{\"outlinewidth\":0,\"ticks\":\"\"}}}],\"scatterpolar\":[{\"type\":\"scatterpolar\",\"marker\":{\"colorbar\":{\"outlinewidth\":0,\"ticks\":\"\"}}}],\"histogram\":[{\"marker\":{\"pattern\":{\"fillmode\":\"overlay\",\"size\":10,\"solidity\":0.2}},\"type\":\"histogram\"}],\"scattergl\":[{\"type\":\"scattergl\",\"marker\":{\"colorbar\":{\"outlinewidth\":0,\"ticks\":\"\"}}}],\"scatter3d\":[{\"type\":\"scatter3d\",\"line\":{\"colorbar\":{\"outlinewidth\":0,\"ticks\":\"\"}},\"marker\":{\"colorbar\":{\"outlinewidth\":0,\"ticks\":\"\"}}}],\"scattermap\":[{\"type\":\"scattermap\",\"marker\":{\"colorbar\":{\"outlinewidth\":0,\"ticks\":\"\"}}}],\"scattermapbox\":[{\"type\":\"scattermapbox\",\"marker\":{\"colorbar\":{\"outlinewidth\":0,\"ticks\":\"\"}}}],\"scatterternary\":[{\"type\":\"scatterternary\",\"marker\":{\"colorbar\":{\"outlinewidth\":0,\"ticks\":\"\"}}}],\"scattercarpet\":[{\"type\":\"scattercarpet\",\"marker\":{\"colorbar\":{\"outlinewidth\":0,\"ticks\":\"\"}}}],\"carpet\":[{\"aaxis\":{\"endlinecolor\":\"#2a3f5f\",\"gridcolor\":\"#C8D4E3\",\"linecolor\":\"#C8D4E3\",\"minorgridcolor\":\"#C8D4E3\",\"startlinecolor\":\"#2a3f5f\"},\"baxis\":{\"endlinecolor\":\"#2a3f5f\",\"gridcolor\":\"#C8D4E3\",\"linecolor\":\"#C8D4E3\",\"minorgridcolor\":\"#C8D4E3\",\"startlinecolor\":\"#2a3f5f\"},\"type\":\"carpet\"}],\"table\":[{\"cells\":{\"fill\":{\"color\":\"#EBF0F8\"},\"line\":{\"color\":\"white\"}},\"header\":{\"fill\":{\"color\":\"#C8D4E3\"},\"line\":{\"color\":\"white\"}},\"type\":\"table\"}],\"barpolar\":[{\"marker\":{\"line\":{\"color\":\"white\",\"width\":0.5},\"pattern\":{\"fillmode\":\"overlay\",\"size\":10,\"solidity\":0.2}},\"type\":\"barpolar\"}],\"pie\":[{\"automargin\":true,\"type\":\"pie\"}]},\"layout\":{\"autotypenumbers\":\"strict\",\"colorway\":[\"#636efa\",\"#EF553B\",\"#00cc96\",\"#ab63fa\",\"#FFA15A\",\"#19d3f3\",\"#FF6692\",\"#B6E880\",\"#FF97FF\",\"#FECB52\"],\"font\":{\"color\":\"#2a3f5f\"},\"hovermode\":\"closest\",\"hoverlabel\":{\"align\":\"left\"},\"paper_bgcolor\":\"white\",\"plot_bgcolor\":\"white\",\"polar\":{\"bgcolor\":\"white\",\"angularaxis\":{\"gridcolor\":\"#EBF0F8\",\"linecolor\":\"#EBF0F8\",\"ticks\":\"\"},\"radialaxis\":{\"gridcolor\":\"#EBF0F8\",\"linecolor\":\"#EBF0F8\",\"ticks\":\"\"}},\"ternary\":{\"bgcolor\":\"white\",\"aaxis\":{\"gridcolor\":\"#DFE8F3\",\"linecolor\":\"#A2B1C6\",\"ticks\":\"\"},\"baxis\":{\"gridcolor\":\"#DFE8F3\",\"linecolor\":\"#A2B1C6\",\"ticks\":\"\"},\"caxis\":{\"gridcolor\":\"#DFE8F3\",\"linecolor\":\"#A2B1C6\",\"ticks\":\"\"}},\"coloraxis\":{\"colorbar\":{\"outlinewidth\":0,\"ticks\":\"\"}},\"colorscale\":{\"sequential\":[[0.0,\"#0d0887\"],[0.1111111111111111,\"#46039f\"],[0.2222222222222222,\"#7201a8\"],[0.3333333333333333,\"#9c179e\"],[0.4444444444444444,\"#bd3786\"],[0.5555555555555556,\"#d8576b\"],[0.6666666666666666,\"#ed7953\"],[0.7777777777777778,\"#fb9f3a\"],[0.8888888888888888,\"#fdca26\"],[1.0,\"#f0f921\"]],\"sequentialminus\":[[0.0,\"#0d0887\"],[0.1111111111111111,\"#46039f\"],[0.2222222222222222,\"#7201a8\"],[0.3333333333333333,\"#9c179e\"],[0.4444444444444444,\"#bd3786\"],[0.5555555555555556,\"#d8576b\"],[0.6666666666666666,\"#ed7953\"],[0.7777777777777778,\"#fb9f3a\"],[0.8888888888888888,\"#fdca26\"],[1.0,\"#f0f921\"]],\"diverging\":[[0,\"#8e0152\"],[0.1,\"#c51b7d\"],[0.2,\"#de77ae\"],[0.3,\"#f1b6da\"],[0.4,\"#fde0ef\"],[0.5,\"#f7f7f7\"],[0.6,\"#e6f5d0\"],[0.7,\"#b8e186\"],[0.8,\"#7fbc41\"],[0.9,\"#4d9221\"],[1,\"#276419\"]]},\"xaxis\":{\"gridcolor\":\"#EBF0F8\",\"linecolor\":\"#EBF0F8\",\"ticks\":\"\",\"title\":{\"standoff\":15},\"zerolinecolor\":\"#EBF0F8\",\"automargin\":true,\"zerolinewidth\":2},\"yaxis\":{\"gridcolor\":\"#EBF0F8\",\"linecolor\":\"#EBF0F8\",\"ticks\":\"\",\"title\":{\"standoff\":15},\"zerolinecolor\":\"#EBF0F8\",\"automargin\":true,\"zerolinewidth\":2},\"scene\":{\"xaxis\":{\"backgroundcolor\":\"white\",\"gridcolor\":\"#DFE8F3\",\"linecolor\":\"#EBF0F8\",\"showbackground\":true,\"ticks\":\"\",\"zerolinecolor\":\"#EBF0F8\",\"gridwidth\":2},\"yaxis\":{\"backgroundcolor\":\"white\",\"gridcolor\":\"#DFE8F3\",\"linecolor\":\"#EBF0F8\",\"showbackground\":true,\"ticks\":\"\",\"zerolinecolor\":\"#EBF0F8\",\"gridwidth\":2},\"zaxis\":{\"backgroundcolor\":\"white\",\"gridcolor\":\"#DFE8F3\",\"linecolor\":\"#EBF0F8\",\"showbackground\":true,\"ticks\":\"\",\"zerolinecolor\":\"#EBF0F8\",\"gridwidth\":2}},\"shapedefaults\":{\"line\":{\"color\":\"#2a3f5f\"}},\"annotationdefaults\":{\"arrowcolor\":\"#2a3f5f\",\"arrowhead\":0,\"arrowwidth\":1},\"geo\":{\"bgcolor\":\"white\",\"landcolor\":\"white\",\"subunitcolor\":\"#C8D4E3\",\"showland\":true,\"showlakes\":true,\"lakecolor\":\"white\"},\"title\":{\"x\":0.05},\"mapbox\":{\"style\":\"light\"}}},\"xaxis\":{\"anchor\":\"y\",\"domain\":[0.0,1.0],\"title\":{\"text\":\"Conference\"},\"categoryorder\":\"array\",\"categoryarray\":[\"NeurIPS\",\"ICML\",\"ICLR\"]},\"yaxis\":{\"anchor\":\"x\",\"domain\":[0.0,1.0],\"title\":{\"text\":\"% of Conference Instances\"}},\"legend\":{\"title\":{\"text\":\"Institution Type\"},\"tracegroupgap\":0},\"title\":{\"text\":\"Academia vs. Industry Distribution by Conference\"},\"barmode\":\"group\"},                        {\"responsive\": true}                    ).then(function(){\n",
       "                            \n",
       "var gd = document.getElementById('5632c439-acda-46e8-a2f0-60a9dc5eda28');\n",
       "var x = new MutationObserver(function (mutations, observer) {{\n",
       "        var display = window.getComputedStyle(gd).display;\n",
       "        if (!display || display === 'none') {{\n",
       "            console.log([gd, 'removed!']);\n",
       "            Plotly.purge(gd);\n",
       "            observer.disconnect();\n",
       "        }}\n",
       "}});\n",
       "\n",
       "// Listen for the removal of the full notebook cells\n",
       "var notebookContainer = gd.closest('#notebook-container');\n",
       "if (notebookContainer) {{\n",
       "    x.observe(notebookContainer, {childList: true});\n",
       "}}\n",
       "\n",
       "// Listen for the clearing of the current output cell\n",
       "var outputEl = gd.closest('.output');\n",
       "if (outputEl) {{\n",
       "    x.observe(outputEl, {childList: true});\n",
       "}}\n",
       "\n",
       "                        })                };            </script>        </div>"
      ]
     },
     "metadata": {},
     "output_type": "display_data"
    }
   ],
   "source": [
    "N_TOP_COUNTRIES = 10\n",
    "\n",
    "# Part 1: Geographic Distribution per Conference\n",
    "print(f\"\\nGeographic Distribution per Conference (Top {N_TOP_COUNTRIES})\")\n",
    "geo_conf_df = df[df['Country'] != 'Unknown Country'].copy()\n",
    "conf_country_counts = geo_conf_df.groupby(['Conference', 'Country']).size().reset_index(name='Count')\n",
    "total_conf_counts = conf_country_counts.groupby('Conference')['Count'].sum().reset_index(name='TotalConferenceCount')\n",
    "conf_country_perc = pd.merge(conf_country_counts, total_conf_counts, on='Conference')\n",
    "conf_country_perc['Percentage'] = (conf_country_perc['Count'] / conf_country_perc['TotalConferenceCount']) * 100\n",
    "# Get Top N countries FOR EACH conference using indices from nlargest\n",
    "top_indices = conf_country_perc.groupby('Conference')['Count'].nlargest(N_TOP_COUNTRIES).reset_index()['level_1']\n",
    "top_countries_per_conf = conf_country_perc.loc[top_indices]\n",
    "\n",
    "fig_h5_geo = px.bar(top_countries_per_conf,\n",
    "                    x='Country', y='Percentage', color='Conference', facet_col='Conference',\n",
    "                    title=f'Top {N_TOP_COUNTRIES} Contributing Countries by Conference (% of Total Instances per Conference)',\n",
    "                    labels={'Percentage': '% of Conference Instances', 'Country': 'Country'},\n",
    "                    category_orders={\"Conference\": [\"NeurIPS\", \"ICML\", \"ICLR\"]}, text='Percentage')\n",
    "fig_h5_geo.update_traces(texttemplate='%{text:.1f}%', textposition='outside')\n",
    "fig_h5_geo.update_xaxes(matches=None, showticklabels=True, title_text='') # Allow independent x-axes and remove redundant title\n",
    "fig_h5_geo.update_layout(showlegend=True)\n",
    "fig_h5_geo.add_annotation(x=0.5, y=-0.30, xref='paper', yref='paper', text='Country', showarrow=False, font=dict(size=12))\n",
    "fig_h5_geo.show()\n",
    "\n",
    "# Part 2: Academia vs. Industry Distribution per Conference\n",
    "print(\"\\nAcademia vs. Industry Distribution per Conference\")\n",
    "type_conf_df = df[df['Type'].isin(['Academia', 'Industry'])].copy()\n",
    "conf_type_counts = type_conf_df.groupby(['Conference', 'Type']).size().reset_index(name='Count')\n",
    "total_conf_type_counts = conf_type_counts.groupby('Conference')['Count'].sum().reset_index(name='TotalConferenceCount')\n",
    "conf_type_perc = pd.merge(conf_type_counts, total_conf_type_counts, on='Conference')\n",
    "conf_type_perc['Percentage'] = (conf_type_perc['Count'] / conf_type_perc['TotalConferenceCount']) * 100\n",
    "\n",
    "fig_h5_type = px.bar(conf_type_perc,\n",
    "                     x='Conference', y='Percentage', color='Type', barmode='group',\n",
    "                     title='Academia vs. Industry Distribution by Conference',\n",
    "                     labels={'Percentage': '% of Conference Instances', 'Conference': 'Conference', 'Type': 'Institution Type'},\n",
    "                     category_orders={\"Conference\": [\"NeurIPS\", \"ICML\", \"ICLR\"], \"Type\": [\"Academia\", \"Industry\"]},\n",
    "                     text='Percentage')\n",
    "fig_h5_type.update_traces(texttemplate='%{text:.1f}%', textposition='outside')\n",
    "fig_h5_type.show()"
   ]
  },
  {
   "cell_type": "markdown",
   "id": "ca6b3c3b",
   "metadata": {},
   "source": [
    "**Findings:**\n",
    "*   **Geographic Profiles:** While USA and China dominate across all three, the relative ranking and presence of other countries vary.\n",
    "*   **Academia vs. Industry:** ICLR shows the highest percentage of industry contributions (25.3%), followed by ICML (23.5%) and then NeurIPS (21.3%). Conversely, NeurIPS has the highest academic share.\n",
    "\n",
    "**Conclusion:** **H5 is supported.** The conferences exhibit distinct profiles regarding both the detailed geographic distribution beyond the top 2 leaders and the balance between academic and industrial participation, with NeurIPS being the most academic-centric and ICML the most industry-heavy overall."
   ]
  },
  {
   "cell_type": "markdown",
   "id": "ac52f119",
   "metadata": {},
   "source": [
    "### H6: International Collaboration Trends\n",
    "\n",
    "**Hypothesis:** The proportion of papers involving international collaboration (authors from more than one country) has increased over the years.\n",
    "\n",
    "**Quantification:** Identify unique papers and count the number of distinct countries per paper. Calculate the percentage of papers per year with $>1$ country."
   ]
  },
  {
   "cell_type": "code",
   "execution_count": null,
   "id": "ee0f3dd5",
   "metadata": {},
   "outputs": [
    {
     "name": "stdout",
     "output_type": "stream",
     "text": [
      "\n",
      "International Collaboration Trends\n"
     ]
    },
    {
     "data": {
      "application/vnd.plotly.v1+json": {
       "config": {
        "plotlyServerURL": "https://plot.ly"
       },
       "data": [
        {
         "hovertemplate": "Year=%{x}<br>% of Papers with >1 Country Represented=%{y}<extra></extra>",
         "legendgroup": "",
         "line": {
          "color": "#636efa",
          "dash": "solid"
         },
         "marker": {
          "symbol": "circle"
         },
         "mode": "lines+markers",
         "name": "",
         "orientation": "v",
         "showlegend": false,
         "type": "scatter",
         "x": {
          "bdata": "1gfXB9gH2QfaB9sH3AfdB94H3wfgB+EH4gfjB+QH5QfmB+cH6Ac=",
          "dtype": "i2"
         },
         "xaxis": "x",
         "y": {
          "bdata": "Hh4eHh4eQ0C/jl/Hr+NFQJqZmZmZmUVAuDZMcxf8QECsV69evfpBQCB1yh91ykJAyUIWspAFQ0DHcRzHcZxCQMLYLKj2nEJALs1vcNWQOEASrbA5kGg6QBnLVYNNRz5A0xoPqsUfQEClBMuqTkpAQAGUlkE2rEFAgwNkItQdRECP+PeztMlEQIDScdE2jkVAsSPKjd/TR0A=",
          "dtype": "f8"
         },
         "yaxis": "y"
        }
       ],
       "layout": {
        "hovermode": "x unified",
        "legend": {
         "tracegroupgap": 0
        },
        "template": {
         "data": {
          "bar": [
           {
            "error_x": {
             "color": "#2a3f5f"
            },
            "error_y": {
             "color": "#2a3f5f"
            },
            "marker": {
             "line": {
              "color": "white",
              "width": 0.5
             },
             "pattern": {
              "fillmode": "overlay",
              "size": 10,
              "solidity": 0.2
             }
            },
            "type": "bar"
           }
          ],
          "barpolar": [
           {
            "marker": {
             "line": {
              "color": "white",
              "width": 0.5
             },
             "pattern": {
              "fillmode": "overlay",
              "size": 10,
              "solidity": 0.2
             }
            },
            "type": "barpolar"
           }
          ],
          "carpet": [
           {
            "aaxis": {
             "endlinecolor": "#2a3f5f",
             "gridcolor": "#C8D4E3",
             "linecolor": "#C8D4E3",
             "minorgridcolor": "#C8D4E3",
             "startlinecolor": "#2a3f5f"
            },
            "baxis": {
             "endlinecolor": "#2a3f5f",
             "gridcolor": "#C8D4E3",
             "linecolor": "#C8D4E3",
             "minorgridcolor": "#C8D4E3",
             "startlinecolor": "#2a3f5f"
            },
            "type": "carpet"
           }
          ],
          "choropleth": [
           {
            "colorbar": {
             "outlinewidth": 0,
             "ticks": ""
            },
            "type": "choropleth"
           }
          ],
          "contour": [
           {
            "colorbar": {
             "outlinewidth": 0,
             "ticks": ""
            },
            "colorscale": [
             [
              0,
              "#0d0887"
             ],
             [
              0.1111111111111111,
              "#46039f"
             ],
             [
              0.2222222222222222,
              "#7201a8"
             ],
             [
              0.3333333333333333,
              "#9c179e"
             ],
             [
              0.4444444444444444,
              "#bd3786"
             ],
             [
              0.5555555555555556,
              "#d8576b"
             ],
             [
              0.6666666666666666,
              "#ed7953"
             ],
             [
              0.7777777777777778,
              "#fb9f3a"
             ],
             [
              0.8888888888888888,
              "#fdca26"
             ],
             [
              1,
              "#f0f921"
             ]
            ],
            "type": "contour"
           }
          ],
          "contourcarpet": [
           {
            "colorbar": {
             "outlinewidth": 0,
             "ticks": ""
            },
            "type": "contourcarpet"
           }
          ],
          "heatmap": [
           {
            "colorbar": {
             "outlinewidth": 0,
             "ticks": ""
            },
            "colorscale": [
             [
              0,
              "#0d0887"
             ],
             [
              0.1111111111111111,
              "#46039f"
             ],
             [
              0.2222222222222222,
              "#7201a8"
             ],
             [
              0.3333333333333333,
              "#9c179e"
             ],
             [
              0.4444444444444444,
              "#bd3786"
             ],
             [
              0.5555555555555556,
              "#d8576b"
             ],
             [
              0.6666666666666666,
              "#ed7953"
             ],
             [
              0.7777777777777778,
              "#fb9f3a"
             ],
             [
              0.8888888888888888,
              "#fdca26"
             ],
             [
              1,
              "#f0f921"
             ]
            ],
            "type": "heatmap"
           }
          ],
          "histogram": [
           {
            "marker": {
             "pattern": {
              "fillmode": "overlay",
              "size": 10,
              "solidity": 0.2
             }
            },
            "type": "histogram"
           }
          ],
          "histogram2d": [
           {
            "colorbar": {
             "outlinewidth": 0,
             "ticks": ""
            },
            "colorscale": [
             [
              0,
              "#0d0887"
             ],
             [
              0.1111111111111111,
              "#46039f"
             ],
             [
              0.2222222222222222,
              "#7201a8"
             ],
             [
              0.3333333333333333,
              "#9c179e"
             ],
             [
              0.4444444444444444,
              "#bd3786"
             ],
             [
              0.5555555555555556,
              "#d8576b"
             ],
             [
              0.6666666666666666,
              "#ed7953"
             ],
             [
              0.7777777777777778,
              "#fb9f3a"
             ],
             [
              0.8888888888888888,
              "#fdca26"
             ],
             [
              1,
              "#f0f921"
             ]
            ],
            "type": "histogram2d"
           }
          ],
          "histogram2dcontour": [
           {
            "colorbar": {
             "outlinewidth": 0,
             "ticks": ""
            },
            "colorscale": [
             [
              0,
              "#0d0887"
             ],
             [
              0.1111111111111111,
              "#46039f"
             ],
             [
              0.2222222222222222,
              "#7201a8"
             ],
             [
              0.3333333333333333,
              "#9c179e"
             ],
             [
              0.4444444444444444,
              "#bd3786"
             ],
             [
              0.5555555555555556,
              "#d8576b"
             ],
             [
              0.6666666666666666,
              "#ed7953"
             ],
             [
              0.7777777777777778,
              "#fb9f3a"
             ],
             [
              0.8888888888888888,
              "#fdca26"
             ],
             [
              1,
              "#f0f921"
             ]
            ],
            "type": "histogram2dcontour"
           }
          ],
          "mesh3d": [
           {
            "colorbar": {
             "outlinewidth": 0,
             "ticks": ""
            },
            "type": "mesh3d"
           }
          ],
          "parcoords": [
           {
            "line": {
             "colorbar": {
              "outlinewidth": 0,
              "ticks": ""
             }
            },
            "type": "parcoords"
           }
          ],
          "pie": [
           {
            "automargin": true,
            "type": "pie"
           }
          ],
          "scatter": [
           {
            "fillpattern": {
             "fillmode": "overlay",
             "size": 10,
             "solidity": 0.2
            },
            "type": "scatter"
           }
          ],
          "scatter3d": [
           {
            "line": {
             "colorbar": {
              "outlinewidth": 0,
              "ticks": ""
             }
            },
            "marker": {
             "colorbar": {
              "outlinewidth": 0,
              "ticks": ""
             }
            },
            "type": "scatter3d"
           }
          ],
          "scattercarpet": [
           {
            "marker": {
             "colorbar": {
              "outlinewidth": 0,
              "ticks": ""
             }
            },
            "type": "scattercarpet"
           }
          ],
          "scattergeo": [
           {
            "marker": {
             "colorbar": {
              "outlinewidth": 0,
              "ticks": ""
             }
            },
            "type": "scattergeo"
           }
          ],
          "scattergl": [
           {
            "marker": {
             "colorbar": {
              "outlinewidth": 0,
              "ticks": ""
             }
            },
            "type": "scattergl"
           }
          ],
          "scattermap": [
           {
            "marker": {
             "colorbar": {
              "outlinewidth": 0,
              "ticks": ""
             }
            },
            "type": "scattermap"
           }
          ],
          "scattermapbox": [
           {
            "marker": {
             "colorbar": {
              "outlinewidth": 0,
              "ticks": ""
             }
            },
            "type": "scattermapbox"
           }
          ],
          "scatterpolar": [
           {
            "marker": {
             "colorbar": {
              "outlinewidth": 0,
              "ticks": ""
             }
            },
            "type": "scatterpolar"
           }
          ],
          "scatterpolargl": [
           {
            "marker": {
             "colorbar": {
              "outlinewidth": 0,
              "ticks": ""
             }
            },
            "type": "scatterpolargl"
           }
          ],
          "scatterternary": [
           {
            "marker": {
             "colorbar": {
              "outlinewidth": 0,
              "ticks": ""
             }
            },
            "type": "scatterternary"
           }
          ],
          "surface": [
           {
            "colorbar": {
             "outlinewidth": 0,
             "ticks": ""
            },
            "colorscale": [
             [
              0,
              "#0d0887"
             ],
             [
              0.1111111111111111,
              "#46039f"
             ],
             [
              0.2222222222222222,
              "#7201a8"
             ],
             [
              0.3333333333333333,
              "#9c179e"
             ],
             [
              0.4444444444444444,
              "#bd3786"
             ],
             [
              0.5555555555555556,
              "#d8576b"
             ],
             [
              0.6666666666666666,
              "#ed7953"
             ],
             [
              0.7777777777777778,
              "#fb9f3a"
             ],
             [
              0.8888888888888888,
              "#fdca26"
             ],
             [
              1,
              "#f0f921"
             ]
            ],
            "type": "surface"
           }
          ],
          "table": [
           {
            "cells": {
             "fill": {
              "color": "#EBF0F8"
             },
             "line": {
              "color": "white"
             }
            },
            "header": {
             "fill": {
              "color": "#C8D4E3"
             },
             "line": {
              "color": "white"
             }
            },
            "type": "table"
           }
          ]
         },
         "layout": {
          "annotationdefaults": {
           "arrowcolor": "#2a3f5f",
           "arrowhead": 0,
           "arrowwidth": 1
          },
          "autotypenumbers": "strict",
          "coloraxis": {
           "colorbar": {
            "outlinewidth": 0,
            "ticks": ""
           }
          },
          "colorscale": {
           "diverging": [
            [
             0,
             "#8e0152"
            ],
            [
             0.1,
             "#c51b7d"
            ],
            [
             0.2,
             "#de77ae"
            ],
            [
             0.3,
             "#f1b6da"
            ],
            [
             0.4,
             "#fde0ef"
            ],
            [
             0.5,
             "#f7f7f7"
            ],
            [
             0.6,
             "#e6f5d0"
            ],
            [
             0.7,
             "#b8e186"
            ],
            [
             0.8,
             "#7fbc41"
            ],
            [
             0.9,
             "#4d9221"
            ],
            [
             1,
             "#276419"
            ]
           ],
           "sequential": [
            [
             0,
             "#0d0887"
            ],
            [
             0.1111111111111111,
             "#46039f"
            ],
            [
             0.2222222222222222,
             "#7201a8"
            ],
            [
             0.3333333333333333,
             "#9c179e"
            ],
            [
             0.4444444444444444,
             "#bd3786"
            ],
            [
             0.5555555555555556,
             "#d8576b"
            ],
            [
             0.6666666666666666,
             "#ed7953"
            ],
            [
             0.7777777777777778,
             "#fb9f3a"
            ],
            [
             0.8888888888888888,
             "#fdca26"
            ],
            [
             1,
             "#f0f921"
            ]
           ],
           "sequentialminus": [
            [
             0,
             "#0d0887"
            ],
            [
             0.1111111111111111,
             "#46039f"
            ],
            [
             0.2222222222222222,
             "#7201a8"
            ],
            [
             0.3333333333333333,
             "#9c179e"
            ],
            [
             0.4444444444444444,
             "#bd3786"
            ],
            [
             0.5555555555555556,
             "#d8576b"
            ],
            [
             0.6666666666666666,
             "#ed7953"
            ],
            [
             0.7777777777777778,
             "#fb9f3a"
            ],
            [
             0.8888888888888888,
             "#fdca26"
            ],
            [
             1,
             "#f0f921"
            ]
           ]
          },
          "colorway": [
           "#636efa",
           "#EF553B",
           "#00cc96",
           "#ab63fa",
           "#FFA15A",
           "#19d3f3",
           "#FF6692",
           "#B6E880",
           "#FF97FF",
           "#FECB52"
          ],
          "font": {
           "color": "#2a3f5f"
          },
          "geo": {
           "bgcolor": "white",
           "lakecolor": "white",
           "landcolor": "white",
           "showlakes": true,
           "showland": true,
           "subunitcolor": "#C8D4E3"
          },
          "hoverlabel": {
           "align": "left"
          },
          "hovermode": "closest",
          "mapbox": {
           "style": "light"
          },
          "paper_bgcolor": "white",
          "plot_bgcolor": "white",
          "polar": {
           "angularaxis": {
            "gridcolor": "#EBF0F8",
            "linecolor": "#EBF0F8",
            "ticks": ""
           },
           "bgcolor": "white",
           "radialaxis": {
            "gridcolor": "#EBF0F8",
            "linecolor": "#EBF0F8",
            "ticks": ""
           }
          },
          "scene": {
           "xaxis": {
            "backgroundcolor": "white",
            "gridcolor": "#DFE8F3",
            "gridwidth": 2,
            "linecolor": "#EBF0F8",
            "showbackground": true,
            "ticks": "",
            "zerolinecolor": "#EBF0F8"
           },
           "yaxis": {
            "backgroundcolor": "white",
            "gridcolor": "#DFE8F3",
            "gridwidth": 2,
            "linecolor": "#EBF0F8",
            "showbackground": true,
            "ticks": "",
            "zerolinecolor": "#EBF0F8"
           },
           "zaxis": {
            "backgroundcolor": "white",
            "gridcolor": "#DFE8F3",
            "gridwidth": 2,
            "linecolor": "#EBF0F8",
            "showbackground": true,
            "ticks": "",
            "zerolinecolor": "#EBF0F8"
           }
          },
          "shapedefaults": {
           "line": {
            "color": "#2a3f5f"
           }
          },
          "ternary": {
           "aaxis": {
            "gridcolor": "#DFE8F3",
            "linecolor": "#A2B1C6",
            "ticks": ""
           },
           "baxis": {
            "gridcolor": "#DFE8F3",
            "linecolor": "#A2B1C6",
            "ticks": ""
           },
           "bgcolor": "white",
           "caxis": {
            "gridcolor": "#DFE8F3",
            "linecolor": "#A2B1C6",
            "ticks": ""
           }
          },
          "title": {
           "x": 0.05
          },
          "xaxis": {
           "automargin": true,
           "gridcolor": "#EBF0F8",
           "linecolor": "#EBF0F8",
           "ticks": "",
           "title": {
            "standoff": 15
           },
           "zerolinecolor": "#EBF0F8",
           "zerolinewidth": 2
          },
          "yaxis": {
           "automargin": true,
           "gridcolor": "#EBF0F8",
           "linecolor": "#EBF0F8",
           "ticks": "",
           "title": {
            "standoff": 15
           },
           "zerolinecolor": "#EBF0F8",
           "zerolinewidth": 2
          }
         }
        },
        "title": {
         "text": "Percentage of Papers with International Collaboration Over Time"
        },
        "xaxis": {
         "anchor": "y",
         "domain": [
          0,
          1
         ],
         "title": {
          "text": "Year"
         }
        },
        "yaxis": {
         "anchor": "x",
         "domain": [
          0,
          1
         ],
         "title": {
          "text": "% of Papers with >1 Country Represented"
         }
        }
       }
      },
      "text/html": [
       "<div>            <script src=\"https://cdnjs.cloudflare.com/ajax/libs/mathjax/2.7.5/MathJax.js?config=TeX-AMS-MML_SVG\"></script><script type=\"text/javascript\">if (window.MathJax && window.MathJax.Hub && window.MathJax.Hub.Config) {window.MathJax.Hub.Config({SVG: {font: \"STIX-Web\"}});}</script>                <script type=\"text/javascript\">window.PlotlyConfig = {MathJaxConfig: 'local'};</script>\n",
       "        <script charset=\"utf-8\" src=\"https://cdn.plot.ly/plotly-3.0.1.min.js\"></script>                <div id=\"95170f7e-71cb-43ee-a92e-b3cd5a4ffffe\" class=\"plotly-graph-div\" style=\"height:525px; width:100%;\"></div>            <script type=\"text/javascript\">                window.PLOTLYENV=window.PLOTLYENV || {};                                if (document.getElementById(\"95170f7e-71cb-43ee-a92e-b3cd5a4ffffe\")) {                    Plotly.newPlot(                        \"95170f7e-71cb-43ee-a92e-b3cd5a4ffffe\",                        [{\"hovertemplate\":\"Year=%{x}\\u003cbr\\u003e% of Papers with \\u003e1 Country Represented=%{y}\\u003cextra\\u003e\\u003c\\u002fextra\\u003e\",\"legendgroup\":\"\",\"line\":{\"color\":\"#636efa\",\"dash\":\"solid\"},\"marker\":{\"symbol\":\"circle\"},\"mode\":\"lines+markers\",\"name\":\"\",\"orientation\":\"v\",\"showlegend\":false,\"x\":{\"dtype\":\"i2\",\"bdata\":\"1gfXB9gH2QfaB9sH3AfdB94H3wfgB+EH4gfjB+QH5QfmB+cH6Ac=\"},\"xaxis\":\"x\",\"y\":{\"dtype\":\"f8\",\"bdata\":\"Hh4eHh4eQ0C\\u002fjl\\u002fHr+NFQJqZmZmZmUVAuDZMcxf8QECsV69evfpBQCB1yh91ykJAyUIWspAFQ0DHcRzHcZxCQMLYLKj2nEJALs1vcNWQOEASrbA5kGg6QBnLVYNNRz5A0xoPqsUfQEClBMuqTkpAQAGUlkE2rEFAgwNkItQdRECP+PeztMlEQIDScdE2jkVAsSPKjd\\u002fTR0A=\"},\"yaxis\":\"y\",\"type\":\"scatter\"}],                        {\"template\":{\"data\":{\"histogram2dcontour\":[{\"type\":\"histogram2dcontour\",\"colorbar\":{\"outlinewidth\":0,\"ticks\":\"\"},\"colorscale\":[[0.0,\"#0d0887\"],[0.1111111111111111,\"#46039f\"],[0.2222222222222222,\"#7201a8\"],[0.3333333333333333,\"#9c179e\"],[0.4444444444444444,\"#bd3786\"],[0.5555555555555556,\"#d8576b\"],[0.6666666666666666,\"#ed7953\"],[0.7777777777777778,\"#fb9f3a\"],[0.8888888888888888,\"#fdca26\"],[1.0,\"#f0f921\"]]}],\"choropleth\":[{\"type\":\"choropleth\",\"colorbar\":{\"outlinewidth\":0,\"ticks\":\"\"}}],\"histogram2d\":[{\"type\":\"histogram2d\",\"colorbar\":{\"outlinewidth\":0,\"ticks\":\"\"},\"colorscale\":[[0.0,\"#0d0887\"],[0.1111111111111111,\"#46039f\"],[0.2222222222222222,\"#7201a8\"],[0.3333333333333333,\"#9c179e\"],[0.4444444444444444,\"#bd3786\"],[0.5555555555555556,\"#d8576b\"],[0.6666666666666666,\"#ed7953\"],[0.7777777777777778,\"#fb9f3a\"],[0.8888888888888888,\"#fdca26\"],[1.0,\"#f0f921\"]]}],\"heatmap\":[{\"type\":\"heatmap\",\"colorbar\":{\"outlinewidth\":0,\"ticks\":\"\"},\"colorscale\":[[0.0,\"#0d0887\"],[0.1111111111111111,\"#46039f\"],[0.2222222222222222,\"#7201a8\"],[0.3333333333333333,\"#9c179e\"],[0.4444444444444444,\"#bd3786\"],[0.5555555555555556,\"#d8576b\"],[0.6666666666666666,\"#ed7953\"],[0.7777777777777778,\"#fb9f3a\"],[0.8888888888888888,\"#fdca26\"],[1.0,\"#f0f921\"]]}],\"contourcarpet\":[{\"type\":\"contourcarpet\",\"colorbar\":{\"outlinewidth\":0,\"ticks\":\"\"}}],\"contour\":[{\"type\":\"contour\",\"colorbar\":{\"outlinewidth\":0,\"ticks\":\"\"},\"colorscale\":[[0.0,\"#0d0887\"],[0.1111111111111111,\"#46039f\"],[0.2222222222222222,\"#7201a8\"],[0.3333333333333333,\"#9c179e\"],[0.4444444444444444,\"#bd3786\"],[0.5555555555555556,\"#d8576b\"],[0.6666666666666666,\"#ed7953\"],[0.7777777777777778,\"#fb9f3a\"],[0.8888888888888888,\"#fdca26\"],[1.0,\"#f0f921\"]]}],\"surface\":[{\"type\":\"surface\",\"colorbar\":{\"outlinewidth\":0,\"ticks\":\"\"},\"colorscale\":[[0.0,\"#0d0887\"],[0.1111111111111111,\"#46039f\"],[0.2222222222222222,\"#7201a8\"],[0.3333333333333333,\"#9c179e\"],[0.4444444444444444,\"#bd3786\"],[0.5555555555555556,\"#d8576b\"],[0.6666666666666666,\"#ed7953\"],[0.7777777777777778,\"#fb9f3a\"],[0.8888888888888888,\"#fdca26\"],[1.0,\"#f0f921\"]]}],\"mesh3d\":[{\"type\":\"mesh3d\",\"colorbar\":{\"outlinewidth\":0,\"ticks\":\"\"}}],\"scatter\":[{\"fillpattern\":{\"fillmode\":\"overlay\",\"size\":10,\"solidity\":0.2},\"type\":\"scatter\"}],\"parcoords\":[{\"type\":\"parcoords\",\"line\":{\"colorbar\":{\"outlinewidth\":0,\"ticks\":\"\"}}}],\"scatterpolargl\":[{\"type\":\"scatterpolargl\",\"marker\":{\"colorbar\":{\"outlinewidth\":0,\"ticks\":\"\"}}}],\"bar\":[{\"error_x\":{\"color\":\"#2a3f5f\"},\"error_y\":{\"color\":\"#2a3f5f\"},\"marker\":{\"line\":{\"color\":\"white\",\"width\":0.5},\"pattern\":{\"fillmode\":\"overlay\",\"size\":10,\"solidity\":0.2}},\"type\":\"bar\"}],\"scattergeo\":[{\"type\":\"scattergeo\",\"marker\":{\"colorbar\":{\"outlinewidth\":0,\"ticks\":\"\"}}}],\"scatterpolar\":[{\"type\":\"scatterpolar\",\"marker\":{\"colorbar\":{\"outlinewidth\":0,\"ticks\":\"\"}}}],\"histogram\":[{\"marker\":{\"pattern\":{\"fillmode\":\"overlay\",\"size\":10,\"solidity\":0.2}},\"type\":\"histogram\"}],\"scattergl\":[{\"type\":\"scattergl\",\"marker\":{\"colorbar\":{\"outlinewidth\":0,\"ticks\":\"\"}}}],\"scatter3d\":[{\"type\":\"scatter3d\",\"line\":{\"colorbar\":{\"outlinewidth\":0,\"ticks\":\"\"}},\"marker\":{\"colorbar\":{\"outlinewidth\":0,\"ticks\":\"\"}}}],\"scattermap\":[{\"type\":\"scattermap\",\"marker\":{\"colorbar\":{\"outlinewidth\":0,\"ticks\":\"\"}}}],\"scattermapbox\":[{\"type\":\"scattermapbox\",\"marker\":{\"colorbar\":{\"outlinewidth\":0,\"ticks\":\"\"}}}],\"scatterternary\":[{\"type\":\"scatterternary\",\"marker\":{\"colorbar\":{\"outlinewidth\":0,\"ticks\":\"\"}}}],\"scattercarpet\":[{\"type\":\"scattercarpet\",\"marker\":{\"colorbar\":{\"outlinewidth\":0,\"ticks\":\"\"}}}],\"carpet\":[{\"aaxis\":{\"endlinecolor\":\"#2a3f5f\",\"gridcolor\":\"#C8D4E3\",\"linecolor\":\"#C8D4E3\",\"minorgridcolor\":\"#C8D4E3\",\"startlinecolor\":\"#2a3f5f\"},\"baxis\":{\"endlinecolor\":\"#2a3f5f\",\"gridcolor\":\"#C8D4E3\",\"linecolor\":\"#C8D4E3\",\"minorgridcolor\":\"#C8D4E3\",\"startlinecolor\":\"#2a3f5f\"},\"type\":\"carpet\"}],\"table\":[{\"cells\":{\"fill\":{\"color\":\"#EBF0F8\"},\"line\":{\"color\":\"white\"}},\"header\":{\"fill\":{\"color\":\"#C8D4E3\"},\"line\":{\"color\":\"white\"}},\"type\":\"table\"}],\"barpolar\":[{\"marker\":{\"line\":{\"color\":\"white\",\"width\":0.5},\"pattern\":{\"fillmode\":\"overlay\",\"size\":10,\"solidity\":0.2}},\"type\":\"barpolar\"}],\"pie\":[{\"automargin\":true,\"type\":\"pie\"}]},\"layout\":{\"autotypenumbers\":\"strict\",\"colorway\":[\"#636efa\",\"#EF553B\",\"#00cc96\",\"#ab63fa\",\"#FFA15A\",\"#19d3f3\",\"#FF6692\",\"#B6E880\",\"#FF97FF\",\"#FECB52\"],\"font\":{\"color\":\"#2a3f5f\"},\"hovermode\":\"closest\",\"hoverlabel\":{\"align\":\"left\"},\"paper_bgcolor\":\"white\",\"plot_bgcolor\":\"white\",\"polar\":{\"bgcolor\":\"white\",\"angularaxis\":{\"gridcolor\":\"#EBF0F8\",\"linecolor\":\"#EBF0F8\",\"ticks\":\"\"},\"radialaxis\":{\"gridcolor\":\"#EBF0F8\",\"linecolor\":\"#EBF0F8\",\"ticks\":\"\"}},\"ternary\":{\"bgcolor\":\"white\",\"aaxis\":{\"gridcolor\":\"#DFE8F3\",\"linecolor\":\"#A2B1C6\",\"ticks\":\"\"},\"baxis\":{\"gridcolor\":\"#DFE8F3\",\"linecolor\":\"#A2B1C6\",\"ticks\":\"\"},\"caxis\":{\"gridcolor\":\"#DFE8F3\",\"linecolor\":\"#A2B1C6\",\"ticks\":\"\"}},\"coloraxis\":{\"colorbar\":{\"outlinewidth\":0,\"ticks\":\"\"}},\"colorscale\":{\"sequential\":[[0.0,\"#0d0887\"],[0.1111111111111111,\"#46039f\"],[0.2222222222222222,\"#7201a8\"],[0.3333333333333333,\"#9c179e\"],[0.4444444444444444,\"#bd3786\"],[0.5555555555555556,\"#d8576b\"],[0.6666666666666666,\"#ed7953\"],[0.7777777777777778,\"#fb9f3a\"],[0.8888888888888888,\"#fdca26\"],[1.0,\"#f0f921\"]],\"sequentialminus\":[[0.0,\"#0d0887\"],[0.1111111111111111,\"#46039f\"],[0.2222222222222222,\"#7201a8\"],[0.3333333333333333,\"#9c179e\"],[0.4444444444444444,\"#bd3786\"],[0.5555555555555556,\"#d8576b\"],[0.6666666666666666,\"#ed7953\"],[0.7777777777777778,\"#fb9f3a\"],[0.8888888888888888,\"#fdca26\"],[1.0,\"#f0f921\"]],\"diverging\":[[0,\"#8e0152\"],[0.1,\"#c51b7d\"],[0.2,\"#de77ae\"],[0.3,\"#f1b6da\"],[0.4,\"#fde0ef\"],[0.5,\"#f7f7f7\"],[0.6,\"#e6f5d0\"],[0.7,\"#b8e186\"],[0.8,\"#7fbc41\"],[0.9,\"#4d9221\"],[1,\"#276419\"]]},\"xaxis\":{\"gridcolor\":\"#EBF0F8\",\"linecolor\":\"#EBF0F8\",\"ticks\":\"\",\"title\":{\"standoff\":15},\"zerolinecolor\":\"#EBF0F8\",\"automargin\":true,\"zerolinewidth\":2},\"yaxis\":{\"gridcolor\":\"#EBF0F8\",\"linecolor\":\"#EBF0F8\",\"ticks\":\"\",\"title\":{\"standoff\":15},\"zerolinecolor\":\"#EBF0F8\",\"automargin\":true,\"zerolinewidth\":2},\"scene\":{\"xaxis\":{\"backgroundcolor\":\"white\",\"gridcolor\":\"#DFE8F3\",\"linecolor\":\"#EBF0F8\",\"showbackground\":true,\"ticks\":\"\",\"zerolinecolor\":\"#EBF0F8\",\"gridwidth\":2},\"yaxis\":{\"backgroundcolor\":\"white\",\"gridcolor\":\"#DFE8F3\",\"linecolor\":\"#EBF0F8\",\"showbackground\":true,\"ticks\":\"\",\"zerolinecolor\":\"#EBF0F8\",\"gridwidth\":2},\"zaxis\":{\"backgroundcolor\":\"white\",\"gridcolor\":\"#DFE8F3\",\"linecolor\":\"#EBF0F8\",\"showbackground\":true,\"ticks\":\"\",\"zerolinecolor\":\"#EBF0F8\",\"gridwidth\":2}},\"shapedefaults\":{\"line\":{\"color\":\"#2a3f5f\"}},\"annotationdefaults\":{\"arrowcolor\":\"#2a3f5f\",\"arrowhead\":0,\"arrowwidth\":1},\"geo\":{\"bgcolor\":\"white\",\"landcolor\":\"white\",\"subunitcolor\":\"#C8D4E3\",\"showland\":true,\"showlakes\":true,\"lakecolor\":\"white\"},\"title\":{\"x\":0.05},\"mapbox\":{\"style\":\"light\"}}},\"xaxis\":{\"anchor\":\"y\",\"domain\":[0.0,1.0],\"title\":{\"text\":\"Year\"}},\"yaxis\":{\"anchor\":\"x\",\"domain\":[0.0,1.0],\"title\":{\"text\":\"% of Papers with \\u003e1 Country Represented\"}},\"legend\":{\"tracegroupgap\":0},\"title\":{\"text\":\"Percentage of Papers with International Collaboration Over Time\"},\"hovermode\":\"x unified\"},                        {\"responsive\": true}                    ).then(function(){\n",
       "                            \n",
       "var gd = document.getElementById('95170f7e-71cb-43ee-a92e-b3cd5a4ffffe');\n",
       "var x = new MutationObserver(function (mutations, observer) {{\n",
       "        var display = window.getComputedStyle(gd).display;\n",
       "        if (!display || display === 'none') {{\n",
       "            console.log([gd, 'removed!']);\n",
       "            Plotly.purge(gd);\n",
       "            observer.disconnect();\n",
       "        }}\n",
       "}});\n",
       "\n",
       "// Listen for the removal of the full notebook cells\n",
       "var notebookContainer = gd.closest('#notebook-container');\n",
       "if (notebookContainer) {{\n",
       "    x.observe(notebookContainer, {childList: true});\n",
       "}}\n",
       "\n",
       "// Listen for the clearing of the current output cell\n",
       "var outputEl = gd.closest('.output');\n",
       "if (outputEl) {{\n",
       "    x.observe(outputEl, {childList: true});\n",
       "}}\n",
       "\n",
       "                        })                };            </script>        </div>"
      ]
     },
     "metadata": {},
     "output_type": "display_data"
    }
   ],
   "source": [
    "print(\"\\nInternational Collaboration Trends\")\n",
    "\n",
    "# Filter out unknown countries for this analysis\n",
    "collab_df = df[df['Country'] != 'Unknown Country'].copy()\n",
    "\n",
    "# Group by paper and count unique countries\n",
    "paper_countries = collab_df.groupby(['Conference', 'Year', 'Title'])['Country'].nunique().reset_index(name='NumCountries')\n",
    "\n",
    "# Calculate total number of unique papers per year\n",
    "unique_papers_per_year = df[['Conference', 'Year', 'Title']].drop_duplicates().groupby('Year').size().reset_index(name='TotalPapers')\n",
    "\n",
    "# Identify papers with international collaboration\n",
    "international_papers = paper_countries[paper_countries['NumCountries'] > 1]\n",
    "\n",
    "# Count international papers per year\n",
    "international_papers_per_year = international_papers.groupby('Year').size().reset_index(name='InternationalPapers')\n",
    "\n",
    "# Merge and calculate percentage\n",
    "collaboration_trend = pd.merge(unique_papers_per_year, international_papers_per_year, on='Year', how='left').fillna(0)\n",
    "collaboration_trend['PercentageInternational'] = (collaboration_trend['InternationalPapers'] / collaboration_trend['TotalPapers']) * 100\n",
    "\n",
    "# Visualization\n",
    "fig_h6 = px.line(collaboration_trend,\n",
    "                 x='Year', y='PercentageInternational', markers=True,\n",
    "                 title='Percentage of Papers with International Collaboration Over Time',\n",
    "                 labels={'PercentageInternational': '% of Papers with >1 Country Represented', 'Year': 'Year'})\n",
    "fig_h6.update_layout(hovermode=\"x unified\")\n",
    "fig_h6.show()"
   ]
  },
  {
   "cell_type": "markdown",
   "id": "bdca9860",
   "metadata": {},
   "source": [
    "**Findings:** The plot shows a clear and significant **upward trend** in the percentage of papers involving authors from more than one country. Starting below 40% in the early years, the rate increased steadily with a drop near 2015 nearing 50% in the most recent years.\n",
    "\n",
    "**Conclusion:** **H6 is supported.** International collaboration in AI research published at these top conferences has markedly increased over the analyzed period."
   ]
  },
  {
   "cell_type": "markdown",
   "id": "3b33fe5d",
   "metadata": {},
   "source": [
    "### H7: Academia-Industry Collaboration Trends\n",
    "\n",
    "**Hypothesis:** The proportion of papers involving collaboration between academic and industrial researchers has increased over time.\n",
    "\n",
    "**Quantification:** Identify unique papers and count the number of distinct affiliation types ('Academia', 'Industry') per paper. Calculate the percentage of papers per year with authors from *both* types."
   ]
  },
  {
   "cell_type": "code",
   "execution_count": 13,
   "id": "ef053f2b",
   "metadata": {},
   "outputs": [
    {
     "name": "stdout",
     "output_type": "stream",
     "text": [
      "\n",
      "Academia-Industry Collaboration Trends\n"
     ]
    },
    {
     "data": {
      "application/vnd.plotly.v1+json": {
       "config": {
        "plotlyServerURL": "https://plot.ly"
       },
       "data": [
        {
         "hovertemplate": "Year=%{x}<br>% of Papers with Both Academia & Industry Authors=%{y}<extra></extra>",
         "legendgroup": "",
         "line": {
          "color": "#636efa",
          "dash": "solid"
         },
         "marker": {
          "symbol": "circle"
         },
         "mode": "lines+markers",
         "name": "",
         "orientation": "v",
         "showlegend": false,
         "type": "scatter",
         "x": {
          "bdata": "1gfXB9gH2QfaB9sH3AfdB94H3wfgB+EH4gfjB+QH5QfmB+cH6Ac=",
          "dtype": "i2"
         },
         "xaxis": "x",
         "y": {
          "bdata": "oaCgoKCgQkDqynRlujJFQM3MzMzMzENAg7+KE1LyRUB0586dO3dBQKGgoKCgoEJA9aY3vemNRkAcx3Ecx7FEQGyp0KP7BEZA+9ck4nSYNECCRCtsDqQ7QI0To7MrEkFA1Jfv2FmxQkBe0Zvk5BVDQFd9gtjBrUJAE7ZvGpyLQ0DcN9eknZxDQEO+/a30LkRAfpA4yxfcREA=",
          "dtype": "f8"
         },
         "yaxis": "y"
        }
       ],
       "layout": {
        "hovermode": "x unified",
        "legend": {
         "tracegroupgap": 0
        },
        "template": {
         "data": {
          "bar": [
           {
            "error_x": {
             "color": "#2a3f5f"
            },
            "error_y": {
             "color": "#2a3f5f"
            },
            "marker": {
             "line": {
              "color": "white",
              "width": 0.5
             },
             "pattern": {
              "fillmode": "overlay",
              "size": 10,
              "solidity": 0.2
             }
            },
            "type": "bar"
           }
          ],
          "barpolar": [
           {
            "marker": {
             "line": {
              "color": "white",
              "width": 0.5
             },
             "pattern": {
              "fillmode": "overlay",
              "size": 10,
              "solidity": 0.2
             }
            },
            "type": "barpolar"
           }
          ],
          "carpet": [
           {
            "aaxis": {
             "endlinecolor": "#2a3f5f",
             "gridcolor": "#C8D4E3",
             "linecolor": "#C8D4E3",
             "minorgridcolor": "#C8D4E3",
             "startlinecolor": "#2a3f5f"
            },
            "baxis": {
             "endlinecolor": "#2a3f5f",
             "gridcolor": "#C8D4E3",
             "linecolor": "#C8D4E3",
             "minorgridcolor": "#C8D4E3",
             "startlinecolor": "#2a3f5f"
            },
            "type": "carpet"
           }
          ],
          "choropleth": [
           {
            "colorbar": {
             "outlinewidth": 0,
             "ticks": ""
            },
            "type": "choropleth"
           }
          ],
          "contour": [
           {
            "colorbar": {
             "outlinewidth": 0,
             "ticks": ""
            },
            "colorscale": [
             [
              0,
              "#0d0887"
             ],
             [
              0.1111111111111111,
              "#46039f"
             ],
             [
              0.2222222222222222,
              "#7201a8"
             ],
             [
              0.3333333333333333,
              "#9c179e"
             ],
             [
              0.4444444444444444,
              "#bd3786"
             ],
             [
              0.5555555555555556,
              "#d8576b"
             ],
             [
              0.6666666666666666,
              "#ed7953"
             ],
             [
              0.7777777777777778,
              "#fb9f3a"
             ],
             [
              0.8888888888888888,
              "#fdca26"
             ],
             [
              1,
              "#f0f921"
             ]
            ],
            "type": "contour"
           }
          ],
          "contourcarpet": [
           {
            "colorbar": {
             "outlinewidth": 0,
             "ticks": ""
            },
            "type": "contourcarpet"
           }
          ],
          "heatmap": [
           {
            "colorbar": {
             "outlinewidth": 0,
             "ticks": ""
            },
            "colorscale": [
             [
              0,
              "#0d0887"
             ],
             [
              0.1111111111111111,
              "#46039f"
             ],
             [
              0.2222222222222222,
              "#7201a8"
             ],
             [
              0.3333333333333333,
              "#9c179e"
             ],
             [
              0.4444444444444444,
              "#bd3786"
             ],
             [
              0.5555555555555556,
              "#d8576b"
             ],
             [
              0.6666666666666666,
              "#ed7953"
             ],
             [
              0.7777777777777778,
              "#fb9f3a"
             ],
             [
              0.8888888888888888,
              "#fdca26"
             ],
             [
              1,
              "#f0f921"
             ]
            ],
            "type": "heatmap"
           }
          ],
          "histogram": [
           {
            "marker": {
             "pattern": {
              "fillmode": "overlay",
              "size": 10,
              "solidity": 0.2
             }
            },
            "type": "histogram"
           }
          ],
          "histogram2d": [
           {
            "colorbar": {
             "outlinewidth": 0,
             "ticks": ""
            },
            "colorscale": [
             [
              0,
              "#0d0887"
             ],
             [
              0.1111111111111111,
              "#46039f"
             ],
             [
              0.2222222222222222,
              "#7201a8"
             ],
             [
              0.3333333333333333,
              "#9c179e"
             ],
             [
              0.4444444444444444,
              "#bd3786"
             ],
             [
              0.5555555555555556,
              "#d8576b"
             ],
             [
              0.6666666666666666,
              "#ed7953"
             ],
             [
              0.7777777777777778,
              "#fb9f3a"
             ],
             [
              0.8888888888888888,
              "#fdca26"
             ],
             [
              1,
              "#f0f921"
             ]
            ],
            "type": "histogram2d"
           }
          ],
          "histogram2dcontour": [
           {
            "colorbar": {
             "outlinewidth": 0,
             "ticks": ""
            },
            "colorscale": [
             [
              0,
              "#0d0887"
             ],
             [
              0.1111111111111111,
              "#46039f"
             ],
             [
              0.2222222222222222,
              "#7201a8"
             ],
             [
              0.3333333333333333,
              "#9c179e"
             ],
             [
              0.4444444444444444,
              "#bd3786"
             ],
             [
              0.5555555555555556,
              "#d8576b"
             ],
             [
              0.6666666666666666,
              "#ed7953"
             ],
             [
              0.7777777777777778,
              "#fb9f3a"
             ],
             [
              0.8888888888888888,
              "#fdca26"
             ],
             [
              1,
              "#f0f921"
             ]
            ],
            "type": "histogram2dcontour"
           }
          ],
          "mesh3d": [
           {
            "colorbar": {
             "outlinewidth": 0,
             "ticks": ""
            },
            "type": "mesh3d"
           }
          ],
          "parcoords": [
           {
            "line": {
             "colorbar": {
              "outlinewidth": 0,
              "ticks": ""
             }
            },
            "type": "parcoords"
           }
          ],
          "pie": [
           {
            "automargin": true,
            "type": "pie"
           }
          ],
          "scatter": [
           {
            "fillpattern": {
             "fillmode": "overlay",
             "size": 10,
             "solidity": 0.2
            },
            "type": "scatter"
           }
          ],
          "scatter3d": [
           {
            "line": {
             "colorbar": {
              "outlinewidth": 0,
              "ticks": ""
             }
            },
            "marker": {
             "colorbar": {
              "outlinewidth": 0,
              "ticks": ""
             }
            },
            "type": "scatter3d"
           }
          ],
          "scattercarpet": [
           {
            "marker": {
             "colorbar": {
              "outlinewidth": 0,
              "ticks": ""
             }
            },
            "type": "scattercarpet"
           }
          ],
          "scattergeo": [
           {
            "marker": {
             "colorbar": {
              "outlinewidth": 0,
              "ticks": ""
             }
            },
            "type": "scattergeo"
           }
          ],
          "scattergl": [
           {
            "marker": {
             "colorbar": {
              "outlinewidth": 0,
              "ticks": ""
             }
            },
            "type": "scattergl"
           }
          ],
          "scattermap": [
           {
            "marker": {
             "colorbar": {
              "outlinewidth": 0,
              "ticks": ""
             }
            },
            "type": "scattermap"
           }
          ],
          "scattermapbox": [
           {
            "marker": {
             "colorbar": {
              "outlinewidth": 0,
              "ticks": ""
             }
            },
            "type": "scattermapbox"
           }
          ],
          "scatterpolar": [
           {
            "marker": {
             "colorbar": {
              "outlinewidth": 0,
              "ticks": ""
             }
            },
            "type": "scatterpolar"
           }
          ],
          "scatterpolargl": [
           {
            "marker": {
             "colorbar": {
              "outlinewidth": 0,
              "ticks": ""
             }
            },
            "type": "scatterpolargl"
           }
          ],
          "scatterternary": [
           {
            "marker": {
             "colorbar": {
              "outlinewidth": 0,
              "ticks": ""
             }
            },
            "type": "scatterternary"
           }
          ],
          "surface": [
           {
            "colorbar": {
             "outlinewidth": 0,
             "ticks": ""
            },
            "colorscale": [
             [
              0,
              "#0d0887"
             ],
             [
              0.1111111111111111,
              "#46039f"
             ],
             [
              0.2222222222222222,
              "#7201a8"
             ],
             [
              0.3333333333333333,
              "#9c179e"
             ],
             [
              0.4444444444444444,
              "#bd3786"
             ],
             [
              0.5555555555555556,
              "#d8576b"
             ],
             [
              0.6666666666666666,
              "#ed7953"
             ],
             [
              0.7777777777777778,
              "#fb9f3a"
             ],
             [
              0.8888888888888888,
              "#fdca26"
             ],
             [
              1,
              "#f0f921"
             ]
            ],
            "type": "surface"
           }
          ],
          "table": [
           {
            "cells": {
             "fill": {
              "color": "#EBF0F8"
             },
             "line": {
              "color": "white"
             }
            },
            "header": {
             "fill": {
              "color": "#C8D4E3"
             },
             "line": {
              "color": "white"
             }
            },
            "type": "table"
           }
          ]
         },
         "layout": {
          "annotationdefaults": {
           "arrowcolor": "#2a3f5f",
           "arrowhead": 0,
           "arrowwidth": 1
          },
          "autotypenumbers": "strict",
          "coloraxis": {
           "colorbar": {
            "outlinewidth": 0,
            "ticks": ""
           }
          },
          "colorscale": {
           "diverging": [
            [
             0,
             "#8e0152"
            ],
            [
             0.1,
             "#c51b7d"
            ],
            [
             0.2,
             "#de77ae"
            ],
            [
             0.3,
             "#f1b6da"
            ],
            [
             0.4,
             "#fde0ef"
            ],
            [
             0.5,
             "#f7f7f7"
            ],
            [
             0.6,
             "#e6f5d0"
            ],
            [
             0.7,
             "#b8e186"
            ],
            [
             0.8,
             "#7fbc41"
            ],
            [
             0.9,
             "#4d9221"
            ],
            [
             1,
             "#276419"
            ]
           ],
           "sequential": [
            [
             0,
             "#0d0887"
            ],
            [
             0.1111111111111111,
             "#46039f"
            ],
            [
             0.2222222222222222,
             "#7201a8"
            ],
            [
             0.3333333333333333,
             "#9c179e"
            ],
            [
             0.4444444444444444,
             "#bd3786"
            ],
            [
             0.5555555555555556,
             "#d8576b"
            ],
            [
             0.6666666666666666,
             "#ed7953"
            ],
            [
             0.7777777777777778,
             "#fb9f3a"
            ],
            [
             0.8888888888888888,
             "#fdca26"
            ],
            [
             1,
             "#f0f921"
            ]
           ],
           "sequentialminus": [
            [
             0,
             "#0d0887"
            ],
            [
             0.1111111111111111,
             "#46039f"
            ],
            [
             0.2222222222222222,
             "#7201a8"
            ],
            [
             0.3333333333333333,
             "#9c179e"
            ],
            [
             0.4444444444444444,
             "#bd3786"
            ],
            [
             0.5555555555555556,
             "#d8576b"
            ],
            [
             0.6666666666666666,
             "#ed7953"
            ],
            [
             0.7777777777777778,
             "#fb9f3a"
            ],
            [
             0.8888888888888888,
             "#fdca26"
            ],
            [
             1,
             "#f0f921"
            ]
           ]
          },
          "colorway": [
           "#636efa",
           "#EF553B",
           "#00cc96",
           "#ab63fa",
           "#FFA15A",
           "#19d3f3",
           "#FF6692",
           "#B6E880",
           "#FF97FF",
           "#FECB52"
          ],
          "font": {
           "color": "#2a3f5f"
          },
          "geo": {
           "bgcolor": "white",
           "lakecolor": "white",
           "landcolor": "white",
           "showlakes": true,
           "showland": true,
           "subunitcolor": "#C8D4E3"
          },
          "hoverlabel": {
           "align": "left"
          },
          "hovermode": "closest",
          "mapbox": {
           "style": "light"
          },
          "paper_bgcolor": "white",
          "plot_bgcolor": "white",
          "polar": {
           "angularaxis": {
            "gridcolor": "#EBF0F8",
            "linecolor": "#EBF0F8",
            "ticks": ""
           },
           "bgcolor": "white",
           "radialaxis": {
            "gridcolor": "#EBF0F8",
            "linecolor": "#EBF0F8",
            "ticks": ""
           }
          },
          "scene": {
           "xaxis": {
            "backgroundcolor": "white",
            "gridcolor": "#DFE8F3",
            "gridwidth": 2,
            "linecolor": "#EBF0F8",
            "showbackground": true,
            "ticks": "",
            "zerolinecolor": "#EBF0F8"
           },
           "yaxis": {
            "backgroundcolor": "white",
            "gridcolor": "#DFE8F3",
            "gridwidth": 2,
            "linecolor": "#EBF0F8",
            "showbackground": true,
            "ticks": "",
            "zerolinecolor": "#EBF0F8"
           },
           "zaxis": {
            "backgroundcolor": "white",
            "gridcolor": "#DFE8F3",
            "gridwidth": 2,
            "linecolor": "#EBF0F8",
            "showbackground": true,
            "ticks": "",
            "zerolinecolor": "#EBF0F8"
           }
          },
          "shapedefaults": {
           "line": {
            "color": "#2a3f5f"
           }
          },
          "ternary": {
           "aaxis": {
            "gridcolor": "#DFE8F3",
            "linecolor": "#A2B1C6",
            "ticks": ""
           },
           "baxis": {
            "gridcolor": "#DFE8F3",
            "linecolor": "#A2B1C6",
            "ticks": ""
           },
           "bgcolor": "white",
           "caxis": {
            "gridcolor": "#DFE8F3",
            "linecolor": "#A2B1C6",
            "ticks": ""
           }
          },
          "title": {
           "x": 0.05
          },
          "xaxis": {
           "automargin": true,
           "gridcolor": "#EBF0F8",
           "linecolor": "#EBF0F8",
           "ticks": "",
           "title": {
            "standoff": 15
           },
           "zerolinecolor": "#EBF0F8",
           "zerolinewidth": 2
          },
          "yaxis": {
           "automargin": true,
           "gridcolor": "#EBF0F8",
           "linecolor": "#EBF0F8",
           "ticks": "",
           "title": {
            "standoff": 15
           },
           "zerolinecolor": "#EBF0F8",
           "zerolinewidth": 2
          }
         }
        },
        "title": {
         "text": "Percentage of Papers with Academia-Industry Collaboration Over Time"
        },
        "xaxis": {
         "anchor": "y",
         "domain": [
          0,
          1
         ],
         "title": {
          "text": "Year"
         }
        },
        "yaxis": {
         "anchor": "x",
         "domain": [
          0,
          1
         ],
         "title": {
          "text": "% of Papers with Both Academia & Industry Authors"
         }
        }
       }
      },
      "text/html": [
       "<div>            <script src=\"https://cdnjs.cloudflare.com/ajax/libs/mathjax/2.7.5/MathJax.js?config=TeX-AMS-MML_SVG\"></script><script type=\"text/javascript\">if (window.MathJax && window.MathJax.Hub && window.MathJax.Hub.Config) {window.MathJax.Hub.Config({SVG: {font: \"STIX-Web\"}});}</script>                <script type=\"text/javascript\">window.PlotlyConfig = {MathJaxConfig: 'local'};</script>\n",
       "        <script charset=\"utf-8\" src=\"https://cdn.plot.ly/plotly-3.0.1.min.js\"></script>                <div id=\"03f80de7-2df3-493c-8444-860afe53484b\" class=\"plotly-graph-div\" style=\"height:525px; width:100%;\"></div>            <script type=\"text/javascript\">                window.PLOTLYENV=window.PLOTLYENV || {};                                if (document.getElementById(\"03f80de7-2df3-493c-8444-860afe53484b\")) {                    Plotly.newPlot(                        \"03f80de7-2df3-493c-8444-860afe53484b\",                        [{\"hovertemplate\":\"Year=%{x}\\u003cbr\\u003e% of Papers with Both Academia & Industry Authors=%{y}\\u003cextra\\u003e\\u003c\\u002fextra\\u003e\",\"legendgroup\":\"\",\"line\":{\"color\":\"#636efa\",\"dash\":\"solid\"},\"marker\":{\"symbol\":\"circle\"},\"mode\":\"lines+markers\",\"name\":\"\",\"orientation\":\"v\",\"showlegend\":false,\"x\":{\"dtype\":\"i2\",\"bdata\":\"1gfXB9gH2QfaB9sH3AfdB94H3wfgB+EH4gfjB+QH5QfmB+cH6Ac=\"},\"xaxis\":\"x\",\"y\":{\"dtype\":\"f8\",\"bdata\":\"oaCgoKCgQkDqynRlujJFQM3MzMzMzENAg7+KE1LyRUB0586dO3dBQKGgoKCgoEJA9aY3vemNRkAcx3Ecx7FEQGyp0KP7BEZA+9ck4nSYNECCRCtsDqQ7QI0To7MrEkFA1Jfv2FmxQkBe0Zvk5BVDQFd9gtjBrUJAE7ZvGpyLQ0DcN9eknZxDQEO+\\u002fa30LkRAfpA4yxfcREA=\"},\"yaxis\":\"y\",\"type\":\"scatter\"}],                        {\"template\":{\"data\":{\"histogram2dcontour\":[{\"type\":\"histogram2dcontour\",\"colorbar\":{\"outlinewidth\":0,\"ticks\":\"\"},\"colorscale\":[[0.0,\"#0d0887\"],[0.1111111111111111,\"#46039f\"],[0.2222222222222222,\"#7201a8\"],[0.3333333333333333,\"#9c179e\"],[0.4444444444444444,\"#bd3786\"],[0.5555555555555556,\"#d8576b\"],[0.6666666666666666,\"#ed7953\"],[0.7777777777777778,\"#fb9f3a\"],[0.8888888888888888,\"#fdca26\"],[1.0,\"#f0f921\"]]}],\"choropleth\":[{\"type\":\"choropleth\",\"colorbar\":{\"outlinewidth\":0,\"ticks\":\"\"}}],\"histogram2d\":[{\"type\":\"histogram2d\",\"colorbar\":{\"outlinewidth\":0,\"ticks\":\"\"},\"colorscale\":[[0.0,\"#0d0887\"],[0.1111111111111111,\"#46039f\"],[0.2222222222222222,\"#7201a8\"],[0.3333333333333333,\"#9c179e\"],[0.4444444444444444,\"#bd3786\"],[0.5555555555555556,\"#d8576b\"],[0.6666666666666666,\"#ed7953\"],[0.7777777777777778,\"#fb9f3a\"],[0.8888888888888888,\"#fdca26\"],[1.0,\"#f0f921\"]]}],\"heatmap\":[{\"type\":\"heatmap\",\"colorbar\":{\"outlinewidth\":0,\"ticks\":\"\"},\"colorscale\":[[0.0,\"#0d0887\"],[0.1111111111111111,\"#46039f\"],[0.2222222222222222,\"#7201a8\"],[0.3333333333333333,\"#9c179e\"],[0.4444444444444444,\"#bd3786\"],[0.5555555555555556,\"#d8576b\"],[0.6666666666666666,\"#ed7953\"],[0.7777777777777778,\"#fb9f3a\"],[0.8888888888888888,\"#fdca26\"],[1.0,\"#f0f921\"]]}],\"contourcarpet\":[{\"type\":\"contourcarpet\",\"colorbar\":{\"outlinewidth\":0,\"ticks\":\"\"}}],\"contour\":[{\"type\":\"contour\",\"colorbar\":{\"outlinewidth\":0,\"ticks\":\"\"},\"colorscale\":[[0.0,\"#0d0887\"],[0.1111111111111111,\"#46039f\"],[0.2222222222222222,\"#7201a8\"],[0.3333333333333333,\"#9c179e\"],[0.4444444444444444,\"#bd3786\"],[0.5555555555555556,\"#d8576b\"],[0.6666666666666666,\"#ed7953\"],[0.7777777777777778,\"#fb9f3a\"],[0.8888888888888888,\"#fdca26\"],[1.0,\"#f0f921\"]]}],\"surface\":[{\"type\":\"surface\",\"colorbar\":{\"outlinewidth\":0,\"ticks\":\"\"},\"colorscale\":[[0.0,\"#0d0887\"],[0.1111111111111111,\"#46039f\"],[0.2222222222222222,\"#7201a8\"],[0.3333333333333333,\"#9c179e\"],[0.4444444444444444,\"#bd3786\"],[0.5555555555555556,\"#d8576b\"],[0.6666666666666666,\"#ed7953\"],[0.7777777777777778,\"#fb9f3a\"],[0.8888888888888888,\"#fdca26\"],[1.0,\"#f0f921\"]]}],\"mesh3d\":[{\"type\":\"mesh3d\",\"colorbar\":{\"outlinewidth\":0,\"ticks\":\"\"}}],\"scatter\":[{\"fillpattern\":{\"fillmode\":\"overlay\",\"size\":10,\"solidity\":0.2},\"type\":\"scatter\"}],\"parcoords\":[{\"type\":\"parcoords\",\"line\":{\"colorbar\":{\"outlinewidth\":0,\"ticks\":\"\"}}}],\"scatterpolargl\":[{\"type\":\"scatterpolargl\",\"marker\":{\"colorbar\":{\"outlinewidth\":0,\"ticks\":\"\"}}}],\"bar\":[{\"error_x\":{\"color\":\"#2a3f5f\"},\"error_y\":{\"color\":\"#2a3f5f\"},\"marker\":{\"line\":{\"color\":\"white\",\"width\":0.5},\"pattern\":{\"fillmode\":\"overlay\",\"size\":10,\"solidity\":0.2}},\"type\":\"bar\"}],\"scattergeo\":[{\"type\":\"scattergeo\",\"marker\":{\"colorbar\":{\"outlinewidth\":0,\"ticks\":\"\"}}}],\"scatterpolar\":[{\"type\":\"scatterpolar\",\"marker\":{\"colorbar\":{\"outlinewidth\":0,\"ticks\":\"\"}}}],\"histogram\":[{\"marker\":{\"pattern\":{\"fillmode\":\"overlay\",\"size\":10,\"solidity\":0.2}},\"type\":\"histogram\"}],\"scattergl\":[{\"type\":\"scattergl\",\"marker\":{\"colorbar\":{\"outlinewidth\":0,\"ticks\":\"\"}}}],\"scatter3d\":[{\"type\":\"scatter3d\",\"line\":{\"colorbar\":{\"outlinewidth\":0,\"ticks\":\"\"}},\"marker\":{\"colorbar\":{\"outlinewidth\":0,\"ticks\":\"\"}}}],\"scattermap\":[{\"type\":\"scattermap\",\"marker\":{\"colorbar\":{\"outlinewidth\":0,\"ticks\":\"\"}}}],\"scattermapbox\":[{\"type\":\"scattermapbox\",\"marker\":{\"colorbar\":{\"outlinewidth\":0,\"ticks\":\"\"}}}],\"scatterternary\":[{\"type\":\"scatterternary\",\"marker\":{\"colorbar\":{\"outlinewidth\":0,\"ticks\":\"\"}}}],\"scattercarpet\":[{\"type\":\"scattercarpet\",\"marker\":{\"colorbar\":{\"outlinewidth\":0,\"ticks\":\"\"}}}],\"carpet\":[{\"aaxis\":{\"endlinecolor\":\"#2a3f5f\",\"gridcolor\":\"#C8D4E3\",\"linecolor\":\"#C8D4E3\",\"minorgridcolor\":\"#C8D4E3\",\"startlinecolor\":\"#2a3f5f\"},\"baxis\":{\"endlinecolor\":\"#2a3f5f\",\"gridcolor\":\"#C8D4E3\",\"linecolor\":\"#C8D4E3\",\"minorgridcolor\":\"#C8D4E3\",\"startlinecolor\":\"#2a3f5f\"},\"type\":\"carpet\"}],\"table\":[{\"cells\":{\"fill\":{\"color\":\"#EBF0F8\"},\"line\":{\"color\":\"white\"}},\"header\":{\"fill\":{\"color\":\"#C8D4E3\"},\"line\":{\"color\":\"white\"}},\"type\":\"table\"}],\"barpolar\":[{\"marker\":{\"line\":{\"color\":\"white\",\"width\":0.5},\"pattern\":{\"fillmode\":\"overlay\",\"size\":10,\"solidity\":0.2}},\"type\":\"barpolar\"}],\"pie\":[{\"automargin\":true,\"type\":\"pie\"}]},\"layout\":{\"autotypenumbers\":\"strict\",\"colorway\":[\"#636efa\",\"#EF553B\",\"#00cc96\",\"#ab63fa\",\"#FFA15A\",\"#19d3f3\",\"#FF6692\",\"#B6E880\",\"#FF97FF\",\"#FECB52\"],\"font\":{\"color\":\"#2a3f5f\"},\"hovermode\":\"closest\",\"hoverlabel\":{\"align\":\"left\"},\"paper_bgcolor\":\"white\",\"plot_bgcolor\":\"white\",\"polar\":{\"bgcolor\":\"white\",\"angularaxis\":{\"gridcolor\":\"#EBF0F8\",\"linecolor\":\"#EBF0F8\",\"ticks\":\"\"},\"radialaxis\":{\"gridcolor\":\"#EBF0F8\",\"linecolor\":\"#EBF0F8\",\"ticks\":\"\"}},\"ternary\":{\"bgcolor\":\"white\",\"aaxis\":{\"gridcolor\":\"#DFE8F3\",\"linecolor\":\"#A2B1C6\",\"ticks\":\"\"},\"baxis\":{\"gridcolor\":\"#DFE8F3\",\"linecolor\":\"#A2B1C6\",\"ticks\":\"\"},\"caxis\":{\"gridcolor\":\"#DFE8F3\",\"linecolor\":\"#A2B1C6\",\"ticks\":\"\"}},\"coloraxis\":{\"colorbar\":{\"outlinewidth\":0,\"ticks\":\"\"}},\"colorscale\":{\"sequential\":[[0.0,\"#0d0887\"],[0.1111111111111111,\"#46039f\"],[0.2222222222222222,\"#7201a8\"],[0.3333333333333333,\"#9c179e\"],[0.4444444444444444,\"#bd3786\"],[0.5555555555555556,\"#d8576b\"],[0.6666666666666666,\"#ed7953\"],[0.7777777777777778,\"#fb9f3a\"],[0.8888888888888888,\"#fdca26\"],[1.0,\"#f0f921\"]],\"sequentialminus\":[[0.0,\"#0d0887\"],[0.1111111111111111,\"#46039f\"],[0.2222222222222222,\"#7201a8\"],[0.3333333333333333,\"#9c179e\"],[0.4444444444444444,\"#bd3786\"],[0.5555555555555556,\"#d8576b\"],[0.6666666666666666,\"#ed7953\"],[0.7777777777777778,\"#fb9f3a\"],[0.8888888888888888,\"#fdca26\"],[1.0,\"#f0f921\"]],\"diverging\":[[0,\"#8e0152\"],[0.1,\"#c51b7d\"],[0.2,\"#de77ae\"],[0.3,\"#f1b6da\"],[0.4,\"#fde0ef\"],[0.5,\"#f7f7f7\"],[0.6,\"#e6f5d0\"],[0.7,\"#b8e186\"],[0.8,\"#7fbc41\"],[0.9,\"#4d9221\"],[1,\"#276419\"]]},\"xaxis\":{\"gridcolor\":\"#EBF0F8\",\"linecolor\":\"#EBF0F8\",\"ticks\":\"\",\"title\":{\"standoff\":15},\"zerolinecolor\":\"#EBF0F8\",\"automargin\":true,\"zerolinewidth\":2},\"yaxis\":{\"gridcolor\":\"#EBF0F8\",\"linecolor\":\"#EBF0F8\",\"ticks\":\"\",\"title\":{\"standoff\":15},\"zerolinecolor\":\"#EBF0F8\",\"automargin\":true,\"zerolinewidth\":2},\"scene\":{\"xaxis\":{\"backgroundcolor\":\"white\",\"gridcolor\":\"#DFE8F3\",\"linecolor\":\"#EBF0F8\",\"showbackground\":true,\"ticks\":\"\",\"zerolinecolor\":\"#EBF0F8\",\"gridwidth\":2},\"yaxis\":{\"backgroundcolor\":\"white\",\"gridcolor\":\"#DFE8F3\",\"linecolor\":\"#EBF0F8\",\"showbackground\":true,\"ticks\":\"\",\"zerolinecolor\":\"#EBF0F8\",\"gridwidth\":2},\"zaxis\":{\"backgroundcolor\":\"white\",\"gridcolor\":\"#DFE8F3\",\"linecolor\":\"#EBF0F8\",\"showbackground\":true,\"ticks\":\"\",\"zerolinecolor\":\"#EBF0F8\",\"gridwidth\":2}},\"shapedefaults\":{\"line\":{\"color\":\"#2a3f5f\"}},\"annotationdefaults\":{\"arrowcolor\":\"#2a3f5f\",\"arrowhead\":0,\"arrowwidth\":1},\"geo\":{\"bgcolor\":\"white\",\"landcolor\":\"white\",\"subunitcolor\":\"#C8D4E3\",\"showland\":true,\"showlakes\":true,\"lakecolor\":\"white\"},\"title\":{\"x\":0.05},\"mapbox\":{\"style\":\"light\"}}},\"xaxis\":{\"anchor\":\"y\",\"domain\":[0.0,1.0],\"title\":{\"text\":\"Year\"}},\"yaxis\":{\"anchor\":\"x\",\"domain\":[0.0,1.0],\"title\":{\"text\":\"% of Papers with Both Academia & Industry Authors\"}},\"legend\":{\"tracegroupgap\":0},\"title\":{\"text\":\"Percentage of Papers with Academia-Industry Collaboration Over Time\"},\"hovermode\":\"x unified\"},                        {\"responsive\": true}                    ).then(function(){\n",
       "                            \n",
       "var gd = document.getElementById('03f80de7-2df3-493c-8444-860afe53484b');\n",
       "var x = new MutationObserver(function (mutations, observer) {{\n",
       "        var display = window.getComputedStyle(gd).display;\n",
       "        if (!display || display === 'none') {{\n",
       "            console.log([gd, 'removed!']);\n",
       "            Plotly.purge(gd);\n",
       "            observer.disconnect();\n",
       "        }}\n",
       "}});\n",
       "\n",
       "// Listen for the removal of the full notebook cells\n",
       "var notebookContainer = gd.closest('#notebook-container');\n",
       "if (notebookContainer) {{\n",
       "    x.observe(notebookContainer, {childList: true});\n",
       "}}\n",
       "\n",
       "// Listen for the clearing of the current output cell\n",
       "var outputEl = gd.closest('.output');\n",
       "if (outputEl) {{\n",
       "    x.observe(outputEl, {childList: true});\n",
       "}}\n",
       "\n",
       "                        })                };            </script>        </div>"
      ]
     },
     "metadata": {},
     "output_type": "display_data"
    }
   ],
   "source": [
    "print(\"\\nAcademia-Industry Collaboration Trends\")\n",
    "\n",
    "# Filter out unknown/other types\n",
    "acad_ind_df = df[df['Type'].isin(['Academia', 'Industry'])].copy()\n",
    "\n",
    "# Group by paper and find the set of unique types\n",
    "paper_types = acad_ind_df.groupby(['Conference', 'Year', 'Title'])['Type'].apply(set).reset_index(name='TypeSet')\n",
    "\n",
    "# Identify papers with mixed collaboration\n",
    "paper_types['IsMixedCollaboration'] = paper_types['TypeSet'].apply(lambda x: {'Academia', 'Industry'}.issubset(x))\n",
    "\n",
    "# Use unique_papers_per_year from H6\n",
    "# Count mixed papers per year\n",
    "mixed_papers = paper_types[paper_types['IsMixedCollaboration']]\n",
    "mixed_papers_per_year = mixed_papers.groupby('Year').size().reset_index(name='MixedPapers')\n",
    "\n",
    "# Merge and calculate percentage\n",
    "acad_ind_trend = pd.merge(unique_papers_per_year, mixed_papers_per_year, on='Year', how='left').fillna(0)\n",
    "acad_ind_trend['PercentageMixed'] = (acad_ind_trend['MixedPapers'] / acad_ind_trend['TotalPapers']) * 100\n",
    "\n",
    "# Visualization\n",
    "fig_h7 = px.line(acad_ind_trend,\n",
    "                 x='Year', y='PercentageMixed', markers=True,\n",
    "                 title='Percentage of Papers with Academia-Industry Collaboration Over Time',\n",
    "                 labels={'PercentageMixed': '% of Papers with Both Academia & Industry Authors', 'Year': 'Year'})\n",
    "fig_h7.update_layout(hovermode=\"x unified\")\n",
    "fig_h7.show()"
   ]
  },
  {
   "cell_type": "markdown",
   "id": "0bcf0958",
   "metadata": {},
   "source": [
    "**Findings:** Similar to international collaboration, the percentage of papers featuring authors from both academic and industrial institutions shows an **upward trend**. Starting below 40% in the early years, this form of collaboration increased substantially, particularly after a drop near 2015, reaching nearly 45% in recent years.\n",
    "\n",
    "**Conclusion:** **H7 is supported.** Collaboration between academia and industry, as reflected in co-authored papers at these conferences, has significantly increased over time."
   ]
  },
  {
   "cell_type": "markdown",
   "id": "ac5538b1",
   "metadata": {},
   "source": [
    "### H8: Evolution within China (Academia vs. Industry)\n",
    "\n",
    "**Hypothesis:** Within China, the balance between academic and industrial contributions has shifted significantly over time.\n",
    "\n",
    "**Quantification:** Filter for China, then plot the percentage share of 'Academia' vs. 'Industry' instances over time within the country."
   ]
  },
  {
   "cell_type": "code",
   "execution_count": 16,
   "id": "822d8e9d",
   "metadata": {},
   "outputs": [
    {
     "name": "stdout",
     "output_type": "stream",
     "text": [
      "\n",
      "Academia vs. Industry Trend within China\n"
     ]
    },
    {
     "data": {
      "application/vnd.plotly.v1+json": {
       "config": {
        "plotlyServerURL": "https://plot.ly"
       },
       "data": [
        {
         "hovertemplate": "Institution Type=Academia<br>Year=%{x}<br>% of China Yearly Instances=%{y}<extra></extra>",
         "legendgroup": "Academia",
         "line": {
          "color": "#636efa",
          "dash": "solid"
         },
         "marker": {
          "symbol": "circle"
         },
         "mode": "lines+markers",
         "name": "Academia",
         "orientation": "v",
         "showlegend": true,
         "type": "scatter",
         "x": {
          "bdata": "1gfXB9gH2QfaB9sH3AfdB94H3wfgB+EH4gfjB+QH5QfmB+cH6Ac=",
          "dtype": "i2"
         },
         "xaxis": "x",
         "y": {
          "bdata": "AAAAAADAQkAAAAAAAAAkQEUXXXTRRUtAlFJKKaWURkCx3NMIyz1RQGppaWlpaU1AL7rooouuTkBtsskmm2xRQC0tLS0tLVBALt/yLd/yUUDtStSuRG1UQKzWW1CG1VJAQHBDaNVfUUDgiMPyo8VSQLzR1Pm1h1FAvBGQ0m6EUkDGHhTSa4tTQKRF2t/ga1RATruXeFIGVUA=",
          "dtype": "f8"
         },
         "yaxis": "y"
        },
        {
         "hovertemplate": "Institution Type=Industry<br>Year=%{x}<br>% of China Yearly Instances=%{y}<extra></extra>",
         "legendgroup": "Industry",
         "line": {
          "color": "#EF553B",
          "dash": "solid"
         },
         "marker": {
          "symbol": "circle"
         },
         "mode": "lines+markers",
         "name": "Industry",
         "orientation": "v",
         "showlegend": true,
         "type": "scatter",
         "x": {
          "bdata": "1gfXB9gH2QfaB9sH3AfdB94H3wfgB+EH4gfjB+QH5QfmB+cH6Ac=",
          "dtype": "i2"
         },
         "xaxis": "x",
         "y": {
          "bdata": "AAAAAABAT0AAAAAAAIBWQLrooosuukZAa6211lprS0A+jbDc0wg/QJaWlpaWlkRA0UUXXXRRQ0BONtlkk00+QKalpaWlpUFASIM0SIM0PEBL1K5E7UoyQE+lkL7mqThAAD/yXqqAPkCB3PE0cOk4QBC5rBgo4T1AE7m/tUTuOUDqhK+3UNI1QHHploB8UDJAjyVCO2zNL0A=",
          "dtype": "f8"
         },
         "yaxis": "y"
        }
       ],
       "layout": {
        "hovermode": "x unified",
        "legend": {
         "title": {
          "text": "Institution Type"
         },
         "tracegroupgap": 0
        },
        "template": {
         "data": {
          "bar": [
           {
            "error_x": {
             "color": "#2a3f5f"
            },
            "error_y": {
             "color": "#2a3f5f"
            },
            "marker": {
             "line": {
              "color": "white",
              "width": 0.5
             },
             "pattern": {
              "fillmode": "overlay",
              "size": 10,
              "solidity": 0.2
             }
            },
            "type": "bar"
           }
          ],
          "barpolar": [
           {
            "marker": {
             "line": {
              "color": "white",
              "width": 0.5
             },
             "pattern": {
              "fillmode": "overlay",
              "size": 10,
              "solidity": 0.2
             }
            },
            "type": "barpolar"
           }
          ],
          "carpet": [
           {
            "aaxis": {
             "endlinecolor": "#2a3f5f",
             "gridcolor": "#C8D4E3",
             "linecolor": "#C8D4E3",
             "minorgridcolor": "#C8D4E3",
             "startlinecolor": "#2a3f5f"
            },
            "baxis": {
             "endlinecolor": "#2a3f5f",
             "gridcolor": "#C8D4E3",
             "linecolor": "#C8D4E3",
             "minorgridcolor": "#C8D4E3",
             "startlinecolor": "#2a3f5f"
            },
            "type": "carpet"
           }
          ],
          "choropleth": [
           {
            "colorbar": {
             "outlinewidth": 0,
             "ticks": ""
            },
            "type": "choropleth"
           }
          ],
          "contour": [
           {
            "colorbar": {
             "outlinewidth": 0,
             "ticks": ""
            },
            "colorscale": [
             [
              0,
              "#0d0887"
             ],
             [
              0.1111111111111111,
              "#46039f"
             ],
             [
              0.2222222222222222,
              "#7201a8"
             ],
             [
              0.3333333333333333,
              "#9c179e"
             ],
             [
              0.4444444444444444,
              "#bd3786"
             ],
             [
              0.5555555555555556,
              "#d8576b"
             ],
             [
              0.6666666666666666,
              "#ed7953"
             ],
             [
              0.7777777777777778,
              "#fb9f3a"
             ],
             [
              0.8888888888888888,
              "#fdca26"
             ],
             [
              1,
              "#f0f921"
             ]
            ],
            "type": "contour"
           }
          ],
          "contourcarpet": [
           {
            "colorbar": {
             "outlinewidth": 0,
             "ticks": ""
            },
            "type": "contourcarpet"
           }
          ],
          "heatmap": [
           {
            "colorbar": {
             "outlinewidth": 0,
             "ticks": ""
            },
            "colorscale": [
             [
              0,
              "#0d0887"
             ],
             [
              0.1111111111111111,
              "#46039f"
             ],
             [
              0.2222222222222222,
              "#7201a8"
             ],
             [
              0.3333333333333333,
              "#9c179e"
             ],
             [
              0.4444444444444444,
              "#bd3786"
             ],
             [
              0.5555555555555556,
              "#d8576b"
             ],
             [
              0.6666666666666666,
              "#ed7953"
             ],
             [
              0.7777777777777778,
              "#fb9f3a"
             ],
             [
              0.8888888888888888,
              "#fdca26"
             ],
             [
              1,
              "#f0f921"
             ]
            ],
            "type": "heatmap"
           }
          ],
          "histogram": [
           {
            "marker": {
             "pattern": {
              "fillmode": "overlay",
              "size": 10,
              "solidity": 0.2
             }
            },
            "type": "histogram"
           }
          ],
          "histogram2d": [
           {
            "colorbar": {
             "outlinewidth": 0,
             "ticks": ""
            },
            "colorscale": [
             [
              0,
              "#0d0887"
             ],
             [
              0.1111111111111111,
              "#46039f"
             ],
             [
              0.2222222222222222,
              "#7201a8"
             ],
             [
              0.3333333333333333,
              "#9c179e"
             ],
             [
              0.4444444444444444,
              "#bd3786"
             ],
             [
              0.5555555555555556,
              "#d8576b"
             ],
             [
              0.6666666666666666,
              "#ed7953"
             ],
             [
              0.7777777777777778,
              "#fb9f3a"
             ],
             [
              0.8888888888888888,
              "#fdca26"
             ],
             [
              1,
              "#f0f921"
             ]
            ],
            "type": "histogram2d"
           }
          ],
          "histogram2dcontour": [
           {
            "colorbar": {
             "outlinewidth": 0,
             "ticks": ""
            },
            "colorscale": [
             [
              0,
              "#0d0887"
             ],
             [
              0.1111111111111111,
              "#46039f"
             ],
             [
              0.2222222222222222,
              "#7201a8"
             ],
             [
              0.3333333333333333,
              "#9c179e"
             ],
             [
              0.4444444444444444,
              "#bd3786"
             ],
             [
              0.5555555555555556,
              "#d8576b"
             ],
             [
              0.6666666666666666,
              "#ed7953"
             ],
             [
              0.7777777777777778,
              "#fb9f3a"
             ],
             [
              0.8888888888888888,
              "#fdca26"
             ],
             [
              1,
              "#f0f921"
             ]
            ],
            "type": "histogram2dcontour"
           }
          ],
          "mesh3d": [
           {
            "colorbar": {
             "outlinewidth": 0,
             "ticks": ""
            },
            "type": "mesh3d"
           }
          ],
          "parcoords": [
           {
            "line": {
             "colorbar": {
              "outlinewidth": 0,
              "ticks": ""
             }
            },
            "type": "parcoords"
           }
          ],
          "pie": [
           {
            "automargin": true,
            "type": "pie"
           }
          ],
          "scatter": [
           {
            "fillpattern": {
             "fillmode": "overlay",
             "size": 10,
             "solidity": 0.2
            },
            "type": "scatter"
           }
          ],
          "scatter3d": [
           {
            "line": {
             "colorbar": {
              "outlinewidth": 0,
              "ticks": ""
             }
            },
            "marker": {
             "colorbar": {
              "outlinewidth": 0,
              "ticks": ""
             }
            },
            "type": "scatter3d"
           }
          ],
          "scattercarpet": [
           {
            "marker": {
             "colorbar": {
              "outlinewidth": 0,
              "ticks": ""
             }
            },
            "type": "scattercarpet"
           }
          ],
          "scattergeo": [
           {
            "marker": {
             "colorbar": {
              "outlinewidth": 0,
              "ticks": ""
             }
            },
            "type": "scattergeo"
           }
          ],
          "scattergl": [
           {
            "marker": {
             "colorbar": {
              "outlinewidth": 0,
              "ticks": ""
             }
            },
            "type": "scattergl"
           }
          ],
          "scattermap": [
           {
            "marker": {
             "colorbar": {
              "outlinewidth": 0,
              "ticks": ""
             }
            },
            "type": "scattermap"
           }
          ],
          "scattermapbox": [
           {
            "marker": {
             "colorbar": {
              "outlinewidth": 0,
              "ticks": ""
             }
            },
            "type": "scattermapbox"
           }
          ],
          "scatterpolar": [
           {
            "marker": {
             "colorbar": {
              "outlinewidth": 0,
              "ticks": ""
             }
            },
            "type": "scatterpolar"
           }
          ],
          "scatterpolargl": [
           {
            "marker": {
             "colorbar": {
              "outlinewidth": 0,
              "ticks": ""
             }
            },
            "type": "scatterpolargl"
           }
          ],
          "scatterternary": [
           {
            "marker": {
             "colorbar": {
              "outlinewidth": 0,
              "ticks": ""
             }
            },
            "type": "scatterternary"
           }
          ],
          "surface": [
           {
            "colorbar": {
             "outlinewidth": 0,
             "ticks": ""
            },
            "colorscale": [
             [
              0,
              "#0d0887"
             ],
             [
              0.1111111111111111,
              "#46039f"
             ],
             [
              0.2222222222222222,
              "#7201a8"
             ],
             [
              0.3333333333333333,
              "#9c179e"
             ],
             [
              0.4444444444444444,
              "#bd3786"
             ],
             [
              0.5555555555555556,
              "#d8576b"
             ],
             [
              0.6666666666666666,
              "#ed7953"
             ],
             [
              0.7777777777777778,
              "#fb9f3a"
             ],
             [
              0.8888888888888888,
              "#fdca26"
             ],
             [
              1,
              "#f0f921"
             ]
            ],
            "type": "surface"
           }
          ],
          "table": [
           {
            "cells": {
             "fill": {
              "color": "#EBF0F8"
             },
             "line": {
              "color": "white"
             }
            },
            "header": {
             "fill": {
              "color": "#C8D4E3"
             },
             "line": {
              "color": "white"
             }
            },
            "type": "table"
           }
          ]
         },
         "layout": {
          "annotationdefaults": {
           "arrowcolor": "#2a3f5f",
           "arrowhead": 0,
           "arrowwidth": 1
          },
          "autotypenumbers": "strict",
          "coloraxis": {
           "colorbar": {
            "outlinewidth": 0,
            "ticks": ""
           }
          },
          "colorscale": {
           "diverging": [
            [
             0,
             "#8e0152"
            ],
            [
             0.1,
             "#c51b7d"
            ],
            [
             0.2,
             "#de77ae"
            ],
            [
             0.3,
             "#f1b6da"
            ],
            [
             0.4,
             "#fde0ef"
            ],
            [
             0.5,
             "#f7f7f7"
            ],
            [
             0.6,
             "#e6f5d0"
            ],
            [
             0.7,
             "#b8e186"
            ],
            [
             0.8,
             "#7fbc41"
            ],
            [
             0.9,
             "#4d9221"
            ],
            [
             1,
             "#276419"
            ]
           ],
           "sequential": [
            [
             0,
             "#0d0887"
            ],
            [
             0.1111111111111111,
             "#46039f"
            ],
            [
             0.2222222222222222,
             "#7201a8"
            ],
            [
             0.3333333333333333,
             "#9c179e"
            ],
            [
             0.4444444444444444,
             "#bd3786"
            ],
            [
             0.5555555555555556,
             "#d8576b"
            ],
            [
             0.6666666666666666,
             "#ed7953"
            ],
            [
             0.7777777777777778,
             "#fb9f3a"
            ],
            [
             0.8888888888888888,
             "#fdca26"
            ],
            [
             1,
             "#f0f921"
            ]
           ],
           "sequentialminus": [
            [
             0,
             "#0d0887"
            ],
            [
             0.1111111111111111,
             "#46039f"
            ],
            [
             0.2222222222222222,
             "#7201a8"
            ],
            [
             0.3333333333333333,
             "#9c179e"
            ],
            [
             0.4444444444444444,
             "#bd3786"
            ],
            [
             0.5555555555555556,
             "#d8576b"
            ],
            [
             0.6666666666666666,
             "#ed7953"
            ],
            [
             0.7777777777777778,
             "#fb9f3a"
            ],
            [
             0.8888888888888888,
             "#fdca26"
            ],
            [
             1,
             "#f0f921"
            ]
           ]
          },
          "colorway": [
           "#636efa",
           "#EF553B",
           "#00cc96",
           "#ab63fa",
           "#FFA15A",
           "#19d3f3",
           "#FF6692",
           "#B6E880",
           "#FF97FF",
           "#FECB52"
          ],
          "font": {
           "color": "#2a3f5f"
          },
          "geo": {
           "bgcolor": "white",
           "lakecolor": "white",
           "landcolor": "white",
           "showlakes": true,
           "showland": true,
           "subunitcolor": "#C8D4E3"
          },
          "hoverlabel": {
           "align": "left"
          },
          "hovermode": "closest",
          "mapbox": {
           "style": "light"
          },
          "paper_bgcolor": "white",
          "plot_bgcolor": "white",
          "polar": {
           "angularaxis": {
            "gridcolor": "#EBF0F8",
            "linecolor": "#EBF0F8",
            "ticks": ""
           },
           "bgcolor": "white",
           "radialaxis": {
            "gridcolor": "#EBF0F8",
            "linecolor": "#EBF0F8",
            "ticks": ""
           }
          },
          "scene": {
           "xaxis": {
            "backgroundcolor": "white",
            "gridcolor": "#DFE8F3",
            "gridwidth": 2,
            "linecolor": "#EBF0F8",
            "showbackground": true,
            "ticks": "",
            "zerolinecolor": "#EBF0F8"
           },
           "yaxis": {
            "backgroundcolor": "white",
            "gridcolor": "#DFE8F3",
            "gridwidth": 2,
            "linecolor": "#EBF0F8",
            "showbackground": true,
            "ticks": "",
            "zerolinecolor": "#EBF0F8"
           },
           "zaxis": {
            "backgroundcolor": "white",
            "gridcolor": "#DFE8F3",
            "gridwidth": 2,
            "linecolor": "#EBF0F8",
            "showbackground": true,
            "ticks": "",
            "zerolinecolor": "#EBF0F8"
           }
          },
          "shapedefaults": {
           "line": {
            "color": "#2a3f5f"
           }
          },
          "ternary": {
           "aaxis": {
            "gridcolor": "#DFE8F3",
            "linecolor": "#A2B1C6",
            "ticks": ""
           },
           "baxis": {
            "gridcolor": "#DFE8F3",
            "linecolor": "#A2B1C6",
            "ticks": ""
           },
           "bgcolor": "white",
           "caxis": {
            "gridcolor": "#DFE8F3",
            "linecolor": "#A2B1C6",
            "ticks": ""
           }
          },
          "title": {
           "x": 0.05
          },
          "xaxis": {
           "automargin": true,
           "gridcolor": "#EBF0F8",
           "linecolor": "#EBF0F8",
           "ticks": "",
           "title": {
            "standoff": 15
           },
           "zerolinecolor": "#EBF0F8",
           "zerolinewidth": 2
          },
          "yaxis": {
           "automargin": true,
           "gridcolor": "#EBF0F8",
           "linecolor": "#EBF0F8",
           "ticks": "",
           "title": {
            "standoff": 15
           },
           "zerolinecolor": "#EBF0F8",
           "zerolinewidth": 2
          }
         }
        },
        "title": {
         "text": "Academia vs. Industry Share of Authorship Instances from China"
        },
        "xaxis": {
         "anchor": "y",
         "domain": [
          0,
          1
         ],
         "title": {
          "text": "Year"
         }
        },
        "yaxis": {
         "anchor": "x",
         "domain": [
          0,
          1
         ],
         "title": {
          "text": "% of China Yearly Instances"
         }
        }
       }
      },
      "text/html": [
       "<div>            <script src=\"https://cdnjs.cloudflare.com/ajax/libs/mathjax/2.7.5/MathJax.js?config=TeX-AMS-MML_SVG\"></script><script type=\"text/javascript\">if (window.MathJax && window.MathJax.Hub && window.MathJax.Hub.Config) {window.MathJax.Hub.Config({SVG: {font: \"STIX-Web\"}});}</script>                <script type=\"text/javascript\">window.PlotlyConfig = {MathJaxConfig: 'local'};</script>\n",
       "        <script charset=\"utf-8\" src=\"https://cdn.plot.ly/plotly-3.0.1.min.js\"></script>                <div id=\"ad9d4be7-31f1-40e5-993b-d4801d6a07c9\" class=\"plotly-graph-div\" style=\"height:525px; width:100%;\"></div>            <script type=\"text/javascript\">                window.PLOTLYENV=window.PLOTLYENV || {};                                if (document.getElementById(\"ad9d4be7-31f1-40e5-993b-d4801d6a07c9\")) {                    Plotly.newPlot(                        \"ad9d4be7-31f1-40e5-993b-d4801d6a07c9\",                        [{\"hovertemplate\":\"Institution Type=Academia\\u003cbr\\u003eYear=%{x}\\u003cbr\\u003e% of China Yearly Instances=%{y}\\u003cextra\\u003e\\u003c\\u002fextra\\u003e\",\"legendgroup\":\"Academia\",\"line\":{\"color\":\"#636efa\",\"dash\":\"solid\"},\"marker\":{\"symbol\":\"circle\"},\"mode\":\"lines+markers\",\"name\":\"Academia\",\"orientation\":\"v\",\"showlegend\":true,\"x\":{\"dtype\":\"i2\",\"bdata\":\"1gfXB9gH2QfaB9sH3AfdB94H3wfgB+EH4gfjB+QH5QfmB+cH6Ac=\"},\"xaxis\":\"x\",\"y\":{\"dtype\":\"f8\",\"bdata\":\"AAAAAADAQkAAAAAAAAAkQEUXXXTRRUtAlFJKKaWURkCx3NMIyz1RQGppaWlpaU1AL7rooouuTkBtsskmm2xRQC0tLS0tLVBALt\\u002fyLd\\u002fyUUDtStSuRG1UQKzWW1CG1VJAQHBDaNVfUUDgiMPyo8VSQLzR1Pm1h1FAvBGQ0m6EUkDGHhTSa4tTQKRF2t\\u002fga1RATruXeFIGVUA=\"},\"yaxis\":\"y\",\"type\":\"scatter\"},{\"hovertemplate\":\"Institution Type=Industry\\u003cbr\\u003eYear=%{x}\\u003cbr\\u003e% of China Yearly Instances=%{y}\\u003cextra\\u003e\\u003c\\u002fextra\\u003e\",\"legendgroup\":\"Industry\",\"line\":{\"color\":\"#EF553B\",\"dash\":\"solid\"},\"marker\":{\"symbol\":\"circle\"},\"mode\":\"lines+markers\",\"name\":\"Industry\",\"orientation\":\"v\",\"showlegend\":true,\"x\":{\"dtype\":\"i2\",\"bdata\":\"1gfXB9gH2QfaB9sH3AfdB94H3wfgB+EH4gfjB+QH5QfmB+cH6Ac=\"},\"xaxis\":\"x\",\"y\":{\"dtype\":\"f8\",\"bdata\":\"AAAAAABAT0AAAAAAAIBWQLrooosuukZAa6211lprS0A+jbDc0wg\\u002fQJaWlpaWlkRA0UUXXXRRQ0BONtlkk00+QKalpaWlpUFASIM0SIM0PEBL1K5E7UoyQE+lkL7mqThAAD\\u002fyXqqAPkCB3PE0cOk4QBC5rBgo4T1AE7m\\u002ftUTuOUDqhK+3UNI1QHHploB8UDJAjyVCO2zNL0A=\"},\"yaxis\":\"y\",\"type\":\"scatter\"}],                        {\"template\":{\"data\":{\"histogram2dcontour\":[{\"type\":\"histogram2dcontour\",\"colorbar\":{\"outlinewidth\":0,\"ticks\":\"\"},\"colorscale\":[[0.0,\"#0d0887\"],[0.1111111111111111,\"#46039f\"],[0.2222222222222222,\"#7201a8\"],[0.3333333333333333,\"#9c179e\"],[0.4444444444444444,\"#bd3786\"],[0.5555555555555556,\"#d8576b\"],[0.6666666666666666,\"#ed7953\"],[0.7777777777777778,\"#fb9f3a\"],[0.8888888888888888,\"#fdca26\"],[1.0,\"#f0f921\"]]}],\"choropleth\":[{\"type\":\"choropleth\",\"colorbar\":{\"outlinewidth\":0,\"ticks\":\"\"}}],\"histogram2d\":[{\"type\":\"histogram2d\",\"colorbar\":{\"outlinewidth\":0,\"ticks\":\"\"},\"colorscale\":[[0.0,\"#0d0887\"],[0.1111111111111111,\"#46039f\"],[0.2222222222222222,\"#7201a8\"],[0.3333333333333333,\"#9c179e\"],[0.4444444444444444,\"#bd3786\"],[0.5555555555555556,\"#d8576b\"],[0.6666666666666666,\"#ed7953\"],[0.7777777777777778,\"#fb9f3a\"],[0.8888888888888888,\"#fdca26\"],[1.0,\"#f0f921\"]]}],\"heatmap\":[{\"type\":\"heatmap\",\"colorbar\":{\"outlinewidth\":0,\"ticks\":\"\"},\"colorscale\":[[0.0,\"#0d0887\"],[0.1111111111111111,\"#46039f\"],[0.2222222222222222,\"#7201a8\"],[0.3333333333333333,\"#9c179e\"],[0.4444444444444444,\"#bd3786\"],[0.5555555555555556,\"#d8576b\"],[0.6666666666666666,\"#ed7953\"],[0.7777777777777778,\"#fb9f3a\"],[0.8888888888888888,\"#fdca26\"],[1.0,\"#f0f921\"]]}],\"contourcarpet\":[{\"type\":\"contourcarpet\",\"colorbar\":{\"outlinewidth\":0,\"ticks\":\"\"}}],\"contour\":[{\"type\":\"contour\",\"colorbar\":{\"outlinewidth\":0,\"ticks\":\"\"},\"colorscale\":[[0.0,\"#0d0887\"],[0.1111111111111111,\"#46039f\"],[0.2222222222222222,\"#7201a8\"],[0.3333333333333333,\"#9c179e\"],[0.4444444444444444,\"#bd3786\"],[0.5555555555555556,\"#d8576b\"],[0.6666666666666666,\"#ed7953\"],[0.7777777777777778,\"#fb9f3a\"],[0.8888888888888888,\"#fdca26\"],[1.0,\"#f0f921\"]]}],\"surface\":[{\"type\":\"surface\",\"colorbar\":{\"outlinewidth\":0,\"ticks\":\"\"},\"colorscale\":[[0.0,\"#0d0887\"],[0.1111111111111111,\"#46039f\"],[0.2222222222222222,\"#7201a8\"],[0.3333333333333333,\"#9c179e\"],[0.4444444444444444,\"#bd3786\"],[0.5555555555555556,\"#d8576b\"],[0.6666666666666666,\"#ed7953\"],[0.7777777777777778,\"#fb9f3a\"],[0.8888888888888888,\"#fdca26\"],[1.0,\"#f0f921\"]]}],\"mesh3d\":[{\"type\":\"mesh3d\",\"colorbar\":{\"outlinewidth\":0,\"ticks\":\"\"}}],\"scatter\":[{\"fillpattern\":{\"fillmode\":\"overlay\",\"size\":10,\"solidity\":0.2},\"type\":\"scatter\"}],\"parcoords\":[{\"type\":\"parcoords\",\"line\":{\"colorbar\":{\"outlinewidth\":0,\"ticks\":\"\"}}}],\"scatterpolargl\":[{\"type\":\"scatterpolargl\",\"marker\":{\"colorbar\":{\"outlinewidth\":0,\"ticks\":\"\"}}}],\"bar\":[{\"error_x\":{\"color\":\"#2a3f5f\"},\"error_y\":{\"color\":\"#2a3f5f\"},\"marker\":{\"line\":{\"color\":\"white\",\"width\":0.5},\"pattern\":{\"fillmode\":\"overlay\",\"size\":10,\"solidity\":0.2}},\"type\":\"bar\"}],\"scattergeo\":[{\"type\":\"scattergeo\",\"marker\":{\"colorbar\":{\"outlinewidth\":0,\"ticks\":\"\"}}}],\"scatterpolar\":[{\"type\":\"scatterpolar\",\"marker\":{\"colorbar\":{\"outlinewidth\":0,\"ticks\":\"\"}}}],\"histogram\":[{\"marker\":{\"pattern\":{\"fillmode\":\"overlay\",\"size\":10,\"solidity\":0.2}},\"type\":\"histogram\"}],\"scattergl\":[{\"type\":\"scattergl\",\"marker\":{\"colorbar\":{\"outlinewidth\":0,\"ticks\":\"\"}}}],\"scatter3d\":[{\"type\":\"scatter3d\",\"line\":{\"colorbar\":{\"outlinewidth\":0,\"ticks\":\"\"}},\"marker\":{\"colorbar\":{\"outlinewidth\":0,\"ticks\":\"\"}}}],\"scattermap\":[{\"type\":\"scattermap\",\"marker\":{\"colorbar\":{\"outlinewidth\":0,\"ticks\":\"\"}}}],\"scattermapbox\":[{\"type\":\"scattermapbox\",\"marker\":{\"colorbar\":{\"outlinewidth\":0,\"ticks\":\"\"}}}],\"scatterternary\":[{\"type\":\"scatterternary\",\"marker\":{\"colorbar\":{\"outlinewidth\":0,\"ticks\":\"\"}}}],\"scattercarpet\":[{\"type\":\"scattercarpet\",\"marker\":{\"colorbar\":{\"outlinewidth\":0,\"ticks\":\"\"}}}],\"carpet\":[{\"aaxis\":{\"endlinecolor\":\"#2a3f5f\",\"gridcolor\":\"#C8D4E3\",\"linecolor\":\"#C8D4E3\",\"minorgridcolor\":\"#C8D4E3\",\"startlinecolor\":\"#2a3f5f\"},\"baxis\":{\"endlinecolor\":\"#2a3f5f\",\"gridcolor\":\"#C8D4E3\",\"linecolor\":\"#C8D4E3\",\"minorgridcolor\":\"#C8D4E3\",\"startlinecolor\":\"#2a3f5f\"},\"type\":\"carpet\"}],\"table\":[{\"cells\":{\"fill\":{\"color\":\"#EBF0F8\"},\"line\":{\"color\":\"white\"}},\"header\":{\"fill\":{\"color\":\"#C8D4E3\"},\"line\":{\"color\":\"white\"}},\"type\":\"table\"}],\"barpolar\":[{\"marker\":{\"line\":{\"color\":\"white\",\"width\":0.5},\"pattern\":{\"fillmode\":\"overlay\",\"size\":10,\"solidity\":0.2}},\"type\":\"barpolar\"}],\"pie\":[{\"automargin\":true,\"type\":\"pie\"}]},\"layout\":{\"autotypenumbers\":\"strict\",\"colorway\":[\"#636efa\",\"#EF553B\",\"#00cc96\",\"#ab63fa\",\"#FFA15A\",\"#19d3f3\",\"#FF6692\",\"#B6E880\",\"#FF97FF\",\"#FECB52\"],\"font\":{\"color\":\"#2a3f5f\"},\"hovermode\":\"closest\",\"hoverlabel\":{\"align\":\"left\"},\"paper_bgcolor\":\"white\",\"plot_bgcolor\":\"white\",\"polar\":{\"bgcolor\":\"white\",\"angularaxis\":{\"gridcolor\":\"#EBF0F8\",\"linecolor\":\"#EBF0F8\",\"ticks\":\"\"},\"radialaxis\":{\"gridcolor\":\"#EBF0F8\",\"linecolor\":\"#EBF0F8\",\"ticks\":\"\"}},\"ternary\":{\"bgcolor\":\"white\",\"aaxis\":{\"gridcolor\":\"#DFE8F3\",\"linecolor\":\"#A2B1C6\",\"ticks\":\"\"},\"baxis\":{\"gridcolor\":\"#DFE8F3\",\"linecolor\":\"#A2B1C6\",\"ticks\":\"\"},\"caxis\":{\"gridcolor\":\"#DFE8F3\",\"linecolor\":\"#A2B1C6\",\"ticks\":\"\"}},\"coloraxis\":{\"colorbar\":{\"outlinewidth\":0,\"ticks\":\"\"}},\"colorscale\":{\"sequential\":[[0.0,\"#0d0887\"],[0.1111111111111111,\"#46039f\"],[0.2222222222222222,\"#7201a8\"],[0.3333333333333333,\"#9c179e\"],[0.4444444444444444,\"#bd3786\"],[0.5555555555555556,\"#d8576b\"],[0.6666666666666666,\"#ed7953\"],[0.7777777777777778,\"#fb9f3a\"],[0.8888888888888888,\"#fdca26\"],[1.0,\"#f0f921\"]],\"sequentialminus\":[[0.0,\"#0d0887\"],[0.1111111111111111,\"#46039f\"],[0.2222222222222222,\"#7201a8\"],[0.3333333333333333,\"#9c179e\"],[0.4444444444444444,\"#bd3786\"],[0.5555555555555556,\"#d8576b\"],[0.6666666666666666,\"#ed7953\"],[0.7777777777777778,\"#fb9f3a\"],[0.8888888888888888,\"#fdca26\"],[1.0,\"#f0f921\"]],\"diverging\":[[0,\"#8e0152\"],[0.1,\"#c51b7d\"],[0.2,\"#de77ae\"],[0.3,\"#f1b6da\"],[0.4,\"#fde0ef\"],[0.5,\"#f7f7f7\"],[0.6,\"#e6f5d0\"],[0.7,\"#b8e186\"],[0.8,\"#7fbc41\"],[0.9,\"#4d9221\"],[1,\"#276419\"]]},\"xaxis\":{\"gridcolor\":\"#EBF0F8\",\"linecolor\":\"#EBF0F8\",\"ticks\":\"\",\"title\":{\"standoff\":15},\"zerolinecolor\":\"#EBF0F8\",\"automargin\":true,\"zerolinewidth\":2},\"yaxis\":{\"gridcolor\":\"#EBF0F8\",\"linecolor\":\"#EBF0F8\",\"ticks\":\"\",\"title\":{\"standoff\":15},\"zerolinecolor\":\"#EBF0F8\",\"automargin\":true,\"zerolinewidth\":2},\"scene\":{\"xaxis\":{\"backgroundcolor\":\"white\",\"gridcolor\":\"#DFE8F3\",\"linecolor\":\"#EBF0F8\",\"showbackground\":true,\"ticks\":\"\",\"zerolinecolor\":\"#EBF0F8\",\"gridwidth\":2},\"yaxis\":{\"backgroundcolor\":\"white\",\"gridcolor\":\"#DFE8F3\",\"linecolor\":\"#EBF0F8\",\"showbackground\":true,\"ticks\":\"\",\"zerolinecolor\":\"#EBF0F8\",\"gridwidth\":2},\"zaxis\":{\"backgroundcolor\":\"white\",\"gridcolor\":\"#DFE8F3\",\"linecolor\":\"#EBF0F8\",\"showbackground\":true,\"ticks\":\"\",\"zerolinecolor\":\"#EBF0F8\",\"gridwidth\":2}},\"shapedefaults\":{\"line\":{\"color\":\"#2a3f5f\"}},\"annotationdefaults\":{\"arrowcolor\":\"#2a3f5f\",\"arrowhead\":0,\"arrowwidth\":1},\"geo\":{\"bgcolor\":\"white\",\"landcolor\":\"white\",\"subunitcolor\":\"#C8D4E3\",\"showland\":true,\"showlakes\":true,\"lakecolor\":\"white\"},\"title\":{\"x\":0.05},\"mapbox\":{\"style\":\"light\"}}},\"xaxis\":{\"anchor\":\"y\",\"domain\":[0.0,1.0],\"title\":{\"text\":\"Year\"}},\"yaxis\":{\"anchor\":\"x\",\"domain\":[0.0,1.0],\"title\":{\"text\":\"% of China Yearly Instances\"}},\"legend\":{\"title\":{\"text\":\"Institution Type\"},\"tracegroupgap\":0},\"title\":{\"text\":\"Academia vs. Industry Share of Authorship Instances from China\"},\"hovermode\":\"x unified\"},                        {\"responsive\": true}                    ).then(function(){\n",
       "                            \n",
       "var gd = document.getElementById('ad9d4be7-31f1-40e5-993b-d4801d6a07c9');\n",
       "var x = new MutationObserver(function (mutations, observer) {{\n",
       "        var display = window.getComputedStyle(gd).display;\n",
       "        if (!display || display === 'none') {{\n",
       "            console.log([gd, 'removed!']);\n",
       "            Plotly.purge(gd);\n",
       "            observer.disconnect();\n",
       "        }}\n",
       "}});\n",
       "\n",
       "// Listen for the removal of the full notebook cells\n",
       "var notebookContainer = gd.closest('#notebook-container');\n",
       "if (notebookContainer) {{\n",
       "    x.observe(notebookContainer, {childList: true});\n",
       "}}\n",
       "\n",
       "// Listen for the clearing of the current output cell\n",
       "var outputEl = gd.closest('.output');\n",
       "if (outputEl) {{\n",
       "    x.observe(outputEl, {childList: true});\n",
       "}}\n",
       "\n",
       "                        })                };            </script>        </div>"
      ]
     },
     "metadata": {},
     "output_type": "display_data"
    }
   ],
   "source": [
    "TARGET_COUNTRY = 'China'\n",
    "\n",
    "print(f\"\\nAcademia vs. Industry Trend within {TARGET_COUNTRY}\")\n",
    "\n",
    "# Filter for the target country AND known types\n",
    "country_type_df = df[(df['Country'] == TARGET_COUNTRY) &\n",
    "                     (df['Type'].isin(['Academia', 'Industry']))].copy()\n",
    "\n",
    "if country_type_df.empty:\n",
    "    print(f\"No data found for known types in {TARGET_COUNTRY}.\")\n",
    "else:\n",
    "    country_type_yearly_counts = country_type_df.groupby(['Year', 'Type']).size().reset_index(name='Count')\n",
    "    total_yearly_country_counts = country_type_yearly_counts.groupby('Year')['Count'].sum().reset_index(name='TotalYearlyCount')\n",
    "    country_type_yearly_perc = pd.merge(country_type_yearly_counts, total_yearly_country_counts, on='Year')\n",
    "    country_type_yearly_perc['Percentage'] = (country_type_yearly_perc['Count'] / country_type_yearly_perc['TotalYearlyCount']) * 100\n",
    "\n",
    "    fig_h8 = px.line(country_type_yearly_perc,\n",
    "                     x='Year', y='Percentage', color='Type', markers=True,\n",
    "                     title=f'Academia vs. Industry Share of Authorship Instances from {TARGET_COUNTRY}',\n",
    "                     labels={'Percentage': f'% of {TARGET_COUNTRY} Yearly Instances', 'Year': 'Year', 'Type': 'Institution Type'})\n",
    "    fig_h8.update_layout(hovermode=\"x unified\")\n",
    "    fig_h8.show()"
   ]
  },
  {
   "cell_type": "markdown",
   "id": "ed281b0a",
   "metadata": {},
   "source": [
    "**Findings:** Within China, industry contributions initially dominated almost entirely. Academia's share shows noticeable growth starting around 2005-2010 and increasing significantly thereafter, reaching around 85% of Chinese contributions in recent years.\n",
    "\n",
    "**Conclusion:** **H8 is supported.** The internal balance in China has shifted, with a marked increase in academia participation in recent years, although academia still holds the majority share."
   ]
  },
  {
   "cell_type": "markdown",
   "id": "785c56b6",
   "metadata": {},
   "source": [
    "### H9: Persistence of Top Institutions\n",
    "\n",
    "**Hypothesis:** The institutions ranked in the Top $N=20$ during an earlier period largely remain dominant in a later period.\n",
    "\n",
    "**Quantification:** Define early (2010-2015) and late (2019-2023) periods. Identify Top 20 institutions in each. Calculate the percentage of the early Top 20 also present in the late Top 20."
   ]
  },
  {
   "cell_type": "code",
   "execution_count": 17,
   "id": "f935a45d",
   "metadata": {},
   "outputs": [
    {
     "name": "stdout",
     "output_type": "stream",
     "text": [
      "\n",
      "Persistence of Top 20 Institutions\n",
      "Early Period: 2010-2015, Late Period: 2019-2023\n",
      "\n",
      "Top 20 Institutions (2010-2015):\n",
      "['Google', 'Carnegie Mellon University', 'Stanford University', 'Massachusetts Institute of Technology', 'University of California, Berkeley', 'Microsoft', 'University of Texas at Austin', 'Duke University', 'Princeton University', 'Columbia University', 'University of Washington', 'University of Cambridge', 'University of California, San Diego', 'Facebook', 'University College London', 'University of Toronto', 'Technion - Israel Institute of Technology', 'University of Michigan', 'Georgia Institute of Technology', 'Inria']\n",
      "\n",
      "Top 20 Institutions (2019-2023):\n",
      "['Google', 'Stanford University', 'Massachusetts Institute of Technology', 'Carnegie Mellon University', 'Tsinghua University', 'Microsoft', 'University of California, Berkeley', 'Peking University', 'University of Oxford', 'Facebook', 'University of Texas at Austin', 'University of California, Los Angeles', 'Princeton University', 'Georgia Institute of Technology', 'Mila - Quebec AI Institute', 'ETH Zurich', 'University of Washington', 'IBM', 'Amazon', 'Shanghai Jiao Tong University']\n",
      "\n",
      "Number of institutions in Top 20 in both periods: 11\n",
      "Persistence Rate: 55.0%\n"
     ]
    }
   ],
   "source": [
    "N_RANK = 20\n",
    "EARLY_START, EARLY_END = 2010, 2015\n",
    "LATE_START, LATE_END = 2019, 2023\n",
    "\n",
    "print(f\"\\nPersistence of Top {N_RANK} Institutions\")\n",
    "print(f\"Early Period: {EARLY_START}-{EARLY_END}, Late Period: {LATE_START}-{LATE_END}\")\n",
    "\n",
    "inst_persist_df = df[(df['Institution'] != 'Unknown Institution')].copy()\n",
    "inst_persist_df['Year'] = pd.to_numeric(inst_persist_df['Year'])\n",
    "\n",
    "early_df = inst_persist_df[(inst_persist_df['Year'] >= EARLY_START) & (inst_persist_df['Year'] <= EARLY_END)]\n",
    "late_df = inst_persist_df[(inst_persist_df['Year'] >= LATE_START) & (inst_persist_df['Year'] <= LATE_END)]\n",
    "\n",
    "if early_df.empty or late_df.empty:\n",
    "    print(\"Insufficient data for one or both periods.\")\n",
    "else:\n",
    "    top_early = early_df['Institution'].value_counts().head(N_RANK).index.tolist()\n",
    "    print(f\"\\nTop {N_RANK} Institutions ({EARLY_START}-{EARLY_END}):\")\n",
    "    print(top_early)\n",
    "\n",
    "    top_late = late_df['Institution'].value_counts().head(N_RANK).index.tolist()\n",
    "    print(f\"\\nTop {N_RANK} Institutions ({LATE_START}-{LATE_END}):\")\n",
    "    print(top_late)\n",
    "\n",
    "    persistent_institutions = [inst for inst in top_early if inst in top_late]\n",
    "    num_persistent = len(persistent_institutions)\n",
    "    persistence_rate = (num_persistent / N_RANK) * 100\n",
    "\n",
    "    print(f\"\\nNumber of institutions in Top {N_RANK} in both periods: {num_persistent}\")\n",
    "    print(f\"Persistence Rate: {persistence_rate:.1f}%\")"
   ]
  },
  {
   "cell_type": "markdown",
   "id": "44462d40",
   "metadata": {},
   "source": [
    "**Findings:** Comparing the Top 20 institutions from 2010-2015 with those from 2019-2023, we found that **11** institutions were present in both lists. This yields a persistence rate of **55.0%**. Key persistent players include Google, Stanford, MIT, CMU, Microsoft, Berkeley, Princeton, UTexas Austin, UWashington, Georgia Tech. Notable entries into the later top 20 include Tsinghua, Peking, Oxford, UCLA, Mila, ETH Zurich, IBM, Amazon, SJTU, while institutions like Duke, Columbia, Cambridge, UCSD, UCL, Toronto, Technion, Michigan, Inria dropped out of the Top 20 between these periods (though many remain highly ranked).\n",
    "\n",
    "**Conclusion:** **H9 is partially supported.** While there is significant persistence (over half the institutions remain in the top 20), there is also considerable dynamism, with nearly half the top tier changing between the two periods, reflecting the rise of certain institutions (especially from China and industry) and the relative decline of others within this elite group."
   ]
  },
  {
   "cell_type": "markdown",
   "id": "1685f005",
   "metadata": {},
   "source": [
    "### H10: National Institutional Dominance\n",
    "\n",
    "**Hypothesis:** Within the top contributing countries, the national research output is highly concentrated, with the single top institution often accounting for a substantial percentage of that country's total publications.\n",
    "\n",
    "**Quantification:** Select the Top $K=5$ countries. For each, identify their single top contributing institution overall and calculate the percentage of the country's total instances originating from that institution. Visualize with a bar chart, adding the institution name to the bar label."
   ]
  },
  {
   "cell_type": "code",
   "execution_count": 18,
   "id": "54348156",
   "metadata": {},
   "outputs": [
    {
     "name": "stdout",
     "output_type": "stream",
     "text": [
      "\n",
      "Institutional Dominance within Top 5 Countries\n",
      "Analyzing Top 5 Countries: ['USA', 'China', 'UK', 'Canada', 'Germany']\n"
     ]
    },
    {
     "data": {
      "application/vnd.plotly.v1+json": {
       "config": {
        "plotlyServerURL": "https://plot.ly"
       },
       "data": [
        {
         "customdata": [
          [
           "University of Oxford",
           2196,
           8101
          ]
         ],
         "hovertemplate": "Country=%{x}<br>% National Instances (Top Inst.)=%{y:.1f%}<br>BarLabel=%{text}<br>Institution=%{customdata[0]}<br>TopInstCount=%{customdata[1]}<br>TotalCountryInstances=%{customdata[2]}<extra></extra>",
         "legendgroup": "UK",
         "marker": {
          "color": "#636efa",
          "pattern": {
           "shape": ""
          }
         },
         "name": "UK",
         "orientation": "v",
         "showlegend": true,
         "text": [
          "27.1%<br><i>(University of Oxford)</i>"
         ],
         "textposition": "outside",
         "type": "bar",
         "x": [
          "UK"
         ],
         "xaxis": "x",
         "y": {
          "bdata": "XnLZc5YbO0A=",
          "dtype": "f8"
         },
         "yaxis": "y"
        },
        {
         "customdata": [
          [
           "University of Toronto",
           1418,
           7644
          ]
         ],
         "hovertemplate": "Country=%{x}<br>% National Instances (Top Inst.)=%{y:.1f%}<br>BarLabel=%{text}<br>Institution=%{customdata[0]}<br>TopInstCount=%{customdata[1]}<br>TotalCountryInstances=%{customdata[2]}<extra></extra>",
         "legendgroup": "Canada",
         "marker": {
          "color": "#EF553B",
          "pattern": {
           "shape": ""
          }
         },
         "name": "Canada",
         "orientation": "v",
         "showlegend": true,
         "text": [
          "18.6%<br><i>(University of Toronto)</i>"
         ],
         "textposition": "outside",
         "type": "bar",
         "x": [
          "Canada"
         ],
         "xaxis": "x",
         "y": {
          "bdata": "hjYfYe2MMkA=",
          "dtype": "f8"
         },
         "yaxis": "y"
        },
        {
         "customdata": [
          [
           "Tsinghua University",
           4265,
           29977
          ]
         ],
         "hovertemplate": "Country=%{x}<br>% National Instances (Top Inst.)=%{y:.1f%}<br>BarLabel=%{text}<br>Institution=%{customdata[0]}<br>TopInstCount=%{customdata[1]}<br>TotalCountryInstances=%{customdata[2]}<extra></extra>",
         "legendgroup": "China",
         "marker": {
          "color": "#00cc96",
          "pattern": {
           "shape": ""
          }
         },
         "name": "China",
         "orientation": "v",
         "showlegend": true,
         "text": [
          "14.2%<br><i>(Tsinghua University)</i>"
         ],
         "textposition": "outside",
         "type": "bar",
         "x": [
          "China"
         ],
         "xaxis": "x",
         "y": {
          "bdata": "VG80pIR0LEA=",
          "dtype": "f8"
         },
         "yaxis": "y"
        },
        {
         "customdata": [
          [
           "Google",
           11040,
           84283
          ]
         ],
         "hovertemplate": "Country=%{x}<br>% National Instances (Top Inst.)=%{y:.1f%}<br>BarLabel=%{text}<br>Institution=%{customdata[0]}<br>TopInstCount=%{customdata[1]}<br>TotalCountryInstances=%{customdata[2]}<extra></extra>",
         "legendgroup": "USA",
         "marker": {
          "color": "#ab63fa",
          "pattern": {
           "shape": ""
          }
         },
         "name": "USA",
         "orientation": "v",
         "showlegend": true,
         "text": [
          "13.1%<br><i>(Google)</i>"
         ],
         "textposition": "outside",
         "type": "bar",
         "x": [
          "USA"
         ],
         "xaxis": "x",
         "y": {
          "bdata": "3oRTVYwyKkA=",
          "dtype": "f8"
         },
         "yaxis": "y"
        },
        {
         "customdata": [
          [
           "Max Planck Institute for Intelligent Systems",
           628,
           6266
          ]
         ],
         "hovertemplate": "Country=%{x}<br>% National Instances (Top Inst.)=%{y:.1f%}<br>BarLabel=%{text}<br>Institution=%{customdata[0]}<br>TopInstCount=%{customdata[1]}<br>TotalCountryInstances=%{customdata[2]}<extra></extra>",
         "legendgroup": "Germany",
         "marker": {
          "color": "#FFA15A",
          "pattern": {
           "shape": ""
          }
         },
         "name": "Germany",
         "orientation": "v",
         "showlegend": true,
         "text": [
          "10.0%<br><i>(Max Planck Institute for Intelligent Systems)</i>"
         ],
         "textposition": "outside",
         "type": "bar",
         "x": [
          "Germany"
         ],
         "xaxis": "x",
         "y": {
          "bdata": "hHALhHALJEA=",
          "dtype": "f8"
         },
         "yaxis": "y"
        }
       ],
       "layout": {
        "barmode": "relative",
        "legend": {
         "title": {
          "text": "Country"
         },
         "tracegroupgap": 0
        },
        "showlegend": false,
        "template": {
         "data": {
          "bar": [
           {
            "error_x": {
             "color": "#2a3f5f"
            },
            "error_y": {
             "color": "#2a3f5f"
            },
            "marker": {
             "line": {
              "color": "white",
              "width": 0.5
             },
             "pattern": {
              "fillmode": "overlay",
              "size": 10,
              "solidity": 0.2
             }
            },
            "type": "bar"
           }
          ],
          "barpolar": [
           {
            "marker": {
             "line": {
              "color": "white",
              "width": 0.5
             },
             "pattern": {
              "fillmode": "overlay",
              "size": 10,
              "solidity": 0.2
             }
            },
            "type": "barpolar"
           }
          ],
          "carpet": [
           {
            "aaxis": {
             "endlinecolor": "#2a3f5f",
             "gridcolor": "#C8D4E3",
             "linecolor": "#C8D4E3",
             "minorgridcolor": "#C8D4E3",
             "startlinecolor": "#2a3f5f"
            },
            "baxis": {
             "endlinecolor": "#2a3f5f",
             "gridcolor": "#C8D4E3",
             "linecolor": "#C8D4E3",
             "minorgridcolor": "#C8D4E3",
             "startlinecolor": "#2a3f5f"
            },
            "type": "carpet"
           }
          ],
          "choropleth": [
           {
            "colorbar": {
             "outlinewidth": 0,
             "ticks": ""
            },
            "type": "choropleth"
           }
          ],
          "contour": [
           {
            "colorbar": {
             "outlinewidth": 0,
             "ticks": ""
            },
            "colorscale": [
             [
              0,
              "#0d0887"
             ],
             [
              0.1111111111111111,
              "#46039f"
             ],
             [
              0.2222222222222222,
              "#7201a8"
             ],
             [
              0.3333333333333333,
              "#9c179e"
             ],
             [
              0.4444444444444444,
              "#bd3786"
             ],
             [
              0.5555555555555556,
              "#d8576b"
             ],
             [
              0.6666666666666666,
              "#ed7953"
             ],
             [
              0.7777777777777778,
              "#fb9f3a"
             ],
             [
              0.8888888888888888,
              "#fdca26"
             ],
             [
              1,
              "#f0f921"
             ]
            ],
            "type": "contour"
           }
          ],
          "contourcarpet": [
           {
            "colorbar": {
             "outlinewidth": 0,
             "ticks": ""
            },
            "type": "contourcarpet"
           }
          ],
          "heatmap": [
           {
            "colorbar": {
             "outlinewidth": 0,
             "ticks": ""
            },
            "colorscale": [
             [
              0,
              "#0d0887"
             ],
             [
              0.1111111111111111,
              "#46039f"
             ],
             [
              0.2222222222222222,
              "#7201a8"
             ],
             [
              0.3333333333333333,
              "#9c179e"
             ],
             [
              0.4444444444444444,
              "#bd3786"
             ],
             [
              0.5555555555555556,
              "#d8576b"
             ],
             [
              0.6666666666666666,
              "#ed7953"
             ],
             [
              0.7777777777777778,
              "#fb9f3a"
             ],
             [
              0.8888888888888888,
              "#fdca26"
             ],
             [
              1,
              "#f0f921"
             ]
            ],
            "type": "heatmap"
           }
          ],
          "histogram": [
           {
            "marker": {
             "pattern": {
              "fillmode": "overlay",
              "size": 10,
              "solidity": 0.2
             }
            },
            "type": "histogram"
           }
          ],
          "histogram2d": [
           {
            "colorbar": {
             "outlinewidth": 0,
             "ticks": ""
            },
            "colorscale": [
             [
              0,
              "#0d0887"
             ],
             [
              0.1111111111111111,
              "#46039f"
             ],
             [
              0.2222222222222222,
              "#7201a8"
             ],
             [
              0.3333333333333333,
              "#9c179e"
             ],
             [
              0.4444444444444444,
              "#bd3786"
             ],
             [
              0.5555555555555556,
              "#d8576b"
             ],
             [
              0.6666666666666666,
              "#ed7953"
             ],
             [
              0.7777777777777778,
              "#fb9f3a"
             ],
             [
              0.8888888888888888,
              "#fdca26"
             ],
             [
              1,
              "#f0f921"
             ]
            ],
            "type": "histogram2d"
           }
          ],
          "histogram2dcontour": [
           {
            "colorbar": {
             "outlinewidth": 0,
             "ticks": ""
            },
            "colorscale": [
             [
              0,
              "#0d0887"
             ],
             [
              0.1111111111111111,
              "#46039f"
             ],
             [
              0.2222222222222222,
              "#7201a8"
             ],
             [
              0.3333333333333333,
              "#9c179e"
             ],
             [
              0.4444444444444444,
              "#bd3786"
             ],
             [
              0.5555555555555556,
              "#d8576b"
             ],
             [
              0.6666666666666666,
              "#ed7953"
             ],
             [
              0.7777777777777778,
              "#fb9f3a"
             ],
             [
              0.8888888888888888,
              "#fdca26"
             ],
             [
              1,
              "#f0f921"
             ]
            ],
            "type": "histogram2dcontour"
           }
          ],
          "mesh3d": [
           {
            "colorbar": {
             "outlinewidth": 0,
             "ticks": ""
            },
            "type": "mesh3d"
           }
          ],
          "parcoords": [
           {
            "line": {
             "colorbar": {
              "outlinewidth": 0,
              "ticks": ""
             }
            },
            "type": "parcoords"
           }
          ],
          "pie": [
           {
            "automargin": true,
            "type": "pie"
           }
          ],
          "scatter": [
           {
            "fillpattern": {
             "fillmode": "overlay",
             "size": 10,
             "solidity": 0.2
            },
            "type": "scatter"
           }
          ],
          "scatter3d": [
           {
            "line": {
             "colorbar": {
              "outlinewidth": 0,
              "ticks": ""
             }
            },
            "marker": {
             "colorbar": {
              "outlinewidth": 0,
              "ticks": ""
             }
            },
            "type": "scatter3d"
           }
          ],
          "scattercarpet": [
           {
            "marker": {
             "colorbar": {
              "outlinewidth": 0,
              "ticks": ""
             }
            },
            "type": "scattercarpet"
           }
          ],
          "scattergeo": [
           {
            "marker": {
             "colorbar": {
              "outlinewidth": 0,
              "ticks": ""
             }
            },
            "type": "scattergeo"
           }
          ],
          "scattergl": [
           {
            "marker": {
             "colorbar": {
              "outlinewidth": 0,
              "ticks": ""
             }
            },
            "type": "scattergl"
           }
          ],
          "scattermap": [
           {
            "marker": {
             "colorbar": {
              "outlinewidth": 0,
              "ticks": ""
             }
            },
            "type": "scattermap"
           }
          ],
          "scattermapbox": [
           {
            "marker": {
             "colorbar": {
              "outlinewidth": 0,
              "ticks": ""
             }
            },
            "type": "scattermapbox"
           }
          ],
          "scatterpolar": [
           {
            "marker": {
             "colorbar": {
              "outlinewidth": 0,
              "ticks": ""
             }
            },
            "type": "scatterpolar"
           }
          ],
          "scatterpolargl": [
           {
            "marker": {
             "colorbar": {
              "outlinewidth": 0,
              "ticks": ""
             }
            },
            "type": "scatterpolargl"
           }
          ],
          "scatterternary": [
           {
            "marker": {
             "colorbar": {
              "outlinewidth": 0,
              "ticks": ""
             }
            },
            "type": "scatterternary"
           }
          ],
          "surface": [
           {
            "colorbar": {
             "outlinewidth": 0,
             "ticks": ""
            },
            "colorscale": [
             [
              0,
              "#0d0887"
             ],
             [
              0.1111111111111111,
              "#46039f"
             ],
             [
              0.2222222222222222,
              "#7201a8"
             ],
             [
              0.3333333333333333,
              "#9c179e"
             ],
             [
              0.4444444444444444,
              "#bd3786"
             ],
             [
              0.5555555555555556,
              "#d8576b"
             ],
             [
              0.6666666666666666,
              "#ed7953"
             ],
             [
              0.7777777777777778,
              "#fb9f3a"
             ],
             [
              0.8888888888888888,
              "#fdca26"
             ],
             [
              1,
              "#f0f921"
             ]
            ],
            "type": "surface"
           }
          ],
          "table": [
           {
            "cells": {
             "fill": {
              "color": "#EBF0F8"
             },
             "line": {
              "color": "white"
             }
            },
            "header": {
             "fill": {
              "color": "#C8D4E3"
             },
             "line": {
              "color": "white"
             }
            },
            "type": "table"
           }
          ]
         },
         "layout": {
          "annotationdefaults": {
           "arrowcolor": "#2a3f5f",
           "arrowhead": 0,
           "arrowwidth": 1
          },
          "autotypenumbers": "strict",
          "coloraxis": {
           "colorbar": {
            "outlinewidth": 0,
            "ticks": ""
           }
          },
          "colorscale": {
           "diverging": [
            [
             0,
             "#8e0152"
            ],
            [
             0.1,
             "#c51b7d"
            ],
            [
             0.2,
             "#de77ae"
            ],
            [
             0.3,
             "#f1b6da"
            ],
            [
             0.4,
             "#fde0ef"
            ],
            [
             0.5,
             "#f7f7f7"
            ],
            [
             0.6,
             "#e6f5d0"
            ],
            [
             0.7,
             "#b8e186"
            ],
            [
             0.8,
             "#7fbc41"
            ],
            [
             0.9,
             "#4d9221"
            ],
            [
             1,
             "#276419"
            ]
           ],
           "sequential": [
            [
             0,
             "#0d0887"
            ],
            [
             0.1111111111111111,
             "#46039f"
            ],
            [
             0.2222222222222222,
             "#7201a8"
            ],
            [
             0.3333333333333333,
             "#9c179e"
            ],
            [
             0.4444444444444444,
             "#bd3786"
            ],
            [
             0.5555555555555556,
             "#d8576b"
            ],
            [
             0.6666666666666666,
             "#ed7953"
            ],
            [
             0.7777777777777778,
             "#fb9f3a"
            ],
            [
             0.8888888888888888,
             "#fdca26"
            ],
            [
             1,
             "#f0f921"
            ]
           ],
           "sequentialminus": [
            [
             0,
             "#0d0887"
            ],
            [
             0.1111111111111111,
             "#46039f"
            ],
            [
             0.2222222222222222,
             "#7201a8"
            ],
            [
             0.3333333333333333,
             "#9c179e"
            ],
            [
             0.4444444444444444,
             "#bd3786"
            ],
            [
             0.5555555555555556,
             "#d8576b"
            ],
            [
             0.6666666666666666,
             "#ed7953"
            ],
            [
             0.7777777777777778,
             "#fb9f3a"
            ],
            [
             0.8888888888888888,
             "#fdca26"
            ],
            [
             1,
             "#f0f921"
            ]
           ]
          },
          "colorway": [
           "#636efa",
           "#EF553B",
           "#00cc96",
           "#ab63fa",
           "#FFA15A",
           "#19d3f3",
           "#FF6692",
           "#B6E880",
           "#FF97FF",
           "#FECB52"
          ],
          "font": {
           "color": "#2a3f5f"
          },
          "geo": {
           "bgcolor": "white",
           "lakecolor": "white",
           "landcolor": "white",
           "showlakes": true,
           "showland": true,
           "subunitcolor": "#C8D4E3"
          },
          "hoverlabel": {
           "align": "left"
          },
          "hovermode": "closest",
          "mapbox": {
           "style": "light"
          },
          "paper_bgcolor": "white",
          "plot_bgcolor": "white",
          "polar": {
           "angularaxis": {
            "gridcolor": "#EBF0F8",
            "linecolor": "#EBF0F8",
            "ticks": ""
           },
           "bgcolor": "white",
           "radialaxis": {
            "gridcolor": "#EBF0F8",
            "linecolor": "#EBF0F8",
            "ticks": ""
           }
          },
          "scene": {
           "xaxis": {
            "backgroundcolor": "white",
            "gridcolor": "#DFE8F3",
            "gridwidth": 2,
            "linecolor": "#EBF0F8",
            "showbackground": true,
            "ticks": "",
            "zerolinecolor": "#EBF0F8"
           },
           "yaxis": {
            "backgroundcolor": "white",
            "gridcolor": "#DFE8F3",
            "gridwidth": 2,
            "linecolor": "#EBF0F8",
            "showbackground": true,
            "ticks": "",
            "zerolinecolor": "#EBF0F8"
           },
           "zaxis": {
            "backgroundcolor": "white",
            "gridcolor": "#DFE8F3",
            "gridwidth": 2,
            "linecolor": "#EBF0F8",
            "showbackground": true,
            "ticks": "",
            "zerolinecolor": "#EBF0F8"
           }
          },
          "shapedefaults": {
           "line": {
            "color": "#2a3f5f"
           }
          },
          "ternary": {
           "aaxis": {
            "gridcolor": "#DFE8F3",
            "linecolor": "#A2B1C6",
            "ticks": ""
           },
           "baxis": {
            "gridcolor": "#DFE8F3",
            "linecolor": "#A2B1C6",
            "ticks": ""
           },
           "bgcolor": "white",
           "caxis": {
            "gridcolor": "#DFE8F3",
            "linecolor": "#A2B1C6",
            "ticks": ""
           }
          },
          "title": {
           "x": 0.05
          },
          "xaxis": {
           "automargin": true,
           "gridcolor": "#EBF0F8",
           "linecolor": "#EBF0F8",
           "ticks": "",
           "title": {
            "standoff": 15
           },
           "zerolinecolor": "#EBF0F8",
           "zerolinewidth": 2
          },
          "yaxis": {
           "automargin": true,
           "gridcolor": "#EBF0F8",
           "linecolor": "#EBF0F8",
           "ticks": "",
           "title": {
            "standoff": 15
           },
           "zerolinecolor": "#EBF0F8",
           "zerolinewidth": 2
          }
         }
        },
        "title": {
         "text": "Dominance of Top Institution within Top 5 Countries"
        },
        "xaxis": {
         "anchor": "y",
         "categoryarray": [
          "UK",
          "Canada",
          "China",
          "USA",
          "Germany"
         ],
         "categoryorder": "array",
         "domain": [
          0,
          1
         ],
         "title": {
          "text": "Country"
         }
        },
        "yaxis": {
         "anchor": "x",
         "domain": [
          0,
          1
         ],
         "title": {
          "text": "% National Instances (Top Inst.)"
         }
        }
       }
      },
      "text/html": [
       "<div>            <script src=\"https://cdnjs.cloudflare.com/ajax/libs/mathjax/2.7.5/MathJax.js?config=TeX-AMS-MML_SVG\"></script><script type=\"text/javascript\">if (window.MathJax && window.MathJax.Hub && window.MathJax.Hub.Config) {window.MathJax.Hub.Config({SVG: {font: \"STIX-Web\"}});}</script>                <script type=\"text/javascript\">window.PlotlyConfig = {MathJaxConfig: 'local'};</script>\n",
       "        <script charset=\"utf-8\" src=\"https://cdn.plot.ly/plotly-3.0.1.min.js\"></script>                <div id=\"876c85f9-3639-4080-b504-7acc922e3b67\" class=\"plotly-graph-div\" style=\"height:525px; width:100%;\"></div>            <script type=\"text/javascript\">                window.PLOTLYENV=window.PLOTLYENV || {};                                if (document.getElementById(\"876c85f9-3639-4080-b504-7acc922e3b67\")) {                    Plotly.newPlot(                        \"876c85f9-3639-4080-b504-7acc922e3b67\",                        [{\"customdata\":[[\"University of Oxford\",2196,8101]],\"hovertemplate\":\"Country=%{x}\\u003cbr\\u003e% National Instances (Top Inst.)=%{y:.1f%}\\u003cbr\\u003eBarLabel=%{text}\\u003cbr\\u003eInstitution=%{customdata[0]}\\u003cbr\\u003eTopInstCount=%{customdata[1]}\\u003cbr\\u003eTotalCountryInstances=%{customdata[2]}\\u003cextra\\u003e\\u003c\\u002fextra\\u003e\",\"legendgroup\":\"UK\",\"marker\":{\"color\":\"#636efa\",\"pattern\":{\"shape\":\"\"}},\"name\":\"UK\",\"orientation\":\"v\",\"showlegend\":true,\"text\":[\"27.1%\\u003cbr\\u003e\\u003ci\\u003e(University of Oxford)\\u003c\\u002fi\\u003e\"],\"textposition\":\"outside\",\"x\":[\"UK\"],\"xaxis\":\"x\",\"y\":{\"dtype\":\"f8\",\"bdata\":\"XnLZc5YbO0A=\"},\"yaxis\":\"y\",\"type\":\"bar\"},{\"customdata\":[[\"University of Toronto\",1418,7644]],\"hovertemplate\":\"Country=%{x}\\u003cbr\\u003e% National Instances (Top Inst.)=%{y:.1f%}\\u003cbr\\u003eBarLabel=%{text}\\u003cbr\\u003eInstitution=%{customdata[0]}\\u003cbr\\u003eTopInstCount=%{customdata[1]}\\u003cbr\\u003eTotalCountryInstances=%{customdata[2]}\\u003cextra\\u003e\\u003c\\u002fextra\\u003e\",\"legendgroup\":\"Canada\",\"marker\":{\"color\":\"#EF553B\",\"pattern\":{\"shape\":\"\"}},\"name\":\"Canada\",\"orientation\":\"v\",\"showlegend\":true,\"text\":[\"18.6%\\u003cbr\\u003e\\u003ci\\u003e(University of Toronto)\\u003c\\u002fi\\u003e\"],\"textposition\":\"outside\",\"x\":[\"Canada\"],\"xaxis\":\"x\",\"y\":{\"dtype\":\"f8\",\"bdata\":\"hjYfYe2MMkA=\"},\"yaxis\":\"y\",\"type\":\"bar\"},{\"customdata\":[[\"Tsinghua University\",4265,29977]],\"hovertemplate\":\"Country=%{x}\\u003cbr\\u003e% National Instances (Top Inst.)=%{y:.1f%}\\u003cbr\\u003eBarLabel=%{text}\\u003cbr\\u003eInstitution=%{customdata[0]}\\u003cbr\\u003eTopInstCount=%{customdata[1]}\\u003cbr\\u003eTotalCountryInstances=%{customdata[2]}\\u003cextra\\u003e\\u003c\\u002fextra\\u003e\",\"legendgroup\":\"China\",\"marker\":{\"color\":\"#00cc96\",\"pattern\":{\"shape\":\"\"}},\"name\":\"China\",\"orientation\":\"v\",\"showlegend\":true,\"text\":[\"14.2%\\u003cbr\\u003e\\u003ci\\u003e(Tsinghua University)\\u003c\\u002fi\\u003e\"],\"textposition\":\"outside\",\"x\":[\"China\"],\"xaxis\":\"x\",\"y\":{\"dtype\":\"f8\",\"bdata\":\"VG80pIR0LEA=\"},\"yaxis\":\"y\",\"type\":\"bar\"},{\"customdata\":[[\"Google\",11040,84283]],\"hovertemplate\":\"Country=%{x}\\u003cbr\\u003e% National Instances (Top Inst.)=%{y:.1f%}\\u003cbr\\u003eBarLabel=%{text}\\u003cbr\\u003eInstitution=%{customdata[0]}\\u003cbr\\u003eTopInstCount=%{customdata[1]}\\u003cbr\\u003eTotalCountryInstances=%{customdata[2]}\\u003cextra\\u003e\\u003c\\u002fextra\\u003e\",\"legendgroup\":\"USA\",\"marker\":{\"color\":\"#ab63fa\",\"pattern\":{\"shape\":\"\"}},\"name\":\"USA\",\"orientation\":\"v\",\"showlegend\":true,\"text\":[\"13.1%\\u003cbr\\u003e\\u003ci\\u003e(Google)\\u003c\\u002fi\\u003e\"],\"textposition\":\"outside\",\"x\":[\"USA\"],\"xaxis\":\"x\",\"y\":{\"dtype\":\"f8\",\"bdata\":\"3oRTVYwyKkA=\"},\"yaxis\":\"y\",\"type\":\"bar\"},{\"customdata\":[[\"Max Planck Institute for Intelligent Systems\",628,6266]],\"hovertemplate\":\"Country=%{x}\\u003cbr\\u003e% National Instances (Top Inst.)=%{y:.1f%}\\u003cbr\\u003eBarLabel=%{text}\\u003cbr\\u003eInstitution=%{customdata[0]}\\u003cbr\\u003eTopInstCount=%{customdata[1]}\\u003cbr\\u003eTotalCountryInstances=%{customdata[2]}\\u003cextra\\u003e\\u003c\\u002fextra\\u003e\",\"legendgroup\":\"Germany\",\"marker\":{\"color\":\"#FFA15A\",\"pattern\":{\"shape\":\"\"}},\"name\":\"Germany\",\"orientation\":\"v\",\"showlegend\":true,\"text\":[\"10.0%\\u003cbr\\u003e\\u003ci\\u003e(Max Planck Institute for Intelligent Systems)\\u003c\\u002fi\\u003e\"],\"textposition\":\"outside\",\"x\":[\"Germany\"],\"xaxis\":\"x\",\"y\":{\"dtype\":\"f8\",\"bdata\":\"hHALhHALJEA=\"},\"yaxis\":\"y\",\"type\":\"bar\"}],                        {\"template\":{\"data\":{\"histogram2dcontour\":[{\"type\":\"histogram2dcontour\",\"colorbar\":{\"outlinewidth\":0,\"ticks\":\"\"},\"colorscale\":[[0.0,\"#0d0887\"],[0.1111111111111111,\"#46039f\"],[0.2222222222222222,\"#7201a8\"],[0.3333333333333333,\"#9c179e\"],[0.4444444444444444,\"#bd3786\"],[0.5555555555555556,\"#d8576b\"],[0.6666666666666666,\"#ed7953\"],[0.7777777777777778,\"#fb9f3a\"],[0.8888888888888888,\"#fdca26\"],[1.0,\"#f0f921\"]]}],\"choropleth\":[{\"type\":\"choropleth\",\"colorbar\":{\"outlinewidth\":0,\"ticks\":\"\"}}],\"histogram2d\":[{\"type\":\"histogram2d\",\"colorbar\":{\"outlinewidth\":0,\"ticks\":\"\"},\"colorscale\":[[0.0,\"#0d0887\"],[0.1111111111111111,\"#46039f\"],[0.2222222222222222,\"#7201a8\"],[0.3333333333333333,\"#9c179e\"],[0.4444444444444444,\"#bd3786\"],[0.5555555555555556,\"#d8576b\"],[0.6666666666666666,\"#ed7953\"],[0.7777777777777778,\"#fb9f3a\"],[0.8888888888888888,\"#fdca26\"],[1.0,\"#f0f921\"]]}],\"heatmap\":[{\"type\":\"heatmap\",\"colorbar\":{\"outlinewidth\":0,\"ticks\":\"\"},\"colorscale\":[[0.0,\"#0d0887\"],[0.1111111111111111,\"#46039f\"],[0.2222222222222222,\"#7201a8\"],[0.3333333333333333,\"#9c179e\"],[0.4444444444444444,\"#bd3786\"],[0.5555555555555556,\"#d8576b\"],[0.6666666666666666,\"#ed7953\"],[0.7777777777777778,\"#fb9f3a\"],[0.8888888888888888,\"#fdca26\"],[1.0,\"#f0f921\"]]}],\"contourcarpet\":[{\"type\":\"contourcarpet\",\"colorbar\":{\"outlinewidth\":0,\"ticks\":\"\"}}],\"contour\":[{\"type\":\"contour\",\"colorbar\":{\"outlinewidth\":0,\"ticks\":\"\"},\"colorscale\":[[0.0,\"#0d0887\"],[0.1111111111111111,\"#46039f\"],[0.2222222222222222,\"#7201a8\"],[0.3333333333333333,\"#9c179e\"],[0.4444444444444444,\"#bd3786\"],[0.5555555555555556,\"#d8576b\"],[0.6666666666666666,\"#ed7953\"],[0.7777777777777778,\"#fb9f3a\"],[0.8888888888888888,\"#fdca26\"],[1.0,\"#f0f921\"]]}],\"surface\":[{\"type\":\"surface\",\"colorbar\":{\"outlinewidth\":0,\"ticks\":\"\"},\"colorscale\":[[0.0,\"#0d0887\"],[0.1111111111111111,\"#46039f\"],[0.2222222222222222,\"#7201a8\"],[0.3333333333333333,\"#9c179e\"],[0.4444444444444444,\"#bd3786\"],[0.5555555555555556,\"#d8576b\"],[0.6666666666666666,\"#ed7953\"],[0.7777777777777778,\"#fb9f3a\"],[0.8888888888888888,\"#fdca26\"],[1.0,\"#f0f921\"]]}],\"mesh3d\":[{\"type\":\"mesh3d\",\"colorbar\":{\"outlinewidth\":0,\"ticks\":\"\"}}],\"scatter\":[{\"fillpattern\":{\"fillmode\":\"overlay\",\"size\":10,\"solidity\":0.2},\"type\":\"scatter\"}],\"parcoords\":[{\"type\":\"parcoords\",\"line\":{\"colorbar\":{\"outlinewidth\":0,\"ticks\":\"\"}}}],\"scatterpolargl\":[{\"type\":\"scatterpolargl\",\"marker\":{\"colorbar\":{\"outlinewidth\":0,\"ticks\":\"\"}}}],\"bar\":[{\"error_x\":{\"color\":\"#2a3f5f\"},\"error_y\":{\"color\":\"#2a3f5f\"},\"marker\":{\"line\":{\"color\":\"white\",\"width\":0.5},\"pattern\":{\"fillmode\":\"overlay\",\"size\":10,\"solidity\":0.2}},\"type\":\"bar\"}],\"scattergeo\":[{\"type\":\"scattergeo\",\"marker\":{\"colorbar\":{\"outlinewidth\":0,\"ticks\":\"\"}}}],\"scatterpolar\":[{\"type\":\"scatterpolar\",\"marker\":{\"colorbar\":{\"outlinewidth\":0,\"ticks\":\"\"}}}],\"histogram\":[{\"marker\":{\"pattern\":{\"fillmode\":\"overlay\",\"size\":10,\"solidity\":0.2}},\"type\":\"histogram\"}],\"scattergl\":[{\"type\":\"scattergl\",\"marker\":{\"colorbar\":{\"outlinewidth\":0,\"ticks\":\"\"}}}],\"scatter3d\":[{\"type\":\"scatter3d\",\"line\":{\"colorbar\":{\"outlinewidth\":0,\"ticks\":\"\"}},\"marker\":{\"colorbar\":{\"outlinewidth\":0,\"ticks\":\"\"}}}],\"scattermap\":[{\"type\":\"scattermap\",\"marker\":{\"colorbar\":{\"outlinewidth\":0,\"ticks\":\"\"}}}],\"scattermapbox\":[{\"type\":\"scattermapbox\",\"marker\":{\"colorbar\":{\"outlinewidth\":0,\"ticks\":\"\"}}}],\"scatterternary\":[{\"type\":\"scatterternary\",\"marker\":{\"colorbar\":{\"outlinewidth\":0,\"ticks\":\"\"}}}],\"scattercarpet\":[{\"type\":\"scattercarpet\",\"marker\":{\"colorbar\":{\"outlinewidth\":0,\"ticks\":\"\"}}}],\"carpet\":[{\"aaxis\":{\"endlinecolor\":\"#2a3f5f\",\"gridcolor\":\"#C8D4E3\",\"linecolor\":\"#C8D4E3\",\"minorgridcolor\":\"#C8D4E3\",\"startlinecolor\":\"#2a3f5f\"},\"baxis\":{\"endlinecolor\":\"#2a3f5f\",\"gridcolor\":\"#C8D4E3\",\"linecolor\":\"#C8D4E3\",\"minorgridcolor\":\"#C8D4E3\",\"startlinecolor\":\"#2a3f5f\"},\"type\":\"carpet\"}],\"table\":[{\"cells\":{\"fill\":{\"color\":\"#EBF0F8\"},\"line\":{\"color\":\"white\"}},\"header\":{\"fill\":{\"color\":\"#C8D4E3\"},\"line\":{\"color\":\"white\"}},\"type\":\"table\"}],\"barpolar\":[{\"marker\":{\"line\":{\"color\":\"white\",\"width\":0.5},\"pattern\":{\"fillmode\":\"overlay\",\"size\":10,\"solidity\":0.2}},\"type\":\"barpolar\"}],\"pie\":[{\"automargin\":true,\"type\":\"pie\"}]},\"layout\":{\"autotypenumbers\":\"strict\",\"colorway\":[\"#636efa\",\"#EF553B\",\"#00cc96\",\"#ab63fa\",\"#FFA15A\",\"#19d3f3\",\"#FF6692\",\"#B6E880\",\"#FF97FF\",\"#FECB52\"],\"font\":{\"color\":\"#2a3f5f\"},\"hovermode\":\"closest\",\"hoverlabel\":{\"align\":\"left\"},\"paper_bgcolor\":\"white\",\"plot_bgcolor\":\"white\",\"polar\":{\"bgcolor\":\"white\",\"angularaxis\":{\"gridcolor\":\"#EBF0F8\",\"linecolor\":\"#EBF0F8\",\"ticks\":\"\"},\"radialaxis\":{\"gridcolor\":\"#EBF0F8\",\"linecolor\":\"#EBF0F8\",\"ticks\":\"\"}},\"ternary\":{\"bgcolor\":\"white\",\"aaxis\":{\"gridcolor\":\"#DFE8F3\",\"linecolor\":\"#A2B1C6\",\"ticks\":\"\"},\"baxis\":{\"gridcolor\":\"#DFE8F3\",\"linecolor\":\"#A2B1C6\",\"ticks\":\"\"},\"caxis\":{\"gridcolor\":\"#DFE8F3\",\"linecolor\":\"#A2B1C6\",\"ticks\":\"\"}},\"coloraxis\":{\"colorbar\":{\"outlinewidth\":0,\"ticks\":\"\"}},\"colorscale\":{\"sequential\":[[0.0,\"#0d0887\"],[0.1111111111111111,\"#46039f\"],[0.2222222222222222,\"#7201a8\"],[0.3333333333333333,\"#9c179e\"],[0.4444444444444444,\"#bd3786\"],[0.5555555555555556,\"#d8576b\"],[0.6666666666666666,\"#ed7953\"],[0.7777777777777778,\"#fb9f3a\"],[0.8888888888888888,\"#fdca26\"],[1.0,\"#f0f921\"]],\"sequentialminus\":[[0.0,\"#0d0887\"],[0.1111111111111111,\"#46039f\"],[0.2222222222222222,\"#7201a8\"],[0.3333333333333333,\"#9c179e\"],[0.4444444444444444,\"#bd3786\"],[0.5555555555555556,\"#d8576b\"],[0.6666666666666666,\"#ed7953\"],[0.7777777777777778,\"#fb9f3a\"],[0.8888888888888888,\"#fdca26\"],[1.0,\"#f0f921\"]],\"diverging\":[[0,\"#8e0152\"],[0.1,\"#c51b7d\"],[0.2,\"#de77ae\"],[0.3,\"#f1b6da\"],[0.4,\"#fde0ef\"],[0.5,\"#f7f7f7\"],[0.6,\"#e6f5d0\"],[0.7,\"#b8e186\"],[0.8,\"#7fbc41\"],[0.9,\"#4d9221\"],[1,\"#276419\"]]},\"xaxis\":{\"gridcolor\":\"#EBF0F8\",\"linecolor\":\"#EBF0F8\",\"ticks\":\"\",\"title\":{\"standoff\":15},\"zerolinecolor\":\"#EBF0F8\",\"automargin\":true,\"zerolinewidth\":2},\"yaxis\":{\"gridcolor\":\"#EBF0F8\",\"linecolor\":\"#EBF0F8\",\"ticks\":\"\",\"title\":{\"standoff\":15},\"zerolinecolor\":\"#EBF0F8\",\"automargin\":true,\"zerolinewidth\":2},\"scene\":{\"xaxis\":{\"backgroundcolor\":\"white\",\"gridcolor\":\"#DFE8F3\",\"linecolor\":\"#EBF0F8\",\"showbackground\":true,\"ticks\":\"\",\"zerolinecolor\":\"#EBF0F8\",\"gridwidth\":2},\"yaxis\":{\"backgroundcolor\":\"white\",\"gridcolor\":\"#DFE8F3\",\"linecolor\":\"#EBF0F8\",\"showbackground\":true,\"ticks\":\"\",\"zerolinecolor\":\"#EBF0F8\",\"gridwidth\":2},\"zaxis\":{\"backgroundcolor\":\"white\",\"gridcolor\":\"#DFE8F3\",\"linecolor\":\"#EBF0F8\",\"showbackground\":true,\"ticks\":\"\",\"zerolinecolor\":\"#EBF0F8\",\"gridwidth\":2}},\"shapedefaults\":{\"line\":{\"color\":\"#2a3f5f\"}},\"annotationdefaults\":{\"arrowcolor\":\"#2a3f5f\",\"arrowhead\":0,\"arrowwidth\":1},\"geo\":{\"bgcolor\":\"white\",\"landcolor\":\"white\",\"subunitcolor\":\"#C8D4E3\",\"showland\":true,\"showlakes\":true,\"lakecolor\":\"white\"},\"title\":{\"x\":0.05},\"mapbox\":{\"style\":\"light\"}}},\"xaxis\":{\"anchor\":\"y\",\"domain\":[0.0,1.0],\"title\":{\"text\":\"Country\"},\"categoryorder\":\"array\",\"categoryarray\":[\"UK\",\"Canada\",\"China\",\"USA\",\"Germany\"]},\"yaxis\":{\"anchor\":\"x\",\"domain\":[0.0,1.0],\"title\":{\"text\":\"% National Instances (Top Inst.)\"}},\"legend\":{\"title\":{\"text\":\"Country\"},\"tracegroupgap\":0},\"title\":{\"text\":\"Dominance of Top Institution within Top 5 Countries\"},\"barmode\":\"relative\",\"showlegend\":false},                        {\"responsive\": true}                    ).then(function(){\n",
       "                            \n",
       "var gd = document.getElementById('876c85f9-3639-4080-b504-7acc922e3b67');\n",
       "var x = new MutationObserver(function (mutations, observer) {{\n",
       "        var display = window.getComputedStyle(gd).display;\n",
       "        if (!display || display === 'none') {{\n",
       "            console.log([gd, 'removed!']);\n",
       "            Plotly.purge(gd);\n",
       "            observer.disconnect();\n",
       "        }}\n",
       "}});\n",
       "\n",
       "// Listen for the removal of the full notebook cells\n",
       "var notebookContainer = gd.closest('#notebook-container');\n",
       "if (notebookContainer) {{\n",
       "    x.observe(notebookContainer, {childList: true});\n",
       "}}\n",
       "\n",
       "// Listen for the clearing of the current output cell\n",
       "var outputEl = gd.closest('.output');\n",
       "if (outputEl) {{\n",
       "    x.observe(outputEl, {childList: true});\n",
       "}}\n",
       "\n",
       "                        })                };            </script>        </div>"
      ]
     },
     "metadata": {},
     "output_type": "display_data"
    }
   ],
   "source": [
    "K_TOP_COUNTRIES = 5 # Number of top countries to analyze\n",
    "\n",
    "print(f\"\\nInstitutional Dominance within Top {K_TOP_COUNTRIES} Countries\")\n",
    "\n",
    "# Filter unknowns\n",
    "dom_df = df[(df['Country'] != 'Unknown Country') &\n",
    "            (df['Institution'] != 'Unknown Institution')].copy()\n",
    "\n",
    "# Find Top K countries overall\n",
    "top_k_countries = dom_df['Country'].value_counts().head(K_TOP_COUNTRIES).index.tolist()\n",
    "print(f\"Analyzing Top {K_TOP_COUNTRIES} Countries: {top_k_countries}\")\n",
    "\n",
    "# Filter data for only these top countries\n",
    "dom_df_filtered = dom_df[dom_df['Country'].isin(top_k_countries)]\n",
    "\n",
    "# Calculate total instances per country\n",
    "total_country_counts = dom_df_filtered.groupby('Country').size().reset_index(name='TotalCountryInstances')\n",
    "\n",
    "# Find the single top institution WITHIN each of these countries\n",
    "top_inst_per_country = dom_df_filtered.groupby(['Country', 'Institution']).size().reset_index(name='InstCount')\n",
    "top_inst_per_country = top_inst_per_country.loc[top_inst_per_country.groupby('Country')['InstCount'].idxmax()]\n",
    "top_inst_per_country = top_inst_per_country.rename(columns={'InstCount': 'TopInstCount'})\n",
    "\n",
    "# Merge total country counts and top institution counts\n",
    "dominance_summary = pd.merge(total_country_counts, top_inst_per_country[['Country', 'Institution', 'TopInstCount']], on='Country')\n",
    "\n",
    "# Calculate dominance percentage\n",
    "dominance_summary['DominancePercentage'] = (dominance_summary['TopInstCount'] / dominance_summary['TotalCountryInstances']) * 100\n",
    "\n",
    "# Create the combined text label for the bars\n",
    "dominance_summary['BarLabel'] = dominance_summary.apply(\n",
    "    lambda row: f\"{row['DominancePercentage']:.1f}%<br><i>({row['Institution']})</i>\",\n",
    "    axis=1\n",
    ")\n",
    "\n",
    "# Sort by dominance percentage for plotting\n",
    "dominance_summary = dominance_summary.sort_values('DominancePercentage', ascending=False)\n",
    "\n",
    "# Visualization: Bar chart of dominance percentage\n",
    "fig_h11 = px.bar(dominance_summary,\n",
    "                 x='Country', y='DominancePercentage', color='Country',\n",
    "                 title=f'Dominance of Top Institution within Top {K_TOP_COUNTRIES} Countries',\n",
    "                 labels={'DominancePercentage': '% National Instances (Top Inst.)', 'Country': 'Country'},\n",
    "                 text='BarLabel',\n",
    "                 hover_data={'Institution': True, 'TopInstCount': True, 'TotalCountryInstances': True, 'DominancePercentage':':.1f%'})\n",
    "\n",
    "fig_h11.update_traces(textposition='outside')\n",
    "fig_h11.update_layout(showlegend=False, yaxis_title=\"% National Instances (Top Inst.)\")\n",
    "fig_h11.show()"
   ]
  },
  {
   "cell_type": "markdown",
   "id": "4c1b7d3f",
   "metadata": {},
   "source": [
    "**Findings:** The plot shows the percentage of each top country's total output contributed by its single largest institution.\n",
    "*   The **UK** shows the highest concentration among the top 5, with the University of Oxford contributing over 27% of its national total.\n",
    "*   **Canada** follows, with the University of Toronto contributing around 18.6%.\n",
    "*   **China's** output is less concentrated in its top institution (Tsinghua University, ~14.2%) compared to the UK or Canada.\n",
    "*   The **USA**, despite having the highest overall output, shows relatively lower concentration in its top institution (Google, ~13.1%), indicating a broader base of major contributors.\n",
    "*   **Germany** has the lowest concentration among these five, with the Max Planck Institute for Intelligent Systems contributing ~10.0%.\n",
    "\n",
    "**Conclusion:** **H10 is supported, but with significant variation.** While top institutions are clearly important, the degree of *national* concentration varies. Some countries (UK, Canada) rely more heavily on their single top institution than others (USA, China, Germany) which appear to have a more distributed set of leading contributors within the country."
   ]
  },
  {
   "cell_type": "markdown",
   "id": "26b7a962",
   "metadata": {},
   "source": [
    "### H11: Rise of New Player Countries\n",
    "\n",
    "**Hypothesis:** Beyond the established leaders, other countries have emerged as significant contributors in recent years.\n",
    "\n",
    "**Quantification:** Identify countries ranked in the Top 20 post-2018 but *not* in the Top 20 pre-2017. Plot their absolute contribution trends."
   ]
  },
  {
   "cell_type": "code",
   "execution_count": 20,
   "id": "440e1dee",
   "metadata": {},
   "outputs": [
    {
     "name": "stdout",
     "output_type": "stream",
     "text": [
      "\n",
      "Rise of New Player Countries (Comparing Pre-2017 and Post-2018)\n",
      "\n",
      "Potential Emerging Countries (in Top 20 post-2018, not pre-2017):\n",
      "['Russia', 'Sweden', 'Denmark']\n"
     ]
    },
    {
     "data": {
      "application/vnd.plotly.v1+json": {
       "config": {
        "plotlyServerURL": "https://plot.ly"
       },
       "data": [
        {
         "hovertemplate": "Country=Denmark<br>Year=%{x}<br>Number of Authorship Instances=%{y}<extra></extra>",
         "legendgroup": "Denmark",
         "line": {
          "color": "#636efa",
          "dash": "solid"
         },
         "marker": {
          "symbol": "circle"
         },
         "mode": "lines+markers",
         "name": "Denmark",
         "orientation": "v",
         "showlegend": true,
         "type": "scatter",
         "x": {
          "bdata": "1gfYB9kH2gfbB9wH3QfeB+AH4QfiB+MH5AflB+YH5wfoBw==",
          "dtype": "i2"
         },
         "xaxis": "x",
         "y": {
          "bdata": "AwABAAIABQABAAEABQACAA4ADgASADEALgAyAEcAZQCTAA==",
          "dtype": "i2"
         },
         "yaxis": "y"
        },
        {
         "hovertemplate": "Country=Sweden<br>Year=%{x}<br>Number of Authorship Instances=%{y}<extra></extra>",
         "legendgroup": "Sweden",
         "line": {
          "color": "#EF553B",
          "dash": "solid"
         },
         "marker": {
          "symbol": "circle"
         },
         "mode": "lines+markers",
         "name": "Sweden",
         "orientation": "v",
         "showlegend": true,
         "type": "scatter",
         "x": {
          "bdata": "1gfXB9gH2QfaB9sH3AfdB94H3wfgB+EH4gfjB+QH5QfmB+cH6Ac=",
          "dtype": "i2"
         },
         "xaxis": "x",
         "y": {
          "bdata": "AgAEAAEAAQABAAYACQAGAAYABwABAAwAFwAnAD0ANwBfAGAAlgA=",
          "dtype": "i2"
         },
         "yaxis": "y"
        },
        {
         "hovertemplate": "Country=Russia<br>Year=%{x}<br>Number of Authorship Instances=%{y}<extra></extra>",
         "legendgroup": "Russia",
         "line": {
          "color": "#00cc96",
          "dash": "solid"
         },
         "marker": {
          "symbol": "circle"
         },
         "mode": "lines+markers",
         "name": "Russia",
         "orientation": "v",
         "showlegend": true,
         "type": "scatter",
         "x": {
          "bdata": "2AfZB9oH2wfcB94H3wfgB+EH4gfjB+QH5QfmB+cH6Ac=",
          "dtype": "i2"
         },
         "xaxis": "x",
         "y": {
          "bdata": "AQADAAMAAgABAAEABQAUAAwAJQA5AD0AZwB/AJIA7gA=",
          "dtype": "i2"
         },
         "yaxis": "y"
        }
       ],
       "layout": {
        "hovermode": "x unified",
        "legend": {
         "title": {
          "text": "Country"
         },
         "tracegroupgap": 0
        },
        "template": {
         "data": {
          "bar": [
           {
            "error_x": {
             "color": "#2a3f5f"
            },
            "error_y": {
             "color": "#2a3f5f"
            },
            "marker": {
             "line": {
              "color": "white",
              "width": 0.5
             },
             "pattern": {
              "fillmode": "overlay",
              "size": 10,
              "solidity": 0.2
             }
            },
            "type": "bar"
           }
          ],
          "barpolar": [
           {
            "marker": {
             "line": {
              "color": "white",
              "width": 0.5
             },
             "pattern": {
              "fillmode": "overlay",
              "size": 10,
              "solidity": 0.2
             }
            },
            "type": "barpolar"
           }
          ],
          "carpet": [
           {
            "aaxis": {
             "endlinecolor": "#2a3f5f",
             "gridcolor": "#C8D4E3",
             "linecolor": "#C8D4E3",
             "minorgridcolor": "#C8D4E3",
             "startlinecolor": "#2a3f5f"
            },
            "baxis": {
             "endlinecolor": "#2a3f5f",
             "gridcolor": "#C8D4E3",
             "linecolor": "#C8D4E3",
             "minorgridcolor": "#C8D4E3",
             "startlinecolor": "#2a3f5f"
            },
            "type": "carpet"
           }
          ],
          "choropleth": [
           {
            "colorbar": {
             "outlinewidth": 0,
             "ticks": ""
            },
            "type": "choropleth"
           }
          ],
          "contour": [
           {
            "colorbar": {
             "outlinewidth": 0,
             "ticks": ""
            },
            "colorscale": [
             [
              0,
              "#0d0887"
             ],
             [
              0.1111111111111111,
              "#46039f"
             ],
             [
              0.2222222222222222,
              "#7201a8"
             ],
             [
              0.3333333333333333,
              "#9c179e"
             ],
             [
              0.4444444444444444,
              "#bd3786"
             ],
             [
              0.5555555555555556,
              "#d8576b"
             ],
             [
              0.6666666666666666,
              "#ed7953"
             ],
             [
              0.7777777777777778,
              "#fb9f3a"
             ],
             [
              0.8888888888888888,
              "#fdca26"
             ],
             [
              1,
              "#f0f921"
             ]
            ],
            "type": "contour"
           }
          ],
          "contourcarpet": [
           {
            "colorbar": {
             "outlinewidth": 0,
             "ticks": ""
            },
            "type": "contourcarpet"
           }
          ],
          "heatmap": [
           {
            "colorbar": {
             "outlinewidth": 0,
             "ticks": ""
            },
            "colorscale": [
             [
              0,
              "#0d0887"
             ],
             [
              0.1111111111111111,
              "#46039f"
             ],
             [
              0.2222222222222222,
              "#7201a8"
             ],
             [
              0.3333333333333333,
              "#9c179e"
             ],
             [
              0.4444444444444444,
              "#bd3786"
             ],
             [
              0.5555555555555556,
              "#d8576b"
             ],
             [
              0.6666666666666666,
              "#ed7953"
             ],
             [
              0.7777777777777778,
              "#fb9f3a"
             ],
             [
              0.8888888888888888,
              "#fdca26"
             ],
             [
              1,
              "#f0f921"
             ]
            ],
            "type": "heatmap"
           }
          ],
          "histogram": [
           {
            "marker": {
             "pattern": {
              "fillmode": "overlay",
              "size": 10,
              "solidity": 0.2
             }
            },
            "type": "histogram"
           }
          ],
          "histogram2d": [
           {
            "colorbar": {
             "outlinewidth": 0,
             "ticks": ""
            },
            "colorscale": [
             [
              0,
              "#0d0887"
             ],
             [
              0.1111111111111111,
              "#46039f"
             ],
             [
              0.2222222222222222,
              "#7201a8"
             ],
             [
              0.3333333333333333,
              "#9c179e"
             ],
             [
              0.4444444444444444,
              "#bd3786"
             ],
             [
              0.5555555555555556,
              "#d8576b"
             ],
             [
              0.6666666666666666,
              "#ed7953"
             ],
             [
              0.7777777777777778,
              "#fb9f3a"
             ],
             [
              0.8888888888888888,
              "#fdca26"
             ],
             [
              1,
              "#f0f921"
             ]
            ],
            "type": "histogram2d"
           }
          ],
          "histogram2dcontour": [
           {
            "colorbar": {
             "outlinewidth": 0,
             "ticks": ""
            },
            "colorscale": [
             [
              0,
              "#0d0887"
             ],
             [
              0.1111111111111111,
              "#46039f"
             ],
             [
              0.2222222222222222,
              "#7201a8"
             ],
             [
              0.3333333333333333,
              "#9c179e"
             ],
             [
              0.4444444444444444,
              "#bd3786"
             ],
             [
              0.5555555555555556,
              "#d8576b"
             ],
             [
              0.6666666666666666,
              "#ed7953"
             ],
             [
              0.7777777777777778,
              "#fb9f3a"
             ],
             [
              0.8888888888888888,
              "#fdca26"
             ],
             [
              1,
              "#f0f921"
             ]
            ],
            "type": "histogram2dcontour"
           }
          ],
          "mesh3d": [
           {
            "colorbar": {
             "outlinewidth": 0,
             "ticks": ""
            },
            "type": "mesh3d"
           }
          ],
          "parcoords": [
           {
            "line": {
             "colorbar": {
              "outlinewidth": 0,
              "ticks": ""
             }
            },
            "type": "parcoords"
           }
          ],
          "pie": [
           {
            "automargin": true,
            "type": "pie"
           }
          ],
          "scatter": [
           {
            "fillpattern": {
             "fillmode": "overlay",
             "size": 10,
             "solidity": 0.2
            },
            "type": "scatter"
           }
          ],
          "scatter3d": [
           {
            "line": {
             "colorbar": {
              "outlinewidth": 0,
              "ticks": ""
             }
            },
            "marker": {
             "colorbar": {
              "outlinewidth": 0,
              "ticks": ""
             }
            },
            "type": "scatter3d"
           }
          ],
          "scattercarpet": [
           {
            "marker": {
             "colorbar": {
              "outlinewidth": 0,
              "ticks": ""
             }
            },
            "type": "scattercarpet"
           }
          ],
          "scattergeo": [
           {
            "marker": {
             "colorbar": {
              "outlinewidth": 0,
              "ticks": ""
             }
            },
            "type": "scattergeo"
           }
          ],
          "scattergl": [
           {
            "marker": {
             "colorbar": {
              "outlinewidth": 0,
              "ticks": ""
             }
            },
            "type": "scattergl"
           }
          ],
          "scattermap": [
           {
            "marker": {
             "colorbar": {
              "outlinewidth": 0,
              "ticks": ""
             }
            },
            "type": "scattermap"
           }
          ],
          "scattermapbox": [
           {
            "marker": {
             "colorbar": {
              "outlinewidth": 0,
              "ticks": ""
             }
            },
            "type": "scattermapbox"
           }
          ],
          "scatterpolar": [
           {
            "marker": {
             "colorbar": {
              "outlinewidth": 0,
              "ticks": ""
             }
            },
            "type": "scatterpolar"
           }
          ],
          "scatterpolargl": [
           {
            "marker": {
             "colorbar": {
              "outlinewidth": 0,
              "ticks": ""
             }
            },
            "type": "scatterpolargl"
           }
          ],
          "scatterternary": [
           {
            "marker": {
             "colorbar": {
              "outlinewidth": 0,
              "ticks": ""
             }
            },
            "type": "scatterternary"
           }
          ],
          "surface": [
           {
            "colorbar": {
             "outlinewidth": 0,
             "ticks": ""
            },
            "colorscale": [
             [
              0,
              "#0d0887"
             ],
             [
              0.1111111111111111,
              "#46039f"
             ],
             [
              0.2222222222222222,
              "#7201a8"
             ],
             [
              0.3333333333333333,
              "#9c179e"
             ],
             [
              0.4444444444444444,
              "#bd3786"
             ],
             [
              0.5555555555555556,
              "#d8576b"
             ],
             [
              0.6666666666666666,
              "#ed7953"
             ],
             [
              0.7777777777777778,
              "#fb9f3a"
             ],
             [
              0.8888888888888888,
              "#fdca26"
             ],
             [
              1,
              "#f0f921"
             ]
            ],
            "type": "surface"
           }
          ],
          "table": [
           {
            "cells": {
             "fill": {
              "color": "#EBF0F8"
             },
             "line": {
              "color": "white"
             }
            },
            "header": {
             "fill": {
              "color": "#C8D4E3"
             },
             "line": {
              "color": "white"
             }
            },
            "type": "table"
           }
          ]
         },
         "layout": {
          "annotationdefaults": {
           "arrowcolor": "#2a3f5f",
           "arrowhead": 0,
           "arrowwidth": 1
          },
          "autotypenumbers": "strict",
          "coloraxis": {
           "colorbar": {
            "outlinewidth": 0,
            "ticks": ""
           }
          },
          "colorscale": {
           "diverging": [
            [
             0,
             "#8e0152"
            ],
            [
             0.1,
             "#c51b7d"
            ],
            [
             0.2,
             "#de77ae"
            ],
            [
             0.3,
             "#f1b6da"
            ],
            [
             0.4,
             "#fde0ef"
            ],
            [
             0.5,
             "#f7f7f7"
            ],
            [
             0.6,
             "#e6f5d0"
            ],
            [
             0.7,
             "#b8e186"
            ],
            [
             0.8,
             "#7fbc41"
            ],
            [
             0.9,
             "#4d9221"
            ],
            [
             1,
             "#276419"
            ]
           ],
           "sequential": [
            [
             0,
             "#0d0887"
            ],
            [
             0.1111111111111111,
             "#46039f"
            ],
            [
             0.2222222222222222,
             "#7201a8"
            ],
            [
             0.3333333333333333,
             "#9c179e"
            ],
            [
             0.4444444444444444,
             "#bd3786"
            ],
            [
             0.5555555555555556,
             "#d8576b"
            ],
            [
             0.6666666666666666,
             "#ed7953"
            ],
            [
             0.7777777777777778,
             "#fb9f3a"
            ],
            [
             0.8888888888888888,
             "#fdca26"
            ],
            [
             1,
             "#f0f921"
            ]
           ],
           "sequentialminus": [
            [
             0,
             "#0d0887"
            ],
            [
             0.1111111111111111,
             "#46039f"
            ],
            [
             0.2222222222222222,
             "#7201a8"
            ],
            [
             0.3333333333333333,
             "#9c179e"
            ],
            [
             0.4444444444444444,
             "#bd3786"
            ],
            [
             0.5555555555555556,
             "#d8576b"
            ],
            [
             0.6666666666666666,
             "#ed7953"
            ],
            [
             0.7777777777777778,
             "#fb9f3a"
            ],
            [
             0.8888888888888888,
             "#fdca26"
            ],
            [
             1,
             "#f0f921"
            ]
           ]
          },
          "colorway": [
           "#636efa",
           "#EF553B",
           "#00cc96",
           "#ab63fa",
           "#FFA15A",
           "#19d3f3",
           "#FF6692",
           "#B6E880",
           "#FF97FF",
           "#FECB52"
          ],
          "font": {
           "color": "#2a3f5f"
          },
          "geo": {
           "bgcolor": "white",
           "lakecolor": "white",
           "landcolor": "white",
           "showlakes": true,
           "showland": true,
           "subunitcolor": "#C8D4E3"
          },
          "hoverlabel": {
           "align": "left"
          },
          "hovermode": "closest",
          "mapbox": {
           "style": "light"
          },
          "paper_bgcolor": "white",
          "plot_bgcolor": "white",
          "polar": {
           "angularaxis": {
            "gridcolor": "#EBF0F8",
            "linecolor": "#EBF0F8",
            "ticks": ""
           },
           "bgcolor": "white",
           "radialaxis": {
            "gridcolor": "#EBF0F8",
            "linecolor": "#EBF0F8",
            "ticks": ""
           }
          },
          "scene": {
           "xaxis": {
            "backgroundcolor": "white",
            "gridcolor": "#DFE8F3",
            "gridwidth": 2,
            "linecolor": "#EBF0F8",
            "showbackground": true,
            "ticks": "",
            "zerolinecolor": "#EBF0F8"
           },
           "yaxis": {
            "backgroundcolor": "white",
            "gridcolor": "#DFE8F3",
            "gridwidth": 2,
            "linecolor": "#EBF0F8",
            "showbackground": true,
            "ticks": "",
            "zerolinecolor": "#EBF0F8"
           },
           "zaxis": {
            "backgroundcolor": "white",
            "gridcolor": "#DFE8F3",
            "gridwidth": 2,
            "linecolor": "#EBF0F8",
            "showbackground": true,
            "ticks": "",
            "zerolinecolor": "#EBF0F8"
           }
          },
          "shapedefaults": {
           "line": {
            "color": "#2a3f5f"
           }
          },
          "ternary": {
           "aaxis": {
            "gridcolor": "#DFE8F3",
            "linecolor": "#A2B1C6",
            "ticks": ""
           },
           "baxis": {
            "gridcolor": "#DFE8F3",
            "linecolor": "#A2B1C6",
            "ticks": ""
           },
           "bgcolor": "white",
           "caxis": {
            "gridcolor": "#DFE8F3",
            "linecolor": "#A2B1C6",
            "ticks": ""
           }
          },
          "title": {
           "x": 0.05
          },
          "xaxis": {
           "automargin": true,
           "gridcolor": "#EBF0F8",
           "linecolor": "#EBF0F8",
           "ticks": "",
           "title": {
            "standoff": 15
           },
           "zerolinecolor": "#EBF0F8",
           "zerolinewidth": 2
          },
          "yaxis": {
           "automargin": true,
           "gridcolor": "#EBF0F8",
           "linecolor": "#EBF0F8",
           "ticks": "",
           "title": {
            "standoff": 15
           },
           "zerolinecolor": "#EBF0F8",
           "zerolinewidth": 2
          }
         }
        },
        "title": {
         "text": "Authorship Instance Trends for Emerging Countries"
        },
        "xaxis": {
         "anchor": "y",
         "domain": [
          0,
          1
         ],
         "title": {
          "text": "Year"
         }
        },
        "yaxis": {
         "anchor": "x",
         "domain": [
          0,
          1
         ],
         "title": {
          "text": "Number of Authorship Instances"
         }
        }
       }
      },
      "text/html": [
       "<div>            <script src=\"https://cdnjs.cloudflare.com/ajax/libs/mathjax/2.7.5/MathJax.js?config=TeX-AMS-MML_SVG\"></script><script type=\"text/javascript\">if (window.MathJax && window.MathJax.Hub && window.MathJax.Hub.Config) {window.MathJax.Hub.Config({SVG: {font: \"STIX-Web\"}});}</script>                <script type=\"text/javascript\">window.PlotlyConfig = {MathJaxConfig: 'local'};</script>\n",
       "        <script charset=\"utf-8\" src=\"https://cdn.plot.ly/plotly-3.0.1.min.js\"></script>                <div id=\"c1254181-ada4-46d0-8611-22b3257f71fc\" class=\"plotly-graph-div\" style=\"height:525px; width:100%;\"></div>            <script type=\"text/javascript\">                window.PLOTLYENV=window.PLOTLYENV || {};                                if (document.getElementById(\"c1254181-ada4-46d0-8611-22b3257f71fc\")) {                    Plotly.newPlot(                        \"c1254181-ada4-46d0-8611-22b3257f71fc\",                        [{\"hovertemplate\":\"Country=Denmark\\u003cbr\\u003eYear=%{x}\\u003cbr\\u003eNumber of Authorship Instances=%{y}\\u003cextra\\u003e\\u003c\\u002fextra\\u003e\",\"legendgroup\":\"Denmark\",\"line\":{\"color\":\"#636efa\",\"dash\":\"solid\"},\"marker\":{\"symbol\":\"circle\"},\"mode\":\"lines+markers\",\"name\":\"Denmark\",\"orientation\":\"v\",\"showlegend\":true,\"x\":{\"dtype\":\"i2\",\"bdata\":\"1gfYB9kH2gfbB9wH3QfeB+AH4QfiB+MH5AflB+YH5wfoBw==\"},\"xaxis\":\"x\",\"y\":{\"dtype\":\"i2\",\"bdata\":\"AwABAAIABQABAAEABQACAA4ADgASADEALgAyAEcAZQCTAA==\"},\"yaxis\":\"y\",\"type\":\"scatter\"},{\"hovertemplate\":\"Country=Sweden\\u003cbr\\u003eYear=%{x}\\u003cbr\\u003eNumber of Authorship Instances=%{y}\\u003cextra\\u003e\\u003c\\u002fextra\\u003e\",\"legendgroup\":\"Sweden\",\"line\":{\"color\":\"#EF553B\",\"dash\":\"solid\"},\"marker\":{\"symbol\":\"circle\"},\"mode\":\"lines+markers\",\"name\":\"Sweden\",\"orientation\":\"v\",\"showlegend\":true,\"x\":{\"dtype\":\"i2\",\"bdata\":\"1gfXB9gH2QfaB9sH3AfdB94H3wfgB+EH4gfjB+QH5QfmB+cH6Ac=\"},\"xaxis\":\"x\",\"y\":{\"dtype\":\"i2\",\"bdata\":\"AgAEAAEAAQABAAYACQAGAAYABwABAAwAFwAnAD0ANwBfAGAAlgA=\"},\"yaxis\":\"y\",\"type\":\"scatter\"},{\"hovertemplate\":\"Country=Russia\\u003cbr\\u003eYear=%{x}\\u003cbr\\u003eNumber of Authorship Instances=%{y}\\u003cextra\\u003e\\u003c\\u002fextra\\u003e\",\"legendgroup\":\"Russia\",\"line\":{\"color\":\"#00cc96\",\"dash\":\"solid\"},\"marker\":{\"symbol\":\"circle\"},\"mode\":\"lines+markers\",\"name\":\"Russia\",\"orientation\":\"v\",\"showlegend\":true,\"x\":{\"dtype\":\"i2\",\"bdata\":\"2AfZB9oH2wfcB94H3wfgB+EH4gfjB+QH5QfmB+cH6Ac=\"},\"xaxis\":\"x\",\"y\":{\"dtype\":\"i2\",\"bdata\":\"AQADAAMAAgABAAEABQAUAAwAJQA5AD0AZwB\\u002fAJIA7gA=\"},\"yaxis\":\"y\",\"type\":\"scatter\"}],                        {\"template\":{\"data\":{\"histogram2dcontour\":[{\"type\":\"histogram2dcontour\",\"colorbar\":{\"outlinewidth\":0,\"ticks\":\"\"},\"colorscale\":[[0.0,\"#0d0887\"],[0.1111111111111111,\"#46039f\"],[0.2222222222222222,\"#7201a8\"],[0.3333333333333333,\"#9c179e\"],[0.4444444444444444,\"#bd3786\"],[0.5555555555555556,\"#d8576b\"],[0.6666666666666666,\"#ed7953\"],[0.7777777777777778,\"#fb9f3a\"],[0.8888888888888888,\"#fdca26\"],[1.0,\"#f0f921\"]]}],\"choropleth\":[{\"type\":\"choropleth\",\"colorbar\":{\"outlinewidth\":0,\"ticks\":\"\"}}],\"histogram2d\":[{\"type\":\"histogram2d\",\"colorbar\":{\"outlinewidth\":0,\"ticks\":\"\"},\"colorscale\":[[0.0,\"#0d0887\"],[0.1111111111111111,\"#46039f\"],[0.2222222222222222,\"#7201a8\"],[0.3333333333333333,\"#9c179e\"],[0.4444444444444444,\"#bd3786\"],[0.5555555555555556,\"#d8576b\"],[0.6666666666666666,\"#ed7953\"],[0.7777777777777778,\"#fb9f3a\"],[0.8888888888888888,\"#fdca26\"],[1.0,\"#f0f921\"]]}],\"heatmap\":[{\"type\":\"heatmap\",\"colorbar\":{\"outlinewidth\":0,\"ticks\":\"\"},\"colorscale\":[[0.0,\"#0d0887\"],[0.1111111111111111,\"#46039f\"],[0.2222222222222222,\"#7201a8\"],[0.3333333333333333,\"#9c179e\"],[0.4444444444444444,\"#bd3786\"],[0.5555555555555556,\"#d8576b\"],[0.6666666666666666,\"#ed7953\"],[0.7777777777777778,\"#fb9f3a\"],[0.8888888888888888,\"#fdca26\"],[1.0,\"#f0f921\"]]}],\"contourcarpet\":[{\"type\":\"contourcarpet\",\"colorbar\":{\"outlinewidth\":0,\"ticks\":\"\"}}],\"contour\":[{\"type\":\"contour\",\"colorbar\":{\"outlinewidth\":0,\"ticks\":\"\"},\"colorscale\":[[0.0,\"#0d0887\"],[0.1111111111111111,\"#46039f\"],[0.2222222222222222,\"#7201a8\"],[0.3333333333333333,\"#9c179e\"],[0.4444444444444444,\"#bd3786\"],[0.5555555555555556,\"#d8576b\"],[0.6666666666666666,\"#ed7953\"],[0.7777777777777778,\"#fb9f3a\"],[0.8888888888888888,\"#fdca26\"],[1.0,\"#f0f921\"]]}],\"surface\":[{\"type\":\"surface\",\"colorbar\":{\"outlinewidth\":0,\"ticks\":\"\"},\"colorscale\":[[0.0,\"#0d0887\"],[0.1111111111111111,\"#46039f\"],[0.2222222222222222,\"#7201a8\"],[0.3333333333333333,\"#9c179e\"],[0.4444444444444444,\"#bd3786\"],[0.5555555555555556,\"#d8576b\"],[0.6666666666666666,\"#ed7953\"],[0.7777777777777778,\"#fb9f3a\"],[0.8888888888888888,\"#fdca26\"],[1.0,\"#f0f921\"]]}],\"mesh3d\":[{\"type\":\"mesh3d\",\"colorbar\":{\"outlinewidth\":0,\"ticks\":\"\"}}],\"scatter\":[{\"fillpattern\":{\"fillmode\":\"overlay\",\"size\":10,\"solidity\":0.2},\"type\":\"scatter\"}],\"parcoords\":[{\"type\":\"parcoords\",\"line\":{\"colorbar\":{\"outlinewidth\":0,\"ticks\":\"\"}}}],\"scatterpolargl\":[{\"type\":\"scatterpolargl\",\"marker\":{\"colorbar\":{\"outlinewidth\":0,\"ticks\":\"\"}}}],\"bar\":[{\"error_x\":{\"color\":\"#2a3f5f\"},\"error_y\":{\"color\":\"#2a3f5f\"},\"marker\":{\"line\":{\"color\":\"white\",\"width\":0.5},\"pattern\":{\"fillmode\":\"overlay\",\"size\":10,\"solidity\":0.2}},\"type\":\"bar\"}],\"scattergeo\":[{\"type\":\"scattergeo\",\"marker\":{\"colorbar\":{\"outlinewidth\":0,\"ticks\":\"\"}}}],\"scatterpolar\":[{\"type\":\"scatterpolar\",\"marker\":{\"colorbar\":{\"outlinewidth\":0,\"ticks\":\"\"}}}],\"histogram\":[{\"marker\":{\"pattern\":{\"fillmode\":\"overlay\",\"size\":10,\"solidity\":0.2}},\"type\":\"histogram\"}],\"scattergl\":[{\"type\":\"scattergl\",\"marker\":{\"colorbar\":{\"outlinewidth\":0,\"ticks\":\"\"}}}],\"scatter3d\":[{\"type\":\"scatter3d\",\"line\":{\"colorbar\":{\"outlinewidth\":0,\"ticks\":\"\"}},\"marker\":{\"colorbar\":{\"outlinewidth\":0,\"ticks\":\"\"}}}],\"scattermap\":[{\"type\":\"scattermap\",\"marker\":{\"colorbar\":{\"outlinewidth\":0,\"ticks\":\"\"}}}],\"scattermapbox\":[{\"type\":\"scattermapbox\",\"marker\":{\"colorbar\":{\"outlinewidth\":0,\"ticks\":\"\"}}}],\"scatterternary\":[{\"type\":\"scatterternary\",\"marker\":{\"colorbar\":{\"outlinewidth\":0,\"ticks\":\"\"}}}],\"scattercarpet\":[{\"type\":\"scattercarpet\",\"marker\":{\"colorbar\":{\"outlinewidth\":0,\"ticks\":\"\"}}}],\"carpet\":[{\"aaxis\":{\"endlinecolor\":\"#2a3f5f\",\"gridcolor\":\"#C8D4E3\",\"linecolor\":\"#C8D4E3\",\"minorgridcolor\":\"#C8D4E3\",\"startlinecolor\":\"#2a3f5f\"},\"baxis\":{\"endlinecolor\":\"#2a3f5f\",\"gridcolor\":\"#C8D4E3\",\"linecolor\":\"#C8D4E3\",\"minorgridcolor\":\"#C8D4E3\",\"startlinecolor\":\"#2a3f5f\"},\"type\":\"carpet\"}],\"table\":[{\"cells\":{\"fill\":{\"color\":\"#EBF0F8\"},\"line\":{\"color\":\"white\"}},\"header\":{\"fill\":{\"color\":\"#C8D4E3\"},\"line\":{\"color\":\"white\"}},\"type\":\"table\"}],\"barpolar\":[{\"marker\":{\"line\":{\"color\":\"white\",\"width\":0.5},\"pattern\":{\"fillmode\":\"overlay\",\"size\":10,\"solidity\":0.2}},\"type\":\"barpolar\"}],\"pie\":[{\"automargin\":true,\"type\":\"pie\"}]},\"layout\":{\"autotypenumbers\":\"strict\",\"colorway\":[\"#636efa\",\"#EF553B\",\"#00cc96\",\"#ab63fa\",\"#FFA15A\",\"#19d3f3\",\"#FF6692\",\"#B6E880\",\"#FF97FF\",\"#FECB52\"],\"font\":{\"color\":\"#2a3f5f\"},\"hovermode\":\"closest\",\"hoverlabel\":{\"align\":\"left\"},\"paper_bgcolor\":\"white\",\"plot_bgcolor\":\"white\",\"polar\":{\"bgcolor\":\"white\",\"angularaxis\":{\"gridcolor\":\"#EBF0F8\",\"linecolor\":\"#EBF0F8\",\"ticks\":\"\"},\"radialaxis\":{\"gridcolor\":\"#EBF0F8\",\"linecolor\":\"#EBF0F8\",\"ticks\":\"\"}},\"ternary\":{\"bgcolor\":\"white\",\"aaxis\":{\"gridcolor\":\"#DFE8F3\",\"linecolor\":\"#A2B1C6\",\"ticks\":\"\"},\"baxis\":{\"gridcolor\":\"#DFE8F3\",\"linecolor\":\"#A2B1C6\",\"ticks\":\"\"},\"caxis\":{\"gridcolor\":\"#DFE8F3\",\"linecolor\":\"#A2B1C6\",\"ticks\":\"\"}},\"coloraxis\":{\"colorbar\":{\"outlinewidth\":0,\"ticks\":\"\"}},\"colorscale\":{\"sequential\":[[0.0,\"#0d0887\"],[0.1111111111111111,\"#46039f\"],[0.2222222222222222,\"#7201a8\"],[0.3333333333333333,\"#9c179e\"],[0.4444444444444444,\"#bd3786\"],[0.5555555555555556,\"#d8576b\"],[0.6666666666666666,\"#ed7953\"],[0.7777777777777778,\"#fb9f3a\"],[0.8888888888888888,\"#fdca26\"],[1.0,\"#f0f921\"]],\"sequentialminus\":[[0.0,\"#0d0887\"],[0.1111111111111111,\"#46039f\"],[0.2222222222222222,\"#7201a8\"],[0.3333333333333333,\"#9c179e\"],[0.4444444444444444,\"#bd3786\"],[0.5555555555555556,\"#d8576b\"],[0.6666666666666666,\"#ed7953\"],[0.7777777777777778,\"#fb9f3a\"],[0.8888888888888888,\"#fdca26\"],[1.0,\"#f0f921\"]],\"diverging\":[[0,\"#8e0152\"],[0.1,\"#c51b7d\"],[0.2,\"#de77ae\"],[0.3,\"#f1b6da\"],[0.4,\"#fde0ef\"],[0.5,\"#f7f7f7\"],[0.6,\"#e6f5d0\"],[0.7,\"#b8e186\"],[0.8,\"#7fbc41\"],[0.9,\"#4d9221\"],[1,\"#276419\"]]},\"xaxis\":{\"gridcolor\":\"#EBF0F8\",\"linecolor\":\"#EBF0F8\",\"ticks\":\"\",\"title\":{\"standoff\":15},\"zerolinecolor\":\"#EBF0F8\",\"automargin\":true,\"zerolinewidth\":2},\"yaxis\":{\"gridcolor\":\"#EBF0F8\",\"linecolor\":\"#EBF0F8\",\"ticks\":\"\",\"title\":{\"standoff\":15},\"zerolinecolor\":\"#EBF0F8\",\"automargin\":true,\"zerolinewidth\":2},\"scene\":{\"xaxis\":{\"backgroundcolor\":\"white\",\"gridcolor\":\"#DFE8F3\",\"linecolor\":\"#EBF0F8\",\"showbackground\":true,\"ticks\":\"\",\"zerolinecolor\":\"#EBF0F8\",\"gridwidth\":2},\"yaxis\":{\"backgroundcolor\":\"white\",\"gridcolor\":\"#DFE8F3\",\"linecolor\":\"#EBF0F8\",\"showbackground\":true,\"ticks\":\"\",\"zerolinecolor\":\"#EBF0F8\",\"gridwidth\":2},\"zaxis\":{\"backgroundcolor\":\"white\",\"gridcolor\":\"#DFE8F3\",\"linecolor\":\"#EBF0F8\",\"showbackground\":true,\"ticks\":\"\",\"zerolinecolor\":\"#EBF0F8\",\"gridwidth\":2}},\"shapedefaults\":{\"line\":{\"color\":\"#2a3f5f\"}},\"annotationdefaults\":{\"arrowcolor\":\"#2a3f5f\",\"arrowhead\":0,\"arrowwidth\":1},\"geo\":{\"bgcolor\":\"white\",\"landcolor\":\"white\",\"subunitcolor\":\"#C8D4E3\",\"showland\":true,\"showlakes\":true,\"lakecolor\":\"white\"},\"title\":{\"x\":0.05},\"mapbox\":{\"style\":\"light\"}}},\"xaxis\":{\"anchor\":\"y\",\"domain\":[0.0,1.0],\"title\":{\"text\":\"Year\"}},\"yaxis\":{\"anchor\":\"x\",\"domain\":[0.0,1.0],\"title\":{\"text\":\"Number of Authorship Instances\"}},\"legend\":{\"title\":{\"text\":\"Country\"},\"tracegroupgap\":0},\"title\":{\"text\":\"Authorship Instance Trends for Emerging Countries\"},\"hovermode\":\"x unified\"},                        {\"responsive\": true}                    ).then(function(){\n",
       "                            \n",
       "var gd = document.getElementById('c1254181-ada4-46d0-8611-22b3257f71fc');\n",
       "var x = new MutationObserver(function (mutations, observer) {{\n",
       "        var display = window.getComputedStyle(gd).display;\n",
       "        if (!display || display === 'none') {{\n",
       "            console.log([gd, 'removed!']);\n",
       "            Plotly.purge(gd);\n",
       "            observer.disconnect();\n",
       "        }}\n",
       "}});\n",
       "\n",
       "// Listen for the removal of the full notebook cells\n",
       "var notebookContainer = gd.closest('#notebook-container');\n",
       "if (notebookContainer) {{\n",
       "    x.observe(notebookContainer, {childList: true});\n",
       "}}\n",
       "\n",
       "// Listen for the clearing of the current output cell\n",
       "var outputEl = gd.closest('.output');\n",
       "if (outputEl) {{\n",
       "    x.observe(outputEl, {childList: true});\n",
       "}}\n",
       "\n",
       "                        })                };            </script>        </div>"
      ]
     },
     "metadata": {},
     "output_type": "display_data"
    }
   ],
   "source": [
    "N_RANK_CHECK = 20\n",
    "EARLY_END_YEAR = 2016\n",
    "LATE_START_YEAR = 2019\n",
    "\n",
    "print(f\"\\nRise of New Player Countries (Comparing Pre-{EARLY_END_YEAR+1} and Post-{LATE_START_YEAR-1})\")\n",
    "\n",
    "rise_df = df[(df['Country'] != 'Unknown Country')].copy()\n",
    "rise_df['Year'] = pd.to_numeric(rise_df['Year'])\n",
    "\n",
    "early_period_df = rise_df[rise_df['Year'] <= EARLY_END_YEAR]\n",
    "late_period_df = rise_df[rise_df['Year'] >= LATE_START_YEAR]\n",
    "\n",
    "emerging_countries = []\n",
    "if not early_period_df.empty and not late_period_df.empty:\n",
    "    top_early_countries = early_period_df['Country'].value_counts().head(N_RANK_CHECK).index.tolist()\n",
    "    top_late_countries = late_period_df['Country'].value_counts().head(N_RANK_CHECK).index.tolist()\n",
    "    emerging_countries = [c for c in top_late_countries if c not in top_early_countries]\n",
    "    print(f\"\\nPotential Emerging Countries (in Top {N_RANK_CHECK} post-{LATE_START_YEAR-1}, not pre-{EARLY_END_YEAR+1}):\")\n",
    "    print(emerging_countries)\n",
    "else:\n",
    "    print(\"Insufficient data for one or both periods to identify emerging countries.\")\n",
    "\n",
    "if emerging_countries:\n",
    "    country_yearly_counts_all = rise_df.groupby(['Year', 'Country']).size().reset_index(name='Count')\n",
    "    plot_data_h12 = country_yearly_counts_all[country_yearly_counts_all['Country'].isin(emerging_countries)]\n",
    "\n",
    "    fig_h12 = px.line(plot_data_h12,\n",
    "                     x='Year', y='Count', color='Country', markers=True,\n",
    "                     title=f'Authorship Instance Trends for Emerging Countries',\n",
    "                     labels={'Count': 'Number of Authorship Instances', 'Year': 'Year', 'Country': 'Country'})\n",
    "    fig_h12.update_layout(hovermode=\"x unified\")\n",
    "    fig_h12.show()\n",
    "else:\n",
    "    print(\"No emerging countries identified based on the criteria.\")"
   ]
  },
  {
   "cell_type": "markdown",
   "id": "f674fc8b",
   "metadata": {},
   "source": [
    "**Findings:** Based on the criteria (in Top 20 post-2018, not Top 20 pre-2017), the analysis identifies **Russia, Sweden, and Denmark** as emerging contributors. The plot shows their absolute authorship instance counts over time. While starting from a low base, all three show an upward trajectory, particularly in the later years, indicating their growing presence in these conferences.\n",
    "\n",
    "**Conclusion:** **H11 is supported.** Countries like Russia, Sweden, and Denmark, while not among the absolute leaders, have demonstrably increased their contributions and presence within the Top 20 landscape in recent years."
   ]
  },
  {
   "cell_type": "markdown",
   "id": "1ac51d8f",
   "metadata": {},
   "source": [
    "### H12: Conference Concentration Comparison\n",
    "\n",
    "**Hypothesis:** The degree to which publications are concentrated within the top institutions differs across the conferences.\n",
    "\n",
    "**Quantification:** Calculate the percentage share held by the Top $N=5$ institutions *separately for each conference* per year. Plot trends and include Top 5 institutions in hover data."
   ]
  },
  {
   "cell_type": "code",
   "execution_count": 22,
   "id": "02eda7b7",
   "metadata": {},
   "outputs": [
    {
     "name": "stdout",
     "output_type": "stream",
     "text": [
      "\n",
      "Top 5 Institutional Concentration Across Conferences\n"
     ]
    },
    {
     "data": {
      "application/vnd.plotly.v1+json": {
       "config": {
        "plotlyServerURL": "https://plot.ly"
       },
       "data": [
        {
         "customdata": [
          [
           "Google (31), Carnegie Mellon University (17), Microsoft (17), Massachusetts Institute of Technology (15), Stanford University (15)"
          ],
          [
           "Google (49), Massachusetts Institute of Technology (28), Microsoft (22), Carnegie Mellon University (19), University of California, Berkeley (17)"
          ],
          [
           "Google (43), Carnegie Mellon University (36), University of California, Berkeley (28), Microsoft (21), University College London (15)"
          ],
          [
           "Google (59), Massachusetts Institute of Technology (31), Carnegie Mellon University (30), University of California, Berkeley (26), Microsoft (20)"
          ],
          [
           "Google (49), Carnegie Mellon University (41), Microsoft (27), Massachusetts Institute of Technology (24), Stanford University (23)"
          ],
          [
           "Google (40), Carnegie Mellon University (39), Stanford University (30), Microsoft (24), Massachusetts Institute of Technology (19)"
          ],
          [
           "Google (70), Stanford University (33), University of California, Berkeley (32), Massachusetts Institute of Technology (30), Microsoft (28)"
          ],
          [
           "Google (70), Carnegie Mellon University (51), Massachusetts Institute of Technology (40), Stanford University (40), University of California, Berkeley (30)"
          ],
          [
           "Google (105), Carnegie Mellon University (54), University of California, Berkeley (49), Massachusetts Institute of Technology (44), University of Texas at Austin (44)"
          ],
          [
           "Google (79), Massachusetts Institute of Technology (64), Stanford University (57), University of Texas at Austin (43), Microsoft (41)"
          ],
          [
           "Google (186), Stanford University (82), Carnegie Mellon University (70), Massachusetts Institute of Technology (70), University of California, Berkeley (68)"
          ],
          [
           "Google (236), Carnegie Mellon University (109), Massachusetts Institute of Technology (93), Stanford University (89), Microsoft (78)"
          ],
          [
           "Google (361), Massachusetts Institute of Technology (166), Stanford University (154), University of California, Berkeley (133), Carnegie Mellon University (131)"
          ],
          [
           "Google (479), Stanford University (234), Massachusetts Institute of Technology (220), Carnegie Mellon University (185), Microsoft (148)"
          ],
          [
           "Google (721), Stanford University (265), Massachusetts Institute of Technology (247), Microsoft (218), University of California, Berkeley (215)"
          ],
          [
           "Google (654), Massachusetts Institute of Technology (325), Stanford University (284), Tsinghua University (265), Microsoft (262)"
          ],
          [
           "Google (717), Stanford University (390), Tsinghua University (383), Massachusetts Institute of Technology (303), Carnegie Mellon University (290)"
          ],
          [
           "Google (879), Stanford University (510), Massachusetts Institute of Technology (449), Tsinghua University (434), Carnegie Mellon University (372)"
          ],
          [
           "Google (802), Tsinghua University (782), Zhejiang University (549), Carnegie Mellon University (486), Stanford University (470)"
          ]
         ],
         "hovertemplate": "Conference=NeurIPS<br>Year=%{x}<br>% Share Held by Top 5=%{y:.1f%}<br>Top5_Institutions=%{customdata[0]}<extra></extra>",
         "legendgroup": "NeurIPS",
         "line": {
          "color": "#636efa",
          "dash": "solid"
         },
         "marker": {
          "symbol": "circle"
         },
         "mode": "lines+markers",
         "name": "NeurIPS",
         "orientation": "v",
         "showlegend": true,
         "type": "scatter",
         "x": {
          "bdata": "1gfXB9gH2QfaB9sH3AfdB94H3wfgB+EH4gfjB+QH5QfmB+cH6Ac=",
          "dtype": "i2"
         },
         "xaxis": "x",
         "y": {
          "bdata": "CDVmpAnkMUCIaH+VHc00QO7AXDsw1zJAfffKZkU6NUBv5/doaOIxQNx4wncbTzBAwz0Hh3sOMEBEDz9HJvczQB4LlmkRazVAKme38KsxNUANSoWJ9yM3QNd5aMXj7DZAfmisD431NkB/5U/VZgE1QNCrLM5o9zNAKEeV77o1MUD3JHgGVRQuQJaPUKj/TCxAqX3e987IJ0A=",
          "dtype": "f8"
         },
         "yaxis": "y"
        },
        {
         "customdata": [
          [
           "Google (193), Carnegie Mellon University (76), Microsoft (75), Massachusetts Institute of Technology (56), University of California, Berkeley (50)"
          ],
          [
           "Google (297), University of California, Berkeley (96), Stanford University (70), Carnegie Mellon University (64), Massachusetts Institute of Technology (57)"
          ],
          [
           "Google (352), University of California, Berkeley (98), Massachusetts Institute of Technology (93), Stanford University (88), Carnegie Mellon University (75)"
          ],
          [
           "Google (454), Stanford University (157), University of California, Berkeley (152), Massachusetts Institute of Technology (150), Microsoft (108)"
          ],
          [
           "Google (471), Stanford University (147), Microsoft (143), Massachusetts Institute of Technology (142), University of California, Berkeley (139)"
          ],
          [
           "Google (467), Tsinghua University (155), University of California, Berkeley (143), Massachusetts Institute of Technology (138), Stanford University (135)"
          ],
          [
           "Google (638), Massachusetts Institute of Technology (254), Tsinghua University (222), Carnegie Mellon University (180), Stanford University (176)"
          ],
          [
           "Google (652), Tsinghua University (442), Massachusetts Institute of Technology (303), Stanford University (255), Carnegie Mellon University (234)"
          ]
         ],
         "hovertemplate": "Conference=ICML<br>Year=%{x}<br>% Share Held by Top 5=%{y:.1f%}<br>Top5_Institutions=%{customdata[0]}<extra></extra>",
         "legendgroup": "ICML",
         "line": {
          "color": "#EF553B",
          "dash": "solid"
         },
         "marker": {
          "symbol": "circle"
         },
         "mode": "lines+markers",
         "name": "ICML",
         "orientation": "v",
         "showlegend": true,
         "type": "scatter",
         "x": {
          "bdata": "4QfiB+MH5AflB+YH5wfoBw==",
          "dtype": "i2"
         },
         "xaxis": "x",
         "y": {
          "bdata": "iPGAxSqkO0ABkNqfN0M4QGWHrLlBqDZAixuS1n6aNkBtLPvm0Qs0QFV3ZXJCNDJAeo9vQPBBMUA63a2a+porQA==",
          "dtype": "f8"
         },
         "yaxis": "y"
        },
        {
         "customdata": [
          [
           "Google (222), University of California, Berkeley (65), Stanford University (38), Carnegie Mellon University (37), University of Toronto (35)"
          ],
          [
           "Google (319), Massachusetts Institute of Technology (115), University of California, Berkeley (88), Carnegie Mellon University (77), Facebook (55)"
          ],
          [
           "Google (366), University of California, Berkeley (132), Carnegie Mellon University (130), Stanford University (128), Massachusetts Institute of Technology (114)"
          ],
          [
           "Google (412), Stanford University (185), Massachusetts Institute of Technology (150), Microsoft (146), Carnegie Mellon University (141)"
          ],
          [
           "Google (504), Tsinghua University (271), Microsoft (217), Massachusetts Institute of Technology (188), Carnegie Mellon University (184)"
          ],
          [
           "Google (559), Tsinghua University (480), Microsoft (301), Stanford University (283), Carnegie Mellon University (261)"
          ]
         ],
         "hovertemplate": "Conference=ICLR<br>Year=%{x}<br>% Share Held by Top 5=%{y:.1f%}<br>Top5_Institutions=%{customdata[0]}<extra></extra>",
         "legendgroup": "ICLR",
         "line": {
          "color": "#00cc96",
          "dash": "solid"
         },
         "marker": {
          "symbol": "circle"
         },
         "mode": "lines+markers",
         "name": "ICLR",
         "orientation": "v",
         "showlegend": true,
         "type": "scatter",
         "x": {
          "bdata": "4gfjB+UH5gfnB+gH",
          "dtype": "i2"
         },
         "xaxis": "x",
         "y": {
          "bdata": "n+d5nueJPUAuDffBjOQ+QE+9mE+92DZAJ3ZiJ3biM0CGX1OuJmgxQC/EU0EE0y1A",
          "dtype": "f8"
         },
         "yaxis": "y"
        }
       ],
       "layout": {
        "hovermode": "x unified",
        "legend": {
         "title": {
          "text": "Conference"
         },
         "tracegroupgap": 0
        },
        "template": {
         "data": {
          "bar": [
           {
            "error_x": {
             "color": "#2a3f5f"
            },
            "error_y": {
             "color": "#2a3f5f"
            },
            "marker": {
             "line": {
              "color": "white",
              "width": 0.5
             },
             "pattern": {
              "fillmode": "overlay",
              "size": 10,
              "solidity": 0.2
             }
            },
            "type": "bar"
           }
          ],
          "barpolar": [
           {
            "marker": {
             "line": {
              "color": "white",
              "width": 0.5
             },
             "pattern": {
              "fillmode": "overlay",
              "size": 10,
              "solidity": 0.2
             }
            },
            "type": "barpolar"
           }
          ],
          "carpet": [
           {
            "aaxis": {
             "endlinecolor": "#2a3f5f",
             "gridcolor": "#C8D4E3",
             "linecolor": "#C8D4E3",
             "minorgridcolor": "#C8D4E3",
             "startlinecolor": "#2a3f5f"
            },
            "baxis": {
             "endlinecolor": "#2a3f5f",
             "gridcolor": "#C8D4E3",
             "linecolor": "#C8D4E3",
             "minorgridcolor": "#C8D4E3",
             "startlinecolor": "#2a3f5f"
            },
            "type": "carpet"
           }
          ],
          "choropleth": [
           {
            "colorbar": {
             "outlinewidth": 0,
             "ticks": ""
            },
            "type": "choropleth"
           }
          ],
          "contour": [
           {
            "colorbar": {
             "outlinewidth": 0,
             "ticks": ""
            },
            "colorscale": [
             [
              0,
              "#0d0887"
             ],
             [
              0.1111111111111111,
              "#46039f"
             ],
             [
              0.2222222222222222,
              "#7201a8"
             ],
             [
              0.3333333333333333,
              "#9c179e"
             ],
             [
              0.4444444444444444,
              "#bd3786"
             ],
             [
              0.5555555555555556,
              "#d8576b"
             ],
             [
              0.6666666666666666,
              "#ed7953"
             ],
             [
              0.7777777777777778,
              "#fb9f3a"
             ],
             [
              0.8888888888888888,
              "#fdca26"
             ],
             [
              1,
              "#f0f921"
             ]
            ],
            "type": "contour"
           }
          ],
          "contourcarpet": [
           {
            "colorbar": {
             "outlinewidth": 0,
             "ticks": ""
            },
            "type": "contourcarpet"
           }
          ],
          "heatmap": [
           {
            "colorbar": {
             "outlinewidth": 0,
             "ticks": ""
            },
            "colorscale": [
             [
              0,
              "#0d0887"
             ],
             [
              0.1111111111111111,
              "#46039f"
             ],
             [
              0.2222222222222222,
              "#7201a8"
             ],
             [
              0.3333333333333333,
              "#9c179e"
             ],
             [
              0.4444444444444444,
              "#bd3786"
             ],
             [
              0.5555555555555556,
              "#d8576b"
             ],
             [
              0.6666666666666666,
              "#ed7953"
             ],
             [
              0.7777777777777778,
              "#fb9f3a"
             ],
             [
              0.8888888888888888,
              "#fdca26"
             ],
             [
              1,
              "#f0f921"
             ]
            ],
            "type": "heatmap"
           }
          ],
          "histogram": [
           {
            "marker": {
             "pattern": {
              "fillmode": "overlay",
              "size": 10,
              "solidity": 0.2
             }
            },
            "type": "histogram"
           }
          ],
          "histogram2d": [
           {
            "colorbar": {
             "outlinewidth": 0,
             "ticks": ""
            },
            "colorscale": [
             [
              0,
              "#0d0887"
             ],
             [
              0.1111111111111111,
              "#46039f"
             ],
             [
              0.2222222222222222,
              "#7201a8"
             ],
             [
              0.3333333333333333,
              "#9c179e"
             ],
             [
              0.4444444444444444,
              "#bd3786"
             ],
             [
              0.5555555555555556,
              "#d8576b"
             ],
             [
              0.6666666666666666,
              "#ed7953"
             ],
             [
              0.7777777777777778,
              "#fb9f3a"
             ],
             [
              0.8888888888888888,
              "#fdca26"
             ],
             [
              1,
              "#f0f921"
             ]
            ],
            "type": "histogram2d"
           }
          ],
          "histogram2dcontour": [
           {
            "colorbar": {
             "outlinewidth": 0,
             "ticks": ""
            },
            "colorscale": [
             [
              0,
              "#0d0887"
             ],
             [
              0.1111111111111111,
              "#46039f"
             ],
             [
              0.2222222222222222,
              "#7201a8"
             ],
             [
              0.3333333333333333,
              "#9c179e"
             ],
             [
              0.4444444444444444,
              "#bd3786"
             ],
             [
              0.5555555555555556,
              "#d8576b"
             ],
             [
              0.6666666666666666,
              "#ed7953"
             ],
             [
              0.7777777777777778,
              "#fb9f3a"
             ],
             [
              0.8888888888888888,
              "#fdca26"
             ],
             [
              1,
              "#f0f921"
             ]
            ],
            "type": "histogram2dcontour"
           }
          ],
          "mesh3d": [
           {
            "colorbar": {
             "outlinewidth": 0,
             "ticks": ""
            },
            "type": "mesh3d"
           }
          ],
          "parcoords": [
           {
            "line": {
             "colorbar": {
              "outlinewidth": 0,
              "ticks": ""
             }
            },
            "type": "parcoords"
           }
          ],
          "pie": [
           {
            "automargin": true,
            "type": "pie"
           }
          ],
          "scatter": [
           {
            "fillpattern": {
             "fillmode": "overlay",
             "size": 10,
             "solidity": 0.2
            },
            "type": "scatter"
           }
          ],
          "scatter3d": [
           {
            "line": {
             "colorbar": {
              "outlinewidth": 0,
              "ticks": ""
             }
            },
            "marker": {
             "colorbar": {
              "outlinewidth": 0,
              "ticks": ""
             }
            },
            "type": "scatter3d"
           }
          ],
          "scattercarpet": [
           {
            "marker": {
             "colorbar": {
              "outlinewidth": 0,
              "ticks": ""
             }
            },
            "type": "scattercarpet"
           }
          ],
          "scattergeo": [
           {
            "marker": {
             "colorbar": {
              "outlinewidth": 0,
              "ticks": ""
             }
            },
            "type": "scattergeo"
           }
          ],
          "scattergl": [
           {
            "marker": {
             "colorbar": {
              "outlinewidth": 0,
              "ticks": ""
             }
            },
            "type": "scattergl"
           }
          ],
          "scattermap": [
           {
            "marker": {
             "colorbar": {
              "outlinewidth": 0,
              "ticks": ""
             }
            },
            "type": "scattermap"
           }
          ],
          "scattermapbox": [
           {
            "marker": {
             "colorbar": {
              "outlinewidth": 0,
              "ticks": ""
             }
            },
            "type": "scattermapbox"
           }
          ],
          "scatterpolar": [
           {
            "marker": {
             "colorbar": {
              "outlinewidth": 0,
              "ticks": ""
             }
            },
            "type": "scatterpolar"
           }
          ],
          "scatterpolargl": [
           {
            "marker": {
             "colorbar": {
              "outlinewidth": 0,
              "ticks": ""
             }
            },
            "type": "scatterpolargl"
           }
          ],
          "scatterternary": [
           {
            "marker": {
             "colorbar": {
              "outlinewidth": 0,
              "ticks": ""
             }
            },
            "type": "scatterternary"
           }
          ],
          "surface": [
           {
            "colorbar": {
             "outlinewidth": 0,
             "ticks": ""
            },
            "colorscale": [
             [
              0,
              "#0d0887"
             ],
             [
              0.1111111111111111,
              "#46039f"
             ],
             [
              0.2222222222222222,
              "#7201a8"
             ],
             [
              0.3333333333333333,
              "#9c179e"
             ],
             [
              0.4444444444444444,
              "#bd3786"
             ],
             [
              0.5555555555555556,
              "#d8576b"
             ],
             [
              0.6666666666666666,
              "#ed7953"
             ],
             [
              0.7777777777777778,
              "#fb9f3a"
             ],
             [
              0.8888888888888888,
              "#fdca26"
             ],
             [
              1,
              "#f0f921"
             ]
            ],
            "type": "surface"
           }
          ],
          "table": [
           {
            "cells": {
             "fill": {
              "color": "#EBF0F8"
             },
             "line": {
              "color": "white"
             }
            },
            "header": {
             "fill": {
              "color": "#C8D4E3"
             },
             "line": {
              "color": "white"
             }
            },
            "type": "table"
           }
          ]
         },
         "layout": {
          "annotationdefaults": {
           "arrowcolor": "#2a3f5f",
           "arrowhead": 0,
           "arrowwidth": 1
          },
          "autotypenumbers": "strict",
          "coloraxis": {
           "colorbar": {
            "outlinewidth": 0,
            "ticks": ""
           }
          },
          "colorscale": {
           "diverging": [
            [
             0,
             "#8e0152"
            ],
            [
             0.1,
             "#c51b7d"
            ],
            [
             0.2,
             "#de77ae"
            ],
            [
             0.3,
             "#f1b6da"
            ],
            [
             0.4,
             "#fde0ef"
            ],
            [
             0.5,
             "#f7f7f7"
            ],
            [
             0.6,
             "#e6f5d0"
            ],
            [
             0.7,
             "#b8e186"
            ],
            [
             0.8,
             "#7fbc41"
            ],
            [
             0.9,
             "#4d9221"
            ],
            [
             1,
             "#276419"
            ]
           ],
           "sequential": [
            [
             0,
             "#0d0887"
            ],
            [
             0.1111111111111111,
             "#46039f"
            ],
            [
             0.2222222222222222,
             "#7201a8"
            ],
            [
             0.3333333333333333,
             "#9c179e"
            ],
            [
             0.4444444444444444,
             "#bd3786"
            ],
            [
             0.5555555555555556,
             "#d8576b"
            ],
            [
             0.6666666666666666,
             "#ed7953"
            ],
            [
             0.7777777777777778,
             "#fb9f3a"
            ],
            [
             0.8888888888888888,
             "#fdca26"
            ],
            [
             1,
             "#f0f921"
            ]
           ],
           "sequentialminus": [
            [
             0,
             "#0d0887"
            ],
            [
             0.1111111111111111,
             "#46039f"
            ],
            [
             0.2222222222222222,
             "#7201a8"
            ],
            [
             0.3333333333333333,
             "#9c179e"
            ],
            [
             0.4444444444444444,
             "#bd3786"
            ],
            [
             0.5555555555555556,
             "#d8576b"
            ],
            [
             0.6666666666666666,
             "#ed7953"
            ],
            [
             0.7777777777777778,
             "#fb9f3a"
            ],
            [
             0.8888888888888888,
             "#fdca26"
            ],
            [
             1,
             "#f0f921"
            ]
           ]
          },
          "colorway": [
           "#636efa",
           "#EF553B",
           "#00cc96",
           "#ab63fa",
           "#FFA15A",
           "#19d3f3",
           "#FF6692",
           "#B6E880",
           "#FF97FF",
           "#FECB52"
          ],
          "font": {
           "color": "#2a3f5f"
          },
          "geo": {
           "bgcolor": "white",
           "lakecolor": "white",
           "landcolor": "white",
           "showlakes": true,
           "showland": true,
           "subunitcolor": "#C8D4E3"
          },
          "hoverlabel": {
           "align": "left"
          },
          "hovermode": "closest",
          "mapbox": {
           "style": "light"
          },
          "paper_bgcolor": "white",
          "plot_bgcolor": "white",
          "polar": {
           "angularaxis": {
            "gridcolor": "#EBF0F8",
            "linecolor": "#EBF0F8",
            "ticks": ""
           },
           "bgcolor": "white",
           "radialaxis": {
            "gridcolor": "#EBF0F8",
            "linecolor": "#EBF0F8",
            "ticks": ""
           }
          },
          "scene": {
           "xaxis": {
            "backgroundcolor": "white",
            "gridcolor": "#DFE8F3",
            "gridwidth": 2,
            "linecolor": "#EBF0F8",
            "showbackground": true,
            "ticks": "",
            "zerolinecolor": "#EBF0F8"
           },
           "yaxis": {
            "backgroundcolor": "white",
            "gridcolor": "#DFE8F3",
            "gridwidth": 2,
            "linecolor": "#EBF0F8",
            "showbackground": true,
            "ticks": "",
            "zerolinecolor": "#EBF0F8"
           },
           "zaxis": {
            "backgroundcolor": "white",
            "gridcolor": "#DFE8F3",
            "gridwidth": 2,
            "linecolor": "#EBF0F8",
            "showbackground": true,
            "ticks": "",
            "zerolinecolor": "#EBF0F8"
           }
          },
          "shapedefaults": {
           "line": {
            "color": "#2a3f5f"
           }
          },
          "ternary": {
           "aaxis": {
            "gridcolor": "#DFE8F3",
            "linecolor": "#A2B1C6",
            "ticks": ""
           },
           "baxis": {
            "gridcolor": "#DFE8F3",
            "linecolor": "#A2B1C6",
            "ticks": ""
           },
           "bgcolor": "white",
           "caxis": {
            "gridcolor": "#DFE8F3",
            "linecolor": "#A2B1C6",
            "ticks": ""
           }
          },
          "title": {
           "x": 0.05
          },
          "xaxis": {
           "automargin": true,
           "gridcolor": "#EBF0F8",
           "linecolor": "#EBF0F8",
           "ticks": "",
           "title": {
            "standoff": 15
           },
           "zerolinecolor": "#EBF0F8",
           "zerolinewidth": 2
          },
          "yaxis": {
           "automargin": true,
           "gridcolor": "#EBF0F8",
           "linecolor": "#EBF0F8",
           "ticks": "",
           "title": {
            "standoff": 15
           },
           "zerolinecolor": "#EBF0F8",
           "zerolinewidth": 2
          }
         }
        },
        "title": {
         "text": "Top 5 Institution Concentration by Conference Over Time"
        },
        "xaxis": {
         "anchor": "y",
         "domain": [
          0,
          1
         ],
         "title": {
          "text": "Year"
         }
        },
        "yaxis": {
         "anchor": "x",
         "domain": [
          0,
          1
         ],
         "title": {
          "text": "% Share Held by Top 5"
         }
        }
       }
      },
      "text/html": [
       "<div>            <script src=\"https://cdnjs.cloudflare.com/ajax/libs/mathjax/2.7.5/MathJax.js?config=TeX-AMS-MML_SVG\"></script><script type=\"text/javascript\">if (window.MathJax && window.MathJax.Hub && window.MathJax.Hub.Config) {window.MathJax.Hub.Config({SVG: {font: \"STIX-Web\"}});}</script>                <script type=\"text/javascript\">window.PlotlyConfig = {MathJaxConfig: 'local'};</script>\n",
       "        <script charset=\"utf-8\" src=\"https://cdn.plot.ly/plotly-3.0.1.min.js\"></script>                <div id=\"43a77980-b166-44cb-b867-143ddacd65ea\" class=\"plotly-graph-div\" style=\"height:525px; width:100%;\"></div>            <script type=\"text/javascript\">                window.PLOTLYENV=window.PLOTLYENV || {};                                if (document.getElementById(\"43a77980-b166-44cb-b867-143ddacd65ea\")) {                    Plotly.newPlot(                        \"43a77980-b166-44cb-b867-143ddacd65ea\",                        [{\"customdata\":[[\"Google (31), Carnegie Mellon University (17), Microsoft (17), Massachusetts Institute of Technology (15), Stanford University (15)\"],[\"Google (49), Massachusetts Institute of Technology (28), Microsoft (22), Carnegie Mellon University (19), University of California, Berkeley (17)\"],[\"Google (43), Carnegie Mellon University (36), University of California, Berkeley (28), Microsoft (21), University College London (15)\"],[\"Google (59), Massachusetts Institute of Technology (31), Carnegie Mellon University (30), University of California, Berkeley (26), Microsoft (20)\"],[\"Google (49), Carnegie Mellon University (41), Microsoft (27), Massachusetts Institute of Technology (24), Stanford University (23)\"],[\"Google (40), Carnegie Mellon University (39), Stanford University (30), Microsoft (24), Massachusetts Institute of Technology (19)\"],[\"Google (70), Stanford University (33), University of California, Berkeley (32), Massachusetts Institute of Technology (30), Microsoft (28)\"],[\"Google (70), Carnegie Mellon University (51), Massachusetts Institute of Technology (40), Stanford University (40), University of California, Berkeley (30)\"],[\"Google (105), Carnegie Mellon University (54), University of California, Berkeley (49), Massachusetts Institute of Technology (44), University of Texas at Austin (44)\"],[\"Google (79), Massachusetts Institute of Technology (64), Stanford University (57), University of Texas at Austin (43), Microsoft (41)\"],[\"Google (186), Stanford University (82), Carnegie Mellon University (70), Massachusetts Institute of Technology (70), University of California, Berkeley (68)\"],[\"Google (236), Carnegie Mellon University (109), Massachusetts Institute of Technology (93), Stanford University (89), Microsoft (78)\"],[\"Google (361), Massachusetts Institute of Technology (166), Stanford University (154), University of California, Berkeley (133), Carnegie Mellon University (131)\"],[\"Google (479), Stanford University (234), Massachusetts Institute of Technology (220), Carnegie Mellon University (185), Microsoft (148)\"],[\"Google (721), Stanford University (265), Massachusetts Institute of Technology (247), Microsoft (218), University of California, Berkeley (215)\"],[\"Google (654), Massachusetts Institute of Technology (325), Stanford University (284), Tsinghua University (265), Microsoft (262)\"],[\"Google (717), Stanford University (390), Tsinghua University (383), Massachusetts Institute of Technology (303), Carnegie Mellon University (290)\"],[\"Google (879), Stanford University (510), Massachusetts Institute of Technology (449), Tsinghua University (434), Carnegie Mellon University (372)\"],[\"Google (802), Tsinghua University (782), Zhejiang University (549), Carnegie Mellon University (486), Stanford University (470)\"]],\"hovertemplate\":\"Conference=NeurIPS\\u003cbr\\u003eYear=%{x}\\u003cbr\\u003e% Share Held by Top 5=%{y:.1f%}\\u003cbr\\u003eTop5_Institutions=%{customdata[0]}\\u003cextra\\u003e\\u003c\\u002fextra\\u003e\",\"legendgroup\":\"NeurIPS\",\"line\":{\"color\":\"#636efa\",\"dash\":\"solid\"},\"marker\":{\"symbol\":\"circle\"},\"mode\":\"lines+markers\",\"name\":\"NeurIPS\",\"orientation\":\"v\",\"showlegend\":true,\"x\":{\"dtype\":\"i2\",\"bdata\":\"1gfXB9gH2QfaB9sH3AfdB94H3wfgB+EH4gfjB+QH5QfmB+cH6Ac=\"},\"xaxis\":\"x\",\"y\":{\"dtype\":\"f8\",\"bdata\":\"CDVmpAnkMUCIaH+VHc00QO7AXDsw1zJAfffKZkU6NUBv5\\u002fdoaOIxQNx4wncbTzBAwz0Hh3sOMEBEDz9HJvczQB4LlmkRazVAKme38KsxNUANSoWJ9yM3QNd5aMXj7DZAfmisD431NkB\\u002f5U\\u002fVZgE1QNCrLM5o9zNAKEeV77o1MUD3JHgGVRQuQJaPUKj\\u002fTCxAqX3e987IJ0A=\"},\"yaxis\":\"y\",\"type\":\"scatter\"},{\"customdata\":[[\"Google (193), Carnegie Mellon University (76), Microsoft (75), Massachusetts Institute of Technology (56), University of California, Berkeley (50)\"],[\"Google (297), University of California, Berkeley (96), Stanford University (70), Carnegie Mellon University (64), Massachusetts Institute of Technology (57)\"],[\"Google (352), University of California, Berkeley (98), Massachusetts Institute of Technology (93), Stanford University (88), Carnegie Mellon University (75)\"],[\"Google (454), Stanford University (157), University of California, Berkeley (152), Massachusetts Institute of Technology (150), Microsoft (108)\"],[\"Google (471), Stanford University (147), Microsoft (143), Massachusetts Institute of Technology (142), University of California, Berkeley (139)\"],[\"Google (467), Tsinghua University (155), University of California, Berkeley (143), Massachusetts Institute of Technology (138), Stanford University (135)\"],[\"Google (638), Massachusetts Institute of Technology (254), Tsinghua University (222), Carnegie Mellon University (180), Stanford University (176)\"],[\"Google (652), Tsinghua University (442), Massachusetts Institute of Technology (303), Stanford University (255), Carnegie Mellon University (234)\"]],\"hovertemplate\":\"Conference=ICML\\u003cbr\\u003eYear=%{x}\\u003cbr\\u003e% Share Held by Top 5=%{y:.1f%}\\u003cbr\\u003eTop5_Institutions=%{customdata[0]}\\u003cextra\\u003e\\u003c\\u002fextra\\u003e\",\"legendgroup\":\"ICML\",\"line\":{\"color\":\"#EF553B\",\"dash\":\"solid\"},\"marker\":{\"symbol\":\"circle\"},\"mode\":\"lines+markers\",\"name\":\"ICML\",\"orientation\":\"v\",\"showlegend\":true,\"x\":{\"dtype\":\"i2\",\"bdata\":\"4QfiB+MH5AflB+YH5wfoBw==\"},\"xaxis\":\"x\",\"y\":{\"dtype\":\"f8\",\"bdata\":\"iPGAxSqkO0ABkNqfN0M4QGWHrLlBqDZAixuS1n6aNkBtLPvm0Qs0QFV3ZXJCNDJAeo9vQPBBMUA63a2a+porQA==\"},\"yaxis\":\"y\",\"type\":\"scatter\"},{\"customdata\":[[\"Google (222), University of California, Berkeley (65), Stanford University (38), Carnegie Mellon University (37), University of Toronto (35)\"],[\"Google (319), Massachusetts Institute of Technology (115), University of California, Berkeley (88), Carnegie Mellon University (77), Facebook (55)\"],[\"Google (366), University of California, Berkeley (132), Carnegie Mellon University (130), Stanford University (128), Massachusetts Institute of Technology (114)\"],[\"Google (412), Stanford University (185), Massachusetts Institute of Technology (150), Microsoft (146), Carnegie Mellon University (141)\"],[\"Google (504), Tsinghua University (271), Microsoft (217), Massachusetts Institute of Technology (188), Carnegie Mellon University (184)\"],[\"Google (559), Tsinghua University (480), Microsoft (301), Stanford University (283), Carnegie Mellon University (261)\"]],\"hovertemplate\":\"Conference=ICLR\\u003cbr\\u003eYear=%{x}\\u003cbr\\u003e% Share Held by Top 5=%{y:.1f%}\\u003cbr\\u003eTop5_Institutions=%{customdata[0]}\\u003cextra\\u003e\\u003c\\u002fextra\\u003e\",\"legendgroup\":\"ICLR\",\"line\":{\"color\":\"#00cc96\",\"dash\":\"solid\"},\"marker\":{\"symbol\":\"circle\"},\"mode\":\"lines+markers\",\"name\":\"ICLR\",\"orientation\":\"v\",\"showlegend\":true,\"x\":{\"dtype\":\"i2\",\"bdata\":\"4gfjB+UH5gfnB+gH\"},\"xaxis\":\"x\",\"y\":{\"dtype\":\"f8\",\"bdata\":\"n+d5nueJPUAuDffBjOQ+QE+9mE+92DZAJ3ZiJ3biM0CGX1OuJmgxQC\\u002fEU0EE0y1A\"},\"yaxis\":\"y\",\"type\":\"scatter\"}],                        {\"template\":{\"data\":{\"histogram2dcontour\":[{\"type\":\"histogram2dcontour\",\"colorbar\":{\"outlinewidth\":0,\"ticks\":\"\"},\"colorscale\":[[0.0,\"#0d0887\"],[0.1111111111111111,\"#46039f\"],[0.2222222222222222,\"#7201a8\"],[0.3333333333333333,\"#9c179e\"],[0.4444444444444444,\"#bd3786\"],[0.5555555555555556,\"#d8576b\"],[0.6666666666666666,\"#ed7953\"],[0.7777777777777778,\"#fb9f3a\"],[0.8888888888888888,\"#fdca26\"],[1.0,\"#f0f921\"]]}],\"choropleth\":[{\"type\":\"choropleth\",\"colorbar\":{\"outlinewidth\":0,\"ticks\":\"\"}}],\"histogram2d\":[{\"type\":\"histogram2d\",\"colorbar\":{\"outlinewidth\":0,\"ticks\":\"\"},\"colorscale\":[[0.0,\"#0d0887\"],[0.1111111111111111,\"#46039f\"],[0.2222222222222222,\"#7201a8\"],[0.3333333333333333,\"#9c179e\"],[0.4444444444444444,\"#bd3786\"],[0.5555555555555556,\"#d8576b\"],[0.6666666666666666,\"#ed7953\"],[0.7777777777777778,\"#fb9f3a\"],[0.8888888888888888,\"#fdca26\"],[1.0,\"#f0f921\"]]}],\"heatmap\":[{\"type\":\"heatmap\",\"colorbar\":{\"outlinewidth\":0,\"ticks\":\"\"},\"colorscale\":[[0.0,\"#0d0887\"],[0.1111111111111111,\"#46039f\"],[0.2222222222222222,\"#7201a8\"],[0.3333333333333333,\"#9c179e\"],[0.4444444444444444,\"#bd3786\"],[0.5555555555555556,\"#d8576b\"],[0.6666666666666666,\"#ed7953\"],[0.7777777777777778,\"#fb9f3a\"],[0.8888888888888888,\"#fdca26\"],[1.0,\"#f0f921\"]]}],\"contourcarpet\":[{\"type\":\"contourcarpet\",\"colorbar\":{\"outlinewidth\":0,\"ticks\":\"\"}}],\"contour\":[{\"type\":\"contour\",\"colorbar\":{\"outlinewidth\":0,\"ticks\":\"\"},\"colorscale\":[[0.0,\"#0d0887\"],[0.1111111111111111,\"#46039f\"],[0.2222222222222222,\"#7201a8\"],[0.3333333333333333,\"#9c179e\"],[0.4444444444444444,\"#bd3786\"],[0.5555555555555556,\"#d8576b\"],[0.6666666666666666,\"#ed7953\"],[0.7777777777777778,\"#fb9f3a\"],[0.8888888888888888,\"#fdca26\"],[1.0,\"#f0f921\"]]}],\"surface\":[{\"type\":\"surface\",\"colorbar\":{\"outlinewidth\":0,\"ticks\":\"\"},\"colorscale\":[[0.0,\"#0d0887\"],[0.1111111111111111,\"#46039f\"],[0.2222222222222222,\"#7201a8\"],[0.3333333333333333,\"#9c179e\"],[0.4444444444444444,\"#bd3786\"],[0.5555555555555556,\"#d8576b\"],[0.6666666666666666,\"#ed7953\"],[0.7777777777777778,\"#fb9f3a\"],[0.8888888888888888,\"#fdca26\"],[1.0,\"#f0f921\"]]}],\"mesh3d\":[{\"type\":\"mesh3d\",\"colorbar\":{\"outlinewidth\":0,\"ticks\":\"\"}}],\"scatter\":[{\"fillpattern\":{\"fillmode\":\"overlay\",\"size\":10,\"solidity\":0.2},\"type\":\"scatter\"}],\"parcoords\":[{\"type\":\"parcoords\",\"line\":{\"colorbar\":{\"outlinewidth\":0,\"ticks\":\"\"}}}],\"scatterpolargl\":[{\"type\":\"scatterpolargl\",\"marker\":{\"colorbar\":{\"outlinewidth\":0,\"ticks\":\"\"}}}],\"bar\":[{\"error_x\":{\"color\":\"#2a3f5f\"},\"error_y\":{\"color\":\"#2a3f5f\"},\"marker\":{\"line\":{\"color\":\"white\",\"width\":0.5},\"pattern\":{\"fillmode\":\"overlay\",\"size\":10,\"solidity\":0.2}},\"type\":\"bar\"}],\"scattergeo\":[{\"type\":\"scattergeo\",\"marker\":{\"colorbar\":{\"outlinewidth\":0,\"ticks\":\"\"}}}],\"scatterpolar\":[{\"type\":\"scatterpolar\",\"marker\":{\"colorbar\":{\"outlinewidth\":0,\"ticks\":\"\"}}}],\"histogram\":[{\"marker\":{\"pattern\":{\"fillmode\":\"overlay\",\"size\":10,\"solidity\":0.2}},\"type\":\"histogram\"}],\"scattergl\":[{\"type\":\"scattergl\",\"marker\":{\"colorbar\":{\"outlinewidth\":0,\"ticks\":\"\"}}}],\"scatter3d\":[{\"type\":\"scatter3d\",\"line\":{\"colorbar\":{\"outlinewidth\":0,\"ticks\":\"\"}},\"marker\":{\"colorbar\":{\"outlinewidth\":0,\"ticks\":\"\"}}}],\"scattermap\":[{\"type\":\"scattermap\",\"marker\":{\"colorbar\":{\"outlinewidth\":0,\"ticks\":\"\"}}}],\"scattermapbox\":[{\"type\":\"scattermapbox\",\"marker\":{\"colorbar\":{\"outlinewidth\":0,\"ticks\":\"\"}}}],\"scatterternary\":[{\"type\":\"scatterternary\",\"marker\":{\"colorbar\":{\"outlinewidth\":0,\"ticks\":\"\"}}}],\"scattercarpet\":[{\"type\":\"scattercarpet\",\"marker\":{\"colorbar\":{\"outlinewidth\":0,\"ticks\":\"\"}}}],\"carpet\":[{\"aaxis\":{\"endlinecolor\":\"#2a3f5f\",\"gridcolor\":\"#C8D4E3\",\"linecolor\":\"#C8D4E3\",\"minorgridcolor\":\"#C8D4E3\",\"startlinecolor\":\"#2a3f5f\"},\"baxis\":{\"endlinecolor\":\"#2a3f5f\",\"gridcolor\":\"#C8D4E3\",\"linecolor\":\"#C8D4E3\",\"minorgridcolor\":\"#C8D4E3\",\"startlinecolor\":\"#2a3f5f\"},\"type\":\"carpet\"}],\"table\":[{\"cells\":{\"fill\":{\"color\":\"#EBF0F8\"},\"line\":{\"color\":\"white\"}},\"header\":{\"fill\":{\"color\":\"#C8D4E3\"},\"line\":{\"color\":\"white\"}},\"type\":\"table\"}],\"barpolar\":[{\"marker\":{\"line\":{\"color\":\"white\",\"width\":0.5},\"pattern\":{\"fillmode\":\"overlay\",\"size\":10,\"solidity\":0.2}},\"type\":\"barpolar\"}],\"pie\":[{\"automargin\":true,\"type\":\"pie\"}]},\"layout\":{\"autotypenumbers\":\"strict\",\"colorway\":[\"#636efa\",\"#EF553B\",\"#00cc96\",\"#ab63fa\",\"#FFA15A\",\"#19d3f3\",\"#FF6692\",\"#B6E880\",\"#FF97FF\",\"#FECB52\"],\"font\":{\"color\":\"#2a3f5f\"},\"hovermode\":\"closest\",\"hoverlabel\":{\"align\":\"left\"},\"paper_bgcolor\":\"white\",\"plot_bgcolor\":\"white\",\"polar\":{\"bgcolor\":\"white\",\"angularaxis\":{\"gridcolor\":\"#EBF0F8\",\"linecolor\":\"#EBF0F8\",\"ticks\":\"\"},\"radialaxis\":{\"gridcolor\":\"#EBF0F8\",\"linecolor\":\"#EBF0F8\",\"ticks\":\"\"}},\"ternary\":{\"bgcolor\":\"white\",\"aaxis\":{\"gridcolor\":\"#DFE8F3\",\"linecolor\":\"#A2B1C6\",\"ticks\":\"\"},\"baxis\":{\"gridcolor\":\"#DFE8F3\",\"linecolor\":\"#A2B1C6\",\"ticks\":\"\"},\"caxis\":{\"gridcolor\":\"#DFE8F3\",\"linecolor\":\"#A2B1C6\",\"ticks\":\"\"}},\"coloraxis\":{\"colorbar\":{\"outlinewidth\":0,\"ticks\":\"\"}},\"colorscale\":{\"sequential\":[[0.0,\"#0d0887\"],[0.1111111111111111,\"#46039f\"],[0.2222222222222222,\"#7201a8\"],[0.3333333333333333,\"#9c179e\"],[0.4444444444444444,\"#bd3786\"],[0.5555555555555556,\"#d8576b\"],[0.6666666666666666,\"#ed7953\"],[0.7777777777777778,\"#fb9f3a\"],[0.8888888888888888,\"#fdca26\"],[1.0,\"#f0f921\"]],\"sequentialminus\":[[0.0,\"#0d0887\"],[0.1111111111111111,\"#46039f\"],[0.2222222222222222,\"#7201a8\"],[0.3333333333333333,\"#9c179e\"],[0.4444444444444444,\"#bd3786\"],[0.5555555555555556,\"#d8576b\"],[0.6666666666666666,\"#ed7953\"],[0.7777777777777778,\"#fb9f3a\"],[0.8888888888888888,\"#fdca26\"],[1.0,\"#f0f921\"]],\"diverging\":[[0,\"#8e0152\"],[0.1,\"#c51b7d\"],[0.2,\"#de77ae\"],[0.3,\"#f1b6da\"],[0.4,\"#fde0ef\"],[0.5,\"#f7f7f7\"],[0.6,\"#e6f5d0\"],[0.7,\"#b8e186\"],[0.8,\"#7fbc41\"],[0.9,\"#4d9221\"],[1,\"#276419\"]]},\"xaxis\":{\"gridcolor\":\"#EBF0F8\",\"linecolor\":\"#EBF0F8\",\"ticks\":\"\",\"title\":{\"standoff\":15},\"zerolinecolor\":\"#EBF0F8\",\"automargin\":true,\"zerolinewidth\":2},\"yaxis\":{\"gridcolor\":\"#EBF0F8\",\"linecolor\":\"#EBF0F8\",\"ticks\":\"\",\"title\":{\"standoff\":15},\"zerolinecolor\":\"#EBF0F8\",\"automargin\":true,\"zerolinewidth\":2},\"scene\":{\"xaxis\":{\"backgroundcolor\":\"white\",\"gridcolor\":\"#DFE8F3\",\"linecolor\":\"#EBF0F8\",\"showbackground\":true,\"ticks\":\"\",\"zerolinecolor\":\"#EBF0F8\",\"gridwidth\":2},\"yaxis\":{\"backgroundcolor\":\"white\",\"gridcolor\":\"#DFE8F3\",\"linecolor\":\"#EBF0F8\",\"showbackground\":true,\"ticks\":\"\",\"zerolinecolor\":\"#EBF0F8\",\"gridwidth\":2},\"zaxis\":{\"backgroundcolor\":\"white\",\"gridcolor\":\"#DFE8F3\",\"linecolor\":\"#EBF0F8\",\"showbackground\":true,\"ticks\":\"\",\"zerolinecolor\":\"#EBF0F8\",\"gridwidth\":2}},\"shapedefaults\":{\"line\":{\"color\":\"#2a3f5f\"}},\"annotationdefaults\":{\"arrowcolor\":\"#2a3f5f\",\"arrowhead\":0,\"arrowwidth\":1},\"geo\":{\"bgcolor\":\"white\",\"landcolor\":\"white\",\"subunitcolor\":\"#C8D4E3\",\"showland\":true,\"showlakes\":true,\"lakecolor\":\"white\"},\"title\":{\"x\":0.05},\"mapbox\":{\"style\":\"light\"}}},\"xaxis\":{\"anchor\":\"y\",\"domain\":[0.0,1.0],\"title\":{\"text\":\"Year\"}},\"yaxis\":{\"anchor\":\"x\",\"domain\":[0.0,1.0],\"title\":{\"text\":\"% Share Held by Top 5\"}},\"legend\":{\"title\":{\"text\":\"Conference\"},\"tracegroupgap\":0},\"title\":{\"text\":\"Top 5 Institution Concentration by Conference Over Time\"},\"hovermode\":\"x unified\"},                        {\"responsive\": true}                    ).then(function(){\n",
       "                            \n",
       "var gd = document.getElementById('43a77980-b166-44cb-b867-143ddacd65ea');\n",
       "var x = new MutationObserver(function (mutations, observer) {{\n",
       "        var display = window.getComputedStyle(gd).display;\n",
       "        if (!display || display === 'none') {{\n",
       "            console.log([gd, 'removed!']);\n",
       "            Plotly.purge(gd);\n",
       "            observer.disconnect();\n",
       "        }}\n",
       "}});\n",
       "\n",
       "// Listen for the removal of the full notebook cells\n",
       "var notebookContainer = gd.closest('#notebook-container');\n",
       "if (notebookContainer) {{\n",
       "    x.observe(notebookContainer, {childList: true});\n",
       "}}\n",
       "\n",
       "// Listen for the clearing of the current output cell\n",
       "var outputEl = gd.closest('.output');\n",
       "if (outputEl) {{\n",
       "    x.observe(outputEl, {childList: true});\n",
       "}}\n",
       "\n",
       "                        })                };            </script>        </div>"
      ]
     },
     "metadata": {},
     "output_type": "display_data"
    }
   ],
   "source": [
    "N_CONC = 5 # Focusing on Top 5 for clarity\n",
    "\n",
    "print(f\"\\nTop {N_CONC} Institutional Concentration Across Conferences\")\n",
    "\n",
    "conc_df = df[df['Institution'] != 'Unknown Institution'].copy()\n",
    "conf_inst_yearly_counts = conc_df.groupby(['Year', 'Conference', 'Institution']).size().reset_index(name='Count')\n",
    "total_conf_yearly_counts = conf_inst_yearly_counts.groupby(['Year', 'Conference'])['Count'].sum().reset_index(name='TotalConfYearlyCount')\n",
    "\n",
    "concentration_list = []\n",
    "for year in sorted(conf_inst_yearly_counts['Year'].unique()):\n",
    "    for conf in [\"NeurIPS\", \"ICML\", \"ICLR\"]:\n",
    "        if conf not in conf_inst_yearly_counts[conf_inst_yearly_counts['Year'] == year]['Conference'].unique():\n",
    "            continue\n",
    "\n",
    "        subset = conf_inst_yearly_counts[(conf_inst_yearly_counts['Year'] == year) & (conf_inst_yearly_counts['Conference'] == conf)]\n",
    "\n",
    "        if not subset.empty:\n",
    "            top_n_inst_subset_df = subset.nlargest(N_CONC, 'Count')\n",
    "            top_n_details = \", \".join([f\"{row['Institution']} ({row['Count']})\" for index, row in top_n_inst_subset_df.iterrows()])\n",
    "            top_n_count_subset = top_n_inst_subset_df['Count'].sum()\n",
    "\n",
    "            total_count_subset_row = total_conf_yearly_counts[(total_conf_yearly_counts['Year'] == year) & (total_conf_yearly_counts['Conference'] == conf)]\n",
    "            if not total_count_subset_row.empty:\n",
    "                 total_count_subset = total_count_subset_row['TotalConfYearlyCount'].iloc[0]\n",
    "            else:\n",
    "                 total_count_subset = 0\n",
    "\n",
    "            if total_count_subset > 0:\n",
    "                percentage = (top_n_count_subset / total_count_subset) * 100\n",
    "                concentration_list.append({\n",
    "                    'Year': year, 'Conference': conf, f'Top{N_CONC}_Percentage': percentage,\n",
    "                    f'Top{N_CONC}_Institutions': top_n_details })\n",
    "            # else: # No need to print warnings during normal run\n",
    "            #      print(f\"Warning: Total count is zero for {conf} in {year}\")\n",
    "\n",
    "conf_concentration_df = pd.DataFrame(concentration_list)\n",
    "\n",
    "if not conf_concentration_df.empty:\n",
    "    fig_h13 = px.line(conf_concentration_df,\n",
    "                      x='Year', y=f'Top{N_CONC}_Percentage', color='Conference', markers=True,\n",
    "                      title=f'Top {N_CONC} Institution Concentration by Conference Over Time',\n",
    "                      labels={f'Top{N_CONC}_Percentage': f'% Share Held by Top {N_CONC}', 'Year': 'Year', 'Conference': 'Conference'},\n",
    "                      category_orders={\"Conference\": [\"NeurIPS\", \"ICML\", \"ICLR\"]},\n",
    "                      hover_data={f'Top{N_CONC}_Institutions': True, f'Top{N_CONC}_Percentage': ':.1f%'})\n",
    "    fig_h13.update_layout(hovermode=\"x unified\")\n",
    "    fig_h13.show()\n",
    "else:\n",
    "    print(\"Could not calculate conference concentration trends.\")"
   ]
  },
  {
   "cell_type": "markdown",
   "id": "05f61e46",
   "metadata": {},
   "source": [
    "**Findings:** The plot compares the percentage share held by the Top 5 institutions across the three conferences over time.\n",
    "\n",
    "**Conclusion:** **H12 is supported.** Concentration levels differ noticeably between conferences. ICLR appears significantly more 'elitist' (higher Top 5 concentration) than ICML and NeurIPS."
   ]
  },
  {
   "cell_type": "markdown",
   "id": "bd39a508",
   "metadata": {},
   "source": [
    "### H13: Institutional Publication Profiles (Clustering)\n",
    "\n",
    "**Hypothesis:** Institutions exhibit distinct publication profiles based on conference focus and academia/industry nature, allowing for clustering into meaningful groups.\n",
    "\n",
    "**Quantification:** Calculate features (% NeurIPS, % ICML, % ICLR, % Industry) for institutions with >20 publications. Standardize features and apply K-Means (K=5). Analyze cluster profiles and visualize using PCA."
   ]
  },
  {
   "cell_type": "code",
   "execution_count": 30,
   "id": "e604fc5b",
   "metadata": {},
   "outputs": [
    {
     "name": "stdout",
     "output_type": "stream",
     "text": [
      "\n",
      "Clustering Institutions by Publication Profile (Min 20 Pubs)\n",
      "K-Means with K=5\n",
      "\n",
      "Cluster Profiles (Average %):\n",
      "   pct_neurips  pct_icml  pct_iclr  pct_industry\n",
      "0         83.2      10.5       6.3          16.4\n",
      "1         60.2      23.1      16.6           0.1\n",
      "2         59.7      24.8      15.4          98.6\n",
      "3         42.2      16.9      40.9          43.3\n",
      "4         45.2      41.7      13.2           6.8\n",
      "PCA for visualization\n"
     ]
    },
    {
     "data": {
      "application/vnd.plotly.v1+json": {
       "config": {
        "plotlyServerURL": "https://plot.ly"
       },
       "data": [
        {
         "customdata": [
          [
           "4Paradigm",
           50,
           40.909090909090914,
           9.090909090909092,
           100,
           2
          ],
          [
           "A*STAR",
           50.79365079365079,
           17.46031746031746,
           31.746031746031743,
           96.82539682539682,
           3
          ],
          [
           "AIG",
           100,
           0,
           0,
           100,
           0
          ],
          [
           "AIRI",
           46.51162790697674,
           25.581395348837212,
           27.906976744186046,
           53.48837209302325,
           3
          ],
          [
           "AITRICS",
           52.27272727272727,
           46.590909090909086,
           1.1363636363636365,
           100,
           2
          ],
          [
           "AItrics",
           77.27272727272727,
           22.727272727272727,
           0,
           100,
           2
          ],
          [
           "AMD",
           69.23076923076923,
           30.76923076923077,
           0,
           100,
           2
          ],
          [
           "Aalborg University",
           56.666666666666664,
           30,
           13.333333333333334,
           0,
           1
          ],
          [
           "Aalto University",
           58.89967637540453,
           30.097087378640776,
           11.003236245954692,
           0,
           1
          ],
          [
           "Aarhus University",
           62.19512195121951,
           32.926829268292686,
           4.878048780487805,
           0,
           1
          ],
          [
           "Academia Sinica",
           63.26530612244898,
           14.285714285714285,
           22.448979591836736,
           0,
           1
          ],
          [
           "Academy of Mathematics and Systems Science, Chinese Academy of Sciences",
           57.14285714285714,
           38.775510204081634,
           4.081632653061225,
           0,
           4
          ],
          [
           "Accenture",
           45,
           45,
           10,
           100,
           2
          ],
          [
           "Adobe",
           50.140845070422536,
           21.69014084507042,
           28.169014084507044,
           100,
           2
          ],
          [
           "Agency for Science, Technology and Research",
           57.99999999999999,
           24,
           18,
           88,
           2
          ],
          [
           "Aix-Marseille University",
           65.21739130434783,
           30.434782608695656,
           4.3478260869565215,
           0,
           1
          ],
          [
           "Alan Turing Institute",
           62.5,
           29.166666666666668,
           8.333333333333332,
           0,
           1
          ],
          [
           "Albert-Ludwigs-Universität Freiburg",
           26.31578947368421,
           15.789473684210526,
           57.89473684210527,
           0,
           3
          ],
          [
           "Alibaba",
           63.6986301369863,
           23.28767123287671,
           13.013698630136986,
           100,
           2
          ],
          [
           "Alibaba Group",
           55.72625698324022,
           24.860335195530723,
           19.41340782122905,
           100,
           2
          ],
          [
           "Allen Institute",
           86.66666666666667,
           0,
           13.333333333333334,
           100,
           0
          ],
          [
           "Allen Institute for AI",
           57.41935483870968,
           15.483870967741936,
           27.09677419354839,
           14.193548387096774,
           1
          ],
          [
           "Allen Institute for Artificial Intelligence",
           64.61538461538461,
           7.6923076923076925,
           27.692307692307693,
           0.7692307692307693,
           1
          ],
          [
           "Amazon",
           48.57934857934858,
           28.06652806652807,
           23.354123354123356,
           100,
           2
          ],
          [
           "Amazon Web Services",
           67.46987951807229,
           21.686746987951807,
           10.843373493975903,
           100,
           2
          ],
          [
           "Anhui University",
           80.64516129032258,
           12.903225806451612,
           6.451612903225806,
           0,
           0
          ],
          [
           "Ant Financial",
           37.5,
           25,
           37.5,
           100,
           3
          ],
          [
           "Ant Group",
           61.67400881057269,
           19.383259911894275,
           18.94273127753304,
           100,
           2
          ],
          [
           "Anthropic",
           60.9375,
           12.5,
           26.5625,
           100,
           2
          ],
          [
           "Apple",
           44.74123539232053,
           28.213689482470784,
           27.04507512520868,
           100,
           2
          ],
          [
           "Argonne National Laboratory",
           66.66666666666666,
           12.5,
           20.833333333333336,
           8.333333333333332,
           1
          ],
          [
           "Arizona State University",
           60.231660231660236,
           24.324324324324326,
           15.444015444015443,
           0,
           1
          ],
          [
           "Artificial Intelligence Research Institute",
           78.26086956521739,
           0,
           21.73913043478261,
           0,
           0
          ],
          [
           "Auburn University",
           44.642857142857146,
           51.78571428571429,
           3.571428571428571,
           0,
           4
          ],
          [
           "Australian National University",
           56.71641791044776,
           18.65671641791045,
           24.62686567164179,
           0,
           1
          ],
          [
           "Autodesk",
           32.35294117647059,
           44.11764705882353,
           23.52941176470588,
           100,
           4
          ],
          [
           "Baidu",
           57.919621749408975,
           22.22222222222222,
           19.858156028368796,
           100,
           2
          ],
          [
           "Bar-Ilan University",
           45.033112582781456,
           47.019867549668874,
           7.9470198675496695,
           0,
           4
          ],
          [
           "Baylor College of Medicine",
           70.96774193548387,
           4.838709677419355,
           24.193548387096776,
           0,
           0
          ],
          [
           "Beihang University",
           64.11149825783971,
           15.6794425087108,
           20.209059233449477,
           0,
           1
          ],
          [
           "Beijing Academy of Artificial Intelligence",
           42.10526315789473,
           21.052631578947366,
           36.84210526315789,
           0,
           3
          ],
          [
           "Beijing Institute for General Artificial Intelligence",
           45.45454545454545,
           15.909090909090908,
           38.63636363636363,
           0,
           3
          ],
          [
           "Beijing Institute of Technology",
           70.76923076923077,
           18.076923076923077,
           11.153846153846155,
           0,
           1
          ],
          [
           "Beijing Jiaotong University",
           79.24528301886792,
           8.49056603773585,
           12.264150943396226,
           0,
           0
          ],
          [
           "Beijing Normal University",
           63.63636363636363,
           32.72727272727273,
           3.6363636363636362,
           0,
           1
          ],
          [
           "Beijing Technology and Business University",
           43.75,
           34.375,
           21.875,
           0,
           4
          ],
          [
           "Beijing University of Aeronautics and Astronautics",
           65.65656565656566,
           18.181818181818183,
           16.161616161616163,
           0,
           1
          ],
          [
           "Beijing University of Posts and Telecommunications",
           74.05857740585773,
           6.694560669456067,
           19.246861924686193,
           0,
           0
          ],
          [
           "Ben-Gurion University of the Negev",
           63.1578947368421,
           31.57894736842105,
           5.263157894736842,
           0,
           1
          ],
          [
           "Bielefeld University",
           38.095238095238095,
           33.33333333333333,
           28.57142857142857,
           0,
           4
          ],
          [
           "Binghamton University",
           68.18181818181817,
           31.818181818181817,
           0,
           0,
           1
          ],
          [
           "Booz Allen Hamilton",
           83.78378378378379,
           13.513513513513514,
           2.7027027027027026,
           100,
           0
          ],
          [
           "Borealis AI",
           39.130434782608695,
           23.18840579710145,
           37.68115942028986,
           100,
           3
          ],
          [
           "Bosch",
           49.24812030075188,
           21.052631578947366,
           29.69924812030075,
           100,
           2
          ],
          [
           "Boston College",
           57.14285714285714,
           28.57142857142857,
           14.285714285714285,
           0,
           1
          ],
          [
           "Boston University",
           59.34343434343434,
           29.040404040404038,
           11.616161616161616,
           0,
           1
          ],
          [
           "Brandeis University",
           36.17021276595745,
           19.148936170212767,
           44.680851063829785,
           0,
           3
          ],
          [
           "Broad Institute",
           50,
           45,
           5,
           0,
           4
          ],
          [
           "Brookhaven National Laboratory",
           43.47826086956522,
           30.434782608695656,
           26.08695652173913,
           0,
           4
          ],
          [
           "Brown University",
           61.18598382749326,
           23.71967654986523,
           15.09433962264151,
           0,
           1
          ],
          [
           "ByteDance",
           49.10394265232975,
           24.372759856630825,
           26.523297491039425,
           100,
           2
          ],
          [
           "Bytedance",
           55.86206896551724,
           22.758620689655174,
           21.379310344827587,
           100,
           2
          ],
          [
           "CASIA",
           70,
           15.714285714285714,
           14.285714285714285,
           0,
           1
          ],
          [
           "CEA",
           44.18604651162791,
           20.930232558139537,
           34.883720930232556,
           93.02325581395348,
           3
          ],
          [
           "CISPA Helmholtz Center for Information Security",
           44.827586206896555,
           32.41379310344827,
           22.758620689655174,
           0,
           4
          ],
          [
           "CNRS",
           58.791208791208796,
           31.318681318681318,
           9.89010989010989,
           0,
           1
          ],
          [
           "CREST",
           40.816326530612244,
           57.14285714285714,
           2.0408163265306123,
           0,
           4
          ],
          [
           "CSIRO",
           54.41176470588235,
           16.176470588235293,
           29.411764705882355,
           69.11764705882352,
           3
          ],
          [
           "CSIRO's Data61",
           38.46153846153847,
           56.41025641025641,
           5.128205128205128,
           100,
           4
          ],
          [
           "California Institute of Technology",
           62.26053639846744,
           27.969348659003828,
           9.770114942528735,
           0,
           1
          ],
          [
           "Cardiff University",
           51.724137931034484,
           44.827586206896555,
           3.4482758620689653,
           0,
           4
          ],
          [
           "Carleton University",
           57.14285714285714,
           17.857142857142858,
           25,
           0,
           1
          ],
          [
           "Carnegie Mellon University",
           57.3346116970278,
           22.77085330776606,
           19.894534995206136,
           0,
           1
          ],
          [
           "Case Western Reserve University",
           64.86486486486487,
           24.324324324324326,
           10.81081081081081,
           0,
           1
          ],
          [
           "Central South University",
           71.7948717948718,
           23.076923076923077,
           5.128205128205128,
           0,
           1
          ],
          [
           "CentraleSupélec",
           48.78048780487805,
           41.46341463414634,
           9.75609756097561,
           0,
           4
          ],
          [
           "Centrum Wiskunde & Informatica",
           71.73913043478261,
           19.565217391304348,
           8.695652173913043,
           0,
           1
          ],
          [
           "Chalmers University of Technology",
           55.55555555555556,
           38.095238095238095,
           6.349206349206349,
           0,
           4
          ],
          [
           "Chinese Academy of Sciences",
           68.98326898326899,
           17.88931788931789,
           13.127413127413126,
           0,
           1
          ],
          [
           "Chinese University of Hong Kong",
           73.82198952879581,
           15.706806282722512,
           10.471204188481675,
           0,
           0
          ],
          [
           "Chinese University of Hong Kong, Shenzhen",
           45.16129032258064,
           41.935483870967744,
           12.903225806451612,
           0,
           4
          ],
          [
           "Chongqing University",
           38.23529411764706,
           38.23529411764706,
           23.52941176470588,
           0,
           4
          ],
          [
           "Chung-Ang University",
           58.536585365853654,
           26.82926829268293,
           14.634146341463413,
           0,
           1
          ],
          [
           "Cisco",
           73.91304347826086,
           17.391304347826086,
           8.695652173913043,
           100,
           2
          ],
          [
           "City University of Hong Kong",
           59.94318181818182,
           24.431818181818183,
           15.625,
           0,
           1
          ],
          [
           "City University of New York",
           57.14285714285714,
           23.809523809523807,
           19.047619047619047,
           0,
           1
          ],
          [
           "Clemson University",
           44.73684210526316,
           39.473684210526315,
           15.789473684210526,
           0,
           4
          ],
          [
           "Cohere",
           76.92307692307693,
           11.538461538461538,
           11.538461538461538,
           100,
           2
          ],
          [
           "Cold Spring Harbor Laboratory",
           77.27272727272727,
           22.727272727272727,
           0,
           0,
           0
          ],
          [
           "Columbia University",
           65.67630961688819,
           20.953870211102423,
           13.369820172009383,
           0,
           1
          ],
          [
           "Computer Vision Center",
           65,
           0,
           35,
           0,
           3
          ],
          [
           "Concordia University",
           54.83870967741935,
           19.35483870967742,
           25.806451612903224,
           0,
           1
          ],
          [
           "Cooperative Medianet Innovation Center",
           52.38095238095239,
           47.61904761904761,
           0,
           100,
           2
          ],
          [
           "Cornell University",
           60.59451219512195,
           25.152439024390244,
           14.253048780487804,
           0,
           1
          ],
          [
           "Courant Institute of Mathematical Sciences",
           75.82417582417582,
           24.175824175824175,
           0,
           0,
           0
          ],
          [
           "Covariant",
           58.333333333333336,
           41.66666666666667,
           0,
           100,
           2
          ],
          [
           "Criteo",
           47.12643678160919,
           39.6551724137931,
           13.218390804597702,
           100,
           2
          ],
          [
           "Czech Technical University in Prague",
           66.66666666666666,
           11.666666666666666,
           21.666666666666668,
           0,
           1
          ],
          [
           "DAMO Academy",
           66.66666666666666,
           29.166666666666668,
           4.166666666666666,
           54.166666666666664,
           2
          ],
          [
           "Dalhousie University",
           62.16216216216216,
           16.216216216216218,
           21.62162162162162,
           0,
           1
          ],
          [
           "Dalian University of Technology",
           67.16417910447761,
           20.149253731343283,
           12.686567164179104,
           0,
           1
          ],
          [
           "Dartmouth College",
           62.83783783783784,
           7.4324324324324325,
           29.72972972972973,
           0,
           1
          ],
          [
           "Data61",
           66.66666666666666,
           24.358974358974358,
           8.974358974358974,
           98.71794871794873,
           2
          ],
          [
           "Deakin University",
           56.75675675675676,
           25,
           18.243243243243242,
           0,
           1
          ],
          [
           "DeepLearning.AI",
           100,
           0,
           0,
           100,
           0
          ],
          [
           "Delft University of Technology",
           51.21951219512195,
           31.097560975609756,
           17.682926829268293,
           0,
           1
          ],
          [
           "Department of Computer Science",
           37.5,
           16.666666666666664,
           45.83333333333333,
           0,
           3
          ],
          [
           "Disney",
           75,
           21.428571428571427,
           3.571428571428571,
           100,
           2
          ],
          [
           "Duke University",
           59.12951167728237,
           26.751592356687897,
           14.118895966029724,
           0,
           1
          ],
          [
           "ELLIS Institute",
           72.5,
           15,
           12.5,
           0,
           0
          ],
          [
           "ELLIS Unit",
           90,
           3.3333333333333335,
           6.666666666666667,
           0,
           0
          ],
          [
           "ENSAE",
           72.5,
           25,
           2.5,
           0,
           1
          ],
          [
           "ENSAE Paris",
           41.30434782608695,
           52.17391304347826,
           6.521739130434782,
           0,
           4
          ],
          [
           "ETH Zurich",
           58.097038437303084,
           27.473219911783236,
           14.429741650913675,
           0,
           1
          ],
          [
           "ETH Zürich",
           62.35294117647059,
           25.882352941176475,
           11.76470588235294,
           0,
           1
          ],
          [
           "EURECOM",
           55.81395348837209,
           41.86046511627907,
           2.3255813953488373,
           0,
           4
          ],
          [
           "East China Normal University",
           54.67625899280576,
           24.46043165467626,
           20.863309352517987,
           0,
           1
          ],
          [
           "Eberhard-Karls-Universität Tübingen",
           53.333333333333336,
           20,
           26.666666666666668,
           0,
           1
          ],
          [
           "Eindhoven University of Technology",
           45.925925925925924,
           35.55555555555556,
           18.51851851851852,
           0,
           4
          ],
          [
           "Electrical Engineering & Computer Science Department",
           45.45454545454545,
           18.181818181818183,
           36.36363636363637,
           0,
           3
          ],
          [
           "Electronics and Telecommunications Research Institute",
           30,
           30,
           40,
           100,
           3
          ],
          [
           "Element AI",
           79.03225806451613,
           9.67741935483871,
           11.29032258064516,
           100,
           2
          ],
          [
           "EleutherAI",
           37.142857142857146,
           51.42857142857142,
           11.428571428571429,
           100,
           4
          ],
          [
           "Embodied Intelligence",
           0,
           0,
           100,
           100,
           3
          ],
          [
           "Emory University",
           71.08433734939759,
           12.048192771084338,
           16.867469879518072,
           0,
           1
          ],
          [
           "Facebook",
           50.591715976331365,
           26.094674556213015,
           23.31360946745562,
           100,
           2
          ],
          [
           "Facebook AI Research",
           52.666666666666664,
           31.333333333333336,
           16,
           100,
           2
          ],
          [
           "FlatIron Institute",
           100,
           0,
           0,
           0,
           0
          ],
          [
           "Flatiron Institute",
           75.38461538461539,
           15.384615384615385,
           9.230769230769232,
           1.5384615384615385,
           0
          ],
          [
           "Florida International University",
           16.666666666666664,
           54.166666666666664,
           29.166666666666668,
           0,
           4
          ],
          [
           "Florida State University",
           63.41463414634146,
           34.146341463414636,
           2.4390243902439024,
           0,
           1
          ],
          [
           "Freie Universität Berlin",
           58.490566037735846,
           30.18867924528302,
           11.320754716981133,
           0,
           1
          ],
          [
           "Friedrich-Schiller-Universität Jena",
           85,
           15,
           0,
           0,
           0
          ],
          [
           "Fudan University",
           59.471365638766514,
           21.58590308370044,
           18.94273127753304,
           0,
           1
          ],
          [
           "Fujitsu",
           22.58064516129032,
           41.935483870967744,
           35.483870967741936,
           100,
           3
          ],
          [
           "Gatsby Computational Neuroscience Unit",
           27.27272727272727,
           54.54545454545454,
           18.181818181818183,
           0,
           4
          ],
          [
           "Genentech",
           51.81818181818182,
           28.18181818181818,
           20,
           100,
           2
          ],
          [
           "George Mason University",
           60.65573770491803,
           21.311475409836063,
           18.0327868852459,
           0,
           1
          ],
          [
           "George Washington University",
           67.74193548387096,
           19.35483870967742,
           12.903225806451612,
           0,
           1
          ],
          [
           "Georgia Institute of Technology",
           56.69975186104218,
           24.317617866004962,
           18.982630272952854,
           0,
           1
          ],
          [
           "German Cancer Research Center",
           78.57142857142857,
           0,
           21.428571428571427,
           0,
           0
          ],
          [
           "German Research Center for Artificial Intelligence",
           73.68421052631578,
           23.684210526315788,
           2.631578947368421,
           0,
           0
          ],
          [
           "Ghent University",
           62.66666666666667,
           17.333333333333336,
           20,
           0,
           1
          ],
          [
           "Google",
           48.80374479889043,
           30.54785020804438,
           20.648404993065185,
           100,
           2
          ],
          [
           "Graphcore",
           43.75,
           28.125,
           28.125,
           100,
           2
          ],
          [
           "Graz University of Technology",
           82.6086956521739,
           8.695652173913043,
           8.695652173913043,
           0,
           0
          ],
          [
           "Griffith University",
           68.75,
           21.875,
           9.375,
           0,
           1
          ],
          [
           "Guangdong University of Technology",
           51.61290322580645,
           45.16129032258064,
           3.225806451612903,
           0,
           4
          ],
          [
           "Gwangju Institute of Science and Technology",
           45.16129032258064,
           9.67741935483871,
           45.16129032258064,
           0,
           3
          ],
          [
           "HEC Montreal",
           7.142857142857142,
           39.285714285714285,
           53.57142857142857,
           0,
           3
          ],
          [
           "Hangzhou Dianzi University",
           83.33333333333334,
           5.555555555555555,
           11.11111111111111,
           0,
           0
          ],
          [
           "Hanyang University",
           57.89473684210527,
           14.035087719298245,
           28.07017543859649,
           0,
           1
          ],
          [
           "Harbin Institute of Technology",
           61.86046511627907,
           21.16279069767442,
           16.97674418604651,
           0,
           1
          ],
          [
           "Harvard Medical School",
           61.038961038961034,
           27.27272727272727,
           11.688311688311687,
           0,
           1
          ],
          [
           "Harvard University",
           60.92985318107667,
           25.36704730831974,
           13.70309951060359,
           0,
           1
          ],
          [
           "Hasso Plattner Institute",
           35.483870967741936,
           19.35483870967742,
           45.16129032258064,
           0,
           3
          ],
          [
           "Hebei University of Technology",
           80.95238095238095,
           4.761904761904762,
           14.285714285714285,
           0,
           0
          ],
          [
           "Hebrew University of Jerusalem",
           60.792951541850215,
           16.740088105726873,
           22.46696035242291,
           0,
           1
          ],
          [
           "Hefei University of Technology",
           74.19354838709677,
           3.225806451612903,
           22.58064516129032,
           0,
           0
          ],
          [
           "Heidelberg University",
           51.2,
           31.2,
           17.599999999999998,
           0,
           1
          ],
          [
           "Helmholtz AI",
           56.00000000000001,
           24,
           20,
           12,
           1
          ],
          [
           "Helmholtz Zentrum München",
           57.14285714285714,
           28.57142857142857,
           14.285714285714285,
           0,
           1
          ],
          [
           "Higher School of Economics",
           72.03389830508475,
           16.94915254237288,
           11.016949152542372,
           0,
           1
          ],
          [
           "Hitachi",
           57.14285714285714,
           32.142857142857146,
           10.714285714285714,
           100,
           2
          ],
          [
           "Hong Kong Baptist University",
           49.77168949771689,
           27.85388127853881,
           22.37442922374429,
           0,
           1
          ],
          [
           "Hong Kong Polytechnic University",
           62.5,
           31.25,
           6.25,
           0,
           1
          ],
          [
           "Hong Kong University of Science and Technology",
           53.823088455772115,
           26.686656671664167,
           19.490254872563717,
           0,
           1
          ],
          [
           "Hong Kong University of Science and Technology (Guangzhou)",
           65,
           15,
           20,
           0,
           1
          ],
          [
           "Horizon Robotics",
           44.680851063829785,
           19.148936170212767,
           36.17021276595745,
           100,
           3
          ],
          [
           "Howard Hughes Medical Institute",
           90.9090909090909,
           4.545454545454546,
           4.545454545454546,
           54.54545454545454,
           0
          ],
          [
           "Huawei",
           58.09968847352025,
           24.143302180685357,
           17.75700934579439,
           100,
           2
          ],
          [
           "Huawei Technologies",
           49.75,
           20.75,
           29.5,
           100,
           2
          ],
          [
           "Huazhong University of Science and Technology",
           67.57493188010899,
           16.348773841961854,
           16.076294277929154,
           0,
           1
          ],
          [
           "Hugging Face",
           78.78787878787878,
           10.606060606060606,
           10.606060606060606,
           100,
           2
          ],
          [
           "IBM",
           58.214285714285715,
           26.21428571428571,
           15.571428571428573,
           100,
           2
          ],
          [
           "IDSIA",
           64.28571428571429,
           22.857142857142858,
           12.857142857142856,
           0,
           1
          ],
          [
           "INRIA",
           68.796992481203,
           25.563909774436087,
           5.639097744360902,
           0,
           1
          ],
          [
           "INSAIT",
           85.71428571428571,
           4.761904761904762,
           9.523809523809524,
           0,
           0
          ],
          [
           "IRISA",
           58.06451612903226,
           29.03225806451613,
           12.903225806451612,
           0,
           1
          ],
          [
           "ISIR",
           75,
           20,
           5,
           0,
           0
          ],
          [
           "IT University of Copenhagen",
           51.85185185185185,
           37.03703703703704,
           11.11111111111111,
           0,
           4
          ],
          [
           "Idiap Research Institute",
           56.60377358490566,
           30.18867924528302,
           13.20754716981132,
           0,
           1
          ],
          [
           "Illinois Institute of Technology",
           59.09090909090909,
           13.636363636363635,
           27.27272727272727,
           0,
           1
          ],
          [
           "Imperial College London",
           54.90533562822719,
           29.08777969018933,
           16.00688468158348,
           0,
           1
          ],
          [
           "Inception Institute of Artificial Intelligence",
           75,
           12.5,
           12.5,
           97.22222222222221,
           2
          ],
          [
           "Independent Researcher",
           62.96296296296296,
           7.4074074074074066,
           29.629629629629626,
           0,
           1
          ],
          [
           "Indian Institute of Science",
           64.08839779005525,
           26.519337016574585,
           9.392265193370166,
           0,
           1
          ],
          [
           "Indian Institute of Technology",
           82.43243243243244,
           16.216216216216218,
           1.3513513513513513,
           0,
           0
          ],
          [
           "Indian Institute of Technology Bombay",
           56.060606060606055,
           27.27272727272727,
           16.666666666666664,
           0,
           1
          ],
          [
           "Indian Institute of Technology Delhi",
           51.96850393700787,
           21.25984251968504,
           26.77165354330709,
           0,
           1
          ],
          [
           "Indian Institute of Technology Hyderabad",
           64,
           32,
           4,
           0,
           1
          ],
          [
           "Indian Institute of Technology Kanpur",
           57.14285714285714,
           32.6530612244898,
           10.204081632653061,
           0,
           1
          ],
          [
           "Indian Institute of Technology Kharagpur",
           74.4186046511628,
           9.30232558139535,
           16.27906976744186,
           0,
           0
          ],
          [
           "Indian Institute of Technology Madras",
           67.24137931034483,
           12.068965517241379,
           20.689655172413794,
           0,
           1
          ],
          [
           "Indiana University",
           56.97674418604651,
           20.930232558139537,
           22.093023255813954,
           0,
           1
          ],
          [
           "Indiana University Bloomington",
           80.95238095238095,
           16.666666666666664,
           2.380952380952381,
           0,
           0
          ],
          [
           "Inria",
           61.328976034858385,
           26.68845315904139,
           11.982570806100219,
           0,
           1
          ],
          [
           "InstaDeep",
           54.285714285714285,
           12.857142857142856,
           32.857142857142854,
           100,
           3
          ],
          [
           "Institut Polytechnique de Paris",
           70.17543859649122,
           21.052631578947366,
           8.771929824561402,
           0,
           1
          ],
          [
           "Institute for Advanced Study",
           38.57142857142858,
           44.285714285714285,
           17.142857142857142,
           0,
           4
          ],
          [
           "Institute for Infocomm Research",
           72.5,
           17.5,
           10,
           65,
           2
          ],
          [
           "Institute of Automation, Chinese Academy of Sciences",
           73.49397590361446,
           14.457831325301203,
           12.048192771084338,
           0,
           0
          ],
          [
           "Institute of Computing Technology",
           19.047619047619047,
           47.61904761904761,
           33.33333333333333,
           0,
           4
          ],
          [
           "Institute of Computing Technology, Chinese Academy of Sciences",
           64.56953642384106,
           23.509933774834437,
           11.920529801324504,
           0,
           1
          ],
          [
           "Institute of High Performance Computing",
           48.484848484848484,
           18.181818181818183,
           33.33333333333333,
           0,
           3
          ],
          [
           "Institute of Information Engineering, Chinese Academy of Sciences",
           51.724137931034484,
           41.37931034482759,
           6.896551724137931,
           0,
           4
          ],
          [
           "Institute of Science and Technology Austria",
           54.589371980676326,
           35.748792270531396,
           9.66183574879227,
           0,
           4
          ],
          [
           "Institute of Software, Chinese Academy of Sciences",
           70.27027027027027,
           21.62162162162162,
           8.108108108108109,
           0,
           1
          ],
          [
           "Institute of Statistical Mathematics",
           78.78787878787878,
           18.181818181818183,
           3.0303030303030303,
           0,
           0
          ],
          [
           "Instituto Superior Técnico",
           61.53846153846154,
           23.076923076923077,
           15.384615384615385,
           0,
           1
          ],
          [
           "Intel",
           59.59595959595959,
           21.885521885521886,
           18.51851851851852,
           100,
           2
          ],
          [
           "International Business Machines",
           42,
           23,
           35,
           100,
           3
          ],
          [
           "International Digital Economy Academy",
           46.15384615384615,
           1.5384615384615385,
           52.307692307692314,
           0,
           3
          ],
          [
           "International School for Advanced Studies",
           89.65517241379311,
           10.344827586206897,
           0,
           0,
           0
          ],
          [
           "Iowa State University",
           52.94117647058824,
           40.52287581699346,
           6.535947712418301,
           0,
           4
          ],
          [
           "Istituto Italiano di Tecnologia",
           66.01941747572816,
           27.184466019417474,
           6.796116504854369,
           0,
           1
          ],
          [
           "JD Explore Academy",
           22.5,
           32.5,
           45,
           100,
           3
          ],
          [
           "JD.com",
           60.75949367088608,
           21.518987341772153,
           17.72151898734177,
           100,
           2
          ],
          [
           "Jagiellonian University",
           50.74626865671642,
           34.32835820895522,
           14.925373134328357,
           0,
           4
          ],
          [
           "Jilin University",
           52.72727272727272,
           31.818181818181817,
           15.454545454545453,
           0,
           1
          ],
          [
           "Johannes Kepler University Linz",
           59.44055944055944,
           20.27972027972028,
           20.27972027972028,
           0,
           1
          ],
          [
           "Johns Hopkins University",
           54.899135446685875,
           26.0806916426513,
           19.020172910662826,
           0,
           1
          ],
          [
           "KAIST",
           47.71615008156607,
           33.115823817292004,
           19.168026101141926,
           0,
           4
          ],
          [
           "KTH Royal Institute of Technology",
           46.408839779005525,
           41.43646408839779,
           12.154696132596685,
           0,
           4
          ],
          [
           "KU Leuven",
           54.44444444444444,
           20,
           25.555555555555554,
           0,
           1
          ],
          [
           "Kakao",
           70.2127659574468,
           10.638297872340425,
           19.148936170212767,
           100,
           2
          ],
          [
           "Karlsruhe Institute of Technology",
           47.12643678160919,
           16.091954022988507,
           36.7816091954023,
           0,
           3
          ],
          [
           "Karlsruher Institut für Technologie",
           61.111111111111114,
           13.88888888888889,
           25,
           0,
           1
          ],
          [
           "King Abdullah University of Science and Technology",
           50.96153846153846,
           28.60576923076923,
           20.432692307692307,
           0,
           1
          ],
          [
           "King's College London",
           69.81132075471697,
           20.754716981132077,
           9.433962264150944,
           0,
           1
          ],
          [
           "Korea Advanced Institute of Science & Technology",
           46.25850340136054,
           22.448979591836736,
           31.292517006802722,
           0,
           3
          ],
          [
           "Korea Advanced Institute of Science and Technology",
           47.12153518123667,
           12.57995735607676,
           40.298507462686565,
           0,
           3
          ],
          [
           "Korea Institute for Advanced Study",
           59.09090909090909,
           27.27272727272727,
           13.636363636363635,
           0,
           1
          ],
          [
           "Korea University",
           64.0625,
           15.625,
           20.3125,
           0,
           1
          ],
          [
           "Kuaishou Technology",
           77.77777777777779,
           6.666666666666667,
           15.555555555555555,
           100,
           2
          ],
          [
           "Kungliga Tekniska Högskolan",
           55.932203389830505,
           37.28813559322034,
           6.779661016949152,
           0,
           4
          ],
          [
           "Kwai Inc.",
           55.172413793103445,
           13.793103448275861,
           31.03448275862069,
           100,
           2
          ],
          [
           "Kyoto University",
           77,
           19,
           4,
           0,
           0
          ],
          [
           "Kyushu University",
           19.230769230769234,
           53.84615384615385,
           26.923076923076923,
           0,
           4
          ],
          [
           "LG",
           48.68421052631579,
           32.89473684210527,
           18.421052631578945,
           100,
           2
          ],
          [
           "LG Electronics",
           38.63636363636363,
           25,
           36.36363636363637,
           100,
           3
          ],
          [
           "Lancaster University",
           68,
           30,
           2,
           0,
           1
          ],
          [
           "Lawrence Berkeley National Laboratory",
           66.66666666666666,
           2.7777777777777777,
           30.555555555555557,
           0,
           1
          ],
          [
           "Lawrence Livermore National Laboratory",
           56.310679611650485,
           27.184466019417474,
           16.50485436893204,
           96.11650485436894,
           2
          ],
          [
           "Layer 6 AI",
           45.83333333333333,
           27.083333333333332,
           27.083333333333332,
           100,
           2
          ],
          [
           "Lehigh University",
           45.65217391304348,
           42.391304347826086,
           11.956521739130435,
           0,
           4
          ],
          [
           "Leiden University",
           81.81818181818183,
           3.0303030303030303,
           15.151515151515152,
           0,
           0
          ],
          [
           "Lenovo",
           28.000000000000004,
           52,
           20,
           100,
           4
          ],
          [
           "LinkedIn",
           68.57142857142857,
           20,
           11.428571428571429,
           100,
           2
          ],
          [
           "Linköping University",
           55.769230769230774,
           40.38461538461539,
           3.8461538461538463,
           0,
           4
          ],
          [
           "London School of Economics",
           47.61904761904761,
           38.095238095238095,
           14.285714285714285,
           0,
           4
          ],
          [
           "Los Alamos National Laboratory",
           60,
           34.66666666666667,
           5.333333333333334,
           98.66666666666667,
           2
          ],
          [
           "Ludwig Maximilian University of Munich",
           45.26315789473684,
           29.47368421052631,
           25.263157894736842,
           0,
           1
          ],
          [
           "Ludwig-Maximilians-Universität München",
           52.293577981651374,
           33.94495412844037,
           13.761467889908257,
           0,
           4
          ],
          [
           "Lund University",
           72.3404255319149,
           8.51063829787234,
           19.148936170212767,
           0,
           0
          ],
          [
           "Macquarie University",
           86.48648648648648,
           8.108108108108109,
           5.405405405405405,
           0,
           0
          ],
          [
           "Massachusetts Institute of Technology",
           56.32706035042181,
           25.805753839498163,
           17.867185810080034,
           0,
           1
          ],
          [
           "Max Planck Institute",
           43.20987654320987,
           18.51851851851852,
           38.2716049382716,
           0,
           3
          ],
          [
           "Max Planck Institute for Biological Cybernetics",
           85.5072463768116,
           11.594202898550725,
           2.898550724637681,
           0,
           0
          ],
          [
           "Max Planck Institute for Informatics",
           60.83333333333333,
           19.166666666666668,
           20,
           0,
           1
          ],
          [
           "Max Planck Institute for Intelligent Systems",
           58.59872611464968,
           22.452229299363058,
           18.949044585987263,
           0,
           1
          ],
          [
           "Max Planck Institute for Mathematics in the Sciences",
           30,
           43.333333333333336,
           26.666666666666668,
           0,
           4
          ],
          [
           "Max Planck Institute for Software Systems",
           66.94214876033058,
           28.92561983471074,
           4.132231404958678,
           0,
           1
          ],
          [
           "Max Planck Society",
           37.17948717948718,
           5.128205128205128,
           57.692307692307686,
           0,
           3
          ],
          [
           "Max-Planck-Institute for Intelligent Systems",
           26.190476190476193,
           35.714285714285715,
           38.095238095238095,
           0,
           3
          ],
          [
           "McGill University",
           55.447154471544714,
           26.01626016260163,
           18.536585365853657,
           0,
           1
          ],
          [
           "McMaster University",
           84.78260869565217,
           6.521739130434782,
           8.695652173913043,
           0,
           0
          ],
          [
           "MediaTek",
           45.45454545454545,
           40.909090909090914,
           13.636363636363635,
           100,
           2
          ],
          [
           "Megvii",
           100,
           0,
           0,
           100,
           0
          ],
          [
           "Megvii Technology Inc.",
           52.77777777777778,
           5.555555555555555,
           41.66666666666667,
           100,
           3
          ],
          [
           "Meituan",
           46.42857142857143,
           19.642857142857142,
           33.92857142857143,
           100,
           3
          ],
          [
           "Memorial Sloan Kettering Cancer Center",
           39.285714285714285,
           21.428571428571427,
           39.285714285714285,
           0,
           3
          ],
          [
           "Meta",
           49.652432969215496,
           29.493545183714005,
           20.854021847070506,
           100,
           2
          ],
          [
           "Michigan State University",
           51.21951219512195,
           20.32520325203252,
           28.455284552845526,
           0,
           1
          ],
          [
           "Microsoft",
           54.020507285483,
           23.448461953588776,
           22.531030760928225,
           100,
           2
          ],
          [
           "Microsoft Research",
           64.51612903225806,
           25.806451612903224,
           9.67741935483871,
           100,
           2
          ],
          [
           "Microsoft Research Asia",
           82.6086956521739,
           13.043478260869565,
           4.3478260869565215,
           100,
           0
          ],
          [
           "Mila - Quebec AI Institute",
           44.452501812907904,
           27.628716461203773,
           27.918781725888326,
           0,
           1
          ],
          [
           "Mitsubishi Electric Research Laboratories",
           75,
           25,
           0,
           100,
           2
          ],
          [
           "Mohamed bin Zayed University of Artificial Intelligence",
           60.65573770491803,
           18.688524590163937,
           20.655737704918035,
           0,
           1
          ],
          [
           "Monash University",
           58.06451612903226,
           18.951612903225808,
           22.983870967741936,
           0,
           1
          ],
          [
           "Montreal Institute for Learning Algorithms",
           56.25,
           20.833333333333336,
           22.916666666666664,
           0,
           1
          ],
          [
           "Morgan Stanley",
           16.666666666666664,
           60,
           23.333333333333332,
           100,
           4
          ],
          [
           "Moscow Institute of Physics and Technology",
           64.56692913385827,
           25.984251968503933,
           9.448818897637794,
           0,
           1
          ],
          [
           "NAVER",
           32.73809523809524,
           19.047619047619047,
           48.214285714285715,
           100,
           3
          ],
          [
           "NAVER LABS Europe",
           57.14285714285714,
           19.047619047619047,
           23.809523809523807,
           100,
           2
          ],
          [
           "NEC",
           57.943925233644855,
           22.429906542056074,
           19.626168224299064,
           100,
           2
          ],
          [
           "NEC Corporation",
           71.42857142857143,
           25.71428571428571,
           2.857142857142857,
           100,
           2
          ],
          [
           "NEC Labs America",
           59.09090909090909,
           6.8181818181818175,
           34.090909090909086,
           100,
           3
          ],
          [
           "NICTA",
           100,
           0,
           0,
           17.5,
           0
          ],
          [
           "NLPR",
           83.33333333333334,
           16.666666666666664,
           0,
           0,
           0
          ],
          [
           "NNAISENSE",
           59.09090909090909,
           4.545454545454546,
           36.36363636363637,
           100,
           3
          ],
          [
           "NTT",
           74.52830188679245,
           23.58490566037736,
           1.8867924528301887,
           100,
           2
          ],
          [
           "NVIDIA",
           56.26598465473146,
           22.89002557544757,
           20.843989769820972,
           100,
           2
          ],
          [
           "Nagoya Institute of Technology",
           38,
           60,
           2,
           0,
           4
          ],
          [
           "Nagoya University",
           47.61904761904761,
           47.61904761904761,
           4.761904761904762,
           0,
           4
          ],
          [
           "Nanjing University",
           55.87649402390438,
           29.08366533864542,
           15.0398406374502,
           0,
           1
          ],
          [
           "Nanjing University of Aeronautics and Astronautics",
           70.49180327868852,
           24.59016393442623,
           4.918032786885246,
           0,
           1
          ],
          [
           "Nanjing University of Information Science and Technology",
           86.95652173913044,
           8.695652173913043,
           4.3478260869565215,
           0,
           0
          ],
          [
           "Nanjing University of Science and Technology",
           83.42541436464089,
           8.83977900552486,
           7.734806629834254,
           0,
           0
          ],
          [
           "Nankai University",
           66.18705035971223,
           18.705035971223023,
           15.107913669064748,
           0,
           1
          ],
          [
           "Nanyang Technological University",
           60.24340770791075,
           17.44421906693712,
           22.31237322515213,
           0,
           1
          ],
          [
           "National Chiao Tung University",
           51.85185185185185,
           25.925925925925924,
           22.22222222222222,
           0,
           1
          ],
          [
           "National Institute of Advanced Industrial Science and Technology",
           55.55555555555556,
           25.925925925925924,
           18.51851851851852,
           74.07407407407408,
           2
          ],
          [
           "National Institute of Informatics",
           62.5,
           22.916666666666664,
           14.583333333333334,
           0,
           1
          ],
          [
           "National Research University Higher School of Economics",
           72,
           20,
           8,
           0,
           1
          ],
          [
           "National Taiwan University",
           61.0062893081761,
           18.867924528301888,
           20.125786163522015,
           0,
           1
          ],
          [
           "National Technical University of Athens",
           53.48837209302325,
           37.2093023255814,
           9.30232558139535,
           0,
           4
          ],
          [
           "National Tsing Hua University",
           45.45454545454545,
           37.878787878787875,
           16.666666666666664,
           0,
           4
          ],
          [
           "National University of Defense Technology",
           63.49206349206349,
           27.77777777777778,
           8.73015873015873,
           0,
           1
          ],
          [
           "National University of Singapore",
           59.13555992141454,
           23.510150622134905,
           17.354289456450555,
           0,
           1
          ],
          [
           "National Yang Ming Chiao Tung University",
           60,
           18,
           22,
           0,
           1
          ],
          [
           "Naver",
           43.75,
           16.666666666666664,
           39.58333333333333,
           100,
           3
          ],
          [
           "Naver Labs Europe",
           24.528301886792452,
           13.20754716981132,
           62.264150943396224,
           100,
           3
          ],
          [
           "NetEase",
           47.368421052631575,
           34.21052631578947,
           18.421052631578945,
           100,
           2
          ],
          [
           "Netflix",
           58.333333333333336,
           38.88888888888889,
           2.7777777777777777,
           100,
           2
          ],
          [
           "NeuralMagic",
           66.66666666666666,
           33.33333333333333,
           0,
           100,
           2
          ],
          [
           "New Jersey Institute of Technology",
           50,
           36.95652173913043,
           13.043478260869565,
           0,
           4
          ],
          [
           "New York University",
           56.99001426533523,
           24.393723252496432,
           18.61626248216833,
           0,
           1
          ],
          [
           "Noah's Ark Lab",
           87.09677419354838,
           6.451612903225806,
           6.451612903225806,
           100,
           0
          ],
          [
           "North Carolina State University",
           55.3030303030303,
           31.818181818181817,
           12.878787878787879,
           0,
           1
          ],
          [
           "Northeastern University",
           56.14617940199336,
           17.60797342192691,
           26.245847176079735,
           0,
           1
          ],
          [
           "Northwest Polytechnical University",
           75.67567567567568,
           21.62162162162162,
           2.7027027027027026,
           0,
           0
          ],
          [
           "Northwestern Polytechnical University",
           73.91304347826086,
           11.956521739130435,
           14.130434782608695,
           0,
           0
          ],
          [
           "Northwestern University",
           46.34760705289673,
           38.0352644836272,
           15.617128463476071,
           0,
           4
          ],
          [
           "Nvidia",
           56.16438356164384,
           21.91780821917808,
           21.91780821917808,
           100,
           2
          ],
          [
           "Oak Ridge National Laboratory",
           38.46153846153847,
           23.076923076923077,
           38.46153846153847,
           100,
           3
          ],
          [
           "Ohio State University",
           55.39906103286385,
           16.431924882629108,
           28.169014084507044,
           0,
           1
          ],
          [
           "Okinawa Institute of Science and Technology",
           60,
           15,
           25,
           0,
           1
          ],
          [
           "OpenAI",
           48.266666666666666,
           34.13333333333333,
           17.599999999999998,
           100,
           2
          ],
          [
           "Optimized Markets",
           100,
           0,
           0,
           100,
           0
          ],
          [
           "Oregon State University",
           49.079754601226995,
           35.58282208588957,
           15.337423312883436,
           0,
           4
          ],
          [
           "Osaka University",
           71.01449275362319,
           18.84057971014493,
           10.144927536231885,
           0,
           1
          ],
          [
           "PROWLER.io",
           54.347826086956516,
           36.95652173913043,
           8.695652173913043,
           100,
           2
          ],
          [
           "Pacific Northwest National Laboratory",
           64.28571428571429,
           21.428571428571427,
           14.285714285714285,
           92.85714285714286,
           2
          ],
          [
           "Peking University",
           55.94405594405595,
           24.43438914027149,
           19.62155491567256,
           0,
           1
          ],
          [
           "Peng Cheng Laboratory",
           73.52941176470588,
           20.588235294117645,
           5.88235294117647,
           100,
           2
          ],
          [
           "Pennsylvania State University",
           55.63725490196079,
           26.47058823529412,
           17.892156862745097,
           0,
           1
          ],
          [
           "Petuum",
           91.30434782608695,
           8.695652173913043,
           0,
           100,
           0
          ],
          [
           "Petuum Inc.",
           78.57142857142857,
           19.642857142857142,
           1.7857142857142856,
           100,
           2
          ],
          [
           "Pinterest",
           97.82608695652173,
           2.1739130434782608,
           0,
           100,
           0
          ],
          [
           "Pohang University of Science and Technology",
           54.66101694915254,
           29.23728813559322,
           16.101694915254235,
           0,
           1
          ],
          [
           "Polish Academy of Sciences",
           80.95238095238095,
           9.523809523809524,
           9.523809523809524,
           0,
           0
          ],
          [
           "Politecnico di Milano",
           47.54716981132076,
           47.924528301886795,
           4.528301886792453,
           0,
           4
          ],
          [
           "Politecnico di Torino",
           61.904761904761905,
           23.809523809523807,
           14.285714285714285,
           0,
           1
          ],
          [
           "Polytechnique Montréal",
           54.385964912280706,
           14.035087719298245,
           31.57894736842105,
           0,
           1
          ],
          [
           "Pontificia Universidad Católica de Chile",
           72.97297297297297,
           21.62162162162162,
           5.405405405405405,
           0,
           0
          ],
          [
           "Preferred Networks",
           67.10526315789474,
           21.052631578947366,
           11.842105263157894,
           100,
           2
          ],
          [
           "Prescient Design",
           54.054054054054056,
           21.62162162162162,
           24.324324324324326,
           100,
           2
          ],
          [
           "Princeton University",
           57.37609329446064,
           27.113702623906704,
           15.510204081632653,
           0,
           1
          ],
          [
           "Purdue University",
           58.517555266579976,
           25.8777633289987,
           15.604681404421328,
           0,
           1
          ],
          [
           "Qualcomm",
           52.509652509652504,
           19.305019305019304,
           28.185328185328185,
           100,
           2
          ],
          [
           "Qualcomm Inc",
           53.57142857142857,
           3.571428571428571,
           42.857142857142854,
           100,
           3
          ],
          [
           "Queen Mary University of London",
           54.83870967741935,
           22.58064516129032,
           22.58064516129032,
           0,
           1
          ],
          [
           "RIKEN",
           44.645340751043115,
           40.47287899860918,
           14.881780250347706,
           0.6954102920723227,
           4
          ],
          [
           "RIKEN AIP",
           68.42105263157895,
           19.548872180451127,
           12.030075187969924,
           0,
           1
          ],
          [
           "RWTH Aachen University",
           41.53846153846154,
           38.46153846153847,
           20,
           0,
           4
          ],
          [
           "Radboud University",
           78.66666666666666,
           12,
           9.333333333333334,
           0,
           0
          ],
          [
           "Renmin University of China",
           59.56284153005464,
           20.21857923497268,
           20.21857923497268,
           0,
           1
          ],
          [
           "Rensselaer Polytechnic Institute",
           58.235294117647065,
           29.411764705882355,
           12.352941176470589,
           0,
           1
          ],
          [
           "Rheinisch Westfälische Technische Hochschule Aachen",
           34.78260869565217,
           39.130434782608695,
           26.08695652173913,
           0,
           4
          ],
          [
           "Rice University",
           44.23480083857442,
           35.22012578616352,
           20.545073375262053,
           0,
           4
          ],
          [
           "Robert Bosch GmbH",
           57.692307692307686,
           30.76923076923077,
           11.538461538461538,
           100,
           2
          ],
          [
           "Roche",
           71.42857142857143,
           14.285714285714285,
           14.285714285714285,
           100,
           2
          ],
          [
           "Rochester Institute of Technology",
           48.55072463768116,
           26.08695652173913,
           25.36231884057971,
           0,
           1
          ],
          [
           "Rutgers University",
           57.95724465558195,
           27.55344418052256,
           14.489311163895488,
           0,
           1
          ],
          [
           "Saarland University",
           52.13675213675214,
           25.64102564102564,
           22.22222222222222,
           0,
           1
          ],
          [
           "Salesforce",
           40.13377926421405,
           19.39799331103679,
           40.468227424749166,
           100,
           3
          ],
          [
           "Samsung",
           52.32558139534884,
           27.209302325581397,
           20.46511627906977,
           100,
           2
          ],
          [
           "Samsung Electronics",
           60.86956521739131,
           34.78260869565217,
           4.3478260869565215,
           100,
           2
          ],
          [
           "Sapienza University of Rome",
           62.13592233009708,
           19.41747572815534,
           18.446601941747574,
           0,
           1
          ],
          [
           "Scale AI",
           81.81818181818183,
           18.181818181818183,
           0,
           100,
           2
          ],
          [
           "Sea AI Lab",
           44.9438202247191,
           21.34831460674157,
           33.70786516853933,
           100,
           3
          ],
          [
           "SenseTime",
           48.93617021276596,
           14.893617021276595,
           36.17021276595745,
           100,
           3
          ],
          [
           "Sensetime",
           49.23076923076923,
           9.230769230769232,
           41.53846153846154,
           100,
           3
          ],
          [
           "Seoul National University",
           49.53379953379953,
           30.65268065268065,
           19.813519813519815,
           0,
           1
          ],
          [
           "ServiceNow",
           46.875,
           21.875,
           31.25,
           100,
           2
          ],
          [
           "Shandong University",
           67.05882352941175,
           23.52941176470588,
           9.411764705882353,
           0,
           1
          ],
          [
           "Shanghai AI Lab",
           64.36781609195403,
           20.689655172413794,
           14.942528735632186,
           100,
           2
          ],
          [
           "Shanghai AI Laboratory",
           60.1123595505618,
           16.853932584269664,
           23.03370786516854,
           99.43820224719101,
           2
          ],
          [
           "Shanghai Artificial Intelligence Laboratory",
           52.58620689655172,
           20.689655172413794,
           26.72413793103448,
           99.13793103448276,
           2
          ],
          [
           "Shanghai Jiao Tong University",
           52.93434049970948,
           24.2300987797792,
           22.83556072051133,
           0,
           1
          ],
          [
           "Shanghai Qi Zhi Institute",
           20,
           8.571428571428571,
           71.42857142857143,
           0,
           3
          ],
          [
           "Shanghai University",
           68.18181818181817,
           22.727272727272727,
           9.090909090909092,
           0,
           1
          ],
          [
           "Shanghai University of Finance and Economics",
           59.09090909090909,
           35.22727272727273,
           5.681818181818182,
           0,
           4
          ],
          [
           "ShanghaiTech University",
           65.89595375722543,
           15.606936416184972,
           18.497109826589593,
           0,
           1
          ],
          [
           "Shannon.AI",
           69.56521739130434,
           21.73913043478261,
           8.695652173913043,
           100,
           2
          ],
          [
           "Shanxi University",
           48.38709677419355,
           51.61290322580645,
           0,
           0,
           4
          ],
          [
           "Sharif University of Technology",
           56.97674418604651,
           30.23255813953488,
           12.790697674418606,
           0,
           1
          ],
          [
           "Shenzhen Institutes of Advanced Technology",
           75.28089887640449,
           7.865168539325842,
           16.853932584269664,
           0,
           0
          ],
          [
           "Shenzhen Research Institute of Big Data",
           71.7948717948718,
           7.6923076923076925,
           20.51282051282051,
           100,
           2
          ],
          [
           "Shenzhen University",
           92.7710843373494,
           4.819277108433735,
           2.4096385542168677,
           0,
           0
          ],
          [
           "Sichuan University",
           50,
           36.80555555555556,
           13.194444444444445,
           0,
           4
          ],
          [
           "Siemens",
           66.66666666666666,
           16.666666666666664,
           16.666666666666664,
           100,
           2
          ],
          [
           "Simon Fraser University",
           64.74358974358975,
           16.025641025641026,
           19.230769230769234,
           0,
           1
          ],
          [
           "Simons Foundation",
           76.47058823529412,
           14.705882352941178,
           8.823529411764707,
           70.58823529411765,
           0
          ],
          [
           "Singapore Management University",
           65,
           16.428571428571427,
           18.571428571428573,
           0,
           1
          ],
          [
           "Singapore University of Technology and Design",
           59.854014598540154,
           26.277372262773724,
           13.86861313868613,
           0,
           1
          ],
          [
           "Skolkovo Institute of Science and Technology",
           51.449275362318836,
           22.463768115942027,
           26.08695652173913,
           0,
           1
          ],
          [
           "Skoltech",
           52.5,
           27.500000000000004,
           20,
           0,
           1
          ],
          [
           "Snap Inc.",
           52.142857142857146,
           14.285714285714285,
           33.57142857142857,
           100,
           3
          ],
          [
           "Sony",
           51.87500000000001,
           28.125,
           20,
           100,
           2
          ],
          [
           "Sony Group Corporation",
           22.857142857142858,
           51.42857142857142,
           25.71428571428571,
           100,
           4
          ],
          [
           "Soochow University",
           67.74193548387096,
           16.129032258064516,
           16.129032258064516,
           0,
           1
          ],
          [
           "Sorbonne University",
           61.94690265486725,
           16.8141592920354,
           21.238938053097346,
           0,
           1
          ],
          [
           "Sorbonne Université",
           57.52212389380531,
           25.663716814159294,
           16.8141592920354,
           0,
           1
          ],
          [
           "South China University of Technology",
           67.91666666666667,
           20,
           12.083333333333334,
           0,
           1
          ],
          [
           "Southeast University",
           57.79467680608364,
           30.798479087452474,
           11.406844106463879,
           0,
           1
          ],
          [
           "Southern University of Science and Technology",
           56.849315068493155,
           26.027397260273972,
           17.123287671232877,
           0,
           1
          ],
          [
           "Spotify",
           70.27027027027027,
           18.91891891891892,
           10.81081081081081,
           100,
           2
          ],
          [
           "Stability AI",
           36.36363636363637,
           36.36363636363637,
           27.27272727272727,
           100,
           2
          ],
          [
           "Stanford University",
           58.921694480102694,
           22.999572100984167,
           18.07873341891314,
           0,
           1
          ],
          [
           "State University of New York at Albany",
           69.76744186046511,
           27.906976744186046,
           2.3255813953488373,
           0,
           1
          ],
          [
           "State University of New York at Buffalo",
           47.15447154471545,
           25.203252032520325,
           27.64227642276423,
           0,
           1
          ],
          [
           "State University of New York, Stony Brook",
           57.14285714285714,
           0,
           42.857142857142854,
           0,
           3
          ],
          [
           "Stevens Institute of Technology",
           59.210526315789465,
           34.21052631578947,
           6.578947368421052,
           0,
           4
          ],
          [
           "Stony Brook University",
           65.94202898550725,
           17.391304347826086,
           16.666666666666664,
           0,
           1
          ],
          [
           "Strategy Robot",
           100,
           0,
           0,
           100,
           0
          ],
          [
           "Sun Yat-Sen University",
           79.06976744186046,
           20.930232558139537,
           0,
           0,
           0
          ],
          [
           "Sun Yat-sen University",
           64.97326203208557,
           18.983957219251337,
           16.0427807486631,
           0,
           1
          ],
          [
           "Sungkyunkwan University",
           62.7906976744186,
           22.093023255813954,
           15.11627906976744,
           0,
           1
          ],
          [
           "Swiss AI Lab",
           52.17391304347826,
           43.47826086956522,
           4.3478260869565215,
           47.82608695652174,
           4
          ],
          [
           "Swiss Federal Institute of Technology",
           37.117903930131,
           8.73362445414847,
           54.14847161572053,
           0,
           3
          ],
          [
           "Swiss Federal Institute of Technology Lausanne",
           61.66666666666667,
           5.833333333333333,
           32.5,
           0,
           1
          ],
          [
           "Syracuse University",
           58.69565217391305,
           30.434782608695656,
           10.869565217391305,
           0,
           1
          ],
          [
           "TTI-Chicago",
           95.34883720930233,
           4.651162790697675,
           0,
           0,
           0
          ],
          [
           "Technical University of Berlin",
           61.904761904761905,
           19.047619047619047,
           19.047619047619047,
           0,
           1
          ],
          [
           "Technical University of Darmstadt",
           50,
           29.166666666666668,
           20.833333333333336,
           0,
           1
          ],
          [
           "Technical University of Denmark",
           63.1578947368421,
           19.883040935672515,
           16.95906432748538,
           0,
           1
          ],
          [
           "Technical University of Munich",
           57.231404958677686,
           25,
           17.768595041322314,
           0,
           1
          ],
          [
           "Technion - Israel Institute of Technology",
           52.53456221198156,
           30.52995391705069,
           16.93548387096774,
           0,
           1
          ],
          [
           "Technische Universität Berlin",
           63.34661354581673,
           25.89641434262948,
           10.756972111553784,
           0,
           1
          ],
          [
           "Technische Universität Darmstadt",
           52.84552845528455,
           24.390243902439025,
           22.76422764227642,
           0,
           1
          ],
          [
           "Technische Universität Dortmund",
           46,
           36,
           18,
           0,
           4
          ],
          [
           "Technische Universität Dresden",
           54.54545454545454,
           30.303030303030305,
           15.151515151515152,
           0,
           1
          ],
          [
           "Technische Universität Kaiserslautern",
           51.724137931034484,
           34.48275862068966,
           13.793103448275861,
           0,
           4
          ],
          [
           "Technische Universität München",
           58.59375,
           17.96875,
           23.4375,
           0,
           1
          ],
          [
           "Tel Aviv University",
           48.57142857142857,
           34.66666666666667,
           16.761904761904763,
           0,
           4
          ],
          [
           "Telecom Paris",
           53.48837209302325,
           27.906976744186046,
           18.6046511627907,
           0,
           1
          ],
          [
           "Telecom ParisTech",
           71.9298245614035,
           28.07017543859649,
           0,
           0,
           1
          ],
          [
           "Temple University",
           57.14285714285714,
           28.57142857142857,
           14.285714285714285,
           0,
           1
          ],
          [
           "Tencent",
           59.15627996164909,
           17.545541706615534,
           23.29817833173538,
           100,
           2
          ],
          [
           "Texas A&M University",
           51.40845070422535,
           30.633802816901408,
           17.95774647887324,
           0,
           1
          ],
          [
           "The Alan Turing Institute",
           57.47126436781609,
           35.63218390804598,
           6.896551724137931,
           0,
           4
          ],
          [
           "The Australian National University",
           61.904761904761905,
           28.57142857142857,
           9.523809523809524,
           0,
           1
          ],
          [
           "The Chinese University of Hong Kong",
           65.53738317757009,
           13.434579439252337,
           21.02803738317757,
           0,
           1
          ],
          [
           "The Chinese University of Hong Kong, Shenzhen",
           59.3607305936073,
           19.63470319634703,
           21.00456621004566,
           0,
           1
          ],
          [
           "The Hebrew University of Jerusalem",
           66.66666666666666,
           17.647058823529413,
           15.686274509803921,
           0,
           1
          ],
          [
           "The Hong Kong Polytechnic University",
           61.67664670658682,
           25.149700598802394,
           13.17365269461078,
           0,
           1
          ],
          [
           "The Hong Kong University of Science and Technology",
           60.33057851239669,
           17.63085399449036,
           22.03856749311295,
           0,
           1
          ],
          [
           "The Ohio State University",
           58.536585365853654,
           27.235772357723576,
           14.227642276422763,
           0,
           1
          ],
          [
           "The University of Hong Kong",
           48.91041162227603,
           26.150121065375302,
           24.93946731234867,
           0,
           1
          ],
          [
           "The University of Tokyo",
           47.18875502008032,
           31.92771084337349,
           20.883534136546185,
           0,
           4
          ],
          [
           "Tianjin University",
           60.858585858585855,
           25.5050505050505,
           13.636363636363635,
           0,
           1
          ],
          [
           "TikTok",
           93.54838709677419,
           6.451612903225806,
           0,
           100,
           0
          ],
          [
           "Together AI",
           83.33333333333334,
           12.5,
           4.166666666666666,
           100,
           0
          ],
          [
           "Tokyo Institute of Technology",
           51.45631067961165,
           32.038834951456316,
           16.50485436893204,
           0,
           1
          ],
          [
           "Tongji University",
           73.68421052631578,
           15.789473684210526,
           10.526315789473683,
           0,
           0
          ],
          [
           "Toyota Research Institute",
           43.90243902439025,
           26.82926829268293,
           29.268292682926827,
           100,
           2
          ],
          [
           "Toyota Technological Institute at Chicago",
           54.78260869565217,
           30.434782608695656,
           14.782608695652174,
           0,
           1
          ],
          [
           "Tsinghua University",
           53.13012895662368,
           23.821805392731534,
           23.048065650644784,
           0,
           1
          ],
          [
           "Tufts University",
           46.15384615384615,
           42.30769230769231,
           11.538461538461538,
           0,
           4
          ],
          [
           "Twitter",
           53.333333333333336,
           25.333333333333336,
           21.333333333333336,
           100,
           2
          ],
          [
           "Télécom Paris",
           56.36363636363636,
           32.72727272727273,
           10.909090909090908,
           0,
           1
          ],
          [
           "Télécom ParisTech",
           66.0377358490566,
           28.30188679245283,
           5.660377358490567,
           0,
           1
          ],
          [
           "Tübingen AI Center",
           65,
           20,
           15,
           0,
           1
          ],
          [
           "Uber",
           49.056603773584904,
           42.138364779874216,
           8.80503144654088,
           100,
           2
          ],
          [
           "Ulsan National Institute of Science and Technology",
           43.28358208955223,
           38.80597014925373,
           17.91044776119403,
           0,
           4
          ],
          [
           "Universidad Carlos III de Madrid",
           77.27272727272727,
           18.181818181818183,
           4.545454545454546,
           0,
           0
          ],
          [
           "Universitat Pompeu Fabra",
           64.0625,
           21.875,
           14.0625,
           0,
           1
          ],
          [
           "University College London",
           66.04303086997194,
           20.018709073900844,
           13.938260056127222,
           0,
           1
          ],
          [
           "University at Buffalo",
           79.54545454545455,
           15.909090909090908,
           4.545454545454546,
           0,
           0
          ],
          [
           "University at Buffalo, SUNY",
           45.83333333333333,
           20.833333333333336,
           33.33333333333333,
           0,
           3
          ],
          [
           "University of Adelaide",
           80.89887640449437,
           11.235955056179774,
           7.865168539325842,
           0,
           0
          ],
          [
           "University of Alberta",
           56.132075471698116,
           25.943396226415093,
           17.92452830188679,
           0,
           1
          ],
          [
           "University of Amsterdam",
           54.55904334828101,
           21.524663677130047,
           23.916292974588938,
           0,
           1
          ],
          [
           "University of Arizona",
           62.637362637362635,
           31.868131868131865,
           5.4945054945054945,
           0,
           1
          ],
          [
           "University of Arkansas",
           100,
           0,
           0,
           0,
           0
          ],
          [
           "University of Auckland",
           61.904761904761905,
           38.095238095238095,
           0,
           0,
           4
          ],
          [
           "University of Basel",
           60.60606060606061,
           12.121212121212121,
           27.27272727272727,
           0,
           1
          ],
          [
           "University of Bath",
           62.22222222222222,
           35.55555555555556,
           2.2222222222222223,
           0,
           4
          ],
          [
           "University of Bern",
           92.85714285714286,
           3.571428571428571,
           3.571428571428571,
           0,
           0
          ],
          [
           "University of Birmingham",
           72.72727272727273,
           20,
           7.2727272727272725,
           0,
           0
          ],
          [
           "University of Bologna",
           52.94117647058824,
           17.647058823529413,
           29.411764705882355,
           0,
           1
          ],
          [
           "University of Bonn",
           62.5,
           16.666666666666664,
           20.833333333333336,
           0,
           1
          ],
          [
           "University of Bristol",
           60.416666666666664,
           24.305555555555554,
           15.277777777777779,
           0,
           1
          ],
          [
           "University of British Columbia",
           58.40163934426229,
           23.770491803278688,
           17.827868852459016,
           0,
           1
          ],
          [
           "University of California, Berkeley",
           52.94439879485072,
           27.58148452478773,
           19.474116680361544,
           0,
           1
          ],
          [
           "University of California, Davis",
           56.21621621621622,
           28.10810810810811,
           15.675675675675677,
           0,
           1
          ],
          [
           "University of California, Irvine",
           64.62395543175488,
           20.334261838440113,
           15.041782729805014,
           0,
           1
          ],
          [
           "University of California, Los Angeles",
           53.377166766288106,
           26.658696951583984,
           19.964136282127914,
           0,
           1
          ],
          [
           "University of California, Merced",
           70.2127659574468,
           12.76595744680851,
           17.02127659574468,
           0,
           1
          ],
          [
           "University of California, Riverside",
           62.38532110091744,
           23.853211009174313,
           13.761467889908257,
           0,
           1
          ],
          [
           "University of California, San Diego",
           56.71514114627887,
           26.77502138579983,
           16.5098374679213,
           0,
           1
          ],
          [
           "University of California, San Francisco",
           58.536585365853654,
           4.878048780487805,
           36.58536585365854,
           0,
           3
          ],
          [
           "University of California, Santa Barbara",
           50.47169811320755,
           26.179245283018872,
           23.349056603773587,
           0,
           1
          ],
          [
           "University of California, Santa Cruz",
           49.321266968325794,
           24.43438914027149,
           26.244343891402718,
           0,
           1
          ],
          [
           "University of Cambridge",
           55.58510638297872,
           23.470744680851062,
           20.944148936170212,
           0,
           1
          ],
          [
           "University of Central Florida",
           56.48854961832062,
           19.083969465648856,
           24.427480916030532,
           0,
           1
          ],
          [
           "University of Chicago",
           58.26446280991735,
           27.892561983471076,
           13.842975206611571,
           0,
           1
          ],
          [
           "University of Chinese Academy of Sciences",
           63.725490196078425,
           20.098039215686274,
           16.176470588235293,
           0,
           1
          ],
          [
           "University of Colorado",
           81.81818181818183,
           13.636363636363635,
           4.545454545454546,
           0,
           0
          ],
          [
           "University of Colorado Boulder",
           77.77777777777779,
           14.444444444444443,
           7.777777777777778,
           0,
           0
          ],
          [
           "University of Connecticut",
           58.44155844155844,
           31.16883116883117,
           10.38961038961039,
           0,
           1
          ],
          [
           "University of Copenhagen",
           65.44502617801047,
           23.036649214659686,
           11.518324607329843,
           0,
           1
          ],
          [
           "University of Delaware",
           70,
           13.333333333333334,
           16.666666666666664,
           0,
           1
          ],
          [
           "University of Edinburgh",
           51.37931034482759,
           25.689655172413794,
           22.93103448275862,
           0,
           1
          ],
          [
           "University of Electronic Science and Technology of China",
           65.625,
           20.48611111111111,
           13.88888888888889,
           0,
           1
          ],
          [
           "University of Exeter",
           83.33333333333334,
           4.166666666666666,
           12.5,
           0,
           0
          ],
          [
           "University of Florida",
           65.3061224489796,
           25.510204081632654,
           9.183673469387756,
           0,
           1
          ],
          [
           "University of Freiburg",
           56.41025641025641,
           20.51282051282051,
           23.076923076923077,
           0,
           1
          ],
          [
           "University of Geneva",
           69.01408450704226,
           18.30985915492958,
           12.676056338028168,
           0,
           1
          ],
          [
           "University of Genoa",
           78.57142857142857,
           17.857142857142858,
           3.571428571428571,
           0,
           0
          ],
          [
           "University of Genova",
           100,
           0,
           0,
           0,
           0
          ],
          [
           "University of Georgia",
           63.85542168674698,
           18.072289156626507,
           18.072289156626507,
           0,
           1
          ],
          [
           "University of Glasgow",
           89.13043478260869,
           4.3478260869565215,
           6.521739130434782,
           0,
           0
          ],
          [
           "University of Guelph",
           69.76744186046511,
           4.651162790697675,
           25.581395348837212,
           0,
           1
          ],
          [
           "University of Haifa",
           58.82352941176471,
           31.372549019607842,
           9.803921568627452,
           0,
           1
          ],
          [
           "University of Helsinki",
           77.17391304347827,
           17.391304347826086,
           5.434782608695652,
           0,
           0
          ],
          [
           "University of Hong Kong",
           56.84210526315789,
           15.789473684210526,
           27.368421052631582,
           0,
           1
          ],
          [
           "University of Illinois",
           62.06896551724138,
           27.586206896551722,
           10.344827586206897,
           0,
           1
          ],
          [
           "University of Illinois Urbana-Champaign",
           58.964143426294825,
           24.701195219123505,
           16.334661354581673,
           0,
           1
          ],
          [
           "University of Illinois at Chicago",
           63.58695652173913,
           28.26086956521739,
           8.152173913043478,
           0,
           1
          ],
          [
           "University of Illinois at Urbana-Champaign",
           53.76737381126554,
           25.53035844915874,
           20.702267739575714,
           0,
           1
          ],
          [
           "University of Iowa",
           48.201438848920866,
           47.482014388489205,
           4.316546762589928,
           0,
           4
          ],
          [
           "University of Konstanz",
           47.82608695652174,
           34.78260869565217,
           17.391304347826086,
           0,
           4
          ],
          [
           "University of Liverpool",
           54.166666666666664,
           35.41666666666667,
           10.416666666666668,
           0,
           4
          ],
          [
           "University of Ljubljana",
           95,
           0,
           5,
           0,
           0
          ],
          [
           "University of London",
           58.46153846153847,
           15.384615384615385,
           26.153846153846157,
           0,
           1
          ],
          [
           "University of Luxembourg",
           62.7906976744186,
           23.25581395348837,
           13.953488372093023,
           0,
           1
          ],
          [
           "University of Macau",
           64.51612903225806,
           22.58064516129032,
           12.903225806451612,
           0,
           1
          ],
          [
           "University of Manchester",
           60.60606060606061,
           28.28282828282828,
           11.11111111111111,
           0,
           1
          ],
          [
           "University of Mannheim",
           57.14285714285714,
           4.761904761904762,
           38.095238095238095,
           0,
           3
          ],
          [
           "University of Maryland",
           55.84158415841585,
           29.108910891089106,
           15.049504950495049,
           0,
           1
          ],
          [
           "University of Maryland, Baltimore County",
           76,
           16,
           8,
           0,
           0
          ],
          [
           "University of Maryland, College Park",
           45.48148148148148,
           21.62962962962963,
           32.88888888888889,
           0,
           3
          ],
          [
           "University of Massachusetts",
           55.26315789473685,
           34.21052631578947,
           10.526315789473683,
           0,
           4
          ],
          [
           "University of Massachusetts Amherst",
           59.80582524271845,
           26.601941747572816,
           13.592233009708737,
           0,
           1
          ],
          [
           "University of Massachusetts, Amherst",
           33.33333333333333,
           8.333333333333332,
           58.333333333333336,
           0,
           3
          ],
          [
           "University of Melbourne",
           54.58715596330275,
           27.981651376146786,
           17.431192660550458,
           0,
           1
          ],
          [
           "University of Michigan",
           64.13155190133607,
           22.61048304213772,
           13.257965056526208,
           0,
           1
          ],
          [
           "University of Michigan, Ann Arbor",
           45.45454545454545,
           22.727272727272727,
           31.818181818181817,
           0,
           3
          ],
          [
           "University of Milan",
           63.63636363636363,
           36.36363636363637,
           0,
           0,
           4
          ],
          [
           "University of Minnesota",
           55.434782608695656,
           30.07246376811594,
           14.492753623188406,
           0,
           1
          ],
          [
           "University of Minnesota - Twin Cities",
           76.19047619047619,
           14.285714285714285,
           9.523809523809524,
           0,
           0
          ],
          [
           "University of Minnesota, Twin Cities",
           89.1891891891892,
           8.108108108108109,
           2.7027027027027026,
           0,
           0
          ],
          [
           "University of Modena and Reggio Emilia",
           88.57142857142857,
           11.428571428571429,
           0,
           0,
           0
          ],
          [
           "University of New South Wales",
           69.81132075471697,
           17.92452830188679,
           12.264150943396226,
           0,
           1
          ],
          [
           "University of North Carolina at Chapel Hill",
           56.17283950617284,
           27.77777777777778,
           16.049382716049383,
           0,
           1
          ],
          [
           "University of North Carolina at Charlotte",
           86.20689655172413,
           3.4482758620689653,
           10.344827586206897,
           0,
           0
          ],
          [
           "University of North Carolina, Chapel Hill",
           68.18181818181817,
           9.090909090909092,
           22.727272727272727,
           0,
           1
          ],
          [
           "University of Notre Dame",
           50.955414012738856,
           21.656050955414013,
           27.388535031847134,
           0,
           1
          ],
          [
           "University of Nottingham",
           75,
           20.833333333333336,
           4.166666666666666,
           0,
           0
          ],
          [
           "University of Oregon",
           61.76470588235294,
           20.588235294117645,
           17.647058823529413,
           0,
           1
          ],
          [
           "University of Oslo",
           40.54054054054054,
           43.24324324324324,
           16.216216216216218,
           0,
           4
          ],
          [
           "University of Ottawa",
           56.25,
           9.375,
           34.375,
           0,
           3
          ],
          [
           "University of Oxford",
           56.102003642987256,
           27.504553734061933,
           16.39344262295082,
           0,
           1
          ],
          [
           "University of Pennsylvania",
           55.70866141732284,
           28.641732283464567,
           15.649606299212598,
           0,
           1
          ],
          [
           "University of Pisa",
           16,
           48,
           36,
           0,
           4
          ],
          [
           "University of Pittsburgh",
           56.94444444444444,
           25.925925925925924,
           17.12962962962963,
           0,
           1
          ],
          [
           "University of Queensland",
           53.191489361702125,
           26.595744680851062,
           20.212765957446805,
           0,
           1
          ],
          [
           "University of Rochester",
           56.69291338582677,
           20.47244094488189,
           22.83464566929134,
           0,
           1
          ],
          [
           "University of Salzburg",
           54.83870967741935,
           45.16129032258064,
           0,
           0,
           4
          ],
          [
           "University of Science and Technology Beijing",
           70.37037037037037,
           22.22222222222222,
           7.4074074074074066,
           0,
           1
          ],
          [
           "University of Science and Technology of China",
           60.85879438480595,
           20.726672171758878,
           18.414533443435175,
           0,
           1
          ],
          [
           "University of Sheffield",
           79.54545454545455,
           11.363636363636363,
           9.090909090909092,
           0,
           0
          ],
          [
           "University of South Carolina",
           54.166666666666664,
           41.66666666666667,
           4.166666666666666,
           0,
           4
          ],
          [
           "University of Southampton",
           63.1578947368421,
           19.298245614035086,
           17.543859649122805,
           0,
           1
          ],
          [
           "University of Southern California",
           54.32900432900433,
           24.458874458874458,
           21.21212121212121,
           0,
           1
          ],
          [
           "University of Stuttgart",
           54,
           18,
           28.000000000000004,
           0,
           1
          ],
          [
           "University of Surrey",
           43.42105263157895,
           19.736842105263158,
           36.84210526315789,
           0,
           3
          ],
          [
           "University of Sussex",
           73.52941176470588,
           26.47058823529412,
           0,
           0,
           0
          ],
          [
           "University of Sydney",
           52.95238095238095,
           24.761904761904763,
           22.285714285714285,
           0,
           1
          ],
          [
           "University of Technology Sydney",
           54.6875,
           21.875,
           23.4375,
           0,
           1
          ],
          [
           "University of Technology, Sydney",
           100,
           0,
           0,
           0,
           0
          ],
          [
           "University of Texas",
           57.14285714285714,
           42.857142857142854,
           0,
           0,
           4
          ],
          [
           "University of Texas at Arlington",
           72.15189873417721,
           21.518987341772153,
           6.329113924050633,
           0,
           1
          ],
          [
           "University of Texas at Austin",
           56.64556962025317,
           25.58016877637131,
           17.77426160337553,
           0,
           1
          ],
          [
           "University of Texas at Dallas",
           72.32704402515722,
           16.9811320754717,
           10.69182389937107,
           0,
           0
          ],
          [
           "University of Tokyo",
           69.02173913043478,
           18.478260869565215,
           12.5,
           0,
           1
          ],
          [
           "University of Toronto",
           56.48801128349788,
           19.957686882933707,
           23.554301833568406,
           0,
           1
          ],
          [
           "University of Trento",
           65.68627450980392,
           11.76470588235294,
           22.54901960784314,
           0,
           1
          ],
          [
           "University of Tuebingen",
           43.47826086956522,
           21.73913043478261,
           34.78260869565217,
           0,
           3
          ],
          [
           "University of Twente",
           47.5,
           25,
           27.500000000000004,
           0,
           1
          ],
          [
           "University of Tübingen",
           57.11835334476844,
           21.955403087478558,
           20.926243567753,
           0,
           1
          ],
          [
           "University of Utah",
           42.924528301886795,
           38.67924528301887,
           18.39622641509434,
           0,
           4
          ],
          [
           "University of Vienna",
           54.83870967741935,
           38.70967741935484,
           6.451612903225806,
           0,
           4
          ],
          [
           "University of Virginia",
           49.84709480122324,
           36.08562691131498,
           14.067278287461773,
           0,
           4
          ],
          [
           "University of Warsaw",
           50.98039215686274,
           39.21568627450981,
           9.803921568627452,
           0,
           4
          ],
          [
           "University of Warwick",
           69.86301369863014,
           23.28767123287671,
           6.8493150684931505,
           0,
           1
          ],
          [
           "University of Washington",
           64.01985111662532,
           18.424317617866002,
           17.555831265508683,
           0,
           1
          ],
          [
           "University of Waterloo",
           55.44303797468354,
           25.569620253164555,
           18.9873417721519,
           0,
           1
          ],
          [
           "University of Western Ontario",
           55.00000000000001,
           20,
           25,
           0,
           1
          ],
          [
           "University of Wisconsin",
           71.42857142857143,
           28.57142857142857,
           0,
           0,
           1
          ],
          [
           "University of Wisconsin - Madison",
           61.30952380952381,
           22.023809523809522,
           16.666666666666664,
           0,
           1
          ],
          [
           "University of Wisconsin, Madison",
           48.31460674157304,
           15.168539325842698,
           36.51685393258427,
           0,
           3
          ],
          [
           "University of Wisconsin-Madison",
           57.467532467532465,
           35.064935064935064,
           7.467532467532467,
           0,
           4
          ],
          [
           "University of Wisconsin–Madison",
           63.70967741935484,
           29.838709677419356,
           6.451612903225806,
           0,
           1
          ],
          [
           "University of Zurich",
           63.63636363636363,
           23.636363636363637,
           12.727272727272727,
           0,
           1
          ],
          [
           "University of the Basque Country",
           45,
           25,
           30,
           0,
           1
          ],
          [
           "University of the Chinese Academy of Sciences",
           61.76470588235294,
           18.627450980392158,
           19.607843137254903,
           0,
           1
          ],
          [
           "University of the Witwatersrand",
           36.36363636363637,
           18.181818181818183,
           45.45454545454545,
           0,
           3
          ],
          [
           "Università Bocconi",
           30.555555555555557,
           44.44444444444444,
           25,
           0,
           4
          ],
          [
           "Università degli Studi di Milano",
           90.47619047619048,
           9.523809523809524,
           0,
           0,
           0
          ],
          [
           "Università della Svizzera italiana",
           55.55555555555556,
           7.936507936507936,
           36.507936507936506,
           0,
           3
          ],
          [
           "Universität Potsdam",
           80.95238095238095,
           19.047619047619047,
           0,
           0,
           0
          ],
          [
           "Université Côte d'Azur",
           35,
           47.5,
           17.5,
           0,
           4
          ],
          [
           "Université Grenoble Alpes",
           46.51162790697674,
           51.162790697674424,
           2.3255813953488373,
           0,
           4
          ],
          [
           "Université Gustave Eiffel",
           60,
           30,
           10,
           0,
           1
          ],
          [
           "Université Laval",
           76.19047619047619,
           19.047619047619047,
           4.761904761904762,
           0,
           0
          ],
          [
           "Université Paris-Dauphine",
           51.724137931034484,
           37.93103448275862,
           10.344827586206897,
           0,
           4
          ],
          [
           "Université Paris-Saclay",
           64,
           24,
           12,
           0,
           1
          ],
          [
           "Université Pierre et Marie Curie",
           61.904761904761905,
           23.809523809523807,
           14.285714285714285,
           0,
           1
          ],
          [
           "Université catholique de Louvain",
           51.61290322580645,
           38.70967741935484,
           9.67741935483871,
           0,
           4
          ],
          [
           "Université de Lille",
           44,
           36,
           20,
           0,
           4
          ],
          [
           "Université de Montréal",
           43.154761904761905,
           21.03174603174603,
           35.81349206349206,
           0,
           3
          ],
          [
           "Uppsala University",
           62.31884057971014,
           24.637681159420293,
           13.043478260869565,
           0,
           1
          ],
          [
           "Vanderbilt University",
           59.77011494252874,
           22.988505747126435,
           17.24137931034483,
           0,
           1
          ],
          [
           "Vector Institute",
           54.63659147869674,
           26.81704260651629,
           18.546365914786968,
           0,
           1
          ],
          [
           "Vienna University of Technology",
           47.91666666666667,
           43.75,
           8.333333333333332,
           0,
           4
          ],
          [
           "VinAI Research",
           47.45762711864407,
           37.28813559322034,
           15.254237288135593,
           100,
           2
          ],
          [
           "Virginia Polytechnic Institute and State University",
           58.854166666666664,
           18.229166666666664,
           22.916666666666664,
           0,
           1
          ],
          [
           "Visa",
           43.333333333333336,
           20,
           36.666666666666664,
           100,
           3
          ],
          [
           "Volkswagen Group",
           61.904761904761905,
           23.809523809523807,
           14.285714285714285,
           100,
           2
          ],
          [
           "Vrije Universiteit Amsterdam",
           62.5,
           12.5,
           25,
           0,
           1
          ],
          [
           "Vrije Universiteit Brussel",
           24.137931034482758,
           55.172413793103445,
           20.689655172413794,
           0,
           4
          ],
          [
           "Walmart",
           43.333333333333336,
           30,
           26.666666666666668,
           100,
           2
          ],
          [
           "Warsaw University of Technology",
           51.724137931034484,
           37.93103448275862,
           10.344827586206897,
           0,
           4
          ],
          [
           "Washington State University",
           62.5,
           27.500000000000004,
           10,
           0,
           1
          ],
          [
           "Washington University in St. Louis",
           65.61085972850678,
           18.099547511312217,
           16.289592760180994,
           0,
           1
          ],
          [
           "Waymo",
           74.57627118644068,
           6.779661016949152,
           18.64406779661017,
           100,
           2
          ],
          [
           "Wayne State University",
           64.1025641025641,
           25.64102564102564,
           10.256410256410255,
           0,
           1
          ],
          [
           "Weizmann Institute of Science",
           59.375,
           27.083333333333332,
           13.541666666666666,
           0,
           1
          ],
          [
           "Westlake University",
           49.25373134328358,
           25.07462686567164,
           25.671641791044774,
           0,
           1
          ],
          [
           "Worcester Polytechnic Institute",
           73.80952380952381,
           14.285714285714285,
           11.904761904761903,
           0,
           0
          ],
          [
           "Wroclaw University of Science and Technology",
           95.83333333333334,
           4.166666666666666,
           0,
           0,
           0
          ],
          [
           "Wuhan University",
           61.97718631178707,
           22.813688212927758,
           15.209125475285171,
           0,
           1
          ],
          [
           "Xi'an Jiaotong University",
           67.52873563218391,
           22.413793103448278,
           10.057471264367816,
           0,
           1
          ],
          [
           "Xi'an University of Electronic Science and Technology",
           65.38461538461539,
           19.230769230769234,
           15.384615384615385,
           0,
           1
          ],
          [
           "Xiamen University",
           62.36933797909408,
           26.82926829268293,
           10.801393728222997,
           0,
           1
          ],
          [
           "Xiaomi",
           69.6969696969697,
           3.0303030303030303,
           27.27272727272727,
           100,
           2
          ],
          [
           "Xidian University",
           64,
           27.333333333333332,
           8.666666666666668,
           0,
           1
          ],
          [
           "Yahoo",
           69.81132075471697,
           22.641509433962266,
           7.547169811320755,
           100,
           2
          ],
          [
           "Yahoo!",
           88.23529411764706,
           11.76470588235294,
           0,
           100,
           0
          ],
          [
           "Yale University",
           52.97029702970298,
           31.51815181518152,
           15.51155115511551,
           0,
           1
          ],
          [
           "Yandex",
           55.333333333333336,
           30.666666666666664,
           14.000000000000002,
           100,
           2
          ],
          [
           "Yonsei University",
           48.837209302325576,
           23.837209302325583,
           27.325581395348834,
           0,
           1
          ],
          [
           "York University",
           59.09090909090909,
           13.636363636363635,
           27.27272727272727,
           0,
           1
          ],
          [
           "Zhejiang Lab",
           75.75757575757575,
           24.242424242424242,
           0,
           100,
           2
          ],
          [
           "Zhejiang University",
           62.15722120658135,
           20.2315661182206,
           17.61121267519805,
           0,
           1
          ],
          [
           "Zhejiang University of Technology",
           60,
           8,
           32,
           0,
           1
          ],
          [
           "Zuse Institute Berlin",
           33.33333333333333,
           46.666666666666664,
           20,
           0,
           4
          ],
          [
           "École Normale Supérieure",
           67.3521850899743,
           23.90745501285347,
           8.740359897172237,
           0,
           1
          ],
          [
           "École Normale Supérieure Paris-Saclay",
           63.49206349206349,
           31.746031746031743,
           4.761904761904762,
           0,
           1
          ],
          [
           "École Normale Supérieure de Lyon",
           72.97297297297297,
           16.216216216216218,
           10.81081081081081,
           0,
           0
          ],
          [
           "École Normale Supérieure de Paris",
           30,
           35,
           35,
           0,
           3
          ],
          [
           "École Polytechnique",
           59.471365638766514,
           30.837004405286343,
           9.691629955947137,
           0,
           1
          ],
          [
           "École Polytechnique Fédérale de Lausanne",
           58.333333333333336,
           33.41503267973856,
           8.251633986928104,
           0,
           1
          ],
          [
           "École Polytechnique de Montréal",
           23.076923076923077,
           42.30769230769231,
           34.61538461538461,
           0,
           4
          ],
          [
           "École de technologie supérieure",
           76.92307692307693,
           19.230769230769234,
           3.8461538461538463,
           0,
           0
          ],
          [
           "École des Ponts ParisTech",
           62.5,
           22.916666666666664,
           14.583333333333334,
           0,
           1
          ]
         ],
         "hovertemplate": "PCA1=%{x}<br>PCA2=%{y}<br>Institution=%{customdata[0]}<br>pct_neurips=%{customdata[1]:.1f}<br>pct_icml=%{customdata[2]:.1f}<br>pct_iclr=%{customdata[3]:.1f}<br>pct_industry=%{customdata[4]:.1f}<br>Cluster ID=%{marker.color}<extra></extra>",
         "legendgroup": "",
         "marker": {
          "color": {
           "bdata": "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",
           "dtype": "i4"
          },
          "coloraxis": "coloraxis",
          "symbol": "circle"
         },
         "mode": "markers",
         "name": "",
         "orientation": "v",
         "showlegend": false,
         "type": "scatter",
         "x": {
          "bdata": "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",
          "dtype": "f8"
         },
         "xaxis": "x",
         "y": {
          "bdata": "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",
          "dtype": "f8"
         },
         "yaxis": "y"
        }
       ],
       "layout": {
        "coloraxis": {
         "colorbar": {
          "title": {
           "text": "Cluster ID"
          }
         },
         "colorscale": [
          [
           0,
           "rgb(229, 134, 6)"
          ],
          [
           0.1,
           "rgb(93, 105, 177)"
          ],
          [
           0.2,
           "rgb(82, 188, 163)"
          ],
          [
           0.3,
           "rgb(153, 201, 69)"
          ],
          [
           0.4,
           "rgb(204, 97, 176)"
          ],
          [
           0.5,
           "rgb(36, 121, 108)"
          ],
          [
           0.6,
           "rgb(218, 165, 27)"
          ],
          [
           0.7,
           "rgb(47, 138, 196)"
          ],
          [
           0.8,
           "rgb(118, 78, 159)"
          ],
          [
           0.9,
           "rgb(237, 100, 90)"
          ],
          [
           1,
           "rgb(165, 170, 153)"
          ]
         ],
         "showscale": false
        },
        "legend": {
         "tracegroupgap": 0
        },
        "template": {
         "data": {
          "bar": [
           {
            "error_x": {
             "color": "#2a3f5f"
            },
            "error_y": {
             "color": "#2a3f5f"
            },
            "marker": {
             "line": {
              "color": "white",
              "width": 0.5
             },
             "pattern": {
              "fillmode": "overlay",
              "size": 10,
              "solidity": 0.2
             }
            },
            "type": "bar"
           }
          ],
          "barpolar": [
           {
            "marker": {
             "line": {
              "color": "white",
              "width": 0.5
             },
             "pattern": {
              "fillmode": "overlay",
              "size": 10,
              "solidity": 0.2
             }
            },
            "type": "barpolar"
           }
          ],
          "carpet": [
           {
            "aaxis": {
             "endlinecolor": "#2a3f5f",
             "gridcolor": "#C8D4E3",
             "linecolor": "#C8D4E3",
             "minorgridcolor": "#C8D4E3",
             "startlinecolor": "#2a3f5f"
            },
            "baxis": {
             "endlinecolor": "#2a3f5f",
             "gridcolor": "#C8D4E3",
             "linecolor": "#C8D4E3",
             "minorgridcolor": "#C8D4E3",
             "startlinecolor": "#2a3f5f"
            },
            "type": "carpet"
           }
          ],
          "choropleth": [
           {
            "colorbar": {
             "outlinewidth": 0,
             "ticks": ""
            },
            "type": "choropleth"
           }
          ],
          "contour": [
           {
            "colorbar": {
             "outlinewidth": 0,
             "ticks": ""
            },
            "colorscale": [
             [
              0,
              "#0d0887"
             ],
             [
              0.1111111111111111,
              "#46039f"
             ],
             [
              0.2222222222222222,
              "#7201a8"
             ],
             [
              0.3333333333333333,
              "#9c179e"
             ],
             [
              0.4444444444444444,
              "#bd3786"
             ],
             [
              0.5555555555555556,
              "#d8576b"
             ],
             [
              0.6666666666666666,
              "#ed7953"
             ],
             [
              0.7777777777777778,
              "#fb9f3a"
             ],
             [
              0.8888888888888888,
              "#fdca26"
             ],
             [
              1,
              "#f0f921"
             ]
            ],
            "type": "contour"
           }
          ],
          "contourcarpet": [
           {
            "colorbar": {
             "outlinewidth": 0,
             "ticks": ""
            },
            "type": "contourcarpet"
           }
          ],
          "heatmap": [
           {
            "colorbar": {
             "outlinewidth": 0,
             "ticks": ""
            },
            "colorscale": [
             [
              0,
              "#0d0887"
             ],
             [
              0.1111111111111111,
              "#46039f"
             ],
             [
              0.2222222222222222,
              "#7201a8"
             ],
             [
              0.3333333333333333,
              "#9c179e"
             ],
             [
              0.4444444444444444,
              "#bd3786"
             ],
             [
              0.5555555555555556,
              "#d8576b"
             ],
             [
              0.6666666666666666,
              "#ed7953"
             ],
             [
              0.7777777777777778,
              "#fb9f3a"
             ],
             [
              0.8888888888888888,
              "#fdca26"
             ],
             [
              1,
              "#f0f921"
             ]
            ],
            "type": "heatmap"
           }
          ],
          "histogram": [
           {
            "marker": {
             "pattern": {
              "fillmode": "overlay",
              "size": 10,
              "solidity": 0.2
             }
            },
            "type": "histogram"
           }
          ],
          "histogram2d": [
           {
            "colorbar": {
             "outlinewidth": 0,
             "ticks": ""
            },
            "colorscale": [
             [
              0,
              "#0d0887"
             ],
             [
              0.1111111111111111,
              "#46039f"
             ],
             [
              0.2222222222222222,
              "#7201a8"
             ],
             [
              0.3333333333333333,
              "#9c179e"
             ],
             [
              0.4444444444444444,
              "#bd3786"
             ],
             [
              0.5555555555555556,
              "#d8576b"
             ],
             [
              0.6666666666666666,
              "#ed7953"
             ],
             [
              0.7777777777777778,
              "#fb9f3a"
             ],
             [
              0.8888888888888888,
              "#fdca26"
             ],
             [
              1,
              "#f0f921"
             ]
            ],
            "type": "histogram2d"
           }
          ],
          "histogram2dcontour": [
           {
            "colorbar": {
             "outlinewidth": 0,
             "ticks": ""
            },
            "colorscale": [
             [
              0,
              "#0d0887"
             ],
             [
              0.1111111111111111,
              "#46039f"
             ],
             [
              0.2222222222222222,
              "#7201a8"
             ],
             [
              0.3333333333333333,
              "#9c179e"
             ],
             [
              0.4444444444444444,
              "#bd3786"
             ],
             [
              0.5555555555555556,
              "#d8576b"
             ],
             [
              0.6666666666666666,
              "#ed7953"
             ],
             [
              0.7777777777777778,
              "#fb9f3a"
             ],
             [
              0.8888888888888888,
              "#fdca26"
             ],
             [
              1,
              "#f0f921"
             ]
            ],
            "type": "histogram2dcontour"
           }
          ],
          "mesh3d": [
           {
            "colorbar": {
             "outlinewidth": 0,
             "ticks": ""
            },
            "type": "mesh3d"
           }
          ],
          "parcoords": [
           {
            "line": {
             "colorbar": {
              "outlinewidth": 0,
              "ticks": ""
             }
            },
            "type": "parcoords"
           }
          ],
          "pie": [
           {
            "automargin": true,
            "type": "pie"
           }
          ],
          "scatter": [
           {
            "fillpattern": {
             "fillmode": "overlay",
             "size": 10,
             "solidity": 0.2
            },
            "type": "scatter"
           }
          ],
          "scatter3d": [
           {
            "line": {
             "colorbar": {
              "outlinewidth": 0,
              "ticks": ""
             }
            },
            "marker": {
             "colorbar": {
              "outlinewidth": 0,
              "ticks": ""
             }
            },
            "type": "scatter3d"
           }
          ],
          "scattercarpet": [
           {
            "marker": {
             "colorbar": {
              "outlinewidth": 0,
              "ticks": ""
             }
            },
            "type": "scattercarpet"
           }
          ],
          "scattergeo": [
           {
            "marker": {
             "colorbar": {
              "outlinewidth": 0,
              "ticks": ""
             }
            },
            "type": "scattergeo"
           }
          ],
          "scattergl": [
           {
            "marker": {
             "colorbar": {
              "outlinewidth": 0,
              "ticks": ""
             }
            },
            "type": "scattergl"
           }
          ],
          "scattermap": [
           {
            "marker": {
             "colorbar": {
              "outlinewidth": 0,
              "ticks": ""
             }
            },
            "type": "scattermap"
           }
          ],
          "scattermapbox": [
           {
            "marker": {
             "colorbar": {
              "outlinewidth": 0,
              "ticks": ""
             }
            },
            "type": "scattermapbox"
           }
          ],
          "scatterpolar": [
           {
            "marker": {
             "colorbar": {
              "outlinewidth": 0,
              "ticks": ""
             }
            },
            "type": "scatterpolar"
           }
          ],
          "scatterpolargl": [
           {
            "marker": {
             "colorbar": {
              "outlinewidth": 0,
              "ticks": ""
             }
            },
            "type": "scatterpolargl"
           }
          ],
          "scatterternary": [
           {
            "marker": {
             "colorbar": {
              "outlinewidth": 0,
              "ticks": ""
             }
            },
            "type": "scatterternary"
           }
          ],
          "surface": [
           {
            "colorbar": {
             "outlinewidth": 0,
             "ticks": ""
            },
            "colorscale": [
             [
              0,
              "#0d0887"
             ],
             [
              0.1111111111111111,
              "#46039f"
             ],
             [
              0.2222222222222222,
              "#7201a8"
             ],
             [
              0.3333333333333333,
              "#9c179e"
             ],
             [
              0.4444444444444444,
              "#bd3786"
             ],
             [
              0.5555555555555556,
              "#d8576b"
             ],
             [
              0.6666666666666666,
              "#ed7953"
             ],
             [
              0.7777777777777778,
              "#fb9f3a"
             ],
             [
              0.8888888888888888,
              "#fdca26"
             ],
             [
              1,
              "#f0f921"
             ]
            ],
            "type": "surface"
           }
          ],
          "table": [
           {
            "cells": {
             "fill": {
              "color": "#EBF0F8"
             },
             "line": {
              "color": "white"
             }
            },
            "header": {
             "fill": {
              "color": "#C8D4E3"
             },
             "line": {
              "color": "white"
             }
            },
            "type": "table"
           }
          ]
         },
         "layout": {
          "annotationdefaults": {
           "arrowcolor": "#2a3f5f",
           "arrowhead": 0,
           "arrowwidth": 1
          },
          "autotypenumbers": "strict",
          "coloraxis": {
           "colorbar": {
            "outlinewidth": 0,
            "ticks": ""
           }
          },
          "colorscale": {
           "diverging": [
            [
             0,
             "#8e0152"
            ],
            [
             0.1,
             "#c51b7d"
            ],
            [
             0.2,
             "#de77ae"
            ],
            [
             0.3,
             "#f1b6da"
            ],
            [
             0.4,
             "#fde0ef"
            ],
            [
             0.5,
             "#f7f7f7"
            ],
            [
             0.6,
             "#e6f5d0"
            ],
            [
             0.7,
             "#b8e186"
            ],
            [
             0.8,
             "#7fbc41"
            ],
            [
             0.9,
             "#4d9221"
            ],
            [
             1,
             "#276419"
            ]
           ],
           "sequential": [
            [
             0,
             "#0d0887"
            ],
            [
             0.1111111111111111,
             "#46039f"
            ],
            [
             0.2222222222222222,
             "#7201a8"
            ],
            [
             0.3333333333333333,
             "#9c179e"
            ],
            [
             0.4444444444444444,
             "#bd3786"
            ],
            [
             0.5555555555555556,
             "#d8576b"
            ],
            [
             0.6666666666666666,
             "#ed7953"
            ],
            [
             0.7777777777777778,
             "#fb9f3a"
            ],
            [
             0.8888888888888888,
             "#fdca26"
            ],
            [
             1,
             "#f0f921"
            ]
           ],
           "sequentialminus": [
            [
             0,
             "#0d0887"
            ],
            [
             0.1111111111111111,
             "#46039f"
            ],
            [
             0.2222222222222222,
             "#7201a8"
            ],
            [
             0.3333333333333333,
             "#9c179e"
            ],
            [
             0.4444444444444444,
             "#bd3786"
            ],
            [
             0.5555555555555556,
             "#d8576b"
            ],
            [
             0.6666666666666666,
             "#ed7953"
            ],
            [
             0.7777777777777778,
             "#fb9f3a"
            ],
            [
             0.8888888888888888,
             "#fdca26"
            ],
            [
             1,
             "#f0f921"
            ]
           ]
          },
          "colorway": [
           "#636efa",
           "#EF553B",
           "#00cc96",
           "#ab63fa",
           "#FFA15A",
           "#19d3f3",
           "#FF6692",
           "#B6E880",
           "#FF97FF",
           "#FECB52"
          ],
          "font": {
           "color": "#2a3f5f"
          },
          "geo": {
           "bgcolor": "white",
           "lakecolor": "white",
           "landcolor": "white",
           "showlakes": true,
           "showland": true,
           "subunitcolor": "#C8D4E3"
          },
          "hoverlabel": {
           "align": "left"
          },
          "hovermode": "closest",
          "mapbox": {
           "style": "light"
          },
          "paper_bgcolor": "white",
          "plot_bgcolor": "white",
          "polar": {
           "angularaxis": {
            "gridcolor": "#EBF0F8",
            "linecolor": "#EBF0F8",
            "ticks": ""
           },
           "bgcolor": "white",
           "radialaxis": {
            "gridcolor": "#EBF0F8",
            "linecolor": "#EBF0F8",
            "ticks": ""
           }
          },
          "scene": {
           "xaxis": {
            "backgroundcolor": "white",
            "gridcolor": "#DFE8F3",
            "gridwidth": 2,
            "linecolor": "#EBF0F8",
            "showbackground": true,
            "ticks": "",
            "zerolinecolor": "#EBF0F8"
           },
           "yaxis": {
            "backgroundcolor": "white",
            "gridcolor": "#DFE8F3",
            "gridwidth": 2,
            "linecolor": "#EBF0F8",
            "showbackground": true,
            "ticks": "",
            "zerolinecolor": "#EBF0F8"
           },
           "zaxis": {
            "backgroundcolor": "white",
            "gridcolor": "#DFE8F3",
            "gridwidth": 2,
            "linecolor": "#EBF0F8",
            "showbackground": true,
            "ticks": "",
            "zerolinecolor": "#EBF0F8"
           }
          },
          "shapedefaults": {
           "line": {
            "color": "#2a3f5f"
           }
          },
          "ternary": {
           "aaxis": {
            "gridcolor": "#DFE8F3",
            "linecolor": "#A2B1C6",
            "ticks": ""
           },
           "baxis": {
            "gridcolor": "#DFE8F3",
            "linecolor": "#A2B1C6",
            "ticks": ""
           },
           "bgcolor": "white",
           "caxis": {
            "gridcolor": "#DFE8F3",
            "linecolor": "#A2B1C6",
            "ticks": ""
           }
          },
          "title": {
           "x": 0.05
          },
          "xaxis": {
           "automargin": true,
           "gridcolor": "#EBF0F8",
           "linecolor": "#EBF0F8",
           "ticks": "",
           "title": {
            "standoff": 15
           },
           "zerolinecolor": "#EBF0F8",
           "zerolinewidth": 2
          },
          "yaxis": {
           "automargin": true,
           "gridcolor": "#EBF0F8",
           "linecolor": "#EBF0F8",
           "ticks": "",
           "title": {
            "standoff": 15
           },
           "zerolinecolor": "#EBF0F8",
           "zerolinewidth": 2
          }
         }
        },
        "title": {
         "text": "Institution Clusters (K=5) based on Publication Profile (PCA Visualization)"
        },
        "xaxis": {
         "anchor": "y",
         "domain": [
          0,
          1
         ],
         "title": {
          "text": "PCA1"
         }
        },
        "yaxis": {
         "anchor": "x",
         "domain": [
          0,
          1
         ],
         "title": {
          "text": "PCA2"
         }
        }
       }
      },
      "text/html": [
       "<div>            <script src=\"https://cdnjs.cloudflare.com/ajax/libs/mathjax/2.7.5/MathJax.js?config=TeX-AMS-MML_SVG\"></script><script type=\"text/javascript\">if (window.MathJax && window.MathJax.Hub && window.MathJax.Hub.Config) {window.MathJax.Hub.Config({SVG: {font: \"STIX-Web\"}});}</script>                <script type=\"text/javascript\">window.PlotlyConfig = {MathJaxConfig: 'local'};</script>\n",
       "        <script charset=\"utf-8\" src=\"https://cdn.plot.ly/plotly-3.0.1.min.js\"></script>                <div id=\"be2d1fad-ecdc-4eb7-9e2e-c3a70eae1a97\" class=\"plotly-graph-div\" style=\"height:525px; width:100%;\"></div>            <script type=\"text/javascript\">                window.PLOTLYENV=window.PLOTLYENV || {};                                if (document.getElementById(\"be2d1fad-ecdc-4eb7-9e2e-c3a70eae1a97\")) {                    Plotly.newPlot(                        \"be2d1fad-ecdc-4eb7-9e2e-c3a70eae1a97\",                        [{\"customdata\":[[\"4Paradigm\",50.0,40.909090909090914,9.090909090909092,100.0,2],[\"A*STAR\",50.79365079365079,17.46031746031746,31.746031746031743,96.82539682539682,3],[\"AIG\",100.0,0.0,0.0,100.0,0],[\"AIRI\",46.51162790697674,25.581395348837212,27.906976744186046,53.48837209302325,3],[\"AITRICS\",52.27272727272727,46.590909090909086,1.1363636363636365,100.0,2],[\"AItrics\",77.27272727272727,22.727272727272727,0.0,100.0,2],[\"AMD\",69.23076923076923,30.76923076923077,0.0,100.0,2],[\"Aalborg University\",56.666666666666664,30.0,13.333333333333334,0.0,1],[\"Aalto University\",58.89967637540453,30.097087378640776,11.003236245954692,0.0,1],[\"Aarhus University\",62.19512195121951,32.926829268292686,4.878048780487805,0.0,1],[\"Academia Sinica\",63.26530612244898,14.285714285714285,22.448979591836736,0.0,1],[\"Academy of Mathematics and Systems Science, Chinese Academy of Sciences\",57.14285714285714,38.775510204081634,4.081632653061225,0.0,4],[\"Accenture\",45.0,45.0,10.0,100.0,2],[\"Adobe\",50.140845070422536,21.69014084507042,28.169014084507044,100.0,2],[\"Agency for Science, Technology and Research\",57.99999999999999,24.0,18.0,88.0,2],[\"Aix-Marseille University\",65.21739130434783,30.434782608695656,4.3478260869565215,0.0,1],[\"Alan Turing Institute\",62.5,29.166666666666668,8.333333333333332,0.0,1],[\"Albert-Ludwigs-Universit\\u00e4t Freiburg\",26.31578947368421,15.789473684210526,57.89473684210527,0.0,3],[\"Alibaba\",63.6986301369863,23.28767123287671,13.013698630136986,100.0,2],[\"Alibaba Group\",55.72625698324022,24.860335195530723,19.41340782122905,100.0,2],[\"Allen Institute\",86.66666666666667,0.0,13.333333333333334,100.0,0],[\"Allen Institute for AI\",57.41935483870968,15.483870967741936,27.09677419354839,14.193548387096774,1],[\"Allen Institute for Artificial Intelligence\",64.61538461538461,7.6923076923076925,27.692307692307693,0.7692307692307693,1],[\"Amazon\",48.57934857934858,28.06652806652807,23.354123354123356,100.0,2],[\"Amazon Web Services\",67.46987951807229,21.686746987951807,10.843373493975903,100.0,2],[\"Anhui University\",80.64516129032258,12.903225806451612,6.451612903225806,0.0,0],[\"Ant Financial\",37.5,25.0,37.5,100.0,3],[\"Ant Group\",61.67400881057269,19.383259911894275,18.94273127753304,100.0,2],[\"Anthropic\",60.9375,12.5,26.5625,100.0,2],[\"Apple\",44.74123539232053,28.213689482470784,27.04507512520868,100.0,2],[\"Argonne National Laboratory\",66.66666666666666,12.5,20.833333333333336,8.333333333333332,1],[\"Arizona State University\",60.231660231660236,24.324324324324326,15.444015444015443,0.0,1],[\"Artificial Intelligence Research Institute\",78.26086956521739,0.0,21.73913043478261,0.0,0],[\"Auburn University\",44.642857142857146,51.78571428571429,3.571428571428571,0.0,4],[\"Australian National University\",56.71641791044776,18.65671641791045,24.62686567164179,0.0,1],[\"Autodesk\",32.35294117647059,44.11764705882353,23.52941176470588,100.0,4],[\"Baidu\",57.919621749408975,22.22222222222222,19.858156028368796,100.0,2],[\"Bar-Ilan University\",45.033112582781456,47.019867549668874,7.9470198675496695,0.0,4],[\"Baylor College of Medicine\",70.96774193548387,4.838709677419355,24.193548387096776,0.0,0],[\"Beihang University\",64.11149825783971,15.6794425087108,20.209059233449477,0.0,1],[\"Beijing Academy of Artificial Intelligence\",42.10526315789473,21.052631578947366,36.84210526315789,0.0,3],[\"Beijing Institute for General Artificial Intelligence\",45.45454545454545,15.909090909090908,38.63636363636363,0.0,3],[\"Beijing Institute of Technology\",70.76923076923077,18.076923076923077,11.153846153846155,0.0,1],[\"Beijing Jiaotong University\",79.24528301886792,8.49056603773585,12.264150943396226,0.0,0],[\"Beijing Normal University\",63.63636363636363,32.72727272727273,3.6363636363636362,0.0,1],[\"Beijing Technology and Business University\",43.75,34.375,21.875,0.0,4],[\"Beijing University of Aeronautics and Astronautics\",65.65656565656566,18.181818181818183,16.161616161616163,0.0,1],[\"Beijing University of Posts and Telecommunications\",74.05857740585773,6.694560669456067,19.246861924686193,0.0,0],[\"Ben-Gurion University of the Negev\",63.1578947368421,31.57894736842105,5.263157894736842,0.0,1],[\"Bielefeld University\",38.095238095238095,33.33333333333333,28.57142857142857,0.0,4],[\"Binghamton University\",68.18181818181817,31.818181818181817,0.0,0.0,1],[\"Booz Allen Hamilton\",83.78378378378379,13.513513513513514,2.7027027027027026,100.0,0],[\"Borealis AI\",39.130434782608695,23.18840579710145,37.68115942028986,100.0,3],[\"Bosch\",49.24812030075188,21.052631578947366,29.69924812030075,100.0,2],[\"Boston College\",57.14285714285714,28.57142857142857,14.285714285714285,0.0,1],[\"Boston University\",59.34343434343434,29.040404040404038,11.616161616161616,0.0,1],[\"Brandeis University\",36.17021276595745,19.148936170212767,44.680851063829785,0.0,3],[\"Broad Institute\",50.0,45.0,5.0,0.0,4],[\"Brookhaven National Laboratory\",43.47826086956522,30.434782608695656,26.08695652173913,0.0,4],[\"Brown University\",61.18598382749326,23.71967654986523,15.09433962264151,0.0,1],[\"ByteDance\",49.10394265232975,24.372759856630825,26.523297491039425,100.0,2],[\"Bytedance\",55.86206896551724,22.758620689655174,21.379310344827587,100.0,2],[\"CASIA\",70.0,15.714285714285714,14.285714285714285,0.0,1],[\"CEA\",44.18604651162791,20.930232558139537,34.883720930232556,93.02325581395348,3],[\"CISPA Helmholtz Center for Information Security\",44.827586206896555,32.41379310344827,22.758620689655174,0.0,4],[\"CNRS\",58.791208791208796,31.318681318681318,9.89010989010989,0.0,1],[\"CREST\",40.816326530612244,57.14285714285714,2.0408163265306123,0.0,4],[\"CSIRO\",54.41176470588235,16.176470588235293,29.411764705882355,69.11764705882352,3],[\"CSIRO's Data61\",38.46153846153847,56.41025641025641,5.128205128205128,100.0,4],[\"California Institute of Technology\",62.26053639846744,27.969348659003828,9.770114942528735,0.0,1],[\"Cardiff University\",51.724137931034484,44.827586206896555,3.4482758620689653,0.0,4],[\"Carleton University\",57.14285714285714,17.857142857142858,25.0,0.0,1],[\"Carnegie Mellon University\",57.3346116970278,22.77085330776606,19.894534995206136,0.0,1],[\"Case Western Reserve University\",64.86486486486487,24.324324324324326,10.81081081081081,0.0,1],[\"Central South University\",71.7948717948718,23.076923076923077,5.128205128205128,0.0,1],[\"CentraleSup\\u00e9lec\",48.78048780487805,41.46341463414634,9.75609756097561,0.0,4],[\"Centrum Wiskunde & Informatica\",71.73913043478261,19.565217391304348,8.695652173913043,0.0,1],[\"Chalmers University of Technology\",55.55555555555556,38.095238095238095,6.349206349206349,0.0,4],[\"Chinese Academy of Sciences\",68.98326898326899,17.88931788931789,13.127413127413126,0.0,1],[\"Chinese University of Hong Kong\",73.82198952879581,15.706806282722512,10.471204188481675,0.0,0],[\"Chinese University of Hong Kong, Shenzhen\",45.16129032258064,41.935483870967744,12.903225806451612,0.0,4],[\"Chongqing University\",38.23529411764706,38.23529411764706,23.52941176470588,0.0,4],[\"Chung-Ang University\",58.536585365853654,26.82926829268293,14.634146341463413,0.0,1],[\"Cisco\",73.91304347826086,17.391304347826086,8.695652173913043,100.0,2],[\"City University of Hong Kong\",59.94318181818182,24.431818181818183,15.625,0.0,1],[\"City University of New York\",57.14285714285714,23.809523809523807,19.047619047619047,0.0,1],[\"Clemson University\",44.73684210526316,39.473684210526315,15.789473684210526,0.0,4],[\"Cohere\",76.92307692307693,11.538461538461538,11.538461538461538,100.0,2],[\"Cold Spring Harbor Laboratory\",77.27272727272727,22.727272727272727,0.0,0.0,0],[\"Columbia University\",65.67630961688819,20.953870211102423,13.369820172009383,0.0,1],[\"Computer Vision Center\",65.0,0.0,35.0,0.0,3],[\"Concordia University\",54.83870967741935,19.35483870967742,25.806451612903224,0.0,1],[\"Cooperative Medianet Innovation Center\",52.38095238095239,47.61904761904761,0.0,100.0,2],[\"Cornell University\",60.59451219512195,25.152439024390244,14.253048780487804,0.0,1],[\"Courant Institute of Mathematical Sciences\",75.82417582417582,24.175824175824175,0.0,0.0,0],[\"Covariant\",58.333333333333336,41.66666666666667,0.0,100.0,2],[\"Criteo\",47.12643678160919,39.6551724137931,13.218390804597702,100.0,2],[\"Czech Technical University in Prague\",66.66666666666666,11.666666666666666,21.666666666666668,0.0,1],[\"DAMO Academy\",66.66666666666666,29.166666666666668,4.166666666666666,54.166666666666664,2],[\"Dalhousie University\",62.16216216216216,16.216216216216218,21.62162162162162,0.0,1],[\"Dalian University of Technology\",67.16417910447761,20.149253731343283,12.686567164179104,0.0,1],[\"Dartmouth College\",62.83783783783784,7.4324324324324325,29.72972972972973,0.0,1],[\"Data61\",66.66666666666666,24.358974358974358,8.974358974358974,98.71794871794873,2],[\"Deakin University\",56.75675675675676,25.0,18.243243243243242,0.0,1],[\"DeepLearning.AI\",100.0,0.0,0.0,100.0,0],[\"Delft University of Technology\",51.21951219512195,31.097560975609756,17.682926829268293,0.0,1],[\"Department of Computer Science\",37.5,16.666666666666664,45.83333333333333,0.0,3],[\"Disney\",75.0,21.428571428571427,3.571428571428571,100.0,2],[\"Duke University\",59.12951167728237,26.751592356687897,14.118895966029724,0.0,1],[\"ELLIS Institute\",72.5,15.0,12.5,0.0,0],[\"ELLIS Unit\",90.0,3.3333333333333335,6.666666666666667,0.0,0],[\"ENSAE\",72.5,25.0,2.5,0.0,1],[\"ENSAE Paris\",41.30434782608695,52.17391304347826,6.521739130434782,0.0,4],[\"ETH Zurich\",58.097038437303084,27.473219911783236,14.429741650913675,0.0,1],[\"ETH Z\\u00fcrich\",62.35294117647059,25.882352941176475,11.76470588235294,0.0,1],[\"EURECOM\",55.81395348837209,41.86046511627907,2.3255813953488373,0.0,4],[\"East China Normal University\",54.67625899280576,24.46043165467626,20.863309352517987,0.0,1],[\"Eberhard-Karls-Universit\\u00e4t T\\u00fcbingen\",53.333333333333336,20.0,26.666666666666668,0.0,1],[\"Eindhoven University of Technology\",45.925925925925924,35.55555555555556,18.51851851851852,0.0,4],[\"Electrical Engineering & Computer Science Department\",45.45454545454545,18.181818181818183,36.36363636363637,0.0,3],[\"Electronics and Telecommunications Research Institute\",30.0,30.0,40.0,100.0,3],[\"Element AI\",79.03225806451613,9.67741935483871,11.29032258064516,100.0,2],[\"EleutherAI\",37.142857142857146,51.42857142857142,11.428571428571429,100.0,4],[\"Embodied Intelligence\",0.0,0.0,100.0,100.0,3],[\"Emory University\",71.08433734939759,12.048192771084338,16.867469879518072,0.0,1],[\"Facebook\",50.591715976331365,26.094674556213015,23.31360946745562,100.0,2],[\"Facebook AI Research\",52.666666666666664,31.333333333333336,16.0,100.0,2],[\"FlatIron Institute\",100.0,0.0,0.0,0.0,0],[\"Flatiron Institute\",75.38461538461539,15.384615384615385,9.230769230769232,1.5384615384615385,0],[\"Florida International University\",16.666666666666664,54.166666666666664,29.166666666666668,0.0,4],[\"Florida State University\",63.41463414634146,34.146341463414636,2.4390243902439024,0.0,1],[\"Freie Universit\\u00e4t Berlin\",58.490566037735846,30.18867924528302,11.320754716981133,0.0,1],[\"Friedrich-Schiller-Universit\\u00e4t Jena\",85.0,15.0,0.0,0.0,0],[\"Fudan University\",59.471365638766514,21.58590308370044,18.94273127753304,0.0,1],[\"Fujitsu\",22.58064516129032,41.935483870967744,35.483870967741936,100.0,3],[\"Gatsby Computational Neuroscience Unit\",27.27272727272727,54.54545454545454,18.181818181818183,0.0,4],[\"Genentech\",51.81818181818182,28.18181818181818,20.0,100.0,2],[\"George Mason University\",60.65573770491803,21.311475409836063,18.0327868852459,0.0,1],[\"George Washington University\",67.74193548387096,19.35483870967742,12.903225806451612,0.0,1],[\"Georgia Institute of Technology\",56.69975186104218,24.317617866004962,18.982630272952854,0.0,1],[\"German Cancer Research Center\",78.57142857142857,0.0,21.428571428571427,0.0,0],[\"German Research Center for Artificial Intelligence\",73.68421052631578,23.684210526315788,2.631578947368421,0.0,0],[\"Ghent University\",62.66666666666667,17.333333333333336,20.0,0.0,1],[\"Google\",48.80374479889043,30.54785020804438,20.648404993065185,100.0,2],[\"Graphcore\",43.75,28.125,28.125,100.0,2],[\"Graz University of Technology\",82.6086956521739,8.695652173913043,8.695652173913043,0.0,0],[\"Griffith University\",68.75,21.875,9.375,0.0,1],[\"Guangdong University of Technology\",51.61290322580645,45.16129032258064,3.225806451612903,0.0,4],[\"Gwangju Institute of Science and Technology\",45.16129032258064,9.67741935483871,45.16129032258064,0.0,3],[\"HEC Montreal\",7.142857142857142,39.285714285714285,53.57142857142857,0.0,3],[\"Hangzhou Dianzi University\",83.33333333333334,5.555555555555555,11.11111111111111,0.0,0],[\"Hanyang University\",57.89473684210527,14.035087719298245,28.07017543859649,0.0,1],[\"Harbin Institute of Technology\",61.86046511627907,21.16279069767442,16.97674418604651,0.0,1],[\"Harvard Medical School\",61.038961038961034,27.27272727272727,11.688311688311687,0.0,1],[\"Harvard University\",60.92985318107667,25.36704730831974,13.70309951060359,0.0,1],[\"Hasso Plattner Institute\",35.483870967741936,19.35483870967742,45.16129032258064,0.0,3],[\"Hebei University of Technology\",80.95238095238095,4.761904761904762,14.285714285714285,0.0,0],[\"Hebrew University of Jerusalem\",60.792951541850215,16.740088105726873,22.46696035242291,0.0,1],[\"Hefei University of Technology\",74.19354838709677,3.225806451612903,22.58064516129032,0.0,0],[\"Heidelberg University\",51.2,31.2,17.599999999999998,0.0,1],[\"Helmholtz AI\",56.00000000000001,24.0,20.0,12.0,1],[\"Helmholtz Zentrum M\\u00fcnchen\",57.14285714285714,28.57142857142857,14.285714285714285,0.0,1],[\"Higher School of Economics\",72.03389830508475,16.94915254237288,11.016949152542372,0.0,1],[\"Hitachi\",57.14285714285714,32.142857142857146,10.714285714285714,100.0,2],[\"Hong Kong Baptist University\",49.77168949771689,27.85388127853881,22.37442922374429,0.0,1],[\"Hong Kong Polytechnic University\",62.5,31.25,6.25,0.0,1],[\"Hong Kong University of Science and Technology\",53.823088455772115,26.686656671664167,19.490254872563717,0.0,1],[\"Hong Kong University of Science and Technology (Guangzhou)\",65.0,15.0,20.0,0.0,1],[\"Horizon Robotics\",44.680851063829785,19.148936170212767,36.17021276595745,100.0,3],[\"Howard Hughes Medical Institute\",90.9090909090909,4.545454545454546,4.545454545454546,54.54545454545454,0],[\"Huawei\",58.09968847352025,24.143302180685357,17.75700934579439,100.0,2],[\"Huawei Technologies\",49.75,20.75,29.5,100.0,2],[\"Huazhong University of Science and Technology\",67.57493188010899,16.348773841961854,16.076294277929154,0.0,1],[\"Hugging Face\",78.78787878787878,10.606060606060606,10.606060606060606,100.0,2],[\"IBM\",58.214285714285715,26.21428571428571,15.571428571428573,100.0,2],[\"IDSIA\",64.28571428571429,22.857142857142858,12.857142857142856,0.0,1],[\"INRIA\",68.796992481203,25.563909774436087,5.639097744360902,0.0,1],[\"INSAIT\",85.71428571428571,4.761904761904762,9.523809523809524,0.0,0],[\"IRISA\",58.06451612903226,29.03225806451613,12.903225806451612,0.0,1],[\"ISIR\",75.0,20.0,5.0,0.0,0],[\"IT University of Copenhagen\",51.85185185185185,37.03703703703704,11.11111111111111,0.0,4],[\"Idiap Research Institute\",56.60377358490566,30.18867924528302,13.20754716981132,0.0,1],[\"Illinois Institute of Technology\",59.09090909090909,13.636363636363635,27.27272727272727,0.0,1],[\"Imperial College London\",54.90533562822719,29.08777969018933,16.00688468158348,0.0,1],[\"Inception Institute of Artificial Intelligence\",75.0,12.5,12.5,97.22222222222221,2],[\"Independent Researcher\",62.96296296296296,7.4074074074074066,29.629629629629626,0.0,1],[\"Indian Institute of Science\",64.08839779005525,26.519337016574585,9.392265193370166,0.0,1],[\"Indian Institute of Technology\",82.43243243243244,16.216216216216218,1.3513513513513513,0.0,0],[\"Indian Institute of Technology Bombay\",56.060606060606055,27.27272727272727,16.666666666666664,0.0,1],[\"Indian Institute of Technology Delhi\",51.96850393700787,21.25984251968504,26.77165354330709,0.0,1],[\"Indian Institute of Technology Hyderabad\",64.0,32.0,4.0,0.0,1],[\"Indian Institute of Technology Kanpur\",57.14285714285714,32.6530612244898,10.204081632653061,0.0,1],[\"Indian Institute of Technology Kharagpur\",74.4186046511628,9.30232558139535,16.27906976744186,0.0,0],[\"Indian Institute of Technology Madras\",67.24137931034483,12.068965517241379,20.689655172413794,0.0,1],[\"Indiana University\",56.97674418604651,20.930232558139537,22.093023255813954,0.0,1],[\"Indiana University Bloomington\",80.95238095238095,16.666666666666664,2.380952380952381,0.0,0],[\"Inria\",61.328976034858385,26.68845315904139,11.982570806100219,0.0,1],[\"InstaDeep\",54.285714285714285,12.857142857142856,32.857142857142854,100.0,3],[\"Institut Polytechnique de Paris\",70.17543859649122,21.052631578947366,8.771929824561402,0.0,1],[\"Institute for Advanced Study\",38.57142857142858,44.285714285714285,17.142857142857142,0.0,4],[\"Institute for Infocomm Research\",72.5,17.5,10.0,65.0,2],[\"Institute of Automation, Chinese Academy of Sciences\",73.49397590361446,14.457831325301203,12.048192771084338,0.0,0],[\"Institute of Computing Technology\",19.047619047619047,47.61904761904761,33.33333333333333,0.0,4],[\"Institute of Computing Technology, Chinese Academy of Sciences\",64.56953642384106,23.509933774834437,11.920529801324504,0.0,1],[\"Institute of High Performance Computing\",48.484848484848484,18.181818181818183,33.33333333333333,0.0,3],[\"Institute of Information Engineering, Chinese Academy of Sciences\",51.724137931034484,41.37931034482759,6.896551724137931,0.0,4],[\"Institute of Science and Technology Austria\",54.589371980676326,35.748792270531396,9.66183574879227,0.0,4],[\"Institute of Software, Chinese Academy of Sciences\",70.27027027027027,21.62162162162162,8.108108108108109,0.0,1],[\"Institute of Statistical Mathematics\",78.78787878787878,18.181818181818183,3.0303030303030303,0.0,0],[\"Instituto Superior T\\u00e9cnico\",61.53846153846154,23.076923076923077,15.384615384615385,0.0,1],[\"Intel\",59.59595959595959,21.885521885521886,18.51851851851852,100.0,2],[\"International Business Machines\",42.0,23.0,35.0,100.0,3],[\"International Digital Economy Academy\",46.15384615384615,1.5384615384615385,52.307692307692314,0.0,3],[\"International School for Advanced Studies\",89.65517241379311,10.344827586206897,0.0,0.0,0],[\"Iowa State University\",52.94117647058824,40.52287581699346,6.535947712418301,0.0,4],[\"Istituto Italiano di Tecnologia\",66.01941747572816,27.184466019417474,6.796116504854369,0.0,1],[\"JD Explore Academy\",22.5,32.5,45.0,100.0,3],[\"JD.com\",60.75949367088608,21.518987341772153,17.72151898734177,100.0,2],[\"Jagiellonian University\",50.74626865671642,34.32835820895522,14.925373134328357,0.0,4],[\"Jilin University\",52.72727272727272,31.818181818181817,15.454545454545453,0.0,1],[\"Johannes Kepler University Linz\",59.44055944055944,20.27972027972028,20.27972027972028,0.0,1],[\"Johns Hopkins University\",54.899135446685875,26.0806916426513,19.020172910662826,0.0,1],[\"KAIST\",47.71615008156607,33.115823817292004,19.168026101141926,0.0,4],[\"KTH Royal Institute of Technology\",46.408839779005525,41.43646408839779,12.154696132596685,0.0,4],[\"KU Leuven\",54.44444444444444,20.0,25.555555555555554,0.0,1],[\"Kakao\",70.2127659574468,10.638297872340425,19.148936170212767,100.0,2],[\"Karlsruhe Institute of Technology\",47.12643678160919,16.091954022988507,36.7816091954023,0.0,3],[\"Karlsruher Institut f\\u00fcr Technologie\",61.111111111111114,13.88888888888889,25.0,0.0,1],[\"King Abdullah University of Science and Technology\",50.96153846153846,28.60576923076923,20.432692307692307,0.0,1],[\"King's College London\",69.81132075471697,20.754716981132077,9.433962264150944,0.0,1],[\"Korea Advanced Institute of Science & Technology\",46.25850340136054,22.448979591836736,31.292517006802722,0.0,3],[\"Korea Advanced Institute of Science and Technology\",47.12153518123667,12.57995735607676,40.298507462686565,0.0,3],[\"Korea Institute for Advanced Study\",59.09090909090909,27.27272727272727,13.636363636363635,0.0,1],[\"Korea University\",64.0625,15.625,20.3125,0.0,1],[\"Kuaishou Technology\",77.77777777777779,6.666666666666667,15.555555555555555,100.0,2],[\"Kungliga Tekniska H\\u00f6gskolan\",55.932203389830505,37.28813559322034,6.779661016949152,0.0,4],[\"Kwai Inc.\",55.172413793103445,13.793103448275861,31.03448275862069,100.0,2],[\"Kyoto University\",77.0,19.0,4.0,0.0,0],[\"Kyushu University\",19.230769230769234,53.84615384615385,26.923076923076923,0.0,4],[\"LG\",48.68421052631579,32.89473684210527,18.421052631578945,100.0,2],[\"LG Electronics\",38.63636363636363,25.0,36.36363636363637,100.0,3],[\"Lancaster University\",68.0,30.0,2.0,0.0,1],[\"Lawrence Berkeley National Laboratory\",66.66666666666666,2.7777777777777777,30.555555555555557,0.0,1],[\"Lawrence Livermore National Laboratory\",56.310679611650485,27.184466019417474,16.50485436893204,96.11650485436894,2],[\"Layer 6 AI\",45.83333333333333,27.083333333333332,27.083333333333332,100.0,2],[\"Lehigh University\",45.65217391304348,42.391304347826086,11.956521739130435,0.0,4],[\"Leiden University\",81.81818181818183,3.0303030303030303,15.151515151515152,0.0,0],[\"Lenovo\",28.000000000000004,52.0,20.0,100.0,4],[\"LinkedIn\",68.57142857142857,20.0,11.428571428571429,100.0,2],[\"Link\\u00f6ping University\",55.769230769230774,40.38461538461539,3.8461538461538463,0.0,4],[\"London School of Economics\",47.61904761904761,38.095238095238095,14.285714285714285,0.0,4],[\"Los Alamos National Laboratory\",60.0,34.66666666666667,5.333333333333334,98.66666666666667,2],[\"Ludwig Maximilian University of Munich\",45.26315789473684,29.47368421052631,25.263157894736842,0.0,1],[\"Ludwig-Maximilians-Universit\\u00e4t M\\u00fcnchen\",52.293577981651374,33.94495412844037,13.761467889908257,0.0,4],[\"Lund University\",72.3404255319149,8.51063829787234,19.148936170212767,0.0,0],[\"Macquarie University\",86.48648648648648,8.108108108108109,5.405405405405405,0.0,0],[\"Massachusetts Institute of Technology\",56.32706035042181,25.805753839498163,17.867185810080034,0.0,1],[\"Max Planck Institute\",43.20987654320987,18.51851851851852,38.2716049382716,0.0,3],[\"Max Planck Institute for Biological Cybernetics\",85.5072463768116,11.594202898550725,2.898550724637681,0.0,0],[\"Max Planck Institute for Informatics\",60.83333333333333,19.166666666666668,20.0,0.0,1],[\"Max Planck Institute for Intelligent Systems\",58.59872611464968,22.452229299363058,18.949044585987263,0.0,1],[\"Max Planck Institute for Mathematics in the Sciences\",30.0,43.333333333333336,26.666666666666668,0.0,4],[\"Max Planck Institute for Software Systems\",66.94214876033058,28.92561983471074,4.132231404958678,0.0,1],[\"Max Planck Society\",37.17948717948718,5.128205128205128,57.692307692307686,0.0,3],[\"Max-Planck-Institute for Intelligent Systems\",26.190476190476193,35.714285714285715,38.095238095238095,0.0,3],[\"McGill University\",55.447154471544714,26.01626016260163,18.536585365853657,0.0,1],[\"McMaster University\",84.78260869565217,6.521739130434782,8.695652173913043,0.0,0],[\"MediaTek\",45.45454545454545,40.909090909090914,13.636363636363635,100.0,2],[\"Megvii\",100.0,0.0,0.0,100.0,0],[\"Megvii Technology Inc.\",52.77777777777778,5.555555555555555,41.66666666666667,100.0,3],[\"Meituan\",46.42857142857143,19.642857142857142,33.92857142857143,100.0,3],[\"Memorial Sloan Kettering Cancer Center\",39.285714285714285,21.428571428571427,39.285714285714285,0.0,3],[\"Meta\",49.652432969215496,29.493545183714005,20.854021847070506,100.0,2],[\"Michigan State University\",51.21951219512195,20.32520325203252,28.455284552845526,0.0,1],[\"Microsoft\",54.020507285483,23.448461953588776,22.531030760928225,100.0,2],[\"Microsoft Research\",64.51612903225806,25.806451612903224,9.67741935483871,100.0,2],[\"Microsoft Research Asia\",82.6086956521739,13.043478260869565,4.3478260869565215,100.0,0],[\"Mila - Quebec AI Institute\",44.452501812907904,27.628716461203773,27.918781725888326,0.0,1],[\"Mitsubishi Electric Research Laboratories\",75.0,25.0,0.0,100.0,2],[\"Mohamed bin Zayed University of Artificial Intelligence\",60.65573770491803,18.688524590163937,20.655737704918035,0.0,1],[\"Monash University\",58.06451612903226,18.951612903225808,22.983870967741936,0.0,1],[\"Montreal Institute for Learning Algorithms\",56.25,20.833333333333336,22.916666666666664,0.0,1],[\"Morgan Stanley\",16.666666666666664,60.0,23.333333333333332,100.0,4],[\"Moscow Institute of Physics and Technology\",64.56692913385827,25.984251968503933,9.448818897637794,0.0,1],[\"NAVER\",32.73809523809524,19.047619047619047,48.214285714285715,100.0,3],[\"NAVER LABS Europe\",57.14285714285714,19.047619047619047,23.809523809523807,100.0,2],[\"NEC\",57.943925233644855,22.429906542056074,19.626168224299064,100.0,2],[\"NEC Corporation\",71.42857142857143,25.71428571428571,2.857142857142857,100.0,2],[\"NEC Labs America\",59.09090909090909,6.8181818181818175,34.090909090909086,100.0,3],[\"NICTA\",100.0,0.0,0.0,17.5,0],[\"NLPR\",83.33333333333334,16.666666666666664,0.0,0.0,0],[\"NNAISENSE\",59.09090909090909,4.545454545454546,36.36363636363637,100.0,3],[\"NTT\",74.52830188679245,23.58490566037736,1.8867924528301887,100.0,2],[\"NVIDIA\",56.26598465473146,22.89002557544757,20.843989769820972,100.0,2],[\"Nagoya Institute of Technology\",38.0,60.0,2.0,0.0,4],[\"Nagoya University\",47.61904761904761,47.61904761904761,4.761904761904762,0.0,4],[\"Nanjing University\",55.87649402390438,29.08366533864542,15.0398406374502,0.0,1],[\"Nanjing University of Aeronautics and Astronautics\",70.49180327868852,24.59016393442623,4.918032786885246,0.0,1],[\"Nanjing University of Information Science and Technology\",86.95652173913044,8.695652173913043,4.3478260869565215,0.0,0],[\"Nanjing University of Science and Technology\",83.42541436464089,8.83977900552486,7.734806629834254,0.0,0],[\"Nankai University\",66.18705035971223,18.705035971223023,15.107913669064748,0.0,1],[\"Nanyang Technological University\",60.24340770791075,17.44421906693712,22.31237322515213,0.0,1],[\"National Chiao Tung University\",51.85185185185185,25.925925925925924,22.22222222222222,0.0,1],[\"National Institute of Advanced Industrial Science and Technology\",55.55555555555556,25.925925925925924,18.51851851851852,74.07407407407408,2],[\"National Institute of Informatics\",62.5,22.916666666666664,14.583333333333334,0.0,1],[\"National Research University Higher School of Economics\",72.0,20.0,8.0,0.0,1],[\"National Taiwan University\",61.0062893081761,18.867924528301888,20.125786163522015,0.0,1],[\"National Technical University of Athens\",53.48837209302325,37.2093023255814,9.30232558139535,0.0,4],[\"National Tsing Hua University\",45.45454545454545,37.878787878787875,16.666666666666664,0.0,4],[\"National University of Defense Technology\",63.49206349206349,27.77777777777778,8.73015873015873,0.0,1],[\"National University of Singapore\",59.13555992141454,23.510150622134905,17.354289456450555,0.0,1],[\"National Yang Ming Chiao Tung University\",60.0,18.0,22.0,0.0,1],[\"Naver\",43.75,16.666666666666664,39.58333333333333,100.0,3],[\"Naver Labs Europe\",24.528301886792452,13.20754716981132,62.264150943396224,100.0,3],[\"NetEase\",47.368421052631575,34.21052631578947,18.421052631578945,100.0,2],[\"Netflix\",58.333333333333336,38.88888888888889,2.7777777777777777,100.0,2],[\"NeuralMagic\",66.66666666666666,33.33333333333333,0.0,100.0,2],[\"New Jersey Institute of Technology\",50.0,36.95652173913043,13.043478260869565,0.0,4],[\"New York University\",56.99001426533523,24.393723252496432,18.61626248216833,0.0,1],[\"Noah's Ark Lab\",87.09677419354838,6.451612903225806,6.451612903225806,100.0,0],[\"North Carolina State University\",55.3030303030303,31.818181818181817,12.878787878787879,0.0,1],[\"Northeastern University\",56.14617940199336,17.60797342192691,26.245847176079735,0.0,1],[\"Northwest Polytechnical University\",75.67567567567568,21.62162162162162,2.7027027027027026,0.0,0],[\"Northwestern Polytechnical University\",73.91304347826086,11.956521739130435,14.130434782608695,0.0,0],[\"Northwestern University\",46.34760705289673,38.0352644836272,15.617128463476071,0.0,4],[\"Nvidia\",56.16438356164384,21.91780821917808,21.91780821917808,100.0,2],[\"Oak Ridge National Laboratory\",38.46153846153847,23.076923076923077,38.46153846153847,100.0,3],[\"Ohio State University\",55.39906103286385,16.431924882629108,28.169014084507044,0.0,1],[\"Okinawa Institute of Science and Technology\",60.0,15.0,25.0,0.0,1],[\"OpenAI\",48.266666666666666,34.13333333333333,17.599999999999998,100.0,2],[\"Optimized Markets\",100.0,0.0,0.0,100.0,0],[\"Oregon State University\",49.079754601226995,35.58282208588957,15.337423312883436,0.0,4],[\"Osaka University\",71.01449275362319,18.84057971014493,10.144927536231885,0.0,1],[\"PROWLER.io\",54.347826086956516,36.95652173913043,8.695652173913043,100.0,2],[\"Pacific Northwest National Laboratory\",64.28571428571429,21.428571428571427,14.285714285714285,92.85714285714286,2],[\"Peking University\",55.94405594405595,24.43438914027149,19.62155491567256,0.0,1],[\"Peng Cheng Laboratory\",73.52941176470588,20.588235294117645,5.88235294117647,100.0,2],[\"Pennsylvania State University\",55.63725490196079,26.47058823529412,17.892156862745097,0.0,1],[\"Petuum\",91.30434782608695,8.695652173913043,0.0,100.0,0],[\"Petuum Inc.\",78.57142857142857,19.642857142857142,1.7857142857142856,100.0,2],[\"Pinterest\",97.82608695652173,2.1739130434782608,0.0,100.0,0],[\"Pohang University of Science and Technology\",54.66101694915254,29.23728813559322,16.101694915254235,0.0,1],[\"Polish Academy of Sciences\",80.95238095238095,9.523809523809524,9.523809523809524,0.0,0],[\"Politecnico di Milano\",47.54716981132076,47.924528301886795,4.528301886792453,0.0,4],[\"Politecnico di Torino\",61.904761904761905,23.809523809523807,14.285714285714285,0.0,1],[\"Polytechnique Montr\\u00e9al\",54.385964912280706,14.035087719298245,31.57894736842105,0.0,1],[\"Pontificia Universidad Cat\\u00f3lica de Chile\",72.97297297297297,21.62162162162162,5.405405405405405,0.0,0],[\"Preferred Networks\",67.10526315789474,21.052631578947366,11.842105263157894,100.0,2],[\"Prescient Design\",54.054054054054056,21.62162162162162,24.324324324324326,100.0,2],[\"Princeton University\",57.37609329446064,27.113702623906704,15.510204081632653,0.0,1],[\"Purdue University\",58.517555266579976,25.8777633289987,15.604681404421328,0.0,1],[\"Qualcomm\",52.509652509652504,19.305019305019304,28.185328185328185,100.0,2],[\"Qualcomm Inc\",53.57142857142857,3.571428571428571,42.857142857142854,100.0,3],[\"Queen Mary University of London\",54.83870967741935,22.58064516129032,22.58064516129032,0.0,1],[\"RIKEN\",44.645340751043115,40.47287899860918,14.881780250347706,0.6954102920723227,4],[\"RIKEN AIP\",68.42105263157895,19.548872180451127,12.030075187969924,0.0,1],[\"RWTH Aachen University\",41.53846153846154,38.46153846153847,20.0,0.0,4],[\"Radboud University\",78.66666666666666,12.0,9.333333333333334,0.0,0],[\"Renmin University of China\",59.56284153005464,20.21857923497268,20.21857923497268,0.0,1],[\"Rensselaer Polytechnic Institute\",58.235294117647065,29.411764705882355,12.352941176470589,0.0,1],[\"Rheinisch Westf\\u00e4lische Technische Hochschule Aachen\",34.78260869565217,39.130434782608695,26.08695652173913,0.0,4],[\"Rice University\",44.23480083857442,35.22012578616352,20.545073375262053,0.0,4],[\"Robert Bosch GmbH\",57.692307692307686,30.76923076923077,11.538461538461538,100.0,2],[\"Roche\",71.42857142857143,14.285714285714285,14.285714285714285,100.0,2],[\"Rochester Institute of Technology\",48.55072463768116,26.08695652173913,25.36231884057971,0.0,1],[\"Rutgers University\",57.95724465558195,27.55344418052256,14.489311163895488,0.0,1],[\"Saarland University\",52.13675213675214,25.64102564102564,22.22222222222222,0.0,1],[\"Salesforce\",40.13377926421405,19.39799331103679,40.468227424749166,100.0,3],[\"Samsung\",52.32558139534884,27.209302325581397,20.46511627906977,100.0,2],[\"Samsung Electronics\",60.86956521739131,34.78260869565217,4.3478260869565215,100.0,2],[\"Sapienza University of Rome\",62.13592233009708,19.41747572815534,18.446601941747574,0.0,1],[\"Scale AI\",81.81818181818183,18.181818181818183,0.0,100.0,2],[\"Sea AI Lab\",44.9438202247191,21.34831460674157,33.70786516853933,100.0,3],[\"SenseTime\",48.93617021276596,14.893617021276595,36.17021276595745,100.0,3],[\"Sensetime\",49.23076923076923,9.230769230769232,41.53846153846154,100.0,3],[\"Seoul National University\",49.53379953379953,30.65268065268065,19.813519813519815,0.0,1],[\"ServiceNow\",46.875,21.875,31.25,100.0,2],[\"Shandong University\",67.05882352941175,23.52941176470588,9.411764705882353,0.0,1],[\"Shanghai AI Lab\",64.36781609195403,20.689655172413794,14.942528735632186,100.0,2],[\"Shanghai AI Laboratory\",60.1123595505618,16.853932584269664,23.03370786516854,99.43820224719101,2],[\"Shanghai Artificial Intelligence Laboratory\",52.58620689655172,20.689655172413794,26.72413793103448,99.13793103448276,2],[\"Shanghai Jiao Tong University\",52.93434049970948,24.2300987797792,22.83556072051133,0.0,1],[\"Shanghai Qi Zhi Institute\",20.0,8.571428571428571,71.42857142857143,0.0,3],[\"Shanghai University\",68.18181818181817,22.727272727272727,9.090909090909092,0.0,1],[\"Shanghai University of Finance and Economics\",59.09090909090909,35.22727272727273,5.681818181818182,0.0,4],[\"ShanghaiTech University\",65.89595375722543,15.606936416184972,18.497109826589593,0.0,1],[\"Shannon.AI\",69.56521739130434,21.73913043478261,8.695652173913043,100.0,2],[\"Shanxi University\",48.38709677419355,51.61290322580645,0.0,0.0,4],[\"Sharif University of Technology\",56.97674418604651,30.23255813953488,12.790697674418606,0.0,1],[\"Shenzhen Institutes of Advanced Technology\",75.28089887640449,7.865168539325842,16.853932584269664,0.0,0],[\"Shenzhen Research Institute of Big Data\",71.7948717948718,7.6923076923076925,20.51282051282051,100.0,2],[\"Shenzhen University\",92.7710843373494,4.819277108433735,2.4096385542168677,0.0,0],[\"Sichuan University\",50.0,36.80555555555556,13.194444444444445,0.0,4],[\"Siemens\",66.66666666666666,16.666666666666664,16.666666666666664,100.0,2],[\"Simon Fraser University\",64.74358974358975,16.025641025641026,19.230769230769234,0.0,1],[\"Simons Foundation\",76.47058823529412,14.705882352941178,8.823529411764707,70.58823529411765,0],[\"Singapore Management University\",65.0,16.428571428571427,18.571428571428573,0.0,1],[\"Singapore University of Technology and Design\",59.854014598540154,26.277372262773724,13.86861313868613,0.0,1],[\"Skolkovo Institute of Science and Technology\",51.449275362318836,22.463768115942027,26.08695652173913,0.0,1],[\"Skoltech\",52.5,27.500000000000004,20.0,0.0,1],[\"Snap Inc.\",52.142857142857146,14.285714285714285,33.57142857142857,100.0,3],[\"Sony\",51.87500000000001,28.125,20.0,100.0,2],[\"Sony Group Corporation\",22.857142857142858,51.42857142857142,25.71428571428571,100.0,4],[\"Soochow University\",67.74193548387096,16.129032258064516,16.129032258064516,0.0,1],[\"Sorbonne University\",61.94690265486725,16.8141592920354,21.238938053097346,0.0,1],[\"Sorbonne Universit\\u00e9\",57.52212389380531,25.663716814159294,16.8141592920354,0.0,1],[\"South China University of Technology\",67.91666666666667,20.0,12.083333333333334,0.0,1],[\"Southeast University\",57.79467680608364,30.798479087452474,11.406844106463879,0.0,1],[\"Southern University of Science and Technology\",56.849315068493155,26.027397260273972,17.123287671232877,0.0,1],[\"Spotify\",70.27027027027027,18.91891891891892,10.81081081081081,100.0,2],[\"Stability AI\",36.36363636363637,36.36363636363637,27.27272727272727,100.0,2],[\"Stanford University\",58.921694480102694,22.999572100984167,18.07873341891314,0.0,1],[\"State University of New York at Albany\",69.76744186046511,27.906976744186046,2.3255813953488373,0.0,1],[\"State University of New York at Buffalo\",47.15447154471545,25.203252032520325,27.64227642276423,0.0,1],[\"State University of New York, Stony Brook\",57.14285714285714,0.0,42.857142857142854,0.0,3],[\"Stevens Institute of Technology\",59.210526315789465,34.21052631578947,6.578947368421052,0.0,4],[\"Stony Brook University\",65.94202898550725,17.391304347826086,16.666666666666664,0.0,1],[\"Strategy Robot\",100.0,0.0,0.0,100.0,0],[\"Sun Yat-Sen University\",79.06976744186046,20.930232558139537,0.0,0.0,0],[\"Sun Yat-sen University\",64.97326203208557,18.983957219251337,16.0427807486631,0.0,1],[\"Sungkyunkwan University\",62.7906976744186,22.093023255813954,15.11627906976744,0.0,1],[\"Swiss AI Lab\",52.17391304347826,43.47826086956522,4.3478260869565215,47.82608695652174,4],[\"Swiss Federal Institute of Technology\",37.117903930131,8.73362445414847,54.14847161572053,0.0,3],[\"Swiss Federal Institute of Technology Lausanne\",61.66666666666667,5.833333333333333,32.5,0.0,1],[\"Syracuse University\",58.69565217391305,30.434782608695656,10.869565217391305,0.0,1],[\"TTI-Chicago\",95.34883720930233,4.651162790697675,0.0,0.0,0],[\"Technical University of Berlin\",61.904761904761905,19.047619047619047,19.047619047619047,0.0,1],[\"Technical University of Darmstadt\",50.0,29.166666666666668,20.833333333333336,0.0,1],[\"Technical University of Denmark\",63.1578947368421,19.883040935672515,16.95906432748538,0.0,1],[\"Technical University of Munich\",57.231404958677686,25.0,17.768595041322314,0.0,1],[\"Technion - Israel Institute of Technology\",52.53456221198156,30.52995391705069,16.93548387096774,0.0,1],[\"Technische Universit\\u00e4t Berlin\",63.34661354581673,25.89641434262948,10.756972111553784,0.0,1],[\"Technische Universit\\u00e4t Darmstadt\",52.84552845528455,24.390243902439025,22.76422764227642,0.0,1],[\"Technische Universit\\u00e4t Dortmund\",46.0,36.0,18.0,0.0,4],[\"Technische Universit\\u00e4t Dresden\",54.54545454545454,30.303030303030305,15.151515151515152,0.0,1],[\"Technische Universit\\u00e4t Kaiserslautern\",51.724137931034484,34.48275862068966,13.793103448275861,0.0,4],[\"Technische Universit\\u00e4t M\\u00fcnchen\",58.59375,17.96875,23.4375,0.0,1],[\"Tel Aviv University\",48.57142857142857,34.66666666666667,16.761904761904763,0.0,4],[\"Telecom Paris\",53.48837209302325,27.906976744186046,18.6046511627907,0.0,1],[\"Telecom ParisTech\",71.9298245614035,28.07017543859649,0.0,0.0,1],[\"Temple University\",57.14285714285714,28.57142857142857,14.285714285714285,0.0,1],[\"Tencent\",59.15627996164909,17.545541706615534,23.29817833173538,100.0,2],[\"Texas A&M University\",51.40845070422535,30.633802816901408,17.95774647887324,0.0,1],[\"The Alan Turing Institute\",57.47126436781609,35.63218390804598,6.896551724137931,0.0,4],[\"The Australian National University\",61.904761904761905,28.57142857142857,9.523809523809524,0.0,1],[\"The Chinese University of Hong Kong\",65.53738317757009,13.434579439252337,21.02803738317757,0.0,1],[\"The Chinese University of Hong Kong, Shenzhen\",59.3607305936073,19.63470319634703,21.00456621004566,0.0,1],[\"The Hebrew University of Jerusalem\",66.66666666666666,17.647058823529413,15.686274509803921,0.0,1],[\"The Hong Kong Polytechnic University\",61.67664670658682,25.149700598802394,13.17365269461078,0.0,1],[\"The Hong Kong University of Science and Technology\",60.33057851239669,17.63085399449036,22.03856749311295,0.0,1],[\"The Ohio State University\",58.536585365853654,27.235772357723576,14.227642276422763,0.0,1],[\"The University of Hong Kong\",48.91041162227603,26.150121065375302,24.93946731234867,0.0,1],[\"The University of Tokyo\",47.18875502008032,31.92771084337349,20.883534136546185,0.0,4],[\"Tianjin University\",60.858585858585855,25.5050505050505,13.636363636363635,0.0,1],[\"TikTok\",93.54838709677419,6.451612903225806,0.0,100.0,0],[\"Together AI\",83.33333333333334,12.5,4.166666666666666,100.0,0],[\"Tokyo Institute of Technology\",51.45631067961165,32.038834951456316,16.50485436893204,0.0,1],[\"Tongji University\",73.68421052631578,15.789473684210526,10.526315789473683,0.0,0],[\"Toyota Research Institute\",43.90243902439025,26.82926829268293,29.268292682926827,100.0,2],[\"Toyota Technological Institute at Chicago\",54.78260869565217,30.434782608695656,14.782608695652174,0.0,1],[\"Tsinghua University\",53.13012895662368,23.821805392731534,23.048065650644784,0.0,1],[\"Tufts University\",46.15384615384615,42.30769230769231,11.538461538461538,0.0,4],[\"Twitter\",53.333333333333336,25.333333333333336,21.333333333333336,100.0,2],[\"T\\u00e9l\\u00e9com Paris\",56.36363636363636,32.72727272727273,10.909090909090908,0.0,1],[\"T\\u00e9l\\u00e9com ParisTech\",66.0377358490566,28.30188679245283,5.660377358490567,0.0,1],[\"T\\u00fcbingen AI Center\",65.0,20.0,15.0,0.0,1],[\"Uber\",49.056603773584904,42.138364779874216,8.80503144654088,100.0,2],[\"Ulsan National Institute of Science and Technology\",43.28358208955223,38.80597014925373,17.91044776119403,0.0,4],[\"Universidad Carlos III de Madrid\",77.27272727272727,18.181818181818183,4.545454545454546,0.0,0],[\"Universitat Pompeu Fabra\",64.0625,21.875,14.0625,0.0,1],[\"University College London\",66.04303086997194,20.018709073900844,13.938260056127222,0.0,1],[\"University at Buffalo\",79.54545454545455,15.909090909090908,4.545454545454546,0.0,0],[\"University at Buffalo, SUNY\",45.83333333333333,20.833333333333336,33.33333333333333,0.0,3],[\"University of Adelaide\",80.89887640449437,11.235955056179774,7.865168539325842,0.0,0],[\"University of Alberta\",56.132075471698116,25.943396226415093,17.92452830188679,0.0,1],[\"University of Amsterdam\",54.55904334828101,21.524663677130047,23.916292974588938,0.0,1],[\"University of Arizona\",62.637362637362635,31.868131868131865,5.4945054945054945,0.0,1],[\"University of Arkansas\",100.0,0.0,0.0,0.0,0],[\"University of Auckland\",61.904761904761905,38.095238095238095,0.0,0.0,4],[\"University of Basel\",60.60606060606061,12.121212121212121,27.27272727272727,0.0,1],[\"University of Bath\",62.22222222222222,35.55555555555556,2.2222222222222223,0.0,4],[\"University of Bern\",92.85714285714286,3.571428571428571,3.571428571428571,0.0,0],[\"University of Birmingham\",72.72727272727273,20.0,7.2727272727272725,0.0,0],[\"University of Bologna\",52.94117647058824,17.647058823529413,29.411764705882355,0.0,1],[\"University of Bonn\",62.5,16.666666666666664,20.833333333333336,0.0,1],[\"University of Bristol\",60.416666666666664,24.305555555555554,15.277777777777779,0.0,1],[\"University of British Columbia\",58.40163934426229,23.770491803278688,17.827868852459016,0.0,1],[\"University of California, Berkeley\",52.94439879485072,27.58148452478773,19.474116680361544,0.0,1],[\"University of California, Davis\",56.21621621621622,28.10810810810811,15.675675675675677,0.0,1],[\"University of California, Irvine\",64.62395543175488,20.334261838440113,15.041782729805014,0.0,1],[\"University of California, Los Angeles\",53.377166766288106,26.658696951583984,19.964136282127914,0.0,1],[\"University of California, Merced\",70.2127659574468,12.76595744680851,17.02127659574468,0.0,1],[\"University of California, Riverside\",62.38532110091744,23.853211009174313,13.761467889908257,0.0,1],[\"University of California, San Diego\",56.71514114627887,26.77502138579983,16.5098374679213,0.0,1],[\"University of California, San Francisco\",58.536585365853654,4.878048780487805,36.58536585365854,0.0,3],[\"University of California, Santa Barbara\",50.47169811320755,26.179245283018872,23.349056603773587,0.0,1],[\"University of California, Santa Cruz\",49.321266968325794,24.43438914027149,26.244343891402718,0.0,1],[\"University of Cambridge\",55.58510638297872,23.470744680851062,20.944148936170212,0.0,1],[\"University of Central Florida\",56.48854961832062,19.083969465648856,24.427480916030532,0.0,1],[\"University of Chicago\",58.26446280991735,27.892561983471076,13.842975206611571,0.0,1],[\"University of Chinese Academy of Sciences\",63.725490196078425,20.098039215686274,16.176470588235293,0.0,1],[\"University of Colorado\",81.81818181818183,13.636363636363635,4.545454545454546,0.0,0],[\"University of Colorado Boulder\",77.77777777777779,14.444444444444443,7.777777777777778,0.0,0],[\"University of Connecticut\",58.44155844155844,31.16883116883117,10.38961038961039,0.0,1],[\"University of Copenhagen\",65.44502617801047,23.036649214659686,11.518324607329843,0.0,1],[\"University of Delaware\",70.0,13.333333333333334,16.666666666666664,0.0,1],[\"University of Edinburgh\",51.37931034482759,25.689655172413794,22.93103448275862,0.0,1],[\"University of Electronic Science and Technology of China\",65.625,20.48611111111111,13.88888888888889,0.0,1],[\"University of Exeter\",83.33333333333334,4.166666666666666,12.5,0.0,0],[\"University of Florida\",65.3061224489796,25.510204081632654,9.183673469387756,0.0,1],[\"University of Freiburg\",56.41025641025641,20.51282051282051,23.076923076923077,0.0,1],[\"University of Geneva\",69.01408450704226,18.30985915492958,12.676056338028168,0.0,1],[\"University of Genoa\",78.57142857142857,17.857142857142858,3.571428571428571,0.0,0],[\"University of Genova\",100.0,0.0,0.0,0.0,0],[\"University of Georgia\",63.85542168674698,18.072289156626507,18.072289156626507,0.0,1],[\"University of Glasgow\",89.13043478260869,4.3478260869565215,6.521739130434782,0.0,0],[\"University of Guelph\",69.76744186046511,4.651162790697675,25.581395348837212,0.0,1],[\"University of Haifa\",58.82352941176471,31.372549019607842,9.803921568627452,0.0,1],[\"University of Helsinki\",77.17391304347827,17.391304347826086,5.434782608695652,0.0,0],[\"University of Hong Kong\",56.84210526315789,15.789473684210526,27.368421052631582,0.0,1],[\"University of Illinois\",62.06896551724138,27.586206896551722,10.344827586206897,0.0,1],[\"University of Illinois Urbana-Champaign\",58.964143426294825,24.701195219123505,16.334661354581673,0.0,1],[\"University of Illinois at Chicago\",63.58695652173913,28.26086956521739,8.152173913043478,0.0,1],[\"University of Illinois at Urbana-Champaign\",53.76737381126554,25.53035844915874,20.702267739575714,0.0,1],[\"University of Iowa\",48.201438848920866,47.482014388489205,4.316546762589928,0.0,4],[\"University of Konstanz\",47.82608695652174,34.78260869565217,17.391304347826086,0.0,4],[\"University of Liverpool\",54.166666666666664,35.41666666666667,10.416666666666668,0.0,4],[\"University of Ljubljana\",95.0,0.0,5.0,0.0,0],[\"University of London\",58.46153846153847,15.384615384615385,26.153846153846157,0.0,1],[\"University of Luxembourg\",62.7906976744186,23.25581395348837,13.953488372093023,0.0,1],[\"University of Macau\",64.51612903225806,22.58064516129032,12.903225806451612,0.0,1],[\"University of Manchester\",60.60606060606061,28.28282828282828,11.11111111111111,0.0,1],[\"University of Mannheim\",57.14285714285714,4.761904761904762,38.095238095238095,0.0,3],[\"University of Maryland\",55.84158415841585,29.108910891089106,15.049504950495049,0.0,1],[\"University of Maryland, Baltimore County\",76.0,16.0,8.0,0.0,0],[\"University of Maryland, College Park\",45.48148148148148,21.62962962962963,32.88888888888889,0.0,3],[\"University of Massachusetts\",55.26315789473685,34.21052631578947,10.526315789473683,0.0,4],[\"University of Massachusetts Amherst\",59.80582524271845,26.601941747572816,13.592233009708737,0.0,1],[\"University of Massachusetts, Amherst\",33.33333333333333,8.333333333333332,58.333333333333336,0.0,3],[\"University of Melbourne\",54.58715596330275,27.981651376146786,17.431192660550458,0.0,1],[\"University of Michigan\",64.13155190133607,22.61048304213772,13.257965056526208,0.0,1],[\"University of Michigan, Ann Arbor\",45.45454545454545,22.727272727272727,31.818181818181817,0.0,3],[\"University of Milan\",63.63636363636363,36.36363636363637,0.0,0.0,4],[\"University of Minnesota\",55.434782608695656,30.07246376811594,14.492753623188406,0.0,1],[\"University of Minnesota - Twin Cities\",76.19047619047619,14.285714285714285,9.523809523809524,0.0,0],[\"University of Minnesota, Twin Cities\",89.1891891891892,8.108108108108109,2.7027027027027026,0.0,0],[\"University of Modena and Reggio Emilia\",88.57142857142857,11.428571428571429,0.0,0.0,0],[\"University of New South Wales\",69.81132075471697,17.92452830188679,12.264150943396226,0.0,1],[\"University of North Carolina at Chapel Hill\",56.17283950617284,27.77777777777778,16.049382716049383,0.0,1],[\"University of North Carolina at Charlotte\",86.20689655172413,3.4482758620689653,10.344827586206897,0.0,0],[\"University of North Carolina, Chapel Hill\",68.18181818181817,9.090909090909092,22.727272727272727,0.0,1],[\"University of Notre Dame\",50.955414012738856,21.656050955414013,27.388535031847134,0.0,1],[\"University of Nottingham\",75.0,20.833333333333336,4.166666666666666,0.0,0],[\"University of Oregon\",61.76470588235294,20.588235294117645,17.647058823529413,0.0,1],[\"University of Oslo\",40.54054054054054,43.24324324324324,16.216216216216218,0.0,4],[\"University of Ottawa\",56.25,9.375,34.375,0.0,3],[\"University of Oxford\",56.102003642987256,27.504553734061933,16.39344262295082,0.0,1],[\"University of Pennsylvania\",55.70866141732284,28.641732283464567,15.649606299212598,0.0,1],[\"University of Pisa\",16.0,48.0,36.0,0.0,4],[\"University of Pittsburgh\",56.94444444444444,25.925925925925924,17.12962962962963,0.0,1],[\"University of Queensland\",53.191489361702125,26.595744680851062,20.212765957446805,0.0,1],[\"University of Rochester\",56.69291338582677,20.47244094488189,22.83464566929134,0.0,1],[\"University of Salzburg\",54.83870967741935,45.16129032258064,0.0,0.0,4],[\"University of Science and Technology Beijing\",70.37037037037037,22.22222222222222,7.4074074074074066,0.0,1],[\"University of Science and Technology of China\",60.85879438480595,20.726672171758878,18.414533443435175,0.0,1],[\"University of Sheffield\",79.54545454545455,11.363636363636363,9.090909090909092,0.0,0],[\"University of South Carolina\",54.166666666666664,41.66666666666667,4.166666666666666,0.0,4],[\"University of Southampton\",63.1578947368421,19.298245614035086,17.543859649122805,0.0,1],[\"University of Southern California\",54.32900432900433,24.458874458874458,21.21212121212121,0.0,1],[\"University of Stuttgart\",54.0,18.0,28.000000000000004,0.0,1],[\"University of Surrey\",43.42105263157895,19.736842105263158,36.84210526315789,0.0,3],[\"University of Sussex\",73.52941176470588,26.47058823529412,0.0,0.0,0],[\"University of Sydney\",52.95238095238095,24.761904761904763,22.285714285714285,0.0,1],[\"University of Technology Sydney\",54.6875,21.875,23.4375,0.0,1],[\"University of Technology, Sydney\",100.0,0.0,0.0,0.0,0],[\"University of Texas\",57.14285714285714,42.857142857142854,0.0,0.0,4],[\"University of Texas at Arlington\",72.15189873417721,21.518987341772153,6.329113924050633,0.0,1],[\"University of Texas at Austin\",56.64556962025317,25.58016877637131,17.77426160337553,0.0,1],[\"University of Texas at Dallas\",72.32704402515722,16.9811320754717,10.69182389937107,0.0,0],[\"University of Tokyo\",69.02173913043478,18.478260869565215,12.5,0.0,1],[\"University of Toronto\",56.48801128349788,19.957686882933707,23.554301833568406,0.0,1],[\"University of Trento\",65.68627450980392,11.76470588235294,22.54901960784314,0.0,1],[\"University of Tuebingen\",43.47826086956522,21.73913043478261,34.78260869565217,0.0,3],[\"University of Twente\",47.5,25.0,27.500000000000004,0.0,1],[\"University of T\\u00fcbingen\",57.11835334476844,21.955403087478558,20.926243567753,0.0,1],[\"University of Utah\",42.924528301886795,38.67924528301887,18.39622641509434,0.0,4],[\"University of Vienna\",54.83870967741935,38.70967741935484,6.451612903225806,0.0,4],[\"University of Virginia\",49.84709480122324,36.08562691131498,14.067278287461773,0.0,4],[\"University of Warsaw\",50.98039215686274,39.21568627450981,9.803921568627452,0.0,4],[\"University of Warwick\",69.86301369863014,23.28767123287671,6.8493150684931505,0.0,1],[\"University of Washington\",64.01985111662532,18.424317617866002,17.555831265508683,0.0,1],[\"University of Waterloo\",55.44303797468354,25.569620253164555,18.9873417721519,0.0,1],[\"University of Western Ontario\",55.00000000000001,20.0,25.0,0.0,1],[\"University of Wisconsin\",71.42857142857143,28.57142857142857,0.0,0.0,1],[\"University of Wisconsin - Madison\",61.30952380952381,22.023809523809522,16.666666666666664,0.0,1],[\"University of Wisconsin, Madison\",48.31460674157304,15.168539325842698,36.51685393258427,0.0,3],[\"University of Wisconsin-Madison\",57.467532467532465,35.064935064935064,7.467532467532467,0.0,4],[\"University of Wisconsin\\u2013Madison\",63.70967741935484,29.838709677419356,6.451612903225806,0.0,1],[\"University of Zurich\",63.63636363636363,23.636363636363637,12.727272727272727,0.0,1],[\"University of the Basque Country\",45.0,25.0,30.0,0.0,1],[\"University of the Chinese Academy of Sciences\",61.76470588235294,18.627450980392158,19.607843137254903,0.0,1],[\"University of the Witwatersrand\",36.36363636363637,18.181818181818183,45.45454545454545,0.0,3],[\"Universit\\u00e0 Bocconi\",30.555555555555557,44.44444444444444,25.0,0.0,4],[\"Universit\\u00e0 degli Studi di Milano\",90.47619047619048,9.523809523809524,0.0,0.0,0],[\"Universit\\u00e0 della Svizzera italiana\",55.55555555555556,7.936507936507936,36.507936507936506,0.0,3],[\"Universit\\u00e4t Potsdam\",80.95238095238095,19.047619047619047,0.0,0.0,0],[\"Universit\\u00e9 C\\u00f4te d'Azur\",35.0,47.5,17.5,0.0,4],[\"Universit\\u00e9 Grenoble Alpes\",46.51162790697674,51.162790697674424,2.3255813953488373,0.0,4],[\"Universit\\u00e9 Gustave Eiffel\",60.0,30.0,10.0,0.0,1],[\"Universit\\u00e9 Laval\",76.19047619047619,19.047619047619047,4.761904761904762,0.0,0],[\"Universit\\u00e9 Paris-Dauphine\",51.724137931034484,37.93103448275862,10.344827586206897,0.0,4],[\"Universit\\u00e9 Paris-Saclay\",64.0,24.0,12.0,0.0,1],[\"Universit\\u00e9 Pierre et Marie Curie\",61.904761904761905,23.809523809523807,14.285714285714285,0.0,1],[\"Universit\\u00e9 catholique de Louvain\",51.61290322580645,38.70967741935484,9.67741935483871,0.0,4],[\"Universit\\u00e9 de Lille\",44.0,36.0,20.0,0.0,4],[\"Universit\\u00e9 de Montr\\u00e9al\",43.154761904761905,21.03174603174603,35.81349206349206,0.0,3],[\"Uppsala University\",62.31884057971014,24.637681159420293,13.043478260869565,0.0,1],[\"Vanderbilt University\",59.77011494252874,22.988505747126435,17.24137931034483,0.0,1],[\"Vector Institute\",54.63659147869674,26.81704260651629,18.546365914786968,0.0,1],[\"Vienna University of Technology\",47.91666666666667,43.75,8.333333333333332,0.0,4],[\"VinAI Research\",47.45762711864407,37.28813559322034,15.254237288135593,100.0,2],[\"Virginia Polytechnic Institute and State University\",58.854166666666664,18.229166666666664,22.916666666666664,0.0,1],[\"Visa\",43.333333333333336,20.0,36.666666666666664,100.0,3],[\"Volkswagen Group\",61.904761904761905,23.809523809523807,14.285714285714285,100.0,2],[\"Vrije Universiteit Amsterdam\",62.5,12.5,25.0,0.0,1],[\"Vrije Universiteit Brussel\",24.137931034482758,55.172413793103445,20.689655172413794,0.0,4],[\"Walmart\",43.333333333333336,30.0,26.666666666666668,100.0,2],[\"Warsaw University of Technology\",51.724137931034484,37.93103448275862,10.344827586206897,0.0,4],[\"Washington State University\",62.5,27.500000000000004,10.0,0.0,1],[\"Washington University in St. Louis\",65.61085972850678,18.099547511312217,16.289592760180994,0.0,1],[\"Waymo\",74.57627118644068,6.779661016949152,18.64406779661017,100.0,2],[\"Wayne State University\",64.1025641025641,25.64102564102564,10.256410256410255,0.0,1],[\"Weizmann Institute of Science\",59.375,27.083333333333332,13.541666666666666,0.0,1],[\"Westlake University\",49.25373134328358,25.07462686567164,25.671641791044774,0.0,1],[\"Worcester Polytechnic Institute\",73.80952380952381,14.285714285714285,11.904761904761903,0.0,0],[\"Wroclaw University of Science and Technology\",95.83333333333334,4.166666666666666,0.0,0.0,0],[\"Wuhan University\",61.97718631178707,22.813688212927758,15.209125475285171,0.0,1],[\"Xi'an Jiaotong University\",67.52873563218391,22.413793103448278,10.057471264367816,0.0,1],[\"Xi'an University of Electronic Science and Technology\",65.38461538461539,19.230769230769234,15.384615384615385,0.0,1],[\"Xiamen University\",62.36933797909408,26.82926829268293,10.801393728222997,0.0,1],[\"Xiaomi\",69.6969696969697,3.0303030303030303,27.27272727272727,100.0,2],[\"Xidian University\",64.0,27.333333333333332,8.666666666666668,0.0,1],[\"Yahoo\",69.81132075471697,22.641509433962266,7.547169811320755,100.0,2],[\"Yahoo!\",88.23529411764706,11.76470588235294,0.0,100.0,0],[\"Yale University\",52.97029702970298,31.51815181518152,15.51155115511551,0.0,1],[\"Yandex\",55.333333333333336,30.666666666666664,14.000000000000002,100.0,2],[\"Yonsei University\",48.837209302325576,23.837209302325583,27.325581395348834,0.0,1],[\"York University\",59.09090909090909,13.636363636363635,27.27272727272727,0.0,1],[\"Zhejiang Lab\",75.75757575757575,24.242424242424242,0.0,100.0,2],[\"Zhejiang University\",62.15722120658135,20.2315661182206,17.61121267519805,0.0,1],[\"Zhejiang University of Technology\",60.0,8.0,32.0,0.0,1],[\"Zuse Institute Berlin\",33.33333333333333,46.666666666666664,20.0,0.0,4],[\"\\u00c9cole Normale Sup\\u00e9rieure\",67.3521850899743,23.90745501285347,8.740359897172237,0.0,1],[\"\\u00c9cole Normale Sup\\u00e9rieure Paris-Saclay\",63.49206349206349,31.746031746031743,4.761904761904762,0.0,1],[\"\\u00c9cole Normale Sup\\u00e9rieure de Lyon\",72.97297297297297,16.216216216216218,10.81081081081081,0.0,0],[\"\\u00c9cole Normale Sup\\u00e9rieure de Paris\",30.0,35.0,35.0,0.0,3],[\"\\u00c9cole Polytechnique\",59.471365638766514,30.837004405286343,9.691629955947137,0.0,1],[\"\\u00c9cole Polytechnique F\\u00e9d\\u00e9rale de Lausanne\",58.333333333333336,33.41503267973856,8.251633986928104,0.0,1],[\"\\u00c9cole Polytechnique de Montr\\u00e9al\",23.076923076923077,42.30769230769231,34.61538461538461,0.0,4],[\"\\u00c9cole de technologie sup\\u00e9rieure\",76.92307692307693,19.230769230769234,3.8461538461538463,0.0,0],[\"\\u00c9cole des Ponts ParisTech\",62.5,22.916666666666664,14.583333333333334,0.0,1]],\"hovertemplate\":\"PCA1=%{x}\\u003cbr\\u003ePCA2=%{y}\\u003cbr\\u003eInstitution=%{customdata[0]}\\u003cbr\\u003epct_neurips=%{customdata[1]:.1f}\\u003cbr\\u003epct_icml=%{customdata[2]:.1f}\\u003cbr\\u003epct_iclr=%{customdata[3]:.1f}\\u003cbr\\u003epct_industry=%{customdata[4]:.1f}\\u003cbr\\u003eCluster ID=%{marker.color}\\u003cextra\\u003e\\u003c\\u002fextra\\u003e\",\"legendgroup\":\"\",\"marker\":{\"color\":{\"dtype\":\"i4\",\"bdata\":\"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\"},\"coloraxis\":\"coloraxis\",\"symbol\":\"circle\"},\"mode\":\"markers\",\"name\":\"\",\"orientation\":\"v\",\"showlegend\":false,\"x\":{\"dtype\":\"f8\",\"bdata\":\"cJKO7b4O77+6a6iugO7uv6R1g\\u002fsUuAxAk3cloBJA9L+QaDxD76Pnv5bkYqBxfPg\\u002fOlIqVv6m6T8yc4tXIxDKvxJVnupt0Hk\\u002fALI4P\\u002fDJ1D8aypxbt1fXP6DorDdqscC\\u002fD+hbm1PT9r9gJxnr7FDwvxoqMAHwNtC\\u002flrLozKM24z\\u002fwxeMPs9bVPwQVKlEkygjA6rpuSOqD0D9RdVwTJg3fv3Vsb8vntAJAhTpUk2dDyr\\u002fkTZey2\\u002f7dPx6wzZZyVPK\\u002fu51uYEVr4z8DYpZKrt3\\u002fPxIbj35\\u002fkAHA9XOejZZTrD9PBmTsboSivyEe5mUnFvi\\u002fcfMVBUY75T+228ngANK8Px8rlk5Nnfs\\u002f4FLx5Agv9L\\u002fFlgAXeS7Ovw+hxgfI7gTAiCZpuVts0r90VJI5Ztjzv3Vc\\u002ftyk6fA\\u002fCMld0UC33D9L01XIk5f5vx88qW9K1PS\\u002faitr7HNN8T+Mt3xDwIj9P\\u002fRLGvXPZ90\\u002fX62KmfZt9r9fPcZETELjP9bwZ3KwpvU\\u002fa9A3+NtK2j+jeUME8vn+v20JU9L0Quw\\u002fM09qNZrkAEDF6UcYHmMAwEnh2pmjsPG\\u002fp5S9QoXvxL8W8erF1MumPwlIDntlTQHAiEmJZD776L9FowRH3Qr3v85aWLv2n8k\\u002fvzrG+uW78b8ny8VaIqzev96F4GxEBvA\\u002fqwGrLw0a+b+QASgMwOn0v4bcU6G\\u002fSxc\\u002flimOVvim+b92H8tYrKHiv2K0qzezBgDAoun86bQm1D9568z1DNLjv1JJwnTuY8m\\u002f7e+bkB8Lxb+oJIWB94ThP0679sdPGvM\\u002fMMekKhkD7b8Gg\\u002fhqKNbyPw0VQw4IBtK\\u002fn395zJc47T\\u002ffwhECosP1P15HRsHD6vO\\u002fe4JLp+CC\\u002fr9hv1EPbqijv3a\\u002fQgK7KfM\\u002fpuL9lkb6tT\\u002fw5E2uXurGvxsiWHG1rvS\\u002fRUZ9jSVh9z\\u002f9IGslxE\\u002f7P0ITiUY+m+M\\u002f1d2X\\u002fjzL3j87njBU0jnavzZ23jNbNee\\u002fuw2JkDUdwz+yM9HbGjb5P4iygz6Vyse\\u002fNMx8nd\\u002fo87\\u002ffV54Pp53lP6pXl564X+Q\\u002fD0kmouwd0T8JBR407\\u002f3nP1gl14+VWdM\\u002ftZocrUpb4T89yY3KOg\\u002fLv6R1g\\u002fsUuAxAtMZXNG\\u002fD5r+nxc4DRl4AwP\\u002f1PM9aAfU\\u002fzMNgLNZqkT+bVH1+9L3zP0PdRhCJtQZAezZTxABD9D9zeFC5ci35v+He\\u002flcP27O\\u002fTYhLlL9F1D8hQVnUg2DPv5l4xKTwI9q\\u002fuqmikU6R4b8oHCn1qRnzv+PlD3cNtvS\\u002fxeck2AURB8BVFF0CUXP6P\\u002fq5IlhXJQHAoWeJ9t4vF8CK27aTZHbxP7l6xhfz0e6\\u002funn09QIL6L\\u002fXkwc+viEOQBlweNECDfg\\u002ffQz9m8UJD8DUcam8VV7cP9UVAiBWSKC\\u002f6nJRnPRBA0Ch8a61BYygP5r2YS7oUwzAOzZklVwQB8BzKQEoUevqv6NTZpizQMI\\u002fqLskFBCl6T\\u002fNrumWMgfMv3GchWG0FPw\\u002fwV1BO8z49T8wEZzBQWHUPxQphLgo3fG\\u002f8pY4ynCU+b+ib0r8UEwBQHU16gZH7+w\\u002fIYjThLQe5L9rzUqa85f1vzlYq5rNSRPAjWPG8brCAUCZYo6wGvLBvyWAGf8xVdA\\u002fiE6dI+5VyT+TN9xffzvHP9L33MH3zwHAnWAjIHvn\\u002fz9SlHOvLADCP39dH21urPU\\u002fmd7kZbbP5r9ppkNz2aPTv6eUvUKF78S\\u002fLg942K4k8z\\u002fXnSkt+wbVv7\\u002f91Q4Oc+u\\u002fgVdrn5JF1j\\u002f\\u002fgsLjjs3ev4uUzVDD9OA\\u002fSorqlPml+L9vMEtaF6cGQMtAWb8x8dC\\u002fdhhBX7Tz8L+Bz1udp9ToP35Bore2Ifo\\u002fLUmWHnqlz7\\u002fJWFcfLEHfP3Z2vaSSde0\\u002fcWo9ISmHA0A+Rsz1PVezv\\u002f3Ib5Orwfc\\u002fprX43iU\\u002f5L8E2WesgL3Kv\\u002fmeCJK+6p2\\u002fpzcJyGDN17\\u002f46yp6p570P\\u002fFJmt6uGNQ\\u002fiWOY+p3U3j8u0DIrdlwBQG0Qn8NGPdG\\u002fZ1wmykWJ5b+HI9eSWHDfP9lPHQsUPcO\\u002fHY9fmc5T9j9yQtnZSGLnP73QHOHEG8q\\u002f2zzgiO9CAECldq3JxZPMP7qrTBavGeW\\u002fludBsb6Q8D\\u002fu1hplJLH9v2o\\u002ferkOCfI\\u002fHOpE5+Y09T9RlqWCnmsNwC4+CdozjOA\\u002fyz7Y7Pgo8L+F36\\u002fNzi3kvy6hIIvOUNi\\u002fxwKZlsa88D8KSFR51Fn9P04uhI20l80\\u002fJj36ZHTYwL+5djskdnn8v8P\\u002fItafhvS\\u002fe2vZvOOhBkAuN\\u002fl2wJzgv\\u002fn2KePeSOU\\u002fs3B1ui2iDMBqMarGPyWYv6w8+cBd2ee\\u002fbTh+r9wo4r9m1rPaycmZP1+yerbydti\\u002f3mHVL9OJ8L9ZJYcnwBHyv1VNjVjUddy\\u002fhZvVTG2C6j\\u002f7pmYPDk\\u002fyv1TQ4etLo8Q\\u002f4fJWDxzM57\\u002fJYxlVyQDwP\\u002fk2sgwtSPO\\u002fjOcfdqp\\u002f8r\\u002fnffGnbOGOP2VcBUgAadw\\u002f6w2o2vBo+D+NDLHDeNvPvzckYr3yVuK\\u002fwc5GgVG1+j9KHKhL\\u002fB4NwEJFRnDk6\\u002fG\\u002fvqukpAu2AMDXqMcAxIbrP92pBXcfseQ\\u002faCMgCVCe2r9GRiOdToH2v8WXO4X3J\\u002fO\\u002fay0cRamOAEDio7yFJf8HwAYsFkBtjeY\\u002f4+zhj5RD0L8QhyKS6GzwvyKKHn+TgKm\\u002friuzkWZp9L9769enwj3jvxc\\u002fK0dDKvM\\u002f1KdlEd4xBED3iWW\\u002fIePPv95USGOYEPi\\u002fE5Yjms+MA0B3avCQqX7DP+Hizapv86e\\u002fUohnvKlOBcCUGUIuvTzoPy4I8pCl6ADAqIuyIa9dCMD2oM1Mky\\u002fVvw6sc4rD3wJA2MMaRv5a9r+kdYP7FLgMQNM+WSaCY+q\\u002fa4faL3L\\u002f9b+qtUotoM79v\\u002ffwxb\\u002fipPC\\u002fCT\\u002fPFxXi579V6Nz1yMvkvy4FdO8y89U\\u002freP\\u002fQyj\\u002f\\u002fz8aUYsyoLn1v4Z9UjHfMPU\\u002fn3nk24QpwT9+5OIyLbm7v8KihaK0cNG\\u002fEw+8T1AmEMDVJMfKCczgP3sbIgyESwXAOgwQIea\\u002f17+sImbV7TvSvww29299uu8\\u002f8gzjSKMtzb8oqGPSc+INQO0ZdlGlDAJA+r6tDYsfzr\\u002fFp5r+r2j0P4oqkeT0N9y\\u002fSa90hsS7\\u002fb\\u002f75XxuZNzvvym\\u002fvfkL+NG\\u002fKaSeIHI58T\\u002fkiNaAIpAEQOMCxJpH6gFA4\\u002fyMaCPo5D+fqbnEp2G3PyWPt13PZuW\\u002fXLPye9ns3L9BEU1hFIrUP6iRM6Q9QPM\\u002fzXZiQ9hyxT8\\u002fgdZbUKDevxiliQz9r\\u002fO\\u002fcPB893uC2z9iDYs6Nt58P+sLspSd\\u002frE\\u002fF\\u002f+SL+Qs+r9gB3Q9mpwLwJwik7BG1PO\\u002fCIxCvT7yyL8yB4KJjDfiP4vsZgFH0em\\u002fXl379k2CyL+Nc0HbgTIDQJEFDIlz2NS\\u002fUmqq3QW80r949RfnBtv4P9fquoK+tPU\\u002fZdy+n4tW8r\\u002fyEG888wfdv4PXulZy5ADA5qSY55t3179DbPiK+P+uPxNqb+jye\\u002fK\\u002fpHWD+xS4DEA6w1vUdLnsv8zvCxzptfE\\u002fVgBH+aVo4r+lib7khHbUPwgqWdSSh9K\\u002fq2okhMTA8j\\u002fHo5YzCvPTv\\u002fKD3sJKagZAcMnz97lG+j83OVptoiQLQI4J+BQpPdm\\u002fVLXKJmsTAECLLkBixAXwv6feNjItJtE\\u002fvQ4TlTYN3r8efNi+5sv0P4El2k0GQuI\\u002fZiPYv5ni5L8HK3q5Sb3Cv2vFpB2rJ6a\\u002fWo1BCdHD6b\\u002fBdXBrBjbov82b+5Yljtm\\u002fOJ6T9p\\u002fJ9L9TImdib7TrP5UmG5Pgifm\\u002fiExpnPrY\\u002fD\\u002fVx1d8VKuiP6E\\u002f3rPI162\\u002fVUMn3DjTAcAmf98UU6j1v2BM58cUA9K\\u002fep+gYmGK7j\\u002f5\\u002fGHE70zvvyDRoNfwJbe\\u002fH9yk8VCT5L+rg6ZG53b\\u002fv+44T2MHf+m\\u002f2szKMUqNnj+ydr438J\\u002fRP72yg36WE\\u002f8\\u002fbNodcZsj+L91IHpdhXryv7UnkfuYVPK\\u002f9Iu1loHf67\\u002fQ31RHGzb1v8FXzpLdBug\\u002f\\u002fZ\\u002fmwcv+0z+icTY0TTa5v5rGV1iiV+m\\u002fdMTRbI1T4r8LZ\\u002fCfS7gNwHdXiA0NUes\\u002fwBoS7QfzpD9STK0M3LXjP4mbO5Pht+k\\u002fZcgtF4Yj7b80CvEUpT3Gv472b8E3jPc\\u002fah\\u002f8rpn07j\\u002fL10X9INQIQPEJNmVL1em\\u002f8cBjSw584D\\u002fGMXst40rgP0KhdSYPsvc\\u002fXmd40sYa4T9uPgvHoF61P6YlV75\\u002f+Oa\\u002fN9nmdIdK47\\u002f0J4ozbWPrv35XQG8jweq\\u002fZOilC5rfC8BzOoq1OU\\u002fpP80vMyFl5c8\\u002femkdnnWWwb93\\u002frQglzzqP2oMuGU0W7i\\u002fyNxR6C6Fyb9HiNAt\\u002fYrrP8ky+upaHwLAv33dt18Tjr82CRtNE0\\u002fwP4D4sGENy\\u002fG\\u002fMLsP5E5o0L8wlCP40wGpP+CTkkLFCOQ\\u002fpHWD+xS4DECm3ZXQxur9PwxSCtQ2SuE\\u002frKnByE8d1j\\u002fQq5gn+U\\u002flvzzQBS+A3ADAt19wLan2xz\\u002fXPPmXUxGIv0k2wZyNwgpAgLZufMAo0D97P1nsj6Dqv11XBKpp3Nc\\u002fu0IuFU1bxb9JiDCbU9\\u002fiv52ZY9qrPto\\u002fR78bVZWT4r\\u002f3W8RaRffyv\\u002fvnMaoqttm\\u002focd1fVLl5L\\u002ft7x7ig6Wvvy9zIrS2WO6\\u002fQDL2ILBH4L9ttfzKoZDzP6eUvUKF78S\\u002fvqZjTsTux7\\u002fKKGlvfT7mv3Kg2K27G7y\\u002fygb\\u002f55kj0j8hyOKDVGjiP1F+d+h88I8\\u002fwh+U0ck85j82S50Qrg7QP0mPdKegobk\\u002fEdyQA1z7or+MdnRmrDbuv\\u002f9Sjk5nZPG\\u002fzkOsRPtuxj\\u002fmFAkDwQoIQFYXECtEhwBAULkp80z05b9T4duKwo\\u002f1Pz8KnCASa\\u002fm\\u002f97LjI29C2L\\u002fmkbBm3cfhv38\\u002fbLkyaPK\\u002fI7qKpgiq5r+1iZFz6pHMv4qUhdOwdOU\\u002fbHajls954T9Qw1M4u+Hwv23vzztW5va\\u002ff3Q4NEoT+z8VEZz2nrXdPzAN9LNZnOQ\\u002fkttIo9xe\\u002fj8Mt8DDIwH0v0\\u002fdCdeFFABAihy47RsW0b+s\\u002fvAfcnTbv6sHmFO4Odc\\u002f15MHPr4hDkATV49Tcx7UP6YjglFqq7s\\u002fiT6RyIN\\u002f1T9nwFAVX9wIQK4LxivcV\\u002fQ\\u002f3dg2x3f94r+PXLaydT3TP0Z4x4kMoMA\\u002fO4hYHP06r78zR4Kbo\\u002fLhv88hDB6BIdC\\u002fPRpIfYth4D8mywV3ar7gv81lSQnYMPA\\u002feFtebo4L1D9bRRcUTdLKv6LWAEUeFby\\u002fQllNtFeF6b+luoxhZijtv8P7MHnj4tS\\u002fDDWwPfBe0L8RkYBYuPeuvwxTlWDDUNs\\u002fU6EsiTfVAEByFnOyvqP7P9vD7mj8AaG\\u002fyLmsrtEg4z+zAU+sLc3vPwIYUZN12Oa\\u002fqZH\\u002feVdn4z\\u002fBbNClfbkBQCtBxTPU9+I\\u002fWfO\\u002fwk2L0L+2JhmlelvtPxRC8UtKAv0\\u002f15MHPr4hDkCg1anfxqzbPxv14toeFQZAWLaaulIz7j\\u002fk6CW6sQNrP8IhHc7H4vo\\u002fPUP5IxHdzb\\u002fFm0u+suvSP9ZSXtzkMHW\\u002fyJdGayEu3D+dshJ\\u002fx2Dfv9tvdQ41IO6\\u002f8C95bWFJ8L9Ss+kxkOzav2YQAEyNYApAmuqY3iwmtb8VZoTFMVvWPzH6LyNoSuA\\u002fSQNGZ+yNxD8dJo9cxNXOv+8Bky1kLNK\\u002fnQnqce0M+T94C6Lr0n30v43mYOVzltS\\u002fDRlbTkd7tD9O0Zjqs7YDwIS\\u002fjV+T8dm\\u002fNZStRPVG3j9kOd2Fk3n0v07aIixWKd4\\u002fsiGE\\u002fbtq1L9qALBYWj\\u002f5P4FkhSVuOQZAwXonGMPYBUALW+BDQ7bvPzBMgCfLddC\\u002fUHyK2h7dA0CJTFhmMebpP4QIm4e\\u002fiei\\u002fJPGW7sHM9z8V5NHPskbPPyIi3U7vyfq\\u002fW0PvN4LS079WSOrxRfHQvxn9CkatEdO\\u002f7IeoL\\u002fSyD8Acr5w0YmvIv\\u002fGVc0LeTuG\\u002fZxxyeoG1zb\\u002fbiohqbNzUvwaDWLNA6\\u002fA\\u002fIWr0KgVzxD8VLxayYiL+P6D+UoPxn9m\\u002fUpFOWUq91z+jRf1gETrcv7M3tRTIi9+\\u002f7vUIiDGv978eWYx9WuL1P9NqcG+HN+K\\u002flqLUNz+c2r\\u002fXkwc+viEOQIxHGQDy\\u002fb2\\u002fv2WeItqO8z9bRd\\u002fYdyfMv7D+SOzQlfM\\u002fgCZZothl7T\\u002fbimaQRDHQv+6poctiruI\\u002f5iTr545+97\\u002f46\\u002fev6EjxvxNUOaYW+8e\\u002fFfwOFRJy97+3j\\u002fLkxTPWv9y3rEYHXuq\\u002fETjfVkmj5r+yFoCSXDbwP+2SL3VjvNw\\u002fO4FCDa1N1b8\\u002fSjHzbx\\u002fZv0Cqrr6U1vI\\u002f7SrAuXFnyj\\u002fu9vxxhJLwvyJbTMZxq7y\\u002fd5hPyNU+3T8L6IRrAITbP2lv\\u002f6EZCvW\\u002f8rPS7v51zj+QbduKpS4BwH9C9\\u002fJ43ATAmikiSUI6B0CiaOHiDUvYv12\\u002fPFTGUgBAfCB+5sBxAcBhnqT\\u002f0mjxvyVjidEi+bs\\u002fcgoihrV++T+R05KlkInkv1TqXbOXxt0\\u002fp942Mi0m0T+OighCYcrkv4Yrl085+PW\\u002fXH2C+lgE+L9wLyp\\u002fEM\\u002fTP1\\u002fW78dinrA\\u002fzgOkLIfj2b+9Rwu0fV7vv5xPBBMIifO\\u002f11J+1quyor8Kn\\u002feVvaD6vyi0V3iMY7c\\u002fbzmnk7Zf0j\\u002fnrHSO0WYJwCu9IVCxG\\u002fq\\u002fkdOSpZCJ5L+thKo2AH7VP+Kx9Yj2HOM\\u002f4NpPTIqb8z8i7P0ZqbveP0cZtTH2DqU\\u002f6\\u002fUPkUtL7b9HRoTH7qv1P1414wJ4HAtAd0WCmI9g0T\\u002f8mvYIhVLpPx58XdYXjeI\\u002fDc5U8VuR1D8zBKO4WyvoP9Vs0GX9d94\\u002fc+wDjyKN6j9n8kkYuDAEQA7gZ7L4deG\\u002fnrK8xzUa4L8D6+kZgqzuv\\u002fmeCJK+6p2\\u002f4J8CARBK9j\\u002fe+dDsBOzRP9Pbp26yW6M\\u002ftjUUurG3AsBBoS6fgfLoPztnTuSrVdw\\u002fpXeHyfuD9D8aUSuEGYYFwLHnFNK17q8\\u002fpZF5pC15or\\u002f0G8W5XYgKwEW6PUjQmvo\\u002fQRFNYRSK1D8=\"},\"xaxis\":\"x\",\"y\":{\"dtype\":\"f8\",\"bdata\":\"83pHwTQm6D+4dfiF2Zb9vzbQxMXVava\\u002fPp0XRmQ3578mPe9KSkT4P1ZcxG\\u002f3nak\\u002fz\\u002fHY+TsI4j\\u002fnNdL3mIPpPz9rBFtkdO0\\u002fcgpxb2yJ9j9Bx7BEqTvlvy9WLz26Jv0\\u002fe8rClTEM7z8a7C3tGuH2v60gaMccDeW\\u002fLJeeQLBq9D8X8inmdNfvP9Lza3iixQLA1OTz9I0n4r+iio0XMTjpv8LrV3HojwDAxGgE2\\u002fCS7r\\u002fVLFvfEK71v4RHN4Jm\\u002f+i\\u002fnMApF5nw4b9jy3MQ9CeqP1jJ6fix\\u002ffq\\u002f3OihCbzT8b8OA0kCT\\u002fr+v5VzTZ3zn+6\\u002fraxeB2PT6L9EsKZYPw7VP2rkSET9o\\u002fi\\u002fm6poFw9tBUD+\\u002feXtqZnfv1XWp8VkEM4\\u002fb4LxL+tS77\\u002fwZ5gVHDwBQBLQisoaq\\u002fW\\u002fZvUd4HaT3b+7EVeb54Xuv2JEh0r59PW\\u002fDxx2rzKdwj9BgfB\\u002fXLfgv3gvPPR9VPc\\u002fV+VVWRG85D9vl9AqH2a5v7Hmhdyvme+\\u002fmdCizb\\u002fZ9D+pciO6BGjPP03PkQlIUvk\\u002fiG04GZyQ5b\\u002fEINs2t\\u002fz8v2yi+vNnwvi\\u002fN7fP1M8Q5T+vGd90sE\\u002fqPzDpsM1BgPe\\u002flWkMiOZiAUBNvtk9la3HP\\u002fh7pHFCtdM\\u002fnXr6ATfR8r+Hwhro4lXwv4oXGXKQ0MS\\u002fW+lzJCD8+78duUHR6Z3eP+gR8P2A3vA\\u002fttWBzubGCEBtNoc\\u002fMM74v8IYqeyvF\\u002f8\\u002fDEJv8ncW6z9Rt5cW2usBQJQw06V2COK\\u002f9UwN\\u002fDNhej+DmFNzDfjhPyVUO+j7i+g\\u002fnT0MDCpX+z9p8YQ+3kjXP9PFc1yqovo\\u002fX+MU9e6boT\\u002fOn4PesQidP2wT1v2nS\\u002fk\\u002f0MLkyP726T9r5aqUUPLgP45tK9VOROe\\u002f906v5t\\u002fp1D\\u002f3nQHW9YG9P3DOO9Z+dvQ\\u002fMFZmDjvl878Rbt3VxQjwP3wjUckA5Ms\\u002fGTynawmlAcCzNSc9qUTgv5rLHAzIOvo\\u002fwUKwzt1D3D9rNAFJm4PxPyOY4FEUJvQ\\u002fu+Gcvq3q3T+xX+\\u002fN6VPpv+Hvqju\\u002fB+Y\\u002f8MtuPXzr379LnaGaP7TJP3aOoRTfdve\\u002f5jchtuUs0r8EPRAYkqbNPzbQxMXVava\\u002fgICUIFvF5D8yEVjVWvb6v9ew1AoxJ8u\\u002fk24fqoed4T+7g1BGd1y+vzLsU9Z4Q+K\\u002fAnVeTTdZ8D+OzhNrkXAEQIwIdN8sl+I\\u002f4zaBh8qe4z\\u002fFVjGvQtsAQFk1z4GA0bA\\u002fO0gqGuJU4L\\u002f13\\u002fc8kYnsPxxiCU1iz\\u002fG\\u002f1T5M2P\\u002fj979u4A1C7pj1v5baZpao8fQ\\u002fv+GpRwyuGcCQW6XoLdfgv13Bw\\u002f0f9uy\\u002fM4WMjEIMyr8eFJat\\u002frvcv0se5mcWXKw\\u002fCMkVJBi7+D\\u002fTmL2wwb35PyiRBqTAIe0\\u002fOp1u7cdH4D\\u002fq6tnRY\\u002faVv9fame1TJOC\\u002fTjknAy34AEDcwVI7D2Djv1VOhcTScHs\\u002fXdXhXtrRwT+ttLXu5VLDP+gZloclZPi\\u002fZg+EiRvM7T+A8IEpaiXWvwNT4wMvKt+\\u002fyYbOpixF8L+OLVQ+0yHVv0QPvUKEit4\\u002fixv53louAkDeEor3CMgAwMYXcAlFI+S\\u002fmy2vgHTc5L87p4T248Xuv5+WFAfPtKk\\u002fObILNXCV5j+69srPlujePyBbO34srfe\\u002fmeQR\\u002fc2U67+7mpgASj\\u002fgvyX3YLVZBfa\\u002fxppzMggd5T\\u002fPwWG9fLqhvze3z9TPEOU\\u002feSHgRp2NtD+zG+acgwy9P6IGGa1hb8o\\u002fzV3IMNq48z951WvxSrbRP1rxpNJSrt+\\u002fRCpJ9ofm\\u002f7\\u002f9OZPTtP\\u002fsv3jWX7g2Bui\\u002fqbyxiJfo+L8y3QTJ2SHLv\\u002fe3wJZmGfS\\u002f0sVf+WJI4L\\u002fVXyEImF7XP6T4jkzBzuw\\u002fGk38DPbu47+PCmp5QTroP4OP0QNOd+I\\u002fFG7bJv+69T99LvnQABrqP63VQEmTTu6\\u002fFi7paTxb4z987WL+GUPzvw8zH5LWaPe\\u002f94XomGO76D+ws+knUpjgPzlWRy40Ld0\\u002fSM8Vpiva27+eESuMiUv2Pz2mtz7v+vE\\u002fUB9uyH2B5b87+99ty+\\u002fmv\\u002fKVORyIV8y\\u002fH8gpiDm53z\\u002f8Rz9N2erkP\\u002fla5Zd11QHAZl1rlCIe3T8YjQoOv0r4P4\\u002fNLiGy89y\\u002f+q+gfoa1wL8OCWG8VGTtP\\u002fGWoQinC90\\u002fnamQGN7A7r+gOq4NBI39P5yoSBwFlPU\\u002f+UUQdZvJ4D9OYIT2IurhP3BqaDwuJtA\\u002fAerXCD7c7b+6XE4s0Ab7v1KbanLdzgfAFK6wcokTyz8UE7ioKvf8P0Jj\\u002fWSvQu4\\u002fopMfaA1a+b92RYdbRlTtv5GhLKr9zO8\\u002flbClfnjS6T+asr2tZgLGv9wb86bvvtA\\u002fsLZO+GqC5j+J9QkLB2P5P1bjsCobGN2\\u002fOsjbxSjt+r95Cpei3Ef0v43KePMQJOq\\u002fjNR4OeyG1j+ltPKZGcbZPxpM40zYweK\\u002ftwdxSVKx+r+zxaWYgHTjPxosVsJ5Id6\\u002f4ogfyiMZ\\u002fL+55zrdGHf5P3at5pi5nwDAdMW9ZWYH4j9UYiegfjT6PzOQHHod18y\\u002fXWShwBYU+r+QRxfuodv1P5w7F8zz4fy\\u002ffqZ0ZJ073b8FgCNJdX\\u002fwv39RpIB7hfo\\u002fbfxDMz9B8L\\u002fJwBboFUrtPy5gPeh0U+a\\u002fItVBXvX7\\u002fj+Sx2EUIUP0P94sGaQB1uE\\u002fWn6TTpMdxT8j8JZUfnHwPzFTibCFu+u\\u002fnLMD9c\\u002ftyb\\u002fEf73XalPTP7DFcleO\\u002f\\u002fK\\u002fJ8X06ZCqwj\\u002fYKF+SHU\\u002fNvy+AUDJpLaE\\u002f\\u002fruEM6lX7z87nqLmUgzzPz5Vk0HtIgjAz+Iq5ZCitL8ERgZ2LwnSP1rNsr32A96\\u002fEVME\\u002f1rZ4D820MTF1Wr2vwkUfj69GQnAQ0V+JomY\\u002fb8PQ0zL+dbwv5X1fjsWEeK\\u002fwH5yjyuK4r9Ud1P9PI7wv3+gtJqZmc6\\u002fMuf7sNkq6b9r9ZX3xgu2v43ZWUOC+sg\\u002fNi\\u002fpDvS20r9UslB1JR7Zv58VG+VoNtG\\u002flDETUAEk9D+\\u002fPY6JQoznP6Ijn1B81gTACfMGSv8T9r\\u002fqzkts6Ibuv6OQEZ887Lg\\u002fb668W\\u002fJpBcDGytKs8LLjv8+vH7yIr+M\\u002fk5972r18B8BXLN+qcq2EP15ZqhPyiu+\\u002fbHcombRACkCEpTgX2dECQPoksm2u5uQ\\u002fvkEUNub56z8Dhd\\u002fch6q8vyu2iKz0dNG\\u002fxQ3M4ZN3ir\\u002fuHk4z3h7dv9j1P4cIULc\\u002fmAikKIdp278SK+vnbBHSP9r+NQe6S9s\\u002ftJGem4FH0L8hYw4U41v3P1WcOZ0PIfI\\u002f+pWUkNdd7D91nCuydS\\u002fHP6B\\u002ftMiZ2Nm\\u002fepgUna2WAsBpICGOSnYNwANj7d81FsK\\u002f6XiNVCkp7j9P00uaZEXnP9polzyyGPQ\\u002fFsMKlaZMxj\\u002fmM2wa2gH1v5Wtumx89e0\\u002fkeQovQSL5L8WkZAyBnjpPz6dKZibQ9m\\u002fVxASsr0h8z9vQo1He6Dxv14zje5Luv2\\u002fMT+khNsI6r8pvgK\\u002f5d7nv631e0PX4rq\\u002fNtDExdVq9r\\u002fhczMZ3dnwP8CaYqMuVs8\\u002fgWH+51C14D8RJNiI09Hlv5RIqZRwLMA\\u002fKih9Oe9u2L8ORLGcXvbVP9ZgzIxkEeu\\u002fhy+r4YJGzr9DKO3lTDL0v7aubal0guM\\u002fRMIExnlo1L\\u002fZ3mELzhEDQICWq1UtrNY\\u002fpB+biUE08r+Ia9DT0CDlP7dMpCPm1uS\\u002f3JgXfKjc87+jbdVp5h7gP8ZjefAw49o\\u002f3VSi5zpU+b++IDQHjpcKwHwPe512\\u002fMG\\u002fstRx6kkb9j+f5HrpyAPJP2qLl1w4DPA\\u002faNOX7\\u002f1aw78QFBfcxB3Gv5ndTGAB4+k\\u002fJq8zTqyv5z+HOWdu6JjoP+k+xFta8Y+\\u002fhFHu7oNL87\\u002ftnbKf9sysv2wfhxilqOI\\u002f6xBoauSnsj9aogMqeowBwLHgRYz3G+a\\u002fwzfdy9c\\u002f4z88hBmVq0fBv9tt4PKKvs6\\u002fsN41mySt+7+uwewntB8CwA4Gb8X6KwfAbxkzW6xw4D9ZnyEFISr5v0Uu2l58l+I\\u002fx3H5FXyP6r+mCk6ETpz3vxrj7kocnPa\\u002f5eZy48eSqL93ECBHluQLwFqMNCfYd+E\\u002f13qLw9A9+D9CF7RJll\\u002fYv4SbmatWxNy\\u002fxlmPrI7FBkCwa84xV9zqP+NlUmCNXem\\u002f25wfn\\u002f0H\\u002f7\\u002faPt159sfQv1C+3xQu0vM\\u002fZzx1oEvG8r8exZTN3ATZvzW05lx6\\u002f+O\\u002fGDw19i5B1b87IpMrZAzhP3AVbom3u9S\\u002fdiW7Sfll0z\\u002fCa\\u002fMAE2QBwKycXkLHfeO\\u002fq+6MXMnx4j\\u002f68T\\u002f4U0TNvyY\\u002futlLP9y\\u002fWvFtxLog1j8AX1\\u002fUDFzMP3AJH2ZQPe4\\u002fRci5iPue1j8H7nF77Yrnv6wL8\\u002fZordy\\u002f2caEXZ+3vD9PlWtcUnXzP7Szlee5Ec2\\u002fZFfjsaXMBMBlT83ee3v2P5J0cIaUZ8a\\u002fNtDExdVq9r+fPhqvmWXsP9U4TV6JhaW\\u002f3ox6MiT7yT9tj13iwXT6PwLyPkA23wTATYYsWJJS+78c9eeL+1vuP5znQ6vKdMO\\u002f2uDmvOkpyL\\u002fLiOIfPIjXP\\u002frgnnzKWZ+\\u002fdyd6+ZVZ0D+sGt7sxs\\u002fkP\\u002fekMAt5ROU\\u002fqUj9mEyBob+AwETlOEfuP5BOss+ONuc\\u002fmdKrzqP38D+sfiDoVpfev4Rt2+nbiu0\\u002fIup\\u002f3hmL2T87nm2aFH71Pze3z9TPEOU\\u002fig2o1rUz97+VqMyJy2HjP9tyYj\\u002f+rfc\\u002ftk7lxKe27D+S6IPwobDkv5BzN+n778+\\u002ff8KBRUsIvL\\u002fF9gE+lbjfP57D0MV6etu\\u002fnIlnChJu4j+yjEOmXb2fv3l09JqlU+E\\u002f4wYx0NSv3z9IkmhKJKfvv5R5bG+i\\u002fOm\\u002fCgs2Xg2W6D9mrrY1RJufP3b5XJgSg\\u002fK\\u002fLDkbXyUT6D9D86Vm07C1vxo+qs6Oxfo\\u002f3Tb2OylW67\\u002fDQtNYaX3xPzxNLhcOL\\u002fE\\u002fdSSIw6o+sz8llozGtx7rP41JVc3aE\\u002fI\\u002fBKaGa1\\u002f23j\\u002f6GSVEBvjOP1kP0iWamMA\\u002fxUTSN92s1T85xrzP\\u002fFXpv7IhmGsBK8C\\u002fduX9z0C00z8rlZuFMZnRv\\u002fvCtMzR9fQ\\u002fHhSWrf673L\\u002fTKoL85Lv\\u002fP2DQkwKKs\\u002fC\\u002fsGopF99a+z9qlb\\u002fWrJzZvyL3X0XCod0\\u002fw7AqlTuM6b8Gjn38D4zbv939C0VPg9U\\u002fevfo5U1Fxj\\u002fBlD9ZpWvVP21jyxf+4uE\\u002fIdQTMu0ruD+QR\\u002f++XxPQP+Y3Cgn6Pd+\\u002fr9MLl\\u002faI2D83EFT2gqXbP6bejyA\\u002flP+\\u002fU64rcVbzqT+w7ju4Ul\\u002fKv6sRspTpaVm\\u002fYGMhg8I23b+bIoGiwmPkP\\u002f7leoYi7ZY\\u002fDcc7CLbGyD9dybWLFTu1P30Ib0yhUPA\\u002fHA4TW0dn3D84DxxT2cjbv1+sIE7wr6Q\\u002fGwLaELO7xD9JCUko9O3pv9nB6nFSAec\\u002f\\u002fgaIM3oJ07+\\u002fydhCR3q1Py\\u002f5jRLVYeA\\u002fHhSWrf673L9sxps\\u002ffd7Jv\\u002fpGg5mB6t+\\u002fLXCoKnX59r9OaJ1JT\\u002f7wP9eKe7Qf4Ng\\u002fOfHZNLsP6r+i1+IoxmHpP8kUD9gevNM\\u002fDX1xMilI7j+bkz5sGzDCPwtr\\u002fL+07QJAqVvxFbrE7D\\u002fCQhy6\\u002fKH0P4hPe6y7Zea\\u002fN7Z4yh\\u002fw6L+5enRnIHrVP9D4kXB0F9Y\\u002fk7jWgRaT6T+Hdl9rgXQAwEim0aLp7+Q\\u002fq7FhgZ\\u002fmxT9oxZxOwP7mv91pqV4CUPM\\u002fKsWRdson4j9Bi5citMEGwEYXU4wlnt0\\u002fpZQZ4\\u002fcS1T8WOxukaAjjv+3\\u002fayMJ9\\u002f0\\u002fqPL+uM7M5z\\u002f1Sh1C7mCOv7s6BvT0IbG\\u002fgljmG3r30T8PwlBRuXi0P45JrGaQnOA\\u002fClAzz53v57+CB1ndnSXwv87T3xb0Nty\\u002fuXnHzs2B5T\\u002fanozoOpqUvwDLdSCb+Pc\\u002flG+hzMg1+b8zfVGRYwDfP7FA8fPSBOM\\u002fBBnFTTLj6T\\u002fX1qg4ni\\u002fWPzp+PzElCs4\\u002f7rE8yH5s0r88Fkfc7HkDQMWsoffXI+M\\u002f1VQlu0d\\u002fqb\\u002f4mjlotf\\u002fGv4Q4m\\u002fmtBABAv44FMvjouL+rfIc1XZ+oP\\u002f5fx+Quj+a\\u002fhG7xwBCb8L+F\\u002f3I2v9vzP7s4CVWXw4s\\u002fGu+EPv5Bzb8eFJat\\u002frvcv2eQv8igTAJAmL64QVpv4z9JXnLP17PSP2guDBXTQLk\\u002f6XpzggV+uj8Y24skwNbWv609MRxpi+q\\u002fUxxj9hLQ6b+IxdFG\\u002fNDNv\\u002fOeNkqU77i\\u002fqPSif9mO8T+lusUiTi77P7ZfR+p3YvI\\u002fZe4fXX4B+T9TTTc5ljbmPw6HB6acrMO\\u002ffJGzO5mGzT\\u002fKDN+lRk\\u002fbv9w+iNIrAfY\\u002fIjhqGCrpvj9KQmqc7gL1v2haLapDpPY\\u002f7AD\\u002fJVEe8j9kmRL5h\\u002fjaPzgoGXk68Na\\u002f1uTueFQyz7\\u002f+iUwPPBz5vxvFmpcJJfI\\u002ffDej9MtdxD\\u002fRrxJ2dmT8v8ulHFHljOg\\u002fQkoBQPJJ+z\\u002fYXi4FqZsFQI65R4YW3u4\\u002fSg4HYQ3n4D+bBi3uU0L3P09P1Pf2yt4\\u002fgJarVS2s1j9ExSkoKpf4Px0Ly4\\u002ftEOs\\u002fpfCy5erp7L9Mb0XL\\u002fwveP2NqN9nCpcM\\u002fww\\u002fpLdhG1T9dqlv7pdH+P+XHCi3laMs\\u002fum8Ea6Pa27\\u002fEtCR9A27\\u002fvx3L6ImVIeO\\u002fC1oM9Yb67L9VLiTqYkgAQBFvwnYJXuq\\u002fmwYt7lNC9z+vHT5QdcLpP9+\\u002ftWdQY7y\\u002fnTRXXYF2\\u002fr8zpqojsozlPyb9NLVfOOM\\u002fmrC7HvR1wb+wA03EvjHBv1xuQUh1ase\\u002fA2QrWjpGzz\\u002f2QEg79YzePzV58cMWrXs\\u002fpjMH2SMa5z9mvlMocZwEwHjQwad6j+s\\u002fVXXLS\\u002fdj1b8oDgJRHszkv+eubQgaHuk\\u002fB2cnTuOlwr\\u002fE\\u002fSkUeBnTv63VQEmTTu6\\u002fZUOMy4DJwj+dH0LPNQqlvyWd8DMltfi\\u002fPPTo9hJu+D8TV0aqRHHkPxgXJpN9bPU\\u002fBwSTxHVxpj\\u002fevTK9aNWdP2gxoMhVifA\\u002fCCJC3JRT9D+edsTWGnvgP7zlz5Bbv+I\\u002fEyvr52wR0j8=\"},\"yaxis\":\"y\",\"type\":\"scatter\"}],                        {\"template\":{\"data\":{\"histogram2dcontour\":[{\"type\":\"histogram2dcontour\",\"colorbar\":{\"outlinewidth\":0,\"ticks\":\"\"},\"colorscale\":[[0.0,\"#0d0887\"],[0.1111111111111111,\"#46039f\"],[0.2222222222222222,\"#7201a8\"],[0.3333333333333333,\"#9c179e\"],[0.4444444444444444,\"#bd3786\"],[0.5555555555555556,\"#d8576b\"],[0.6666666666666666,\"#ed7953\"],[0.7777777777777778,\"#fb9f3a\"],[0.8888888888888888,\"#fdca26\"],[1.0,\"#f0f921\"]]}],\"choropleth\":[{\"type\":\"choropleth\",\"colorbar\":{\"outlinewidth\":0,\"ticks\":\"\"}}],\"histogram2d\":[{\"type\":\"histogram2d\",\"colorbar\":{\"outlinewidth\":0,\"ticks\":\"\"},\"colorscale\":[[0.0,\"#0d0887\"],[0.1111111111111111,\"#46039f\"],[0.2222222222222222,\"#7201a8\"],[0.3333333333333333,\"#9c179e\"],[0.4444444444444444,\"#bd3786\"],[0.5555555555555556,\"#d8576b\"],[0.6666666666666666,\"#ed7953\"],[0.7777777777777778,\"#fb9f3a\"],[0.8888888888888888,\"#fdca26\"],[1.0,\"#f0f921\"]]}],\"heatmap\":[{\"type\":\"heatmap\",\"colorbar\":{\"outlinewidth\":0,\"ticks\":\"\"},\"colorscale\":[[0.0,\"#0d0887\"],[0.1111111111111111,\"#46039f\"],[0.2222222222222222,\"#7201a8\"],[0.3333333333333333,\"#9c179e\"],[0.4444444444444444,\"#bd3786\"],[0.5555555555555556,\"#d8576b\"],[0.6666666666666666,\"#ed7953\"],[0.7777777777777778,\"#fb9f3a\"],[0.8888888888888888,\"#fdca26\"],[1.0,\"#f0f921\"]]}],\"contourcarpet\":[{\"type\":\"contourcarpet\",\"colorbar\":{\"outlinewidth\":0,\"ticks\":\"\"}}],\"contour\":[{\"type\":\"contour\",\"colorbar\":{\"outlinewidth\":0,\"ticks\":\"\"},\"colorscale\":[[0.0,\"#0d0887\"],[0.1111111111111111,\"#46039f\"],[0.2222222222222222,\"#7201a8\"],[0.3333333333333333,\"#9c179e\"],[0.4444444444444444,\"#bd3786\"],[0.5555555555555556,\"#d8576b\"],[0.6666666666666666,\"#ed7953\"],[0.7777777777777778,\"#fb9f3a\"],[0.8888888888888888,\"#fdca26\"],[1.0,\"#f0f921\"]]}],\"surface\":[{\"type\":\"surface\",\"colorbar\":{\"outlinewidth\":0,\"ticks\":\"\"},\"colorscale\":[[0.0,\"#0d0887\"],[0.1111111111111111,\"#46039f\"],[0.2222222222222222,\"#7201a8\"],[0.3333333333333333,\"#9c179e\"],[0.4444444444444444,\"#bd3786\"],[0.5555555555555556,\"#d8576b\"],[0.6666666666666666,\"#ed7953\"],[0.7777777777777778,\"#fb9f3a\"],[0.8888888888888888,\"#fdca26\"],[1.0,\"#f0f921\"]]}],\"mesh3d\":[{\"type\":\"mesh3d\",\"colorbar\":{\"outlinewidth\":0,\"ticks\":\"\"}}],\"scatter\":[{\"fillpattern\":{\"fillmode\":\"overlay\",\"size\":10,\"solidity\":0.2},\"type\":\"scatter\"}],\"parcoords\":[{\"type\":\"parcoords\",\"line\":{\"colorbar\":{\"outlinewidth\":0,\"ticks\":\"\"}}}],\"scatterpolargl\":[{\"type\":\"scatterpolargl\",\"marker\":{\"colorbar\":{\"outlinewidth\":0,\"ticks\":\"\"}}}],\"bar\":[{\"error_x\":{\"color\":\"#2a3f5f\"},\"error_y\":{\"color\":\"#2a3f5f\"},\"marker\":{\"line\":{\"color\":\"white\",\"width\":0.5},\"pattern\":{\"fillmode\":\"overlay\",\"size\":10,\"solidity\":0.2}},\"type\":\"bar\"}],\"scattergeo\":[{\"type\":\"scattergeo\",\"marker\":{\"colorbar\":{\"outlinewidth\":0,\"ticks\":\"\"}}}],\"scatterpolar\":[{\"type\":\"scatterpolar\",\"marker\":{\"colorbar\":{\"outlinewidth\":0,\"ticks\":\"\"}}}],\"histogram\":[{\"marker\":{\"pattern\":{\"fillmode\":\"overlay\",\"size\":10,\"solidity\":0.2}},\"type\":\"histogram\"}],\"scattergl\":[{\"type\":\"scattergl\",\"marker\":{\"colorbar\":{\"outlinewidth\":0,\"ticks\":\"\"}}}],\"scatter3d\":[{\"type\":\"scatter3d\",\"line\":{\"colorbar\":{\"outlinewidth\":0,\"ticks\":\"\"}},\"marker\":{\"colorbar\":{\"outlinewidth\":0,\"ticks\":\"\"}}}],\"scattermap\":[{\"type\":\"scattermap\",\"marker\":{\"colorbar\":{\"outlinewidth\":0,\"ticks\":\"\"}}}],\"scattermapbox\":[{\"type\":\"scattermapbox\",\"marker\":{\"colorbar\":{\"outlinewidth\":0,\"ticks\":\"\"}}}],\"scatterternary\":[{\"type\":\"scatterternary\",\"marker\":{\"colorbar\":{\"outlinewidth\":0,\"ticks\":\"\"}}}],\"scattercarpet\":[{\"type\":\"scattercarpet\",\"marker\":{\"colorbar\":{\"outlinewidth\":0,\"ticks\":\"\"}}}],\"carpet\":[{\"aaxis\":{\"endlinecolor\":\"#2a3f5f\",\"gridcolor\":\"#C8D4E3\",\"linecolor\":\"#C8D4E3\",\"minorgridcolor\":\"#C8D4E3\",\"startlinecolor\":\"#2a3f5f\"},\"baxis\":{\"endlinecolor\":\"#2a3f5f\",\"gridcolor\":\"#C8D4E3\",\"linecolor\":\"#C8D4E3\",\"minorgridcolor\":\"#C8D4E3\",\"startlinecolor\":\"#2a3f5f\"},\"type\":\"carpet\"}],\"table\":[{\"cells\":{\"fill\":{\"color\":\"#EBF0F8\"},\"line\":{\"color\":\"white\"}},\"header\":{\"fill\":{\"color\":\"#C8D4E3\"},\"line\":{\"color\":\"white\"}},\"type\":\"table\"}],\"barpolar\":[{\"marker\":{\"line\":{\"color\":\"white\",\"width\":0.5},\"pattern\":{\"fillmode\":\"overlay\",\"size\":10,\"solidity\":0.2}},\"type\":\"barpolar\"}],\"pie\":[{\"automargin\":true,\"type\":\"pie\"}]},\"layout\":{\"autotypenumbers\":\"strict\",\"colorway\":[\"#636efa\",\"#EF553B\",\"#00cc96\",\"#ab63fa\",\"#FFA15A\",\"#19d3f3\",\"#FF6692\",\"#B6E880\",\"#FF97FF\",\"#FECB52\"],\"font\":{\"color\":\"#2a3f5f\"},\"hovermode\":\"closest\",\"hoverlabel\":{\"align\":\"left\"},\"paper_bgcolor\":\"white\",\"plot_bgcolor\":\"white\",\"polar\":{\"bgcolor\":\"white\",\"angularaxis\":{\"gridcolor\":\"#EBF0F8\",\"linecolor\":\"#EBF0F8\",\"ticks\":\"\"},\"radialaxis\":{\"gridcolor\":\"#EBF0F8\",\"linecolor\":\"#EBF0F8\",\"ticks\":\"\"}},\"ternary\":{\"bgcolor\":\"white\",\"aaxis\":{\"gridcolor\":\"#DFE8F3\",\"linecolor\":\"#A2B1C6\",\"ticks\":\"\"},\"baxis\":{\"gridcolor\":\"#DFE8F3\",\"linecolor\":\"#A2B1C6\",\"ticks\":\"\"},\"caxis\":{\"gridcolor\":\"#DFE8F3\",\"linecolor\":\"#A2B1C6\",\"ticks\":\"\"}},\"coloraxis\":{\"colorbar\":{\"outlinewidth\":0,\"ticks\":\"\"}},\"colorscale\":{\"sequential\":[[0.0,\"#0d0887\"],[0.1111111111111111,\"#46039f\"],[0.2222222222222222,\"#7201a8\"],[0.3333333333333333,\"#9c179e\"],[0.4444444444444444,\"#bd3786\"],[0.5555555555555556,\"#d8576b\"],[0.6666666666666666,\"#ed7953\"],[0.7777777777777778,\"#fb9f3a\"],[0.8888888888888888,\"#fdca26\"],[1.0,\"#f0f921\"]],\"sequentialminus\":[[0.0,\"#0d0887\"],[0.1111111111111111,\"#46039f\"],[0.2222222222222222,\"#7201a8\"],[0.3333333333333333,\"#9c179e\"],[0.4444444444444444,\"#bd3786\"],[0.5555555555555556,\"#d8576b\"],[0.6666666666666666,\"#ed7953\"],[0.7777777777777778,\"#fb9f3a\"],[0.8888888888888888,\"#fdca26\"],[1.0,\"#f0f921\"]],\"diverging\":[[0,\"#8e0152\"],[0.1,\"#c51b7d\"],[0.2,\"#de77ae\"],[0.3,\"#f1b6da\"],[0.4,\"#fde0ef\"],[0.5,\"#f7f7f7\"],[0.6,\"#e6f5d0\"],[0.7,\"#b8e186\"],[0.8,\"#7fbc41\"],[0.9,\"#4d9221\"],[1,\"#276419\"]]},\"xaxis\":{\"gridcolor\":\"#EBF0F8\",\"linecolor\":\"#EBF0F8\",\"ticks\":\"\",\"title\":{\"standoff\":15},\"zerolinecolor\":\"#EBF0F8\",\"automargin\":true,\"zerolinewidth\":2},\"yaxis\":{\"gridcolor\":\"#EBF0F8\",\"linecolor\":\"#EBF0F8\",\"ticks\":\"\",\"title\":{\"standoff\":15},\"zerolinecolor\":\"#EBF0F8\",\"automargin\":true,\"zerolinewidth\":2},\"scene\":{\"xaxis\":{\"backgroundcolor\":\"white\",\"gridcolor\":\"#DFE8F3\",\"linecolor\":\"#EBF0F8\",\"showbackground\":true,\"ticks\":\"\",\"zerolinecolor\":\"#EBF0F8\",\"gridwidth\":2},\"yaxis\":{\"backgroundcolor\":\"white\",\"gridcolor\":\"#DFE8F3\",\"linecolor\":\"#EBF0F8\",\"showbackground\":true,\"ticks\":\"\",\"zerolinecolor\":\"#EBF0F8\",\"gridwidth\":2},\"zaxis\":{\"backgroundcolor\":\"white\",\"gridcolor\":\"#DFE8F3\",\"linecolor\":\"#EBF0F8\",\"showbackground\":true,\"ticks\":\"\",\"zerolinecolor\":\"#EBF0F8\",\"gridwidth\":2}},\"shapedefaults\":{\"line\":{\"color\":\"#2a3f5f\"}},\"annotationdefaults\":{\"arrowcolor\":\"#2a3f5f\",\"arrowhead\":0,\"arrowwidth\":1},\"geo\":{\"bgcolor\":\"white\",\"landcolor\":\"white\",\"subunitcolor\":\"#C8D4E3\",\"showland\":true,\"showlakes\":true,\"lakecolor\":\"white\"},\"title\":{\"x\":0.05},\"mapbox\":{\"style\":\"light\"}}},\"xaxis\":{\"anchor\":\"y\",\"domain\":[0.0,1.0],\"title\":{\"text\":\"PCA1\"}},\"yaxis\":{\"anchor\":\"x\",\"domain\":[0.0,1.0],\"title\":{\"text\":\"PCA2\"}},\"coloraxis\":{\"colorbar\":{\"title\":{\"text\":\"Cluster ID\"}},\"colorscale\":[[0.0,\"rgb(229, 134, 6)\"],[0.1,\"rgb(93, 105, 177)\"],[0.2,\"rgb(82, 188, 163)\"],[0.3,\"rgb(153, 201, 69)\"],[0.4,\"rgb(204, 97, 176)\"],[0.5,\"rgb(36, 121, 108)\"],[0.6,\"rgb(218, 165, 27)\"],[0.7,\"rgb(47, 138, 196)\"],[0.8,\"rgb(118, 78, 159)\"],[0.9,\"rgb(237, 100, 90)\"],[1.0,\"rgb(165, 170, 153)\"]],\"showscale\":false},\"legend\":{\"tracegroupgap\":0},\"title\":{\"text\":\"Institution Clusters (K=5) based on Publication Profile (PCA Visualization)\"}},                        {\"responsive\": true}                    ).then(function(){\n",
       "                            \n",
       "var gd = document.getElementById('be2d1fad-ecdc-4eb7-9e2e-c3a70eae1a97');\n",
       "var x = new MutationObserver(function (mutations, observer) {{\n",
       "        var display = window.getComputedStyle(gd).display;\n",
       "        if (!display || display === 'none') {{\n",
       "            console.log([gd, 'removed!']);\n",
       "            Plotly.purge(gd);\n",
       "            observer.disconnect();\n",
       "        }}\n",
       "}});\n",
       "\n",
       "// Listen for the removal of the full notebook cells\n",
       "var notebookContainer = gd.closest('#notebook-container');\n",
       "if (notebookContainer) {{\n",
       "    x.observe(notebookContainer, {childList: true});\n",
       "}}\n",
       "\n",
       "// Listen for the clearing of the current output cell\n",
       "var outputEl = gd.closest('.output');\n",
       "if (outputEl) {{\n",
       "    x.observe(outputEl, {childList: true});\n",
       "}}\n",
       "\n",
       "                        })                };            </script>        </div>"
      ]
     },
     "metadata": {},
     "output_type": "display_data"
    },
    {
     "name": "stdout",
     "output_type": "stream",
     "text": [
      "\n",
      "Cluster Profile Comparison Plot\n"
     ]
    },
    {
     "data": {
      "application/vnd.plotly.v1+json": {
       "config": {
        "plotlyServerURL": "https://plot.ly"
       },
       "data": [
        {
         "dimensions": [
          {
           "label": "% Neurips",
           "values": {
            "bdata": "SOrduCXLVEDB++ghWx5OQGx1jdTf3U1A4uEo1jUTRUAolXZO0JNGQA==",
            "dtype": "f8"
           }
          },
          {
           "label": "% Icml",
           "values": {
            "bdata": "sOufa1r/JEAc1AIYAR83QKuLhpsG2DhAl0qlXvTpMEAg1jKON9dEQA==",
            "dtype": "f8"
           }
          },
          {
           "label": "% Iclr",
           "values": {
            "bdata": "IIThmu9OGUBiNCukSKQwQPsSvXZz2C5A0niE+s93REDcUlqN4FMqQA==",
            "dtype": "f8"
           }
          },
          {
           "label": "% Industry",
           "values": {
            "bdata": "G9aarmdtMEAANP+AR1a9P6on8POwp1hA5JSHTV+iRUA67MkLYU4bQA==",
            "dtype": "f8"
           }
          }
         ],
         "domain": {
          "x": [
           0,
           1
          ],
          "y": [
           0,
           1
          ]
         },
         "line": {
          "color": {
           "bdata": "AAECAwQ=",
           "dtype": "i1"
          },
          "coloraxis": "coloraxis"
         },
         "name": "",
         "type": "parcoords"
        }
       ],
       "layout": {
        "coloraxis": {
         "colorbar": {
          "title": {
           "text": "Cluster"
          }
         },
         "colorscale": [
          [
           0,
           "rgb(229, 134, 6)"
          ],
          [
           0.1,
           "rgb(93, 105, 177)"
          ],
          [
           0.2,
           "rgb(82, 188, 163)"
          ],
          [
           0.3,
           "rgb(153, 201, 69)"
          ],
          [
           0.4,
           "rgb(204, 97, 176)"
          ],
          [
           0.5,
           "rgb(36, 121, 108)"
          ],
          [
           0.6,
           "rgb(218, 165, 27)"
          ],
          [
           0.7,
           "rgb(47, 138, 196)"
          ],
          [
           0.8,
           "rgb(118, 78, 159)"
          ],
          [
           0.9,
           "rgb(237, 100, 90)"
          ],
          [
           1,
           "rgb(165, 170, 153)"
          ]
         ],
         "showscale": false
        },
        "legend": {
         "tracegroupgap": 0
        },
        "template": {
         "data": {
          "bar": [
           {
            "error_x": {
             "color": "#2a3f5f"
            },
            "error_y": {
             "color": "#2a3f5f"
            },
            "marker": {
             "line": {
              "color": "white",
              "width": 0.5
             },
             "pattern": {
              "fillmode": "overlay",
              "size": 10,
              "solidity": 0.2
             }
            },
            "type": "bar"
           }
          ],
          "barpolar": [
           {
            "marker": {
             "line": {
              "color": "white",
              "width": 0.5
             },
             "pattern": {
              "fillmode": "overlay",
              "size": 10,
              "solidity": 0.2
             }
            },
            "type": "barpolar"
           }
          ],
          "carpet": [
           {
            "aaxis": {
             "endlinecolor": "#2a3f5f",
             "gridcolor": "#C8D4E3",
             "linecolor": "#C8D4E3",
             "minorgridcolor": "#C8D4E3",
             "startlinecolor": "#2a3f5f"
            },
            "baxis": {
             "endlinecolor": "#2a3f5f",
             "gridcolor": "#C8D4E3",
             "linecolor": "#C8D4E3",
             "minorgridcolor": "#C8D4E3",
             "startlinecolor": "#2a3f5f"
            },
            "type": "carpet"
           }
          ],
          "choropleth": [
           {
            "colorbar": {
             "outlinewidth": 0,
             "ticks": ""
            },
            "type": "choropleth"
           }
          ],
          "contour": [
           {
            "colorbar": {
             "outlinewidth": 0,
             "ticks": ""
            },
            "colorscale": [
             [
              0,
              "#0d0887"
             ],
             [
              0.1111111111111111,
              "#46039f"
             ],
             [
              0.2222222222222222,
              "#7201a8"
             ],
             [
              0.3333333333333333,
              "#9c179e"
             ],
             [
              0.4444444444444444,
              "#bd3786"
             ],
             [
              0.5555555555555556,
              "#d8576b"
             ],
             [
              0.6666666666666666,
              "#ed7953"
             ],
             [
              0.7777777777777778,
              "#fb9f3a"
             ],
             [
              0.8888888888888888,
              "#fdca26"
             ],
             [
              1,
              "#f0f921"
             ]
            ],
            "type": "contour"
           }
          ],
          "contourcarpet": [
           {
            "colorbar": {
             "outlinewidth": 0,
             "ticks": ""
            },
            "type": "contourcarpet"
           }
          ],
          "heatmap": [
           {
            "colorbar": {
             "outlinewidth": 0,
             "ticks": ""
            },
            "colorscale": [
             [
              0,
              "#0d0887"
             ],
             [
              0.1111111111111111,
              "#46039f"
             ],
             [
              0.2222222222222222,
              "#7201a8"
             ],
             [
              0.3333333333333333,
              "#9c179e"
             ],
             [
              0.4444444444444444,
              "#bd3786"
             ],
             [
              0.5555555555555556,
              "#d8576b"
             ],
             [
              0.6666666666666666,
              "#ed7953"
             ],
             [
              0.7777777777777778,
              "#fb9f3a"
             ],
             [
              0.8888888888888888,
              "#fdca26"
             ],
             [
              1,
              "#f0f921"
             ]
            ],
            "type": "heatmap"
           }
          ],
          "histogram": [
           {
            "marker": {
             "pattern": {
              "fillmode": "overlay",
              "size": 10,
              "solidity": 0.2
             }
            },
            "type": "histogram"
           }
          ],
          "histogram2d": [
           {
            "colorbar": {
             "outlinewidth": 0,
             "ticks": ""
            },
            "colorscale": [
             [
              0,
              "#0d0887"
             ],
             [
              0.1111111111111111,
              "#46039f"
             ],
             [
              0.2222222222222222,
              "#7201a8"
             ],
             [
              0.3333333333333333,
              "#9c179e"
             ],
             [
              0.4444444444444444,
              "#bd3786"
             ],
             [
              0.5555555555555556,
              "#d8576b"
             ],
             [
              0.6666666666666666,
              "#ed7953"
             ],
             [
              0.7777777777777778,
              "#fb9f3a"
             ],
             [
              0.8888888888888888,
              "#fdca26"
             ],
             [
              1,
              "#f0f921"
             ]
            ],
            "type": "histogram2d"
           }
          ],
          "histogram2dcontour": [
           {
            "colorbar": {
             "outlinewidth": 0,
             "ticks": ""
            },
            "colorscale": [
             [
              0,
              "#0d0887"
             ],
             [
              0.1111111111111111,
              "#46039f"
             ],
             [
              0.2222222222222222,
              "#7201a8"
             ],
             [
              0.3333333333333333,
              "#9c179e"
             ],
             [
              0.4444444444444444,
              "#bd3786"
             ],
             [
              0.5555555555555556,
              "#d8576b"
             ],
             [
              0.6666666666666666,
              "#ed7953"
             ],
             [
              0.7777777777777778,
              "#fb9f3a"
             ],
             [
              0.8888888888888888,
              "#fdca26"
             ],
             [
              1,
              "#f0f921"
             ]
            ],
            "type": "histogram2dcontour"
           }
          ],
          "mesh3d": [
           {
            "colorbar": {
             "outlinewidth": 0,
             "ticks": ""
            },
            "type": "mesh3d"
           }
          ],
          "parcoords": [
           {
            "line": {
             "colorbar": {
              "outlinewidth": 0,
              "ticks": ""
             }
            },
            "type": "parcoords"
           }
          ],
          "pie": [
           {
            "automargin": true,
            "type": "pie"
           }
          ],
          "scatter": [
           {
            "fillpattern": {
             "fillmode": "overlay",
             "size": 10,
             "solidity": 0.2
            },
            "type": "scatter"
           }
          ],
          "scatter3d": [
           {
            "line": {
             "colorbar": {
              "outlinewidth": 0,
              "ticks": ""
             }
            },
            "marker": {
             "colorbar": {
              "outlinewidth": 0,
              "ticks": ""
             }
            },
            "type": "scatter3d"
           }
          ],
          "scattercarpet": [
           {
            "marker": {
             "colorbar": {
              "outlinewidth": 0,
              "ticks": ""
             }
            },
            "type": "scattercarpet"
           }
          ],
          "scattergeo": [
           {
            "marker": {
             "colorbar": {
              "outlinewidth": 0,
              "ticks": ""
             }
            },
            "type": "scattergeo"
           }
          ],
          "scattergl": [
           {
            "marker": {
             "colorbar": {
              "outlinewidth": 0,
              "ticks": ""
             }
            },
            "type": "scattergl"
           }
          ],
          "scattermap": [
           {
            "marker": {
             "colorbar": {
              "outlinewidth": 0,
              "ticks": ""
             }
            },
            "type": "scattermap"
           }
          ],
          "scattermapbox": [
           {
            "marker": {
             "colorbar": {
              "outlinewidth": 0,
              "ticks": ""
             }
            },
            "type": "scattermapbox"
           }
          ],
          "scatterpolar": [
           {
            "marker": {
             "colorbar": {
              "outlinewidth": 0,
              "ticks": ""
             }
            },
            "type": "scatterpolar"
           }
          ],
          "scatterpolargl": [
           {
            "marker": {
             "colorbar": {
              "outlinewidth": 0,
              "ticks": ""
             }
            },
            "type": "scatterpolargl"
           }
          ],
          "scatterternary": [
           {
            "marker": {
             "colorbar": {
              "outlinewidth": 0,
              "ticks": ""
             }
            },
            "type": "scatterternary"
           }
          ],
          "surface": [
           {
            "colorbar": {
             "outlinewidth": 0,
             "ticks": ""
            },
            "colorscale": [
             [
              0,
              "#0d0887"
             ],
             [
              0.1111111111111111,
              "#46039f"
             ],
             [
              0.2222222222222222,
              "#7201a8"
             ],
             [
              0.3333333333333333,
              "#9c179e"
             ],
             [
              0.4444444444444444,
              "#bd3786"
             ],
             [
              0.5555555555555556,
              "#d8576b"
             ],
             [
              0.6666666666666666,
              "#ed7953"
             ],
             [
              0.7777777777777778,
              "#fb9f3a"
             ],
             [
              0.8888888888888888,
              "#fdca26"
             ],
             [
              1,
              "#f0f921"
             ]
            ],
            "type": "surface"
           }
          ],
          "table": [
           {
            "cells": {
             "fill": {
              "color": "#EBF0F8"
             },
             "line": {
              "color": "white"
             }
            },
            "header": {
             "fill": {
              "color": "#C8D4E3"
             },
             "line": {
              "color": "white"
             }
            },
            "type": "table"
           }
          ]
         },
         "layout": {
          "annotationdefaults": {
           "arrowcolor": "#2a3f5f",
           "arrowhead": 0,
           "arrowwidth": 1
          },
          "autotypenumbers": "strict",
          "coloraxis": {
           "colorbar": {
            "outlinewidth": 0,
            "ticks": ""
           }
          },
          "colorscale": {
           "diverging": [
            [
             0,
             "#8e0152"
            ],
            [
             0.1,
             "#c51b7d"
            ],
            [
             0.2,
             "#de77ae"
            ],
            [
             0.3,
             "#f1b6da"
            ],
            [
             0.4,
             "#fde0ef"
            ],
            [
             0.5,
             "#f7f7f7"
            ],
            [
             0.6,
             "#e6f5d0"
            ],
            [
             0.7,
             "#b8e186"
            ],
            [
             0.8,
             "#7fbc41"
            ],
            [
             0.9,
             "#4d9221"
            ],
            [
             1,
             "#276419"
            ]
           ],
           "sequential": [
            [
             0,
             "#0d0887"
            ],
            [
             0.1111111111111111,
             "#46039f"
            ],
            [
             0.2222222222222222,
             "#7201a8"
            ],
            [
             0.3333333333333333,
             "#9c179e"
            ],
            [
             0.4444444444444444,
             "#bd3786"
            ],
            [
             0.5555555555555556,
             "#d8576b"
            ],
            [
             0.6666666666666666,
             "#ed7953"
            ],
            [
             0.7777777777777778,
             "#fb9f3a"
            ],
            [
             0.8888888888888888,
             "#fdca26"
            ],
            [
             1,
             "#f0f921"
            ]
           ],
           "sequentialminus": [
            [
             0,
             "#0d0887"
            ],
            [
             0.1111111111111111,
             "#46039f"
            ],
            [
             0.2222222222222222,
             "#7201a8"
            ],
            [
             0.3333333333333333,
             "#9c179e"
            ],
            [
             0.4444444444444444,
             "#bd3786"
            ],
            [
             0.5555555555555556,
             "#d8576b"
            ],
            [
             0.6666666666666666,
             "#ed7953"
            ],
            [
             0.7777777777777778,
             "#fb9f3a"
            ],
            [
             0.8888888888888888,
             "#fdca26"
            ],
            [
             1,
             "#f0f921"
            ]
           ]
          },
          "colorway": [
           "#636efa",
           "#EF553B",
           "#00cc96",
           "#ab63fa",
           "#FFA15A",
           "#19d3f3",
           "#FF6692",
           "#B6E880",
           "#FF97FF",
           "#FECB52"
          ],
          "font": {
           "color": "#2a3f5f"
          },
          "geo": {
           "bgcolor": "white",
           "lakecolor": "white",
           "landcolor": "white",
           "showlakes": true,
           "showland": true,
           "subunitcolor": "#C8D4E3"
          },
          "hoverlabel": {
           "align": "left"
          },
          "hovermode": "closest",
          "mapbox": {
           "style": "light"
          },
          "paper_bgcolor": "white",
          "plot_bgcolor": "white",
          "polar": {
           "angularaxis": {
            "gridcolor": "#EBF0F8",
            "linecolor": "#EBF0F8",
            "ticks": ""
           },
           "bgcolor": "white",
           "radialaxis": {
            "gridcolor": "#EBF0F8",
            "linecolor": "#EBF0F8",
            "ticks": ""
           }
          },
          "scene": {
           "xaxis": {
            "backgroundcolor": "white",
            "gridcolor": "#DFE8F3",
            "gridwidth": 2,
            "linecolor": "#EBF0F8",
            "showbackground": true,
            "ticks": "",
            "zerolinecolor": "#EBF0F8"
           },
           "yaxis": {
            "backgroundcolor": "white",
            "gridcolor": "#DFE8F3",
            "gridwidth": 2,
            "linecolor": "#EBF0F8",
            "showbackground": true,
            "ticks": "",
            "zerolinecolor": "#EBF0F8"
           },
           "zaxis": {
            "backgroundcolor": "white",
            "gridcolor": "#DFE8F3",
            "gridwidth": 2,
            "linecolor": "#EBF0F8",
            "showbackground": true,
            "ticks": "",
            "zerolinecolor": "#EBF0F8"
           }
          },
          "shapedefaults": {
           "line": {
            "color": "#2a3f5f"
           }
          },
          "ternary": {
           "aaxis": {
            "gridcolor": "#DFE8F3",
            "linecolor": "#A2B1C6",
            "ticks": ""
           },
           "baxis": {
            "gridcolor": "#DFE8F3",
            "linecolor": "#A2B1C6",
            "ticks": ""
           },
           "bgcolor": "white",
           "caxis": {
            "gridcolor": "#DFE8F3",
            "linecolor": "#A2B1C6",
            "ticks": ""
           }
          },
          "title": {
           "x": 0.05
          },
          "xaxis": {
           "automargin": true,
           "gridcolor": "#EBF0F8",
           "linecolor": "#EBF0F8",
           "ticks": "",
           "title": {
            "standoff": 15
           },
           "zerolinecolor": "#EBF0F8",
           "zerolinewidth": 2
          },
          "yaxis": {
           "automargin": true,
           "gridcolor": "#EBF0F8",
           "linecolor": "#EBF0F8",
           "ticks": "",
           "title": {
            "standoff": 15
           },
           "zerolinecolor": "#EBF0F8",
           "zerolinewidth": 2
          }
         }
        },
        "title": {
         "text": "Average Publication Profiles by Cluster"
        }
       }
      },
      "text/html": [
       "<div>            <script src=\"https://cdnjs.cloudflare.com/ajax/libs/mathjax/2.7.5/MathJax.js?config=TeX-AMS-MML_SVG\"></script><script type=\"text/javascript\">if (window.MathJax && window.MathJax.Hub && window.MathJax.Hub.Config) {window.MathJax.Hub.Config({SVG: {font: \"STIX-Web\"}});}</script>                <script type=\"text/javascript\">window.PlotlyConfig = {MathJaxConfig: 'local'};</script>\n",
       "        <script charset=\"utf-8\" src=\"https://cdn.plot.ly/plotly-3.0.1.min.js\"></script>                <div id=\"a6f448f3-ec4a-4636-a144-4c85d32e0667\" class=\"plotly-graph-div\" style=\"height:525px; width:100%;\"></div>            <script type=\"text/javascript\">                window.PLOTLYENV=window.PLOTLYENV || {};                                if (document.getElementById(\"a6f448f3-ec4a-4636-a144-4c85d32e0667\")) {                    Plotly.newPlot(                        \"a6f448f3-ec4a-4636-a144-4c85d32e0667\",                        [{\"dimensions\":[{\"label\":\"% Neurips\",\"values\":{\"dtype\":\"f8\",\"bdata\":\"SOrduCXLVEDB++ghWx5OQGx1jdTf3U1A4uEo1jUTRUAolXZO0JNGQA==\"}},{\"label\":\"% Icml\",\"values\":{\"dtype\":\"f8\",\"bdata\":\"sOufa1r\\u002fJEAc1AIYAR83QKuLhpsG2DhAl0qlXvTpMEAg1jKON9dEQA==\"}},{\"label\":\"% Iclr\",\"values\":{\"dtype\":\"f8\",\"bdata\":\"IIThmu9OGUBiNCukSKQwQPsSvXZz2C5A0niE+s93REDcUlqN4FMqQA==\"}},{\"label\":\"% Industry\",\"values\":{\"dtype\":\"f8\",\"bdata\":\"G9aarmdtMEAANP+AR1a9P6on8POwp1hA5JSHTV+iRUA67MkLYU4bQA==\"}}],\"domain\":{\"x\":[0.0,1.0],\"y\":[0.0,1.0]},\"line\":{\"color\":{\"dtype\":\"i1\",\"bdata\":\"AAECAwQ=\"},\"coloraxis\":\"coloraxis\"},\"name\":\"\",\"type\":\"parcoords\"}],                        {\"template\":{\"data\":{\"histogram2dcontour\":[{\"type\":\"histogram2dcontour\",\"colorbar\":{\"outlinewidth\":0,\"ticks\":\"\"},\"colorscale\":[[0.0,\"#0d0887\"],[0.1111111111111111,\"#46039f\"],[0.2222222222222222,\"#7201a8\"],[0.3333333333333333,\"#9c179e\"],[0.4444444444444444,\"#bd3786\"],[0.5555555555555556,\"#d8576b\"],[0.6666666666666666,\"#ed7953\"],[0.7777777777777778,\"#fb9f3a\"],[0.8888888888888888,\"#fdca26\"],[1.0,\"#f0f921\"]]}],\"choropleth\":[{\"type\":\"choropleth\",\"colorbar\":{\"outlinewidth\":0,\"ticks\":\"\"}}],\"histogram2d\":[{\"type\":\"histogram2d\",\"colorbar\":{\"outlinewidth\":0,\"ticks\":\"\"},\"colorscale\":[[0.0,\"#0d0887\"],[0.1111111111111111,\"#46039f\"],[0.2222222222222222,\"#7201a8\"],[0.3333333333333333,\"#9c179e\"],[0.4444444444444444,\"#bd3786\"],[0.5555555555555556,\"#d8576b\"],[0.6666666666666666,\"#ed7953\"],[0.7777777777777778,\"#fb9f3a\"],[0.8888888888888888,\"#fdca26\"],[1.0,\"#f0f921\"]]}],\"heatmap\":[{\"type\":\"heatmap\",\"colorbar\":{\"outlinewidth\":0,\"ticks\":\"\"},\"colorscale\":[[0.0,\"#0d0887\"],[0.1111111111111111,\"#46039f\"],[0.2222222222222222,\"#7201a8\"],[0.3333333333333333,\"#9c179e\"],[0.4444444444444444,\"#bd3786\"],[0.5555555555555556,\"#d8576b\"],[0.6666666666666666,\"#ed7953\"],[0.7777777777777778,\"#fb9f3a\"],[0.8888888888888888,\"#fdca26\"],[1.0,\"#f0f921\"]]}],\"contourcarpet\":[{\"type\":\"contourcarpet\",\"colorbar\":{\"outlinewidth\":0,\"ticks\":\"\"}}],\"contour\":[{\"type\":\"contour\",\"colorbar\":{\"outlinewidth\":0,\"ticks\":\"\"},\"colorscale\":[[0.0,\"#0d0887\"],[0.1111111111111111,\"#46039f\"],[0.2222222222222222,\"#7201a8\"],[0.3333333333333333,\"#9c179e\"],[0.4444444444444444,\"#bd3786\"],[0.5555555555555556,\"#d8576b\"],[0.6666666666666666,\"#ed7953\"],[0.7777777777777778,\"#fb9f3a\"],[0.8888888888888888,\"#fdca26\"],[1.0,\"#f0f921\"]]}],\"surface\":[{\"type\":\"surface\",\"colorbar\":{\"outlinewidth\":0,\"ticks\":\"\"},\"colorscale\":[[0.0,\"#0d0887\"],[0.1111111111111111,\"#46039f\"],[0.2222222222222222,\"#7201a8\"],[0.3333333333333333,\"#9c179e\"],[0.4444444444444444,\"#bd3786\"],[0.5555555555555556,\"#d8576b\"],[0.6666666666666666,\"#ed7953\"],[0.7777777777777778,\"#fb9f3a\"],[0.8888888888888888,\"#fdca26\"],[1.0,\"#f0f921\"]]}],\"mesh3d\":[{\"type\":\"mesh3d\",\"colorbar\":{\"outlinewidth\":0,\"ticks\":\"\"}}],\"scatter\":[{\"fillpattern\":{\"fillmode\":\"overlay\",\"size\":10,\"solidity\":0.2},\"type\":\"scatter\"}],\"parcoords\":[{\"type\":\"parcoords\",\"line\":{\"colorbar\":{\"outlinewidth\":0,\"ticks\":\"\"}}}],\"scatterpolargl\":[{\"type\":\"scatterpolargl\",\"marker\":{\"colorbar\":{\"outlinewidth\":0,\"ticks\":\"\"}}}],\"bar\":[{\"error_x\":{\"color\":\"#2a3f5f\"},\"error_y\":{\"color\":\"#2a3f5f\"},\"marker\":{\"line\":{\"color\":\"white\",\"width\":0.5},\"pattern\":{\"fillmode\":\"overlay\",\"size\":10,\"solidity\":0.2}},\"type\":\"bar\"}],\"scattergeo\":[{\"type\":\"scattergeo\",\"marker\":{\"colorbar\":{\"outlinewidth\":0,\"ticks\":\"\"}}}],\"scatterpolar\":[{\"type\":\"scatterpolar\",\"marker\":{\"colorbar\":{\"outlinewidth\":0,\"ticks\":\"\"}}}],\"histogram\":[{\"marker\":{\"pattern\":{\"fillmode\":\"overlay\",\"size\":10,\"solidity\":0.2}},\"type\":\"histogram\"}],\"scattergl\":[{\"type\":\"scattergl\",\"marker\":{\"colorbar\":{\"outlinewidth\":0,\"ticks\":\"\"}}}],\"scatter3d\":[{\"type\":\"scatter3d\",\"line\":{\"colorbar\":{\"outlinewidth\":0,\"ticks\":\"\"}},\"marker\":{\"colorbar\":{\"outlinewidth\":0,\"ticks\":\"\"}}}],\"scattermap\":[{\"type\":\"scattermap\",\"marker\":{\"colorbar\":{\"outlinewidth\":0,\"ticks\":\"\"}}}],\"scattermapbox\":[{\"type\":\"scattermapbox\",\"marker\":{\"colorbar\":{\"outlinewidth\":0,\"ticks\":\"\"}}}],\"scatterternary\":[{\"type\":\"scatterternary\",\"marker\":{\"colorbar\":{\"outlinewidth\":0,\"ticks\":\"\"}}}],\"scattercarpet\":[{\"type\":\"scattercarpet\",\"marker\":{\"colorbar\":{\"outlinewidth\":0,\"ticks\":\"\"}}}],\"carpet\":[{\"aaxis\":{\"endlinecolor\":\"#2a3f5f\",\"gridcolor\":\"#C8D4E3\",\"linecolor\":\"#C8D4E3\",\"minorgridcolor\":\"#C8D4E3\",\"startlinecolor\":\"#2a3f5f\"},\"baxis\":{\"endlinecolor\":\"#2a3f5f\",\"gridcolor\":\"#C8D4E3\",\"linecolor\":\"#C8D4E3\",\"minorgridcolor\":\"#C8D4E3\",\"startlinecolor\":\"#2a3f5f\"},\"type\":\"carpet\"}],\"table\":[{\"cells\":{\"fill\":{\"color\":\"#EBF0F8\"},\"line\":{\"color\":\"white\"}},\"header\":{\"fill\":{\"color\":\"#C8D4E3\"},\"line\":{\"color\":\"white\"}},\"type\":\"table\"}],\"barpolar\":[{\"marker\":{\"line\":{\"color\":\"white\",\"width\":0.5},\"pattern\":{\"fillmode\":\"overlay\",\"size\":10,\"solidity\":0.2}},\"type\":\"barpolar\"}],\"pie\":[{\"automargin\":true,\"type\":\"pie\"}]},\"layout\":{\"autotypenumbers\":\"strict\",\"colorway\":[\"#636efa\",\"#EF553B\",\"#00cc96\",\"#ab63fa\",\"#FFA15A\",\"#19d3f3\",\"#FF6692\",\"#B6E880\",\"#FF97FF\",\"#FECB52\"],\"font\":{\"color\":\"#2a3f5f\"},\"hovermode\":\"closest\",\"hoverlabel\":{\"align\":\"left\"},\"paper_bgcolor\":\"white\",\"plot_bgcolor\":\"white\",\"polar\":{\"bgcolor\":\"white\",\"angularaxis\":{\"gridcolor\":\"#EBF0F8\",\"linecolor\":\"#EBF0F8\",\"ticks\":\"\"},\"radialaxis\":{\"gridcolor\":\"#EBF0F8\",\"linecolor\":\"#EBF0F8\",\"ticks\":\"\"}},\"ternary\":{\"bgcolor\":\"white\",\"aaxis\":{\"gridcolor\":\"#DFE8F3\",\"linecolor\":\"#A2B1C6\",\"ticks\":\"\"},\"baxis\":{\"gridcolor\":\"#DFE8F3\",\"linecolor\":\"#A2B1C6\",\"ticks\":\"\"},\"caxis\":{\"gridcolor\":\"#DFE8F3\",\"linecolor\":\"#A2B1C6\",\"ticks\":\"\"}},\"coloraxis\":{\"colorbar\":{\"outlinewidth\":0,\"ticks\":\"\"}},\"colorscale\":{\"sequential\":[[0.0,\"#0d0887\"],[0.1111111111111111,\"#46039f\"],[0.2222222222222222,\"#7201a8\"],[0.3333333333333333,\"#9c179e\"],[0.4444444444444444,\"#bd3786\"],[0.5555555555555556,\"#d8576b\"],[0.6666666666666666,\"#ed7953\"],[0.7777777777777778,\"#fb9f3a\"],[0.8888888888888888,\"#fdca26\"],[1.0,\"#f0f921\"]],\"sequentialminus\":[[0.0,\"#0d0887\"],[0.1111111111111111,\"#46039f\"],[0.2222222222222222,\"#7201a8\"],[0.3333333333333333,\"#9c179e\"],[0.4444444444444444,\"#bd3786\"],[0.5555555555555556,\"#d8576b\"],[0.6666666666666666,\"#ed7953\"],[0.7777777777777778,\"#fb9f3a\"],[0.8888888888888888,\"#fdca26\"],[1.0,\"#f0f921\"]],\"diverging\":[[0,\"#8e0152\"],[0.1,\"#c51b7d\"],[0.2,\"#de77ae\"],[0.3,\"#f1b6da\"],[0.4,\"#fde0ef\"],[0.5,\"#f7f7f7\"],[0.6,\"#e6f5d0\"],[0.7,\"#b8e186\"],[0.8,\"#7fbc41\"],[0.9,\"#4d9221\"],[1,\"#276419\"]]},\"xaxis\":{\"gridcolor\":\"#EBF0F8\",\"linecolor\":\"#EBF0F8\",\"ticks\":\"\",\"title\":{\"standoff\":15},\"zerolinecolor\":\"#EBF0F8\",\"automargin\":true,\"zerolinewidth\":2},\"yaxis\":{\"gridcolor\":\"#EBF0F8\",\"linecolor\":\"#EBF0F8\",\"ticks\":\"\",\"title\":{\"standoff\":15},\"zerolinecolor\":\"#EBF0F8\",\"automargin\":true,\"zerolinewidth\":2},\"scene\":{\"xaxis\":{\"backgroundcolor\":\"white\",\"gridcolor\":\"#DFE8F3\",\"linecolor\":\"#EBF0F8\",\"showbackground\":true,\"ticks\":\"\",\"zerolinecolor\":\"#EBF0F8\",\"gridwidth\":2},\"yaxis\":{\"backgroundcolor\":\"white\",\"gridcolor\":\"#DFE8F3\",\"linecolor\":\"#EBF0F8\",\"showbackground\":true,\"ticks\":\"\",\"zerolinecolor\":\"#EBF0F8\",\"gridwidth\":2},\"zaxis\":{\"backgroundcolor\":\"white\",\"gridcolor\":\"#DFE8F3\",\"linecolor\":\"#EBF0F8\",\"showbackground\":true,\"ticks\":\"\",\"zerolinecolor\":\"#EBF0F8\",\"gridwidth\":2}},\"shapedefaults\":{\"line\":{\"color\":\"#2a3f5f\"}},\"annotationdefaults\":{\"arrowcolor\":\"#2a3f5f\",\"arrowhead\":0,\"arrowwidth\":1},\"geo\":{\"bgcolor\":\"white\",\"landcolor\":\"white\",\"subunitcolor\":\"#C8D4E3\",\"showland\":true,\"showlakes\":true,\"lakecolor\":\"white\"},\"title\":{\"x\":0.05},\"mapbox\":{\"style\":\"light\"}}},\"coloraxis\":{\"colorbar\":{\"title\":{\"text\":\"Cluster\"}},\"colorscale\":[[0.0,\"rgb(229, 134, 6)\"],[0.1,\"rgb(93, 105, 177)\"],[0.2,\"rgb(82, 188, 163)\"],[0.3,\"rgb(153, 201, 69)\"],[0.4,\"rgb(204, 97, 176)\"],[0.5,\"rgb(36, 121, 108)\"],[0.6,\"rgb(218, 165, 27)\"],[0.7,\"rgb(47, 138, 196)\"],[0.8,\"rgb(118, 78, 159)\"],[0.9,\"rgb(237, 100, 90)\"],[1.0,\"rgb(165, 170, 153)\"]],\"showscale\":false},\"legend\":{\"tracegroupgap\":0},\"title\":{\"text\":\"Average Publication Profiles by Cluster\"}},                        {\"responsive\": true}                    ).then(function(){\n",
       "                            \n",
       "var gd = document.getElementById('a6f448f3-ec4a-4636-a144-4c85d32e0667');\n",
       "var x = new MutationObserver(function (mutations, observer) {{\n",
       "        var display = window.getComputedStyle(gd).display;\n",
       "        if (!display || display === 'none') {{\n",
       "            console.log([gd, 'removed!']);\n",
       "            Plotly.purge(gd);\n",
       "            observer.disconnect();\n",
       "        }}\n",
       "}});\n",
       "\n",
       "// Listen for the removal of the full notebook cells\n",
       "var notebookContainer = gd.closest('#notebook-container');\n",
       "if (notebookContainer) {{\n",
       "    x.observe(notebookContainer, {childList: true});\n",
       "}}\n",
       "\n",
       "// Listen for the clearing of the current output cell\n",
       "var outputEl = gd.closest('.output');\n",
       "if (outputEl) {{\n",
       "    x.observe(outputEl, {childList: true});\n",
       "}}\n",
       "\n",
       "                        })                };            </script>        </div>"
      ]
     },
     "metadata": {},
     "output_type": "display_data"
    }
   ],
   "source": [
    "MIN_PUBS_CLUSTER = 20 # Minimum total publications for an institution to be included\n",
    "\n",
    "print(f\"\\nClustering Institutions by Publication Profile (Min {MIN_PUBS_CLUSTER} Pubs)\")\n",
    "\n",
    "# Filter unknowns\n",
    "cluster_df = df[(df['Institution'] != 'Unknown Institution') &\n",
    "                (df['Type'].isin(['Academia', 'Industry']))].copy()\n",
    "\n",
    "# Calculate total publications per institution\n",
    "inst_total_counts = cluster_df['Institution'].value_counts()\n",
    "\n",
    "# Filter institutions below the threshold\n",
    "institutions_to_keep = inst_total_counts[inst_total_counts >= MIN_PUBS_CLUSTER].index.tolist()\n",
    "cluster_df = cluster_df[cluster_df['Institution'].isin(institutions_to_keep)]\n",
    "\n",
    "if cluster_df.empty:\n",
    "    print(f\"No institutions found with at least {MIN_PUBS_CLUSTER} publications.\")\n",
    "else:\n",
    "    # --- Feature Calculation ---\n",
    "    inst_conf_counts = cluster_df.groupby(['Institution', 'Conference']).size().unstack(fill_value=0)\n",
    "    inst_conf_perc = inst_conf_counts.apply(lambda x: x / x.sum() * 100, axis=1)\n",
    "    inst_conf_perc.columns = [f'pct_{col.lower()}' for col in inst_conf_perc.columns]\n",
    "\n",
    "    inst_type_counts = cluster_df.groupby(['Institution', 'Type']).size().unstack(fill_value=0)\n",
    "    inst_type_perc = inst_type_counts.apply(lambda x: x / x.sum() * 100, axis=1)\n",
    "    if 'Industry' not in inst_type_perc.columns: inst_type_perc['Industry'] = 0\n",
    "    if 'Academia' not in inst_type_perc.columns: inst_type_perc['Academia'] = 0\n",
    "    inst_type_perc = inst_type_perc[['Industry']].rename(columns={'Industry': 'pct_industry'})\n",
    "\n",
    "    feature_df = pd.merge(inst_conf_perc, inst_type_perc, left_index=True, right_index=True)\n",
    "    expected_feature_cols = ['pct_neurips', 'pct_icml', 'pct_iclr', 'pct_industry']\n",
    "    for col in expected_feature_cols:\n",
    "         if col not in feature_df.columns: feature_df[col] = 0\n",
    "    feature_cols_to_use = [col for col in expected_feature_cols if col in feature_df.columns]\n",
    "\n",
    "    # --- Clustering ---\n",
    "    scaler = StandardScaler()\n",
    "    features_scaled = scaler.fit_transform(feature_df[feature_cols_to_use])\n",
    "    K_CLUSTERS = 5\n",
    "    print(f\"K-Means with K={K_CLUSTERS}\")\n",
    "    kmeans = KMeans(n_clusters=K_CLUSTERS, random_state=42, n_init=10)\n",
    "    feature_df['Cluster'] = kmeans.fit_predict(features_scaled)\n",
    "\n",
    "    # --- Analysis & Visualization ---\n",
    "    cluster_centers_scaled = kmeans.cluster_centers_\n",
    "    cluster_centers = scaler.inverse_transform(cluster_centers_scaled)\n",
    "    profile_cols_exist = [col for col in feature_cols_to_use] # Get features used\n",
    "    cluster_profile = pd.DataFrame(cluster_centers, columns=profile_cols_exist)\n",
    "    print(\"\\nCluster Profiles (Average %):\")\n",
    "    print(cluster_profile.round(1))\n",
    "\n",
    "    # --- PCA Visualization ---\n",
    "    print(\"PCA for visualization\")\n",
    "    pca = PCA(n_components=2)\n",
    "    pca_result = pca.fit_transform(features_scaled)\n",
    "    feature_df['PCA1'] = pca_result[:, 0]\n",
    "    feature_df['PCA2'] = pca_result[:, 1]\n",
    "    feature_df_reset = feature_df.reset_index()\n",
    "\n",
    "    fig_h18_pca = px.scatter(feature_df_reset,\n",
    "                         x='PCA1', y='PCA2', color='Cluster', # Use integer Cluster for color mapping\n",
    "                         color_continuous_scale=px.colors.qualitative.Vivid, # Specify qualitative scale\n",
    "                         hover_data={'Institution': True, 'pct_neurips': ':.1f', 'pct_icml': ':.1f',\n",
    "                                     'pct_iclr': ':.1f', 'pct_industry': ':.1f', 'Cluster': True},\n",
    "                         title=f'Institution Clusters (K={K_CLUSTERS}) based on Publication Profile (PCA Visualization)',\n",
    "                         labels={'Cluster': 'Cluster ID'})\n",
    "    fig_h18_pca.update_layout(coloraxis_showscale=False) # Hide continuous bar for qualitative scale\n",
    "    fig_h18_pca.show()\n",
    "\n",
    "    # --- Parallel Coordinates Plot ---\n",
    "    # Prepare data: reset index of the average profiles, rename 'index' to 'Cluster'\n",
    "    plot_data_profiles = cluster_profile.reset_index()\n",
    "    plot_data_profiles = plot_data_profiles.rename(columns={'index': 'Cluster'})\n",
    "\n",
    "    # *** KEEP 'Cluster' AS NUMERICAL (0-4) FOR COLOR MAPPING ***\n",
    "    # plot_data_profiles['Cluster'] = plot_data_profiles['Cluster'].astype(str) # REMOVED THIS CONVERSION\n",
    "\n",
    "    print(\"\\nCluster Profile Comparison Plot\")\n",
    "    fig_profiles = px.parallel_coordinates(\n",
    "        plot_data_profiles,\n",
    "        dimensions=feature_cols_to_use,        # Use only the feature columns for axes\n",
    "        color='Cluster',                       # Use the NUMERICAL Cluster ID for color mapping\n",
    "        color_continuous_scale=px.colors.qualitative.Vivid, # *** APPLY QUALITATIVE SCALE ***\n",
    "        title='Average Publication Profiles by Cluster',\n",
    "        labels={col: col.replace('pct_', '% ').replace('_', ' ').title() for col in feature_cols_to_use}\n",
    "    )\n",
    "    # Optionally hide the color scale bar as it represents discrete categories\n",
    "    fig_profiles.update_layout(coloraxis_showscale=False)\n",
    "    fig_profiles.show()\n"
   ]
  },
  {
   "cell_type": "markdown",
   "id": "497e4713",
   "metadata": {},
   "source": [
    "**Findings:** The K-Means clustering (with $K=5$) identifies distinct groups visualized via PCA and characterized by their average profiles:\n",
    "\n",
    "*   **Cluster 2 (Dark Green on PCA): Industry Giants.** This cluster is characterized by an extremely high average `pct_industry` (98.6%) and a relatively balanced distribution across the three conferences (~60% NeurIPS, ~25% ICML, ~15% ICLR). *Sample Institutions likely include Google, Microsoft, Meta, etc.*\n",
    "*   **Cluster 1 (Light Green on PCA): Balanced Academics.** This large cluster has virtually 0% industry affiliation and a fairly balanced conference profile, slightly favoring NeurIPS (~60%) over ICML (~23%) and ICLR (~17%). *This likely represents many traditional university CS/AI departments.*\n",
    "*   **Cluster 4 (Grey on PCA): ICML-Leaning Academics.** Very similar to Cluster 1 (low industry %), but with a significantly higher average focus on ICML (~42%) and lower NeurIPS focus (~45%) compared to Cluster 1.\n",
    "*   **Cluster 0 (Orange on PCA): NeurIPS-Dominant Academics.** This cluster also has low average industry presence (~16%) but shows a strong preference for NeurIPS (~83%) compared to ICML and ICLR (both ~10% or less).\n",
    "*   **Cluster 3 (Blue on PCA): ICLR-Heavy/Mixed.** This is an interesting cluster with a moderate industry presence (~43%) but a very strong focus on ICLR (~41%), much higher than any other cluster, while having lower NeurIPS presence (~42%).\n",
    "\n",
    "**Conclusion:** **H13 is supported.** Institutions exhibit distinct publication profiles, allowing K-Means to identify meaningful clusters such as industry powerhouses, balanced academic centers, and institutions with specific conference preferences (NeurIPS-dominant, ICML-leaning, ICLR-heavy)."
   ]
  },
  {
   "cell_type": "markdown",
   "id": "feeebcae",
   "metadata": {},
   "source": [
    "## 6. Discussion\n",
    "\n",
    "This analysis of publication trends at NeurIPS, ICML, and ICLR from 2006-2024 reveals several key insights into the evolution of the AI research landscape:\n",
    "\n",
    "*   **Explosive Growth:** The sheer increase in paper volume underscores the field's rapid expansion and the growing importance of these conferences.\n",
    "*   **Geopolitical Shifts:** The dramatic rise of China as a leading contributor, challenging the long-standing dominance of the USA, is arguably the most significant geographic trend. Other regions like Europe maintain a strong presence, while countries like South Korea and India are growing their share.\n",
    "*   **Academia-Industry Dynamics:** Industry's role has transitioned from marginal to substantial, accounting for roughly a third of contributions recently. Collaboration between the two sectors has also increased significantly, reflecting the tightening link between fundamental research and industrial application.\n",
    "*   **Concentration and Elitism:** Research remains heavily concentrated in a relatively small number of globally recognized institutions (both academic and industrial). While there is persistence among the top tier, significant dynamism exists, with new players (e.g., Tsinghua, Peking, Amazon, Mila) rising into the elite ranks in recent years.\n",
    "*   **Globalization:** The increasing trend of international co-authorship suggests a more interconnected global research community.\n",
    "\n",
    "**Limitations:**\n",
    "\n",
    "*   **Data Scope:** The analysis is limited to three major conferences; trends might differ in other venues or subfields. The absence of ICLR 2020 data creates a small gap.\n",
    "*   **Affiliation Parsing:** While the LLM approach was effective, potential errors in institution standardization, country inference, or type classification remain (~2-5% unmapped/unknown). A dedicated post-processing step with fuzzy matching could improve accuracy further.\n",
    "*   **Authorship vs. Impact:** This analysis measures publication volume (authorship instances), not necessarily research impact (e.g., citations, influence). Dominance in publications doesn't directly equate to dominance in groundbreaking research.\n",
    "\n",
    "### Discussion on the ~2015 Dip/Slowdown\n",
    "\n",
    "Several plots, including collaboration trends (H6, H7) show a noticeable dip, slowdown, or inflection point around **2015-2016**. Potential reasons for this observation include:\n",
    "\n",
    "1.  **NeurIPS Format Change/Lag:** NeurIPS (a major contributor to the volume) underwent significant changes around this time. It moved its submission deadline much earlier in 2015 (to May from ~October) for the December conference. This might have disrupted submission patterns for that cycle, potentially causing a temporary dip or displacing some submissions to other venues or the following year. The dataset's start year for ICML (2017) and ICLR (2018, excl. 2020) means the earlier years are dominated by NeurIPS, making NeurIPS-specific fluctuations more apparent in the aggregate plots before 2017.\n",
    "2.  **Rise of Other Venues:** While NeurIPS, ICML, and ICLR are top-tier, the rise of other specialized conferences or workshops around this period might have drawn some papers away, causing a temporary slowdown in the growth rate *at these specific venues*.\n",
    "3.  **\"Deep Learning Winter\" Echoes / Transition Period?:** While the major AI winter was much earlier, 2014-2016 was a period of intense consolidation around deep learning methods after initial breakthroughs (e.g., AlexNet 2012). It's conceivable there was a brief pause or shift in focus before the next wave of major advancements (like attention/transformers gaining traction post-2017) fully accelerated publication rates again.\n",
    "4.  **Data Artifacts:** Although less likely with publication counts, subtle data collection inconsistencies or changes in how conferences reported papers online during that specific year could theoretically contribute.\n",
    "5.  **Saturation/Reviewer Load:** Rapid growth before 2015 might have started straining the peer review system, potentially leading to slightly lower acceptance rates or slower review cycles temporarily affecting the number of published papers for a cycle.\n",
    "\n",
    "Without more specific context on conference policies or submission numbers for those exact years, it's hard to pinpoint a single cause. However, the NeurIPS deadline shift and the general dynamics of a rapidly evolving field transitioning between major paradigms seem like plausible contributing factors."
   ]
  },
  {
   "cell_type": "markdown",
   "id": "91aa844e",
   "metadata": {},
   "source": [
    "## 7. Conclusion\n",
    "\n",
    "The AI research landscape, as viewed through the lens of NeurIPS, ICML, and ICLR publications, is characterized by rapid growth, significant geographic power shifts (especially the rise of China), increasing industry involvement and collaboration, and a persistent but evolving concentration of research within elite global institutions. The use of Large Language Models proved crucial for extracting the necessary structured data from complex affiliation strings, enabling these quantitative insights. Future work could involve expanding the conference scope, refining affiliation normalization, and incorporating citation data for impact analysis."
   ]
  }
 ],
 "metadata": {
  "kernelspec": {
   "display_name": "venv_blog",
   "language": "python",
   "name": "python3"
  },
  "language_info": {
   "codemirror_mode": {
    "name": "ipython",
    "version": 3
   },
   "file_extension": ".py",
   "mimetype": "text/x-python",
   "name": "python",
   "nbconvert_exporter": "python",
   "pygments_lexer": "ipython3",
   "version": "3.12.9"
  }
 },
 "nbformat": 4,
 "nbformat_minor": 5
}
